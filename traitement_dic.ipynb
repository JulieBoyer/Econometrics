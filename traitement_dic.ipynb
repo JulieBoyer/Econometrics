{
 "cells": [
  {
   "cell_type": "markdown",
   "metadata": {},
   "source": [
    "# Traitement_dic"
   ]
  },
  {
   "cell_type": "markdown",
   "metadata": {},
   "source": [
    "## Step 0: We open the file entitled “distances.txt” "
   ]
  },
  {
   "cell_type": "code",
   "execution_count": 40,
   "metadata": {},
   "outputs": [],
   "source": [
    "import pandas as pd\n",
    "import numpy as np\n",
    "\n",
    "# Read the .txt file\n",
    "with open('distances2.txt', 'r') as file:\n",
    "    lines = file.readlines()"
   ]
  },
  {
   "cell_type": "markdown",
   "metadata": {},
   "source": [
    "## Step 1: We separate our text into 20 lists "
   ]
  },
  {
   "cell_type": "code",
   "execution_count": 41,
   "metadata": {},
   "outputs": [],
   "source": [
    "liste_1 = []\n",
    "liste_2 = []\n",
    "liste_3 = []\n",
    "liste_4 = []\n",
    "liste_5 = []\n",
    "liste_6 = []\n",
    "liste_7 = []\n",
    "liste_8 = []\n",
    "liste_9 = []\n",
    "liste_10 = []\n",
    "liste_11 = []\n",
    "liste_12 = []\n",
    "liste_13 = []\n",
    "liste_14 = []\n",
    "liste_15 = []\n",
    "liste_16 = []\n",
    "liste_17 = []\n",
    "liste_18 = []\n",
    "liste_19 = []\n",
    "liste_20 = []\n",
    "\n",
    "\n",
    "for (i,line) in enumerate(lines) :\n",
    " # Suppress spaces and line break\n",
    "    line = line.strip()\n",
    "    \n",
    "# Check if the line is empty (if necessary)\n",
    "    if not line:\n",
    "        continue\n",
    "\n",
    "    # Separate the line in key and value (the last part is the value)\n",
    "    key_value = line.rsplit(maxsplit=1)  # Use rsplit to separate only at the last space occurrence\n",
    "    if i%21==0:\n",
    "        liste_1.append(key_value[1])\n",
    "    elif i%21==1:\n",
    "        liste_2.append(key_value[1])\n",
    "    elif i%21==2:\n",
    "        liste_3.append(key_value[1])\n",
    "    elif i%21==3:\n",
    "        liste_4.append(key_value[1])\n",
    "    elif i%21==4:\n",
    "        liste_5.append(key_value[1])\n",
    "    elif i%21==5:\n",
    "        liste_6.append(key_value[1])\n",
    "    elif i%21==6:\n",
    "        liste_7.append(key_value[1])\n",
    "    elif i%21==7:\n",
    "        liste_8.append(key_value[1])\n",
    "    elif i%21==8:\n",
    "        liste_9.append(key_value[1])\n",
    "    elif i%21==9:\n",
    "        liste_10.append(key_value[1])\n",
    "    elif i%21==10:\n",
    "        liste_11.append(key_value[1])\n",
    "    elif i%21==11:\n",
    "        liste_12.append(key_value[1])\n",
    "    elif i%21==12:\n",
    "        liste_13.append(key_value[1])\n",
    "    elif i%21==13:\n",
    "        liste_14.append(key_value[1])\n",
    "    elif i%21==14:\n",
    "        liste_15.append(key_value[1])\n",
    "    elif i%21==15:\n",
    "        liste_16.append(key_value[1])\n",
    "    elif i%21==16:\n",
    "        liste_17.append(key_value[1])\n",
    "    elif i%21==17:\n",
    "        liste_18.append(key_value[1])\n",
    "    elif i%21==18:\n",
    "        liste_19.append(key_value[1])\n",
    "    elif i%21==19:\n",
    "        liste_20.append(key_value[1])"
   ]
  },
  {
   "cell_type": "markdown",
   "metadata": {},
   "source": [
    "## Step 2: We join the 20 lists into a unique list "
   ]
  },
  {
   "cell_type": "code",
   "execution_count": 42,
   "metadata": {},
   "outputs": [],
   "source": [
    "liste_finale = [liste_1,liste_2,liste_3,liste_4,liste_5,liste_6,liste_7,liste_8,liste_9,liste_10,liste_11,liste_12,liste_13,liste_14,liste_15,liste_16,liste_17,liste_18,liste_19,liste_20]"
   ]
  },
  {
   "cell_type": "markdown",
   "metadata": {},
   "source": [
    "## Step 3: We transform this list into a data frame "
   ]
  },
  {
   "cell_type": "code",
   "execution_count": 43,
   "metadata": {},
   "outputs": [
    {
     "name": "stdout",
     "output_type": "stream",
     "text": [
      "      identifiantpp code_civilité                 Nom     Prénom RPPS_doc  \\\n",
      "0       10000010107           MME  EMMANUEL-POINCELOT  Georgette      NaN   \n",
      "1       10000010867             M             TACONET  CHRISTIAN      NaN   \n",
      "2       10000011808           MME               HAMOT       ENNA      NaN   \n",
      "3       10000012129             M              DIDDEN  JEAN-PAUL      NaN   \n",
      "4       10000012558             M            CHUBERRE       YVES      NaN   \n",
      "...             ...           ...                 ...        ...      ...   \n",
      "85213   10110318671           MME              GACEMI    Djalila      NaN   \n",
      "85214   10110318689           MME               NABTI     Dahlia      NaN   \n",
      "85215   10110318705           MME         LAOUISSETTE     Meriem      NaN   \n",
      "85216   10110318713             M      RAZAFIMANDIMBY  Jean-Marc      NaN   \n",
      "85217   10110318770           MME                SAHI    Keltoum      NaN   \n",
      "\n",
      "      code_geo     xcl      ycl Nb_doct_2km Nb_doct_8km Nb_doct_30km  \\\n",
      "0        33485  453877  6419206    0.001576     0.01208     0.268908   \n",
      "1        95637  628442  6881566    0.000811    0.021161     0.076966   \n",
      "2        75056  652492  6862009    0.504679    0.504679     0.504679   \n",
      "3        11304  633310  6197645    0.000955     0.00191     0.028653   \n",
      "4        56034  243618  6738059    0.002364    0.006145     0.183881   \n",
      "...        ...     ...      ...         ...         ...          ...   \n",
      "85213    94043  652771  6857107    0.006609    0.033166     0.085302   \n",
      "85214    94044  661798  6850019    0.001697    0.041499     0.073913   \n",
      "85215    93047  668525  6867016    0.002285    0.020531     0.063772   \n",
      "85216    94043  652771  6857107    0.006609    0.033166     0.085302   \n",
      "85217    94078  659380  6847987     0.00198    0.022959     0.060009   \n",
      "\n",
      "      Nb_doct_f_2km Nb_doct_f_8km Nb_doct_f_30km Nb_doct_D_2km Nb_doct_D_8km  \\\n",
      "0           0.00105      0.009454       0.108718           0.0       0.00105   \n",
      "1          0.000562      0.010799       0.038327      0.000125      0.001248   \n",
      "2          0.269869      0.269869       0.269869      0.027698      0.027698   \n",
      "3               0.0      0.000318       0.012416           0.0           0.0   \n",
      "4          0.001654      0.004254       0.100685           0.0      0.000236   \n",
      "...             ...           ...            ...           ...           ...   \n",
      "85213      0.003794      0.017664       0.047444      0.000449      0.002611   \n",
      "85214      0.000954      0.023436        0.04111      0.000177       0.00251   \n",
      "85215      0.001178      0.009819       0.030172       0.00025      0.001928   \n",
      "85216      0.003794      0.017664       0.047444      0.000449      0.002611   \n",
      "85217      0.000947      0.012369       0.033376      0.000115       0.00155   \n",
      "\n",
      "      Nb_doct_D_30km Nb_doct_f_D_2km Nb_doct_f_D_8km Nb_doct_f_D_30km  \n",
      "0           0.017857             0.0         0.01208         0.268908  \n",
      "1           0.006804        0.000062        0.021161         0.076966  \n",
      "2           0.027698        0.017218        0.504679         0.504679  \n",
      "3           0.000955             0.0         0.00191         0.028653  \n",
      "4           0.008036             0.0        0.006145         0.183881  \n",
      "...              ...             ...             ...              ...  \n",
      "85213       0.005793        0.000286        0.033166         0.085302  \n",
      "85214       0.005019        0.000141        0.041499         0.073913  \n",
      "85215       0.005606        0.000143        0.020531         0.063772  \n",
      "85216       0.005793        0.000286        0.033166         0.085302  \n",
      "85217       0.004075        0.000029        0.022959         0.060009  \n",
      "\n",
      "[85218 rows x 20 columns]\n"
     ]
    }
   ],
   "source": [
    "dataF = pd.DataFrame(list(zip(*liste_finale)))\n",
    "dataF.rename(columns={0: 'identifiantpp',1: 'code_civilité',2: 'Nom',3: 'Prénom',4: 'RPPS_doc',5: 'code_geo',6: 'xcl',7: 'ycl',8: 'Nb_doct_2km',9: 'Nb_doct_8km',10: 'Nb_doct_30km',11: 'Nb_doct_f_2km',12: 'Nb_doct_f_8km',13: 'Nb_doct_f_30km',14: 'Nb_doct_D_2km',15: 'Nb_doct_D_8km',16: 'Nb_doct_D_30km',17: 'Nb_doct_f_D_2km',18: 'Nb_doct_f_D_8km',19: 'Nb_doct_f_D_30km'}, inplace=True)\n",
    "print(dataF)"
   ]
  },
  {
   "cell_type": "markdown",
   "metadata": {},
   "source": [
    "## Step 4: We merge distances with medecin_gen in dataFF "
   ]
  },
  {
   "cell_type": "code",
   "execution_count": 44,
   "metadata": {},
   "outputs": [],
   "source": [
    "medecin_gen = pd.read_csv('medecin_gen.csv')"
   ]
  },
  {
   "cell_type": "code",
   "execution_count": 45,
   "metadata": {},
   "outputs": [
    {
     "data": {
      "text/plain": [
       "Index(['Unnamed: 0', 'index', 'Doctor Name', 'Specialty', 'card_0', 'card_3',\n",
       "       'card_4', 'Latitude', 'Longitude', 'Skills Processed', 'RPPS',\n",
       "       'Nb Skills', 'moyens_paiement', 'carte_vitale', 'secteur',\n",
       "       'Présentation', 'Langues parlées',\n",
       "       'Diplômes nationaux et universitaires', 'Autres formations',\n",
       "       'Expériences', 'Travaux et publications', 'Prix et distinctions',\n",
       "       'site', 'Site web', 'Formations',\n",
       "       'Diplômes nationaux et universitaires b', 'Nb caractères présentation',\n",
       "       'Autres formations b', 'Travaux et publications b', 'Nb langues',\n",
       "       'Expériences b', 'Formations b', 'Carac_card_1', 'Transport', 'Parking',\n",
       "       'Infos', 'Coordonnées', 'Sans RDV', 'Nb_prix', 'Prix_min', 'Prix_max',\n",
       "       'nb terms card_0', 'nb terms card_3', 'nb terms card_4',\n",
       "       'nb carac card_0', 'nb carac card_3', 'nb carac card_4', 'codecivilité',\n",
       "       'share_F', 'Code commune', 'Code commune2', 'Code Insee',\n",
       "       'Population totale',\n",
       "       'Population standardisée par la consommation de soins par tranche d'âge',\n",
       "       'APL', 'share_Doctolib', 'Fibre', 'codecommunecoordstructure3'],\n",
       "      dtype='object')"
      ]
     },
     "execution_count": 45,
     "metadata": {},
     "output_type": "execute_result"
    }
   ],
   "source": [
    "medecin_gen.columns"
   ]
  },
  {
   "cell_type": "code",
   "execution_count": 46,
   "metadata": {},
   "outputs": [],
   "source": [
    "#type(medecin_gen['RPPS'][0])\n",
    "medecin_gen['RPPS'] = medecin_gen['RPPS'].astype(str)"
   ]
  },
  {
   "cell_type": "code",
   "execution_count": 47,
   "metadata": {},
   "outputs": [],
   "source": [
    "dataFF=medecin_gen.merge(dataF,right_on='identifiantpp',left_on='RPPS',how='inner' )\n",
    "dataFF.drop(columns=['Unnamed: 0'],inplace=True)"
   ]
  },
  {
   "cell_type": "code",
   "execution_count": 48,
   "metadata": {},
   "outputs": [
    {
     "data": {
      "text/plain": [
       "identifiantpp\n",
       "10100661635    49\n",
       "10002186012    36\n",
       "10003135299    36\n",
       "10004396957    36\n",
       "10101338142    25\n",
       "               ..\n",
       "10004428289     1\n",
       "10100915791     1\n",
       "10003193389     1\n",
       "10002353877     1\n",
       "10003464327     1\n",
       "Name: count, Length: 4157, dtype: int64"
      ]
     },
     "execution_count": 48,
     "metadata": {},
     "output_type": "execute_result"
    }
   ],
   "source": [
    "dataFF['identifiantpp'].value_counts()"
   ]
  },
  {
   "cell_type": "code",
   "execution_count": 49,
   "metadata": {},
   "outputs": [
    {
     "name": "stdout",
     "output_type": "stream",
     "text": [
      "Index(['index', 'Doctor Name', 'Specialty', 'card_0', 'card_3', 'card_4',\n",
      "       'Latitude', 'Longitude', 'Skills Processed', 'RPPS', 'Nb Skills',\n",
      "       'moyens_paiement', 'carte_vitale', 'secteur', 'Présentation',\n",
      "       'Langues parlées', 'Diplômes nationaux et universitaires',\n",
      "       'Autres formations', 'Expériences', 'Travaux et publications',\n",
      "       'Prix et distinctions', 'site', 'Site web', 'Formations',\n",
      "       'Diplômes nationaux et universitaires b', 'Nb caractères présentation',\n",
      "       'Autres formations b', 'Travaux et publications b', 'Nb langues',\n",
      "       'Expériences b', 'Formations b', 'Carac_card_1', 'Transport', 'Parking',\n",
      "       'Infos', 'Coordonnées', 'Sans RDV', 'Nb_prix', 'Prix_min', 'Prix_max',\n",
      "       'nb terms card_0', 'nb terms card_3', 'nb terms card_4',\n",
      "       'nb carac card_0', 'nb carac card_3', 'nb carac card_4', 'codecivilité',\n",
      "       'share_F', 'Code commune', 'Code commune2', 'Code Insee',\n",
      "       'Population totale',\n",
      "       'Population standardisée par la consommation de soins par tranche d'âge',\n",
      "       'APL', 'share_Doctolib', 'Fibre', 'codecommunecoordstructure3',\n",
      "       'identifiantpp', 'code_civilité', 'Nom', 'Prénom', 'RPPS_doc',\n",
      "       'code_geo', 'xcl', 'ycl', 'Nb_doct_2km', 'Nb_doct_8km', 'Nb_doct_30km',\n",
      "       'Nb_doct_f_2km', 'Nb_doct_f_8km', 'Nb_doct_f_30km', 'Nb_doct_D_2km',\n",
      "       'Nb_doct_D_8km', 'Nb_doct_D_30km', 'Nb_doct_f_D_2km', 'Nb_doct_f_D_8km',\n",
      "       'Nb_doct_f_D_30km'],\n",
      "      dtype='object')\n"
     ]
    }
   ],
   "source": [
    "print(dataFF.columns)"
   ]
  },
  {
   "cell_type": "code",
   "execution_count": 50,
   "metadata": {},
   "outputs": [
    {
     "data": {
      "text/plain": [
       "(6333, 77)"
      ]
     },
     "execution_count": 50,
     "metadata": {},
     "output_type": "execute_result"
    }
   ],
   "source": [
    "dataFF.shape"
   ]
  },
  {
   "cell_type": "markdown",
   "metadata": {},
   "source": [
    "## Step 5: We save this data frame in a .csv file "
   ]
  },
  {
   "cell_type": "code",
   "execution_count": 51,
   "metadata": {},
   "outputs": [],
   "source": [
    "dataFF.to_csv('dataFF.csv')"
   ]
  }
 ],
 "metadata": {
  "kernelspec": {
   "display_name": "base",
   "language": "python",
   "name": "python3"
  },
  "language_info": {
   "codemirror_mode": {
    "name": "ipython",
    "version": 3
   },
   "file_extension": ".py",
   "mimetype": "text/x-python",
   "name": "python",
   "nbconvert_exporter": "python",
   "pygments_lexer": "ipython3",
   "version": "3.12.2"
  }
 },
 "nbformat": 4,
 "nbformat_minor": 2
}
