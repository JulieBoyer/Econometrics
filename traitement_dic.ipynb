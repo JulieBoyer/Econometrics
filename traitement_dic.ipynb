{
 "cells": [
  {
   "cell_type": "markdown",
   "metadata": {},
   "source": [
    "# Traitement_dic"
   ]
  },
  {
   "cell_type": "markdown",
   "metadata": {},
   "source": [
    "## Step 0: We open the file entitled “distances.txt” "
   ]
  },
  {
   "cell_type": "code",
   "execution_count": null,
   "metadata": {},
   "outputs": [],
   "source": [
    "import pandas as pd\n",
    "import numpy as np\n",
    "\n",
    "# Read the .txt file\n",
    "with open('distances.txt', 'r') as file:\n",
    "    lines = file.readlines()"
   ]
  },
  {
   "cell_type": "markdown",
   "metadata": {},
   "source": [
    "## Step 1: We separate our text into 20 lists "
   ]
  },
  {
   "cell_type": "code",
   "execution_count": 29,
   "metadata": {},
   "outputs": [
    {
     "name": "stdout",
     "output_type": "stream",
     "text": [
      "      identifiantpp code_civilité             Nom     Prénom RPPS_doc  \\\n",
      "0       10000010867             M         TACONET  CHRISTIAN      NaN   \n",
      "1       10000011808           MME           HAMOT       ENNA      NaN   \n",
      "2       10000012129             M          DIDDEN  JEAN-PAUL      NaN   \n",
      "3       10000012558             M        CHUBERRE       YVES      NaN   \n",
      "4       10000013531             M           COSTA   Frédéric      NaN   \n",
      "...             ...           ...             ...        ...      ...   \n",
      "71901   10110318671           MME          GACEMI    Djalila      NaN   \n",
      "71902   10110318689           MME           NABTI     Dahlia      NaN   \n",
      "71903   10110318705           MME     LAOUISSETTE     Meriem      NaN   \n",
      "71904   10110318713             M  RAZAFIMANDIMBY  Jean-Marc      NaN   \n",
      "71905   10110318770           MME            SAHI    Keltoum      NaN   \n",
      "\n",
      "      code_geo     xcl      ycl Nb_doct_2km Nb_doct_8km Nb_doct_30km  \\\n",
      "0        95637  628442  6881566    0.000936    0.016604      0.06236   \n",
      "1        75056  652492  6862009    0.288896    0.288896     0.288896   \n",
      "2        11304  633310  6197645    0.000955    0.001592     0.021331   \n",
      "3        56034  243618  6738059    0.002364    0.005909     0.170409   \n",
      "4        93048  658989  6862633    0.001491     0.00765     0.014115   \n",
      "...        ...     ...      ...         ...         ...          ...   \n",
      "71901    94043  652771  6857107    0.005915    0.025864     0.069188   \n",
      "71902    94044  661798  6850019    0.001485    0.035277     0.059951   \n",
      "71903    93047  668525  6867016    0.002214    0.017889     0.056131   \n",
      "71904    94043  652771  6857107    0.005915    0.025864     0.069188   \n",
      "71905    94078  659380  6847987    0.001951    0.018826     0.048673   \n",
      "\n",
      "      Nb_doct_f_2km Nb_doct_f_8km Nb_doct_f_30km Nb_doct_D_2km Nb_doct_D_8km  \\\n",
      "0          0.000687      0.008115       0.029401           0.0           0.0   \n",
      "1          0.145352      0.145352       0.145352      0.001747      0.001747   \n",
      "2               0.0      0.000318       0.007641           0.0           0.0   \n",
      "3          0.001654      0.004018       0.095958           0.0           0.0   \n",
      "4          0.000808      0.003601       0.006806           0.0      0.000009   \n",
      "...             ...           ...            ...           ...           ...   \n",
      "71901      0.003427      0.013421       0.036674           0.0           0.0   \n",
      "71902      0.000742      0.018169       0.031778           0.0           0.0   \n",
      "71903      0.001143      0.008605       0.027066           0.0      0.000036   \n",
      "71904      0.003427      0.013421       0.036674           0.0           0.0   \n",
      "71905      0.000918      0.008782         0.0258           0.0           0.0   \n",
      "\n",
      "      Nb_doct_D_30km Nb_doct_f_D_2km Nb_doct_f_D_8km Nb_doct_f_D_30km  \n",
      "0           0.000062             0.0        0.016604          0.06236  \n",
      "1           0.001747        0.000561        0.288896         0.288896  \n",
      "2                0.0             0.0        0.001592         0.021331  \n",
      "3                0.0             0.0        0.005909         0.170409  \n",
      "4           0.000009             0.0         0.00765         0.014115  \n",
      "...              ...             ...             ...              ...  \n",
      "71901            0.0             0.0        0.025864         0.069188  \n",
      "71902            0.0             0.0        0.035277         0.059951  \n",
      "71903       0.000036             0.0        0.017889         0.056131  \n",
      "71904            0.0             0.0        0.025864         0.069188  \n",
      "71905            0.0             0.0        0.018826         0.048673  \n",
      "\n",
      "[71906 rows x 20 columns]\n"
     ]
    }
   ],
   "source": [
    "liste_1 = []\n",
    "liste_2 = []\n",
    "liste_3 = []\n",
    "liste_4 = []\n",
    "liste_5 = []\n",
    "liste_6 = []\n",
    "liste_7 = []\n",
    "liste_8 = []\n",
    "liste_9 = []\n",
    "liste_10 = []\n",
    "liste_11 = []\n",
    "liste_12 = []\n",
    "liste_13 = []\n",
    "liste_14 = []\n",
    "liste_15 = []\n",
    "liste_16 = []\n",
    "liste_17 = []\n",
    "liste_18 = []\n",
    "liste_19 = []\n",
    "liste_20 = []\n",
    "\n",
    "\n",
    "for (i,line) in enumerate(lines) :\n",
    " # Suppress spaces and line break\n",
    "    line = line.strip()\n",
    "    \n",
    "# Check if the line is empty (if necessary)\n",
    "    if not line:\n",
    "        continue\n",
    "\n",
    "    # Separate the line in key and value (the last part is the value)\n",
    "    key_value = line.rsplit(maxsplit=1)  # Use rsplit to separate only at the last space occurrence\n",
    "    if i%21==0:\n",
    "        liste_1.append(key_value[1])\n",
    "    elif i%21==1:\n",
    "        liste_2.append(key_value[1])\n",
    "    elif i%21==2:\n",
    "        liste_3.append(key_value[1])\n",
    "    elif i%21==3:\n",
    "        liste_4.append(key_value[1])\n",
    "    elif i%21==4:\n",
    "        liste_5.append(key_value[1])\n",
    "    elif i%21==5:\n",
    "        liste_6.append(key_value[1])\n",
    "    elif i%21==6:\n",
    "        liste_7.append(key_value[1])\n",
    "    elif i%21==7:\n",
    "        liste_8.append(key_value[1])\n",
    "    elif i%21==8:\n",
    "        liste_9.append(key_value[1])\n",
    "    elif i%21==9:\n",
    "        liste_10.append(key_value[1])\n",
    "    elif i%21==10:\n",
    "        liste_11.append(key_value[1])\n",
    "    elif i%21==11:\n",
    "        liste_12.append(key_value[1])\n",
    "    elif i%21==12:\n",
    "        liste_13.append(key_value[1])\n",
    "    elif i%21==13:\n",
    "        liste_14.append(key_value[1])\n",
    "    elif i%21==14:\n",
    "        liste_15.append(key_value[1])\n",
    "    elif i%21==15:\n",
    "        liste_16.append(key_value[1])\n",
    "    elif i%21==16:\n",
    "        liste_17.append(key_value[1])\n",
    "    elif i%21==17:\n",
    "        liste_18.append(key_value[1])\n",
    "    elif i%21==18:\n",
    "        liste_19.append(key_value[1])\n",
    "    elif i%21==19:\n",
    "        liste_20.append(key_value[1])"
   ]
  },
  {
   "cell_type": "markdown",
   "metadata": {},
   "source": [
    "## Step 2: We join the 20 lists into a unique list "
   ]
  },
  {
   "cell_type": "code",
   "execution_count": null,
   "metadata": {},
   "outputs": [],
   "source": [
    "liste_finale = [liste_1,liste_2,liste_3,liste_4,liste_5,liste_6,liste_7,liste_8,liste_9,liste_10,liste_11,liste_12,liste_13,liste_14,liste_15,liste_16,liste_17,liste_18,liste_19,liste_20]"
   ]
  },
  {
   "cell_type": "markdown",
   "metadata": {},
   "source": [
    "## Step 3: We transform this list into a data frame "
   ]
  },
  {
   "cell_type": "code",
   "execution_count": null,
   "metadata": {},
   "outputs": [],
   "source": [
    "dataF = pd.DataFrame(list(zip(*liste_finale)))\n",
    "dataF.rename(columns={0: 'identifiantpp',1: 'code_civilité',2: 'Nom',3: 'Prénom',4: 'RPPS_doc',5: 'code_geo',6: 'xcl',7: 'ycl',8: 'Nb_doct_2km',9: 'Nb_doct_8km',10: 'Nb_doct_30km',11: 'Nb_doct_f_2km',12: 'Nb_doct_f_8km',13: 'Nb_doct_f_30km',14: 'Nb_doct_D_2km',15: 'Nb_doct_D_8km',16: 'Nb_doct_D_30km',17: 'Nb_doct_f_D_2km',18: 'Nb_doct_f_D_8km',19: 'Nb_doct_f_D_30km'}, inplace=True)\n",
    "print(dataF)"
   ]
  },
  {
   "cell_type": "markdown",
   "metadata": {},
   "source": [
    "## Step 4: We merge distances with medecin_gen in dataFF "
   ]
  },
  {
   "cell_type": "code",
   "execution_count": 30,
   "metadata": {},
   "outputs": [],
   "source": [
    "medecin_gen = pd.read_csv('medecin_gen.csv')"
   ]
  },
  {
   "cell_type": "code",
   "execution_count": 31,
   "metadata": {},
   "outputs": [
    {
     "data": {
      "text/plain": [
       "Index(['Unnamed: 0', 'Doctor Name', 'Specialty', 'card_0', 'card_3', 'card_4',\n",
       "       'Latitude', 'Longitude', 'Skills Processed', 'RPPS', 'Nb Skills',\n",
       "       'moyens_paiement', 'carte_vitale', 'secteur', 'Présentation',\n",
       "       'Langues parlées', 'Diplômes nationaux et universitaires',\n",
       "       'Autres formations', 'Expériences', 'Travaux et publications',\n",
       "       'Prix et distinctions', 'site', 'Site web', 'Formations',\n",
       "       'Diplômes nationaux et universitaires b', 'Nb caractères présentation',\n",
       "       'Autres formations b', 'Travaux et publications b', 'Nb langues',\n",
       "       'Expériences b', 'Formations b', 'Carac_card_1', 'Transport', 'Parking',\n",
       "       'Infos', 'Coordonnées', 'Sans RDV', 'nb terms card_0',\n",
       "       'nb terms card_3', 'nb terms card_4', 'nb carac card_0',\n",
       "       'nb carac card_3', 'nb carac card_4', 'APL', 'share_Doctolib', 'Fibre',\n",
       "       'codecommunecoordstructure3'],\n",
       "      dtype='object')"
      ]
     },
     "execution_count": 31,
     "metadata": {},
     "output_type": "execute_result"
    }
   ],
   "source": [
    "medecin_gen.columns"
   ]
  },
  {
   "cell_type": "code",
   "execution_count": 32,
   "metadata": {},
   "outputs": [],
   "source": [
    "#type(medecin_gen['RPPS'][0])\n",
    "medecin_gen['RPPS'] = medecin_gen['RPPS'].astype(str)"
   ]
  },
  {
   "cell_type": "code",
   "execution_count": 33,
   "metadata": {},
   "outputs": [],
   "source": [
    "dataFF=medecin_gen.merge(dataF,right_on='identifiantpp',left_on='RPPS',how='inner' )\n",
    "dataFF.drop(columns=['Unnamed: 0'],inplace=True)"
   ]
  },
  {
   "cell_type": "code",
   "execution_count": 34,
   "metadata": {},
   "outputs": [
    {
     "data": {
      "text/plain": [
       "identifiantpp\n",
       "10000378991    2\n",
       "10001152874    2\n",
       "10001436681    2\n",
       "10001540417    2\n",
       "10004005491    2\n",
       "10000329325    2\n",
       "10100414282    2\n",
       "10003753919    1\n",
       "10000475359    1\n",
       "10003937942    1\n",
       "10004405766    1\n",
       "10000375773    1\n",
       "10100105898    1\n",
       "10002991841    1\n",
       "10003742094    1\n",
       "10001645018    1\n",
       "10001012391    1\n",
       "10001590222    1\n",
       "10100412229    1\n",
       "10100086148    1\n",
       "10001587103    1\n",
       "10005059943    1\n",
       "10001567022    1\n",
       "10001625564    1\n",
       "10003694329    1\n",
       "10000592161    1\n",
       "10001627800    1\n",
       "10001025484    1\n",
       "10000364355    1\n",
       "10100469658    1\n",
       "10000958651    1\n",
       "10000245133    1\n",
       "10000992718    1\n",
       "10000245851    1\n",
       "10100308021    1\n",
       "10000215821    1\n",
       "10001069250    1\n",
       "10100112308    1\n",
       "10001621100    1\n",
       "Name: count, dtype: int64"
      ]
     },
     "execution_count": 34,
     "metadata": {},
     "output_type": "execute_result"
    }
   ],
   "source": [
    "dataFF['identifiantpp'].value_counts()"
   ]
  },
  {
   "cell_type": "code",
   "execution_count": 35,
   "metadata": {},
   "outputs": [
    {
     "name": "stdout",
     "output_type": "stream",
     "text": [
      "Index(['Doctor Name', 'Specialty', 'card_0', 'card_3', 'card_4', 'Latitude',\n",
      "       'Longitude', 'Skills Processed', 'RPPS', 'Nb Skills', 'moyens_paiement',\n",
      "       'carte_vitale', 'secteur', 'Présentation', 'Langues parlées',\n",
      "       'Diplômes nationaux et universitaires', 'Autres formations',\n",
      "       'Expériences', 'Travaux et publications', 'Prix et distinctions',\n",
      "       'site', 'Site web', 'Formations',\n",
      "       'Diplômes nationaux et universitaires b', 'Nb caractères présentation',\n",
      "       'Autres formations b', 'Travaux et publications b', 'Nb langues',\n",
      "       'Expériences b', 'Formations b', 'Carac_card_1', 'Transport', 'Parking',\n",
      "       'Infos', 'Coordonnées', 'Sans RDV', 'nb terms card_0',\n",
      "       'nb terms card_3', 'nb terms card_4', 'nb carac card_0',\n",
      "       'nb carac card_3', 'nb carac card_4', 'APL', 'share_Doctolib', 'Fibre',\n",
      "       'codecommunecoordstructure3', 'identifiantpp', 'code_civilité', 'Nom',\n",
      "       'Prénom', 'RPPS_doc', 'code_geo', 'xcl', 'ycl', 'Nb_doct_2km',\n",
      "       'Nb_doct_8km', 'Nb_doct_30km', 'Nb_doct_f_2km', 'Nb_doct_f_8km',\n",
      "       'Nb_doct_f_30km', 'Nb_doct_D_2km', 'Nb_doct_D_8km', 'Nb_doct_D_30km',\n",
      "       'Nb_doct_f_D_2km', 'Nb_doct_f_D_8km', 'Nb_doct_f_D_30km'],\n",
      "      dtype='object')\n"
     ]
    }
   ],
   "source": [
    "print(dataFF.columns)"
   ]
  },
  {
   "cell_type": "markdown",
   "metadata": {},
   "source": [
    "## Step 5: We save this data frame in a .csv file "
   ]
  },
  {
   "cell_type": "code",
   "execution_count": 36,
   "metadata": {},
   "outputs": [],
   "source": [
    "dataFF.to_csv('dataFF.csv')"
   ]
  }
 ],
 "metadata": {
  "kernelspec": {
   "display_name": "base",
   "language": "python",
   "name": "python3"
  },
  "language_info": {
   "codemirror_mode": {
    "name": "ipython",
    "version": 3
   },
   "file_extension": ".py",
   "mimetype": "text/x-python",
   "name": "python",
   "nbconvert_exporter": "python",
   "pygments_lexer": "ipython3",
   "version": "3.11.4"
  }
 },
 "nbformat": 4,
 "nbformat_minor": 2
}
