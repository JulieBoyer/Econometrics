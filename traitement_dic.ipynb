{
 "cells": [
  {
   "cell_type": "markdown",
   "metadata": {},
   "source": [
    "## Step 0: We open the file entitled “distances.txt” "
   ]
  },
  {
   "cell_type": "code",
   "execution_count": 94,
   "metadata": {},
   "outputs": [],
   "source": [
    "import pandas as pd\n",
    "import numpy as np\n",
    "import geopandas as gpd\n",
    "\n",
    "# Read the .txt file\n",
    "with open('distances2.txt', 'r') as file:\n",
    "    lines = file.readlines()"
   ]
  },
  {
   "cell_type": "markdown",
   "metadata": {},
   "source": [
    "## Step 1: We separate our text into 20 lists "
   ]
  },
  {
   "cell_type": "code",
   "execution_count": 95,
   "metadata": {},
   "outputs": [],
   "source": [
    "liste_1 = []\n",
    "liste_2 = []\n",
    "liste_3 = []\n",
    "liste_4 = []\n",
    "liste_5 = []\n",
    "liste_6 = []\n",
    "liste_7 = []\n",
    "liste_8 = []\n",
    "liste_9 = []\n",
    "liste_10 = []\n",
    "liste_11 = []\n",
    "liste_12 = []\n",
    "liste_13 = []\n",
    "liste_14 = []\n",
    "liste_15 = []\n",
    "liste_16 = []\n",
    "liste_17 = []\n",
    "liste_18 = []\n",
    "liste_19 = []\n",
    "liste_20 = []\n",
    "\n",
    "\n",
    "for (i,line) in enumerate(lines) :\n",
    " # Suppress spaces and line break\n",
    "    line = line.strip()\n",
    "    \n",
    "# Check if the line is empty (if necessary)\n",
    "    if not line:\n",
    "        continue\n",
    "\n",
    "    # Separate the line in key and value (the last part is the value)\n",
    "    key_value = line.rsplit(maxsplit=1)  # Use rsplit to separate only at the last space occurrence\n",
    "    if i%21==0:\n",
    "        liste_1.append(key_value[1])\n",
    "    elif i%21==1:\n",
    "        liste_2.append(key_value[1])\n",
    "    elif i%21==2:\n",
    "        liste_3.append(key_value[1])\n",
    "    elif i%21==3:\n",
    "        liste_4.append(key_value[1])\n",
    "    elif i%21==4:\n",
    "        liste_5.append(key_value[1])\n",
    "    elif i%21==5:\n",
    "        liste_6.append(key_value[1])\n",
    "    elif i%21==6:\n",
    "        liste_7.append(key_value[1])\n",
    "    elif i%21==7:\n",
    "        liste_8.append(key_value[1])\n",
    "    elif i%21==8:\n",
    "        liste_9.append(key_value[1])\n",
    "    elif i%21==9:\n",
    "        liste_10.append(key_value[1])\n",
    "    elif i%21==10:\n",
    "        liste_11.append(key_value[1])\n",
    "    elif i%21==11:\n",
    "        liste_12.append(key_value[1])\n",
    "    elif i%21==12:\n",
    "        liste_13.append(key_value[1])\n",
    "    elif i%21==13:\n",
    "        liste_14.append(key_value[1])\n",
    "    elif i%21==14:\n",
    "        liste_15.append(key_value[1])\n",
    "    elif i%21==15:\n",
    "        liste_16.append(key_value[1])\n",
    "    elif i%21==16:\n",
    "        liste_17.append(key_value[1])\n",
    "    elif i%21==17:\n",
    "        liste_18.append(key_value[1])\n",
    "    elif i%21==18:\n",
    "        liste_19.append(key_value[1])\n",
    "    elif i%21==19:\n",
    "        liste_20.append(key_value[1])"
   ]
  },
  {
   "cell_type": "markdown",
   "metadata": {},
   "source": [
    "## Step 2: We join the 20 lists into a unique list "
   ]
  },
  {
   "cell_type": "code",
   "execution_count": 96,
   "metadata": {},
   "outputs": [],
   "source": [
    "liste_finale = [liste_1,liste_2,liste_3,liste_4,liste_5,liste_6,liste_7,liste_8,liste_9,liste_10,liste_11,liste_12,liste_13,liste_14,liste_15,liste_16,liste_17,liste_18,liste_19,liste_20]"
   ]
  },
  {
   "cell_type": "markdown",
   "metadata": {},
   "source": [
    "## Step 3: We transform this list into a data frame "
   ]
  },
  {
   "cell_type": "code",
   "execution_count": 97,
   "metadata": {},
   "outputs": [
    {
     "name": "stdout",
     "output_type": "stream",
     "text": [
      "      identifiantpp code_civilité                 Nom     Prénom RPPS_doc  \\\n",
      "0       10000010107           MME  EMMANUEL-POINCELOT  Georgette      NaN   \n",
      "1       10000010867             M             TACONET  CHRISTIAN      NaN   \n",
      "2       10000011808           MME               HAMOT       ENNA      NaN   \n",
      "3       10000012129             M              DIDDEN  JEAN-PAUL      NaN   \n",
      "4       10000012558             M            CHUBERRE       YVES      NaN   \n",
      "...             ...           ...                 ...        ...      ...   \n",
      "85213   10110318671           MME              GACEMI    Djalila      NaN   \n",
      "85214   10110318689           MME               NABTI     Dahlia      NaN   \n",
      "85215   10110318705           MME         LAOUISSETTE     Meriem      NaN   \n",
      "85216   10110318713             M      RAZAFIMANDIMBY  Jean-Marc      NaN   \n",
      "85217   10110318770           MME                SAHI    Keltoum      NaN   \n",
      "\n",
      "      code_geo     xcl      ycl Nb_doct_2km Nb_doct_8km Nb_doct_30km  \\\n",
      "0        33485  453877  6419206    0.001576     0.01208     0.268908   \n",
      "1        95637  628442  6881566    0.000811    0.021161     0.076966   \n",
      "2        75056  652492  6862009    0.504679    0.504679     0.504679   \n",
      "3        11304  633310  6197645    0.000955     0.00191     0.028653   \n",
      "4        56034  243618  6738059    0.002364    0.006145     0.183881   \n",
      "...        ...     ...      ...         ...         ...          ...   \n",
      "85213    94043  652771  6857107    0.006609    0.033166     0.085302   \n",
      "85214    94044  661798  6850019    0.001697    0.041499     0.073913   \n",
      "85215    93047  668525  6867016    0.002285    0.020531     0.063772   \n",
      "85216    94043  652771  6857107    0.006609    0.033166     0.085302   \n",
      "85217    94078  659380  6847987     0.00198    0.022959     0.060009   \n",
      "\n",
      "      Nb_doct_f_2km Nb_doct_f_8km Nb_doct_f_30km Nb_doct_D_2km Nb_doct_D_8km  \\\n",
      "0           0.00105      0.009454       0.108718           0.0       0.00105   \n",
      "1          0.000562      0.010799       0.038327      0.000125      0.001248   \n",
      "2          0.269869      0.269869       0.269869      0.027698      0.027698   \n",
      "3               0.0      0.000318       0.012416           0.0           0.0   \n",
      "4          0.001654      0.004254       0.100685           0.0      0.000236   \n",
      "...             ...           ...            ...           ...           ...   \n",
      "85213      0.003794      0.017664       0.047444      0.000449      0.002611   \n",
      "85214      0.000954      0.023436        0.04111      0.000177       0.00251   \n",
      "85215      0.001178      0.009819       0.030172       0.00025      0.001928   \n",
      "85216      0.003794      0.017664       0.047444      0.000449      0.002611   \n",
      "85217      0.000947      0.012369       0.033376      0.000115       0.00155   \n",
      "\n",
      "      Nb_doct_D_30km Nb_doct_f_D_2km Nb_doct_f_D_8km Nb_doct_f_D_30km  \n",
      "0           0.017857             0.0         0.01208         0.268908  \n",
      "1           0.006804        0.000062        0.021161         0.076966  \n",
      "2           0.027698        0.017218        0.504679         0.504679  \n",
      "3           0.000955             0.0         0.00191         0.028653  \n",
      "4           0.008036             0.0        0.006145         0.183881  \n",
      "...              ...             ...             ...              ...  \n",
      "85213       0.005793        0.000286        0.033166         0.085302  \n",
      "85214       0.005019        0.000141        0.041499         0.073913  \n",
      "85215       0.005606        0.000143        0.020531         0.063772  \n",
      "85216       0.005793        0.000286        0.033166         0.085302  \n",
      "85217       0.004075        0.000029        0.022959         0.060009  \n",
      "\n",
      "[85218 rows x 20 columns]\n"
     ]
    }
   ],
   "source": [
    "dataF = pd.DataFrame(list(zip(*liste_finale)))\n",
    "dataF.rename(columns={0: 'identifiantpp',1: 'code_civilité',2: 'Nom',3: 'Prénom',4: 'RPPS_doc',5: 'code_geo',6: 'xcl',7: 'ycl',8: 'Nb_doct_2km',9: 'Nb_doct_8km',10: 'Nb_doct_30km',11: 'Nb_doct_f_2km',12: 'Nb_doct_f_8km',13: 'Nb_doct_f_30km',14: 'Nb_doct_D_2km',15: 'Nb_doct_D_8km',16: 'Nb_doct_D_30km',17: 'Nb_doct_f_D_2km',18: 'Nb_doct_f_D_8km',19: 'Nb_doct_f_D_30km'}, inplace=True)\n",
    "print(dataF)"
   ]
  },
  {
   "cell_type": "markdown",
   "metadata": {},
   "source": [
    "# Step 4: We add the good code commune to medecin_gen to do a good merge later with dataF"
   ]
  },
  {
   "cell_type": "code",
   "execution_count": 98,
   "metadata": {},
   "outputs": [
    {
     "data": {
      "text/plain": [
       "(5267, 105)"
      ]
     },
     "execution_count": 98,
     "metadata": {},
     "output_type": "execute_result"
    }
   ],
   "source": [
    "medecin_gen = pd.read_csv('medecin_gen.csv')\n",
    "medecin_gen.shape\n",
    "#5289 doctors"
   ]
  },
  {
   "cell_type": "code",
   "execution_count": 99,
   "metadata": {},
   "outputs": [
    {
     "data": {
      "text/plain": [
       "Index(['Unnamed: 0', 'level_0', 'identifiantpp', 'identificationnationalepp',\n",
       "       'codecivilité', 'nomdexercice', 'prénomdexercice',\n",
       "       'codecatégorieprofessionnelle', 'codesavoirfaire', 'libellésavoirfaire',\n",
       "       ...\n",
       "       'Population', 'Superficie', 'Naissances', 'Deces', 'Logements',\n",
       "       'Ménages', 'MED14', 'Population_P_actif', 'Chomeurs', 'Actifs'],\n",
       "      dtype='object', length=105)"
      ]
     },
     "execution_count": 99,
     "metadata": {},
     "output_type": "execute_result"
    }
   ],
   "source": [
    "medecin_gen.columns"
   ]
  },
  {
   "cell_type": "code",
   "execution_count": 100,
   "metadata": {},
   "outputs": [
    {
     "data": {
      "text/plain": [
       "4539"
      ]
     },
     "execution_count": 100,
     "metadata": {},
     "output_type": "execute_result"
    }
   ],
   "source": [
    "len(medecin_gen['RPPS'].unique())"
   ]
  },
  {
   "cell_type": "code",
   "execution_count": 101,
   "metadata": {},
   "outputs": [],
   "source": [
    "medecin_gen['RPPS'] = medecin_gen['RPPS'].astype(str)"
   ]
  },
  {
   "cell_type": "code",
   "execution_count": 102,
   "metadata": {},
   "outputs": [
    {
     "data": {
      "text/html": [
       "<div>\n",
       "<style scoped>\n",
       "    .dataframe tbody tr th:only-of-type {\n",
       "        vertical-align: middle;\n",
       "    }\n",
       "\n",
       "    .dataframe tbody tr th {\n",
       "        vertical-align: top;\n",
       "    }\n",
       "\n",
       "    .dataframe thead th {\n",
       "        text-align: right;\n",
       "    }\n",
       "</style>\n",
       "<table border=\"1\" class=\"dataframe\">\n",
       "  <thead>\n",
       "    <tr style=\"text-align: right;\">\n",
       "      <th></th>\n",
       "      <th>id</th>\n",
       "      <th>codgeo</th>\n",
       "      <th>dep</th>\n",
       "      <th>reg</th>\n",
       "      <th>xcl2154</th>\n",
       "      <th>ycl2154</th>\n",
       "      <th>libgeo</th>\n",
       "      <th>geometry</th>\n",
       "    </tr>\n",
       "  </thead>\n",
       "  <tbody>\n",
       "    <tr>\n",
       "      <th>0</th>\n",
       "      <td>None</td>\n",
       "      <td>01001</td>\n",
       "      <td>01</td>\n",
       "      <td>84</td>\n",
       "      <td>848241</td>\n",
       "      <td>6563021</td>\n",
       "      <td>L'Abergement-Clémenciat</td>\n",
       "      <td>POLYGON ((846981.436 6564107.360, 847017.457 6...</td>\n",
       "    </tr>\n",
       "    <tr>\n",
       "      <th>1</th>\n",
       "      <td>None</td>\n",
       "      <td>01002</td>\n",
       "      <td>01</td>\n",
       "      <td>84</td>\n",
       "      <td>887495</td>\n",
       "      <td>6548152</td>\n",
       "      <td>L'Abergement-de-Varey</td>\n",
       "      <td>POLYGON ((886027.651 6548170.900, 886157.325 6...</td>\n",
       "    </tr>\n",
       "    <tr>\n",
       "      <th>2</th>\n",
       "      <td>None</td>\n",
       "      <td>01004</td>\n",
       "      <td>01</td>\n",
       "      <td>84</td>\n",
       "      <td>882724</td>\n",
       "      <td>6542583</td>\n",
       "      <td>Ambérieu-en-Bugey</td>\n",
       "      <td>POLYGON ((884889.404 6539629.931, 884795.750 6...</td>\n",
       "    </tr>\n",
       "    <tr>\n",
       "      <th>3</th>\n",
       "      <td>None</td>\n",
       "      <td>01005</td>\n",
       "      <td>01</td>\n",
       "      <td>84</td>\n",
       "      <td>847277</td>\n",
       "      <td>6545791</td>\n",
       "      <td>Ambérieux-en-Dombes</td>\n",
       "      <td>POLYGON ((845951.250 6547999.078, 846073.720 6...</td>\n",
       "    </tr>\n",
       "    <tr>\n",
       "      <th>4</th>\n",
       "      <td>None</td>\n",
       "      <td>01006</td>\n",
       "      <td>01</td>\n",
       "      <td>84</td>\n",
       "      <td>902191</td>\n",
       "      <td>6519791</td>\n",
       "      <td>Ambléon</td>\n",
       "      <td>POLYGON ((901336.361 6521123.305, 902460.201 6...</td>\n",
       "    </tr>\n",
       "  </tbody>\n",
       "</table>\n",
       "</div>"
      ],
      "text/plain": [
       "     id codgeo dep reg  xcl2154  ycl2154                   libgeo  \\\n",
       "0  None  01001  01  84   848241  6563021  L'Abergement-Clémenciat   \n",
       "1  None  01002  01  84   887495  6548152    L'Abergement-de-Varey   \n",
       "2  None  01004  01  84   882724  6542583        Ambérieu-en-Bugey   \n",
       "3  None  01005  01  84   847277  6545791      Ambérieux-en-Dombes   \n",
       "4  None  01006  01  84   902191  6519791                  Ambléon   \n",
       "\n",
       "                                            geometry  \n",
       "0  POLYGON ((846981.436 6564107.360, 847017.457 6...  \n",
       "1  POLYGON ((886027.651 6548170.900, 886157.325 6...  \n",
       "2  POLYGON ((884889.404 6539629.931, 884795.750 6...  \n",
       "3  POLYGON ((845951.250 6547999.078, 846073.720 6...  \n",
       "4  POLYGON ((901336.361 6521123.305, 902460.201 6...  "
      ]
     },
     "execution_count": 102,
     "metadata": {},
     "output_type": "execute_result"
    }
   ],
   "source": [
    "gdf = gpd.read_file('data/a-com2022-topo-2154.json')\n",
    "gdf.head()"
   ]
  },
  {
   "cell_type": "code",
   "execution_count": 103,
   "metadata": {},
   "outputs": [],
   "source": [
    "def codecom2(codecom1):\n",
    "    if str(codecom1).startswith('75'):\n",
    "        return('75056')\n",
    "    elif str(codecom1).startswith('693'):\n",
    "        return('69123')\n",
    "    elif str(codecom1).startswith('132'):\n",
    "        return('13055')\n",
    "    elif str(codecom1).startswith('91182'):\n",
    "        return('91228')\n",
    "    elif str(codecom1).startswith('85257'):\n",
    "        return('85090')\n",
    "    elif str(codecom1).startswith('85217'):\n",
    "        return('85146')\n",
    "    elif str(codecom1).startswith('85166'):\n",
    "        return('85194')\n",
    "    elif str(codecom1).startswith('74011'):\n",
    "        return('74010')\n",
    "    elif str(codecom1).startswith('74181'):\n",
    "        return('74112')\n",
    "    elif str(codecom1).startswith('74268') or str(codecom1).startswith('74093') or str(codecom1).startswith('74217'):\n",
    "        return('74010')\n",
    "    elif str(codecom1).startswith('50203'):\n",
    "        return('50129')\n",
    "    elif str(codecom1).startswith('59540'):\n",
    "        return('59139')\n",
    "    elif str(codecom1).startswith('49199'):\n",
    "        return('71291')\n",
    "    elif str(codecom1).startswith('29052'):\n",
    "        return('29003')\n",
    "    elif str(codecom1).startswith('85060'):\n",
    "        return('85194')\n",
    "    elif str(codecom1).startswith('50602'):\n",
    "        return('50129')\n",
    "    elif str(codecom1).startswith('49285'):\n",
    "        return('49301')\n",
    "    elif str(codecom1).startswith('85107'):\n",
    "        return('85146')\n",
    "    elif str(codecom1).startswith('50173'):\n",
    "        return('50129')\n",
    "    elif str(codecom1).startswith('49065'):\n",
    "        return('49080')   \n",
    "    elif str(codecom1).startswith('49375'):\n",
    "        return('49023')\n",
    "    elif str(codecom1).startswith('85069'):\n",
    "        return('85008')  \n",
    "    elif str(codecom1).startswith('85069'):\n",
    "        return('85008')   \n",
    "    elif str(codecom1).startswith('49276'):\n",
    "        return('49244') \n",
    "    elif str(codecom1).startswith('49273'):\n",
    "        return('49301')\n",
    "    elif 'A' in str(codecom1):\n",
    "        return(str(codecom1).replace('A','0'))\n",
    "    elif 'B' in str(codecom1):\n",
    "        return(str(codecom1).replace('B','0'))  \n",
    "    elif int(codecom1)//10000==0:\n",
    "        return('0'+str(codecom1))\n",
    "    else :\n",
    "        return(str(codecom1))"
   ]
  },
  {
   "cell_type": "code",
   "execution_count": 104,
   "metadata": {},
   "outputs": [
    {
     "data": {
      "text/plain": [
       "numpy.int64"
      ]
     },
     "execution_count": 104,
     "metadata": {},
     "output_type": "execute_result"
    }
   ],
   "source": [
    "type(medecin_gen['codecommunecoordstructure'][0])"
   ]
  },
  {
   "cell_type": "code",
   "execution_count": 105,
   "metadata": {},
   "outputs": [
    {
     "data": {
      "text/plain": [
       "0"
      ]
     },
     "execution_count": 105,
     "metadata": {},
     "output_type": "execute_result"
    }
   ],
   "source": [
    "medecin_gen['codecommunecoordstructure'].isnull().sum()"
   ]
  },
  {
   "cell_type": "code",
   "execution_count": 106,
   "metadata": {},
   "outputs": [],
   "source": [
    "medecin_gen['code_commune2'] = medecin_gen['codecommunecoordstructure'].apply(codecom2)"
   ]
  },
  {
   "cell_type": "code",
   "execution_count": 107,
   "metadata": {},
   "outputs": [],
   "source": [
    "df_merged_gdf = medecin_gen.merge(gdf, how='inner', left_on='code_commune2', right_on='codgeo')"
   ]
  },
  {
   "cell_type": "code",
   "execution_count": 109,
   "metadata": {},
   "outputs": [],
   "source": [
    "medecin_gen['codecommunecoordstructure3']=medecin_gen['codecommunecoordstructure3'].astype(str)"
   ]
  },
  {
   "cell_type": "code",
   "execution_count": 110,
   "metadata": {},
   "outputs": [],
   "source": [
    "df_merged_gdf3=medecin_gen.merge(gdf, how='inner', left_on='codecommunecoordstructure3', right_on='codgeo')"
   ]
  },
  {
   "cell_type": "code",
   "execution_count": 111,
   "metadata": {},
   "outputs": [
    {
     "data": {
      "text/plain": [
       "(5030, 114)"
      ]
     },
     "execution_count": 111,
     "metadata": {},
     "output_type": "execute_result"
    }
   ],
   "source": [
    "df_merged_gdf3.shape"
   ]
  },
  {
   "cell_type": "code",
   "execution_count": 112,
   "metadata": {},
   "outputs": [
    {
     "data": {
      "text/plain": [
       "(5265, 114)"
      ]
     },
     "execution_count": 112,
     "metadata": {},
     "output_type": "execute_result"
    }
   ],
   "source": [
    "df_merged_gdf.shape\n",
    "#5033 doctors, 256 doctors have been lost"
   ]
  },
  {
   "cell_type": "code",
   "execution_count": 113,
   "metadata": {},
   "outputs": [
    {
     "data": {
      "text/plain": [
       "4538"
      ]
     },
     "execution_count": 113,
     "metadata": {},
     "output_type": "execute_result"
    }
   ],
   "source": [
    "len(df_merged_gdf['RPPS'].unique())"
   ]
  },
  {
   "cell_type": "code",
   "execution_count": 114,
   "metadata": {},
   "outputs": [],
   "source": [
    "#First attempt to merge\n",
    "dataFF_outer = medecin_gen.merge(dataF, how='outer', right_on=['identifiantpp','code_geo'],left_on=['RPPS','codecommunecoordstructure3'], indicator=True)\n",
    "#Filter the lines without any match in the data frame\n",
    "medecin_no_match = dataFF_outer[dataFF_outer['_merge'] == 'left_only']\n",
    "dataF_no_match = dataFF_outer[dataFF_outer['_merge'] == 'right_only']"
   ]
  },
  {
   "cell_type": "code",
   "execution_count": 115,
   "metadata": {},
   "outputs": [
    {
     "data": {
      "text/plain": [
       "Index(['Unnamed: 0', 'level_0', 'identifiantpp', 'identificationnationalepp',\n",
       "       'codecivilité', 'nomdexercice', 'prénomdexercice',\n",
       "       'codecatégorieprofessionnelle', 'codesavoirfaire', 'libellésavoirfaire',\n",
       "       ...\n",
       "       'Superficie', 'Naissances', 'Deces', 'Logements', 'Ménages', 'MED14',\n",
       "       'Population_P_actif', 'Chomeurs', 'Actifs', 'code_commune2'],\n",
       "      dtype='object', length=106)"
      ]
     },
     "execution_count": 115,
     "metadata": {},
     "output_type": "execute_result"
    }
   ],
   "source": [
    "medecin_gen.columns"
   ]
  },
  {
   "cell_type": "code",
   "execution_count": 116,
   "metadata": {},
   "outputs": [],
   "source": [
    "dataFF_inner = df_merged_gdf.merge(dataF, how='inner', right_on=['identifiantpp','code_geo'],left_on=['RPPS','code_commune2'], indicator=True)"
   ]
  },
  {
   "cell_type": "code",
   "execution_count": 117,
   "metadata": {},
   "outputs": [
    {
     "data": {
      "text/plain": [
       "(4931, 135)"
      ]
     },
     "execution_count": 117,
     "metadata": {},
     "output_type": "execute_result"
    }
   ],
   "source": [
    "dataFF_inner.shape"
   ]
  },
  {
   "cell_type": "code",
   "execution_count": 118,
   "metadata": {},
   "outputs": [
    {
     "data": {
      "text/plain": [
       "4157"
      ]
     },
     "execution_count": 118,
     "metadata": {},
     "output_type": "execute_result"
    }
   ],
   "source": [
    "len(dataFF_inner['RPPS'].unique())"
   ]
  },
  {
   "cell_type": "code",
   "execution_count": 127,
   "metadata": {},
   "outputs": [
    {
     "data": {
      "text/plain": [
       "Index(['Unnamed: 0', 'level_0', 'identifiantpp', 'identificationnationalepp',\n",
       "       'codecivilité', 'nomdexercice', 'prénomdexercice',\n",
       "       'codecatégorieprofessionnelle', 'codesavoirfaire', 'libellésavoirfaire',\n",
       "       ...\n",
       "       'Superficie', 'Naissances', 'Deces', 'Logements', 'Ménages', 'MED14',\n",
       "       'Population_P_actif', 'Chomeurs', 'Actifs', 'code_commune2'],\n",
       "      dtype='object', length=106)"
      ]
     },
     "execution_count": 127,
     "metadata": {},
     "output_type": "execute_result"
    }
   ],
   "source": [
    "medecin_gen.columns\n"
   ]
  },
  {
   "cell_type": "code",
   "execution_count": 126,
   "metadata": {},
   "outputs": [
    {
     "name": "stdout",
     "output_type": "stream",
     "text": [
      "Unexpected exception formatting exception. Falling back to standard exception\n"
     ]
    },
    {
     "name": "stderr",
     "output_type": "stream",
     "text": [
      "Traceback (most recent call last):\n",
      "  File \"/Users/julie/miniconda3/lib/python3.11/site-packages/IPython/core/interactiveshell.py\", line 3526, in run_code\n",
      "    exec(code_obj, self.user_global_ns, self.user_ns)\n",
      "  File \"/var/folders/rf/dqdwsk6s06ngm9b4j17fkb2r0000gn/T/ipykernel_36096/3307865019.py\", line 1, in <module>\n",
      "    dataFF=medecin_gen.merge(dataF,left_on=['identifiantpp','codecommunecoordstructure3'],right_on=['RPPS','code_geo'],how='inner' )\n",
      "           ^^^^^^^^^^^^^^^^^^^^^^^^^^^^^^^^^^^^^^^^^^^^^^^^^^^^^^^^^^^^^^^^^^^^^^^^^^^^^^^^^^^^^^^^^^^^^^^^^^^^^^^^^^^^^^^^^^^^^^^^^\n",
      "  File \"/Users/julie/miniconda3/lib/python3.11/site-packages/pandas/core/frame.py\", line 10832, in merge\n",
      "    return merge(\n",
      "           ^^^^^^\n",
      "  File \"/Users/julie/miniconda3/lib/python3.11/site-packages/pandas/core/reshape/merge.py\", line 170, in merge\n",
      "    op = _MergeOperation(\n",
      "         ^^^^^^^^^^^^^^^^\n",
      "  File \"/Users/julie/miniconda3/lib/python3.11/site-packages/pandas/core/reshape/merge.py\", line 794, in __init__\n",
      "    ) = self._get_merge_keys()\n",
      "        ^^^^^^^^^^^^^^^^^^^^^^\n",
      "  File \"/Users/julie/miniconda3/lib/python3.11/site-packages/pandas/core/reshape/merge.py\", line 1297, in _get_merge_keys\n",
      "    right_keys.append(right._get_label_or_level_values(rk))\n",
      "                      ^^^^^^^^^^^^^^^^^^^^^^^^^^^^^^^^^^^^\n",
      "  File \"/Users/julie/miniconda3/lib/python3.11/site-packages/pandas/core/generic.py\", line 1911, in _get_label_or_level_values\n",
      "    raise KeyError(key)\n",
      "KeyError: 'RPPS'\n",
      "\n",
      "During handling of the above exception, another exception occurred:\n",
      "\n",
      "Traceback (most recent call last):\n",
      "  File \"/Users/julie/miniconda3/lib/python3.11/site-packages/IPython/core/interactiveshell.py\", line 2120, in showtraceback\n",
      "    stb = self.InteractiveTB.structured_traceback(\n",
      "          ^^^^^^^^^^^^^^^^^^^^^^^^^^^^^^^^^^^^^^^^\n",
      "  File \"/Users/julie/miniconda3/lib/python3.11/site-packages/IPython/core/ultratb.py\", line 1435, in structured_traceback\n",
      "    return FormattedTB.structured_traceback(\n",
      "           ^^^^^^^^^^^^^^^^^^^^^^^^^^^^^^^^^\n",
      "  File \"/Users/julie/miniconda3/lib/python3.11/site-packages/IPython/core/ultratb.py\", line 1326, in structured_traceback\n",
      "    return VerboseTB.structured_traceback(\n",
      "           ^^^^^^^^^^^^^^^^^^^^^^^^^^^^^^^\n",
      "  File \"/Users/julie/miniconda3/lib/python3.11/site-packages/IPython/core/ultratb.py\", line 1173, in structured_traceback\n",
      "    formatted_exception = self.format_exception_as_a_whole(etype, evalue, etb, number_of_lines_of_context,\n",
      "                          ^^^^^^^^^^^^^^^^^^^^^^^^^^^^^^^^^^^^^^^^^^^^^^^^^^^^^^^^^^^^^^^^^^^^^^^^^^^^^^^^\n",
      "  File \"/Users/julie/miniconda3/lib/python3.11/site-packages/IPython/core/ultratb.py\", line 1063, in format_exception_as_a_whole\n",
      "    self.get_records(etb, number_of_lines_of_context, tb_offset) if etb else []\n",
      "    ^^^^^^^^^^^^^^^^^^^^^^^^^^^^^^^^^^^^^^^^^^^^^^^^^^^^^^^^^^^^\n",
      "  File \"/Users/julie/miniconda3/lib/python3.11/site-packages/IPython/core/ultratb.py\", line 1115, in get_records\n",
      "    style = stack_data.style_with_executing_node(style, self._tb_highlight)\n",
      "            ^^^^^^^^^^^^^^^^^^^^^^^^^^^^^^^^^^^^^^^^^^^^^^^^^^^^^^^^^^^^^^^\n",
      "  File \"/Users/julie/miniconda3/lib/python3.11/site-packages/stack_data/core.py\", line 455, in style_with_executing_node\n",
      "    class NewStyle(style):\n",
      "  File \"/Users/julie/miniconda3/lib/python3.11/site-packages/pygments/style.py\", line 91, in __new__\n",
      "    ndef[4] = colorformat(styledef[3:])\n",
      "              ^^^^^^^^^^^^^^^^^^^^^^^^^\n",
      "  File \"/Users/julie/miniconda3/lib/python3.11/site-packages/pygments/style.py\", line 58, in colorformat\n",
      "    assert False, \"wrong color format %r\" % text\n",
      "AssertionError: wrong color format 'ansiyellow'\n"
     ]
    }
   ],
   "source": [
    "dataFF=medecin_gen.merge(dataF,left_on=['identifiantpp','codecommunecoordstructure3'],right_on=['RPPS','code_geo'],how='inner' )\n",
    "dataFF.drop(columns=['Unnamed: 0'],inplace=True)\n",
    "dataFF.shape"
   ]
  },
  {
   "cell_type": "code",
   "execution_count": 59,
   "metadata": {},
   "outputs": [
    {
     "data": {
      "text/plain": [
       "4157"
      ]
     },
     "execution_count": 59,
     "metadata": {},
     "output_type": "execute_result"
    }
   ],
   "source": [
    "len(dataFF['RPPS'].unique())"
   ]
  },
  {
   "cell_type": "markdown",
   "metadata": {},
   "source": [
    "## Step 5: We save this data frame in a .csv file "
   ]
  },
  {
   "cell_type": "code",
   "execution_count": 73,
   "metadata": {},
   "outputs": [],
   "source": [
    "dataFF.to_csv('dataFF.csv')"
   ]
  }
 ],
 "metadata": {
  "kernelspec": {
   "display_name": "base",
   "language": "python",
   "name": "python3"
  },
  "language_info": {
   "codemirror_mode": {
    "name": "ipython",
    "version": 3
   },
   "file_extension": ".py",
   "mimetype": "text/x-python",
   "name": "python",
   "nbconvert_exporter": "python",
   "pygments_lexer": "ipython3",
   "version": "3.12.2"
  }
 },
 "nbformat": 4,
 "nbformat_minor": 2
}
