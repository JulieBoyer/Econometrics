{
 "cells": [
  {
   "cell_type": "code",
   "execution_count": 43,
   "metadata": {
    "vscode": {
     "languageId": "shellscript"
    }
   },
   "outputs": [],
   "source": [
    "import pandas as pd\n",
    "import ast \n",
    "import numpy as np"
   ]
  },
  {
   "cell_type": "code",
   "execution_count": 44,
   "metadata": {
    "vscode": {
     "languageId": "shellscript"
    }
   },
   "outputs": [
    {
     "data": {
      "text/html": [
       "<div>\n",
       "<style scoped>\n",
       "    .dataframe tbody tr th:only-of-type {\n",
       "        vertical-align: middle;\n",
       "    }\n",
       "\n",
       "    .dataframe tbody tr th {\n",
       "        vertical-align: top;\n",
       "    }\n",
       "\n",
       "    .dataframe thead th {\n",
       "        text-align: right;\n",
       "    }\n",
       "</style>\n",
       "<table border=\"1\" class=\"dataframe\">\n",
       "  <thead>\n",
       "    <tr style=\"text-align: right;\">\n",
       "      <th></th>\n",
       "      <th>Doctor Name</th>\n",
       "      <th>Specialty</th>\n",
       "      <th>Map Location</th>\n",
       "      <th>Skills</th>\n",
       "      <th>Profile Cards</th>\n",
       "      <th>URL</th>\n",
       "    </tr>\n",
       "  </thead>\n",
       "  <tbody>\n",
       "    <tr>\n",
       "      <th>0</th>\n",
       "      <td>Dr Marian AGACHI</td>\n",
       "      <td>Neurochirurgien</td>\n",
       "      <td>{\"lat\":48.8783278,\"lng\":2.431033999999954,\"ful...</td>\n",
       "      <td>Expertises et actes\\nNeurochirurgie du rachis</td>\n",
       "      <td>{'card_0': 'Centre Floréal\\nLieu 2\\nLieu 3\\nCe...</td>\n",
       "      <td>https://www.doctolib.fr/neurochirurgien/paris/...</td>\n",
       "    </tr>\n",
       "    <tr>\n",
       "      <th>1</th>\n",
       "      <td>Dr Anne Vaillant Moga</td>\n",
       "      <td>Médecin généraliste</td>\n",
       "      <td>{\"lat\":48.8692182,\"lng\":2.285468,\"fullAddress\"...</td>\n",
       "      <td>Expertises et actes\\nAcné\\nAllergie\\nApnée du ...</td>\n",
       "      <td>{'card_0': \"Lieu 1\\nLieu 2\\nDr Anne Moga (Pari...</td>\n",
       "      <td>https://www.doctolib.fr/medecin-generaliste/pa...</td>\n",
       "    </tr>\n",
       "    <tr>\n",
       "      <th>2</th>\n",
       "      <td>Dr Gabriel Ohana</td>\n",
       "      <td>Chirurgien-dentiste</td>\n",
       "      <td>{\"lat\":48.8941478,\"lng\":2.2506978,\"fullAddress...</td>\n",
       "      <td>Expertises et actes\\nChirurgie buccale\\nProthè...</td>\n",
       "      <td>{'card_0': 'Tarifs et remboursement\\n\\nCarte V...</td>\n",
       "      <td>https://www.doctolib.fr/dentiste/courbevoie/ga...</td>\n",
       "    </tr>\n",
       "    <tr>\n",
       "      <th>3</th>\n",
       "      <td>Dr Thomas BAMBERGER</td>\n",
       "      <td>Dermatologue et vénérologue</td>\n",
       "      <td>{\"lat\":48.8154325,\"lng\":2.3430171,\"fullAddress...</td>\n",
       "      <td>Skills missing</td>\n",
       "      <td>{'card_0': 'Tarifs et remboursement\\n\\n\\nConve...</td>\n",
       "      <td>https://www.doctolib.fr/dermatologue/gentilly/...</td>\n",
       "    </tr>\n",
       "    <tr>\n",
       "      <th>4</th>\n",
       "      <td>Dr Layla Chatila</td>\n",
       "      <td>Chirurgien-dentiste</td>\n",
       "      <td>{\"lat\":48.8588045,\"lng\":2.274392,\"fullAddress\"...</td>\n",
       "      <td>Skills missing</td>\n",
       "      <td>{'card_0': 'Tarifs et remboursement\\n\\n\\n\\nCon...</td>\n",
       "      <td>https://www.doctolib.fr/dentiste/paris/layla-c...</td>\n",
       "    </tr>\n",
       "  </tbody>\n",
       "</table>\n",
       "</div>"
      ],
      "text/plain": [
       "             Doctor Name                    Specialty  \\\n",
       "0       Dr Marian AGACHI              Neurochirurgien   \n",
       "1  Dr Anne Vaillant Moga          Médecin généraliste   \n",
       "2       Dr Gabriel Ohana          Chirurgien-dentiste   \n",
       "3    Dr Thomas BAMBERGER  Dermatologue et vénérologue   \n",
       "4       Dr Layla Chatila          Chirurgien-dentiste   \n",
       "\n",
       "                                        Map Location  \\\n",
       "0  {\"lat\":48.8783278,\"lng\":2.431033999999954,\"ful...   \n",
       "1  {\"lat\":48.8692182,\"lng\":2.285468,\"fullAddress\"...   \n",
       "2  {\"lat\":48.8941478,\"lng\":2.2506978,\"fullAddress...   \n",
       "3  {\"lat\":48.8154325,\"lng\":2.3430171,\"fullAddress...   \n",
       "4  {\"lat\":48.8588045,\"lng\":2.274392,\"fullAddress\"...   \n",
       "\n",
       "                                              Skills  \\\n",
       "0      Expertises et actes\\nNeurochirurgie du rachis   \n",
       "1  Expertises et actes\\nAcné\\nAllergie\\nApnée du ...   \n",
       "2  Expertises et actes\\nChirurgie buccale\\nProthè...   \n",
       "3                                     Skills missing   \n",
       "4                                     Skills missing   \n",
       "\n",
       "                                       Profile Cards  \\\n",
       "0  {'card_0': 'Centre Floréal\\nLieu 2\\nLieu 3\\nCe...   \n",
       "1  {'card_0': \"Lieu 1\\nLieu 2\\nDr Anne Moga (Pari...   \n",
       "2  {'card_0': 'Tarifs et remboursement\\n\\nCarte V...   \n",
       "3  {'card_0': 'Tarifs et remboursement\\n\\n\\nConve...   \n",
       "4  {'card_0': 'Tarifs et remboursement\\n\\n\\n\\nCon...   \n",
       "\n",
       "                                                 URL  \n",
       "0  https://www.doctolib.fr/neurochirurgien/paris/...  \n",
       "1  https://www.doctolib.fr/medecin-generaliste/pa...  \n",
       "2  https://www.doctolib.fr/dentiste/courbevoie/ga...  \n",
       "3  https://www.doctolib.fr/dermatologue/gentilly/...  \n",
       "4  https://www.doctolib.fr/dentiste/paris/layla-c...  "
      ]
     },
     "execution_count": 44,
     "metadata": {},
     "output_type": "execute_result"
    }
   ],
   "source": [
    "data = pd.read_csv('data/extracted_data_final_0_1000.csv')\n",
    "data.head()"
   ]
  },
  {
   "cell_type": "code",
   "execution_count": 45,
   "metadata": {
    "vscode": {
     "languageId": "shellscript"
    }
   },
   "outputs": [
    {
     "name": "stdout",
     "output_type": "stream",
     "text": [
      "             Doctor Name                                             card_1  \\\n",
      "0       Dr Marian AGACHI  [Carte et informations d'accès, Centre médico-...   \n",
      "1  Dr Anne Vaillant Moga  [Carte et informations d'accès, Dr Anne Moga (...   \n",
      "2       Dr Gabriel Ohana  [Carte et informations d'accès, Cabinet dentai...   \n",
      "3    Dr Thomas BAMBERGER  [Carte et informations d'accès, Villa Amélie, ...   \n",
      "4       Dr Layla Chatila  [Carte et informations d'accès, 5 rue François...   \n",
      "\n",
      "                                              card_2  \\\n",
      "0  [Présentation, Le docteur Marian Agachi vous a...   \n",
      "1  [Présentation, Située au cœur du  seizieme arr...   \n",
      "2  [Présentation, Le docteur Gabriel Ohana vous a...   \n",
      "3  [Présentation, Le docteur Thomas Bamberger vou...   \n",
      "4  [Présentation, Le docteur Layla Chatila vous a...   \n",
      "\n",
      "                                              card_3  \\\n",
      "0  [Horaires et coordonnées, Horaires d'ouverture...   \n",
      "1  [Horaires et coordonnées, Horaires d'ouverture...   \n",
      "2  [Horaires et coordonnées, Horaires d'ouverture...   \n",
      "3  [Horaires et coordonnées, Horaires d'ouverture...   \n",
      "4  [Horaires et coordonnées, Coordonnées, 01 45 2...   \n",
      "\n",
      "                                              card_4  \\\n",
      "0                                                NaN   \n",
      "1  [Tarifs, Consultation préalable de médecine es...   \n",
      "2  [Tarifs, Consultation dentaire, 23 €, Traiteme...   \n",
      "3  [Tarifs, Consultation, 31,50 € à 56,50 €, Cont...   \n",
      "4  [Tarifs, Consultation dentaire, 23 €, Ces hono...   \n",
      "\n",
      "                                              card_5  \n",
      "0   [Informations légales, Numéro RPPS, 10001649291]  \n",
      "1  [Informations légales, Numéro RPPS, 1000037899...  \n",
      "2   [Informations légales, Numéro RPPS, 10003639373]  \n",
      "3   [Informations légales, Numéro RPPS, 10003719571]  \n",
      "4   [Informations légales, Numéro RPPS, 10005133003]  \n"
     ]
    }
   ],
   "source": [
    "# Fonction pour réorganiser les profils cards\n",
    "def reorder_cards(profile_cards):\n",
    "    try:\n",
    "        cards_dict = ast.literal_eval(profile_cards)\n",
    "        \n",
    "        reordered_cards = {\n",
    "            'card_1': np.nan,\n",
    "            'card_2': np.nan,\n",
    "            'card_3': np.nan,\n",
    "            'card_4': np.nan,\n",
    "            'card_5': np.nan\n",
    "        }\n",
    "\n",
    "        for key, value in cards_dict.items():\n",
    "            if value.startswith(\"Carte et informations d'accès\"):\n",
    "                reordered_cards['card_1'] = value.split('\\n') \n",
    "            elif value.startswith(\"Présentation\"):\n",
    "                reordered_cards['card_2'] = value.split('\\n') \n",
    "            elif value.startswith(\"Horaires et coordonnées\"):\n",
    "                reordered_cards['card_3'] = value.split('\\n') \n",
    "            elif value.startswith(\"Tarifs\"):\n",
    "                reordered_cards['card_4'] = value.split('\\n') \n",
    "            elif value.startswith(\"Informations légales\"):\n",
    "                reordered_cards['card_5'] = value.split('\\n') \n",
    "        \n",
    "        return reordered_cards\n",
    "    except:\n",
    "        return {\n",
    "            'card_1': np.nan,\n",
    "            'card_2': np.nan,\n",
    "            'card_3': np.nan,\n",
    "            'card_4': np.nan,\n",
    "            'card_5': np.nan\n",
    "        }\n",
    "\n",
    "reordered_cards = data['Profile Cards'].apply(reorder_cards)\n",
    "\n",
    "reordered_cards_df = pd.json_normalize(reordered_cards)\n",
    "\n",
    "data_combined = pd.concat([data, reordered_cards_df], axis=1)\n",
    "\n",
    "data_combined.drop(columns = 'Profile Cards', inplace=True)\n",
    "\n",
    "print(data_combined[['Doctor Name', 'card_1', 'card_2', 'card_3', 'card_4', 'card_5']].head())"
   ]
  },
  {
   "cell_type": "code",
   "execution_count": 46,
   "metadata": {
    "vscode": {
     "languageId": "shellscript"
    }
   },
   "outputs": [
    {
     "name": "stdout",
     "output_type": "stream",
     "text": [
      "             Doctor Name                    Specialty  \\\n",
      "0       Dr Marian AGACHI              Neurochirurgien   \n",
      "1  Dr Anne Vaillant Moga          Médecin généraliste   \n",
      "2       Dr Gabriel Ohana          Chirurgien-dentiste   \n",
      "3    Dr Thomas BAMBERGER  Dermatologue et vénérologue   \n",
      "4       Dr Layla Chatila          Chirurgien-dentiste   \n",
      "\n",
      "                                              Skills  \\\n",
      "0      Expertises et actes\\nNeurochirurgie du rachis   \n",
      "1  Expertises et actes\\nAcné\\nAllergie\\nApnée du ...   \n",
      "2  Expertises et actes\\nChirurgie buccale\\nProthè...   \n",
      "3                                     Skills missing   \n",
      "4                                     Skills missing   \n",
      "\n",
      "                                                 URL  \\\n",
      "0  https://www.doctolib.fr/neurochirurgien/paris/...   \n",
      "1  https://www.doctolib.fr/medecin-generaliste/pa...   \n",
      "2  https://www.doctolib.fr/dentiste/courbevoie/ga...   \n",
      "3  https://www.doctolib.fr/dermatologue/gentilly/...   \n",
      "4  https://www.doctolib.fr/dentiste/paris/layla-c...   \n",
      "\n",
      "                                              card_1  \\\n",
      "0  [Carte et informations d'accès, Centre médico-...   \n",
      "1  [Carte et informations d'accès, Dr Anne Moga (...   \n",
      "2  [Carte et informations d'accès, Cabinet dentai...   \n",
      "3  [Carte et informations d'accès, Villa Amélie, ...   \n",
      "4  [Carte et informations d'accès, 5 rue François...   \n",
      "\n",
      "                                              card_2  \\\n",
      "0  [Présentation, Le docteur Marian Agachi vous a...   \n",
      "1  [Présentation, Située au cœur du  seizieme arr...   \n",
      "2  [Présentation, Le docteur Gabriel Ohana vous a...   \n",
      "3  [Présentation, Le docteur Thomas Bamberger vou...   \n",
      "4  [Présentation, Le docteur Layla Chatila vous a...   \n",
      "\n",
      "                                              card_3  \\\n",
      "0  [Horaires et coordonnées, Horaires d'ouverture...   \n",
      "1  [Horaires et coordonnées, Horaires d'ouverture...   \n",
      "2  [Horaires et coordonnées, Horaires d'ouverture...   \n",
      "3  [Horaires et coordonnées, Horaires d'ouverture...   \n",
      "4  [Horaires et coordonnées, Coordonnées, 01 45 2...   \n",
      "\n",
      "                                              card_4  \\\n",
      "0                                                NaN   \n",
      "1  [Tarifs, Consultation préalable de médecine es...   \n",
      "2  [Tarifs, Consultation dentaire, 23 €, Traiteme...   \n",
      "3  [Tarifs, Consultation, 31,50 € à 56,50 €, Cont...   \n",
      "4  [Tarifs, Consultation dentaire, 23 €, Ces hono...   \n",
      "\n",
      "                                              card_5   Latitude  Longitude  \n",
      "0   [Informations légales, Numéro RPPS, 10001649291]  48.878328   2.431034  \n",
      "1  [Informations légales, Numéro RPPS, 1000037899...  48.869218   2.285468  \n",
      "2   [Informations légales, Numéro RPPS, 10003639373]  48.894148   2.250698  \n",
      "3   [Informations légales, Numéro RPPS, 10003719571]  48.815433   2.343017  \n",
      "4   [Informations légales, Numéro RPPS, 10005133003]  48.858804   2.274392  \n"
     ]
    }
   ],
   "source": [
    "#Pour rendre la localisation plus claire\n",
    "def extract_lat_lng(map_location):\n",
    "    try:\n",
    "        location_dict = ast.literal_eval(map_location)\n",
    "        return (location_dict['lat'], location_dict['lng'])\n",
    "    except:\n",
    "        return (None, None)\n",
    "\n",
    "data_combined['Latitude'], data_combined['Longitude'] = zip(*data_combined['Map Location'].apply(extract_lat_lng))\n",
    "\n",
    "data_combined.drop(columns = 'Map Location', inplace=True)\n",
    "\n",
    "print(data_combined.head())\n"
   ]
  },
  {
   "cell_type": "code",
   "execution_count": 47,
   "metadata": {
    "vscode": {
     "languageId": "shellscript"
    }
   },
   "outputs": [
    {
     "name": "stdout",
     "output_type": "stream",
     "text": [
      "             Doctor Name                    Specialty  \\\n",
      "0       Dr Marian AGACHI              Neurochirurgien   \n",
      "1  Dr Anne Vaillant Moga          Médecin généraliste   \n",
      "2       Dr Gabriel Ohana          Chirurgien-dentiste   \n",
      "3    Dr Thomas BAMBERGER  Dermatologue et vénérologue   \n",
      "4       Dr Layla Chatila          Chirurgien-dentiste   \n",
      "\n",
      "                                                 URL  \\\n",
      "0  https://www.doctolib.fr/neurochirurgien/paris/...   \n",
      "1  https://www.doctolib.fr/medecin-generaliste/pa...   \n",
      "2  https://www.doctolib.fr/dentiste/courbevoie/ga...   \n",
      "3  https://www.doctolib.fr/dermatologue/gentilly/...   \n",
      "4  https://www.doctolib.fr/dentiste/paris/layla-c...   \n",
      "\n",
      "                                              card_1  \\\n",
      "0  [Carte et informations d'accès, Centre médico-...   \n",
      "1  [Carte et informations d'accès, Dr Anne Moga (...   \n",
      "2  [Carte et informations d'accès, Cabinet dentai...   \n",
      "3  [Carte et informations d'accès, Villa Amélie, ...   \n",
      "4  [Carte et informations d'accès, 5 rue François...   \n",
      "\n",
      "                                              card_2  \\\n",
      "0  [Présentation, Le docteur Marian Agachi vous a...   \n",
      "1  [Présentation, Située au cœur du  seizieme arr...   \n",
      "2  [Présentation, Le docteur Gabriel Ohana vous a...   \n",
      "3  [Présentation, Le docteur Thomas Bamberger vou...   \n",
      "4  [Présentation, Le docteur Layla Chatila vous a...   \n",
      "\n",
      "                                              card_3  \\\n",
      "0  [Horaires et coordonnées, Horaires d'ouverture...   \n",
      "1  [Horaires et coordonnées, Horaires d'ouverture...   \n",
      "2  [Horaires et coordonnées, Horaires d'ouverture...   \n",
      "3  [Horaires et coordonnées, Horaires d'ouverture...   \n",
      "4  [Horaires et coordonnées, Coordonnées, 01 45 2...   \n",
      "\n",
      "                                              card_4  \\\n",
      "0                                                NaN   \n",
      "1  [Tarifs, Consultation préalable de médecine es...   \n",
      "2  [Tarifs, Consultation dentaire, 23 €, Traiteme...   \n",
      "3  [Tarifs, Consultation, 31,50 € à 56,50 €, Cont...   \n",
      "4  [Tarifs, Consultation dentaire, 23 €, Ces hono...   \n",
      "\n",
      "                                              card_5   Latitude  Longitude  \\\n",
      "0   [Informations légales, Numéro RPPS, 10001649291]  48.878328   2.431034   \n",
      "1  [Informations légales, Numéro RPPS, 1000037899...  48.869218   2.285468   \n",
      "2   [Informations légales, Numéro RPPS, 10003639373]  48.894148   2.250698   \n",
      "3   [Informations légales, Numéro RPPS, 10003719571]  48.815433   2.343017   \n",
      "4   [Informations légales, Numéro RPPS, 10005133003]  48.858804   2.274392   \n",
      "\n",
      "                                    Skills Processed  \n",
      "0    [Expertises et actes, Neurochirurgie du rachis]  \n",
      "1  [Expertises et actes, Acné, Allergie, Apnée du...  \n",
      "2  [Expertises et actes, Chirurgie buccale, Proth...  \n",
      "3                                                NaN  \n",
      "4                                                NaN  \n"
     ]
    }
   ],
   "source": [
    "# Fonction pour traiter la colonne 'Skills'\n",
    "def process_skills(skills):\n",
    "    if skills == 'Skills missing':\n",
    "        return np.nan\n",
    "    else:\n",
    "        return skills.split('\\n')\n",
    "\n",
    "data_combined['Skills Processed'] = data_combined['Skills'].apply(process_skills)\n",
    "\n",
    "data_combined.drop(columns = 'Skills', inplace=True)\n",
    "\n",
    "print(data_combined.head())"
   ]
  },
  {
   "cell_type": "code",
   "execution_count": 48,
   "metadata": {
    "vscode": {
     "languageId": "shellscript"
    }
   },
   "outputs": [
    {
     "data": {
      "text/plain": [
       "Specialty\n",
       "Chirurgien-dentiste                                                 152\n",
       "Médecin généraliste                                                 104\n",
       "Ophtalmologue                                                        75\n",
       "Cabinet médical                                                      56\n",
       "Spécialiste en chirurgie plastique reconstructrice et esthétique     40\n",
       "                                                                   ... \n",
       "Chirurgien oral                                                       1\n",
       "Acupuncteur                                                           1\n",
       "Addictologue                                                          1\n",
       "Chirurgien cancérologue                                               1\n",
       "Diététicien                                                           1\n",
       "Name: count, Length: 78, dtype: int64"
      ]
     },
     "execution_count": 48,
     "metadata": {},
     "output_type": "execute_result"
    }
   ],
   "source": [
    "data_combined['Specialty'].value_counts()"
   ]
  },
  {
   "cell_type": "code",
   "execution_count": 51,
   "metadata": {
    "vscode": {
     "languageId": "shellscript"
    }
   },
   "outputs": [
    {
     "name": "stdout",
     "output_type": "stream",
     "text": [
      "             Doctor Name                    Specialty  \\\n",
      "0       Dr Marian AGACHI              Neurochirurgien   \n",
      "1  Dr Anne Vaillant Moga          Médecin généraliste   \n",
      "2       Dr Gabriel Ohana          Chirurgien-dentiste   \n",
      "3    Dr Thomas BAMBERGER  Dermatologue et vénérologue   \n",
      "4       Dr Layla Chatila          Chirurgien-dentiste   \n",
      "\n",
      "                                                 URL  \\\n",
      "0  https://www.doctolib.fr/neurochirurgien/paris/...   \n",
      "1  https://www.doctolib.fr/medecin-generaliste/pa...   \n",
      "2  https://www.doctolib.fr/dentiste/courbevoie/ga...   \n",
      "3  https://www.doctolib.fr/dermatologue/gentilly/...   \n",
      "4  https://www.doctolib.fr/dentiste/paris/layla-c...   \n",
      "\n",
      "                                              card_1  \\\n",
      "0  [Carte et informations d'accès, Centre médico-...   \n",
      "1  [Carte et informations d'accès, Dr Anne Moga (...   \n",
      "2  [Carte et informations d'accès, Cabinet dentai...   \n",
      "3  [Carte et informations d'accès, Villa Amélie, ...   \n",
      "4  [Carte et informations d'accès, 5 rue François...   \n",
      "\n",
      "                                              card_2  \\\n",
      "0  [Présentation, Le docteur Marian Agachi vous a...   \n",
      "1  [Présentation, Située au cœur du  seizieme arr...   \n",
      "2  [Présentation, Le docteur Gabriel Ohana vous a...   \n",
      "3  [Présentation, Le docteur Thomas Bamberger vou...   \n",
      "4  [Présentation, Le docteur Layla Chatila vous a...   \n",
      "\n",
      "                                              card_3  \\\n",
      "0  [Horaires et coordonnées, Horaires d'ouverture...   \n",
      "1  [Horaires et coordonnées, Horaires d'ouverture...   \n",
      "2  [Horaires et coordonnées, Horaires d'ouverture...   \n",
      "3  [Horaires et coordonnées, Horaires d'ouverture...   \n",
      "4  [Horaires et coordonnées, Coordonnées, 01 45 2...   \n",
      "\n",
      "                                              card_4   Latitude  Longitude  \\\n",
      "0                                                NaN  48.878328   2.431034   \n",
      "1  [Tarifs, Consultation préalable de médecine es...  48.869218   2.285468   \n",
      "2  [Tarifs, Consultation dentaire, 23 €, Traiteme...  48.894148   2.250698   \n",
      "3  [Tarifs, Consultation, 31,50 € à 56,50 €, Cont...  48.815433   2.343017   \n",
      "4  [Tarifs, Consultation dentaire, 23 €, Ces hono...  48.858804   2.274392   \n",
      "\n",
      "                                    Skills Processed         RPPS  \n",
      "0    [Expertises et actes, Neurochirurgie du rachis]  10001649291  \n",
      "1  [Expertises et actes, Acné, Allergie, Apnée du...  10000378991  \n",
      "2  [Expertises et actes, Chirurgie buccale, Proth...  10003639373  \n",
      "3                                                NaN  10003719571  \n",
      "4                                                NaN  10005133003  \n"
     ]
    }
   ],
   "source": [
    "data_combined['RPPS'] = data_combined['card_5'].apply(lambda x: x[2] if isinstance(x, list) and len(x) > 2 else np.nan)\n",
    "\n",
    "data_combined.drop(columns = 'card_5', inplace = True)\n",
    "print(data_combined.head())\n"
   ]
  },
  {
   "cell_type": "code",
   "execution_count": 55,
   "metadata": {
    "vscode": {
     "languageId": "shellscript"
    }
   },
   "outputs": [
    {
     "name": "stdout",
     "output_type": "stream",
     "text": [
      "['Horaires et coordonnées', \"Horaires d'ouverture\", \"Aujourd'hui :\", '10h30 - 19h00', \"Contact d'urgence\", \"En cas d'urgence, contactez le 15 (Samu)\"]\n"
     ]
    }
   ],
   "source": [
    "data_combined['Nb Skills'] = data_combined['Skills Processed'].apply(lambda x: len(x)-1 if isinstance(x, list) else np.nan)\n",
    "\n",
    "print(data_combined['card_3'].iloc[1])"
   ]
  },
  {
   "cell_type": "markdown",
   "metadata": {},
   "source": [
    "Ouverture annuaire santé"
   ]
  },
  {
   "cell_type": "code",
   "execution_count": 37,
   "metadata": {
    "vscode": {
     "languageId": "shellscript"
    }
   },
   "outputs": [],
   "source": [
    "with open('data/PS_LibreAcces_Personne_activite.txt', 'r', encoding='utf-8') as file:\n",
    "    contenu = file.read()\n",
    "\n",
    "print(contenu)"
   ]
  }
 ],
 "metadata": {
  "kernelspec": {
   "display_name": "Python 3",
   "language": "python",
   "name": "python3"
  },
  "language_info": {
   "codemirror_mode": {
    "name": "ipython",
    "version": 3
   },
   "file_extension": ".py",
   "mimetype": "text/x-python",
   "name": "python",
   "nbconvert_exporter": "python",
   "pygments_lexer": "ipython3",
   "version": "3.12.2"
  }
 },
 "nbformat": 4,
 "nbformat_minor": 2
}
