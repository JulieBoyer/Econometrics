{
 "cells": [
  {
   "cell_type": "markdown",
   "metadata": {},
   "source": [
    "# Importer les bibliothèques nécessaires"
   ]
  },
  {
   "cell_type": "markdown",
   "metadata": {},
   "source": [
    "# Step 0: We import the required libraries "
   ]
  },
  {
   "cell_type": "code",
   "execution_count": 543,
   "metadata": {
    "vscode": {
     "languageId": "shellscript"
    }
   },
   "outputs": [],
   "source": [
    "import pandas as pd\n",
    "import ast \n",
    "import numpy as np\n",
    "import csv"
   ]
  },
  {
   "cell_type": "markdown",
   "metadata": {},
   "source": [
    "# Step 1: We import the data exported from Doctolib  "
   ]
  },
  {
   "cell_type": "code",
   "execution_count": 544,
   "metadata": {
    "vscode": {
     "languageId": "shellscript"
    }
   },
   "outputs": [],
   "source": [
    "data = pd.read_csv('data/extracted_data_final_0_1000.csv')"
   ]
  },
  {
   "cell_type": "markdown",
   "metadata": {},
   "source": [
    "# Step 2: We reorganize the data exported from Doctolib "
   ]
  },
  {
   "cell_type": "code",
   "execution_count": 545,
   "metadata": {
    "vscode": {
     "languageId": "shellscript"
    }
   },
   "outputs": [],
   "source": [
    "# Function to reorganize the profile cards \n",
    "def reorder_cards(profile_cards):\n",
    "    try:\n",
    "        cards_dict = ast.literal_eval(profile_cards)\n",
    "        \n",
    "        reordered_cards = {\n",
    "            'card_0': np.nan,\n",
    "            'card_1': np.nan,\n",
    "            'card_2': np.nan,\n",
    "            'card_3': np.nan,\n",
    "            'card_4': np.nan,\n",
    "            'card_5': np.nan\n",
    "        }\n",
    "\n",
    "        def split_content(value):\n",
    "            value = value.replace('\\\\n', '\\n').replace('\\\\', '\\n')\n",
    "            return value.split('\\n')\n",
    "\n",
    "        for key, value in cards_dict.items():\n",
    "            if value.startswith(\"Carte et informations d'accès\"):\n",
    "                reordered_cards['card_1'] = split_content(value)\n",
    "            elif value.startswith(\"Présentation\"):\n",
    "                reordered_cards['card_2'] = split_content(value)\n",
    "            elif value.startswith(\"Horaires et coordonnées\"):\n",
    "                reordered_cards['card_3'] = split_content(value)\n",
    "            elif value.startswith(\"Tarifs et remboursement\") or value.startswith(\"Lieu\"):\n",
    "                reordered_cards['card_0'] = split_content(value)\n",
    "            elif value.startswith(\"Tarifs\"):\n",
    "                reordered_cards['card_4'] = split_content(value)\n",
    "            elif value.startswith(\"Informations légales\"):\n",
    "                reordered_cards['card_5'] = split_content(value)\n",
    "            else :\n",
    "                if isinstance(value,list):\n",
    "                    reordered_cards['card_0'] = split_content(value)\n",
    "        \n",
    "        return reordered_cards\n",
    "    except:\n",
    "        return {\n",
    "            'card_0': np.nan,\n",
    "            'card_1': np.nan,\n",
    "            'card_2': np.nan,\n",
    "            'card_3': np.nan,\n",
    "            'card_4': np.nan,\n",
    "            'card_5': np.nan\n",
    "        }\n",
    "\n",
    "reordered_cards = data['Profile Cards'].apply(reorder_cards)\n",
    "\n",
    "reordered_cards_df = pd.json_normalize(reordered_cards)\n",
    "\n",
    "data_combined = pd.concat([data, reordered_cards_df], axis=1)\n",
    "\n",
    "data_combined.drop(columns = 'Profile Cards', inplace=True)\n"
   ]
  },
  {
   "cell_type": "code",
   "execution_count": 546,
   "metadata": {
    "vscode": {
     "languageId": "shellscript"
    }
   },
   "outputs": [],
   "source": [
    "#To provide a clearer localisation\n",
    "def extract_lat_lng(map_location):\n",
    "    try:\n",
    "        location_dict = ast.literal_eval(map_location)\n",
    "        return (location_dict['lat'], location_dict['lng'])\n",
    "    except:\n",
    "        return (None, None)\n",
    "\n",
    "data_combined['Latitude'], data_combined['Longitude'] = zip(*data_combined['Map Location'].apply(extract_lat_lng))\n",
    "\n",
    "data_combined.drop(columns = 'Map Location', inplace=True)\n"
   ]
  },
  {
   "cell_type": "code",
   "execution_count": 547,
   "metadata": {
    "vscode": {
     "languageId": "shellscript"
    }
   },
   "outputs": [],
   "source": [
    "# Function to treat the column 'Skills'\n",
    "def process_skills(skills):\n",
    "    if skills == 'Skills missing':\n",
    "        return np.nan\n",
    "    else:\n",
    "        return skills.split('\\n')\n",
    "\n",
    "data_combined['Skills Processed'] = data_combined['Skills'].apply(process_skills)\n",
    "\n",
    "data_combined.drop(columns = 'Skills', inplace=True)"
   ]
  },
  {
   "cell_type": "code",
   "execution_count": 548,
   "metadata": {
    "vscode": {
     "languageId": "shellscript"
    }
   },
   "outputs": [
    {
     "data": {
      "text/plain": [
       "Specialty\n",
       "Chirurgien-dentiste                                                 152\n",
       "Médecin généraliste                                                 104\n",
       "Ophtalmologue                                                        75\n",
       "Cabinet médical                                                      56\n",
       "Spécialiste en chirurgie plastique reconstructrice et esthétique     40\n",
       "                                                                   ... \n",
       "Chirurgien oral                                                       1\n",
       "Acupuncteur                                                           1\n",
       "Addictologue                                                          1\n",
       "Chirurgien cancérologue                                               1\n",
       "Diététicien                                                           1\n",
       "Name: count, Length: 78, dtype: int64"
      ]
     },
     "execution_count": 548,
     "metadata": {},
     "output_type": "execute_result"
    }
   ],
   "source": [
    "#To check which specialty has more doctors\n",
    "data_combined['Specialty'].value_counts()"
   ]
  },
  {
   "cell_type": "code",
   "execution_count": 549,
   "metadata": {
    "vscode": {
     "languageId": "shellscript"
    }
   },
   "outputs": [],
   "source": [
    "data_combined['RPPS'] = data_combined['card_5'].apply(lambda x: x[2] if isinstance(x, list) and len(x) > 2 else np.nan)\n",
    "data_combined.drop(columns = 'card_5', inplace = True)"
   ]
  },
  {
   "cell_type": "code",
   "execution_count": 550,
   "metadata": {
    "vscode": {
     "languageId": "shellscript"
    }
   },
   "outputs": [],
   "source": [
    "data_combined['Nb Skills'] = data_combined['Skills Processed'].apply(lambda x: len(x)-1 if isinstance(x, list) else 0)"
   ]
  },
  {
   "cell_type": "code",
   "execution_count": 551,
   "metadata": {
    "vscode": {
     "languageId": "shellscript"
    }
   },
   "outputs": [],
   "source": [
    "def paiement(card0):\n",
    "    if isinstance(card0, list):\n",
    "        if 'Moyens de paiement' in card0:\n",
    "            return 1\n",
    "        else:\n",
    "            return 0\n",
    "    else:\n",
    "        return 0\n",
    "data_combined['moyens_paiement'] = data_combined['card_0'].apply(paiement)\n",
    "\n",
    "\n",
    "def vitale(card0):\n",
    "    if isinstance(card0, list):\n",
    "        if 'Carte Vitale acceptée' in card0:\n",
    "            return 1\n",
    "        elif 'Carte Vitale non acceptée' in card0:\n",
    "            return 0\n",
    "        else:\n",
    "            return np.nan\n",
    "    else:\n",
    "        return np.nan\n",
    "data_combined['carte_vitale'] = data_combined['card_0'].apply(paiement)\n",
    "\n",
    "\n",
    "def secteur(card0):\n",
    "    if isinstance(card0, list):\n",
    "        a=0\n",
    "        for x in card0:\n",
    "            if 'Conventionné secteur 2' in x:\n",
    "                a=2\n",
    "            elif 'Conventionné secteur 1' in x:\n",
    "                a=1\n",
    "            elif 'Conventionné secteur 3' in x:\n",
    "                a=3\n",
    "            elif 'Conventionné' in x:\n",
    "                a=4\n",
    "        return a\n",
    "    else:\n",
    "        return 0\n",
    "data_combined['secteur'] = data_combined['card_0'].apply(secteur)"
   ]
  },
  {
   "cell_type": "code",
   "execution_count": 552,
   "metadata": {
    "vscode": {
     "languageId": "shellscript"
    }
   },
   "outputs": [],
   "source": [
    "data_combined['Présentation']=''\n",
    "data_combined['Langues parlées']=''\n",
    "data_combined['Diplômes nationaux et universitaires']=''\n",
    "data_combined['Autres formations']=''\n",
    "data_combined['Expériences']=''\n",
    "data_combined['Travaux et publications']=''\n",
    "data_combined['Prix et distinctions']=''\n",
    "data_combined['site']=0\n",
    "\n",
    "liste_mots_clefs = ['Présentation','Langues parlées','Diplômes nationaux et universitaires','Formations','Autres formations','Expériences', 'Site web', 'Travaux et publications', 'Prix et distinctions']\n",
    "\n",
    "for i in range(data_combined.shape[0]):\n",
    "    if isinstance(data_combined['card_2'].iloc[i],list) : \n",
    "        liste_card2 = data_combined['card_2'].iloc[i][1:]\n",
    "        sous_liste = ''\n",
    "        label = liste_mots_clefs[0]\n",
    "        for x in liste_card2 :\n",
    "            if x in liste_mots_clefs :\n",
    "                data_combined.loc[i, label] = sous_liste\n",
    "                label = x\n",
    "                sous_liste = ''\n",
    "            elif x=='Voir le site':\n",
    "                data_combined.loc[i, 'site'] = 1\n",
    "            elif x=='▾ Voir plus':\n",
    "                None\n",
    "            else :\n",
    "                sous_liste = sous_liste+(x)"
   ]
  },
  {
   "cell_type": "code",
   "execution_count": 553,
   "metadata": {
    "vscode": {
     "languageId": "shellscript"
    }
   },
   "outputs": [],
   "source": [
    "data_combined['Diplômes nationaux et universitaires b']=data_combined['Diplômes nationaux et universitaires'].apply(lambda x: 1 if len(x)>0 else 0)"
   ]
  },
  {
   "cell_type": "code",
   "execution_count": 554,
   "metadata": {
    "vscode": {
     "languageId": "shellscript"
    }
   },
   "outputs": [],
   "source": [
    "data_combined['Nb caractères présentation'] = data_combined['Présentation'].apply(lambda x: len(x))"
   ]
  },
  {
   "cell_type": "code",
   "execution_count": 555,
   "metadata": {
    "vscode": {
     "languageId": "shellscript"
    }
   },
   "outputs": [],
   "source": [
    "data_combined['Autres formations b']=data_combined['Autres formations'].apply(lambda x: 1 if len(x)>0 else 0)"
   ]
  },
  {
   "cell_type": "code",
   "execution_count": 556,
   "metadata": {
    "vscode": {
     "languageId": "shellscript"
    }
   },
   "outputs": [],
   "source": [
    "data_combined['Travaux et publications b']=data_combined['Travaux et publications'].apply(lambda x: 1 if len(x)>0 else 0)"
   ]
  },
  {
   "cell_type": "code",
   "execution_count": 557,
   "metadata": {
    "vscode": {
     "languageId": "shellscript"
    }
   },
   "outputs": [],
   "source": [
    "data_combined['Nb langues']=0\n",
    "\n",
    "for i in range(data_combined.shape[0]):\n",
    "    if isinstance(data_combined['Langues parlées'].iloc[i],str) : \n",
    "        liste_langue = (data_combined['Langues parlées'].iloc[i]).split()\n",
    "        count = 0\n",
    "        for x in liste_langue :\n",
    "            \n",
    "            if  x != 'et'  :\n",
    "                count +=1\n",
    "        data_combined.loc[i,'Nb langues']=count"
   ]
  },
  {
   "cell_type": "code",
   "execution_count": 558,
   "metadata": {
    "vscode": {
     "languageId": "shellscript"
    }
   },
   "outputs": [],
   "source": [
    "data_combined['Expériences b']=data_combined['Expériences'].apply(lambda x: 1 if len(x)>0 else 0)"
   ]
  },
  {
   "cell_type": "code",
   "execution_count": 559,
   "metadata": {
    "vscode": {
     "languageId": "shellscript"
    }
   },
   "outputs": [],
   "source": [
    "data_combined['Formations b']=data_combined['Formations'].apply(lambda x: 1 if isinstance(x,str) else 0)"
   ]
  },
  {
   "cell_type": "code",
   "execution_count": 560,
   "metadata": {
    "vscode": {
     "languageId": "shellscript"
    }
   },
   "outputs": [],
   "source": [
    "liste1 = [\"Carte et informations d'accès\",'Moyens de transport','Parking public','Informations pratiques',\"J'autorise le traitement d'informations (dont mon adresse IP) et leur transfert hors UE par Google Maps (USA) afin d’afficher la carte.En savoir plus\", 'sur la collecte et le traitement des données par Google','AFFICHER LA CARTE']\n",
    "def carac1(card1):\n",
    "    nb=0\n",
    "    for phrase in card1:\n",
    "        if  phrase not in liste1:\n",
    "            nb += len(phrase)\n",
    "    return nb\n",
    "data_combined['Carac_card_1'] = data_combined['card_1'].apply(lambda x: carac1(x)if isinstance(x, list) else np.nan)"
   ]
  },
  {
   "cell_type": "code",
   "execution_count": 561,
   "metadata": {
    "vscode": {
     "languageId": "shellscript"
    }
   },
   "outputs": [],
   "source": [
    "def transport(card1):\n",
    "    if isinstance(card1, list):\n",
    "        if 'Moyens de transport' in card1:\n",
    "            return 1\n",
    "        else:\n",
    "            return 0\n",
    "    else:\n",
    "        return 0\n",
    "data_combined['Transport'] = data_combined['card_1'].apply(transport)"
   ]
  },
  {
   "cell_type": "code",
   "execution_count": 562,
   "metadata": {
    "vscode": {
     "languageId": "shellscript"
    }
   },
   "outputs": [],
   "source": [
    "def parking(card1):\n",
    "    if isinstance(card1, list):\n",
    "        if 'Parking public' in card1:\n",
    "            return 1\n",
    "        else:\n",
    "            return 0\n",
    "    else:\n",
    "        return 0\n",
    "data_combined['Parking'] = data_combined['card_1'].apply(parking)"
   ]
  },
  {
   "cell_type": "code",
   "execution_count": 563,
   "metadata": {
    "vscode": {
     "languageId": "shellscript"
    }
   },
   "outputs": [],
   "source": [
    "def infos(card1):\n",
    "    if isinstance(card1, list):\n",
    "        if 'Informations pratiques' in card1:\n",
    "            return 1\n",
    "        else:\n",
    "            return 0\n",
    "    else:\n",
    "        return 0\n",
    "data_combined['Infos'] = data_combined['card_1'].apply(infos)"
   ]
  },
  {
   "cell_type": "code",
   "execution_count": 564,
   "metadata": {
    "vscode": {
     "languageId": "shellscript"
    }
   },
   "outputs": [],
   "source": [
    "def coordonnées(card3):\n",
    "    if isinstance(card3, list):\n",
    "        if 'Coordonnées' in card3:\n",
    "            return 1\n",
    "        else:\n",
    "            return 0\n",
    "    else:\n",
    "        return 0\n",
    "data_combined['Coordonnées'] = data_combined['card_3'].apply(coordonnées) "
   ]
  },
  {
   "cell_type": "code",
   "execution_count": 565,
   "metadata": {
    "vscode": {
     "languageId": "shellscript"
    }
   },
   "outputs": [],
   "source": [
    "def sansRDV(card3):\n",
    "    if isinstance(card3, list):\n",
    "        if 'Consultations sans rendez-vous' in card3:\n",
    "            return 1\n",
    "        else:\n",
    "            return 0\n",
    "    else:\n",
    "        return 0\n",
    "data_combined['Sans RDV'] = data_combined['card_3'].apply(sansRDV)"
   ]
  },
  {
   "cell_type": "code",
   "execution_count": 566,
   "metadata": {
    "vscode": {
     "languageId": "shellscript"
    }
   },
   "outputs": [
    {
     "data": {
      "text/html": [
       "<div>\n",
       "<style scoped>\n",
       "    .dataframe tbody tr th:only-of-type {\n",
       "        vertical-align: middle;\n",
       "    }\n",
       "\n",
       "    .dataframe tbody tr th {\n",
       "        vertical-align: top;\n",
       "    }\n",
       "\n",
       "    .dataframe thead th {\n",
       "        text-align: right;\n",
       "    }\n",
       "</style>\n",
       "<table border=\"1\" class=\"dataframe\">\n",
       "  <thead>\n",
       "    <tr style=\"text-align: right;\">\n",
       "      <th></th>\n",
       "      <th>Doctor Name</th>\n",
       "      <th>Specialty</th>\n",
       "      <th>card_0</th>\n",
       "      <th>card_3</th>\n",
       "      <th>card_4</th>\n",
       "      <th>Latitude</th>\n",
       "      <th>Longitude</th>\n",
       "      <th>Skills Processed</th>\n",
       "      <th>RPPS</th>\n",
       "      <th>Nb Skills</th>\n",
       "      <th>...</th>\n",
       "      <th>Travaux et publications b</th>\n",
       "      <th>Nb langues</th>\n",
       "      <th>Expériences b</th>\n",
       "      <th>Formations b</th>\n",
       "      <th>Carac_card_1</th>\n",
       "      <th>Transport</th>\n",
       "      <th>Parking</th>\n",
       "      <th>Infos</th>\n",
       "      <th>Coordonnées</th>\n",
       "      <th>Sans RDV</th>\n",
       "    </tr>\n",
       "  </thead>\n",
       "  <tbody>\n",
       "    <tr>\n",
       "      <th>0</th>\n",
       "      <td>Dr Marian AGACHI</td>\n",
       "      <td>Neurochirurgien</td>\n",
       "      <td>NaN</td>\n",
       "      <td>[Horaires et coordonnées, Horaires d'ouverture...</td>\n",
       "      <td>NaN</td>\n",
       "      <td>48.878328</td>\n",
       "      <td>2.431034</td>\n",
       "      <td>[Expertises et actes, Neurochirurgie du rachis]</td>\n",
       "      <td>10001649291</td>\n",
       "      <td>1</td>\n",
       "      <td>...</td>\n",
       "      <td>0</td>\n",
       "      <td>3</td>\n",
       "      <td>0</td>\n",
       "      <td>1</td>\n",
       "      <td>154.0</td>\n",
       "      <td>1</td>\n",
       "      <td>0</td>\n",
       "      <td>1</td>\n",
       "      <td>1</td>\n",
       "      <td>0</td>\n",
       "    </tr>\n",
       "    <tr>\n",
       "      <th>1</th>\n",
       "      <td>Dr Anne Vaillant Moga</td>\n",
       "      <td>Médecin généraliste</td>\n",
       "      <td>[Lieu 1, Lieu 2, Dr Anne Moga (Paris), 76 aven...</td>\n",
       "      <td>[Horaires et coordonnées, Horaires d'ouverture...</td>\n",
       "      <td>[Tarifs, Consultation préalable de médecine es...</td>\n",
       "      <td>48.869218</td>\n",
       "      <td>2.285468</td>\n",
       "      <td>[Expertises et actes, Acné, Allergie, Apnée du...</td>\n",
       "      <td>10000378991</td>\n",
       "      <td>10</td>\n",
       "      <td>...</td>\n",
       "      <td>1</td>\n",
       "      <td>2</td>\n",
       "      <td>1</td>\n",
       "      <td>0</td>\n",
       "      <td>180.0</td>\n",
       "      <td>1</td>\n",
       "      <td>0</td>\n",
       "      <td>1</td>\n",
       "      <td>0</td>\n",
       "      <td>0</td>\n",
       "    </tr>\n",
       "    <tr>\n",
       "      <th>2</th>\n",
       "      <td>Dr Gabriel Ohana</td>\n",
       "      <td>Chirurgien-dentiste</td>\n",
       "      <td>[Tarifs et remboursement, , Carte Vitale accep...</td>\n",
       "      <td>[Horaires et coordonnées, Horaires d'ouverture...</td>\n",
       "      <td>[Tarifs, Consultation dentaire, 23 €, Traiteme...</td>\n",
       "      <td>48.894148</td>\n",
       "      <td>2.250698</td>\n",
       "      <td>[Expertises et actes, Chirurgie buccale, Proth...</td>\n",
       "      <td>10003639373</td>\n",
       "      <td>3</td>\n",
       "      <td>...</td>\n",
       "      <td>0</td>\n",
       "      <td>1</td>\n",
       "      <td>0</td>\n",
       "      <td>0</td>\n",
       "      <td>240.0</td>\n",
       "      <td>1</td>\n",
       "      <td>0</td>\n",
       "      <td>1</td>\n",
       "      <td>1</td>\n",
       "      <td>0</td>\n",
       "    </tr>\n",
       "    <tr>\n",
       "      <th>3</th>\n",
       "      <td>Dr Thomas BAMBERGER</td>\n",
       "      <td>Dermatologue et vénérologue</td>\n",
       "      <td>[Tarifs et remboursement, , , Conventionné sec...</td>\n",
       "      <td>[Horaires et coordonnées, Horaires d'ouverture...</td>\n",
       "      <td>[Tarifs, Consultation, 31,50 € à 56,50 €, Cont...</td>\n",
       "      <td>48.815433</td>\n",
       "      <td>2.343017</td>\n",
       "      <td>NaN</td>\n",
       "      <td>10003719571</td>\n",
       "      <td>0</td>\n",
       "      <td>...</td>\n",
       "      <td>0</td>\n",
       "      <td>1</td>\n",
       "      <td>1</td>\n",
       "      <td>0</td>\n",
       "      <td>155.0</td>\n",
       "      <td>1</td>\n",
       "      <td>0</td>\n",
       "      <td>1</td>\n",
       "      <td>1</td>\n",
       "      <td>0</td>\n",
       "    </tr>\n",
       "    <tr>\n",
       "      <th>4</th>\n",
       "      <td>Dr Layla Chatila</td>\n",
       "      <td>Chirurgien-dentiste</td>\n",
       "      <td>[Tarifs et remboursement, , , , Conventionné, ...</td>\n",
       "      <td>[Horaires et coordonnées, Coordonnées, 01 45 2...</td>\n",
       "      <td>[Tarifs, Consultation dentaire, 23 €, Ces hono...</td>\n",
       "      <td>48.858804</td>\n",
       "      <td>2.274392</td>\n",
       "      <td>NaN</td>\n",
       "      <td>10005133003</td>\n",
       "      <td>0</td>\n",
       "      <td>...</td>\n",
       "      <td>0</td>\n",
       "      <td>1</td>\n",
       "      <td>0</td>\n",
       "      <td>0</td>\n",
       "      <td>202.0</td>\n",
       "      <td>1</td>\n",
       "      <td>1</td>\n",
       "      <td>1</td>\n",
       "      <td>1</td>\n",
       "      <td>0</td>\n",
       "    </tr>\n",
       "  </tbody>\n",
       "</table>\n",
       "<p>5 rows × 36 columns</p>\n",
       "</div>"
      ],
      "text/plain": [
       "             Doctor Name                    Specialty  \\\n",
       "0       Dr Marian AGACHI              Neurochirurgien   \n",
       "1  Dr Anne Vaillant Moga          Médecin généraliste   \n",
       "2       Dr Gabriel Ohana          Chirurgien-dentiste   \n",
       "3    Dr Thomas BAMBERGER  Dermatologue et vénérologue   \n",
       "4       Dr Layla Chatila          Chirurgien-dentiste   \n",
       "\n",
       "                                              card_0  \\\n",
       "0                                                NaN   \n",
       "1  [Lieu 1, Lieu 2, Dr Anne Moga (Paris), 76 aven...   \n",
       "2  [Tarifs et remboursement, , Carte Vitale accep...   \n",
       "3  [Tarifs et remboursement, , , Conventionné sec...   \n",
       "4  [Tarifs et remboursement, , , , Conventionné, ...   \n",
       "\n",
       "                                              card_3  \\\n",
       "0  [Horaires et coordonnées, Horaires d'ouverture...   \n",
       "1  [Horaires et coordonnées, Horaires d'ouverture...   \n",
       "2  [Horaires et coordonnées, Horaires d'ouverture...   \n",
       "3  [Horaires et coordonnées, Horaires d'ouverture...   \n",
       "4  [Horaires et coordonnées, Coordonnées, 01 45 2...   \n",
       "\n",
       "                                              card_4   Latitude  Longitude  \\\n",
       "0                                                NaN  48.878328   2.431034   \n",
       "1  [Tarifs, Consultation préalable de médecine es...  48.869218   2.285468   \n",
       "2  [Tarifs, Consultation dentaire, 23 €, Traiteme...  48.894148   2.250698   \n",
       "3  [Tarifs, Consultation, 31,50 € à 56,50 €, Cont...  48.815433   2.343017   \n",
       "4  [Tarifs, Consultation dentaire, 23 €, Ces hono...  48.858804   2.274392   \n",
       "\n",
       "                                    Skills Processed         RPPS  Nb Skills  \\\n",
       "0    [Expertises et actes, Neurochirurgie du rachis]  10001649291          1   \n",
       "1  [Expertises et actes, Acné, Allergie, Apnée du...  10000378991         10   \n",
       "2  [Expertises et actes, Chirurgie buccale, Proth...  10003639373          3   \n",
       "3                                                NaN  10003719571          0   \n",
       "4                                                NaN  10005133003          0   \n",
       "\n",
       "   ...  Travaux et publications b  Nb langues  Expériences b Formations b  \\\n",
       "0  ...                          0           3              0            1   \n",
       "1  ...                          1           2              1            0   \n",
       "2  ...                          0           1              0            0   \n",
       "3  ...                          0           1              1            0   \n",
       "4  ...                          0           1              0            0   \n",
       "\n",
       "  Carac_card_1 Transport Parking Infos Coordonnées Sans RDV  \n",
       "0        154.0         1       0     1           1        0  \n",
       "1        180.0         1       0     1           0        0  \n",
       "2        240.0         1       0     1           1        0  \n",
       "3        155.0         1       0     1           1        0  \n",
       "4        202.0         1       1     1           1        0  \n",
       "\n",
       "[5 rows x 36 columns]"
      ]
     },
     "execution_count": 566,
     "metadata": {},
     "output_type": "execute_result"
    }
   ],
   "source": [
    "data_combined.drop(columns=['URL','card_1','card_2'],inplace=True)\n",
    "data_combined.head()"
   ]
  },
  {
   "cell_type": "code",
   "execution_count": 567,
   "metadata": {
    "vscode": {
     "languageId": "shellscript"
    }
   },
   "outputs": [],
   "source": [
    "def nb_terms(card):\n",
    "    if type(card)==list :\n",
    "        return (len(card))\n",
    "    else :\n",
    "        return(0)\n",
    "\n",
    "def nb_carac(card):\n",
    "    if type(card)==list :\n",
    "        s = 0\n",
    "        for item in card : \n",
    "            s+=len(card)\n",
    "        return(s)\n",
    "    else :\n",
    "        return(0)"
   ]
  },
  {
   "cell_type": "code",
   "execution_count": 568,
   "metadata": {
    "vscode": {
     "languageId": "shellscript"
    }
   },
   "outputs": [],
   "source": [
    "data_combined['nb terms card_0']=data_combined['card_0'].apply(nb_terms)\n",
    "data_combined['nb terms card_3']=data_combined['card_3'].apply(nb_terms)\n",
    "data_combined['nb terms card_4']=data_combined['card_4'].apply(nb_terms)\n",
    "data_combined['nb carac card_0']=data_combined['card_0'].apply(nb_carac)\n",
    "data_combined['nb carac card_3']=data_combined['card_3'].apply(nb_carac)\n",
    "data_combined['nb carac card_4']=data_combined['card_4'].apply(nb_carac)"
   ]
  },
  {
   "cell_type": "markdown",
   "metadata": {},
   "source": [
    "# Step 3: We separate the doctor whom we know the RPPS from the others  "
   ]
  },
  {
   "cell_type": "code",
   "execution_count": 569,
   "metadata": {},
   "outputs": [
    {
     "name": "stdout",
     "output_type": "stream",
     "text": [
      "[8, 23, 27, 73, 74, 94, 112, 116, 117, 118, 121, 122, 123, 124, 127, 130, 131, 132, 135, 136, 138, 139, 140, 141, 142, 143, 145, 148, 150, 151, 152, 153, 156, 157, 158, 160, 161, 163, 166, 167, 169, 170, 172, 173, 175, 176, 177, 178, 179, 180, 182, 183, 184, 186, 187, 188, 190, 191, 192, 194, 196, 197, 198, 201, 202, 204, 209, 213, 214, 215, 216, 219, 220, 221, 222, 223, 225, 226, 227, 229, 230, 231, 233, 234, 235, 236, 238, 239, 240, 241, 245, 246, 247, 249, 250, 252, 254, 256, 259, 260, 262, 263, 264, 265, 267, 268, 270, 271, 272, 276, 277, 278, 279, 280, 281, 282, 284, 285, 286, 287, 288, 289, 290, 291, 292, 293, 295, 296, 297, 298, 299, 300, 301, 302, 303, 304, 305, 306, 307, 308, 309, 310, 312, 315, 316, 317, 318, 319, 320, 321, 323, 324, 325, 326, 327, 328, 329, 331, 335, 337, 339, 344, 346, 347, 348, 349, 350, 351, 352, 353, 354, 356, 358, 359, 360, 365, 367, 368, 371, 372, 373, 374, 376, 378, 379, 380, 381, 382, 383, 384, 387, 388, 390, 392, 393, 395, 396, 397, 398, 399, 400, 401, 402, 403, 404, 405, 406, 407, 408, 409, 410, 411, 412, 413, 414, 415, 416, 417, 418, 419, 420, 421, 422, 423, 425, 426, 427, 431, 435, 436, 437, 439, 442, 445, 446, 447, 449, 450, 452, 453, 454, 456, 457, 458, 459, 460, 461, 462, 463, 464, 465, 466, 467, 468, 469, 470, 471, 472, 473, 474, 475, 476, 478, 479, 480, 481, 483, 484, 486, 487, 488, 489, 490, 491, 492, 493, 494, 495, 496, 497, 499, 500, 501, 502, 503, 504, 506, 507, 508, 510, 513, 515, 518, 520, 521, 522, 523, 525, 526, 527, 528, 529, 530, 531, 532, 533, 534, 536, 537, 538, 539, 540, 541, 542, 543, 544, 545, 546, 547, 548, 549, 550, 551, 552, 553, 554, 556, 557, 558, 559, 560, 561, 562, 563, 565, 566, 567, 568, 569, 570, 571, 572, 573, 574, 575, 576, 577, 578, 579, 580, 581, 582, 583, 584, 585, 586, 587, 588, 589, 590, 591, 593, 594, 595, 597, 598, 600, 601, 603, 604, 605, 607, 608, 609, 610, 611, 612, 614, 615, 617, 618, 619, 620, 621, 622, 623, 625, 626, 628, 629, 632, 636, 637, 638, 639, 640, 641, 642, 643, 644, 645, 646, 647, 648, 649, 651, 652, 653, 654, 655, 657, 658, 659, 661, 662, 663, 664, 665, 666, 667, 668, 669, 670, 671, 672, 673, 676, 677, 679, 681, 682, 683, 687, 693, 694, 695, 696, 697, 699, 701, 703, 704, 707, 708, 710, 711, 712, 713, 715, 716, 718, 719, 720, 721, 722, 723, 725, 727, 728, 729, 730, 731, 733, 735, 736, 737, 738, 740, 741, 742, 743, 744, 745, 746, 749, 754, 755, 756, 757, 759, 760, 762, 763, 766, 767, 768, 769, 770, 771, 773, 774, 777, 779, 780, 781, 782, 783, 784, 785, 787, 788, 789, 791, 792, 794, 795, 796, 797, 798, 799, 800, 801, 802, 803, 804, 805, 807, 808, 809, 811, 812, 813, 814, 817, 818, 820, 822, 823, 829, 830, 833, 840, 841, 842, 843, 844, 847, 848, 849, 851, 852, 853, 855, 856, 857, 858, 859, 860, 862, 863, 867, 868, 870, 872, 873, 876, 878, 880, 884, 886, 888, 890, 891, 892, 893, 894, 895, 896, 899, 905, 906, 907, 908, 910, 911, 912, 914, 915, 916, 917, 918, 919, 920, 921, 922, 923, 924, 925, 926, 927, 928, 929, 930, 931, 934, 935, 936, 937, 938, 939, 940, 941, 942, 944, 945, 947, 951, 953, 956, 957, 958, 959, 961, 963, 964, 965, 966, 967, 968, 969, 973, 977, 978, 979, 985, 987, 988, 989, 991, 992, 993, 998, 999] 633\n"
     ]
    }
   ],
   "source": [
    "indices_nan = data_combined[data_combined['RPPS'].isna()].index.tolist()\n",
    "print(indices_nan, len(indices_nan))"
   ]
  },
  {
   "cell_type": "code",
   "execution_count": 570,
   "metadata": {},
   "outputs": [
    {
     "data": {
      "text/plain": [
       "'{\\'card_0\\': \\'Tarifs et remboursement\\\\n\\\\n\\\\n\\\\nConventionné\\\\nCarte Vitale acceptée\\\\nTiers payant : Sécurité sociale\\\\nVoir les tarifs\\\\nMoyens de paiement\\\\nChèques, espèces et carte bancaire\\\\nExpertises et actes\\\\nBilan podologique\\\\nIonophorèse\\\\nK-Tape\\\\nKinesio Taping\\\\nOrthonyxie\\\\nOrthoplastie\\\\nOrthèse plantaire\\\\nPodologie\\\\nPédicurie\\\\nSemelles orthopédiques\\\\nVerrue\\', \\'card_1\\': \"Carte et informations d\\'accès\\\\n9 Avenue Ampère, 77420 Champs-sur-Marne\\\\nMoyens de transport\\\\nBus - Ampere (lignes 213 et 312)\\\\nBus - Noisy-Champs Rer - Descartes (ligne 212)\\\\nInformations pratiques\\\\n1er étage avec ascenseur\\\\nEntrée accessible\\\\nJ\\'autorise le traitement d\\'informations (dont mon adresse IP) et leur transfert hors UE par Google Maps (USA) afin d’afficher la carte.En savoir plus\\\\nsur la collecte et le traitement des données par Google\\\\nAFFICHER LA CARTE\", \\'card_2\\': \"Présentation\\\\nDepuis janvier 2010, je vous reçois dans mon cabinet à Champs-sur-Marne à deux pas de la gare Noisy-Champs. \\\\n\\\\nPar le biais des soins de pédicurie, je traite les affections cutanées des pieds (cors, verrues, mycoses, etc.) et unguéales (ongle incarné, ongle cassé ou qui a chuté, mycoses, etc.). \\\\nAttention, le pédicure-podologue ne traite les affections cutanées que sur les pieds, les verrues aux mains ou sur d\\'autre parties du corp ne sont pas dans le champs de compétence)\\\\n \\\\nPar la réalisation d\\'orthèses plantaires sur mesure (semelles orthopédiques), je suis amené aussi à traiter et prévenir les douleurs des membres inférieurs et du dos qu\\'elles soient musculaires, articulaires, osseuses, lié au sport, au travail ou autre.\\\\n\\\\nJ’interviens également sur le terrain au sein de l’association Air Pod lors d\\'événements sportifs et de prévention (Semi-marathon de Disney, trails, etc.), ainsi que sur des épreuves de marche (24h de Bourges et Paris-Alsace 2015 et 2016). \\\\n\\\\nDe plus en plus de mutuelles prennent les soins de pédicurie en charge, n\\'hésitez pas à demander à la votre.\\\\n\\\\nSuit à l\\'accroissement du nombre de RDV non honoré ou de rendez-vous décommandé à la dernière minute, je me réserve le droit de bloquer la prise de rendez-vous sur Doctolib et cela dès le premier rendez-vous.\", \\'card_3\\': \\'\\', \\'card_4\\': \\'\\', \\'card_5\\': \\'\\'}'"
      ]
     },
     "execution_count": 570,
     "metadata": {},
     "output_type": "execute_result"
    }
   ],
   "source": [
    "data['Profile Cards'].iloc[999]"
   ]
  },
  {
   "cell_type": "code",
   "execution_count": 571,
   "metadata": {},
   "outputs": [
    {
     "data": {
      "text/html": [
       "<div>\n",
       "<style scoped>\n",
       "    .dataframe tbody tr th:only-of-type {\n",
       "        vertical-align: middle;\n",
       "    }\n",
       "\n",
       "    .dataframe tbody tr th {\n",
       "        vertical-align: top;\n",
       "    }\n",
       "\n",
       "    .dataframe thead th {\n",
       "        text-align: right;\n",
       "    }\n",
       "</style>\n",
       "<table border=\"1\" class=\"dataframe\">\n",
       "  <thead>\n",
       "    <tr style=\"text-align: right;\">\n",
       "      <th></th>\n",
       "      <th>Doctor Name</th>\n",
       "      <th>Specialty</th>\n",
       "      <th>card_0</th>\n",
       "      <th>card_3</th>\n",
       "      <th>card_4</th>\n",
       "      <th>Latitude</th>\n",
       "      <th>Longitude</th>\n",
       "      <th>Skills Processed</th>\n",
       "      <th>RPPS</th>\n",
       "      <th>Nb Skills</th>\n",
       "      <th>...</th>\n",
       "      <th>Parking</th>\n",
       "      <th>Infos</th>\n",
       "      <th>Coordonnées</th>\n",
       "      <th>Sans RDV</th>\n",
       "      <th>nb terms card_0</th>\n",
       "      <th>nb terms card_3</th>\n",
       "      <th>nb terms card_4</th>\n",
       "      <th>nb carac card_0</th>\n",
       "      <th>nb carac card_3</th>\n",
       "      <th>nb carac card_4</th>\n",
       "    </tr>\n",
       "  </thead>\n",
       "  <tbody>\n",
       "    <tr>\n",
       "      <th>0</th>\n",
       "      <td>Dr Marian AGACHI</td>\n",
       "      <td>Neurochirurgien</td>\n",
       "      <td>NaN</td>\n",
       "      <td>[Horaires et coordonnées, Horaires d'ouverture...</td>\n",
       "      <td>NaN</td>\n",
       "      <td>48.878328</td>\n",
       "      <td>2.431034</td>\n",
       "      <td>[Expertises et actes, Neurochirurgie du rachis]</td>\n",
       "      <td>10001649291</td>\n",
       "      <td>1</td>\n",
       "      <td>...</td>\n",
       "      <td>0</td>\n",
       "      <td>1</td>\n",
       "      <td>1</td>\n",
       "      <td>0</td>\n",
       "      <td>0</td>\n",
       "      <td>8</td>\n",
       "      <td>0</td>\n",
       "      <td>0</td>\n",
       "      <td>64</td>\n",
       "      <td>0</td>\n",
       "    </tr>\n",
       "    <tr>\n",
       "      <th>1</th>\n",
       "      <td>Dr Anne Vaillant Moga</td>\n",
       "      <td>Médecin généraliste</td>\n",
       "      <td>[Lieu 1, Lieu 2, Dr Anne Moga (Paris), 76 aven...</td>\n",
       "      <td>[Horaires et coordonnées, Horaires d'ouverture...</td>\n",
       "      <td>[Tarifs, Consultation préalable de médecine es...</td>\n",
       "      <td>48.869218</td>\n",
       "      <td>2.285468</td>\n",
       "      <td>[Expertises et actes, Acné, Allergie, Apnée du...</td>\n",
       "      <td>10000378991</td>\n",
       "      <td>10</td>\n",
       "      <td>...</td>\n",
       "      <td>0</td>\n",
       "      <td>1</td>\n",
       "      <td>0</td>\n",
       "      <td>0</td>\n",
       "      <td>25</td>\n",
       "      <td>6</td>\n",
       "      <td>32</td>\n",
       "      <td>625</td>\n",
       "      <td>36</td>\n",
       "      <td>1024</td>\n",
       "    </tr>\n",
       "    <tr>\n",
       "      <th>2</th>\n",
       "      <td>Dr Gabriel Ohana</td>\n",
       "      <td>Chirurgien-dentiste</td>\n",
       "      <td>[Tarifs et remboursement, , Carte Vitale accep...</td>\n",
       "      <td>[Horaires et coordonnées, Horaires d'ouverture...</td>\n",
       "      <td>[Tarifs, Consultation dentaire, 23 €, Traiteme...</td>\n",
       "      <td>48.894148</td>\n",
       "      <td>2.250698</td>\n",
       "      <td>[Expertises et actes, Chirurgie buccale, Proth...</td>\n",
       "      <td>10003639373</td>\n",
       "      <td>3</td>\n",
       "      <td>...</td>\n",
       "      <td>0</td>\n",
       "      <td>1</td>\n",
       "      <td>1</td>\n",
       "      <td>0</td>\n",
       "      <td>12</td>\n",
       "      <td>8</td>\n",
       "      <td>10</td>\n",
       "      <td>144</td>\n",
       "      <td>64</td>\n",
       "      <td>100</td>\n",
       "    </tr>\n",
       "    <tr>\n",
       "      <th>3</th>\n",
       "      <td>Dr Thomas BAMBERGER</td>\n",
       "      <td>Dermatologue et vénérologue</td>\n",
       "      <td>[Tarifs et remboursement, , , Conventionné sec...</td>\n",
       "      <td>[Horaires et coordonnées, Horaires d'ouverture...</td>\n",
       "      <td>[Tarifs, Consultation, 31,50 € à 56,50 €, Cont...</td>\n",
       "      <td>48.815433</td>\n",
       "      <td>2.343017</td>\n",
       "      <td>NaN</td>\n",
       "      <td>10003719571</td>\n",
       "      <td>0</td>\n",
       "      <td>...</td>\n",
       "      <td>0</td>\n",
       "      <td>1</td>\n",
       "      <td>1</td>\n",
       "      <td>0</td>\n",
       "      <td>8</td>\n",
       "      <td>8</td>\n",
       "      <td>10</td>\n",
       "      <td>64</td>\n",
       "      <td>64</td>\n",
       "      <td>100</td>\n",
       "    </tr>\n",
       "    <tr>\n",
       "      <th>4</th>\n",
       "      <td>Dr Layla Chatila</td>\n",
       "      <td>Chirurgien-dentiste</td>\n",
       "      <td>[Tarifs et remboursement, , , , Conventionné, ...</td>\n",
       "      <td>[Horaires et coordonnées, Coordonnées, 01 45 2...</td>\n",
       "      <td>[Tarifs, Consultation dentaire, 23 €, Ces hono...</td>\n",
       "      <td>48.858804</td>\n",
       "      <td>2.274392</td>\n",
       "      <td>NaN</td>\n",
       "      <td>10005133003</td>\n",
       "      <td>0</td>\n",
       "      <td>...</td>\n",
       "      <td>1</td>\n",
       "      <td>1</td>\n",
       "      <td>1</td>\n",
       "      <td>0</td>\n",
       "      <td>9</td>\n",
       "      <td>3</td>\n",
       "      <td>4</td>\n",
       "      <td>81</td>\n",
       "      <td>9</td>\n",
       "      <td>16</td>\n",
       "    </tr>\n",
       "    <tr>\n",
       "      <th>...</th>\n",
       "      <td>...</td>\n",
       "      <td>...</td>\n",
       "      <td>...</td>\n",
       "      <td>...</td>\n",
       "      <td>...</td>\n",
       "      <td>...</td>\n",
       "      <td>...</td>\n",
       "      <td>...</td>\n",
       "      <td>...</td>\n",
       "      <td>...</td>\n",
       "      <td>...</td>\n",
       "      <td>...</td>\n",
       "      <td>...</td>\n",
       "      <td>...</td>\n",
       "      <td>...</td>\n",
       "      <td>...</td>\n",
       "      <td>...</td>\n",
       "      <td>...</td>\n",
       "      <td>...</td>\n",
       "      <td>...</td>\n",
       "      <td>...</td>\n",
       "    </tr>\n",
       "    <tr>\n",
       "      <th>990</th>\n",
       "      <td>Dr Danielle Taconet</td>\n",
       "      <td>Ophtalmologue</td>\n",
       "      <td>[Tarifs et remboursement, , , Conventionné sec...</td>\n",
       "      <td>[Horaires et coordonnées, Contact d'urgence, E...</td>\n",
       "      <td>NaN</td>\n",
       "      <td>49.060704</td>\n",
       "      <td>2.184674</td>\n",
       "      <td>[Expertises et actes, Champ visuel, Laser opht...</td>\n",
       "      <td>10003749230</td>\n",
       "      <td>4</td>\n",
       "      <td>...</td>\n",
       "      <td>0</td>\n",
       "      <td>1</td>\n",
       "      <td>1</td>\n",
       "      <td>0</td>\n",
       "      <td>13</td>\n",
       "      <td>5</td>\n",
       "      <td>0</td>\n",
       "      <td>169</td>\n",
       "      <td>25</td>\n",
       "      <td>0</td>\n",
       "    </tr>\n",
       "    <tr>\n",
       "      <th>994</th>\n",
       "      <td>Dr Stella Danan-Hadida</td>\n",
       "      <td>Gynécologue médicale et obstétrique</td>\n",
       "      <td>[Tarifs et remboursement, , , , Conventionné s...</td>\n",
       "      <td>[Horaires et coordonnées, Horaires d'ouverture...</td>\n",
       "      <td>[Tarifs, Consultation vidéo, 58 €, Consultatio...</td>\n",
       "      <td>48.871909</td>\n",
       "      <td>2.346805</td>\n",
       "      <td>[Expertises et actes, Gynécologie obstétrique,...</td>\n",
       "      <td>10000292291</td>\n",
       "      <td>7</td>\n",
       "      <td>...</td>\n",
       "      <td>1</td>\n",
       "      <td>1</td>\n",
       "      <td>1</td>\n",
       "      <td>0</td>\n",
       "      <td>18</td>\n",
       "      <td>8</td>\n",
       "      <td>28</td>\n",
       "      <td>324</td>\n",
       "      <td>64</td>\n",
       "      <td>784</td>\n",
       "    </tr>\n",
       "    <tr>\n",
       "      <th>995</th>\n",
       "      <td>Dr Philippe Lazare SELLAM</td>\n",
       "      <td>Spécialiste en chirurgie plastique reconstruct...</td>\n",
       "      <td>[Lieu 1, Lieu 2, Cabinet du Docteur Philippe L...</td>\n",
       "      <td>[Horaires et coordonnées, Contact d'urgence, E...</td>\n",
       "      <td>[Tarifs, Consultation, 23 € à 120 €, Exérèse d...</td>\n",
       "      <td>48.868676</td>\n",
       "      <td>2.325944</td>\n",
       "      <td>NaN</td>\n",
       "      <td>10000558964</td>\n",
       "      <td>0</td>\n",
       "      <td>...</td>\n",
       "      <td>1</td>\n",
       "      <td>1</td>\n",
       "      <td>1</td>\n",
       "      <td>0</td>\n",
       "      <td>11</td>\n",
       "      <td>5</td>\n",
       "      <td>8</td>\n",
       "      <td>121</td>\n",
       "      <td>25</td>\n",
       "      <td>64</td>\n",
       "    </tr>\n",
       "    <tr>\n",
       "      <th>996</th>\n",
       "      <td>Dr Michèle Maizil</td>\n",
       "      <td>Chirurgien-dentiste</td>\n",
       "      <td>NaN</td>\n",
       "      <td>[Horaires et coordonnées, Horaires d'ouverture...</td>\n",
       "      <td>NaN</td>\n",
       "      <td>48.834970</td>\n",
       "      <td>2.246637</td>\n",
       "      <td>NaN</td>\n",
       "      <td>10000202985</td>\n",
       "      <td>0</td>\n",
       "      <td>...</td>\n",
       "      <td>1</td>\n",
       "      <td>1</td>\n",
       "      <td>1</td>\n",
       "      <td>0</td>\n",
       "      <td>0</td>\n",
       "      <td>8</td>\n",
       "      <td>0</td>\n",
       "      <td>0</td>\n",
       "      <td>64</td>\n",
       "      <td>0</td>\n",
       "    </tr>\n",
       "    <tr>\n",
       "      <th>997</th>\n",
       "      <td>Dr Thierry MEYER</td>\n",
       "      <td>Chirurgien-dentiste</td>\n",
       "      <td>[Tarifs et remboursement, , , , Conventionné, ...</td>\n",
       "      <td>[Horaires et coordonnées, Horaires d'ouverture...</td>\n",
       "      <td>[Tarifs, Consultation, 23 €, Ces honoraires vo...</td>\n",
       "      <td>43.523939</td>\n",
       "      <td>5.447130</td>\n",
       "      <td>[Expertises et actes, Amélogenèse imparfaite, ...</td>\n",
       "      <td>10000173897</td>\n",
       "      <td>10</td>\n",
       "      <td>...</td>\n",
       "      <td>1</td>\n",
       "      <td>1</td>\n",
       "      <td>1</td>\n",
       "      <td>0</td>\n",
       "      <td>20</td>\n",
       "      <td>8</td>\n",
       "      <td>4</td>\n",
       "      <td>400</td>\n",
       "      <td>64</td>\n",
       "      <td>16</td>\n",
       "    </tr>\n",
       "  </tbody>\n",
       "</table>\n",
       "<p>367 rows × 42 columns</p>\n",
       "</div>"
      ],
      "text/plain": [
       "                   Doctor Name  \\\n",
       "0             Dr Marian AGACHI   \n",
       "1        Dr Anne Vaillant Moga   \n",
       "2             Dr Gabriel Ohana   \n",
       "3          Dr Thomas BAMBERGER   \n",
       "4             Dr Layla Chatila   \n",
       "..                         ...   \n",
       "990        Dr Danielle Taconet   \n",
       "994     Dr Stella Danan-Hadida   \n",
       "995  Dr Philippe Lazare SELLAM   \n",
       "996          Dr Michèle Maizil   \n",
       "997           Dr Thierry MEYER   \n",
       "\n",
       "                                             Specialty  \\\n",
       "0                                      Neurochirurgien   \n",
       "1                                  Médecin généraliste   \n",
       "2                                  Chirurgien-dentiste   \n",
       "3                          Dermatologue et vénérologue   \n",
       "4                                  Chirurgien-dentiste   \n",
       "..                                                 ...   \n",
       "990                                      Ophtalmologue   \n",
       "994                Gynécologue médicale et obstétrique   \n",
       "995  Spécialiste en chirurgie plastique reconstruct...   \n",
       "996                                Chirurgien-dentiste   \n",
       "997                                Chirurgien-dentiste   \n",
       "\n",
       "                                                card_0  \\\n",
       "0                                                  NaN   \n",
       "1    [Lieu 1, Lieu 2, Dr Anne Moga (Paris), 76 aven...   \n",
       "2    [Tarifs et remboursement, , Carte Vitale accep...   \n",
       "3    [Tarifs et remboursement, , , Conventionné sec...   \n",
       "4    [Tarifs et remboursement, , , , Conventionné, ...   \n",
       "..                                                 ...   \n",
       "990  [Tarifs et remboursement, , , Conventionné sec...   \n",
       "994  [Tarifs et remboursement, , , , Conventionné s...   \n",
       "995  [Lieu 1, Lieu 2, Cabinet du Docteur Philippe L...   \n",
       "996                                                NaN   \n",
       "997  [Tarifs et remboursement, , , , Conventionné, ...   \n",
       "\n",
       "                                                card_3  \\\n",
       "0    [Horaires et coordonnées, Horaires d'ouverture...   \n",
       "1    [Horaires et coordonnées, Horaires d'ouverture...   \n",
       "2    [Horaires et coordonnées, Horaires d'ouverture...   \n",
       "3    [Horaires et coordonnées, Horaires d'ouverture...   \n",
       "4    [Horaires et coordonnées, Coordonnées, 01 45 2...   \n",
       "..                                                 ...   \n",
       "990  [Horaires et coordonnées, Contact d'urgence, E...   \n",
       "994  [Horaires et coordonnées, Horaires d'ouverture...   \n",
       "995  [Horaires et coordonnées, Contact d'urgence, E...   \n",
       "996  [Horaires et coordonnées, Horaires d'ouverture...   \n",
       "997  [Horaires et coordonnées, Horaires d'ouverture...   \n",
       "\n",
       "                                                card_4   Latitude  Longitude  \\\n",
       "0                                                  NaN  48.878328   2.431034   \n",
       "1    [Tarifs, Consultation préalable de médecine es...  48.869218   2.285468   \n",
       "2    [Tarifs, Consultation dentaire, 23 €, Traiteme...  48.894148   2.250698   \n",
       "3    [Tarifs, Consultation, 31,50 € à 56,50 €, Cont...  48.815433   2.343017   \n",
       "4    [Tarifs, Consultation dentaire, 23 €, Ces hono...  48.858804   2.274392   \n",
       "..                                                 ...        ...        ...   \n",
       "990                                                NaN  49.060704   2.184674   \n",
       "994  [Tarifs, Consultation vidéo, 58 €, Consultatio...  48.871909   2.346805   \n",
       "995  [Tarifs, Consultation, 23 € à 120 €, Exérèse d...  48.868676   2.325944   \n",
       "996                                                NaN  48.834970   2.246637   \n",
       "997  [Tarifs, Consultation, 23 €, Ces honoraires vo...  43.523939   5.447130   \n",
       "\n",
       "                                      Skills Processed         RPPS  \\\n",
       "0      [Expertises et actes, Neurochirurgie du rachis]  10001649291   \n",
       "1    [Expertises et actes, Acné, Allergie, Apnée du...  10000378991   \n",
       "2    [Expertises et actes, Chirurgie buccale, Proth...  10003639373   \n",
       "3                                                  NaN  10003719571   \n",
       "4                                                  NaN  10005133003   \n",
       "..                                                 ...          ...   \n",
       "990  [Expertises et actes, Champ visuel, Laser opht...  10003749230   \n",
       "994  [Expertises et actes, Gynécologie obstétrique,...  10000292291   \n",
       "995                                                NaN  10000558964   \n",
       "996                                                NaN  10000202985   \n",
       "997  [Expertises et actes, Amélogenèse imparfaite, ...  10000173897   \n",
       "\n",
       "     Nb Skills  ...  Parking  Infos  Coordonnées Sans RDV nb terms card_0  \\\n",
       "0            1  ...        0      1            1        0               0   \n",
       "1           10  ...        0      1            0        0              25   \n",
       "2            3  ...        0      1            1        0              12   \n",
       "3            0  ...        0      1            1        0               8   \n",
       "4            0  ...        1      1            1        0               9   \n",
       "..         ...  ...      ...    ...          ...      ...             ...   \n",
       "990          4  ...        0      1            1        0              13   \n",
       "994          7  ...        1      1            1        0              18   \n",
       "995          0  ...        1      1            1        0              11   \n",
       "996          0  ...        1      1            1        0               0   \n",
       "997         10  ...        1      1            1        0              20   \n",
       "\n",
       "    nb terms card_3 nb terms card_4 nb carac card_0 nb carac card_3  \\\n",
       "0                 8               0               0              64   \n",
       "1                 6              32             625              36   \n",
       "2                 8              10             144              64   \n",
       "3                 8              10              64              64   \n",
       "4                 3               4              81               9   \n",
       "..              ...             ...             ...             ...   \n",
       "990               5               0             169              25   \n",
       "994               8              28             324              64   \n",
       "995               5               8             121              25   \n",
       "996               8               0               0              64   \n",
       "997               8               4             400              64   \n",
       "\n",
       "    nb carac card_4  \n",
       "0                 0  \n",
       "1              1024  \n",
       "2               100  \n",
       "3               100  \n",
       "4                16  \n",
       "..              ...  \n",
       "990               0  \n",
       "994             784  \n",
       "995              64  \n",
       "996               0  \n",
       "997              16  \n",
       "\n",
       "[367 rows x 42 columns]"
      ]
     },
     "execution_count": 571,
     "metadata": {},
     "output_type": "execute_result"
    }
   ],
   "source": [
    "data_combined_sans_nan = data_combined[data_combined['RPPS'].notna()]\n",
    "data_combined_sans_nan"
   ]
  },
  {
   "cell_type": "markdown",
   "metadata": {},
   "source": [
    "# Step 4: We open the data from “Annuaire Santé”  "
   ]
  },
  {
   "cell_type": "code",
   "execution_count": 572,
   "metadata": {
    "vscode": {
     "languageId": "shellscript"
    }
   },
   "outputs": [
    {
     "name": "stderr",
     "output_type": "stream",
     "text": [
      "/var/folders/rf/dqdwsk6s06ngm9b4j17fkb2r0000gn/T/ipykernel_29677/2401431438.py:1: DtypeWarning: Columns (10,15,16) have mixed types. Specify dtype option on import or set low_memory=False.\n",
      "  annuaire = pd.read_csv('data/PS_LibreAcces_Personne_activite_small.csv')\n"
     ]
    },
    {
     "data": {
      "text/plain": [
       "(83743, 27)"
      ]
     },
     "execution_count": 572,
     "metadata": {},
     "output_type": "execute_result"
    }
   ],
   "source": [
    "annuaire = pd.read_csv('data/PS_LibreAcces_Personne_activite_small.csv')\n",
    "annuaire.shape"
   ]
  },
  {
   "cell_type": "code",
   "execution_count": 573,
   "metadata": {
    "vscode": {
     "languageId": "shellscript"
    }
   },
   "outputs": [
    {
     "data": {
      "text/plain": [
       "identifiantpp                           0\n",
       "identificationnationalepp               0\n",
       "codecivilité                            0\n",
       "nomdexercice                            1\n",
       "prénomdexercice                         1\n",
       "codecatégorieprofessionnelle            0\n",
       "codesavoirfaire                         0\n",
       "libellésavoirfaire                      0\n",
       "codemodeexercice                        0\n",
       "numérosiretsite                     58015\n",
       "numérofinesssite                    57014\n",
       "identifianttechniquedelastructur        0\n",
       "raisonsocialesite                       0\n",
       "numérovoiecoordstructure            10187\n",
       "indicerépétitionvoiecoordstructu    78376\n",
       "codetypedevoiecoordstructure        57627\n",
       "libellétypedevoiecoordstructure     57627\n",
       "libellévoiecoordstructure            1195\n",
       "bureaucedexcoordstructure               0\n",
       "codepostalcoordstructure                0\n",
       "codecommunecoordstructure               1\n",
       "libellécommunecoordstructure            1\n",
       "libellépayscoordstructure           26729\n",
       "codesecteurdactivité                    0\n",
       "libellésecteurdactivité                 0\n",
       "coderôle                                0\n",
       "libellérôle                             0\n",
       "dtype: int64"
      ]
     },
     "execution_count": 573,
     "metadata": {},
     "output_type": "execute_result"
    }
   ],
   "source": [
    "#To verify our database\n",
    "annuaire.isnull().sum()"
   ]
  },
  {
   "cell_type": "code",
   "execution_count": 574,
   "metadata": {
    "vscode": {
     "languageId": "shellscript"
    }
   },
   "outputs": [],
   "source": [
    "annuaire['identifiantpp']=annuaire['identifiantpp'].astype(str)"
   ]
  },
  {
   "cell_type": "markdown",
   "metadata": {},
   "source": [
    "# Step 5: We focus on the general practitioner "
   ]
  },
  {
   "cell_type": "code",
   "execution_count": 575,
   "metadata": {
    "vscode": {
     "languageId": "shellscript"
    }
   },
   "outputs": [],
   "source": [
    "medecin_gen = data_combined_sans_nan[data_combined_sans_nan['Specialty']=='Médecin généraliste']"
   ]
  },
  {
   "cell_type": "code",
   "execution_count": 577,
   "metadata": {
    "vscode": {
     "languageId": "shellscript"
    }
   },
   "outputs": [],
   "source": [
    "liste_med = annuaire.merge(medecin_gen,how='outer',left_on='identifiantpp',right_on='RPPS')"
   ]
  },
  {
   "cell_type": "code",
   "execution_count": 578,
   "metadata": {},
   "outputs": [],
   "source": [
    "def departement(codepostal):\n",
    "    code = int(codepostal)/1000\n",
    "    if int(code) == 97 :\n",
    "        return(str(int(codepostal/100)))\n",
    "    if int(code) < 10 :\n",
    "        return('0'+str(int(code)))\n",
    "    return (str(int(code)))"
   ]
  },
  {
   "cell_type": "code",
   "execution_count": 579,
   "metadata": {},
   "outputs": [],
   "source": [
    "liste_med.loc[:, 'code dépar'] = liste_med['codepostalcoordstructure'].apply(departement)"
   ]
  },
  {
   "cell_type": "markdown",
   "metadata": {},
   "source": [
    "# Step 6: A first measure of competition "
   ]
  },
  {
   "cell_type": "markdown",
   "metadata": {},
   "source": []
  },
  {
   "cell_type": "code",
   "execution_count": 581,
   "metadata": {
    "vscode": {
     "languageId": "shellscript"
    }
   },
   "outputs": [
    {
     "data": {
      "text/html": [
       "<div>\n",
       "<style scoped>\n",
       "    .dataframe tbody tr th:only-of-type {\n",
       "        vertical-align: middle;\n",
       "    }\n",
       "\n",
       "    .dataframe tbody tr th {\n",
       "        vertical-align: top;\n",
       "    }\n",
       "\n",
       "    .dataframe thead th {\n",
       "        text-align: right;\n",
       "    }\n",
       "</style>\n",
       "<table border=\"1\" class=\"dataframe\">\n",
       "  <thead>\n",
       "    <tr style=\"text-align: right;\">\n",
       "      <th></th>\n",
       "      <th>Code Département</th>\n",
       "      <th>Nom Département</th>\n",
       "      <th>Nombre de médecins</th>\n",
       "      <th>Nombre de médecins pour 100 000 habitants</th>\n",
       "      <th>généralistes</th>\n",
       "      <th>spécialistes</th>\n",
       "      <th>dentistes</th>\n",
       "      <th>Pharm.</th>\n",
       "    </tr>\n",
       "  </thead>\n",
       "  <tbody>\n",
       "    <tr>\n",
       "      <th>4</th>\n",
       "      <td>01</td>\n",
       "      <td>Ain</td>\n",
       "      <td>1162</td>\n",
       "      <td>174</td>\n",
       "      <td>99</td>\n",
       "      <td>75</td>\n",
       "      <td>53</td>\n",
       "      <td>78</td>\n",
       "    </tr>\n",
       "    <tr>\n",
       "      <th>5</th>\n",
       "      <td>02</td>\n",
       "      <td>Aisne</td>\n",
       "      <td>1107</td>\n",
       "      <td>211</td>\n",
       "      <td>99</td>\n",
       "      <td>111</td>\n",
       "      <td>45</td>\n",
       "      <td>91</td>\n",
       "    </tr>\n",
       "    <tr>\n",
       "      <th>6</th>\n",
       "      <td>03</td>\n",
       "      <td>Allier</td>\n",
       "      <td>917</td>\n",
       "      <td>275</td>\n",
       "      <td>134</td>\n",
       "      <td>141</td>\n",
       "      <td>51</td>\n",
       "      <td>111</td>\n",
       "    </tr>\n",
       "    <tr>\n",
       "      <th>7</th>\n",
       "      <td>04</td>\n",
       "      <td>Alpes-de-Haute-Provence</td>\n",
       "      <td>483</td>\n",
       "      <td>291</td>\n",
       "      <td>165</td>\n",
       "      <td>125</td>\n",
       "      <td>54</td>\n",
       "      <td>103</td>\n",
       "    </tr>\n",
       "    <tr>\n",
       "      <th>8</th>\n",
       "      <td>05</td>\n",
       "      <td>Hautes-Alpes</td>\n",
       "      <td>705</td>\n",
       "      <td>503</td>\n",
       "      <td>291</td>\n",
       "      <td>213</td>\n",
       "      <td>72</td>\n",
       "      <td>135</td>\n",
       "    </tr>\n",
       "    <tr>\n",
       "      <th>...</th>\n",
       "      <td>...</td>\n",
       "      <td>...</td>\n",
       "      <td>...</td>\n",
       "      <td>...</td>\n",
       "      <td>...</td>\n",
       "      <td>...</td>\n",
       "      <td>...</td>\n",
       "      <td>...</td>\n",
       "    </tr>\n",
       "    <tr>\n",
       "      <th>103</th>\n",
       "      <td>972</td>\n",
       "      <td>Martinique</td>\n",
       "      <td>1171</td>\n",
       "      <td>332</td>\n",
       "      <td>152</td>\n",
       "      <td>180</td>\n",
       "      <td>68</td>\n",
       "      <td>99</td>\n",
       "    </tr>\n",
       "    <tr>\n",
       "      <th>104</th>\n",
       "      <td>973</td>\n",
       "      <td>Guyane</td>\n",
       "      <td>717</td>\n",
       "      <td>242</td>\n",
       "      <td>123</td>\n",
       "      <td>120</td>\n",
       "      <td>30</td>\n",
       "      <td>46</td>\n",
       "    </tr>\n",
       "    <tr>\n",
       "      <th>105</th>\n",
       "      <td>974</td>\n",
       "      <td>La Réunion</td>\n",
       "      <td>3170</td>\n",
       "      <td>364</td>\n",
       "      <td>176</td>\n",
       "      <td>189</td>\n",
       "      <td>67</td>\n",
       "      <td>94</td>\n",
       "    </tr>\n",
       "    <tr>\n",
       "      <th>106</th>\n",
       "      <td>976</td>\n",
       "      <td>Mayotte</td>\n",
       "      <td>265</td>\n",
       "      <td>89</td>\n",
       "      <td>49</td>\n",
       "      <td>39</td>\n",
       "      <td>9</td>\n",
       "      <td>31</td>\n",
       "    </tr>\n",
       "    <tr>\n",
       "      <th>107</th>\n",
       "      <td>F</td>\n",
       "      <td>France</td>\n",
       "      <td>230143</td>\n",
       "      <td>339</td>\n",
       "      <td>147</td>\n",
       "      <td>193</td>\n",
       "      <td>67</td>\n",
       "      <td>108</td>\n",
       "    </tr>\n",
       "  </tbody>\n",
       "</table>\n",
       "<p>104 rows × 8 columns</p>\n",
       "</div>"
      ],
      "text/plain": [
       "    Code Département          Nom Département Nombre de médecins  \\\n",
       "4                 01                      Ain               1162   \n",
       "5                 02                    Aisne               1107   \n",
       "6                 03                   Allier                917   \n",
       "7                 04  Alpes-de-Haute-Provence                483   \n",
       "8                 05             Hautes-Alpes                705   \n",
       "..               ...                      ...                ...   \n",
       "103              972               Martinique               1171   \n",
       "104              973                   Guyane                717   \n",
       "105              974               La Réunion               3170   \n",
       "106              976                  Mayotte                265   \n",
       "107                F                   France             230143   \n",
       "\n",
       "    Nombre de médecins pour 100 000 habitants généralistes spécialistes  \\\n",
       "4                                         174           99           75   \n",
       "5                                         211           99          111   \n",
       "6                                         275          134          141   \n",
       "7                                         291          165          125   \n",
       "8                                         503          291          213   \n",
       "..                                        ...          ...          ...   \n",
       "103                                       332          152          180   \n",
       "104                                       242          123          120   \n",
       "105                                       364          176          189   \n",
       "106                                        89           49           39   \n",
       "107                                       339          147          193   \n",
       "\n",
       "    dentistes Pharm.  \n",
       "4          53     78  \n",
       "5          45     91  \n",
       "6          51    111  \n",
       "7          54    103  \n",
       "8          72    135  \n",
       "..        ...    ...  \n",
       "103        68     99  \n",
       "104        30     46  \n",
       "105        67     94  \n",
       "106         9     31  \n",
       "107        67    108  \n",
       "\n",
       "[104 rows x 8 columns]"
      ]
     },
     "execution_count": 581,
     "metadata": {},
     "output_type": "execute_result"
    }
   ],
   "source": [
    "concu = pd.read_excel('data/TCRD_068.xlsx')\n",
    "concu.rename(columns={'Professionnels de santé au 1ᵉʳ janvier 2023 : comparaisons départementales' : 'Code Département','Unnamed: 1' : 'Nom Département','Unnamed: 2':'Nombre de médecins','Unnamed: 3':'Nombre de médecins pour 100 000 habitants','Unnamed: 4':'généralistes','Unnamed: 5':'spécialistes','Unnamed: 6':'dentistes','Unnamed: 7':'Pharm.'}, inplace=True)\n",
    "concu.drop(labels = [0,1,2,3,108],axis=0, inplace=True)\n",
    "concu"
   ]
  },
  {
   "cell_type": "code",
   "execution_count": 582,
   "metadata": {
    "vscode": {
     "languageId": "shellscript"
    }
   },
   "outputs": [],
   "source": [
    "liste_med = liste_med.merge(concu[['Code Département','généralistes']], left_on='code dépar', right_on='Code Département',how='inner')"
   ]
  },
  {
   "cell_type": "code",
   "execution_count": 583,
   "metadata": {
    "vscode": {
     "languageId": "shellscript"
    }
   },
   "outputs": [
    {
     "data": {
      "text/html": [
       "<div>\n",
       "<style scoped>\n",
       "    .dataframe tbody tr th:only-of-type {\n",
       "        vertical-align: middle;\n",
       "    }\n",
       "\n",
       "    .dataframe tbody tr th {\n",
       "        vertical-align: top;\n",
       "    }\n",
       "\n",
       "    .dataframe thead th {\n",
       "        text-align: right;\n",
       "    }\n",
       "</style>\n",
       "<table border=\"1\" class=\"dataframe\">\n",
       "  <thead>\n",
       "    <tr style=\"text-align: right;\">\n",
       "      <th></th>\n",
       "      <th>nomdexercice</th>\n",
       "      <th>prénomdexercice</th>\n",
       "      <th>RPPS</th>\n",
       "      <th>Specialty</th>\n",
       "      <th>card_0</th>\n",
       "      <th>card_3</th>\n",
       "      <th>card_4</th>\n",
       "      <th>Skills Processed</th>\n",
       "      <th>Nb Skills</th>\n",
       "      <th>moyens_paiement</th>\n",
       "      <th>...</th>\n",
       "      <th>Nb langues</th>\n",
       "      <th>Expériences b</th>\n",
       "      <th>Carac_card_1</th>\n",
       "      <th>Transport</th>\n",
       "      <th>Parking</th>\n",
       "      <th>Infos</th>\n",
       "      <th>Coordonnées</th>\n",
       "      <th>Sans RDV</th>\n",
       "      <th>Code Département</th>\n",
       "      <th>généralistes</th>\n",
       "    </tr>\n",
       "  </thead>\n",
       "  <tbody>\n",
       "    <tr>\n",
       "      <th>0</th>\n",
       "      <td>VUILLET</td>\n",
       "      <td>MICHEL</td>\n",
       "      <td>NaN</td>\n",
       "      <td>NaN</td>\n",
       "      <td>NaN</td>\n",
       "      <td>NaN</td>\n",
       "      <td>NaN</td>\n",
       "      <td>NaN</td>\n",
       "      <td>NaN</td>\n",
       "      <td>NaN</td>\n",
       "      <td>...</td>\n",
       "      <td>NaN</td>\n",
       "      <td>NaN</td>\n",
       "      <td>NaN</td>\n",
       "      <td>NaN</td>\n",
       "      <td>NaN</td>\n",
       "      <td>NaN</td>\n",
       "      <td>NaN</td>\n",
       "      <td>NaN</td>\n",
       "      <td>971</td>\n",
       "      <td>150</td>\n",
       "    </tr>\n",
       "    <tr>\n",
       "      <th>1</th>\n",
       "      <td>VUILLET</td>\n",
       "      <td>MICHEL</td>\n",
       "      <td>NaN</td>\n",
       "      <td>NaN</td>\n",
       "      <td>NaN</td>\n",
       "      <td>NaN</td>\n",
       "      <td>NaN</td>\n",
       "      <td>NaN</td>\n",
       "      <td>NaN</td>\n",
       "      <td>NaN</td>\n",
       "      <td>...</td>\n",
       "      <td>NaN</td>\n",
       "      <td>NaN</td>\n",
       "      <td>NaN</td>\n",
       "      <td>NaN</td>\n",
       "      <td>NaN</td>\n",
       "      <td>NaN</td>\n",
       "      <td>NaN</td>\n",
       "      <td>NaN</td>\n",
       "      <td>971</td>\n",
       "      <td>150</td>\n",
       "    </tr>\n",
       "    <tr>\n",
       "      <th>2</th>\n",
       "      <td>WEILL</td>\n",
       "      <td>EDGARD</td>\n",
       "      <td>NaN</td>\n",
       "      <td>NaN</td>\n",
       "      <td>NaN</td>\n",
       "      <td>NaN</td>\n",
       "      <td>NaN</td>\n",
       "      <td>NaN</td>\n",
       "      <td>NaN</td>\n",
       "      <td>NaN</td>\n",
       "      <td>...</td>\n",
       "      <td>NaN</td>\n",
       "      <td>NaN</td>\n",
       "      <td>NaN</td>\n",
       "      <td>NaN</td>\n",
       "      <td>NaN</td>\n",
       "      <td>NaN</td>\n",
       "      <td>NaN</td>\n",
       "      <td>NaN</td>\n",
       "      <td>971</td>\n",
       "      <td>150</td>\n",
       "    </tr>\n",
       "    <tr>\n",
       "      <th>3</th>\n",
       "      <td>BORDESSOULES</td>\n",
       "      <td>PIERRE</td>\n",
       "      <td>NaN</td>\n",
       "      <td>NaN</td>\n",
       "      <td>NaN</td>\n",
       "      <td>NaN</td>\n",
       "      <td>NaN</td>\n",
       "      <td>NaN</td>\n",
       "      <td>NaN</td>\n",
       "      <td>NaN</td>\n",
       "      <td>...</td>\n",
       "      <td>NaN</td>\n",
       "      <td>NaN</td>\n",
       "      <td>NaN</td>\n",
       "      <td>NaN</td>\n",
       "      <td>NaN</td>\n",
       "      <td>NaN</td>\n",
       "      <td>NaN</td>\n",
       "      <td>NaN</td>\n",
       "      <td>971</td>\n",
       "      <td>150</td>\n",
       "    </tr>\n",
       "    <tr>\n",
       "      <th>4</th>\n",
       "      <td>DORVILLE</td>\n",
       "      <td>ALBERT</td>\n",
       "      <td>NaN</td>\n",
       "      <td>NaN</td>\n",
       "      <td>NaN</td>\n",
       "      <td>NaN</td>\n",
       "      <td>NaN</td>\n",
       "      <td>NaN</td>\n",
       "      <td>NaN</td>\n",
       "      <td>NaN</td>\n",
       "      <td>...</td>\n",
       "      <td>NaN</td>\n",
       "      <td>NaN</td>\n",
       "      <td>NaN</td>\n",
       "      <td>NaN</td>\n",
       "      <td>NaN</td>\n",
       "      <td>NaN</td>\n",
       "      <td>NaN</td>\n",
       "      <td>NaN</td>\n",
       "      <td>971</td>\n",
       "      <td>150</td>\n",
       "    </tr>\n",
       "  </tbody>\n",
       "</table>\n",
       "<p>5 rows × 34 columns</p>\n",
       "</div>"
      ],
      "text/plain": [
       "   nomdexercice prénomdexercice RPPS Specialty card_0 card_3 card_4  \\\n",
       "0       VUILLET          MICHEL  NaN       NaN    NaN    NaN    NaN   \n",
       "1       VUILLET          MICHEL  NaN       NaN    NaN    NaN    NaN   \n",
       "2         WEILL          EDGARD  NaN       NaN    NaN    NaN    NaN   \n",
       "3  BORDESSOULES          PIERRE  NaN       NaN    NaN    NaN    NaN   \n",
       "4      DORVILLE          ALBERT  NaN       NaN    NaN    NaN    NaN   \n",
       "\n",
       "  Skills Processed  Nb Skills  moyens_paiement  ...  Nb langues  \\\n",
       "0              NaN        NaN              NaN  ...         NaN   \n",
       "1              NaN        NaN              NaN  ...         NaN   \n",
       "2              NaN        NaN              NaN  ...         NaN   \n",
       "3              NaN        NaN              NaN  ...         NaN   \n",
       "4              NaN        NaN              NaN  ...         NaN   \n",
       "\n",
       "   Expériences b Carac_card_1 Transport Parking Infos Coordonnées Sans RDV  \\\n",
       "0            NaN          NaN       NaN     NaN   NaN         NaN      NaN   \n",
       "1            NaN          NaN       NaN     NaN   NaN         NaN      NaN   \n",
       "2            NaN          NaN       NaN     NaN   NaN         NaN      NaN   \n",
       "3            NaN          NaN       NaN     NaN   NaN         NaN      NaN   \n",
       "4            NaN          NaN       NaN     NaN   NaN         NaN      NaN   \n",
       "\n",
       "  Code Département  généralistes  \n",
       "0              971           150  \n",
       "1              971           150  \n",
       "2              971           150  \n",
       "3              971           150  \n",
       "4              971           150  \n",
       "\n",
       "[5 rows x 34 columns]"
      ]
     },
     "execution_count": 583,
     "metadata": {},
     "output_type": "execute_result"
    }
   ],
   "source": [
    "data_final = liste_med[['nomdexercice', 'prénomdexercice','RPPS','Specialty','card_0', 'card_3', 'card_4','Skills Processed','Nb Skills', 'moyens_paiement',\n",
    "       'carte_vitale', 'secteur', 'Présentation', 'Langues parlées',\n",
    "       'Diplômes nationaux et universitaires', 'Autres formations',\n",
    "       'Expériences', 'Travaux et publications',\n",
    "       'Prix et distinctions', 'site', 'Formations',\n",
    "       'Diplômes nationaux et universitaires b', 'Nb caractères présentation',\n",
    "       'Autres formations b', 'Nb langues', 'Expériences b', 'Carac_card_1',\n",
    "       'Transport', 'Parking', 'Infos', 'Coordonnées', 'Sans RDV','Code Département',\n",
    "       'généralistes']]\n",
    "data_final.head()"
   ]
  },
  {
   "cell_type": "markdown",
   "metadata": {},
   "source": [
    "# Step 7: A second measure of competition "
   ]
  },
  {
   "cell_type": "code",
   "execution_count": 584,
   "metadata": {
    "vscode": {
     "languageId": "shellscript"
    }
   },
   "outputs": [],
   "source": [
    "liste_med_ban=liste_med[liste_med['numérovoiecoordstructure'].notnull()]"
   ]
  },
  {
   "cell_type": "code",
   "execution_count": 585,
   "metadata": {
    "vscode": {
     "languageId": "shellscript"
    }
   },
   "outputs": [],
   "source": [
    "def nom_voie(nom_voie):\n",
    "    if isinstance(nom_voie,str):\n",
    "        if nom_voie[0] in ['1','2','3','4','5','6','7','8','9']:\n",
    "            nom_voie = nom_voie[1:]\n",
    "        if 'Imp ' in nom_voie:\n",
    "            return nom_voie.replace('Imp ','Impasse ').lower()\n",
    "        else:\n",
    "            return nom_voie.lower()\n",
    "    else:\n",
    "        return nom_voie.lower()"
   ]
  },
  {
   "cell_type": "code",
   "execution_count": 586,
   "metadata": {
    "vscode": {
     "languageId": "shellscript"
    }
   },
   "outputs": [],
   "source": [
    "liste_med_ban=liste_med_ban[liste_med_ban['libellépayscoordstructure']!='Belgique']"
   ]
  },
  {
   "cell_type": "code",
   "execution_count": 587,
   "metadata": {
    "vscode": {
     "languageId": "shellscript"
    }
   },
   "outputs": [],
   "source": [
    "def fct_voie(type_voie,nom_voie):\n",
    "    result = ''\n",
    "    if isinstance(type_voie,str) and isinstance(nom_voie,str):\n",
    "        result = (type_voie+' '+nom_voie).lower()\n",
    "    elif isinstance(nom_voie,str):\n",
    "        result = nom_voie.lower()\n",
    "    else:\n",
    "        result = nom_voie\n",
    "    if isinstance(result,str) and result[0]=='-':\n",
    "        if result[1]==' ':\n",
    "            result= result[2:]\n",
    "        else :\n",
    "            result = result[1:]\n",
    "    if isinstance(result,str) and result[0]=='/':\n",
    "        result = result[1:]\n",
    "    return result"
   ]
  },
  {
   "cell_type": "code",
   "execution_count": 588,
   "metadata": {
    "vscode": {
     "languageId": "shellscript"
    }
   },
   "outputs": [],
   "source": [
    "liste_med_ban['Voie'] = liste_med_ban.apply(lambda x: fct_voie(x['libellétypedevoiecoordstructure'],x['libellévoiecoordstructure']),axis=1)"
   ]
  },
  {
   "cell_type": "code",
   "execution_count": 589,
   "metadata": {
    "vscode": {
     "languageId": "shellscript"
    }
   },
   "outputs": [],
   "source": [
    "#Gestion des erreurs de merge\n",
    "def codecom3(codecom1):\n",
    "    if str(codecom1).startswith('75'):\n",
    "        return('75056')\n",
    "    elif str(codecom1).startswith('693'):\n",
    "        return('69123')\n",
    "    elif str(codecom1).startswith('130') or str(codecom1).startswith('132'):\n",
    "        return('13055')\n",
    "    elif str(codecom1).startswith('74011') or str(codecom1).startswith('74268')or str(codecom1).startswith('74093') or str(codecom1).startswith('74217'):\n",
    "        return('74010')\n",
    "    elif str(codecom1).startswith('49199'):\n",
    "        return('52400')\n",
    "    elif str(codecom1).startswith('29052'):\n",
    "        return('29003')\n",
    "    elif str(codecom1).startswith('85060'):\n",
    "        return('85194')\n",
    "    elif str(codecom1).startswith('50602') or str(codecom1).startswith('50173') or str(codecom1).startswith('50203'):\n",
    "        return('50129')\n",
    "    elif str(codecom1).startswith('49285'):\n",
    "        return('49301')\n",
    "    elif str(codecom1).startswith('74181'):\n",
    "        return('74112')\n",
    "    elif str(codecom1).startswith('85107'):\n",
    "        return('85146')\n",
    "    elif str(codecom1).startswith('85166'):\n",
    "        return('85194')\n",
    "    elif str(codecom1).startswith('49375'):\n",
    "        return('49023')\n",
    "    elif str(codecom1).startswith('49065'):\n",
    "        return('49080')\n",
    "    elif str(codecom1).startswith('91182'):\n",
    "        return('91228')\n",
    "    elif str(codecom1).startswith('85069'):\n",
    "        return('85008')\n",
    "    elif str(codecom1).startswith('49276'):\n",
    "        return('49244')\n",
    "    elif str(codecom1).startswith('22038'):\n",
    "        return('22206')\n",
    "    elif str(codecom1).startswith('77491'):\n",
    "        return('77316')\n",
    "    elif str(codecom1).startswith('49273'):\n",
    "        return('49301')\n",
    "    else:\n",
    "        return(str(codecom1))"
   ]
  },
  {
   "cell_type": "code",
   "execution_count": 590,
   "metadata": {
    "vscode": {
     "languageId": "shellscript"
    }
   },
   "outputs": [],
   "source": [
    "liste_med_ban['codecommunecoordstructure3']=liste_med_ban['codecommunecoordstructure'].apply(codecom3)"
   ]
  },
  {
   "cell_type": "code",
   "execution_count": 591,
   "metadata": {
    "vscode": {
     "languageId": "shellscript"
    }
   },
   "outputs": [],
   "source": [
    "liste_med_ban_metr=liste_med_ban[~(liste_med_ban['codecommunecoordstructure3'].str.startswith('97'))]"
   ]
  },
  {
   "cell_type": "code",
   "execution_count": 593,
   "metadata": {},
   "outputs": [],
   "source": [
    "apl=pd.read_excel('data/APL_mg_2022.xlsx')"
   ]
  },
  {
   "cell_type": "code",
   "execution_count": 594,
   "metadata": {},
   "outputs": [],
   "source": [
    "apl.drop(columns=[\"APL aux médecins généralistes (sans borne d'âge)\",\"APL aux médecins généralistes de 62 ans et moins\"],inplace=True)"
   ]
  },
  {
   "cell_type": "code",
   "execution_count": 595,
   "metadata": {},
   "outputs": [
    {
     "data": {
      "text/html": [
       "<div>\n",
       "<style scoped>\n",
       "    .dataframe tbody tr th:only-of-type {\n",
       "        vertical-align: middle;\n",
       "    }\n",
       "\n",
       "    .dataframe tbody tr th {\n",
       "        vertical-align: top;\n",
       "    }\n",
       "\n",
       "    .dataframe thead th {\n",
       "        text-align: right;\n",
       "    }\n",
       "</style>\n",
       "<table border=\"1\" class=\"dataframe\">\n",
       "  <thead>\n",
       "    <tr style=\"text-align: right;\">\n",
       "      <th></th>\n",
       "      <th>Code commune</th>\n",
       "      <th>Libellé de la commune</th>\n",
       "      <th>Population totale</th>\n",
       "      <th>APL aux médecins généralistes de 65 ans et moins</th>\n",
       "      <th>Population standardisée par la consommation de soins par tranche d'âge</th>\n",
       "    </tr>\n",
       "  </thead>\n",
       "  <tbody>\n",
       "    <tr>\n",
       "      <th>0</th>\n",
       "      <td>01001</td>\n",
       "      <td>L'Abergement-Clémenciat</td>\n",
       "      <td>806.0</td>\n",
       "      <td>1.823</td>\n",
       "      <td>817.600</td>\n",
       "    </tr>\n",
       "    <tr>\n",
       "      <th>1</th>\n",
       "      <td>01002</td>\n",
       "      <td>L'Abergement-de-Varey</td>\n",
       "      <td>262.0</td>\n",
       "      <td>2.008</td>\n",
       "      <td>253.836</td>\n",
       "    </tr>\n",
       "    <tr>\n",
       "      <th>2</th>\n",
       "      <td>01004</td>\n",
       "      <td>Ambérieu-en-Bugey</td>\n",
       "      <td>14288.0</td>\n",
       "      <td>2.866</td>\n",
       "      <td>14028.085</td>\n",
       "    </tr>\n",
       "    <tr>\n",
       "      <th>3</th>\n",
       "      <td>01005</td>\n",
       "      <td>Ambérieux-en-Dombes</td>\n",
       "      <td>1782.0</td>\n",
       "      <td>3.922</td>\n",
       "      <td>1745.171</td>\n",
       "    </tr>\n",
       "    <tr>\n",
       "      <th>4</th>\n",
       "      <td>01006</td>\n",
       "      <td>Ambléon</td>\n",
       "      <td>113.0</td>\n",
       "      <td>0.799</td>\n",
       "      <td>120.879</td>\n",
       "    </tr>\n",
       "  </tbody>\n",
       "</table>\n",
       "</div>"
      ],
      "text/plain": [
       "  Code commune    Libellé de la commune  Population totale  \\\n",
       "0        01001  L'Abergement-Clémenciat              806.0   \n",
       "1        01002    L'Abergement-de-Varey              262.0   \n",
       "2        01004        Ambérieu-en-Bugey            14288.0   \n",
       "3        01005      Ambérieux-en-Dombes             1782.0   \n",
       "4        01006                  Ambléon              113.0   \n",
       "\n",
       "   APL aux médecins généralistes de 65 ans et moins  \\\n",
       "0                                             1.823   \n",
       "1                                             2.008   \n",
       "2                                             2.866   \n",
       "3                                             3.922   \n",
       "4                                             0.799   \n",
       "\n",
       "   Population standardisée par la consommation de soins par tranche d'âge  \n",
       "0                                            817.600                       \n",
       "1                                            253.836                       \n",
       "2                                          14028.085                       \n",
       "3                                           1745.171                       \n",
       "4                                            120.879                       "
      ]
     },
     "execution_count": 595,
     "metadata": {},
     "output_type": "execute_result"
    }
   ],
   "source": [
    "apl.head()"
   ]
  },
  {
   "cell_type": "code",
   "execution_count": 596,
   "metadata": {},
   "outputs": [],
   "source": [
    "apl=apl[~(apl['Code commune'].str.startswith('97'))]"
   ]
  },
  {
   "cell_type": "code",
   "execution_count": 597,
   "metadata": {},
   "outputs": [],
   "source": [
    "apl['Code commune2'] = apl['Code commune'].apply(codecom3)"
   ]
  },
  {
   "cell_type": "code",
   "execution_count": 598,
   "metadata": {},
   "outputs": [],
   "source": [
    "moyM=apl[apl['Code commune2']=='13055']['APL aux médecins généralistes de 65 ans et moins'].mean()\n",
    "moyL=apl[apl['Code commune2']=='69123']['APL aux médecins généralistes de 65 ans et moins'].mean()\n",
    "moyP=apl[apl['Code commune2']=='75056']['APL aux médecins généralistes de 65 ans et moins'].mean()\n",
    "moy74010=apl[apl['Code commune2']=='74010']['APL aux médecins généralistes de 65 ans et moins'].mean()\n",
    "moy52400=apl[apl['Code commune2']=='52400']['APL aux médecins généralistes de 65 ans et moins'].mean()\n",
    "moy29003=apl[apl['Code commune2']=='29003']['APL aux médecins généralistes de 65 ans et moins'].mean()\n",
    "moy85194=apl[apl['Code commune2']=='85194']['APL aux médecins généralistes de 65 ans et moins'].mean()\n",
    "moy50129=apl[apl['Code commune2']=='50129']['APL aux médecins généralistes de 65 ans et moins'].mean()\n",
    "moy49301=apl[apl['Code commune2']=='49301']['APL aux médecins généralistes de 65 ans et moins'].mean()\n",
    "moy74112=apl[apl['Code commune2']=='74112']['APL aux médecins généralistes de 65 ans et moins'].mean()\n",
    "moy85146=apl[apl['Code commune2']=='85146']['APL aux médecins généralistes de 65 ans et moins'].mean()\n",
    "moy85194=apl[apl['Code commune2']=='85194']['APL aux médecins généralistes de 65 ans et moins'].mean()\n",
    "moy49023=apl[apl['Code commune2']=='49023']['APL aux médecins généralistes de 65 ans et moins'].mean()\n",
    "moy49080=apl[apl['Code commune2']=='49080']['APL aux médecins généralistes de 65 ans et moins'].mean()\n",
    "moy91228=apl[apl['Code commune2']=='91228']['APL aux médecins généralistes de 65 ans et moins'].mean()\n",
    "moy85008=apl[apl['Code commune2']=='85008']['APL aux médecins généralistes de 65 ans et moins'].mean()\n",
    "moy49244=apl[apl['Code commune2']=='49244']['APL aux médecins généralistes de 65 ans et moins'].mean()\n",
    "moy22206=apl[apl['Code commune2']=='22206']['APL aux médecins généralistes de 65 ans et moins'].mean()\n",
    "moy77316=apl[apl['Code commune2']=='77316']['APL aux médecins généralistes de 65 ans et moins'].mean()\n",
    "moy49301=apl[apl['Code commune2']=='49301']['APL aux médecins généralistes de 65 ans et moins'].mean()\n"
   ]
  },
  {
   "cell_type": "code",
   "execution_count": 599,
   "metadata": {},
   "outputs": [],
   "source": [
    "def new_apl(apl,code):\n",
    "    if code=='13055':\n",
    "        return moyM\n",
    "    elif code=='69123':\n",
    "        return moyL\n",
    "    elif code=='75056':\n",
    "        return moyP\n",
    "    elif code=='74010':\n",
    "        return moy74010\n",
    "    elif code=='52400':\n",
    "        return moy52400\n",
    "    elif code=='29003':\n",
    "        return moy29003\n",
    "    elif code=='85194':\n",
    "        return moy85194\n",
    "    elif code=='50129':\n",
    "        return moy50129\n",
    "    elif code=='49301':\n",
    "        return moy49301\n",
    "    elif code=='74112':\n",
    "        return moy74112\n",
    "    elif code=='85146':\n",
    "        return moy85146\n",
    "    elif code=='85194':\n",
    "        return moy85194\n",
    "    elif code=='49023':\n",
    "        return moy49023\n",
    "    elif code=='49080':\n",
    "        return moy49080\n",
    "    elif code=='91228':\n",
    "        return moy91228\n",
    "    elif code=='85008':\n",
    "        return moy85008\n",
    "    elif code=='49244':\n",
    "        return moy49244\n",
    "    elif code=='22206':\n",
    "        return moy22206\n",
    "    elif code=='77316':\n",
    "        return moy77316\n",
    "    elif code=='49301':\n",
    "        return moy49301\n",
    "    else:\n",
    "        return apl"
   ]
  },
  {
   "cell_type": "code",
   "execution_count": 600,
   "metadata": {},
   "outputs": [],
   "source": [
    "apl[\"APL\"]=apl.apply(lambda x : new_apl(x['APL aux médecins généralistes de 65 ans et moins'],x['Code commune2']),axis=1)"
   ]
  },
  {
   "cell_type": "code",
   "execution_count": 601,
   "metadata": {},
   "outputs": [
    {
     "data": {
      "text/html": [
       "<div>\n",
       "<style scoped>\n",
       "    .dataframe tbody tr th:only-of-type {\n",
       "        vertical-align: middle;\n",
       "    }\n",
       "\n",
       "    .dataframe tbody tr th {\n",
       "        vertical-align: top;\n",
       "    }\n",
       "\n",
       "    .dataframe thead th {\n",
       "        text-align: right;\n",
       "    }\n",
       "</style>\n",
       "<table border=\"1\" class=\"dataframe\">\n",
       "  <thead>\n",
       "    <tr style=\"text-align: right;\">\n",
       "      <th></th>\n",
       "      <th>Code commune</th>\n",
       "      <th>Libellé de la commune</th>\n",
       "      <th>Population totale</th>\n",
       "      <th>APL aux médecins généralistes de 65 ans et moins</th>\n",
       "      <th>Population standardisée par la consommation de soins par tranche d'âge</th>\n",
       "      <th>Code commune2</th>\n",
       "      <th>APL</th>\n",
       "    </tr>\n",
       "  </thead>\n",
       "  <tbody>\n",
       "    <tr>\n",
       "      <th>0</th>\n",
       "      <td>01001</td>\n",
       "      <td>L'Abergement-Clémenciat</td>\n",
       "      <td>806.0</td>\n",
       "      <td>1.823</td>\n",
       "      <td>817.600</td>\n",
       "      <td>01001</td>\n",
       "      <td>1.823</td>\n",
       "    </tr>\n",
       "    <tr>\n",
       "      <th>1</th>\n",
       "      <td>01002</td>\n",
       "      <td>L'Abergement-de-Varey</td>\n",
       "      <td>262.0</td>\n",
       "      <td>2.008</td>\n",
       "      <td>253.836</td>\n",
       "      <td>01002</td>\n",
       "      <td>2.008</td>\n",
       "    </tr>\n",
       "    <tr>\n",
       "      <th>2</th>\n",
       "      <td>01004</td>\n",
       "      <td>Ambérieu-en-Bugey</td>\n",
       "      <td>14288.0</td>\n",
       "      <td>2.866</td>\n",
       "      <td>14028.085</td>\n",
       "      <td>01004</td>\n",
       "      <td>2.866</td>\n",
       "    </tr>\n",
       "    <tr>\n",
       "      <th>3</th>\n",
       "      <td>01005</td>\n",
       "      <td>Ambérieux-en-Dombes</td>\n",
       "      <td>1782.0</td>\n",
       "      <td>3.922</td>\n",
       "      <td>1745.171</td>\n",
       "      <td>01005</td>\n",
       "      <td>3.922</td>\n",
       "    </tr>\n",
       "    <tr>\n",
       "      <th>4</th>\n",
       "      <td>01006</td>\n",
       "      <td>Ambléon</td>\n",
       "      <td>113.0</td>\n",
       "      <td>0.799</td>\n",
       "      <td>120.879</td>\n",
       "      <td>01006</td>\n",
       "      <td>0.799</td>\n",
       "    </tr>\n",
       "  </tbody>\n",
       "</table>\n",
       "</div>"
      ],
      "text/plain": [
       "  Code commune    Libellé de la commune  Population totale  \\\n",
       "0        01001  L'Abergement-Clémenciat              806.0   \n",
       "1        01002    L'Abergement-de-Varey              262.0   \n",
       "2        01004        Ambérieu-en-Bugey            14288.0   \n",
       "3        01005      Ambérieux-en-Dombes             1782.0   \n",
       "4        01006                  Ambléon              113.0   \n",
       "\n",
       "   APL aux médecins généralistes de 65 ans et moins  \\\n",
       "0                                             1.823   \n",
       "1                                             2.008   \n",
       "2                                             2.866   \n",
       "3                                             3.922   \n",
       "4                                             0.799   \n",
       "\n",
       "   Population standardisée par la consommation de soins par tranche d'âge  \\\n",
       "0                                            817.600                        \n",
       "1                                            253.836                        \n",
       "2                                          14028.085                        \n",
       "3                                           1745.171                        \n",
       "4                                            120.879                        \n",
       "\n",
       "  Code commune2    APL  \n",
       "0         01001  1.823  \n",
       "1         01002  2.008  \n",
       "2         01004  2.866  \n",
       "3         01005  3.922  \n",
       "4         01006  0.799  "
      ]
     },
     "execution_count": 601,
     "metadata": {},
     "output_type": "execute_result"
    }
   ],
   "source": [
    "apl_unique=apl.drop_duplicates(subset=['Code commune2'])\n",
    "apl_unique.head() "
   ]
  },
  {
   "cell_type": "code",
   "execution_count": 602,
   "metadata": {},
   "outputs": [],
   "source": [
    "liste_med_ban_apl = liste_med_ban_metr.merge(apl_unique,how='inner', left_on='codecommunecoordstructure3', right_on='Code commune2')"
   ]
  },
  {
   "cell_type": "code",
   "execution_count": 604,
   "metadata": {},
   "outputs": [
    {
     "data": {
      "text/plain": [
       "0.002468998807112936"
      ]
     },
     "execution_count": 604,
     "metadata": {},
     "output_type": "execute_result"
    }
   ],
   "source": [
    "#Compute the errors' ratio\n",
    "(liste_med_ban_metr.shape[0]-liste_med_ban_apl.shape[0])/liste_med_ban_metr.shape[0]"
   ]
  },
  {
   "cell_type": "code",
   "execution_count": 605,
   "metadata": {},
   "outputs": [],
   "source": [
    "#To find where the errors are\n",
    "liste_med_ban_apl_outer = liste_med_ban_metr.merge(apl_unique, how='outer', left_on='codecommunecoordstructure3', right_on='Code commune2', indicator=True)\n",
    "#Filter lines without any match\n",
    "liste_med_ban_no_match = liste_med_ban_apl_outer[liste_med_ban_apl_outer['_merge'] == 'left_only']\n",
    "apl_no_match = liste_med_ban_apl_outer[liste_med_ban_apl_outer['_merge'] == 'right_only']"
   ]
  },
  {
   "cell_type": "code",
   "execution_count": 606,
   "metadata": {},
   "outputs": [
    {
     "data": {
      "text/plain": [
       "(178,)"
      ]
     },
     "execution_count": 606,
     "metadata": {},
     "output_type": "execute_result"
    }
   ],
   "source": [
    "liste_med_ban_no_match['codecommunecoordstructure3'].value_counts()"
   ]
  },
  {
   "cell_type": "markdown",
   "metadata": {},
   "source": [
    "# Step 8: We select an instrumental variable "
   ]
  },
  {
   "cell_type": "code",
   "execution_count": 607,
   "metadata": {},
   "outputs": [
    {
     "name": "stderr",
     "output_type": "stream",
     "text": [
      "/Users/julie/miniconda3/lib/python3.11/site-packages/openpyxl/worksheet/_reader.py:329: UserWarning: Unknown extension is not supported and will be removed\n",
      "  warn(msg)\n",
      "/Users/julie/miniconda3/lib/python3.11/site-packages/openpyxl/worksheet/_reader.py:329: UserWarning: Conditional Formatting extension is not supported and will be removed\n",
      "  warn(msg)\n"
     ]
    }
   ],
   "source": [
    "fibre=pd.read_excel('data/fibre.xlsx')"
   ]
  },
  {
   "cell_type": "code",
   "execution_count": 608,
   "metadata": {},
   "outputs": [
    {
     "data": {
      "text/html": [
       "<div>\n",
       "<style scoped>\n",
       "    .dataframe tbody tr th:only-of-type {\n",
       "        vertical-align: middle;\n",
       "    }\n",
       "\n",
       "    .dataframe tbody tr th {\n",
       "        vertical-align: top;\n",
       "    }\n",
       "\n",
       "    .dataframe thead th {\n",
       "        text-align: right;\n",
       "    }\n",
       "</style>\n",
       "<table border=\"1\" class=\"dataframe\">\n",
       "  <thead>\n",
       "    <tr style=\"text-align: right;\">\n",
       "      <th></th>\n",
       "      <th>Code Insee</th>\n",
       "      <th>Commune</th>\n",
       "      <th>Nombre de locaux</th>\n",
       "      <th>Fibre</th>\n",
       "    </tr>\n",
       "  </thead>\n",
       "  <tbody>\n",
       "    <tr>\n",
       "      <th>0</th>\n",
       "      <td>25008</td>\n",
       "      <td>Aibre</td>\n",
       "      <td>214</td>\n",
       "      <td>0.981308</td>\n",
       "    </tr>\n",
       "    <tr>\n",
       "      <th>1</th>\n",
       "      <td>56194</td>\n",
       "      <td>Rieux</td>\n",
       "      <td>1892</td>\n",
       "      <td>0</td>\n",
       "    </tr>\n",
       "    <tr>\n",
       "      <th>2</th>\n",
       "      <td>70361</td>\n",
       "      <td>Montessaux</td>\n",
       "      <td>92</td>\n",
       "      <td>0.75</td>\n",
       "    </tr>\n",
       "    <tr>\n",
       "      <th>3</th>\n",
       "      <td>25262</td>\n",
       "      <td>Fuans</td>\n",
       "      <td>295</td>\n",
       "      <td>0.928814</td>\n",
       "    </tr>\n",
       "    <tr>\n",
       "      <th>4</th>\n",
       "      <td>89168</td>\n",
       "      <td>Fleys</td>\n",
       "      <td>167</td>\n",
       "      <td>0</td>\n",
       "    </tr>\n",
       "  </tbody>\n",
       "</table>\n",
       "</div>"
      ],
      "text/plain": [
       "  Code Insee     Commune  Nombre de locaux     Fibre\n",
       "0      25008       Aibre               214  0.981308\n",
       "1      56194       Rieux              1892         0\n",
       "2      70361  Montessaux                92      0.75\n",
       "3      25262       Fuans               295  0.928814\n",
       "4      89168       Fleys               167         0"
      ]
     },
     "execution_count": 608,
     "metadata": {},
     "output_type": "execute_result"
    }
   ],
   "source": [
    "fibre.head()"
   ]
  },
  {
   "cell_type": "code",
   "execution_count": 609,
   "metadata": {},
   "outputs": [],
   "source": [
    "fibre.drop(columns=['Nombre de locaux','Commune'],inplace=True)"
   ]
  },
  {
   "cell_type": "code",
   "execution_count": 610,
   "metadata": {},
   "outputs": [],
   "source": [
    "#First attempt to merge\n",
    "liste_med_ban_fibre_outer = liste_med_ban.merge(fibre, how='outer', left_on='codecommunecoordstructure3', right_on='Code Insee', indicator=True)\n",
    "#Filter the lines without any match in the data frame\n",
    "liste_med_ban_fibre_no_match = liste_med_ban_fibre_outer[liste_med_ban_fibre_outer['_merge'] == 'left_only']\n",
    "fibre_no_match = liste_med_ban_fibre_outer[liste_med_ban_fibre_outer['_merge'] == 'right_only']"
   ]
  },
  {
   "cell_type": "code",
   "execution_count": 611,
   "metadata": {},
   "outputs": [
    {
     "data": {
      "text/plain": [
       "(178, 77)"
      ]
     },
     "execution_count": 611,
     "metadata": {},
     "output_type": "execute_result"
    }
   ],
   "source": [
    "liste_med_ban_fibre_no_match.shape"
   ]
  },
  {
   "cell_type": "code",
   "execution_count": 612,
   "metadata": {},
   "outputs": [],
   "source": [
    "liste_med_ban_fibre = liste_med_ban_apl.merge(fibre, how='inner', left_on='codecommunecoordstructure3', right_on='Code Insee')"
   ]
  },
  {
   "cell_type": "code",
   "execution_count": 614,
   "metadata": {},
   "outputs": [],
   "source": [
    "liste_med_ban_drop=liste_med_ban_fibre.drop(columns=['Code commune','Libellé de la commune','Code commune2','APL aux médecins généralistes de 65 ans et moins', 'Code Insee'])"
   ]
  },
  {
   "cell_type": "markdown",
   "metadata": {},
   "source": [
    "# Step 9: We compute the percentage of doctors registered in Doctolib "
   ]
  },
  {
   "cell_type": "code",
   "execution_count": 615,
   "metadata": {},
   "outputs": [],
   "source": [
    "dico_share={}\n",
    "for i in range(liste_med_ban_drop.shape[0]):\n",
    "    codecom = liste_med_ban_drop['codecommunecoordstructure3'].iloc[i]\n",
    "    if codecom not in dico_share.keys():\n",
    "        share=1-(liste_med_ban_drop['RPPS'][liste_med_ban_drop['codecommunecoordstructure3']==codecom].isnull().sum()/liste_med_ban_drop[(liste_med_ban_drop['codecommunecoordstructure3']==codecom)].shape[0])\n",
    "        dico_share[codecom]=share\n",
    "        liste_med_ban_drop.loc[i,'share_Doctolib']=share\n",
    "    else:\n",
    "        liste_med_ban_drop.loc[i,'share_Doctolib']=dico_share[codecom]"
   ]
  },
  {
   "cell_type": "code",
   "execution_count": 617,
   "metadata": {},
   "outputs": [],
   "source": [
    "df_a_merge=liste_med_ban_drop[['Population totale',\"Population standardisée par la consommation de soins par tranche d'âge\",'identifiantpp','APL','share_Doctolib','Fibre']]"
   ]
  },
  {
   "cell_type": "code",
   "execution_count": 618,
   "metadata": {},
   "outputs": [
    {
     "data": {
      "text/plain": [
       "identifiantpp\n",
       "10101216785    11\n",
       "10100876696    11\n",
       "10100945863     8\n",
       "10100963874     8\n",
       "10101490422     8\n",
       "               ..\n",
       "10002981131     1\n",
       "10002981180     1\n",
       "10002981701     1\n",
       "10002982105     1\n",
       "10110318770     1\n",
       "Name: count, Length: 62643, dtype: int64"
      ]
     },
     "execution_count": 618,
     "metadata": {},
     "output_type": "execute_result"
    }
   ],
   "source": [
    "df_a_merge['identifiantpp'].value_counts()"
   ]
  },
  {
   "cell_type": "code",
   "execution_count": 619,
   "metadata": {},
   "outputs": [],
   "source": [
    "medecin_gen1=medecin_gen.merge(df_a_merge,how='inner',right_on='identifiantpp',left_on='RPPS')"
   ]
  },
  {
   "cell_type": "code",
   "execution_count": 620,
   "metadata": {},
   "outputs": [],
   "source": [
    "medecin_gen1.drop(columns=['identifiantpp'],inplace=True)"
   ]
  },
  {
   "cell_type": "code",
   "execution_count": 621,
   "metadata": {},
   "outputs": [
    {
     "data": {
      "text/plain": [
       "(46, 47)"
      ]
     },
     "execution_count": 621,
     "metadata": {},
     "output_type": "execute_result"
    }
   ],
   "source": [
    "medecin_gen1.shape"
   ]
  },
  {
   "cell_type": "markdown",
   "metadata": {},
   "source": [
    "# Step 10: Exportation "
   ]
  },
  {
   "cell_type": "code",
   "execution_count": 622,
   "metadata": {},
   "outputs": [],
   "source": [
    "liste_med.to_csv('liste_med.csv')\n",
    "medecin_gen3.to_csv('medecin_gen.csv')\n",
    "liste_med_ban.to_csv('liste_med_ban.csv')"
   ]
  }
 ],
 "metadata": {
  "kernelspec": {
   "display_name": "base",
   "language": "python",
   "name": "python3"
  },
  "language_info": {
   "codemirror_mode": {
    "name": "ipython",
    "version": 3
   },
   "file_extension": ".py",
   "mimetype": "text/x-python",
   "name": "python",
   "nbconvert_exporter": "python",
   "pygments_lexer": "ipython3",
   "version": "3.11.4"
  }
 },
 "nbformat": 4,
 "nbformat_minor": 4
}
