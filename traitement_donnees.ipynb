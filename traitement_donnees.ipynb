{
 "cells": [
  {
   "cell_type": "code",
   "execution_count": 140,
   "metadata": {
    "vscode": {
     "languageId": "shellscript"
    }
   },
   "outputs": [],
   "source": [
    "import pandas as pd\n",
    "import ast \n",
    "import numpy as np\n",
    "import csv"
   ]
  },
  {
   "cell_type": "code",
   "execution_count": 141,
   "metadata": {
    "vscode": {
     "languageId": "shellscript"
    }
   },
   "outputs": [],
   "source": [
    "data = pd.read_csv('data/extracted_data_final_0_1000.csv')"
   ]
  },
  {
   "cell_type": "code",
   "execution_count": 142,
   "metadata": {
    "vscode": {
     "languageId": "shellscript"
    }
   },
   "outputs": [],
   "source": [
    "# Fonction pour réorganiser les profils cards\n",
    "def reorder_cards(profile_cards):\n",
    "    try:\n",
    "        cards_dict = ast.literal_eval(profile_cards)\n",
    "        \n",
    "        reordered_cards = {\n",
    "            'card_1': np.nan,\n",
    "            'card_2': np.nan,\n",
    "            'card_3': np.nan,\n",
    "            'card_4': np.nan,\n",
    "            'card_5': np.nan\n",
    "        }\n",
    "\n",
    "        for key, value in cards_dict.items():\n",
    "            if value.startswith(\"Carte et informations d'accès\"):\n",
    "                reordered_cards['card_1'] = value.split('\\n') \n",
    "            elif value.startswith(\"Présentation\"):\n",
    "                reordered_cards['card_2'] = value.split('\\n') \n",
    "            elif value.startswith(\"Horaires et coordonnées\"):\n",
    "                reordered_cards['card_3'] = value.split('\\n') \n",
    "            elif value.startswith(\"Tarifs\"):\n",
    "                reordered_cards['card_4'] = value.split('\\n') \n",
    "            elif value.startswith(\"Informations légales\"):\n",
    "                reordered_cards['card_5'] = value.split('\\n') \n",
    "        \n",
    "        return reordered_cards\n",
    "    except:\n",
    "        return {\n",
    "            'card_1': np.nan,\n",
    "            'card_2': np.nan,\n",
    "            'card_3': np.nan,\n",
    "            'card_4': np.nan,\n",
    "            'card_5': np.nan\n",
    "        }\n",
    "\n",
    "reordered_cards = data['Profile Cards'].apply(reorder_cards)\n",
    "\n",
    "reordered_cards_df = pd.json_normalize(reordered_cards)\n",
    "\n",
    "data_combined = pd.concat([data, reordered_cards_df], axis=1)\n",
    "\n",
    "data_combined.drop(columns = 'Profile Cards', inplace=True)"
   ]
  },
  {
   "cell_type": "code",
   "execution_count": 143,
   "metadata": {
    "vscode": {
     "languageId": "shellscript"
    }
   },
   "outputs": [],
   "source": [
    "#Pour rendre la localisation plus claire\n",
    "def extract_lat_lng(map_location):\n",
    "    try:\n",
    "        location_dict = ast.literal_eval(map_location)\n",
    "        return (location_dict['lat'], location_dict['lng'])\n",
    "    except:\n",
    "        return (None, None)\n",
    "\n",
    "data_combined['Latitude'], data_combined['Longitude'] = zip(*data_combined['Map Location'].apply(extract_lat_lng))\n",
    "\n",
    "data_combined.drop(columns = 'Map Location', inplace=True)\n"
   ]
  },
  {
   "cell_type": "code",
   "execution_count": 144,
   "metadata": {
    "vscode": {
     "languageId": "shellscript"
    }
   },
   "outputs": [],
   "source": [
    "# Fonction pour traiter la colonne 'Skills'\n",
    "def process_skills(skills):\n",
    "    if skills == 'Skills missing':\n",
    "        return np.nan\n",
    "    else:\n",
    "        return skills.split('\\n')\n",
    "\n",
    "data_combined['Skills Processed'] = data_combined['Skills'].apply(process_skills)\n",
    "\n",
    "data_combined.drop(columns = 'Skills', inplace=True)"
   ]
  },
  {
   "cell_type": "code",
   "execution_count": 145,
   "metadata": {
    "vscode": {
     "languageId": "shellscript"
    }
   },
   "outputs": [
    {
     "data": {
      "text/plain": [
       "Specialty\n",
       "Chirurgien-dentiste                                                 152\n",
       "Médecin généraliste                                                 104\n",
       "Ophtalmologue                                                        75\n",
       "Cabinet médical                                                      56\n",
       "Spécialiste en chirurgie plastique reconstructrice et esthétique     40\n",
       "                                                                   ... \n",
       "Chirurgien oral                                                       1\n",
       "Acupuncteur                                                           1\n",
       "Addictologue                                                          1\n",
       "Chirurgien cancérologue                                               1\n",
       "Diététicien                                                           1\n",
       "Name: count, Length: 78, dtype: int64"
      ]
     },
     "execution_count": 145,
     "metadata": {},
     "output_type": "execute_result"
    }
   ],
   "source": [
    "data_combined['Specialty'].value_counts()"
   ]
  },
  {
   "cell_type": "code",
   "execution_count": 146,
   "metadata": {
    "vscode": {
     "languageId": "shellscript"
    }
   },
   "outputs": [],
   "source": [
    "data_combined['RPPS'] = data_combined['card_5'].apply(lambda x: x[2] if isinstance(x, list) and len(x) > 2 else np.nan)\n",
    "\n",
    "data_combined.drop(columns = 'card_5', inplace = True)\n"
   ]
  },
  {
   "cell_type": "code",
   "execution_count": 147,
   "metadata": {
    "vscode": {
     "languageId": "shellscript"
    }
   },
   "outputs": [],
   "source": [
    "data_combined['Nb Skills'] = data_combined['Skills Processed'].apply(lambda x: len(x)-1 if isinstance(x, list) else np.nan)"
   ]
  },
  {
   "cell_type": "code",
   "execution_count": 148,
   "metadata": {
    "vscode": {
     "languageId": "shellscript"
    }
   },
   "outputs": [],
   "source": [
    "data_combined['Présentation']=''\n",
    "data_combined['Langues parlées']=''\n",
    "data_combined['Diplômes nationaux et universitaires']=''\n",
    "data_combined['Autres formations']=''\n",
    "data_combined['Expériences']=''\n",
    "data_combined['Site web']=''\n",
    "data_combined['Travaux et publications']=''\n",
    "data_combined['Prix et distinctions']=''\n",
    "data_combined['site']=0\n",
    "\n",
    "liste_mots_clefs = ['Présentation','Langues parlées','Diplômes nationaux et universitaires','Formations','Autres formations','Expériences', 'Site web', 'Travaux et publications', 'Prix et distinctions']\n",
    "\n",
    "for i in range(data_combined.shape[0]):\n",
    "    \n",
    "    if isinstance(data_combined['card_2'].iloc[i],list) : \n",
    "        liste_card2 = data_combined['card_2'].iloc[i][1:]\n",
    "        sous_liste = ''\n",
    "        label = liste_mots_clefs[0]\n",
    "        for x in liste_card2 :\n",
    "            if x in liste_mots_clefs :\n",
    "                data_combined.loc[i, label] = sous_liste\n",
    "                label = x\n",
    "                sous_liste = ''\n",
    "            elif x=='Voir le site':\n",
    "                data_combined.loc[i, 'site'] = 1\n",
    "            elif x=='▾ Voir plus':\n",
    "                None\n",
    "            else :\n",
    "                sous_liste = sous_liste+(x)"
   ]
  },
  {
   "cell_type": "code",
   "execution_count": 149,
   "metadata": {
    "vscode": {
     "languageId": "shellscript"
    }
   },
   "outputs": [],
   "source": [
    "data_combined['Diplômes nationaux et universitaires b']=data_combined['Diplômes nationaux et universitaires'].apply(lambda x: 1 if len(x)>0 else 0)"
   ]
  },
  {
   "cell_type": "code",
   "execution_count": 150,
   "metadata": {
    "vscode": {
     "languageId": "shellscript"
    }
   },
   "outputs": [],
   "source": [
    "data_combined['Nb caractères présentation'] = data_combined['Présentation'].apply(lambda x: len(x))"
   ]
  },
  {
   "cell_type": "code",
   "execution_count": 151,
   "metadata": {
    "vscode": {
     "languageId": "shellscript"
    }
   },
   "outputs": [],
   "source": [
    "data_combined['Autres formations b']=data_combined['Autres formations'].apply(lambda x: 1 if len(x)>0 else 0)"
   ]
  },
  {
   "cell_type": "code",
   "execution_count": 152,
   "metadata": {
    "vscode": {
     "languageId": "shellscript"
    }
   },
   "outputs": [],
   "source": [
    "data_combined['Nb langues']=0\n",
    "\n",
    "for i in range(data_combined.shape[0]):\n",
    "    if isinstance(data_combined['Langues parlées'].iloc[i],str) : \n",
    "        liste_langue = (data_combined['Langues parlées'].iloc[i]).split()\n",
    "        count = 0\n",
    "        for x in liste_langue :\n",
    "            \n",
    "            if  x != 'et'  :\n",
    "                count +=1\n",
    "        data_combined.loc[i,'Nb langues']=count"
   ]
  },
  {
   "cell_type": "code",
   "execution_count": 153,
   "metadata": {
    "vscode": {
     "languageId": "shellscript"
    }
   },
   "outputs": [],
   "source": [
    "data_combined['Expériences b']=data_combined['Expériences'].apply(lambda x: 1 if len(x)>0 else 0)"
   ]
  },
  {
   "cell_type": "code",
   "execution_count": 154,
   "metadata": {
    "vscode": {
     "languageId": "shellscript"
    }
   },
   "outputs": [],
   "source": [
    "liste1 = [\"Carte et informations d'accès\",'Moyens de transport','Parking public','Informations pratiques',\"J'autorise le traitement d'informations (dont mon adresse IP) et leur transfert hors UE par Google Maps (USA) afin d’afficher la carte.En savoir plus\", 'sur la collecte et le traitement des données par Google','AFFICHER LA CARTE']\n",
    "def carac1(card1):\n",
    "    nb=0\n",
    "    for phrase in card1:\n",
    "        if  phrase not in liste1:\n",
    "            nb += len(phrase)\n",
    "    return nb\n",
    "data_combined['Carac_card_1'] = data_combined['card_1'].apply(lambda x: carac1(x)if isinstance(x, list) else np.nan)"
   ]
  },
  {
   "cell_type": "code",
   "execution_count": 155,
   "metadata": {
    "vscode": {
     "languageId": "shellscript"
    }
   },
   "outputs": [],
   "source": [
    "def transport(card1):\n",
    "    if isinstance(card1, list):\n",
    "        if 'Moyens de transport' in card1:\n",
    "            return 1\n",
    "        else:\n",
    "            return 0\n",
    "    else:\n",
    "        return 0\n",
    "data_combined['Transport'] = data_combined['card_1'].apply(transport)"
   ]
  },
  {
   "cell_type": "code",
   "execution_count": 156,
   "metadata": {
    "vscode": {
     "languageId": "shellscript"
    }
   },
   "outputs": [],
   "source": [
    "def parking(card1):\n",
    "    if isinstance(card1, list):\n",
    "        if 'Parking public' in card1:\n",
    "            return 1\n",
    "        else:\n",
    "            return 0\n",
    "    else:\n",
    "        return 0\n",
    "data_combined['Parking'] = data_combined['card_1'].apply(parking)"
   ]
  },
  {
   "cell_type": "code",
   "execution_count": 157,
   "metadata": {
    "vscode": {
     "languageId": "shellscript"
    }
   },
   "outputs": [],
   "source": [
    "def infos(card1):\n",
    "    if isinstance(card1, list):\n",
    "        if 'Informations pratiques' in card1:\n",
    "            return 1\n",
    "        else:\n",
    "            return 0\n",
    "    else:\n",
    "        return 0\n",
    "data_combined['Infos'] = data_combined['card_1'].apply(infos)"
   ]
  },
  {
   "cell_type": "code",
   "execution_count": 158,
   "metadata": {
    "vscode": {
     "languageId": "shellscript"
    }
   },
   "outputs": [],
   "source": [
    "def coordonnées(card3):\n",
    "    if isinstance(card3, list):\n",
    "        if 'Coordonnées' in card3:\n",
    "            return 1\n",
    "        else:\n",
    "            return 0\n",
    "    else:\n",
    "        return 0\n",
    "data_combined['Coordonnées'] = data_combined['card_3'].apply(coordonnées) "
   ]
  },
  {
   "cell_type": "code",
   "execution_count": 159,
   "metadata": {
    "vscode": {
     "languageId": "shellscript"
    }
   },
   "outputs": [],
   "source": [
    "def sansRDV(card3):\n",
    "    if isinstance(card3, list):\n",
    "        if 'Consultations sans rendez-vous' in card3:\n",
    "            return 1\n",
    "        else:\n",
    "            return 0\n",
    "    else:\n",
    "        return 0\n",
    "data_combined['Sans RDV'] = data_combined['card_3'].apply(sansRDV)"
   ]
  },
  {
   "cell_type": "code",
   "execution_count": 160,
   "metadata": {
    "vscode": {
     "languageId": "shellscript"
    }
   },
   "outputs": [
    {
     "data": {
      "text/plain": [
       "Index(['Doctor Name', 'Specialty', 'card_3', 'card_4', 'Latitude', 'Longitude',\n",
       "       'Skills Processed', 'RPPS', 'Nb Skills', 'Présentation',\n",
       "       'Langues parlées', 'Diplômes nationaux et universitaires',\n",
       "       'Autres formations', 'Expériences', 'Site web',\n",
       "       'Travaux et publications', 'Prix et distinctions', 'site', 'Formations',\n",
       "       'Diplômes nationaux et universitaires b', 'Nb caractères présentation',\n",
       "       'Autres formations b', 'Nb langues', 'Expériences b', 'Carac_card_1',\n",
       "       'Transport', 'Parking', 'Infos', 'Coordonnées', 'Sans RDV'],\n",
       "      dtype='object')"
      ]
     },
     "execution_count": 160,
     "metadata": {},
     "output_type": "execute_result"
    }
   ],
   "source": [
    "data_combined.drop(columns=['URL','card_1','card_2'],inplace=True)\n",
    "data_combined.columns"
   ]
  },
  {
   "cell_type": "markdown",
   "metadata": {},
   "source": [
    "Ouverture annuaire santé"
   ]
  },
  {
   "cell_type": "code",
   "execution_count": 137,
   "metadata": {
    "vscode": {
     "languageId": "shellscript"
    }
   },
   "outputs": [
    {
     "name": "stderr",
     "output_type": "stream",
     "text": [
      "/var/folders/rf/dqdwsk6s06ngm9b4j17fkb2r0000gn/T/ipykernel_70643/3626557920.py:1: DtypeWarning: Columns (24,25,26,27,28) have mixed types. Specify dtype option on import or set low_memory=False.\n",
      "  annuaire = pd.read_csv('data/Annuaire_Sante.csv')\n"
     ]
    },
    {
     "data": {
      "text/html": [
       "<div>\n",
       "<style scoped>\n",
       "    .dataframe tbody tr th:only-of-type {\n",
       "        vertical-align: middle;\n",
       "    }\n",
       "\n",
       "    .dataframe tbody tr th {\n",
       "        vertical-align: top;\n",
       "    }\n",
       "\n",
       "    .dataframe thead th {\n",
       "        text-align: right;\n",
       "    }\n",
       "</style>\n",
       "<table border=\"1\" class=\"dataframe\">\n",
       "  <thead>\n",
       "    <tr style=\"text-align: right;\">\n",
       "      <th></th>\n",
       "      <th>typedidentifiantpp</th>\n",
       "      <th>identifiantpp</th>\n",
       "      <th>identificationnationalepp</th>\n",
       "      <th>codecivilité</th>\n",
       "      <th>codeprofession</th>\n",
       "      <th>libelléprofession</th>\n",
       "      <th>codemodeexercice</th>\n",
       "      <th>libellémodeexercice</th>\n",
       "      <th>numérosiretsite</th>\n",
       "      <th>numérosirensite</th>\n",
       "      <th>...</th>\n",
       "      <th>libellérôle\\n</th>\n",
       "      <th>Unnamed: 20</th>\n",
       "      <th>Unnamed: 21</th>\n",
       "      <th>Unnamed: 22</th>\n",
       "      <th>Unnamed: 23</th>\n",
       "      <th>Unnamed: 24</th>\n",
       "      <th>Unnamed: 25</th>\n",
       "      <th>Unnamed: 26</th>\n",
       "      <th>Unnamed: 27</th>\n",
       "      <th>Unnamed: 28</th>\n",
       "    </tr>\n",
       "  </thead>\n",
       "  <tbody>\n",
       "    <tr>\n",
       "      <th>0</th>\n",
       "      <td>0</td>\n",
       "      <td>10001410</td>\n",
       "      <td>10001410</td>\n",
       "      <td>M</td>\n",
       "      <td>71</td>\n",
       "      <td>Ostéopathe</td>\n",
       "      <td>L</td>\n",
       "      <td>\"Lib</td>\n",
       "      <td>indép</td>\n",
       "      <td>artis</td>\n",
       "      <td>...</td>\n",
       "      <td>NaN</td>\n",
       "      <td>NaN</td>\n",
       "      <td>NaN</td>\n",
       "      <td>\\n</td>\n",
       "      <td>NaN</td>\n",
       "      <td>NaN</td>\n",
       "      <td>NaN</td>\n",
       "      <td>NaN</td>\n",
       "      <td>NaN</td>\n",
       "      <td>NaN</td>\n",
       "    </tr>\n",
       "    <tr>\n",
       "      <th>1</th>\n",
       "      <td>0</td>\n",
       "      <td>10003887</td>\n",
       "      <td>10003887</td>\n",
       "      <td>MME</td>\n",
       "      <td>71</td>\n",
       "      <td>Ostéopathe</td>\n",
       "      <td>S</td>\n",
       "      <td>Salarié</td>\n",
       "      <td>26010004500012</td>\n",
       "      <td>NaN</td>\n",
       "      <td>...</td>\n",
       "      <td>\\n</td>\n",
       "      <td>NaN</td>\n",
       "      <td>NaN</td>\n",
       "      <td>NaN</td>\n",
       "      <td>NaN</td>\n",
       "      <td>NaN</td>\n",
       "      <td>NaN</td>\n",
       "      <td>NaN</td>\n",
       "      <td>NaN</td>\n",
       "      <td>NaN</td>\n",
       "    </tr>\n",
       "    <tr>\n",
       "      <th>2</th>\n",
       "      <td>0</td>\n",
       "      <td>10005478</td>\n",
       "      <td>10005478</td>\n",
       "      <td>MME</td>\n",
       "      <td>71</td>\n",
       "      <td>Ostéopathe</td>\n",
       "      <td>L</td>\n",
       "      <td>\"Lib</td>\n",
       "      <td>indép</td>\n",
       "      <td>artis</td>\n",
       "      <td>...</td>\n",
       "      <td>NaN</td>\n",
       "      <td>NaN</td>\n",
       "      <td>NaN</td>\n",
       "      <td>\\n</td>\n",
       "      <td>NaN</td>\n",
       "      <td>NaN</td>\n",
       "      <td>NaN</td>\n",
       "      <td>NaN</td>\n",
       "      <td>NaN</td>\n",
       "      <td>NaN</td>\n",
       "    </tr>\n",
       "    <tr>\n",
       "      <th>3</th>\n",
       "      <td>0</td>\n",
       "      <td>10005684</td>\n",
       "      <td>10005684</td>\n",
       "      <td>MME</td>\n",
       "      <td>71</td>\n",
       "      <td>Ostéopathe</td>\n",
       "      <td>L</td>\n",
       "      <td>\"Lib</td>\n",
       "      <td>indép</td>\n",
       "      <td>artis</td>\n",
       "      <td>...</td>\n",
       "      <td>NaN</td>\n",
       "      <td>NaN</td>\n",
       "      <td>NaN</td>\n",
       "      <td>\\n</td>\n",
       "      <td>NaN</td>\n",
       "      <td>NaN</td>\n",
       "      <td>NaN</td>\n",
       "      <td>NaN</td>\n",
       "      <td>NaN</td>\n",
       "      <td>NaN</td>\n",
       "    </tr>\n",
       "    <tr>\n",
       "      <th>4</th>\n",
       "      <td>0</td>\n",
       "      <td>19111228</td>\n",
       "      <td>19111228</td>\n",
       "      <td>MME</td>\n",
       "      <td>91</td>\n",
       "      <td>Orthophoniste</td>\n",
       "      <td>L</td>\n",
       "      <td>\"Lib</td>\n",
       "      <td>indép</td>\n",
       "      <td>artis</td>\n",
       "      <td>...</td>\n",
       "      <td>SA07</td>\n",
       "      <td>Cabinet individuel</td>\n",
       "      <td>FON-01</td>\n",
       "      <td>Titulaire de cabinet\\n</td>\n",
       "      <td>NaN</td>\n",
       "      <td>NaN</td>\n",
       "      <td>NaN</td>\n",
       "      <td>NaN</td>\n",
       "      <td>NaN</td>\n",
       "      <td>NaN</td>\n",
       "    </tr>\n",
       "  </tbody>\n",
       "</table>\n",
       "<p>5 rows × 29 columns</p>\n",
       "</div>"
      ],
      "text/plain": [
       "   typedidentifiantpp identifiantpp identificationnationalepp codecivilité  \\\n",
       "0                   0      10001410                  10001410            M   \n",
       "1                   0      10003887                  10003887          MME   \n",
       "2                   0      10005478                  10005478          MME   \n",
       "3                   0      10005684                  10005684          MME   \n",
       "4                   0      19111228                  19111228          MME   \n",
       "\n",
       "   codeprofession libelléprofession codemodeexercice libellémodeexercice  \\\n",
       "0              71        Ostéopathe                L                \"Lib   \n",
       "1              71        Ostéopathe                S             Salarié   \n",
       "2              71        Ostéopathe                L                \"Lib   \n",
       "3              71        Ostéopathe                L                \"Lib   \n",
       "4              91     Orthophoniste                L                \"Lib   \n",
       "\n",
       "  numérosiretsite numérosirensite  ... libellérôle\\n         Unnamed: 20  \\\n",
       "0           indép           artis  ...           NaN                 NaN   \n",
       "1  26010004500012             NaN  ...            \\n                 NaN   \n",
       "2           indép           artis  ...           NaN                 NaN   \n",
       "3           indép           artis  ...           NaN                 NaN   \n",
       "4           indép           artis  ...          SA07  Cabinet individuel   \n",
       "\n",
       "  Unnamed: 21             Unnamed: 22 Unnamed: 23 Unnamed: 24 Unnamed: 25  \\\n",
       "0         NaN                      \\n         NaN         NaN         NaN   \n",
       "1         NaN                     NaN         NaN         NaN         NaN   \n",
       "2         NaN                      \\n         NaN         NaN         NaN   \n",
       "3         NaN                      \\n         NaN         NaN         NaN   \n",
       "4      FON-01  Titulaire de cabinet\\n         NaN         NaN         NaN   \n",
       "\n",
       "  Unnamed: 26 Unnamed: 27 Unnamed: 28  \n",
       "0         NaN         NaN         NaN  \n",
       "1         NaN         NaN         NaN  \n",
       "2         NaN         NaN         NaN  \n",
       "3         NaN         NaN         NaN  \n",
       "4         NaN         NaN         NaN  \n",
       "\n",
       "[5 rows x 29 columns]"
      ]
     },
     "execution_count": 137,
     "metadata": {},
     "output_type": "execute_result"
    }
   ],
   "source": [
    "annuaire = pd.read_csv('data/Annuaire_Sante.csv')\n",
    "annuaire.head()"
   ]
  }
 ],
 "metadata": {
  "kernelspec": {
   "display_name": "Python 3",
   "language": "python",
   "name": "python3"
  },
  "language_info": {
   "codemirror_mode": {
    "name": "ipython",
    "version": 3
   },
   "file_extension": ".py",
   "mimetype": "text/x-python",
   "name": "python",
   "nbconvert_exporter": "python",
   "pygments_lexer": "ipython3",
   "version": "3.11.4"
  }
 },
 "nbformat": 4,
 "nbformat_minor": 2
}
