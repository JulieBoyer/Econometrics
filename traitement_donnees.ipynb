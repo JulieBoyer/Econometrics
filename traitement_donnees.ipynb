{
 "cells": [
  {
   "cell_type": "markdown",
   "metadata": {},
   "source": [
    "# Importer les bibliothèques nécessaires"
   ]
  },
  {
   "cell_type": "code",
   "execution_count": 2,
   "metadata": {
    "vscode": {
     "languageId": "shellscript"
    }
   },
   "outputs": [],
   "source": [
    "import pandas as pd\n",
    "import ast \n",
    "import numpy as np\n",
    "import csv"
   ]
  },
  {
   "cell_type": "markdown",
   "metadata": {},
   "source": [
    "# Importer les données de Doctolib"
   ]
  },
  {
   "cell_type": "code",
   "execution_count": 3,
   "metadata": {
    "vscode": {
     "languageId": "shellscript"
    }
   },
   "outputs": [],
   "source": [
    "data = pd.read_csv('data/extracted_data_final_0_1000.csv')"
   ]
  },
  {
   "cell_type": "code",
   "execution_count": 4,
   "metadata": {
    "vscode": {
     "languageId": "shellscript"
    }
   },
   "outputs": [
    {
     "name": "stdout",
     "output_type": "stream",
     "text": [
      "                   Doctor Name  \\\n",
      "991        Dr Mathieu SABATIER   \n",
      "992           Dr Eric LE FLOCH   \n",
      "993    Agnès Montagnon -Thomas   \n",
      "994     Dr Stella Danan-Hadida   \n",
      "995  Dr Philippe Lazare SELLAM   \n",
      "996          Dr Michèle Maizil   \n",
      "997           Dr Thierry MEYER   \n",
      "998          Dr Marc Stromboni   \n",
      "999               Fabien GUIDE   \n",
      "\n",
      "                                                card_0  \\\n",
      "991                                                NaN   \n",
      "992  [Lieu 1, Lieu 2, Lieu 3, Radio Faidherbe, Radi...   \n",
      "993  [Tarifs et remboursement, , , Tiers payant : S...   \n",
      "994  [Tarifs et remboursement, , , , Conventionné s...   \n",
      "995  [Lieu 1, Lieu 2, Cabinet du Docteur Philippe L...   \n",
      "996                                                NaN   \n",
      "997  [Tarifs et remboursement, , , , Conventionné, ...   \n",
      "998  [Tarifs et remboursement, , Conventionné secte...   \n",
      "999  [Tarifs et remboursement, , , , Conventionné, ...   \n",
      "\n",
      "                                                card_1  \\\n",
      "991  [Carte et informations d'accès, Cabinet d'opht...   \n",
      "992  [Carte et informations d'accès, Centre médical...   \n",
      "993  [Carte et informations d'accès, 127 Rue de la ...   \n",
      "994  [Carte et informations d'accès, One Clinic - P...   \n",
      "995  [Carte et informations d'accès, Cabinet du Doc...   \n",
      "996  [Carte et informations d'accès, Centre médical...   \n",
      "997  [Carte et informations d'accès, Cabinet dentai...   \n",
      "998  [Carte et informations d'accès, Cabinet médica...   \n",
      "999  [Carte et informations d'accès, 9 Avenue Ampèr...   \n",
      "\n",
      "                                                card_2  \\\n",
      "991                                                NaN   \n",
      "992                                                NaN   \n",
      "993                                                NaN   \n",
      "994  [Présentation, Le docteur Stella Hadida vous a...   \n",
      "995  [Présentation, Le docteur Philippe-Lazare SELL...   \n",
      "996  [Présentation, Le chirurgien-dentiste, aussi a...   \n",
      "997  [Présentation, Le docteur Thierry Meyer, denti...   \n",
      "998                                                NaN   \n",
      "999  [Présentation, Depuis janvier 2010, je vous re...   \n",
      "\n",
      "                                                card_3  \\\n",
      "991                                                NaN   \n",
      "992                                                NaN   \n",
      "993                                                NaN   \n",
      "994  [Horaires et coordonnées, Horaires d'ouverture...   \n",
      "995  [Horaires et coordonnées, Contact d'urgence, E...   \n",
      "996  [Horaires et coordonnées, Horaires d'ouverture...   \n",
      "997  [Horaires et coordonnées, Horaires d'ouverture...   \n",
      "998                                                NaN   \n",
      "999                                                NaN   \n",
      "\n",
      "                                                card_4  \\\n",
      "991                                                NaN   \n",
      "992                                                NaN   \n",
      "993                                                NaN   \n",
      "994  [Tarifs, Consultation vidéo, 58 €, Consultatio...   \n",
      "995  [Tarifs, Consultation, 23 € à 120 €, Exérèse d...   \n",
      "996                                                NaN   \n",
      "997  [Tarifs, Consultation, 23 €, Ces honoraires vo...   \n",
      "998                                                NaN   \n",
      "999                                                NaN   \n",
      "\n",
      "                                               card_5  \n",
      "991                                               NaN  \n",
      "992                                               NaN  \n",
      "993                                               NaN  \n",
      "994  [Informations légales, Numéro RPPS, 10000292291]  \n",
      "995  [Informations légales, Numéro RPPS, 10000558964]  \n",
      "996  [Informations légales, Numéro RPPS, 10000202985]  \n",
      "997  [Informations légales, Numéro RPPS, 10000173897]  \n",
      "998                                               NaN  \n",
      "999                                               NaN  \n"
     ]
    }
   ],
   "source": [
    "# Fonction pour réorganiser les profils cards\n",
    "def reorder_cards(profile_cards):\n",
    "    try:\n",
    "        cards_dict = ast.literal_eval(profile_cards)\n",
    "        \n",
    "        reordered_cards = {\n",
    "            'card_0': np.nan,\n",
    "            'card_1': np.nan,\n",
    "            'card_2': np.nan,\n",
    "            'card_3': np.nan,\n",
    "            'card_4': np.nan,\n",
    "            'card_5': np.nan\n",
    "        }\n",
    "\n",
    "        def split_content(value):\n",
    "            value = value.replace('\\\\n', '\\n').replace('\\\\', '\\n')\n",
    "            return value.split('\\n')\n",
    "\n",
    "        for key, value in cards_dict.items():\n",
    "            #print(key,value,'s')\n",
    "            if value.startswith(\"Carte et informations d'accès\"):\n",
    "                #print('1')\n",
    "                reordered_cards['card_1'] = split_content(value)\n",
    "            elif value.startswith(\"Présentation\"):\n",
    "                #print('2')\n",
    "                reordered_cards['card_2'] = split_content(value)\n",
    "            elif value.startswith(\"Horaires et coordonnées\"):\n",
    "                #print('3')\n",
    "                reordered_cards['card_3'] = split_content(value)\n",
    "            elif value.startswith(\"Tarifs et remboursement\") or value.startswith(\"Lieu\"):\n",
    "                #print('i')\n",
    "                reordered_cards['card_0'] = split_content(value)\n",
    "            elif value.startswith(\"Tarifs\"):\n",
    "                #print('4')\n",
    "                reordered_cards['card_4'] = split_content(value)\n",
    "            elif value.startswith(\"Informations légales\"):\n",
    "                #print('5')\n",
    "                reordered_cards['card_5'] = split_content(value)\n",
    "            else :\n",
    "                if isinstance(value,list):\n",
    "                    #print('i1')\n",
    "                    reordered_cards['card_0'] = split_content(value)\n",
    "        \n",
    "        return reordered_cards\n",
    "    except:\n",
    "        return {\n",
    "            'card_0': np.nan,\n",
    "            'card_1': np.nan,\n",
    "            'card_2': np.nan,\n",
    "            'card_3': np.nan,\n",
    "            'card_4': np.nan,\n",
    "            'card_5': np.nan\n",
    "        }\n",
    "\n",
    "reordered_cards = data['Profile Cards'].apply(reorder_cards)\n",
    "\n",
    "reordered_cards_df = pd.json_normalize(reordered_cards)\n",
    "\n",
    "data_combined = pd.concat([data, reordered_cards_df], axis=1)\n",
    "\n",
    "data_combined.drop(columns = 'Profile Cards', inplace=True)\n",
    "print(data_combined[['Doctor Name', 'card_0', 'card_1', 'card_2', 'card_3', 'card_4', 'card_5']].tail(9))\n"
   ]
  },
  {
   "cell_type": "code",
   "execution_count": 5,
   "metadata": {
    "vscode": {
     "languageId": "shellscript"
    }
   },
   "outputs": [],
   "source": [
    "#Pour rendre la localisation plus claire\n",
    "def extract_lat_lng(map_location):\n",
    "    try:\n",
    "        location_dict = ast.literal_eval(map_location)\n",
    "        return (location_dict['lat'], location_dict['lng'])\n",
    "    except:\n",
    "        return (None, None)\n",
    "\n",
    "data_combined['Latitude'], data_combined['Longitude'] = zip(*data_combined['Map Location'].apply(extract_lat_lng))\n",
    "\n",
    "data_combined.drop(columns = 'Map Location', inplace=True)\n"
   ]
  },
  {
   "cell_type": "code",
   "execution_count": 6,
   "metadata": {
    "vscode": {
     "languageId": "shellscript"
    }
   },
   "outputs": [],
   "source": [
    "# Fonction pour traiter la colonne 'Skills'\n",
    "def process_skills(skills):\n",
    "    if skills == 'Skills missing':\n",
    "        return np.nan\n",
    "    else:\n",
    "        return skills.split('\\n')\n",
    "\n",
    "data_combined['Skills Processed'] = data_combined['Skills'].apply(process_skills)\n",
    "\n",
    "data_combined.drop(columns = 'Skills', inplace=True)"
   ]
  },
  {
   "cell_type": "code",
   "execution_count": 7,
   "metadata": {
    "vscode": {
     "languageId": "shellscript"
    }
   },
   "outputs": [
    {
     "data": {
      "text/plain": [
       "Specialty\n",
       "Chirurgien-dentiste                                                 152\n",
       "Médecin généraliste                                                 104\n",
       "Ophtalmologue                                                        75\n",
       "Cabinet médical                                                      56\n",
       "Spécialiste en chirurgie plastique reconstructrice et esthétique     40\n",
       "                                                                   ... \n",
       "Chirurgien oral                                                       1\n",
       "Acupuncteur                                                           1\n",
       "Addictologue                                                          1\n",
       "Chirurgien cancérologue                                               1\n",
       "Diététicien                                                           1\n",
       "Name: count, Length: 78, dtype: int64"
      ]
     },
     "execution_count": 7,
     "metadata": {},
     "output_type": "execute_result"
    }
   ],
   "source": [
    "data_combined['Specialty'].value_counts()"
   ]
  },
  {
   "cell_type": "code",
   "execution_count": 8,
   "metadata": {
    "vscode": {
     "languageId": "shellscript"
    }
   },
   "outputs": [],
   "source": [
    "data_combined['RPPS'] = data_combined['card_5'].apply(lambda x: x[2] if isinstance(x, list) and len(x) > 2 else np.nan)\n",
    "data_combined.drop(columns = 'card_5', inplace = True)"
   ]
  },
  {
   "cell_type": "code",
   "execution_count": 9,
   "metadata": {
    "vscode": {
     "languageId": "shellscript"
    }
   },
   "outputs": [],
   "source": [
    "data_combined['Nb Skills'] = data_combined['Skills Processed'].apply(lambda x: len(x)-1 if isinstance(x, list) else 0)"
   ]
  },
  {
   "cell_type": "code",
   "execution_count": 10,
   "metadata": {
    "vscode": {
     "languageId": "shellscript"
    }
   },
   "outputs": [],
   "source": [
    "def paiement(card0):\n",
    "    if isinstance(card0, list):\n",
    "        if 'Moyens de paiement' in card0:\n",
    "            return 1\n",
    "        else:\n",
    "            return 0\n",
    "    else:\n",
    "        return 0\n",
    "data_combined['moyens_paiement'] = data_combined['card_0'].apply(paiement)\n",
    "\n",
    "\n",
    "def vitale(card0):\n",
    "    if isinstance(card0, list):\n",
    "        if 'Carte Vitale acceptée' in card0:\n",
    "            return 1\n",
    "        elif 'Carte Vitale non acceptée' in card0:\n",
    "            return 0\n",
    "        else:\n",
    "            return np.nan\n",
    "    else:\n",
    "        return np.nan\n",
    "data_combined['carte_vitale'] = data_combined['card_0'].apply(paiement)\n",
    "\n",
    "\n",
    "def secteur(card0):\n",
    "    if isinstance(card0, list):\n",
    "        a=0\n",
    "        for x in card0:\n",
    "            if 'Conventionné secteur 2' in x:\n",
    "                a=2\n",
    "            elif 'Conventionné secteur 1' in x:\n",
    "                a=1\n",
    "            elif 'Conventionné secteur 3' in x:\n",
    "                a=3\n",
    "            elif 'Conventionné' in x:\n",
    "                a=4\n",
    "        return a\n",
    "    else:\n",
    "        return 0\n",
    "data_combined['secteur'] = data_combined['card_0'].apply(secteur)"
   ]
  },
  {
   "cell_type": "code",
   "execution_count": 11,
   "metadata": {
    "vscode": {
     "languageId": "shellscript"
    }
   },
   "outputs": [],
   "source": [
    "data_combined['Présentation']=''\n",
    "data_combined['Langues parlées']=''\n",
    "data_combined['Diplômes nationaux et universitaires']=''\n",
    "data_combined['Autres formations']=''\n",
    "data_combined['Expériences']=''\n",
    "data_combined['Travaux et publications']=''\n",
    "data_combined['Prix et distinctions']=''\n",
    "data_combined['site']=0\n",
    "\n",
    "liste_mots_clefs = ['Présentation','Langues parlées','Diplômes nationaux et universitaires','Formations','Autres formations','Expériences', 'Site web', 'Travaux et publications', 'Prix et distinctions']\n",
    "\n",
    "for i in range(data_combined.shape[0]):\n",
    "    \n",
    "    if isinstance(data_combined['card_2'].iloc[i],list) : \n",
    "        liste_card2 = data_combined['card_2'].iloc[i][1:]\n",
    "        sous_liste = ''\n",
    "        label = liste_mots_clefs[0]\n",
    "        for x in liste_card2 :\n",
    "            if x in liste_mots_clefs :\n",
    "                data_combined.loc[i, label] = sous_liste\n",
    "                label = x\n",
    "                sous_liste = ''\n",
    "            elif x=='Voir le site':\n",
    "                data_combined.loc[i, 'site'] = 1\n",
    "            elif x=='▾ Voir plus':\n",
    "                None\n",
    "            else :\n",
    "                sous_liste = sous_liste+(x)"
   ]
  },
  {
   "cell_type": "code",
   "execution_count": 12,
   "metadata": {
    "vscode": {
     "languageId": "shellscript"
    }
   },
   "outputs": [],
   "source": [
    "data_combined['Diplômes nationaux et universitaires b']=data_combined['Diplômes nationaux et universitaires'].apply(lambda x: 1 if len(x)>0 else 0)"
   ]
  },
  {
   "cell_type": "code",
   "execution_count": 13,
   "metadata": {
    "vscode": {
     "languageId": "shellscript"
    }
   },
   "outputs": [],
   "source": [
    "data_combined['Nb caractères présentation'] = data_combined['Présentation'].apply(lambda x: len(x))"
   ]
  },
  {
   "cell_type": "code",
   "execution_count": 14,
   "metadata": {
    "vscode": {
     "languageId": "shellscript"
    }
   },
   "outputs": [],
   "source": [
    "data_combined['Autres formations b']=data_combined['Autres formations'].apply(lambda x: 1 if len(x)>0 else 0)"
   ]
  },
  {
   "cell_type": "code",
   "execution_count": 15,
   "metadata": {
    "vscode": {
     "languageId": "shellscript"
    }
   },
   "outputs": [],
   "source": [
    "data_combined['Travaux et publications b']=data_combined['Travaux et publications'].apply(lambda x: 1 if len(x)>0 else 0)"
   ]
  },
  {
   "cell_type": "code",
   "execution_count": 16,
   "metadata": {
    "vscode": {
     "languageId": "shellscript"
    }
   },
   "outputs": [],
   "source": [
    "data_combined['Nb langues']=0\n",
    "\n",
    "for i in range(data_combined.shape[0]):\n",
    "    if isinstance(data_combined['Langues parlées'].iloc[i],str) : \n",
    "        liste_langue = (data_combined['Langues parlées'].iloc[i]).split()\n",
    "        count = 0\n",
    "        for x in liste_langue :\n",
    "            \n",
    "            if  x != 'et'  :\n",
    "                count +=1\n",
    "        data_combined.loc[i,'Nb langues']=count"
   ]
  },
  {
   "cell_type": "code",
   "execution_count": 17,
   "metadata": {
    "vscode": {
     "languageId": "shellscript"
    }
   },
   "outputs": [],
   "source": [
    "data_combined['Expériences b']=data_combined['Expériences'].apply(lambda x: 1 if len(x)>0 else 0)"
   ]
  },
  {
   "cell_type": "code",
   "execution_count": 18,
   "metadata": {
    "vscode": {
     "languageId": "shellscript"
    }
   },
   "outputs": [],
   "source": [
    "data_combined['Formations b']=data_combined['Formations'].apply(lambda x: 1 if isinstance(x,str) else 0)"
   ]
  },
  {
   "cell_type": "code",
   "execution_count": 19,
   "metadata": {
    "vscode": {
     "languageId": "shellscript"
    }
   },
   "outputs": [],
   "source": [
    "liste1 = [\"Carte et informations d'accès\",'Moyens de transport','Parking public','Informations pratiques',\"J'autorise le traitement d'informations (dont mon adresse IP) et leur transfert hors UE par Google Maps (USA) afin d’afficher la carte.En savoir plus\", 'sur la collecte et le traitement des données par Google','AFFICHER LA CARTE']\n",
    "def carac1(card1):\n",
    "    nb=0\n",
    "    for phrase in card1:\n",
    "        if  phrase not in liste1:\n",
    "            nb += len(phrase)\n",
    "    return nb\n",
    "data_combined['Carac_card_1'] = data_combined['card_1'].apply(lambda x: carac1(x)if isinstance(x, list) else np.nan)"
   ]
  },
  {
   "cell_type": "code",
   "execution_count": 20,
   "metadata": {
    "vscode": {
     "languageId": "shellscript"
    }
   },
   "outputs": [],
   "source": [
    "def transport(card1):\n",
    "    if isinstance(card1, list):\n",
    "        if 'Moyens de transport' in card1:\n",
    "            return 1\n",
    "        else:\n",
    "            return 0\n",
    "    else:\n",
    "        return 0\n",
    "data_combined['Transport'] = data_combined['card_1'].apply(transport)"
   ]
  },
  {
   "cell_type": "code",
   "execution_count": 21,
   "metadata": {
    "vscode": {
     "languageId": "shellscript"
    }
   },
   "outputs": [],
   "source": [
    "def parking(card1):\n",
    "    if isinstance(card1, list):\n",
    "        if 'Parking public' in card1:\n",
    "            return 1\n",
    "        else:\n",
    "            return 0\n",
    "    else:\n",
    "        return 0\n",
    "data_combined['Parking'] = data_combined['card_1'].apply(parking)"
   ]
  },
  {
   "cell_type": "code",
   "execution_count": 22,
   "metadata": {
    "vscode": {
     "languageId": "shellscript"
    }
   },
   "outputs": [],
   "source": [
    "def infos(card1):\n",
    "    if isinstance(card1, list):\n",
    "        if 'Informations pratiques' in card1:\n",
    "            return 1\n",
    "        else:\n",
    "            return 0\n",
    "    else:\n",
    "        return 0\n",
    "data_combined['Infos'] = data_combined['card_1'].apply(infos)"
   ]
  },
  {
   "cell_type": "code",
   "execution_count": 23,
   "metadata": {
    "vscode": {
     "languageId": "shellscript"
    }
   },
   "outputs": [],
   "source": [
    "def coordonnées(card3):\n",
    "    if isinstance(card3, list):\n",
    "        if 'Coordonnées' in card3:\n",
    "            return 1\n",
    "        else:\n",
    "            return 0\n",
    "    else:\n",
    "        return 0\n",
    "data_combined['Coordonnées'] = data_combined['card_3'].apply(coordonnées) "
   ]
  },
  {
   "cell_type": "code",
   "execution_count": 24,
   "metadata": {
    "vscode": {
     "languageId": "shellscript"
    }
   },
   "outputs": [],
   "source": [
    "def sansRDV(card3):\n",
    "    if isinstance(card3, list):\n",
    "        if 'Consultations sans rendez-vous' in card3:\n",
    "            return 1\n",
    "        else:\n",
    "            return 0\n",
    "    else:\n",
    "        return 0\n",
    "data_combined['Sans RDV'] = data_combined['card_3'].apply(sansRDV)"
   ]
  },
  {
   "cell_type": "code",
   "execution_count": 25,
   "metadata": {
    "vscode": {
     "languageId": "shellscript"
    }
   },
   "outputs": [
    {
     "data": {
      "text/html": [
       "<div>\n",
       "<style scoped>\n",
       "    .dataframe tbody tr th:only-of-type {\n",
       "        vertical-align: middle;\n",
       "    }\n",
       "\n",
       "    .dataframe tbody tr th {\n",
       "        vertical-align: top;\n",
       "    }\n",
       "\n",
       "    .dataframe thead th {\n",
       "        text-align: right;\n",
       "    }\n",
       "</style>\n",
       "<table border=\"1\" class=\"dataframe\">\n",
       "  <thead>\n",
       "    <tr style=\"text-align: right;\">\n",
       "      <th></th>\n",
       "      <th>Doctor Name</th>\n",
       "      <th>Specialty</th>\n",
       "      <th>card_0</th>\n",
       "      <th>card_3</th>\n",
       "      <th>card_4</th>\n",
       "      <th>Latitude</th>\n",
       "      <th>Longitude</th>\n",
       "      <th>Skills Processed</th>\n",
       "      <th>RPPS</th>\n",
       "      <th>Nb Skills</th>\n",
       "      <th>...</th>\n",
       "      <th>Travaux et publications b</th>\n",
       "      <th>Nb langues</th>\n",
       "      <th>Expériences b</th>\n",
       "      <th>Formations b</th>\n",
       "      <th>Carac_card_1</th>\n",
       "      <th>Transport</th>\n",
       "      <th>Parking</th>\n",
       "      <th>Infos</th>\n",
       "      <th>Coordonnées</th>\n",
       "      <th>Sans RDV</th>\n",
       "    </tr>\n",
       "  </thead>\n",
       "  <tbody>\n",
       "    <tr>\n",
       "      <th>0</th>\n",
       "      <td>Dr Marian AGACHI</td>\n",
       "      <td>Neurochirurgien</td>\n",
       "      <td>NaN</td>\n",
       "      <td>[Horaires et coordonnées, Horaires d'ouverture...</td>\n",
       "      <td>NaN</td>\n",
       "      <td>48.878328</td>\n",
       "      <td>2.431034</td>\n",
       "      <td>[Expertises et actes, Neurochirurgie du rachis]</td>\n",
       "      <td>10001649291</td>\n",
       "      <td>1</td>\n",
       "      <td>...</td>\n",
       "      <td>0</td>\n",
       "      <td>3</td>\n",
       "      <td>0</td>\n",
       "      <td>1</td>\n",
       "      <td>154.0</td>\n",
       "      <td>1</td>\n",
       "      <td>0</td>\n",
       "      <td>1</td>\n",
       "      <td>1</td>\n",
       "      <td>0</td>\n",
       "    </tr>\n",
       "    <tr>\n",
       "      <th>1</th>\n",
       "      <td>Dr Anne Vaillant Moga</td>\n",
       "      <td>Médecin généraliste</td>\n",
       "      <td>[Lieu 1, Lieu 2, Dr Anne Moga (Paris), 76 aven...</td>\n",
       "      <td>[Horaires et coordonnées, Horaires d'ouverture...</td>\n",
       "      <td>[Tarifs, Consultation préalable de médecine es...</td>\n",
       "      <td>48.869218</td>\n",
       "      <td>2.285468</td>\n",
       "      <td>[Expertises et actes, Acné, Allergie, Apnée du...</td>\n",
       "      <td>10000378991</td>\n",
       "      <td>10</td>\n",
       "      <td>...</td>\n",
       "      <td>1</td>\n",
       "      <td>2</td>\n",
       "      <td>1</td>\n",
       "      <td>0</td>\n",
       "      <td>180.0</td>\n",
       "      <td>1</td>\n",
       "      <td>0</td>\n",
       "      <td>1</td>\n",
       "      <td>0</td>\n",
       "      <td>0</td>\n",
       "    </tr>\n",
       "    <tr>\n",
       "      <th>2</th>\n",
       "      <td>Dr Gabriel Ohana</td>\n",
       "      <td>Chirurgien-dentiste</td>\n",
       "      <td>[Tarifs et remboursement, , Carte Vitale accep...</td>\n",
       "      <td>[Horaires et coordonnées, Horaires d'ouverture...</td>\n",
       "      <td>[Tarifs, Consultation dentaire, 23 €, Traiteme...</td>\n",
       "      <td>48.894148</td>\n",
       "      <td>2.250698</td>\n",
       "      <td>[Expertises et actes, Chirurgie buccale, Proth...</td>\n",
       "      <td>10003639373</td>\n",
       "      <td>3</td>\n",
       "      <td>...</td>\n",
       "      <td>0</td>\n",
       "      <td>1</td>\n",
       "      <td>0</td>\n",
       "      <td>0</td>\n",
       "      <td>240.0</td>\n",
       "      <td>1</td>\n",
       "      <td>0</td>\n",
       "      <td>1</td>\n",
       "      <td>1</td>\n",
       "      <td>0</td>\n",
       "    </tr>\n",
       "    <tr>\n",
       "      <th>3</th>\n",
       "      <td>Dr Thomas BAMBERGER</td>\n",
       "      <td>Dermatologue et vénérologue</td>\n",
       "      <td>[Tarifs et remboursement, , , Conventionné sec...</td>\n",
       "      <td>[Horaires et coordonnées, Horaires d'ouverture...</td>\n",
       "      <td>[Tarifs, Consultation, 31,50 € à 56,50 €, Cont...</td>\n",
       "      <td>48.815433</td>\n",
       "      <td>2.343017</td>\n",
       "      <td>NaN</td>\n",
       "      <td>10003719571</td>\n",
       "      <td>0</td>\n",
       "      <td>...</td>\n",
       "      <td>0</td>\n",
       "      <td>1</td>\n",
       "      <td>1</td>\n",
       "      <td>0</td>\n",
       "      <td>155.0</td>\n",
       "      <td>1</td>\n",
       "      <td>0</td>\n",
       "      <td>1</td>\n",
       "      <td>1</td>\n",
       "      <td>0</td>\n",
       "    </tr>\n",
       "    <tr>\n",
       "      <th>4</th>\n",
       "      <td>Dr Layla Chatila</td>\n",
       "      <td>Chirurgien-dentiste</td>\n",
       "      <td>[Tarifs et remboursement, , , , Conventionné, ...</td>\n",
       "      <td>[Horaires et coordonnées, Coordonnées, 01 45 2...</td>\n",
       "      <td>[Tarifs, Consultation dentaire, 23 €, Ces hono...</td>\n",
       "      <td>48.858804</td>\n",
       "      <td>2.274392</td>\n",
       "      <td>NaN</td>\n",
       "      <td>10005133003</td>\n",
       "      <td>0</td>\n",
       "      <td>...</td>\n",
       "      <td>0</td>\n",
       "      <td>1</td>\n",
       "      <td>0</td>\n",
       "      <td>0</td>\n",
       "      <td>202.0</td>\n",
       "      <td>1</td>\n",
       "      <td>1</td>\n",
       "      <td>1</td>\n",
       "      <td>1</td>\n",
       "      <td>0</td>\n",
       "    </tr>\n",
       "  </tbody>\n",
       "</table>\n",
       "<p>5 rows × 36 columns</p>\n",
       "</div>"
      ],
      "text/plain": [
       "             Doctor Name                    Specialty  \\\n",
       "0       Dr Marian AGACHI              Neurochirurgien   \n",
       "1  Dr Anne Vaillant Moga          Médecin généraliste   \n",
       "2       Dr Gabriel Ohana          Chirurgien-dentiste   \n",
       "3    Dr Thomas BAMBERGER  Dermatologue et vénérologue   \n",
       "4       Dr Layla Chatila          Chirurgien-dentiste   \n",
       "\n",
       "                                              card_0  \\\n",
       "0                                                NaN   \n",
       "1  [Lieu 1, Lieu 2, Dr Anne Moga (Paris), 76 aven...   \n",
       "2  [Tarifs et remboursement, , Carte Vitale accep...   \n",
       "3  [Tarifs et remboursement, , , Conventionné sec...   \n",
       "4  [Tarifs et remboursement, , , , Conventionné, ...   \n",
       "\n",
       "                                              card_3  \\\n",
       "0  [Horaires et coordonnées, Horaires d'ouverture...   \n",
       "1  [Horaires et coordonnées, Horaires d'ouverture...   \n",
       "2  [Horaires et coordonnées, Horaires d'ouverture...   \n",
       "3  [Horaires et coordonnées, Horaires d'ouverture...   \n",
       "4  [Horaires et coordonnées, Coordonnées, 01 45 2...   \n",
       "\n",
       "                                              card_4   Latitude  Longitude  \\\n",
       "0                                                NaN  48.878328   2.431034   \n",
       "1  [Tarifs, Consultation préalable de médecine es...  48.869218   2.285468   \n",
       "2  [Tarifs, Consultation dentaire, 23 €, Traiteme...  48.894148   2.250698   \n",
       "3  [Tarifs, Consultation, 31,50 € à 56,50 €, Cont...  48.815433   2.343017   \n",
       "4  [Tarifs, Consultation dentaire, 23 €, Ces hono...  48.858804   2.274392   \n",
       "\n",
       "                                    Skills Processed         RPPS  Nb Skills  \\\n",
       "0    [Expertises et actes, Neurochirurgie du rachis]  10001649291          1   \n",
       "1  [Expertises et actes, Acné, Allergie, Apnée du...  10000378991         10   \n",
       "2  [Expertises et actes, Chirurgie buccale, Proth...  10003639373          3   \n",
       "3                                                NaN  10003719571          0   \n",
       "4                                                NaN  10005133003          0   \n",
       "\n",
       "   ...  Travaux et publications b  Nb langues  Expériences b Formations b  \\\n",
       "0  ...                          0           3              0            1   \n",
       "1  ...                          1           2              1            0   \n",
       "2  ...                          0           1              0            0   \n",
       "3  ...                          0           1              1            0   \n",
       "4  ...                          0           1              0            0   \n",
       "\n",
       "  Carac_card_1 Transport Parking Infos Coordonnées Sans RDV  \n",
       "0        154.0         1       0     1           1        0  \n",
       "1        180.0         1       0     1           0        0  \n",
       "2        240.0         1       0     1           1        0  \n",
       "3        155.0         1       0     1           1        0  \n",
       "4        202.0         1       1     1           1        0  \n",
       "\n",
       "[5 rows x 36 columns]"
      ]
     },
     "execution_count": 25,
     "metadata": {},
     "output_type": "execute_result"
    }
   ],
   "source": [
    "data_combined.drop(columns=['URL','card_1','card_2'],inplace=True)\n",
    "data_combined.head()"
   ]
  },
  {
   "cell_type": "code",
   "execution_count": 26,
   "metadata": {
    "vscode": {
     "languageId": "shellscript"
    }
   },
   "outputs": [],
   "source": [
    "def nb_terms(card):\n",
    "    if type(card)==list :\n",
    "        return (len(card))\n",
    "    else :\n",
    "        return(0)\n",
    "\n",
    "def nb_carac(card):\n",
    "    if type(card)==list :\n",
    "        s = 0\n",
    "        for item in card : \n",
    "            s+=len(card)\n",
    "        return(s)\n",
    "    else :\n",
    "        return(0)"
   ]
  },
  {
   "cell_type": "code",
   "execution_count": 27,
   "metadata": {
    "vscode": {
     "languageId": "shellscript"
    }
   },
   "outputs": [],
   "source": [
    "data_combined['nb terms card_0']=data_combined['card_0'].apply(nb_terms)\n",
    "data_combined['nb terms card_3']=data_combined['card_3'].apply(nb_terms)\n",
    "data_combined['nb terms card_4']=data_combined['card_4'].apply(nb_terms)\n",
    "data_combined['nb carac card_0']=data_combined['card_0'].apply(nb_carac)\n",
    "data_combined['nb carac card_3']=data_combined['card_3'].apply(nb_carac)\n",
    "data_combined['nb carac card_4']=data_combined['card_4'].apply(nb_carac)"
   ]
  },
  {
   "cell_type": "markdown",
   "metadata": {},
   "source": [
    "# Problème des nan"
   ]
  },
  {
   "cell_type": "code",
   "execution_count": 28,
   "metadata": {},
   "outputs": [
    {
     "name": "stdout",
     "output_type": "stream",
     "text": [
      "[8, 23, 27, 73, 74, 94, 112, 116, 117, 118, 121, 122, 123, 124, 127, 130, 131, 132, 135, 136, 138, 139, 140, 141, 142, 143, 145, 148, 150, 151, 152, 153, 156, 157, 158, 160, 161, 163, 166, 167, 169, 170, 172, 173, 175, 176, 177, 178, 179, 180, 182, 183, 184, 186, 187, 188, 190, 191, 192, 194, 196, 197, 198, 201, 202, 204, 209, 213, 214, 215, 216, 219, 220, 221, 222, 223, 225, 226, 227, 229, 230, 231, 233, 234, 235, 236, 238, 239, 240, 241, 245, 246, 247, 249, 250, 252, 254, 256, 259, 260, 262, 263, 264, 265, 267, 268, 270, 271, 272, 276, 277, 278, 279, 280, 281, 282, 284, 285, 286, 287, 288, 289, 290, 291, 292, 293, 295, 296, 297, 298, 299, 300, 301, 302, 303, 304, 305, 306, 307, 308, 309, 310, 312, 315, 316, 317, 318, 319, 320, 321, 323, 324, 325, 326, 327, 328, 329, 331, 335, 337, 339, 344, 346, 347, 348, 349, 350, 351, 352, 353, 354, 356, 358, 359, 360, 365, 367, 368, 371, 372, 373, 374, 376, 378, 379, 380, 381, 382, 383, 384, 387, 388, 390, 392, 393, 395, 396, 397, 398, 399, 400, 401, 402, 403, 404, 405, 406, 407, 408, 409, 410, 411, 412, 413, 414, 415, 416, 417, 418, 419, 420, 421, 422, 423, 425, 426, 427, 431, 435, 436, 437, 439, 442, 445, 446, 447, 449, 450, 452, 453, 454, 456, 457, 458, 459, 460, 461, 462, 463, 464, 465, 466, 467, 468, 469, 470, 471, 472, 473, 474, 475, 476, 478, 479, 480, 481, 483, 484, 486, 487, 488, 489, 490, 491, 492, 493, 494, 495, 496, 497, 499, 500, 501, 502, 503, 504, 506, 507, 508, 510, 513, 515, 518, 520, 521, 522, 523, 525, 526, 527, 528, 529, 530, 531, 532, 533, 534, 536, 537, 538, 539, 540, 541, 542, 543, 544, 545, 546, 547, 548, 549, 550, 551, 552, 553, 554, 556, 557, 558, 559, 560, 561, 562, 563, 565, 566, 567, 568, 569, 570, 571, 572, 573, 574, 575, 576, 577, 578, 579, 580, 581, 582, 583, 584, 585, 586, 587, 588, 589, 590, 591, 593, 594, 595, 597, 598, 600, 601, 603, 604, 605, 607, 608, 609, 610, 611, 612, 614, 615, 617, 618, 619, 620, 621, 622, 623, 625, 626, 628, 629, 632, 636, 637, 638, 639, 640, 641, 642, 643, 644, 645, 646, 647, 648, 649, 651, 652, 653, 654, 655, 657, 658, 659, 661, 662, 663, 664, 665, 666, 667, 668, 669, 670, 671, 672, 673, 676, 677, 679, 681, 682, 683, 687, 693, 694, 695, 696, 697, 699, 701, 703, 704, 707, 708, 710, 711, 712, 713, 715, 716, 718, 719, 720, 721, 722, 723, 725, 727, 728, 729, 730, 731, 733, 735, 736, 737, 738, 740, 741, 742, 743, 744, 745, 746, 749, 754, 755, 756, 757, 759, 760, 762, 763, 766, 767, 768, 769, 770, 771, 773, 774, 777, 779, 780, 781, 782, 783, 784, 785, 787, 788, 789, 791, 792, 794, 795, 796, 797, 798, 799, 800, 801, 802, 803, 804, 805, 807, 808, 809, 811, 812, 813, 814, 817, 818, 820, 822, 823, 829, 830, 833, 840, 841, 842, 843, 844, 847, 848, 849, 851, 852, 853, 855, 856, 857, 858, 859, 860, 862, 863, 867, 868, 870, 872, 873, 876, 878, 880, 884, 886, 888, 890, 891, 892, 893, 894, 895, 896, 899, 905, 906, 907, 908, 910, 911, 912, 914, 915, 916, 917, 918, 919, 920, 921, 922, 923, 924, 925, 926, 927, 928, 929, 930, 931, 934, 935, 936, 937, 938, 939, 940, 941, 942, 944, 945, 947, 951, 953, 956, 957, 958, 959, 961, 963, 964, 965, 966, 967, 968, 969, 973, 977, 978, 979, 985, 987, 988, 989, 991, 992, 993, 998, 999] 633\n"
     ]
    }
   ],
   "source": [
    "indices_nan = data_combined[data_combined['RPPS'].isna()].index.tolist()\n",
    "print(indices_nan, len(indices_nan))"
   ]
  },
  {
   "cell_type": "code",
   "execution_count": 29,
   "metadata": {},
   "outputs": [
    {
     "data": {
      "text/plain": [
       "'{\\'card_0\\': \\'Tarifs et remboursement\\\\n\\\\n\\\\n\\\\nConventionné\\\\nCarte Vitale acceptée\\\\nTiers payant : Sécurité sociale\\\\nVoir les tarifs\\\\nMoyens de paiement\\\\nChèques, espèces et carte bancaire\\\\nExpertises et actes\\\\nBilan podologique\\\\nIonophorèse\\\\nK-Tape\\\\nKinesio Taping\\\\nOrthonyxie\\\\nOrthoplastie\\\\nOrthèse plantaire\\\\nPodologie\\\\nPédicurie\\\\nSemelles orthopédiques\\\\nVerrue\\', \\'card_1\\': \"Carte et informations d\\'accès\\\\n9 Avenue Ampère, 77420 Champs-sur-Marne\\\\nMoyens de transport\\\\nBus - Ampere (lignes 213 et 312)\\\\nBus - Noisy-Champs Rer - Descartes (ligne 212)\\\\nInformations pratiques\\\\n1er étage avec ascenseur\\\\nEntrée accessible\\\\nJ\\'autorise le traitement d\\'informations (dont mon adresse IP) et leur transfert hors UE par Google Maps (USA) afin d’afficher la carte.En savoir plus\\\\nsur la collecte et le traitement des données par Google\\\\nAFFICHER LA CARTE\", \\'card_2\\': \"Présentation\\\\nDepuis janvier 2010, je vous reçois dans mon cabinet à Champs-sur-Marne à deux pas de la gare Noisy-Champs. \\\\n\\\\nPar le biais des soins de pédicurie, je traite les affections cutanées des pieds (cors, verrues, mycoses, etc.) et unguéales (ongle incarné, ongle cassé ou qui a chuté, mycoses, etc.). \\\\nAttention, le pédicure-podologue ne traite les affections cutanées que sur les pieds, les verrues aux mains ou sur d\\'autre parties du corp ne sont pas dans le champs de compétence)\\\\n \\\\nPar la réalisation d\\'orthèses plantaires sur mesure (semelles orthopédiques), je suis amené aussi à traiter et prévenir les douleurs des membres inférieurs et du dos qu\\'elles soient musculaires, articulaires, osseuses, lié au sport, au travail ou autre.\\\\n\\\\nJ’interviens également sur le terrain au sein de l’association Air Pod lors d\\'événements sportifs et de prévention (Semi-marathon de Disney, trails, etc.), ainsi que sur des épreuves de marche (24h de Bourges et Paris-Alsace 2015 et 2016). \\\\n\\\\nDe plus en plus de mutuelles prennent les soins de pédicurie en charge, n\\'hésitez pas à demander à la votre.\\\\n\\\\nSuit à l\\'accroissement du nombre de RDV non honoré ou de rendez-vous décommandé à la dernière minute, je me réserve le droit de bloquer la prise de rendez-vous sur Doctolib et cela dès le premier rendez-vous.\", \\'card_3\\': \\'\\', \\'card_4\\': \\'\\', \\'card_5\\': \\'\\'}'"
      ]
     },
     "execution_count": 29,
     "metadata": {},
     "output_type": "execute_result"
    }
   ],
   "source": [
    "data['Profile Cards'].iloc[999]"
   ]
  },
  {
   "cell_type": "code",
   "execution_count": 30,
   "metadata": {},
   "outputs": [
    {
     "data": {
      "text/html": [
       "<div>\n",
       "<style scoped>\n",
       "    .dataframe tbody tr th:only-of-type {\n",
       "        vertical-align: middle;\n",
       "    }\n",
       "\n",
       "    .dataframe tbody tr th {\n",
       "        vertical-align: top;\n",
       "    }\n",
       "\n",
       "    .dataframe thead th {\n",
       "        text-align: right;\n",
       "    }\n",
       "</style>\n",
       "<table border=\"1\" class=\"dataframe\">\n",
       "  <thead>\n",
       "    <tr style=\"text-align: right;\">\n",
       "      <th></th>\n",
       "      <th>Doctor Name</th>\n",
       "      <th>Specialty</th>\n",
       "      <th>card_0</th>\n",
       "      <th>card_3</th>\n",
       "      <th>card_4</th>\n",
       "      <th>Latitude</th>\n",
       "      <th>Longitude</th>\n",
       "      <th>Skills Processed</th>\n",
       "      <th>RPPS</th>\n",
       "      <th>Nb Skills</th>\n",
       "      <th>...</th>\n",
       "      <th>Parking</th>\n",
       "      <th>Infos</th>\n",
       "      <th>Coordonnées</th>\n",
       "      <th>Sans RDV</th>\n",
       "      <th>nb terms card_0</th>\n",
       "      <th>nb terms card_3</th>\n",
       "      <th>nb terms card_4</th>\n",
       "      <th>nb carac card_0</th>\n",
       "      <th>nb carac card_3</th>\n",
       "      <th>nb carac card_4</th>\n",
       "    </tr>\n",
       "  </thead>\n",
       "  <tbody>\n",
       "    <tr>\n",
       "      <th>0</th>\n",
       "      <td>Dr Marian AGACHI</td>\n",
       "      <td>Neurochirurgien</td>\n",
       "      <td>NaN</td>\n",
       "      <td>[Horaires et coordonnées, Horaires d'ouverture...</td>\n",
       "      <td>NaN</td>\n",
       "      <td>48.878328</td>\n",
       "      <td>2.431034</td>\n",
       "      <td>[Expertises et actes, Neurochirurgie du rachis]</td>\n",
       "      <td>10001649291</td>\n",
       "      <td>1</td>\n",
       "      <td>...</td>\n",
       "      <td>0</td>\n",
       "      <td>1</td>\n",
       "      <td>1</td>\n",
       "      <td>0</td>\n",
       "      <td>0</td>\n",
       "      <td>8</td>\n",
       "      <td>0</td>\n",
       "      <td>0</td>\n",
       "      <td>64</td>\n",
       "      <td>0</td>\n",
       "    </tr>\n",
       "    <tr>\n",
       "      <th>1</th>\n",
       "      <td>Dr Anne Vaillant Moga</td>\n",
       "      <td>Médecin généraliste</td>\n",
       "      <td>[Lieu 1, Lieu 2, Dr Anne Moga (Paris), 76 aven...</td>\n",
       "      <td>[Horaires et coordonnées, Horaires d'ouverture...</td>\n",
       "      <td>[Tarifs, Consultation préalable de médecine es...</td>\n",
       "      <td>48.869218</td>\n",
       "      <td>2.285468</td>\n",
       "      <td>[Expertises et actes, Acné, Allergie, Apnée du...</td>\n",
       "      <td>10000378991</td>\n",
       "      <td>10</td>\n",
       "      <td>...</td>\n",
       "      <td>0</td>\n",
       "      <td>1</td>\n",
       "      <td>0</td>\n",
       "      <td>0</td>\n",
       "      <td>25</td>\n",
       "      <td>6</td>\n",
       "      <td>32</td>\n",
       "      <td>625</td>\n",
       "      <td>36</td>\n",
       "      <td>1024</td>\n",
       "    </tr>\n",
       "    <tr>\n",
       "      <th>2</th>\n",
       "      <td>Dr Gabriel Ohana</td>\n",
       "      <td>Chirurgien-dentiste</td>\n",
       "      <td>[Tarifs et remboursement, , Carte Vitale accep...</td>\n",
       "      <td>[Horaires et coordonnées, Horaires d'ouverture...</td>\n",
       "      <td>[Tarifs, Consultation dentaire, 23 €, Traiteme...</td>\n",
       "      <td>48.894148</td>\n",
       "      <td>2.250698</td>\n",
       "      <td>[Expertises et actes, Chirurgie buccale, Proth...</td>\n",
       "      <td>10003639373</td>\n",
       "      <td>3</td>\n",
       "      <td>...</td>\n",
       "      <td>0</td>\n",
       "      <td>1</td>\n",
       "      <td>1</td>\n",
       "      <td>0</td>\n",
       "      <td>12</td>\n",
       "      <td>8</td>\n",
       "      <td>10</td>\n",
       "      <td>144</td>\n",
       "      <td>64</td>\n",
       "      <td>100</td>\n",
       "    </tr>\n",
       "    <tr>\n",
       "      <th>3</th>\n",
       "      <td>Dr Thomas BAMBERGER</td>\n",
       "      <td>Dermatologue et vénérologue</td>\n",
       "      <td>[Tarifs et remboursement, , , Conventionné sec...</td>\n",
       "      <td>[Horaires et coordonnées, Horaires d'ouverture...</td>\n",
       "      <td>[Tarifs, Consultation, 31,50 € à 56,50 €, Cont...</td>\n",
       "      <td>48.815433</td>\n",
       "      <td>2.343017</td>\n",
       "      <td>NaN</td>\n",
       "      <td>10003719571</td>\n",
       "      <td>0</td>\n",
       "      <td>...</td>\n",
       "      <td>0</td>\n",
       "      <td>1</td>\n",
       "      <td>1</td>\n",
       "      <td>0</td>\n",
       "      <td>8</td>\n",
       "      <td>8</td>\n",
       "      <td>10</td>\n",
       "      <td>64</td>\n",
       "      <td>64</td>\n",
       "      <td>100</td>\n",
       "    </tr>\n",
       "    <tr>\n",
       "      <th>4</th>\n",
       "      <td>Dr Layla Chatila</td>\n",
       "      <td>Chirurgien-dentiste</td>\n",
       "      <td>[Tarifs et remboursement, , , , Conventionné, ...</td>\n",
       "      <td>[Horaires et coordonnées, Coordonnées, 01 45 2...</td>\n",
       "      <td>[Tarifs, Consultation dentaire, 23 €, Ces hono...</td>\n",
       "      <td>48.858804</td>\n",
       "      <td>2.274392</td>\n",
       "      <td>NaN</td>\n",
       "      <td>10005133003</td>\n",
       "      <td>0</td>\n",
       "      <td>...</td>\n",
       "      <td>1</td>\n",
       "      <td>1</td>\n",
       "      <td>1</td>\n",
       "      <td>0</td>\n",
       "      <td>9</td>\n",
       "      <td>3</td>\n",
       "      <td>4</td>\n",
       "      <td>81</td>\n",
       "      <td>9</td>\n",
       "      <td>16</td>\n",
       "    </tr>\n",
       "    <tr>\n",
       "      <th>...</th>\n",
       "      <td>...</td>\n",
       "      <td>...</td>\n",
       "      <td>...</td>\n",
       "      <td>...</td>\n",
       "      <td>...</td>\n",
       "      <td>...</td>\n",
       "      <td>...</td>\n",
       "      <td>...</td>\n",
       "      <td>...</td>\n",
       "      <td>...</td>\n",
       "      <td>...</td>\n",
       "      <td>...</td>\n",
       "      <td>...</td>\n",
       "      <td>...</td>\n",
       "      <td>...</td>\n",
       "      <td>...</td>\n",
       "      <td>...</td>\n",
       "      <td>...</td>\n",
       "      <td>...</td>\n",
       "      <td>...</td>\n",
       "      <td>...</td>\n",
       "    </tr>\n",
       "    <tr>\n",
       "      <th>990</th>\n",
       "      <td>Dr Danielle Taconet</td>\n",
       "      <td>Ophtalmologue</td>\n",
       "      <td>[Tarifs et remboursement, , , Conventionné sec...</td>\n",
       "      <td>[Horaires et coordonnées, Contact d'urgence, E...</td>\n",
       "      <td>NaN</td>\n",
       "      <td>49.060704</td>\n",
       "      <td>2.184674</td>\n",
       "      <td>[Expertises et actes, Champ visuel, Laser opht...</td>\n",
       "      <td>10003749230</td>\n",
       "      <td>4</td>\n",
       "      <td>...</td>\n",
       "      <td>0</td>\n",
       "      <td>1</td>\n",
       "      <td>1</td>\n",
       "      <td>0</td>\n",
       "      <td>13</td>\n",
       "      <td>5</td>\n",
       "      <td>0</td>\n",
       "      <td>169</td>\n",
       "      <td>25</td>\n",
       "      <td>0</td>\n",
       "    </tr>\n",
       "    <tr>\n",
       "      <th>994</th>\n",
       "      <td>Dr Stella Danan-Hadida</td>\n",
       "      <td>Gynécologue médicale et obstétrique</td>\n",
       "      <td>[Tarifs et remboursement, , , , Conventionné s...</td>\n",
       "      <td>[Horaires et coordonnées, Horaires d'ouverture...</td>\n",
       "      <td>[Tarifs, Consultation vidéo, 58 €, Consultatio...</td>\n",
       "      <td>48.871909</td>\n",
       "      <td>2.346805</td>\n",
       "      <td>[Expertises et actes, Gynécologie obstétrique,...</td>\n",
       "      <td>10000292291</td>\n",
       "      <td>7</td>\n",
       "      <td>...</td>\n",
       "      <td>1</td>\n",
       "      <td>1</td>\n",
       "      <td>1</td>\n",
       "      <td>0</td>\n",
       "      <td>18</td>\n",
       "      <td>8</td>\n",
       "      <td>28</td>\n",
       "      <td>324</td>\n",
       "      <td>64</td>\n",
       "      <td>784</td>\n",
       "    </tr>\n",
       "    <tr>\n",
       "      <th>995</th>\n",
       "      <td>Dr Philippe Lazare SELLAM</td>\n",
       "      <td>Spécialiste en chirurgie plastique reconstruct...</td>\n",
       "      <td>[Lieu 1, Lieu 2, Cabinet du Docteur Philippe L...</td>\n",
       "      <td>[Horaires et coordonnées, Contact d'urgence, E...</td>\n",
       "      <td>[Tarifs, Consultation, 23 € à 120 €, Exérèse d...</td>\n",
       "      <td>48.868676</td>\n",
       "      <td>2.325944</td>\n",
       "      <td>NaN</td>\n",
       "      <td>10000558964</td>\n",
       "      <td>0</td>\n",
       "      <td>...</td>\n",
       "      <td>1</td>\n",
       "      <td>1</td>\n",
       "      <td>1</td>\n",
       "      <td>0</td>\n",
       "      <td>11</td>\n",
       "      <td>5</td>\n",
       "      <td>8</td>\n",
       "      <td>121</td>\n",
       "      <td>25</td>\n",
       "      <td>64</td>\n",
       "    </tr>\n",
       "    <tr>\n",
       "      <th>996</th>\n",
       "      <td>Dr Michèle Maizil</td>\n",
       "      <td>Chirurgien-dentiste</td>\n",
       "      <td>NaN</td>\n",
       "      <td>[Horaires et coordonnées, Horaires d'ouverture...</td>\n",
       "      <td>NaN</td>\n",
       "      <td>48.834970</td>\n",
       "      <td>2.246637</td>\n",
       "      <td>NaN</td>\n",
       "      <td>10000202985</td>\n",
       "      <td>0</td>\n",
       "      <td>...</td>\n",
       "      <td>1</td>\n",
       "      <td>1</td>\n",
       "      <td>1</td>\n",
       "      <td>0</td>\n",
       "      <td>0</td>\n",
       "      <td>8</td>\n",
       "      <td>0</td>\n",
       "      <td>0</td>\n",
       "      <td>64</td>\n",
       "      <td>0</td>\n",
       "    </tr>\n",
       "    <tr>\n",
       "      <th>997</th>\n",
       "      <td>Dr Thierry MEYER</td>\n",
       "      <td>Chirurgien-dentiste</td>\n",
       "      <td>[Tarifs et remboursement, , , , Conventionné, ...</td>\n",
       "      <td>[Horaires et coordonnées, Horaires d'ouverture...</td>\n",
       "      <td>[Tarifs, Consultation, 23 €, Ces honoraires vo...</td>\n",
       "      <td>43.523939</td>\n",
       "      <td>5.447130</td>\n",
       "      <td>[Expertises et actes, Amélogenèse imparfaite, ...</td>\n",
       "      <td>10000173897</td>\n",
       "      <td>10</td>\n",
       "      <td>...</td>\n",
       "      <td>1</td>\n",
       "      <td>1</td>\n",
       "      <td>1</td>\n",
       "      <td>0</td>\n",
       "      <td>20</td>\n",
       "      <td>8</td>\n",
       "      <td>4</td>\n",
       "      <td>400</td>\n",
       "      <td>64</td>\n",
       "      <td>16</td>\n",
       "    </tr>\n",
       "  </tbody>\n",
       "</table>\n",
       "<p>367 rows × 42 columns</p>\n",
       "</div>"
      ],
      "text/plain": [
       "                   Doctor Name  \\\n",
       "0             Dr Marian AGACHI   \n",
       "1        Dr Anne Vaillant Moga   \n",
       "2             Dr Gabriel Ohana   \n",
       "3          Dr Thomas BAMBERGER   \n",
       "4             Dr Layla Chatila   \n",
       "..                         ...   \n",
       "990        Dr Danielle Taconet   \n",
       "994     Dr Stella Danan-Hadida   \n",
       "995  Dr Philippe Lazare SELLAM   \n",
       "996          Dr Michèle Maizil   \n",
       "997           Dr Thierry MEYER   \n",
       "\n",
       "                                             Specialty  \\\n",
       "0                                      Neurochirurgien   \n",
       "1                                  Médecin généraliste   \n",
       "2                                  Chirurgien-dentiste   \n",
       "3                          Dermatologue et vénérologue   \n",
       "4                                  Chirurgien-dentiste   \n",
       "..                                                 ...   \n",
       "990                                      Ophtalmologue   \n",
       "994                Gynécologue médicale et obstétrique   \n",
       "995  Spécialiste en chirurgie plastique reconstruct...   \n",
       "996                                Chirurgien-dentiste   \n",
       "997                                Chirurgien-dentiste   \n",
       "\n",
       "                                                card_0  \\\n",
       "0                                                  NaN   \n",
       "1    [Lieu 1, Lieu 2, Dr Anne Moga (Paris), 76 aven...   \n",
       "2    [Tarifs et remboursement, , Carte Vitale accep...   \n",
       "3    [Tarifs et remboursement, , , Conventionné sec...   \n",
       "4    [Tarifs et remboursement, , , , Conventionné, ...   \n",
       "..                                                 ...   \n",
       "990  [Tarifs et remboursement, , , Conventionné sec...   \n",
       "994  [Tarifs et remboursement, , , , Conventionné s...   \n",
       "995  [Lieu 1, Lieu 2, Cabinet du Docteur Philippe L...   \n",
       "996                                                NaN   \n",
       "997  [Tarifs et remboursement, , , , Conventionné, ...   \n",
       "\n",
       "                                                card_3  \\\n",
       "0    [Horaires et coordonnées, Horaires d'ouverture...   \n",
       "1    [Horaires et coordonnées, Horaires d'ouverture...   \n",
       "2    [Horaires et coordonnées, Horaires d'ouverture...   \n",
       "3    [Horaires et coordonnées, Horaires d'ouverture...   \n",
       "4    [Horaires et coordonnées, Coordonnées, 01 45 2...   \n",
       "..                                                 ...   \n",
       "990  [Horaires et coordonnées, Contact d'urgence, E...   \n",
       "994  [Horaires et coordonnées, Horaires d'ouverture...   \n",
       "995  [Horaires et coordonnées, Contact d'urgence, E...   \n",
       "996  [Horaires et coordonnées, Horaires d'ouverture...   \n",
       "997  [Horaires et coordonnées, Horaires d'ouverture...   \n",
       "\n",
       "                                                card_4   Latitude  Longitude  \\\n",
       "0                                                  NaN  48.878328   2.431034   \n",
       "1    [Tarifs, Consultation préalable de médecine es...  48.869218   2.285468   \n",
       "2    [Tarifs, Consultation dentaire, 23 €, Traiteme...  48.894148   2.250698   \n",
       "3    [Tarifs, Consultation, 31,50 € à 56,50 €, Cont...  48.815433   2.343017   \n",
       "4    [Tarifs, Consultation dentaire, 23 €, Ces hono...  48.858804   2.274392   \n",
       "..                                                 ...        ...        ...   \n",
       "990                                                NaN  49.060704   2.184674   \n",
       "994  [Tarifs, Consultation vidéo, 58 €, Consultatio...  48.871909   2.346805   \n",
       "995  [Tarifs, Consultation, 23 € à 120 €, Exérèse d...  48.868676   2.325944   \n",
       "996                                                NaN  48.834970   2.246637   \n",
       "997  [Tarifs, Consultation, 23 €, Ces honoraires vo...  43.523939   5.447130   \n",
       "\n",
       "                                      Skills Processed         RPPS  \\\n",
       "0      [Expertises et actes, Neurochirurgie du rachis]  10001649291   \n",
       "1    [Expertises et actes, Acné, Allergie, Apnée du...  10000378991   \n",
       "2    [Expertises et actes, Chirurgie buccale, Proth...  10003639373   \n",
       "3                                                  NaN  10003719571   \n",
       "4                                                  NaN  10005133003   \n",
       "..                                                 ...          ...   \n",
       "990  [Expertises et actes, Champ visuel, Laser opht...  10003749230   \n",
       "994  [Expertises et actes, Gynécologie obstétrique,...  10000292291   \n",
       "995                                                NaN  10000558964   \n",
       "996                                                NaN  10000202985   \n",
       "997  [Expertises et actes, Amélogenèse imparfaite, ...  10000173897   \n",
       "\n",
       "     Nb Skills  ...  Parking  Infos  Coordonnées Sans RDV nb terms card_0  \\\n",
       "0            1  ...        0      1            1        0               0   \n",
       "1           10  ...        0      1            0        0              25   \n",
       "2            3  ...        0      1            1        0              12   \n",
       "3            0  ...        0      1            1        0               8   \n",
       "4            0  ...        1      1            1        0               9   \n",
       "..         ...  ...      ...    ...          ...      ...             ...   \n",
       "990          4  ...        0      1            1        0              13   \n",
       "994          7  ...        1      1            1        0              18   \n",
       "995          0  ...        1      1            1        0              11   \n",
       "996          0  ...        1      1            1        0               0   \n",
       "997         10  ...        1      1            1        0              20   \n",
       "\n",
       "    nb terms card_3 nb terms card_4 nb carac card_0 nb carac card_3  \\\n",
       "0                 8               0               0              64   \n",
       "1                 6              32             625              36   \n",
       "2                 8              10             144              64   \n",
       "3                 8              10              64              64   \n",
       "4                 3               4              81               9   \n",
       "..              ...             ...             ...             ...   \n",
       "990               5               0             169              25   \n",
       "994               8              28             324              64   \n",
       "995               5               8             121              25   \n",
       "996               8               0               0              64   \n",
       "997               8               4             400              64   \n",
       "\n",
       "    nb carac card_4  \n",
       "0                 0  \n",
       "1              1024  \n",
       "2               100  \n",
       "3               100  \n",
       "4                16  \n",
       "..              ...  \n",
       "990               0  \n",
       "994             784  \n",
       "995              64  \n",
       "996               0  \n",
       "997              16  \n",
       "\n",
       "[367 rows x 42 columns]"
      ]
     },
     "execution_count": 30,
     "metadata": {},
     "output_type": "execute_result"
    }
   ],
   "source": [
    "data_combined_sans_nan = data_combined[data_combined['RPPS'].notna()]\n",
    "data_combined_sans_nan"
   ]
  },
  {
   "cell_type": "code",
   "execution_count": 31,
   "metadata": {},
   "outputs": [
    {
     "data": {
      "text/plain": [
       "0     10001649291\n",
       "1     10000378991\n",
       "2     10003639373\n",
       "3     10003719571\n",
       "4     10005133003\n",
       "5     10001538924\n",
       "6     10006076227\n",
       "7     10100273183\n",
       "9     10004057633\n",
       "10    10001025484\n",
       "Name: RPPS, dtype: object"
      ]
     },
     "execution_count": 31,
     "metadata": {},
     "output_type": "execute_result"
    }
   ],
   "source": [
    "data_combined_sans_nan['RPPS'].head(10)"
   ]
  },
  {
   "cell_type": "markdown",
   "metadata": {},
   "source": [
    "# Ouverture base de données activités"
   ]
  },
  {
   "cell_type": "code",
   "execution_count": 32,
   "metadata": {
    "vscode": {
     "languageId": "shellscript"
    }
   },
   "outputs": [
    {
     "name": "stderr",
     "output_type": "stream",
     "text": [
      "/var/folders/rf/dqdwsk6s06ngm9b4j17fkb2r0000gn/T/ipykernel_2810/2401431438.py:1: DtypeWarning: Columns (10,15,16) have mixed types. Specify dtype option on import or set low_memory=False.\n",
      "  annuaire = pd.read_csv('data/PS_LibreAcces_Personne_activite_small.csv')\n"
     ]
    },
    {
     "data": {
      "text/plain": [
       "(83743, 27)"
      ]
     },
     "execution_count": 32,
     "metadata": {},
     "output_type": "execute_result"
    }
   ],
   "source": [
    "annuaire = pd.read_csv('data/PS_LibreAcces_Personne_activite_small.csv')\n",
    "annuaire.shape"
   ]
  },
  {
   "cell_type": "code",
   "execution_count": 33,
   "metadata": {
    "vscode": {
     "languageId": "shellscript"
    }
   },
   "outputs": [
    {
     "data": {
      "text/plain": [
       "identifiantpp                           0\n",
       "identificationnationalepp               0\n",
       "codecivilité                            0\n",
       "nomdexercice                            1\n",
       "prénomdexercice                         1\n",
       "codecatégorieprofessionnelle            0\n",
       "codesavoirfaire                         0\n",
       "libellésavoirfaire                      0\n",
       "codemodeexercice                        0\n",
       "numérosiretsite                     58015\n",
       "numérofinesssite                    57014\n",
       "identifianttechniquedelastructur        0\n",
       "raisonsocialesite                       0\n",
       "numérovoiecoordstructure            10187\n",
       "indicerépétitionvoiecoordstructu    78376\n",
       "codetypedevoiecoordstructure        57627\n",
       "libellétypedevoiecoordstructure     57627\n",
       "libellévoiecoordstructure            1195\n",
       "bureaucedexcoordstructure               0\n",
       "codepostalcoordstructure                0\n",
       "codecommunecoordstructure               1\n",
       "libellécommunecoordstructure            1\n",
       "libellépayscoordstructure           26729\n",
       "codesecteurdactivité                    0\n",
       "libellésecteurdactivité                 0\n",
       "coderôle                                0\n",
       "libellérôle                             0\n",
       "dtype: int64"
      ]
     },
     "execution_count": 33,
     "metadata": {},
     "output_type": "execute_result"
    }
   ],
   "source": [
    "annuaire.isnull().sum()"
   ]
  },
  {
   "cell_type": "code",
   "execution_count": 34,
   "metadata": {
    "vscode": {
     "languageId": "shellscript"
    }
   },
   "outputs": [],
   "source": [
    "annuaire['identifiantpp']=annuaire['identifiantpp'].astype(str)"
   ]
  },
  {
   "cell_type": "markdown",
   "metadata": {},
   "source": [
    "# Merge doctolib généraliste et base de données"
   ]
  },
  {
   "cell_type": "code",
   "execution_count": 35,
   "metadata": {
    "vscode": {
     "languageId": "shellscript"
    }
   },
   "outputs": [],
   "source": [
    "medecin_gen = data_combined_sans_nan[data_combined_sans_nan['Specialty']=='Médecin généraliste']"
   ]
  },
  {
   "cell_type": "code",
   "execution_count": 36,
   "metadata": {
    "vscode": {
     "languageId": "shellscript"
    }
   },
   "outputs": [
    {
     "data": {
      "text/plain": [
       "1     10000378991\n",
       "10    10001025484\n",
       "16    10002991841\n",
       "18    10001627800\n",
       "19    10100469658\n",
       "Name: RPPS, dtype: object"
      ]
     },
     "execution_count": 36,
     "metadata": {},
     "output_type": "execute_result"
    }
   ],
   "source": [
    "medecin_gen['RPPS'].head()"
   ]
  },
  {
   "cell_type": "code",
   "execution_count": 37,
   "metadata": {
    "vscode": {
     "languageId": "shellscript"
    }
   },
   "outputs": [],
   "source": [
    "liste_med = annuaire.merge(medecin_gen,how='outer',left_on='identifiantpp',right_on='RPPS')"
   ]
  },
  {
   "cell_type": "code",
   "execution_count": 38,
   "metadata": {
    "vscode": {
     "languageId": "shellscript"
    }
   },
   "outputs": [
    {
     "data": {
      "text/plain": [
       "0    10000003870\n",
       "1    10000003870\n",
       "2    10000004688\n",
       "3    10000005180\n",
       "4    10000005537\n",
       "Name: identifiantpp, dtype: object"
      ]
     },
     "execution_count": 38,
     "metadata": {},
     "output_type": "execute_result"
    }
   ],
   "source": [
    "liste_med['identifiantpp'].head() "
   ]
  },
  {
   "cell_type": "code",
   "execution_count": 39,
   "metadata": {},
   "outputs": [],
   "source": [
    "def departement(codepostal):\n",
    "    code = int(codepostal)/1000\n",
    "    if int(code) == 97 :\n",
    "        return(str(int(codepostal/100)))\n",
    "    if int(code) < 10 :\n",
    "        return('0'+str(int(code)))\n",
    "    return (str(int(code)))"
   ]
  },
  {
   "cell_type": "code",
   "execution_count": 40,
   "metadata": {},
   "outputs": [],
   "source": [
    "liste_med.loc[:, 'code dépar'] = liste_med['codepostalcoordstructure'].apply(departement)"
   ]
  },
  {
   "cell_type": "markdown",
   "metadata": {},
   "source": [
    "Ouverture concurrence d'après INSEE"
   ]
  },
  {
   "cell_type": "code",
   "execution_count": 41,
   "metadata": {
    "vscode": {
     "languageId": "shellscript"
    }
   },
   "outputs": [
    {
     "data": {
      "text/html": [
       "<div>\n",
       "<style scoped>\n",
       "    .dataframe tbody tr th:only-of-type {\n",
       "        vertical-align: middle;\n",
       "    }\n",
       "\n",
       "    .dataframe tbody tr th {\n",
       "        vertical-align: top;\n",
       "    }\n",
       "\n",
       "    .dataframe thead th {\n",
       "        text-align: right;\n",
       "    }\n",
       "</style>\n",
       "<table border=\"1\" class=\"dataframe\">\n",
       "  <thead>\n",
       "    <tr style=\"text-align: right;\">\n",
       "      <th></th>\n",
       "      <th>Code Département</th>\n",
       "      <th>Nom Département</th>\n",
       "      <th>Nombre de médecins</th>\n",
       "      <th>Nombre de médecins pour 100 000 habitants</th>\n",
       "      <th>généralistes</th>\n",
       "      <th>spécialistes</th>\n",
       "      <th>dentistes</th>\n",
       "      <th>Pharm.</th>\n",
       "    </tr>\n",
       "  </thead>\n",
       "  <tbody>\n",
       "    <tr>\n",
       "      <th>4</th>\n",
       "      <td>01</td>\n",
       "      <td>Ain</td>\n",
       "      <td>1162</td>\n",
       "      <td>174</td>\n",
       "      <td>99</td>\n",
       "      <td>75</td>\n",
       "      <td>53</td>\n",
       "      <td>78</td>\n",
       "    </tr>\n",
       "    <tr>\n",
       "      <th>5</th>\n",
       "      <td>02</td>\n",
       "      <td>Aisne</td>\n",
       "      <td>1107</td>\n",
       "      <td>211</td>\n",
       "      <td>99</td>\n",
       "      <td>111</td>\n",
       "      <td>45</td>\n",
       "      <td>91</td>\n",
       "    </tr>\n",
       "    <tr>\n",
       "      <th>6</th>\n",
       "      <td>03</td>\n",
       "      <td>Allier</td>\n",
       "      <td>917</td>\n",
       "      <td>275</td>\n",
       "      <td>134</td>\n",
       "      <td>141</td>\n",
       "      <td>51</td>\n",
       "      <td>111</td>\n",
       "    </tr>\n",
       "    <tr>\n",
       "      <th>7</th>\n",
       "      <td>04</td>\n",
       "      <td>Alpes-de-Haute-Provence</td>\n",
       "      <td>483</td>\n",
       "      <td>291</td>\n",
       "      <td>165</td>\n",
       "      <td>125</td>\n",
       "      <td>54</td>\n",
       "      <td>103</td>\n",
       "    </tr>\n",
       "    <tr>\n",
       "      <th>8</th>\n",
       "      <td>05</td>\n",
       "      <td>Hautes-Alpes</td>\n",
       "      <td>705</td>\n",
       "      <td>503</td>\n",
       "      <td>291</td>\n",
       "      <td>213</td>\n",
       "      <td>72</td>\n",
       "      <td>135</td>\n",
       "    </tr>\n",
       "    <tr>\n",
       "      <th>...</th>\n",
       "      <td>...</td>\n",
       "      <td>...</td>\n",
       "      <td>...</td>\n",
       "      <td>...</td>\n",
       "      <td>...</td>\n",
       "      <td>...</td>\n",
       "      <td>...</td>\n",
       "      <td>...</td>\n",
       "    </tr>\n",
       "    <tr>\n",
       "      <th>103</th>\n",
       "      <td>972</td>\n",
       "      <td>Martinique</td>\n",
       "      <td>1171</td>\n",
       "      <td>332</td>\n",
       "      <td>152</td>\n",
       "      <td>180</td>\n",
       "      <td>68</td>\n",
       "      <td>99</td>\n",
       "    </tr>\n",
       "    <tr>\n",
       "      <th>104</th>\n",
       "      <td>973</td>\n",
       "      <td>Guyane</td>\n",
       "      <td>717</td>\n",
       "      <td>242</td>\n",
       "      <td>123</td>\n",
       "      <td>120</td>\n",
       "      <td>30</td>\n",
       "      <td>46</td>\n",
       "    </tr>\n",
       "    <tr>\n",
       "      <th>105</th>\n",
       "      <td>974</td>\n",
       "      <td>La Réunion</td>\n",
       "      <td>3170</td>\n",
       "      <td>364</td>\n",
       "      <td>176</td>\n",
       "      <td>189</td>\n",
       "      <td>67</td>\n",
       "      <td>94</td>\n",
       "    </tr>\n",
       "    <tr>\n",
       "      <th>106</th>\n",
       "      <td>976</td>\n",
       "      <td>Mayotte</td>\n",
       "      <td>265</td>\n",
       "      <td>89</td>\n",
       "      <td>49</td>\n",
       "      <td>39</td>\n",
       "      <td>9</td>\n",
       "      <td>31</td>\n",
       "    </tr>\n",
       "    <tr>\n",
       "      <th>107</th>\n",
       "      <td>F</td>\n",
       "      <td>France</td>\n",
       "      <td>230143</td>\n",
       "      <td>339</td>\n",
       "      <td>147</td>\n",
       "      <td>193</td>\n",
       "      <td>67</td>\n",
       "      <td>108</td>\n",
       "    </tr>\n",
       "  </tbody>\n",
       "</table>\n",
       "<p>104 rows × 8 columns</p>\n",
       "</div>"
      ],
      "text/plain": [
       "    Code Département          Nom Département Nombre de médecins  \\\n",
       "4                 01                      Ain               1162   \n",
       "5                 02                    Aisne               1107   \n",
       "6                 03                   Allier                917   \n",
       "7                 04  Alpes-de-Haute-Provence                483   \n",
       "8                 05             Hautes-Alpes                705   \n",
       "..               ...                      ...                ...   \n",
       "103              972               Martinique               1171   \n",
       "104              973                   Guyane                717   \n",
       "105              974               La Réunion               3170   \n",
       "106              976                  Mayotte                265   \n",
       "107                F                   France             230143   \n",
       "\n",
       "    Nombre de médecins pour 100 000 habitants généralistes spécialistes  \\\n",
       "4                                         174           99           75   \n",
       "5                                         211           99          111   \n",
       "6                                         275          134          141   \n",
       "7                                         291          165          125   \n",
       "8                                         503          291          213   \n",
       "..                                        ...          ...          ...   \n",
       "103                                       332          152          180   \n",
       "104                                       242          123          120   \n",
       "105                                       364          176          189   \n",
       "106                                        89           49           39   \n",
       "107                                       339          147          193   \n",
       "\n",
       "    dentistes Pharm.  \n",
       "4          53     78  \n",
       "5          45     91  \n",
       "6          51    111  \n",
       "7          54    103  \n",
       "8          72    135  \n",
       "..        ...    ...  \n",
       "103        68     99  \n",
       "104        30     46  \n",
       "105        67     94  \n",
       "106         9     31  \n",
       "107        67    108  \n",
       "\n",
       "[104 rows x 8 columns]"
      ]
     },
     "execution_count": 41,
     "metadata": {},
     "output_type": "execute_result"
    }
   ],
   "source": [
    "concu = pd.read_excel('data/TCRD_068.xlsx')\n",
    "concu.rename(columns={'Professionnels de santé au 1ᵉʳ janvier 2023 : comparaisons départementales' : 'Code Département','Unnamed: 1' : 'Nom Département','Unnamed: 2':'Nombre de médecins','Unnamed: 3':'Nombre de médecins pour 100 000 habitants','Unnamed: 4':'généralistes','Unnamed: 5':'spécialistes','Unnamed: 6':'dentistes','Unnamed: 7':'Pharm.'}, inplace=True)\n",
    "concu.drop(labels = [0,1,2,3,108],axis=0, inplace=True)\n",
    "concu"
   ]
  },
  {
   "cell_type": "code",
   "execution_count": 42,
   "metadata": {
    "vscode": {
     "languageId": "shellscript"
    }
   },
   "outputs": [],
   "source": [
    "liste_med = liste_med.merge(concu[['Code Département','généralistes']], left_on='code dépar', right_on='Code Département',how='inner')"
   ]
  },
  {
   "cell_type": "code",
   "execution_count": 43,
   "metadata": {
    "vscode": {
     "languageId": "shellscript"
    }
   },
   "outputs": [
    {
     "data": {
      "text/plain": [
       "0    NaN\n",
       "1    NaN\n",
       "2    NaN\n",
       "3    NaN\n",
       "4    NaN\n",
       "Name: RPPS, dtype: object"
      ]
     },
     "execution_count": 43,
     "metadata": {},
     "output_type": "execute_result"
    }
   ],
   "source": [
    "liste_med['RPPS'].head()"
   ]
  },
  {
   "cell_type": "code",
   "execution_count": 44,
   "metadata": {
    "vscode": {
     "languageId": "shellscript"
    }
   },
   "outputs": [
    {
     "data": {
      "text/html": [
       "<div>\n",
       "<style scoped>\n",
       "    .dataframe tbody tr th:only-of-type {\n",
       "        vertical-align: middle;\n",
       "    }\n",
       "\n",
       "    .dataframe tbody tr th {\n",
       "        vertical-align: top;\n",
       "    }\n",
       "\n",
       "    .dataframe thead th {\n",
       "        text-align: right;\n",
       "    }\n",
       "</style>\n",
       "<table border=\"1\" class=\"dataframe\">\n",
       "  <thead>\n",
       "    <tr style=\"text-align: right;\">\n",
       "      <th></th>\n",
       "      <th>nomdexercice</th>\n",
       "      <th>prénomdexercice</th>\n",
       "      <th>RPPS</th>\n",
       "      <th>Specialty</th>\n",
       "      <th>card_0</th>\n",
       "      <th>card_3</th>\n",
       "      <th>card_4</th>\n",
       "      <th>Skills Processed</th>\n",
       "      <th>Nb Skills</th>\n",
       "      <th>moyens_paiement</th>\n",
       "      <th>...</th>\n",
       "      <th>Nb langues</th>\n",
       "      <th>Expériences b</th>\n",
       "      <th>Carac_card_1</th>\n",
       "      <th>Transport</th>\n",
       "      <th>Parking</th>\n",
       "      <th>Infos</th>\n",
       "      <th>Coordonnées</th>\n",
       "      <th>Sans RDV</th>\n",
       "      <th>Code Département</th>\n",
       "      <th>généralistes</th>\n",
       "    </tr>\n",
       "  </thead>\n",
       "  <tbody>\n",
       "    <tr>\n",
       "      <th>0</th>\n",
       "      <td>VUILLET</td>\n",
       "      <td>MICHEL</td>\n",
       "      <td>NaN</td>\n",
       "      <td>NaN</td>\n",
       "      <td>NaN</td>\n",
       "      <td>NaN</td>\n",
       "      <td>NaN</td>\n",
       "      <td>NaN</td>\n",
       "      <td>NaN</td>\n",
       "      <td>NaN</td>\n",
       "      <td>...</td>\n",
       "      <td>NaN</td>\n",
       "      <td>NaN</td>\n",
       "      <td>NaN</td>\n",
       "      <td>NaN</td>\n",
       "      <td>NaN</td>\n",
       "      <td>NaN</td>\n",
       "      <td>NaN</td>\n",
       "      <td>NaN</td>\n",
       "      <td>971</td>\n",
       "      <td>150</td>\n",
       "    </tr>\n",
       "    <tr>\n",
       "      <th>1</th>\n",
       "      <td>VUILLET</td>\n",
       "      <td>MICHEL</td>\n",
       "      <td>NaN</td>\n",
       "      <td>NaN</td>\n",
       "      <td>NaN</td>\n",
       "      <td>NaN</td>\n",
       "      <td>NaN</td>\n",
       "      <td>NaN</td>\n",
       "      <td>NaN</td>\n",
       "      <td>NaN</td>\n",
       "      <td>...</td>\n",
       "      <td>NaN</td>\n",
       "      <td>NaN</td>\n",
       "      <td>NaN</td>\n",
       "      <td>NaN</td>\n",
       "      <td>NaN</td>\n",
       "      <td>NaN</td>\n",
       "      <td>NaN</td>\n",
       "      <td>NaN</td>\n",
       "      <td>971</td>\n",
       "      <td>150</td>\n",
       "    </tr>\n",
       "    <tr>\n",
       "      <th>2</th>\n",
       "      <td>WEILL</td>\n",
       "      <td>EDGARD</td>\n",
       "      <td>NaN</td>\n",
       "      <td>NaN</td>\n",
       "      <td>NaN</td>\n",
       "      <td>NaN</td>\n",
       "      <td>NaN</td>\n",
       "      <td>NaN</td>\n",
       "      <td>NaN</td>\n",
       "      <td>NaN</td>\n",
       "      <td>...</td>\n",
       "      <td>NaN</td>\n",
       "      <td>NaN</td>\n",
       "      <td>NaN</td>\n",
       "      <td>NaN</td>\n",
       "      <td>NaN</td>\n",
       "      <td>NaN</td>\n",
       "      <td>NaN</td>\n",
       "      <td>NaN</td>\n",
       "      <td>971</td>\n",
       "      <td>150</td>\n",
       "    </tr>\n",
       "    <tr>\n",
       "      <th>3</th>\n",
       "      <td>BORDESSOULES</td>\n",
       "      <td>PIERRE</td>\n",
       "      <td>NaN</td>\n",
       "      <td>NaN</td>\n",
       "      <td>NaN</td>\n",
       "      <td>NaN</td>\n",
       "      <td>NaN</td>\n",
       "      <td>NaN</td>\n",
       "      <td>NaN</td>\n",
       "      <td>NaN</td>\n",
       "      <td>...</td>\n",
       "      <td>NaN</td>\n",
       "      <td>NaN</td>\n",
       "      <td>NaN</td>\n",
       "      <td>NaN</td>\n",
       "      <td>NaN</td>\n",
       "      <td>NaN</td>\n",
       "      <td>NaN</td>\n",
       "      <td>NaN</td>\n",
       "      <td>971</td>\n",
       "      <td>150</td>\n",
       "    </tr>\n",
       "    <tr>\n",
       "      <th>4</th>\n",
       "      <td>DORVILLE</td>\n",
       "      <td>ALBERT</td>\n",
       "      <td>NaN</td>\n",
       "      <td>NaN</td>\n",
       "      <td>NaN</td>\n",
       "      <td>NaN</td>\n",
       "      <td>NaN</td>\n",
       "      <td>NaN</td>\n",
       "      <td>NaN</td>\n",
       "      <td>NaN</td>\n",
       "      <td>...</td>\n",
       "      <td>NaN</td>\n",
       "      <td>NaN</td>\n",
       "      <td>NaN</td>\n",
       "      <td>NaN</td>\n",
       "      <td>NaN</td>\n",
       "      <td>NaN</td>\n",
       "      <td>NaN</td>\n",
       "      <td>NaN</td>\n",
       "      <td>971</td>\n",
       "      <td>150</td>\n",
       "    </tr>\n",
       "  </tbody>\n",
       "</table>\n",
       "<p>5 rows × 34 columns</p>\n",
       "</div>"
      ],
      "text/plain": [
       "   nomdexercice prénomdexercice RPPS Specialty card_0 card_3 card_4  \\\n",
       "0       VUILLET          MICHEL  NaN       NaN    NaN    NaN    NaN   \n",
       "1       VUILLET          MICHEL  NaN       NaN    NaN    NaN    NaN   \n",
       "2         WEILL          EDGARD  NaN       NaN    NaN    NaN    NaN   \n",
       "3  BORDESSOULES          PIERRE  NaN       NaN    NaN    NaN    NaN   \n",
       "4      DORVILLE          ALBERT  NaN       NaN    NaN    NaN    NaN   \n",
       "\n",
       "  Skills Processed  Nb Skills  moyens_paiement  ...  Nb langues  \\\n",
       "0              NaN        NaN              NaN  ...         NaN   \n",
       "1              NaN        NaN              NaN  ...         NaN   \n",
       "2              NaN        NaN              NaN  ...         NaN   \n",
       "3              NaN        NaN              NaN  ...         NaN   \n",
       "4              NaN        NaN              NaN  ...         NaN   \n",
       "\n",
       "   Expériences b Carac_card_1 Transport Parking Infos Coordonnées Sans RDV  \\\n",
       "0            NaN          NaN       NaN     NaN   NaN         NaN      NaN   \n",
       "1            NaN          NaN       NaN     NaN   NaN         NaN      NaN   \n",
       "2            NaN          NaN       NaN     NaN   NaN         NaN      NaN   \n",
       "3            NaN          NaN       NaN     NaN   NaN         NaN      NaN   \n",
       "4            NaN          NaN       NaN     NaN   NaN         NaN      NaN   \n",
       "\n",
       "  Code Département  généralistes  \n",
       "0              971           150  \n",
       "1              971           150  \n",
       "2              971           150  \n",
       "3              971           150  \n",
       "4              971           150  \n",
       "\n",
       "[5 rows x 34 columns]"
      ]
     },
     "execution_count": 44,
     "metadata": {},
     "output_type": "execute_result"
    }
   ],
   "source": [
    "data_final = liste_med[['nomdexercice', 'prénomdexercice','RPPS','Specialty','card_0', 'card_3', 'card_4','Skills Processed','Nb Skills', 'moyens_paiement',\n",
    "       'carte_vitale', 'secteur', 'Présentation', 'Langues parlées',\n",
    "       'Diplômes nationaux et universitaires', 'Autres formations',\n",
    "       'Expériences', 'Travaux et publications',\n",
    "       'Prix et distinctions', 'site', 'Formations',\n",
    "       'Diplômes nationaux et universitaires b', 'Nb caractères présentation',\n",
    "       'Autres formations b', 'Nb langues', 'Expériences b', 'Carac_card_1',\n",
    "       'Transport', 'Parking', 'Infos', 'Coordonnées', 'Sans RDV','Code Département',\n",
    "       'généralistes']]\n",
    "data_final.head()"
   ]
  },
  {
   "cell_type": "markdown",
   "metadata": {},
   "source": [
    "# Exporter"
   ]
  },
  {
   "cell_type": "code",
   "execution_count": 45,
   "metadata": {
    "vscode": {
     "languageId": "shellscript"
    }
   },
   "outputs": [],
   "source": [
    "liste_med.to_csv('liste_med.csv')\n",
    "medecin_gen.to_csv('medecin_gen.csv')"
   ]
  },
  {
   "cell_type": "code",
   "execution_count": 46,
   "metadata": {
    "vscode": {
     "languageId": "shellscript"
    }
   },
   "outputs": [],
   "source": [
    "liste_med_ban=liste_med[liste_med['numérovoiecoordstructure'].notnull()]"
   ]
  },
  {
   "cell_type": "code",
   "execution_count": 47,
   "metadata": {
    "vscode": {
     "languageId": "shellscript"
    }
   },
   "outputs": [],
   "source": [
    "def nom_voie(nom_voie):\n",
    "    if isinstance(nom_voie,str):\n",
    "        if nom_voie[0] in ['1','2','3','4','5','6','7','8','9']:\n",
    "            nom_voie = nom_voie[1:]\n",
    "        if 'Imp ' in nom_voie:\n",
    "            return nom_voie.replace('Imp ','Impasse ').lower()\n",
    "        else:\n",
    "            return nom_voie.lower()\n",
    "    else:\n",
    "        return nom_voie.lower()"
   ]
  },
  {
   "cell_type": "code",
   "execution_count": 48,
   "metadata": {
    "vscode": {
     "languageId": "shellscript"
    }
   },
   "outputs": [],
   "source": [
    "liste_med_ban=liste_med_ban[liste_med_ban['libellépayscoordstructure']!='Belgique']"
   ]
  },
  {
   "cell_type": "code",
   "execution_count": 49,
   "metadata": {
    "vscode": {
     "languageId": "shellscript"
    }
   },
   "outputs": [],
   "source": [
    "def fct_voie(type_voie,nom_voie):\n",
    "    result = ''\n",
    "    if isinstance(type_voie,str) and isinstance(nom_voie,str):\n",
    "        result = (type_voie+' '+nom_voie).lower()\n",
    "    elif isinstance(nom_voie,str):\n",
    "        result = nom_voie.lower()\n",
    "    else:\n",
    "        result = nom_voie\n",
    "    if isinstance(result,str) and result[0]=='-':\n",
    "        if result[1]==' ':\n",
    "            result= result[2:]\n",
    "        else :\n",
    "            result = result[1:]\n",
    "    if isinstance(result,str) and result[0]=='/':\n",
    "        result = result[1:]\n",
    "    return result"
   ]
  },
  {
   "cell_type": "code",
   "execution_count": 50,
   "metadata": {
    "vscode": {
     "languageId": "shellscript"
    }
   },
   "outputs": [],
   "source": [
    "liste_med_ban['Voie'] = liste_med_ban.apply(lambda x: fct_voie(x['libellétypedevoiecoordstructure'],x['libellévoiecoordstructure']),axis=1)"
   ]
  },
  {
   "cell_type": "code",
   "execution_count": 51,
   "metadata": {
    "vscode": {
     "languageId": "shellscript"
    }
   },
   "outputs": [
    {
     "data": {
      "text/plain": [
       "1     NaN\n",
       "7     NaN\n",
       "10    NaN\n",
       "14    NaN\n",
       "15    NaN\n",
       "Name: RPPS, dtype: object"
      ]
     },
     "execution_count": 51,
     "metadata": {},
     "output_type": "execute_result"
    }
   ],
   "source": [
    "liste_med_ban['RPPS'].head()"
   ]
  },
  {
   "cell_type": "markdown",
   "metadata": {},
   "source": [
    "# Ouverture base de données centroides"
   ]
  },
  {
   "cell_type": "markdown",
   "metadata": {},
   "source": []
  },
  {
   "cell_type": "code",
   "execution_count": 52,
   "metadata": {
    "vscode": {
     "languageId": "shellscript"
    }
   },
   "outputs": [],
   "source": [
    "import geopandas as gpd"
   ]
  },
  {
   "cell_type": "code",
   "execution_count": 53,
   "metadata": {
    "vscode": {
     "languageId": "shellscript"
    }
   },
   "outputs": [
    {
     "data": {
      "text/html": [
       "<div>\n",
       "<style scoped>\n",
       "    .dataframe tbody tr th:only-of-type {\n",
       "        vertical-align: middle;\n",
       "    }\n",
       "\n",
       "    .dataframe tbody tr th {\n",
       "        vertical-align: top;\n",
       "    }\n",
       "\n",
       "    .dataframe thead th {\n",
       "        text-align: right;\n",
       "    }\n",
       "</style>\n",
       "<table border=\"1\" class=\"dataframe\">\n",
       "  <thead>\n",
       "    <tr style=\"text-align: right;\">\n",
       "      <th></th>\n",
       "      <th>id</th>\n",
       "      <th>codgeo</th>\n",
       "      <th>dep</th>\n",
       "      <th>reg</th>\n",
       "      <th>xcl2154</th>\n",
       "      <th>ycl2154</th>\n",
       "      <th>libgeo</th>\n",
       "      <th>geometry</th>\n",
       "    </tr>\n",
       "  </thead>\n",
       "  <tbody>\n",
       "    <tr>\n",
       "      <th>0</th>\n",
       "      <td>None</td>\n",
       "      <td>01001</td>\n",
       "      <td>01</td>\n",
       "      <td>84</td>\n",
       "      <td>848241</td>\n",
       "      <td>6563021</td>\n",
       "      <td>L'Abergement-Clémenciat</td>\n",
       "      <td>POLYGON ((846981.436 6564107.360, 847017.457 6...</td>\n",
       "    </tr>\n",
       "    <tr>\n",
       "      <th>1</th>\n",
       "      <td>None</td>\n",
       "      <td>01002</td>\n",
       "      <td>01</td>\n",
       "      <td>84</td>\n",
       "      <td>887495</td>\n",
       "      <td>6548152</td>\n",
       "      <td>L'Abergement-de-Varey</td>\n",
       "      <td>POLYGON ((886027.651 6548170.900, 886157.325 6...</td>\n",
       "    </tr>\n",
       "    <tr>\n",
       "      <th>2</th>\n",
       "      <td>None</td>\n",
       "      <td>01004</td>\n",
       "      <td>01</td>\n",
       "      <td>84</td>\n",
       "      <td>882724</td>\n",
       "      <td>6542583</td>\n",
       "      <td>Ambérieu-en-Bugey</td>\n",
       "      <td>POLYGON ((884889.404 6539629.931, 884795.750 6...</td>\n",
       "    </tr>\n",
       "    <tr>\n",
       "      <th>3</th>\n",
       "      <td>None</td>\n",
       "      <td>01005</td>\n",
       "      <td>01</td>\n",
       "      <td>84</td>\n",
       "      <td>847277</td>\n",
       "      <td>6545791</td>\n",
       "      <td>Ambérieux-en-Dombes</td>\n",
       "      <td>POLYGON ((845951.250 6547999.078, 846073.720 6...</td>\n",
       "    </tr>\n",
       "    <tr>\n",
       "      <th>4</th>\n",
       "      <td>None</td>\n",
       "      <td>01006</td>\n",
       "      <td>01</td>\n",
       "      <td>84</td>\n",
       "      <td>902191</td>\n",
       "      <td>6519791</td>\n",
       "      <td>Ambléon</td>\n",
       "      <td>POLYGON ((901336.361 6521123.305, 902460.201 6...</td>\n",
       "    </tr>\n",
       "  </tbody>\n",
       "</table>\n",
       "</div>"
      ],
      "text/plain": [
       "     id codgeo dep reg  xcl2154  ycl2154                   libgeo  \\\n",
       "0  None  01001  01  84   848241  6563021  L'Abergement-Clémenciat   \n",
       "1  None  01002  01  84   887495  6548152    L'Abergement-de-Varey   \n",
       "2  None  01004  01  84   882724  6542583        Ambérieu-en-Bugey   \n",
       "3  None  01005  01  84   847277  6545791      Ambérieux-en-Dombes   \n",
       "4  None  01006  01  84   902191  6519791                  Ambléon   \n",
       "\n",
       "                                            geometry  \n",
       "0  POLYGON ((846981.436 6564107.360, 847017.457 6...  \n",
       "1  POLYGON ((886027.651 6548170.900, 886157.325 6...  \n",
       "2  POLYGON ((884889.404 6539629.931, 884795.750 6...  \n",
       "3  POLYGON ((845951.250 6547999.078, 846073.720 6...  \n",
       "4  POLYGON ((901336.361 6521123.305, 902460.201 6...  "
      ]
     },
     "execution_count": 53,
     "metadata": {},
     "output_type": "execute_result"
    }
   ],
   "source": [
    "gdf = gpd.read_file('data/a-com2022-topo-2154.json')\n",
    "gdf.head()"
   ]
  },
  {
   "cell_type": "code",
   "execution_count": 54,
   "metadata": {
    "vscode": {
     "languageId": "shellscript"
    }
   },
   "outputs": [],
   "source": [
    "def codecom2(codecom1):\n",
    "    if codecom1.startswith('75'):\n",
    "        return('75056')\n",
    "    elif codecom1.startswith('693'):\n",
    "        return('69123')\n",
    "    else :\n",
    "        return(codecom1)"
   ]
  },
  {
   "cell_type": "code",
   "execution_count": 55,
   "metadata": {
    "vscode": {
     "languageId": "shellscript"
    }
   },
   "outputs": [],
   "source": [
    "liste_med_ban['codecommunecoordstructure2']=liste_med_ban['codecommunecoordstructure'].apply(codecom2)"
   ]
  },
  {
   "cell_type": "code",
   "execution_count": 56,
   "metadata": {
    "vscode": {
     "languageId": "shellscript"
    }
   },
   "outputs": [],
   "source": [
    "liste_med_ban_metr = liste_med_ban[liste_med_ban['Code Département']!='971']"
   ]
  },
  {
   "cell_type": "code",
   "execution_count": 57,
   "metadata": {
    "vscode": {
     "languageId": "shellscript"
    }
   },
   "outputs": [
    {
     "data": {
      "text/plain": [
       "1     NaN\n",
       "7     NaN\n",
       "10    NaN\n",
       "14    NaN\n",
       "15    NaN\n",
       "17    NaN\n",
       "20    NaN\n",
       "21    NaN\n",
       "23    NaN\n",
       "25    NaN\n",
       "Name: RPPS, dtype: object"
      ]
     },
     "execution_count": 57,
     "metadata": {},
     "output_type": "execute_result"
    }
   ],
   "source": [
    "liste_med_ban['RPPS'].head(10)"
   ]
  },
  {
   "cell_type": "code",
   "execution_count": 58,
   "metadata": {
    "vscode": {
     "languageId": "shellscript"
    }
   },
   "outputs": [],
   "source": [
    "df_merged_gdf = liste_med_ban_metr.merge(gdf, how='inner', left_on='codecommunecoordstructure2', right_on='codgeo')"
   ]
  },
  {
   "cell_type": "code",
   "execution_count": 59,
   "metadata": {
    "vscode": {
     "languageId": "shellscript"
    }
   },
   "outputs": [
    {
     "name": "stdout",
     "output_type": "stream",
     "text": [
      "(73252, 74) (73374, 74) (72481, 82)\n"
     ]
    }
   ],
   "source": [
    "print(liste_med_ban_metr.shape,liste_med_ban.shape,df_merged_gdf.shape)"
   ]
  },
  {
   "cell_type": "code",
   "execution_count": 60,
   "metadata": {
    "vscode": {
     "languageId": "shellscript"
    }
   },
   "outputs": [
    {
     "data": {
      "text/html": [
       "<div>\n",
       "<style scoped>\n",
       "    .dataframe tbody tr th:only-of-type {\n",
       "        vertical-align: middle;\n",
       "    }\n",
       "\n",
       "    .dataframe tbody tr th {\n",
       "        vertical-align: top;\n",
       "    }\n",
       "\n",
       "    .dataframe thead th {\n",
       "        text-align: right;\n",
       "    }\n",
       "</style>\n",
       "<table border=\"1\" class=\"dataframe\">\n",
       "  <thead>\n",
       "    <tr style=\"text-align: right;\">\n",
       "      <th></th>\n",
       "      <th>identifiantpp</th>\n",
       "      <th>identificationnationalepp</th>\n",
       "      <th>codecivilité</th>\n",
       "      <th>nomdexercice</th>\n",
       "      <th>prénomdexercice</th>\n",
       "      <th>codecatégorieprofessionnelle</th>\n",
       "      <th>codesavoirfaire</th>\n",
       "      <th>libellésavoirfaire</th>\n",
       "      <th>codemodeexercice</th>\n",
       "      <th>numérosiretsite</th>\n",
       "      <th>...</th>\n",
       "      <th>Voie</th>\n",
       "      <th>codecommunecoordstructure2</th>\n",
       "      <th>id</th>\n",
       "      <th>codgeo</th>\n",
       "      <th>dep</th>\n",
       "      <th>reg</th>\n",
       "      <th>xcl2154</th>\n",
       "      <th>ycl2154</th>\n",
       "      <th>libgeo</th>\n",
       "      <th>geometry</th>\n",
       "    </tr>\n",
       "  </thead>\n",
       "  <tbody>\n",
       "    <tr>\n",
       "      <th>0</th>\n",
       "      <td>10000010867</td>\n",
       "      <td>810000010867</td>\n",
       "      <td>M</td>\n",
       "      <td>TACONET</td>\n",
       "      <td>CHRISTIAN</td>\n",
       "      <td>C</td>\n",
       "      <td>SM53</td>\n",
       "      <td>Spécialiste en Médecine Générale</td>\n",
       "      <td>L</td>\n",
       "      <td>NaN</td>\n",
       "      <td>...</td>\n",
       "      <td>avenue martin luther king</td>\n",
       "      <td>95637</td>\n",
       "      <td>None</td>\n",
       "      <td>95637</td>\n",
       "      <td>95</td>\n",
       "      <td>11</td>\n",
       "      <td>628442</td>\n",
       "      <td>6881566</td>\n",
       "      <td>Vauréal</td>\n",
       "      <td>POLYGON ((627659.853 6880531.288, 627609.424 6...</td>\n",
       "    </tr>\n",
       "    <tr>\n",
       "      <th>1</th>\n",
       "      <td>10000011808</td>\n",
       "      <td>810000011808</td>\n",
       "      <td>MME</td>\n",
       "      <td>HAMOT</td>\n",
       "      <td>ENNA</td>\n",
       "      <td>C</td>\n",
       "      <td>SM26</td>\n",
       "      <td>Qualifié en Médecine Générale</td>\n",
       "      <td>S</td>\n",
       "      <td>7.500959e+13</td>\n",
       "      <td>...</td>\n",
       "      <td>quai de jemmapes</td>\n",
       "      <td>75056</td>\n",
       "      <td>None</td>\n",
       "      <td>75056</td>\n",
       "      <td>75</td>\n",
       "      <td>11</td>\n",
       "      <td>652492</td>\n",
       "      <td>6862009</td>\n",
       "      <td>Paris</td>\n",
       "      <td>POLYGON ((653493.751 6867050.446, 654876.938 6...</td>\n",
       "    </tr>\n",
       "    <tr>\n",
       "      <th>2</th>\n",
       "      <td>10000012129</td>\n",
       "      <td>810000012129</td>\n",
       "      <td>M</td>\n",
       "      <td>DIDDEN</td>\n",
       "      <td>JEAN-PAUL</td>\n",
       "      <td>C</td>\n",
       "      <td>SM53</td>\n",
       "      <td>Spécialiste en Médecine Générale</td>\n",
       "      <td>L</td>\n",
       "      <td>NaN</td>\n",
       "      <td>...</td>\n",
       "      <td>avenue de la jonquiere</td>\n",
       "      <td>11304</td>\n",
       "      <td>None</td>\n",
       "      <td>11304</td>\n",
       "      <td>11</td>\n",
       "      <td>76</td>\n",
       "      <td>633310</td>\n",
       "      <td>6197645</td>\n",
       "      <td>Quillan</td>\n",
       "      <td>POLYGON ((637068.406 6195234.866, 636830.671 6...</td>\n",
       "    </tr>\n",
       "    <tr>\n",
       "      <th>3</th>\n",
       "      <td>10000012558</td>\n",
       "      <td>810000012558</td>\n",
       "      <td>M</td>\n",
       "      <td>CHUBERRE</td>\n",
       "      <td>YVES</td>\n",
       "      <td>C</td>\n",
       "      <td>SM53</td>\n",
       "      <td>Spécialiste en Médecine Générale</td>\n",
       "      <td>L</td>\n",
       "      <td>NaN</td>\n",
       "      <td>...</td>\n",
       "      <td>place de la chapelle</td>\n",
       "      <td>56034</td>\n",
       "      <td>None</td>\n",
       "      <td>56034</td>\n",
       "      <td>56</td>\n",
       "      <td>53</td>\n",
       "      <td>243618</td>\n",
       "      <td>6738059</td>\n",
       "      <td>Carnac</td>\n",
       "      <td>POLYGON ((241700.262 6738105.440, 241988.426 6...</td>\n",
       "    </tr>\n",
       "    <tr>\n",
       "      <th>4</th>\n",
       "      <td>10000013531</td>\n",
       "      <td>810000013531</td>\n",
       "      <td>M</td>\n",
       "      <td>COSTA</td>\n",
       "      <td>Frédéric</td>\n",
       "      <td>C</td>\n",
       "      <td>SM26</td>\n",
       "      <td>Qualifié en Médecine Générale</td>\n",
       "      <td>L</td>\n",
       "      <td>NaN</td>\n",
       "      <td>...</td>\n",
       "      <td>rue de rosny</td>\n",
       "      <td>93048</td>\n",
       "      <td>None</td>\n",
       "      <td>93048</td>\n",
       "      <td>93</td>\n",
       "      <td>11</td>\n",
       "      <td>658989</td>\n",
       "      <td>6862633</td>\n",
       "      <td>Montreuil</td>\n",
       "      <td>POLYGON ((657160.638 6861172.713, 657095.801 6...</td>\n",
       "    </tr>\n",
       "    <tr>\n",
       "      <th>...</th>\n",
       "      <td>...</td>\n",
       "      <td>...</td>\n",
       "      <td>...</td>\n",
       "      <td>...</td>\n",
       "      <td>...</td>\n",
       "      <td>...</td>\n",
       "      <td>...</td>\n",
       "      <td>...</td>\n",
       "      <td>...</td>\n",
       "      <td>...</td>\n",
       "      <td>...</td>\n",
       "      <td>...</td>\n",
       "      <td>...</td>\n",
       "      <td>...</td>\n",
       "      <td>...</td>\n",
       "      <td>...</td>\n",
       "      <td>...</td>\n",
       "      <td>...</td>\n",
       "      <td>...</td>\n",
       "      <td>...</td>\n",
       "      <td>...</td>\n",
       "    </tr>\n",
       "    <tr>\n",
       "      <th>1410</th>\n",
       "      <td>10000634583</td>\n",
       "      <td>810000634583</td>\n",
       "      <td>MME</td>\n",
       "      <td>BENYAHIA</td>\n",
       "      <td>BAYA</td>\n",
       "      <td>C</td>\n",
       "      <td>SM53</td>\n",
       "      <td>Spécialiste en Médecine Générale</td>\n",
       "      <td>L</td>\n",
       "      <td>NaN</td>\n",
       "      <td>...</td>\n",
       "      <td>avenue de la republique</td>\n",
       "      <td>78089</td>\n",
       "      <td>None</td>\n",
       "      <td>78089</td>\n",
       "      <td>78</td>\n",
       "      <td>11</td>\n",
       "      <td>596081</td>\n",
       "      <td>6882855</td>\n",
       "      <td>Bonnières-sur-Seine</td>\n",
       "      <td>POLYGON ((594837.979 6882621.785, 595774.512 6...</td>\n",
       "    </tr>\n",
       "    <tr>\n",
       "      <th>1411</th>\n",
       "      <td>10000634955</td>\n",
       "      <td>810000634955</td>\n",
       "      <td>MME</td>\n",
       "      <td>BERREBI</td>\n",
       "      <td>DOMINIQUE</td>\n",
       "      <td>C</td>\n",
       "      <td>SM26</td>\n",
       "      <td>Qualifié en Médecine Générale</td>\n",
       "      <td>S</td>\n",
       "      <td>9.278086e+13</td>\n",
       "      <td>...</td>\n",
       "      <td>avenue cesar caire</td>\n",
       "      <td>75056</td>\n",
       "      <td>None</td>\n",
       "      <td>75056</td>\n",
       "      <td>75</td>\n",
       "      <td>11</td>\n",
       "      <td>652492</td>\n",
       "      <td>6862009</td>\n",
       "      <td>Paris</td>\n",
       "      <td>POLYGON ((653493.751 6867050.446, 654876.938 6...</td>\n",
       "    </tr>\n",
       "    <tr>\n",
       "      <th>1412</th>\n",
       "      <td>10000636810</td>\n",
       "      <td>810000636810</td>\n",
       "      <td>M</td>\n",
       "      <td>DIALLO</td>\n",
       "      <td>DIOUGA</td>\n",
       "      <td>C</td>\n",
       "      <td>SM54</td>\n",
       "      <td>Médecine Générale</td>\n",
       "      <td>L</td>\n",
       "      <td>NaN</td>\n",
       "      <td>...</td>\n",
       "      <td>allee de la scierie</td>\n",
       "      <td>35243</td>\n",
       "      <td>None</td>\n",
       "      <td>35243</td>\n",
       "      <td>35</td>\n",
       "      <td>53</td>\n",
       "      <td>383321</td>\n",
       "      <td>6813264</td>\n",
       "      <td>Romagné</td>\n",
       "      <td>POLYGON ((385047.419 6810385.090, 383995.621 6...</td>\n",
       "    </tr>\n",
       "    <tr>\n",
       "      <th>1413</th>\n",
       "      <td>10000636992</td>\n",
       "      <td>810000636992</td>\n",
       "      <td>M</td>\n",
       "      <td>AL KAHEF</td>\n",
       "      <td>HASSAN</td>\n",
       "      <td>C</td>\n",
       "      <td>SM54</td>\n",
       "      <td>Médecine Générale</td>\n",
       "      <td>S</td>\n",
       "      <td>2.000635e+13</td>\n",
       "      <td>...</td>\n",
       "      <td>rue victor hugo</td>\n",
       "      <td>77305</td>\n",
       "      <td>None</td>\n",
       "      <td>77305</td>\n",
       "      <td>77</td>\n",
       "      <td>11</td>\n",
       "      <td>696755</td>\n",
       "      <td>6809401</td>\n",
       "      <td>Montereau-Fault-Yonne</td>\n",
       "      <td>POLYGON ((698886.778 6808752.784, 697345.101 6...</td>\n",
       "    </tr>\n",
       "    <tr>\n",
       "      <th>1414</th>\n",
       "      <td>10000644020</td>\n",
       "      <td>810000644020</td>\n",
       "      <td>M</td>\n",
       "      <td>JAUNAUX</td>\n",
       "      <td>YVES</td>\n",
       "      <td>C</td>\n",
       "      <td>SM26</td>\n",
       "      <td>Qualifié en Médecine Générale</td>\n",
       "      <td>L</td>\n",
       "      <td>NaN</td>\n",
       "      <td>...</td>\n",
       "      <td>rue des promenades</td>\n",
       "      <td>77182</td>\n",
       "      <td>None</td>\n",
       "      <td>77182</td>\n",
       "      <td>77</td>\n",
       "      <td>11</td>\n",
       "      <td>722466</td>\n",
       "      <td>6853537</td>\n",
       "      <td>La Ferté-Gaucher</td>\n",
       "      <td>POLYGON ((721529.260 6858652.662, 722429.772 6...</td>\n",
       "    </tr>\n",
       "  </tbody>\n",
       "</table>\n",
       "<p>1415 rows × 82 columns</p>\n",
       "</div>"
      ],
      "text/plain": [
       "     identifiantpp  identificationnationalepp codecivilité nomdexercice  \\\n",
       "0      10000010867               810000010867            M      TACONET   \n",
       "1      10000011808               810000011808          MME        HAMOT   \n",
       "2      10000012129               810000012129            M       DIDDEN   \n",
       "3      10000012558               810000012558            M     CHUBERRE   \n",
       "4      10000013531               810000013531            M        COSTA   \n",
       "...            ...                        ...          ...          ...   \n",
       "1410   10000634583               810000634583          MME     BENYAHIA   \n",
       "1411   10000634955               810000634955          MME      BERREBI   \n",
       "1412   10000636810               810000636810            M       DIALLO   \n",
       "1413   10000636992               810000636992            M     AL KAHEF   \n",
       "1414   10000644020               810000644020            M      JAUNAUX   \n",
       "\n",
       "     prénomdexercice codecatégorieprofessionnelle codesavoirfaire  \\\n",
       "0          CHRISTIAN                            C            SM53   \n",
       "1               ENNA                            C            SM26   \n",
       "2          JEAN-PAUL                            C            SM53   \n",
       "3               YVES                            C            SM53   \n",
       "4           Frédéric                            C            SM26   \n",
       "...              ...                          ...             ...   \n",
       "1410            BAYA                            C            SM53   \n",
       "1411       DOMINIQUE                            C            SM26   \n",
       "1412          DIOUGA                            C            SM54   \n",
       "1413          HASSAN                            C            SM54   \n",
       "1414            YVES                            C            SM26   \n",
       "\n",
       "                    libellésavoirfaire codemodeexercice  numérosiretsite  ...  \\\n",
       "0     Spécialiste en Médecine Générale                L              NaN  ...   \n",
       "1        Qualifié en Médecine Générale                S     7.500959e+13  ...   \n",
       "2     Spécialiste en Médecine Générale                L              NaN  ...   \n",
       "3     Spécialiste en Médecine Générale                L              NaN  ...   \n",
       "4        Qualifié en Médecine Générale                L              NaN  ...   \n",
       "...                                ...              ...              ...  ...   \n",
       "1410  Spécialiste en Médecine Générale                L              NaN  ...   \n",
       "1411     Qualifié en Médecine Générale                S     9.278086e+13  ...   \n",
       "1412                 Médecine Générale                L              NaN  ...   \n",
       "1413                 Médecine Générale                S     2.000635e+13  ...   \n",
       "1414     Qualifié en Médecine Générale                L              NaN  ...   \n",
       "\n",
       "                           Voie codecommunecoordstructure2    id  codgeo dep  \\\n",
       "0     avenue martin luther king                      95637  None   95637  95   \n",
       "1              quai de jemmapes                      75056  None   75056  75   \n",
       "2        avenue de la jonquiere                      11304  None   11304  11   \n",
       "3          place de la chapelle                      56034  None   56034  56   \n",
       "4                  rue de rosny                      93048  None   93048  93   \n",
       "...                         ...                        ...   ...     ...  ..   \n",
       "1410    avenue de la republique                      78089  None   78089  78   \n",
       "1411         avenue cesar caire                      75056  None   75056  75   \n",
       "1412        allee de la scierie                      35243  None   35243  35   \n",
       "1413            rue victor hugo                      77305  None   77305  77   \n",
       "1414         rue des promenades                      77182  None   77182  77   \n",
       "\n",
       "     reg xcl2154  ycl2154                 libgeo  \\\n",
       "0     11  628442  6881566                Vauréal   \n",
       "1     11  652492  6862009                  Paris   \n",
       "2     76  633310  6197645                Quillan   \n",
       "3     53  243618  6738059                 Carnac   \n",
       "4     11  658989  6862633              Montreuil   \n",
       "...   ..     ...      ...                    ...   \n",
       "1410  11  596081  6882855    Bonnières-sur-Seine   \n",
       "1411  11  652492  6862009                  Paris   \n",
       "1412  53  383321  6813264                Romagné   \n",
       "1413  11  696755  6809401  Montereau-Fault-Yonne   \n",
       "1414  11  722466  6853537       La Ferté-Gaucher   \n",
       "\n",
       "                                               geometry  \n",
       "0     POLYGON ((627659.853 6880531.288, 627609.424 6...  \n",
       "1     POLYGON ((653493.751 6867050.446, 654876.938 6...  \n",
       "2     POLYGON ((637068.406 6195234.866, 636830.671 6...  \n",
       "3     POLYGON ((241700.262 6738105.440, 241988.426 6...  \n",
       "4     POLYGON ((657160.638 6861172.713, 657095.801 6...  \n",
       "...                                                 ...  \n",
       "1410  POLYGON ((594837.979 6882621.785, 595774.512 6...  \n",
       "1411  POLYGON ((653493.751 6867050.446, 654876.938 6...  \n",
       "1412  POLYGON ((385047.419 6810385.090, 383995.621 6...  \n",
       "1413  POLYGON ((698886.778 6808752.784, 697345.101 6...  \n",
       "1414  POLYGON ((721529.260 6858652.662, 722429.772 6...  \n",
       "\n",
       "[1415 rows x 82 columns]"
      ]
     },
     "execution_count": 60,
     "metadata": {},
     "output_type": "execute_result"
    }
   ],
   "source": [
    "df_merged_gdf.head(1415)"
   ]
  },
  {
   "cell_type": "code",
   "execution_count": 61,
   "metadata": {
    "vscode": {
     "languageId": "shellscript"
    }
   },
   "outputs": [
    {
     "data": {
      "text/plain": [
       "identifiantpp                             10000639137\n",
       "identificationnationalepp                810000639137\n",
       "codecivilité                                        M\n",
       "nomdexercice                                    LEROY\n",
       "prénomdexercice                                MICHEL\n",
       "                                       ...           \n",
       "code dépar                                         77\n",
       "Code Département                                   77\n",
       "généralistes                                       89\n",
       "Voie                          avenue de fontainebleau\n",
       "codecommunecoordstructure2                      77491\n",
       "Name: 1617, Length: 74, dtype: object"
      ]
     },
     "execution_count": 61,
     "metadata": {},
     "output_type": "execute_result"
    }
   ],
   "source": [
    "liste_med_ban_metr.iloc[1414]"
   ]
  },
  {
   "cell_type": "code",
   "execution_count": 62,
   "metadata": {
    "vscode": {
     "languageId": "shellscript"
    }
   },
   "outputs": [
    {
     "data": {
      "text/html": [
       "<div>\n",
       "<style scoped>\n",
       "    .dataframe tbody tr th:only-of-type {\n",
       "        vertical-align: middle;\n",
       "    }\n",
       "\n",
       "    .dataframe tbody tr th {\n",
       "        vertical-align: top;\n",
       "    }\n",
       "\n",
       "    .dataframe thead th {\n",
       "        text-align: right;\n",
       "    }\n",
       "</style>\n",
       "<table border=\"1\" class=\"dataframe\">\n",
       "  <thead>\n",
       "    <tr style=\"text-align: right;\">\n",
       "      <th></th>\n",
       "      <th>id</th>\n",
       "      <th>codgeo</th>\n",
       "      <th>dep</th>\n",
       "      <th>reg</th>\n",
       "      <th>xcl2154</th>\n",
       "      <th>ycl2154</th>\n",
       "      <th>libgeo</th>\n",
       "      <th>geometry</th>\n",
       "    </tr>\n",
       "  </thead>\n",
       "  <tbody>\n",
       "    <tr>\n",
       "      <th>30434</th>\n",
       "      <td>None</td>\n",
       "      <td>77490</td>\n",
       "      <td>77</td>\n",
       "      <td>11</td>\n",
       "      <td>706772</td>\n",
       "      <td>6882939</td>\n",
       "      <td>Vendrest</td>\n",
       "      <td>POLYGON ((711011.276 6880853.454, 710233.233 6...</td>\n",
       "    </tr>\n",
       "    <tr>\n",
       "      <th>30435</th>\n",
       "      <td>None</td>\n",
       "      <td>77492</td>\n",
       "      <td>77</td>\n",
       "      <td>11</td>\n",
       "      <td>727001</td>\n",
       "      <td>6863919</td>\n",
       "      <td>Verdelot</td>\n",
       "      <td>POLYGON ((724201.981 6867687.618, 725066.473 6...</td>\n",
       "    </tr>\n",
       "    <tr>\n",
       "      <th>30436</th>\n",
       "      <td>None</td>\n",
       "      <td>77493</td>\n",
       "      <td>77</td>\n",
       "      <td>11</td>\n",
       "      <td>687943</td>\n",
       "      <td>6838347</td>\n",
       "      <td>Verneuil-l'Étang</td>\n",
       "      <td>POLYGON ((688448.039 6835707.309, 687569.139 6...</td>\n",
       "    </tr>\n",
       "    <tr>\n",
       "      <th>30437</th>\n",
       "      <td>None</td>\n",
       "      <td>77494</td>\n",
       "      <td>77</td>\n",
       "      <td>11</td>\n",
       "      <td>688668</td>\n",
       "      <td>6809877</td>\n",
       "      <td>Vernou-la-Celle-sur-Seine</td>\n",
       "      <td>POLYGON ((686041.870 6810163.154, 685832.951 6...</td>\n",
       "    </tr>\n",
       "    <tr>\n",
       "      <th>30438</th>\n",
       "      <td>None</td>\n",
       "      <td>77495</td>\n",
       "      <td>77</td>\n",
       "      <td>11</td>\n",
       "      <td>671275</td>\n",
       "      <td>6829443</td>\n",
       "      <td>Vert-Saint-Denis</td>\n",
       "      <td>POLYGON ((671309.488 6826343.028, 670992.507 6...</td>\n",
       "    </tr>\n",
       "    <tr>\n",
       "      <th>30439</th>\n",
       "      <td>None</td>\n",
       "      <td>77496</td>\n",
       "      <td>77</td>\n",
       "      <td>11</td>\n",
       "      <td>710186</td>\n",
       "      <td>6830934</td>\n",
       "      <td>Vieux-Champagne</td>\n",
       "      <td>POLYGON ((709203.047 6830617.092, 708180.065 6...</td>\n",
       "    </tr>\n",
       "    <tr>\n",
       "      <th>30440</th>\n",
       "      <td>None</td>\n",
       "      <td>77498</td>\n",
       "      <td>77</td>\n",
       "      <td>11</td>\n",
       "      <td>686035</td>\n",
       "      <td>6869982</td>\n",
       "      <td>Vignely</td>\n",
       "      <td>POLYGON ((687554.730 6870429.605, 687086.464 6...</td>\n",
       "    </tr>\n",
       "  </tbody>\n",
       "</table>\n",
       "</div>"
      ],
      "text/plain": [
       "         id codgeo dep reg  xcl2154  ycl2154                     libgeo  \\\n",
       "30434  None  77490  77  11   706772  6882939                   Vendrest   \n",
       "30435  None  77492  77  11   727001  6863919                   Verdelot   \n",
       "30436  None  77493  77  11   687943  6838347           Verneuil-l'Étang   \n",
       "30437  None  77494  77  11   688668  6809877  Vernou-la-Celle-sur-Seine   \n",
       "30438  None  77495  77  11   671275  6829443           Vert-Saint-Denis   \n",
       "30439  None  77496  77  11   710186  6830934            Vieux-Champagne   \n",
       "30440  None  77498  77  11   686035  6869982                    Vignely   \n",
       "\n",
       "                                                geometry  \n",
       "30434  POLYGON ((711011.276 6880853.454, 710233.233 6...  \n",
       "30435  POLYGON ((724201.981 6867687.618, 725066.473 6...  \n",
       "30436  POLYGON ((688448.039 6835707.309, 687569.139 6...  \n",
       "30437  POLYGON ((686041.870 6810163.154, 685832.951 6...  \n",
       "30438  POLYGON ((671309.488 6826343.028, 670992.507 6...  \n",
       "30439  POLYGON ((709203.047 6830617.092, 708180.065 6...  \n",
       "30440  POLYGON ((687554.730 6870429.605, 687086.464 6...  "
      ]
     },
     "execution_count": 62,
     "metadata": {},
     "output_type": "execute_result"
    }
   ],
   "source": [
    "gdf[gdf['codgeo'].str.startswith('7749')]"
   ]
  },
  {
   "cell_type": "code",
   "execution_count": 63,
   "metadata": {
    "vscode": {
     "languageId": "shellscript"
    }
   },
   "outputs": [
    {
     "name": "stderr",
     "output_type": "stream",
     "text": [
      "/var/folders/rf/dqdwsk6s06ngm9b4j17fkb2r0000gn/T/ipykernel_2810/981943077.py:5: SettingWithCopyWarning: \n",
      "A value is trying to be set on a copy of a slice from a DataFrame.\n",
      "Try using .loc[row_indexer,col_indexer] = value instead\n",
      "\n",
      "See the caveats in the documentation: https://pandas.pydata.org/pandas-docs/stable/user_guide/indexing.html#returning-a-view-versus-a-copy\n",
      "  liste_med_ban_metr['nb medecin commune']=liste_med_ban_metr['codecommunecoordstructure'].apply(nombre_de_med)\n"
     ]
    }
   ],
   "source": [
    "def nombre_de_med(codeCom):\n",
    "    data_f = liste_med_ban_metr[(liste_med_ban_metr['codecommunecoordstructure']==codeCom)]\n",
    "    return(data_f.shape[0])\n",
    "\n",
    "liste_med_ban_metr['nb medecin commune']=liste_med_ban_metr['codecommunecoordstructure'].apply(nombre_de_med)"
   ]
  },
  {
   "cell_type": "code",
   "execution_count": 64,
   "metadata": {
    "vscode": {
     "languageId": "shellscript"
    }
   },
   "outputs": [
    {
     "data": {
      "text/plain": [
       "(73252, 75)"
      ]
     },
     "execution_count": 64,
     "metadata": {},
     "output_type": "execute_result"
    }
   ],
   "source": [
    "liste_med_ban_metr.shape"
   ]
  },
  {
   "cell_type": "code",
   "execution_count": 65,
   "metadata": {},
   "outputs": [],
   "source": [
    "df_merged_gdf = df_merged_gdf[['identifiantpp', 'codecivilité',\n",
    "       'nomdexercice', 'prénomdexercice', 'codecatégorieprofessionnelle',\n",
    "       'codesavoirfaire', 'libellésavoirfaire', 'codemodeexercice',\n",
    "       'numérosiretsite',\n",
    "       'identifianttechniquedelastructur', 'raisonsocialesite',\n",
    "       'numérovoiecoordstructure', 'indicerépétitionvoiecoordstructu',\n",
    "       'codetypedevoiecoordstructure', 'libellétypedevoiecoordstructure',\n",
    "       'libellévoiecoordstructure', 'bureaucedexcoordstructure',\n",
    "       'codepostalcoordstructure', 'codecommunecoordstructure',\n",
    "       'libellécommunecoordstructure', 'libellépayscoordstructure',\n",
    "       'codesecteurdactivité', 'libellésecteurdactivité', 'coderôle',\n",
    "       'libellérôle', 'Doctor Name', 'Specialty', 'card_0', 'card_3', 'card_4',\n",
    "       'Latitude', 'Longitude', 'Skills Processed', 'RPPS', 'Nb Skills',\n",
    "       'moyens_paiement', 'carte_vitale', 'secteur', 'Présentation',\n",
    "       'Langues parlées', 'Diplômes nationaux et universitaires',\n",
    "       'Autres formations', 'Expériences', 'Travaux et publications',\n",
    "       'Prix et distinctions', 'site', 'Site web', 'Formations',\n",
    "       'Diplômes nationaux et universitaires b', 'Nb caractères présentation',\n",
    "       'Autres formations b', 'Travaux et publications b', 'Nb langues',\n",
    "       'Expériences b', 'Formations b', 'Carac_card_1', 'Transport', 'Parking',\n",
    "       'Infos', 'Coordonnées', 'Sans RDV', 'nb terms card_0',\n",
    "       'nb terms card_3', 'nb terms card_4', 'nb carac card_0',\n",
    "       'nb carac card_3', 'nb carac card_4', 'code dépar', 'Code Département',\n",
    "       'généralistes', 'Voie', 'codgeo', 'xcl2154',\n",
    "       'ycl2154']]"
   ]
  },
  {
   "cell_type": "code",
   "execution_count": 66,
   "metadata": {},
   "outputs": [
    {
     "data": {
      "text/plain": [
       "(72481, 74)"
      ]
     },
     "execution_count": 66,
     "metadata": {},
     "output_type": "execute_result"
    }
   ],
   "source": [
    "df_merged_gdf.shape"
   ]
  },
  {
   "cell_type": "markdown",
   "metadata": {},
   "source": [
    "### tentative jointure cross"
   ]
  },
  {
   "cell_type": "code",
   "execution_count": 67,
   "metadata": {
    "vscode": {
     "languageId": "shellscript"
    }
   },
   "outputs": [
    {
     "data": {
      "text/html": [
       "<div>\n",
       "<style scoped>\n",
       "    .dataframe tbody tr th:only-of-type {\n",
       "        vertical-align: middle;\n",
       "    }\n",
       "\n",
       "    .dataframe tbody tr th {\n",
       "        vertical-align: top;\n",
       "    }\n",
       "\n",
       "    .dataframe thead th {\n",
       "        text-align: right;\n",
       "    }\n",
       "</style>\n",
       "<table border=\"1\" class=\"dataframe\">\n",
       "  <thead>\n",
       "    <tr style=\"text-align: right;\">\n",
       "      <th></th>\n",
       "      <th>identifiantpp_x</th>\n",
       "      <th>codecivilité_x</th>\n",
       "      <th>nomdexercice_x</th>\n",
       "      <th>prénomdexercice_x</th>\n",
       "      <th>codecatégorieprofessionnelle_x</th>\n",
       "      <th>codesavoirfaire_x</th>\n",
       "      <th>libellésavoirfaire_x</th>\n",
       "      <th>codemodeexercice_x</th>\n",
       "      <th>numérosiretsite_x</th>\n",
       "      <th>identifianttechniquedelastructur_x</th>\n",
       "      <th>...</th>\n",
       "      <th>nb carac card_0_y</th>\n",
       "      <th>nb carac card_3_y</th>\n",
       "      <th>nb carac card_4_y</th>\n",
       "      <th>code dépar_y</th>\n",
       "      <th>Code Département_y</th>\n",
       "      <th>généralistes_y</th>\n",
       "      <th>Voie_y</th>\n",
       "      <th>codgeo_y</th>\n",
       "      <th>xcl2154_y</th>\n",
       "      <th>ycl2154_y</th>\n",
       "    </tr>\n",
       "  </thead>\n",
       "  <tbody>\n",
       "    <tr>\n",
       "      <th>0</th>\n",
       "      <td>10000011808</td>\n",
       "      <td>MME</td>\n",
       "      <td>HAMOT</td>\n",
       "      <td>ENNA</td>\n",
       "      <td>C</td>\n",
       "      <td>SM26</td>\n",
       "      <td>Qualifié en Médecine Générale</td>\n",
       "      <td>S</td>\n",
       "      <td>7.500959e+13</td>\n",
       "      <td>F750831182</td>\n",
       "      <td>...</td>\n",
       "      <td>NaN</td>\n",
       "      <td>NaN</td>\n",
       "      <td>NaN</td>\n",
       "      <td>95</td>\n",
       "      <td>95</td>\n",
       "      <td>95</td>\n",
       "      <td>avenue martin luther king</td>\n",
       "      <td>95637</td>\n",
       "      <td>628442</td>\n",
       "      <td>6881566</td>\n",
       "    </tr>\n",
       "    <tr>\n",
       "      <th>1</th>\n",
       "      <td>10000011808</td>\n",
       "      <td>MME</td>\n",
       "      <td>HAMOT</td>\n",
       "      <td>ENNA</td>\n",
       "      <td>C</td>\n",
       "      <td>SM26</td>\n",
       "      <td>Qualifié en Médecine Générale</td>\n",
       "      <td>S</td>\n",
       "      <td>7.500959e+13</td>\n",
       "      <td>F750831182</td>\n",
       "      <td>...</td>\n",
       "      <td>NaN</td>\n",
       "      <td>NaN</td>\n",
       "      <td>NaN</td>\n",
       "      <td>75</td>\n",
       "      <td>75</td>\n",
       "      <td>234</td>\n",
       "      <td>quai de jemmapes</td>\n",
       "      <td>75056</td>\n",
       "      <td>652492</td>\n",
       "      <td>6862009</td>\n",
       "    </tr>\n",
       "    <tr>\n",
       "      <th>2</th>\n",
       "      <td>10000011808</td>\n",
       "      <td>MME</td>\n",
       "      <td>HAMOT</td>\n",
       "      <td>ENNA</td>\n",
       "      <td>C</td>\n",
       "      <td>SM26</td>\n",
       "      <td>Qualifié en Médecine Générale</td>\n",
       "      <td>S</td>\n",
       "      <td>7.500959e+13</td>\n",
       "      <td>F750831182</td>\n",
       "      <td>...</td>\n",
       "      <td>NaN</td>\n",
       "      <td>NaN</td>\n",
       "      <td>NaN</td>\n",
       "      <td>11</td>\n",
       "      <td>11</td>\n",
       "      <td>143</td>\n",
       "      <td>avenue de la jonquiere</td>\n",
       "      <td>11304</td>\n",
       "      <td>633310</td>\n",
       "      <td>6197645</td>\n",
       "    </tr>\n",
       "    <tr>\n",
       "      <th>3</th>\n",
       "      <td>10000011808</td>\n",
       "      <td>MME</td>\n",
       "      <td>HAMOT</td>\n",
       "      <td>ENNA</td>\n",
       "      <td>C</td>\n",
       "      <td>SM26</td>\n",
       "      <td>Qualifié en Médecine Générale</td>\n",
       "      <td>S</td>\n",
       "      <td>7.500959e+13</td>\n",
       "      <td>F750831182</td>\n",
       "      <td>...</td>\n",
       "      <td>NaN</td>\n",
       "      <td>NaN</td>\n",
       "      <td>NaN</td>\n",
       "      <td>56</td>\n",
       "      <td>56</td>\n",
       "      <td>178</td>\n",
       "      <td>place de la chapelle</td>\n",
       "      <td>56034</td>\n",
       "      <td>243618</td>\n",
       "      <td>6738059</td>\n",
       "    </tr>\n",
       "    <tr>\n",
       "      <th>4</th>\n",
       "      <td>10000011808</td>\n",
       "      <td>MME</td>\n",
       "      <td>HAMOT</td>\n",
       "      <td>ENNA</td>\n",
       "      <td>C</td>\n",
       "      <td>SM26</td>\n",
       "      <td>Qualifié en Médecine Générale</td>\n",
       "      <td>S</td>\n",
       "      <td>7.500959e+13</td>\n",
       "      <td>F750831182</td>\n",
       "      <td>...</td>\n",
       "      <td>NaN</td>\n",
       "      <td>NaN</td>\n",
       "      <td>NaN</td>\n",
       "      <td>93</td>\n",
       "      <td>93</td>\n",
       "      <td>99</td>\n",
       "      <td>rue de rosny</td>\n",
       "      <td>93048</td>\n",
       "      <td>658989</td>\n",
       "      <td>6862633</td>\n",
       "    </tr>\n",
       "  </tbody>\n",
       "</table>\n",
       "<p>5 rows × 148 columns</p>\n",
       "</div>"
      ],
      "text/plain": [
       "  identifiantpp_x codecivilité_x nomdexercice_x prénomdexercice_x  \\\n",
       "0     10000011808            MME          HAMOT              ENNA   \n",
       "1     10000011808            MME          HAMOT              ENNA   \n",
       "2     10000011808            MME          HAMOT              ENNA   \n",
       "3     10000011808            MME          HAMOT              ENNA   \n",
       "4     10000011808            MME          HAMOT              ENNA   \n",
       "\n",
       "  codecatégorieprofessionnelle_x codesavoirfaire_x  \\\n",
       "0                              C              SM26   \n",
       "1                              C              SM26   \n",
       "2                              C              SM26   \n",
       "3                              C              SM26   \n",
       "4                              C              SM26   \n",
       "\n",
       "            libellésavoirfaire_x codemodeexercice_x  numérosiretsite_x  \\\n",
       "0  Qualifié en Médecine Générale                  S       7.500959e+13   \n",
       "1  Qualifié en Médecine Générale                  S       7.500959e+13   \n",
       "2  Qualifié en Médecine Générale                  S       7.500959e+13   \n",
       "3  Qualifié en Médecine Générale                  S       7.500959e+13   \n",
       "4  Qualifié en Médecine Générale                  S       7.500959e+13   \n",
       "\n",
       "  identifianttechniquedelastructur_x  ... nb carac card_0_y  \\\n",
       "0                         F750831182  ...               NaN   \n",
       "1                         F750831182  ...               NaN   \n",
       "2                         F750831182  ...               NaN   \n",
       "3                         F750831182  ...               NaN   \n",
       "4                         F750831182  ...               NaN   \n",
       "\n",
       "   nb carac card_3_y nb carac card_4_y code dépar_y Code Département_y  \\\n",
       "0                NaN               NaN           95                 95   \n",
       "1                NaN               NaN           75                 75   \n",
       "2                NaN               NaN           11                 11   \n",
       "3                NaN               NaN           56                 56   \n",
       "4                NaN               NaN           93                 93   \n",
       "\n",
       "  généralistes_y                     Voie_y  codgeo_y xcl2154_y ycl2154_y  \n",
       "0             95  avenue martin luther king     95637    628442   6881566  \n",
       "1            234           quai de jemmapes     75056    652492   6862009  \n",
       "2            143     avenue de la jonquiere     11304    633310   6197645  \n",
       "3            178       place de la chapelle     56034    243618   6738059  \n",
       "4             99               rue de rosny     93048    658989   6862633  \n",
       "\n",
       "[5 rows x 148 columns]"
      ]
     },
     "execution_count": 67,
     "metadata": {},
     "output_type": "execute_result"
    }
   ],
   "source": [
    "# Jointure croisée avec 'how=cross'\n",
    "df_cross_0 = pd.merge(df_merged_gdf[df_merged_gdf['identifiantpp']==df_merged_gdf['identifiantpp'].iloc[1]], df_merged_gdf, how='cross')\n",
    "df_cross_0.head()"
   ]
  },
  {
   "cell_type": "code",
   "execution_count": 68,
   "metadata": {
    "vscode": {
     "languageId": "shellscript"
    }
   },
   "outputs": [],
   "source": [
    "df_cross_0.to_csv('df_cross_0.csv')"
   ]
  },
  {
   "cell_type": "code",
   "execution_count": 73,
   "metadata": {
    "vscode": {
     "languageId": "shellscript"
    }
   },
   "outputs": [
    {
     "data": {
      "text/plain": [
       "Index(['raisonsocialesite_x', 'numérovoiecoordstructure_x',\n",
       "       'indicerépétitionvoiecoordstructu_x', 'codetypedevoiecoordstructure_x',\n",
       "       'libellétypedevoiecoordstructure_x', 'libellévoiecoordstructure_x',\n",
       "       'bureaucedexcoordstructure_x', 'codepostalcoordstructure_x',\n",
       "       'codecommunecoordstructure_x', 'libellécommunecoordstructure_x',\n",
       "       ...\n",
       "       'nb carac card_0_y', 'nb carac card_3_y', 'nb carac card_4_y',\n",
       "       'code dépar_y', 'Code Département_y', 'généralistes_y', 'Voie_y',\n",
       "       'codgeo_y', 'xcl2154_y', 'ycl2154_y'],\n",
       "      dtype='object', length=138)"
      ]
     },
     "execution_count": 73,
     "metadata": {},
     "output_type": "execute_result"
    }
   ],
   "source": [
    "df_cross_0.columns[10:]"
   ]
  },
  {
   "cell_type": "code",
   "execution_count": 179,
   "metadata": {
    "vscode": {
     "languageId": "shellscript"
    }
   },
   "outputs": [
    {
     "data": {
      "text/html": [
       "<div>\n",
       "<style scoped>\n",
       "    .dataframe tbody tr th:only-of-type {\n",
       "        vertical-align: middle;\n",
       "    }\n",
       "\n",
       "    .dataframe tbody tr th {\n",
       "        vertical-align: top;\n",
       "    }\n",
       "\n",
       "    .dataframe thead th {\n",
       "        text-align: right;\n",
       "    }\n",
       "</style>\n",
       "<table border=\"1\" class=\"dataframe\">\n",
       "  <thead>\n",
       "    <tr style=\"text-align: right;\">\n",
       "      <th></th>\n",
       "      <th>identifiantpp</th>\n",
       "      <th>codecivilité</th>\n",
       "      <th>nomdexercice</th>\n",
       "      <th>prénomdexercice</th>\n",
       "      <th>codecatégorieprofessionnelle</th>\n",
       "      <th>codesavoirfaire</th>\n",
       "      <th>libellésavoirfaire</th>\n",
       "      <th>codemodeexercice</th>\n",
       "      <th>numérosiretsite</th>\n",
       "      <th>identifianttechniquedelastructur</th>\n",
       "      <th>...</th>\n",
       "      <th>nb carac card_0</th>\n",
       "      <th>nb carac card_3</th>\n",
       "      <th>nb carac card_4</th>\n",
       "      <th>code dépar</th>\n",
       "      <th>Code Département</th>\n",
       "      <th>généralistes</th>\n",
       "      <th>Voie</th>\n",
       "      <th>codgeo</th>\n",
       "      <th>xcl2154</th>\n",
       "      <th>ycl2154</th>\n",
       "    </tr>\n",
       "  </thead>\n",
       "  <tbody>\n",
       "    <tr>\n",
       "      <th>0</th>\n",
       "      <td>10000010867</td>\n",
       "      <td>M</td>\n",
       "      <td>TACONET</td>\n",
       "      <td>CHRISTIAN</td>\n",
       "      <td>C</td>\n",
       "      <td>SM53</td>\n",
       "      <td>Spécialiste en Médecine Générale</td>\n",
       "      <td>L</td>\n",
       "      <td>NaN</td>\n",
       "      <td>R10000000618793</td>\n",
       "      <td>...</td>\n",
       "      <td>NaN</td>\n",
       "      <td>NaN</td>\n",
       "      <td>NaN</td>\n",
       "      <td>95</td>\n",
       "      <td>95</td>\n",
       "      <td>95</td>\n",
       "      <td>avenue martin luther king</td>\n",
       "      <td>95637</td>\n",
       "      <td>628442</td>\n",
       "      <td>6881566</td>\n",
       "    </tr>\n",
       "    <tr>\n",
       "      <th>1</th>\n",
       "      <td>10000011808</td>\n",
       "      <td>MME</td>\n",
       "      <td>HAMOT</td>\n",
       "      <td>ENNA</td>\n",
       "      <td>C</td>\n",
       "      <td>SM26</td>\n",
       "      <td>Qualifié en Médecine Générale</td>\n",
       "      <td>S</td>\n",
       "      <td>7.500959e+13</td>\n",
       "      <td>F750831182</td>\n",
       "      <td>...</td>\n",
       "      <td>NaN</td>\n",
       "      <td>NaN</td>\n",
       "      <td>NaN</td>\n",
       "      <td>75</td>\n",
       "      <td>75</td>\n",
       "      <td>234</td>\n",
       "      <td>quai de jemmapes</td>\n",
       "      <td>75056</td>\n",
       "      <td>652492</td>\n",
       "      <td>6862009</td>\n",
       "    </tr>\n",
       "    <tr>\n",
       "      <th>2</th>\n",
       "      <td>10000012129</td>\n",
       "      <td>M</td>\n",
       "      <td>DIDDEN</td>\n",
       "      <td>JEAN-PAUL</td>\n",
       "      <td>C</td>\n",
       "      <td>SM53</td>\n",
       "      <td>Spécialiste en Médecine Générale</td>\n",
       "      <td>L</td>\n",
       "      <td>NaN</td>\n",
       "      <td>R10100000269875</td>\n",
       "      <td>...</td>\n",
       "      <td>NaN</td>\n",
       "      <td>NaN</td>\n",
       "      <td>NaN</td>\n",
       "      <td>11</td>\n",
       "      <td>11</td>\n",
       "      <td>143</td>\n",
       "      <td>avenue de la jonquiere</td>\n",
       "      <td>11304</td>\n",
       "      <td>633310</td>\n",
       "      <td>6197645</td>\n",
       "    </tr>\n",
       "    <tr>\n",
       "      <th>3</th>\n",
       "      <td>10000012558</td>\n",
       "      <td>M</td>\n",
       "      <td>CHUBERRE</td>\n",
       "      <td>YVES</td>\n",
       "      <td>C</td>\n",
       "      <td>SM53</td>\n",
       "      <td>Spécialiste en Médecine Générale</td>\n",
       "      <td>L</td>\n",
       "      <td>NaN</td>\n",
       "      <td>R10000000562949</td>\n",
       "      <td>...</td>\n",
       "      <td>NaN</td>\n",
       "      <td>NaN</td>\n",
       "      <td>NaN</td>\n",
       "      <td>56</td>\n",
       "      <td>56</td>\n",
       "      <td>178</td>\n",
       "      <td>place de la chapelle</td>\n",
       "      <td>56034</td>\n",
       "      <td>243618</td>\n",
       "      <td>6738059</td>\n",
       "    </tr>\n",
       "    <tr>\n",
       "      <th>4</th>\n",
       "      <td>10000013531</td>\n",
       "      <td>M</td>\n",
       "      <td>COSTA</td>\n",
       "      <td>Frédéric</td>\n",
       "      <td>C</td>\n",
       "      <td>SM26</td>\n",
       "      <td>Qualifié en Médecine Générale</td>\n",
       "      <td>L</td>\n",
       "      <td>NaN</td>\n",
       "      <td>R10100000568503</td>\n",
       "      <td>...</td>\n",
       "      <td>NaN</td>\n",
       "      <td>NaN</td>\n",
       "      <td>NaN</td>\n",
       "      <td>93</td>\n",
       "      <td>93</td>\n",
       "      <td>99</td>\n",
       "      <td>rue de rosny</td>\n",
       "      <td>93048</td>\n",
       "      <td>658989</td>\n",
       "      <td>6862633</td>\n",
       "    </tr>\n",
       "  </tbody>\n",
       "</table>\n",
       "<p>5 rows × 74 columns</p>\n",
       "</div>"
      ],
      "text/plain": [
       "  identifiantpp codecivilité nomdexercice prénomdexercice  \\\n",
       "0   10000010867            M      TACONET       CHRISTIAN   \n",
       "1   10000011808          MME        HAMOT            ENNA   \n",
       "2   10000012129            M       DIDDEN       JEAN-PAUL   \n",
       "3   10000012558            M     CHUBERRE            YVES   \n",
       "4   10000013531            M        COSTA        Frédéric   \n",
       "\n",
       "  codecatégorieprofessionnelle codesavoirfaire  \\\n",
       "0                            C            SM53   \n",
       "1                            C            SM26   \n",
       "2                            C            SM53   \n",
       "3                            C            SM53   \n",
       "4                            C            SM26   \n",
       "\n",
       "                 libellésavoirfaire codemodeexercice  numérosiretsite  \\\n",
       "0  Spécialiste en Médecine Générale                L              NaN   \n",
       "1     Qualifié en Médecine Générale                S     7.500959e+13   \n",
       "2  Spécialiste en Médecine Générale                L              NaN   \n",
       "3  Spécialiste en Médecine Générale                L              NaN   \n",
       "4     Qualifié en Médecine Générale                L              NaN   \n",
       "\n",
       "  identifianttechniquedelastructur  ... nb carac card_0  nb carac card_3  \\\n",
       "0                  R10000000618793  ...             NaN              NaN   \n",
       "1                       F750831182  ...             NaN              NaN   \n",
       "2                  R10100000269875  ...             NaN              NaN   \n",
       "3                  R10000000562949  ...             NaN              NaN   \n",
       "4                  R10100000568503  ...             NaN              NaN   \n",
       "\n",
       "  nb carac card_4 code dépar Code Département généralistes  \\\n",
       "0             NaN         95               95           95   \n",
       "1             NaN         75               75          234   \n",
       "2             NaN         11               11          143   \n",
       "3             NaN         56               56          178   \n",
       "4             NaN         93               93           99   \n",
       "\n",
       "                        Voie  codgeo xcl2154  ycl2154  \n",
       "0  avenue martin luther king   95637  628442  6881566  \n",
       "1           quai de jemmapes   75056  652492  6862009  \n",
       "2     avenue de la jonquiere   11304  633310  6197645  \n",
       "3       place de la chapelle   56034  243618  6738059  \n",
       "4               rue de rosny   93048  658989  6862633  \n",
       "\n",
       "[5 rows x 74 columns]"
      ]
     },
     "execution_count": 179,
     "metadata": {},
     "output_type": "execute_result"
    }
   ],
   "source": [
    "df_merged_gdf.head()"
   ]
  },
  {
   "cell_type": "code",
   "execution_count": 73,
   "metadata": {
    "vscode": {
     "languageId": "shellscript"
    }
   },
   "outputs": [
    {
     "name": "stdout",
     "output_type": "stream",
     "text": [
      "   A_x  A_y\n",
      "0    1    1\n",
      "1    1    2\n",
      "2    1    3\n"
     ]
    }
   ],
   "source": [
    "import pandas as pd\n",
    "\n",
    "# Exemple de DataFrames\n",
    "df1 = pd.DataFrame({'A': [1, 2, 3]})\n",
    "df2 = pd.DataFrame({'B': ['a', 'b']})\n",
    "\n",
    "# Jointure croisée avec 'how=cross'\n",
    "df_cross = pd.merge(df1[df1['A']==df1['A'].iloc[0]], df1, how='cross')\n",
    "\n",
    "print(df_cross)"
   ]
  }
 ],
 "metadata": {
  "kernelspec": {
   "display_name": "Python 3 (ipykernel)",
   "language": "python",
   "name": "python3"
  },
  "language_info": {
   "codemirror_mode": {
    "name": "ipython",
    "version": 3
   },
   "file_extension": ".py",
   "mimetype": "text/x-python",
   "name": "python",
   "nbconvert_exporter": "python",
   "pygments_lexer": "ipython3",
   "version": "3.11.4"
  }
 },
 "nbformat": 4,
 "nbformat_minor": 4
}
