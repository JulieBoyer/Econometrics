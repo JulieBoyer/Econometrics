{
 "cells": [
  {
   "cell_type": "code",
   "execution_count": 124,
   "metadata": {
    "vscode": {
     "languageId": "shellscript"
    }
   },
   "outputs": [],
   "source": [
    "import pandas as pd\n",
    "import ast \n",
    "import numpy as np\n",
    "import csv"
   ]
  },
  {
   "cell_type": "code",
   "execution_count": 125,
   "metadata": {
    "vscode": {
     "languageId": "shellscript"
    }
   },
   "outputs": [],
   "source": [
    "data = pd.read_csv('data/extracted_data_final_0_1000.csv')"
   ]
  },
  {
   "cell_type": "code",
   "execution_count": 128,
   "metadata": {
    "vscode": {
     "languageId": "shellscript"
    }
   },
   "outputs": [
    {
     "name": "stdout",
     "output_type": "stream",
     "text": [
      "                   Doctor Name  \\\n",
      "991        Dr Mathieu SABATIER   \n",
      "992           Dr Eric LE FLOCH   \n",
      "993    Agnès Montagnon -Thomas   \n",
      "994     Dr Stella Danan-Hadida   \n",
      "995  Dr Philippe Lazare SELLAM   \n",
      "996          Dr Michèle Maizil   \n",
      "997           Dr Thierry MEYER   \n",
      "998          Dr Marc Stromboni   \n",
      "999               Fabien GUIDE   \n",
      "\n",
      "                                                card_0  \\\n",
      "991                                                 []   \n",
      "992                                                 []   \n",
      "993                                                 []   \n",
      "994  [Tarifs et remboursement, , , , Conventionné s...   \n",
      "995  [Lieu 1, Lieu 2, Cabinet du Docteur Philippe L...   \n",
      "996                                                NaN   \n",
      "997  [Tarifs et remboursement, , , , Conventionné, ...   \n",
      "998                                                 []   \n",
      "999                                                 []   \n",
      "\n",
      "                                                card_1  \\\n",
      "991  [Carte et informations d'accès, Cabinet d'opht...   \n",
      "992  [Carte et informations d'accès, Centre médical...   \n",
      "993  [Carte et informations d'accès, 127 Rue de la ...   \n",
      "994  [Carte et informations d'accès, One Clinic - P...   \n",
      "995  [Carte et informations d'accès, Cabinet du Doc...   \n",
      "996  [Carte et informations d'accès, Centre médical...   \n",
      "997  [Carte et informations d'accès, Cabinet dentai...   \n",
      "998  [Carte et informations d'accès, Cabinet médica...   \n",
      "999  [Carte et informations d'accès, 9 Avenue Ampèr...   \n",
      "\n",
      "                                                card_2  \\\n",
      "991                                                NaN   \n",
      "992                                                NaN   \n",
      "993                                                NaN   \n",
      "994  [Présentation, Le docteur Stella Hadida vous a...   \n",
      "995  [Présentation, Le docteur Philippe-Lazare SELL...   \n",
      "996  [Présentation, Le chirurgien-dentiste, aussi a...   \n",
      "997  [Présentation, Le docteur Thierry Meyer, denti...   \n",
      "998                                                NaN   \n",
      "999  [Présentation, Depuis janvier 2010, je vous re...   \n",
      "\n",
      "                                                card_3  \\\n",
      "991                                                NaN   \n",
      "992                                                NaN   \n",
      "993                                                NaN   \n",
      "994  [Horaires et coordonnées, Horaires d'ouverture...   \n",
      "995  [Horaires et coordonnées, Contact d'urgence, E...   \n",
      "996  [Horaires et coordonnées, Horaires d'ouverture...   \n",
      "997  [Horaires et coordonnées, Horaires d'ouverture...   \n",
      "998                                                NaN   \n",
      "999                                                NaN   \n",
      "\n",
      "                                                card_4  \\\n",
      "991                                                NaN   \n",
      "992                                                NaN   \n",
      "993                                                NaN   \n",
      "994  [Tarifs, Consultation vidéo, 58 €, Consultatio...   \n",
      "995  [Tarifs, Consultation, 23 € à 120 €, Exérèse d...   \n",
      "996                                                NaN   \n",
      "997  [Tarifs, Consultation, 23 €, Ces honoraires vo...   \n",
      "998                                                NaN   \n",
      "999                                                NaN   \n",
      "\n",
      "                                               card_5  \n",
      "991                                               NaN  \n",
      "992                                               NaN  \n",
      "993                                               NaN  \n",
      "994  [Informations légales, Numéro RPPS, 10000292291]  \n",
      "995  [Informations légales, Numéro RPPS, 10000558964]  \n",
      "996  [Informations légales, Numéro RPPS, 10000202985]  \n",
      "997  [Informations légales, Numéro RPPS, 10000173897]  \n",
      "998                                               NaN  \n",
      "999                                               NaN  \n"
     ]
    },
    {
     "data": {
      "text/plain": [
       "\"data2=data.iloc[998::]\\nreordered_cards = data2['Profile Cards'].apply(reorder_cards)\\nreordered_cards_df = pd.json_normalize(reordered_cards)\\ndata_combined = pd.concat([data2, reordered_cards_df], axis=1)\\n\\ndata_combined.drop(columns = 'Profile Cards', inplace=True)\\nprint(data_combined[['Doctor Name', 'card_0', 'card_1', 'card_2', 'card_3', 'card_4', 'card_5']].head(9))\""
      ]
     },
     "execution_count": 128,
     "metadata": {},
     "output_type": "execute_result"
    }
   ],
   "source": [
    "# Fonction pour réorganiser les profils cards\n",
    "def reorder_cards(profile_cards):\n",
    "    try:\n",
    "        cards_dict = ast.literal_eval(profile_cards)\n",
    "        \n",
    "        reordered_cards = {\n",
    "            'card_0': np.nan,\n",
    "            'card_1': np.nan,\n",
    "            'card_2': np.nan,\n",
    "            'card_3': np.nan,\n",
    "            'card_4': np.nan,\n",
    "            'card_5': np.nan\n",
    "        }\n",
    "\n",
    "        def split_content(value):\n",
    "            value = value.replace('\\\\n', '\\n').replace('\\\\', '\\n')\n",
    "            return value.split('\\n')\n",
    "\n",
    "        for key, value in cards_dict.items():\n",
    "            #print(key,value,'s')\n",
    "            if value.startswith(\"Carte et informations d'accès\"):\n",
    "                #print('1')\n",
    "                reordered_cards['card_1'] = split_content(value)\n",
    "            elif value.startswith(\"Présentation\"):\n",
    "                #print('2')\n",
    "                reordered_cards['card_2'] = split_content(value)\n",
    "            elif value.startswith(\"Horaires et coordonnées\"):\n",
    "                #print('3')\n",
    "                reordered_cards['card_3'] = split_content(value)\n",
    "            elif value.startswith(\"Tarifs et remboursement\") or value.startswith(\"Lieu\"):\n",
    "                #print('i')\n",
    "                reordered_cards['card_0'] = split_content(value)\n",
    "            elif value.startswith(\"Tarifs\"):\n",
    "                #print('4')\n",
    "                reordered_cards['card_4'] = split_content(value)\n",
    "            elif value.startswith(\"Informations légales\"):\n",
    "                #print('5')\n",
    "                reordered_cards['card_5'] = split_content(value)\n",
    "            else :\n",
    "                #print('i1')\n",
    "                reordered_cards['card_0'] = split_content(value)\n",
    "        \n",
    "        return reordered_cards\n",
    "    except:\n",
    "        return {\n",
    "            'card_0': np.nan,\n",
    "            'card_1': np.nan,\n",
    "            'card_2': np.nan,\n",
    "            'card_3': np.nan,\n",
    "            'card_4': np.nan,\n",
    "            'card_5': np.nan\n",
    "        }\n",
    "\n",
    "reordered_cards = data['Profile Cards'].apply(reorder_cards)\n",
    "\n",
    "reordered_cards_df = pd.json_normalize(reordered_cards)\n",
    "\n",
    "data_combined = pd.concat([data, reordered_cards_df], axis=1)\n",
    "\n",
    "data_combined.drop(columns = 'Profile Cards', inplace=True)\n",
    "print(data_combined[['Doctor Name', 'card_0', 'card_1', 'card_2', 'card_3', 'card_4', 'card_5']].tail(9))\n",
    "\n",
    "\"\"\"data2=data.iloc[998::]\n",
    "reordered_cards = data2['Profile Cards'].apply(reorder_cards)\n",
    "reordered_cards_df = pd.json_normalize(reordered_cards)\n",
    "data_combined = pd.concat([data2, reordered_cards_df], axis=1)\n",
    "\n",
    "data_combined.drop(columns = 'Profile Cards', inplace=True)\n",
    "print(data_combined[['Doctor Name', 'card_0', 'card_1', 'card_2', 'card_3', 'card_4', 'card_5']].head(9))\"\"\"\n"
   ]
  },
  {
   "cell_type": "code",
   "execution_count": 123,
   "metadata": {
    "vscode": {
     "languageId": "shellscript"
    }
   },
   "outputs": [
    {
     "data": {
      "text/plain": [
       "'{\\'card_0\\': \\'Tarifs et remboursement\\\\n\\\\n\\\\n\\\\nConventionné\\\\nCarte Vitale acceptée\\\\nTiers payant : Sécurité sociale\\\\nVoir les tarifs\\\\nMoyens de paiement\\\\nChèques, espèces et carte bancaire\\\\nExpertises et actes\\\\nBilan podologique\\\\nIonophorèse\\\\nK-Tape\\\\nKinesio Taping\\\\nOrthonyxie\\\\nOrthoplastie\\\\nOrthèse plantaire\\\\nPodologie\\\\nPédicurie\\\\nSemelles orthopédiques\\\\nVerrue\\', \\'card_1\\': \"Carte et informations d\\'accès\\\\n9 Avenue Ampère, 77420 Champs-sur-Marne\\\\nMoyens de transport\\\\nBus - Ampere (lignes 213 et 312)\\\\nBus - Noisy-Champs Rer - Descartes (ligne 212)\\\\nInformations pratiques\\\\n1er étage avec ascenseur\\\\nEntrée accessible\\\\nJ\\'autorise le traitement d\\'informations (dont mon adresse IP) et leur transfert hors UE par Google Maps (USA) afin d’afficher la carte.En savoir plus\\\\nsur la collecte et le traitement des données par Google\\\\nAFFICHER LA CARTE\", \\'card_2\\': \"Présentation\\\\nDepuis janvier 2010, je vous reçois dans mon cabinet à Champs-sur-Marne à deux pas de la gare Noisy-Champs. \\\\n\\\\nPar le biais des soins de pédicurie, je traite les affections cutanées des pieds (cors, verrues, mycoses, etc.) et unguéales (ongle incarné, ongle cassé ou qui a chuté, mycoses, etc.). \\\\nAttention, le pédicure-podologue ne traite les affections cutanées que sur les pieds, les verrues aux mains ou sur d\\'autre parties du corp ne sont pas dans le champs de compétence)\\\\n \\\\nPar la réalisation d\\'orthèses plantaires sur mesure (semelles orthopédiques), je suis amené aussi à traiter et prévenir les douleurs des membres inférieurs et du dos qu\\'elles soient musculaires, articulaires, osseuses, lié au sport, au travail ou autre.\\\\n\\\\nJ’interviens également sur le terrain au sein de l’association Air Pod lors d\\'événements sportifs et de prévention (Semi-marathon de Disney, trails, etc.), ainsi que sur des épreuves de marche (24h de Bourges et Paris-Alsace 2015 et 2016). \\\\n\\\\nDe plus en plus de mutuelles prennent les soins de pédicurie en charge, n\\'hésitez pas à demander à la votre.\\\\n\\\\nSuit à l\\'accroissement du nombre de RDV non honoré ou de rendez-vous décommandé à la dernière minute, je me réserve le droit de bloquer la prise de rendez-vous sur Doctolib et cela dès le premier rendez-vous.\", \\'card_3\\': \\'\\', \\'card_4\\': \\'\\', \\'card_5\\': \\'\\'}'"
      ]
     },
     "execution_count": 123,
     "metadata": {},
     "output_type": "execute_result"
    }
   ],
   "source": [
    "data['Profile Cards'].iloc[999]"
   ]
  },
  {
   "cell_type": "code",
   "execution_count": 95,
   "metadata": {
    "vscode": {
     "languageId": "shellscript"
    }
   },
   "outputs": [
    {
     "data": {
      "text/html": [
       "<div>\n",
       "<style scoped>\n",
       "    .dataframe tbody tr th:only-of-type {\n",
       "        vertical-align: middle;\n",
       "    }\n",
       "\n",
       "    .dataframe tbody tr th {\n",
       "        vertical-align: top;\n",
       "    }\n",
       "\n",
       "    .dataframe thead th {\n",
       "        text-align: right;\n",
       "    }\n",
       "</style>\n",
       "<table border=\"1\" class=\"dataframe\">\n",
       "  <thead>\n",
       "    <tr style=\"text-align: right;\">\n",
       "      <th></th>\n",
       "      <th>Doctor Name</th>\n",
       "      <th>Specialty</th>\n",
       "      <th>Map Location</th>\n",
       "      <th>Skills</th>\n",
       "      <th>URL</th>\n",
       "      <th>card_0</th>\n",
       "      <th>card_1</th>\n",
       "      <th>card_2</th>\n",
       "      <th>card_3</th>\n",
       "      <th>card_4</th>\n",
       "      <th>card_5</th>\n",
       "    </tr>\n",
       "  </thead>\n",
       "  <tbody>\n",
       "    <tr>\n",
       "      <th>0</th>\n",
       "      <td>Dr Marian AGACHI</td>\n",
       "      <td>Neurochirurgien</td>\n",
       "      <td>{\"lat\":48.8783278,\"lng\":2.431033999999954,\"ful...</td>\n",
       "      <td>Expertises et actes\\nNeurochirurgie du rachis</td>\n",
       "      <td>https://www.doctolib.fr/neurochirurgien/paris/...</td>\n",
       "      <td>[Centre Floréal, Lieu 2, Lieu 3, Centre médico...</td>\n",
       "      <td>[Carte et informations d'accès, Centre médico-...</td>\n",
       "      <td>[Présentation, Le docteur Marian Agachi vous a...</td>\n",
       "      <td>[Horaires et coordonnées, Horaires d'ouverture...</td>\n",
       "      <td>NaN</td>\n",
       "      <td>[Informations légales, Numéro RPPS, 10001649291]</td>\n",
       "    </tr>\n",
       "    <tr>\n",
       "      <th>1</th>\n",
       "      <td>Dr Anne Vaillant Moga</td>\n",
       "      <td>Médecin généraliste</td>\n",
       "      <td>{\"lat\":48.8692182,\"lng\":2.285468,\"fullAddress\"...</td>\n",
       "      <td>Expertises et actes\\nAcné\\nAllergie\\nApnée du ...</td>\n",
       "      <td>https://www.doctolib.fr/medecin-generaliste/pa...</td>\n",
       "      <td>[Lieu 1, Lieu 2, Dr Anne Moga (Paris), 76 aven...</td>\n",
       "      <td>[Carte et informations d'accès, Dr Anne Moga (...</td>\n",
       "      <td>[Présentation, Située au cœur du  seizieme arr...</td>\n",
       "      <td>[Horaires et coordonnées, Horaires d'ouverture...</td>\n",
       "      <td>[Tarifs, Consultation préalable de médecine es...</td>\n",
       "      <td>[Informations légales, Numéro RPPS, 1000037899...</td>\n",
       "    </tr>\n",
       "    <tr>\n",
       "      <th>2</th>\n",
       "      <td>Dr Gabriel Ohana</td>\n",
       "      <td>Chirurgien-dentiste</td>\n",
       "      <td>{\"lat\":48.8941478,\"lng\":2.2506978,\"fullAddress...</td>\n",
       "      <td>Expertises et actes\\nChirurgie buccale\\nProthè...</td>\n",
       "      <td>https://www.doctolib.fr/dentiste/courbevoie/ga...</td>\n",
       "      <td>[Tarifs et remboursement, , Carte Vitale accep...</td>\n",
       "      <td>[Carte et informations d'accès, Cabinet dentai...</td>\n",
       "      <td>[Présentation, Le docteur Gabriel Ohana vous a...</td>\n",
       "      <td>[Horaires et coordonnées, Horaires d'ouverture...</td>\n",
       "      <td>[Tarifs, Consultation dentaire, 23 €, Traiteme...</td>\n",
       "      <td>[Informations légales, Numéro RPPS, 10003639373]</td>\n",
       "    </tr>\n",
       "    <tr>\n",
       "      <th>3</th>\n",
       "      <td>Dr Thomas BAMBERGER</td>\n",
       "      <td>Dermatologue et vénérologue</td>\n",
       "      <td>{\"lat\":48.8154325,\"lng\":2.3430171,\"fullAddress...</td>\n",
       "      <td>Skills missing</td>\n",
       "      <td>https://www.doctolib.fr/dermatologue/gentilly/...</td>\n",
       "      <td>[Tarifs et remboursement, , , Conventionné sec...</td>\n",
       "      <td>[Carte et informations d'accès, Villa Amélie, ...</td>\n",
       "      <td>[Présentation, Le docteur Thomas Bamberger vou...</td>\n",
       "      <td>[Horaires et coordonnées, Horaires d'ouverture...</td>\n",
       "      <td>[Tarifs, Consultation, 31,50 € à 56,50 €, Cont...</td>\n",
       "      <td>[Informations légales, Numéro RPPS, 10003719571]</td>\n",
       "    </tr>\n",
       "    <tr>\n",
       "      <th>4</th>\n",
       "      <td>Dr Layla Chatila</td>\n",
       "      <td>Chirurgien-dentiste</td>\n",
       "      <td>{\"lat\":48.8588045,\"lng\":2.274392,\"fullAddress\"...</td>\n",
       "      <td>Skills missing</td>\n",
       "      <td>https://www.doctolib.fr/dentiste/paris/layla-c...</td>\n",
       "      <td>[Tarifs et remboursement, , , , Conventionné, ...</td>\n",
       "      <td>[Carte et informations d'accès, 5 rue François...</td>\n",
       "      <td>[Présentation, Le docteur Layla Chatila vous a...</td>\n",
       "      <td>[Horaires et coordonnées, Coordonnées, 01 45 2...</td>\n",
       "      <td>[Tarifs, Consultation dentaire, 23 €, Ces hono...</td>\n",
       "      <td>[Informations légales, Numéro RPPS, 10005133003]</td>\n",
       "    </tr>\n",
       "    <tr>\n",
       "      <th>5</th>\n",
       "      <td>Dr David Karsenti</td>\n",
       "      <td>Gastro-entérologue et hépatologue</td>\n",
       "      <td>{\"lat\":48.8534353,\"lng\":2.3326389,\"fullAddress...</td>\n",
       "      <td>Expertises et actes\\nGastro-entérologie\\nProct...</td>\n",
       "      <td>https://www.doctolib.fr/gastro-enterologue/par...</td>\n",
       "      <td>[Tarifs et remboursement, , Conventionné secte...</td>\n",
       "      <td>[Carte et informations d'accès, 50 rue de Renn...</td>\n",
       "      <td>[Présentation, Le docteur David Karsenti vous ...</td>\n",
       "      <td>[Horaires et coordonnées, Coordonnées, Numéro ...</td>\n",
       "      <td>[Tarifs, Consultation, 100 €, Ligature hémorro...</td>\n",
       "      <td>[Informations légales, Numéro RPPS, 1000153892...</td>\n",
       "    </tr>\n",
       "    <tr>\n",
       "      <th>6</th>\n",
       "      <td>Jeannie NESTOR</td>\n",
       "      <td>Pédicure-podologue</td>\n",
       "      <td>{\"lat\":48.845705,\"lng\":2.30262300000004,\"fullA...</td>\n",
       "      <td>Expertises et actes\\nBilan podologique\\nPédicurie</td>\n",
       "      <td>https://www.doctolib.fr/pedicure-podologue/par...</td>\n",
       "      <td>[Expertises et actes, Bilan podologique, Pédic...</td>\n",
       "      <td>[Carte et informations d'accès, Centre de sant...</td>\n",
       "      <td>[Présentation, La pédicure-podologue Jeannie N...</td>\n",
       "      <td>[Horaires et coordonnées, Horaires d'ouverture...</td>\n",
       "      <td>NaN</td>\n",
       "      <td>[Informations légales, Numéro RPPS, 10006076227]</td>\n",
       "    </tr>\n",
       "    <tr>\n",
       "      <th>7</th>\n",
       "      <td>Dr Alice de Taddéo</td>\n",
       "      <td>Spécialiste en chirurgie plastique reconstruct...</td>\n",
       "      <td>{\"lat\":48.8685766,\"lng\":2.282690600000024,\"ful...</td>\n",
       "      <td>Expertises et actes\\nChirurgie dermatologique</td>\n",
       "      <td>https://www.doctolib.fr/chirurgien-plastique/p...</td>\n",
       "      <td>[Expertises et actes, Chirurgie dermatologique]</td>\n",
       "      <td>[Carte et informations d'accès, de Taddéo Alic...</td>\n",
       "      <td>[Présentation, Le docteur Alice De Taddéo, vou...</td>\n",
       "      <td>NaN</td>\n",
       "      <td>NaN</td>\n",
       "      <td>[Informations légales, Numéro RPPS, 10100273183]</td>\n",
       "    </tr>\n",
       "    <tr>\n",
       "      <th>8</th>\n",
       "      <td>de Taddéo Alice</td>\n",
       "      <td>Cabinet médical</td>\n",
       "      <td>{\"lat\":48.8685766,\"lng\":2.282690600000024,\"ful...</td>\n",
       "      <td>Skills missing</td>\n",
       "      <td>https://www.doctolib.fr/cabinet-medical/saint-...</td>\n",
       "      <td>[L'équipe, Spécialiste en chirurgie plastique ...</td>\n",
       "      <td>[Carte et informations d'accès, 113VH, 113 Ave...</td>\n",
       "      <td>[Présentation de l'établissement, Taddéo Alice...</td>\n",
       "      <td>NaN</td>\n",
       "      <td>NaN</td>\n",
       "      <td>NaN</td>\n",
       "    </tr>\n",
       "  </tbody>\n",
       "</table>\n",
       "</div>"
      ],
      "text/plain": [
       "             Doctor Name                                          Specialty  \\\n",
       "0       Dr Marian AGACHI                                    Neurochirurgien   \n",
       "1  Dr Anne Vaillant Moga                                Médecin généraliste   \n",
       "2       Dr Gabriel Ohana                                Chirurgien-dentiste   \n",
       "3    Dr Thomas BAMBERGER                        Dermatologue et vénérologue   \n",
       "4       Dr Layla Chatila                                Chirurgien-dentiste   \n",
       "5      Dr David Karsenti                  Gastro-entérologue et hépatologue   \n",
       "6         Jeannie NESTOR                                 Pédicure-podologue   \n",
       "7     Dr Alice de Taddéo  Spécialiste en chirurgie plastique reconstruct...   \n",
       "8        de Taddéo Alice                                    Cabinet médical   \n",
       "\n",
       "                                        Map Location  \\\n",
       "0  {\"lat\":48.8783278,\"lng\":2.431033999999954,\"ful...   \n",
       "1  {\"lat\":48.8692182,\"lng\":2.285468,\"fullAddress\"...   \n",
       "2  {\"lat\":48.8941478,\"lng\":2.2506978,\"fullAddress...   \n",
       "3  {\"lat\":48.8154325,\"lng\":2.3430171,\"fullAddress...   \n",
       "4  {\"lat\":48.8588045,\"lng\":2.274392,\"fullAddress\"...   \n",
       "5  {\"lat\":48.8534353,\"lng\":2.3326389,\"fullAddress...   \n",
       "6  {\"lat\":48.845705,\"lng\":2.30262300000004,\"fullA...   \n",
       "7  {\"lat\":48.8685766,\"lng\":2.282690600000024,\"ful...   \n",
       "8  {\"lat\":48.8685766,\"lng\":2.282690600000024,\"ful...   \n",
       "\n",
       "                                              Skills  \\\n",
       "0      Expertises et actes\\nNeurochirurgie du rachis   \n",
       "1  Expertises et actes\\nAcné\\nAllergie\\nApnée du ...   \n",
       "2  Expertises et actes\\nChirurgie buccale\\nProthè...   \n",
       "3                                     Skills missing   \n",
       "4                                     Skills missing   \n",
       "5  Expertises et actes\\nGastro-entérologie\\nProct...   \n",
       "6  Expertises et actes\\nBilan podologique\\nPédicurie   \n",
       "7      Expertises et actes\\nChirurgie dermatologique   \n",
       "8                                     Skills missing   \n",
       "\n",
       "                                                 URL  \\\n",
       "0  https://www.doctolib.fr/neurochirurgien/paris/...   \n",
       "1  https://www.doctolib.fr/medecin-generaliste/pa...   \n",
       "2  https://www.doctolib.fr/dentiste/courbevoie/ga...   \n",
       "3  https://www.doctolib.fr/dermatologue/gentilly/...   \n",
       "4  https://www.doctolib.fr/dentiste/paris/layla-c...   \n",
       "5  https://www.doctolib.fr/gastro-enterologue/par...   \n",
       "6  https://www.doctolib.fr/pedicure-podologue/par...   \n",
       "7  https://www.doctolib.fr/chirurgien-plastique/p...   \n",
       "8  https://www.doctolib.fr/cabinet-medical/saint-...   \n",
       "\n",
       "                                              card_0  \\\n",
       "0  [Centre Floréal, Lieu 2, Lieu 3, Centre médico...   \n",
       "1  [Lieu 1, Lieu 2, Dr Anne Moga (Paris), 76 aven...   \n",
       "2  [Tarifs et remboursement, , Carte Vitale accep...   \n",
       "3  [Tarifs et remboursement, , , Conventionné sec...   \n",
       "4  [Tarifs et remboursement, , , , Conventionné, ...   \n",
       "5  [Tarifs et remboursement, , Conventionné secte...   \n",
       "6  [Expertises et actes, Bilan podologique, Pédic...   \n",
       "7    [Expertises et actes, Chirurgie dermatologique]   \n",
       "8  [L'équipe, Spécialiste en chirurgie plastique ...   \n",
       "\n",
       "                                              card_1  \\\n",
       "0  [Carte et informations d'accès, Centre médico-...   \n",
       "1  [Carte et informations d'accès, Dr Anne Moga (...   \n",
       "2  [Carte et informations d'accès, Cabinet dentai...   \n",
       "3  [Carte et informations d'accès, Villa Amélie, ...   \n",
       "4  [Carte et informations d'accès, 5 rue François...   \n",
       "5  [Carte et informations d'accès, 50 rue de Renn...   \n",
       "6  [Carte et informations d'accès, Centre de sant...   \n",
       "7  [Carte et informations d'accès, de Taddéo Alic...   \n",
       "8  [Carte et informations d'accès, 113VH, 113 Ave...   \n",
       "\n",
       "                                              card_2  \\\n",
       "0  [Présentation, Le docteur Marian Agachi vous a...   \n",
       "1  [Présentation, Située au cœur du  seizieme arr...   \n",
       "2  [Présentation, Le docteur Gabriel Ohana vous a...   \n",
       "3  [Présentation, Le docteur Thomas Bamberger vou...   \n",
       "4  [Présentation, Le docteur Layla Chatila vous a...   \n",
       "5  [Présentation, Le docteur David Karsenti vous ...   \n",
       "6  [Présentation, La pédicure-podologue Jeannie N...   \n",
       "7  [Présentation, Le docteur Alice De Taddéo, vou...   \n",
       "8  [Présentation de l'établissement, Taddéo Alice...   \n",
       "\n",
       "                                              card_3  \\\n",
       "0  [Horaires et coordonnées, Horaires d'ouverture...   \n",
       "1  [Horaires et coordonnées, Horaires d'ouverture...   \n",
       "2  [Horaires et coordonnées, Horaires d'ouverture...   \n",
       "3  [Horaires et coordonnées, Horaires d'ouverture...   \n",
       "4  [Horaires et coordonnées, Coordonnées, 01 45 2...   \n",
       "5  [Horaires et coordonnées, Coordonnées, Numéro ...   \n",
       "6  [Horaires et coordonnées, Horaires d'ouverture...   \n",
       "7                                                NaN   \n",
       "8                                                NaN   \n",
       "\n",
       "                                              card_4  \\\n",
       "0                                                NaN   \n",
       "1  [Tarifs, Consultation préalable de médecine es...   \n",
       "2  [Tarifs, Consultation dentaire, 23 €, Traiteme...   \n",
       "3  [Tarifs, Consultation, 31,50 € à 56,50 €, Cont...   \n",
       "4  [Tarifs, Consultation dentaire, 23 €, Ces hono...   \n",
       "5  [Tarifs, Consultation, 100 €, Ligature hémorro...   \n",
       "6                                                NaN   \n",
       "7                                                NaN   \n",
       "8                                                NaN   \n",
       "\n",
       "                                              card_5  \n",
       "0   [Informations légales, Numéro RPPS, 10001649291]  \n",
       "1  [Informations légales, Numéro RPPS, 1000037899...  \n",
       "2   [Informations légales, Numéro RPPS, 10003639373]  \n",
       "3   [Informations légales, Numéro RPPS, 10003719571]  \n",
       "4   [Informations légales, Numéro RPPS, 10005133003]  \n",
       "5  [Informations légales, Numéro RPPS, 1000153892...  \n",
       "6   [Informations légales, Numéro RPPS, 10006076227]  \n",
       "7   [Informations légales, Numéro RPPS, 10100273183]  \n",
       "8                                                NaN  "
      ]
     },
     "execution_count": 95,
     "metadata": {},
     "output_type": "execute_result"
    }
   ],
   "source": [
    "data_combined.head(9)"
   ]
  },
  {
   "cell_type": "code",
   "execution_count": 96,
   "metadata": {
    "vscode": {
     "languageId": "shellscript"
    }
   },
   "outputs": [],
   "source": [
    "#Pour rendre la localisation plus claire\n",
    "def extract_lat_lng(map_location):\n",
    "    try:\n",
    "        location_dict = ast.literal_eval(map_location)\n",
    "        return (location_dict['lat'], location_dict['lng'])\n",
    "    except:\n",
    "        return (None, None)\n",
    "\n",
    "data_combined['Latitude'], data_combined['Longitude'] = zip(*data_combined['Map Location'].apply(extract_lat_lng))\n",
    "\n",
    "data_combined.drop(columns = 'Map Location', inplace=True)\n"
   ]
  },
  {
   "cell_type": "code",
   "execution_count": 97,
   "metadata": {
    "vscode": {
     "languageId": "shellscript"
    }
   },
   "outputs": [],
   "source": [
    "# Fonction pour traiter la colonne 'Skills'\n",
    "def process_skills(skills):\n",
    "    if skills == 'Skills missing':\n",
    "        return np.nan\n",
    "    else:\n",
    "        return skills.split('\\n')\n",
    "\n",
    "data_combined['Skills Processed'] = data_combined['Skills'].apply(process_skills)\n",
    "\n",
    "data_combined.drop(columns = 'Skills', inplace=True)"
   ]
  },
  {
   "cell_type": "code",
   "execution_count": 98,
   "metadata": {
    "vscode": {
     "languageId": "shellscript"
    }
   },
   "outputs": [
    {
     "data": {
      "text/plain": [
       "Specialty\n",
       "Chirurgien-dentiste                                                 152\n",
       "Médecin généraliste                                                 104\n",
       "Ophtalmologue                                                        75\n",
       "Cabinet médical                                                      56\n",
       "Spécialiste en chirurgie plastique reconstructrice et esthétique     40\n",
       "                                                                   ... \n",
       "Chirurgien oral                                                       1\n",
       "Acupuncteur                                                           1\n",
       "Addictologue                                                          1\n",
       "Chirurgien cancérologue                                               1\n",
       "Diététicien                                                           1\n",
       "Name: count, Length: 78, dtype: int64"
      ]
     },
     "execution_count": 98,
     "metadata": {},
     "output_type": "execute_result"
    }
   ],
   "source": [
    "data_combined['Specialty'].value_counts()"
   ]
  },
  {
   "cell_type": "code",
   "execution_count": 99,
   "metadata": {
    "vscode": {
     "languageId": "shellscript"
    }
   },
   "outputs": [],
   "source": [
    "data_combined['RPPS'] = data_combined['card_5'].apply(lambda x: x[2] if isinstance(x, list) and len(x) > 2 else np.nan)\n",
    "\n",
    "data_combined.drop(columns = 'card_5', inplace = True)\n"
   ]
  },
  {
   "cell_type": "code",
   "execution_count": 100,
   "metadata": {
    "vscode": {
     "languageId": "shellscript"
    }
   },
   "outputs": [],
   "source": [
    "data_combined['Nb Skills'] = data_combined['Skills Processed'].apply(lambda x: len(x)-1 if isinstance(x, list) else np.nan)"
   ]
  },
  {
   "cell_type": "code",
   "execution_count": 101,
   "metadata": {
    "vscode": {
     "languageId": "shellscript"
    }
   },
   "outputs": [],
   "source": [
    "data_combined['Présentation']=''\n",
    "data_combined['Langues parlées']=''\n",
    "data_combined['Diplômes nationaux et universitaires']=''\n",
    "data_combined['Autres formations']=''\n",
    "data_combined['Expériences']=''\n",
    "data_combined['Site web']=''\n",
    "data_combined['Travaux et publications']=''\n",
    "data_combined['Prix et distinctions']=''\n",
    "data_combined['site']=0\n",
    "\n",
    "liste_mots_clefs = ['Présentation','Langues parlées','Diplômes nationaux et universitaires','Formations','Autres formations','Expériences', 'Site web', 'Travaux et publications', 'Prix et distinctions']\n",
    "\n",
    "for i in range(data_combined.shape[0]):\n",
    "    \n",
    "    if isinstance(data_combined['card_2'].iloc[i],list) : \n",
    "        liste_card2 = data_combined['card_2'].iloc[i][1:]\n",
    "        sous_liste = ''\n",
    "        label = liste_mots_clefs[0]\n",
    "        for x in liste_card2 :\n",
    "            if x in liste_mots_clefs :\n",
    "                data_combined.loc[i, label] = sous_liste\n",
    "                label = x\n",
    "                sous_liste = ''\n",
    "            elif x=='Voir le site':\n",
    "                data_combined.loc[i, 'site'] = 1\n",
    "            elif x=='▾ Voir plus':\n",
    "                None\n",
    "            else :\n",
    "                sous_liste = sous_liste+(x)"
   ]
  },
  {
   "cell_type": "code",
   "execution_count": 102,
   "metadata": {
    "vscode": {
     "languageId": "shellscript"
    }
   },
   "outputs": [],
   "source": [
    "data_combined['Diplômes nationaux et universitaires b']=data_combined['Diplômes nationaux et universitaires'].apply(lambda x: 1 if len(x)>0 else 0)"
   ]
  },
  {
   "cell_type": "code",
   "execution_count": 103,
   "metadata": {
    "vscode": {
     "languageId": "shellscript"
    }
   },
   "outputs": [],
   "source": [
    "data_combined['Nb caractères présentation'] = data_combined['Présentation'].apply(lambda x: len(x))"
   ]
  },
  {
   "cell_type": "code",
   "execution_count": 104,
   "metadata": {
    "vscode": {
     "languageId": "shellscript"
    }
   },
   "outputs": [],
   "source": [
    "data_combined['Autres formations b']=data_combined['Autres formations'].apply(lambda x: 1 if len(x)>0 else 0)"
   ]
  },
  {
   "cell_type": "code",
   "execution_count": 105,
   "metadata": {
    "vscode": {
     "languageId": "shellscript"
    }
   },
   "outputs": [],
   "source": [
    "data_combined['Nb langues']=0\n",
    "\n",
    "for i in range(data_combined.shape[0]):\n",
    "    if isinstance(data_combined['Langues parlées'].iloc[i],str) : \n",
    "        liste_langue = (data_combined['Langues parlées'].iloc[i]).split()\n",
    "        count = 0\n",
    "        for x in liste_langue :\n",
    "            \n",
    "            if  x != 'et'  :\n",
    "                count +=1\n",
    "        data_combined.loc[i,'Nb langues']=count"
   ]
  },
  {
   "cell_type": "code",
   "execution_count": 106,
   "metadata": {
    "vscode": {
     "languageId": "shellscript"
    }
   },
   "outputs": [],
   "source": [
    "data_combined['Expériences b']=data_combined['Expériences'].apply(lambda x: 1 if len(x)>0 else 0)"
   ]
  },
  {
   "cell_type": "code",
   "execution_count": 107,
   "metadata": {
    "vscode": {
     "languageId": "shellscript"
    }
   },
   "outputs": [],
   "source": [
    "liste1 = [\"Carte et informations d'accès\",'Moyens de transport','Parking public','Informations pratiques',\"J'autorise le traitement d'informations (dont mon adresse IP) et leur transfert hors UE par Google Maps (USA) afin d’afficher la carte.En savoir plus\", 'sur la collecte et le traitement des données par Google','AFFICHER LA CARTE']\n",
    "def carac1(card1):\n",
    "    nb=0\n",
    "    for phrase in card1:\n",
    "        if  phrase not in liste1:\n",
    "            nb += len(phrase)\n",
    "    return nb\n",
    "data_combined['Carac_card_1'] = data_combined['card_1'].apply(lambda x: carac1(x)if isinstance(x, list) else np.nan)"
   ]
  },
  {
   "cell_type": "code",
   "execution_count": 108,
   "metadata": {
    "vscode": {
     "languageId": "shellscript"
    }
   },
   "outputs": [],
   "source": [
    "def transport(card1):\n",
    "    if isinstance(card1, list):\n",
    "        if 'Moyens de transport' in card1:\n",
    "            return 1\n",
    "        else:\n",
    "            return 0\n",
    "    else:\n",
    "        return 0\n",
    "data_combined['Transport'] = data_combined['card_1'].apply(transport)"
   ]
  },
  {
   "cell_type": "code",
   "execution_count": 109,
   "metadata": {
    "vscode": {
     "languageId": "shellscript"
    }
   },
   "outputs": [],
   "source": [
    "def parking(card1):\n",
    "    if isinstance(card1, list):\n",
    "        if 'Parking public' in card1:\n",
    "            return 1\n",
    "        else:\n",
    "            return 0\n",
    "    else:\n",
    "        return 0\n",
    "data_combined['Parking'] = data_combined['card_1'].apply(parking)"
   ]
  },
  {
   "cell_type": "code",
   "execution_count": 110,
   "metadata": {
    "vscode": {
     "languageId": "shellscript"
    }
   },
   "outputs": [],
   "source": [
    "def infos(card1):\n",
    "    if isinstance(card1, list):\n",
    "        if 'Informations pratiques' in card1:\n",
    "            return 1\n",
    "        else:\n",
    "            return 0\n",
    "    else:\n",
    "        return 0\n",
    "data_combined['Infos'] = data_combined['card_1'].apply(infos)"
   ]
  },
  {
   "cell_type": "code",
   "execution_count": 111,
   "metadata": {
    "vscode": {
     "languageId": "shellscript"
    }
   },
   "outputs": [],
   "source": [
    "def coordonnées(card3):\n",
    "    if isinstance(card3, list):\n",
    "        if 'Coordonnées' in card3:\n",
    "            return 1\n",
    "        else:\n",
    "            return 0\n",
    "    else:\n",
    "        return 0\n",
    "data_combined['Coordonnées'] = data_combined['card_3'].apply(coordonnées) "
   ]
  },
  {
   "cell_type": "code",
   "execution_count": 112,
   "metadata": {
    "vscode": {
     "languageId": "shellscript"
    }
   },
   "outputs": [],
   "source": [
    "def sansRDV(card3):\n",
    "    if isinstance(card3, list):\n",
    "        if 'Consultations sans rendez-vous' in card3:\n",
    "            return 1\n",
    "        else:\n",
    "            return 0\n",
    "    else:\n",
    "        return 0\n",
    "data_combined['Sans RDV'] = data_combined['card_3'].apply(sansRDV)"
   ]
  },
  {
   "cell_type": "code",
   "execution_count": 113,
   "metadata": {
    "vscode": {
     "languageId": "shellscript"
    }
   },
   "outputs": [
    {
     "data": {
      "text/html": [
       "<div>\n",
       "<style scoped>\n",
       "    .dataframe tbody tr th:only-of-type {\n",
       "        vertical-align: middle;\n",
       "    }\n",
       "\n",
       "    .dataframe tbody tr th {\n",
       "        vertical-align: top;\n",
       "    }\n",
       "\n",
       "    .dataframe thead th {\n",
       "        text-align: right;\n",
       "    }\n",
       "</style>\n",
       "<table border=\"1\" class=\"dataframe\">\n",
       "  <thead>\n",
       "    <tr style=\"text-align: right;\">\n",
       "      <th></th>\n",
       "      <th>Doctor Name</th>\n",
       "      <th>Specialty</th>\n",
       "      <th>card_0</th>\n",
       "      <th>card_3</th>\n",
       "      <th>card_4</th>\n",
       "      <th>Latitude</th>\n",
       "      <th>Longitude</th>\n",
       "      <th>Skills Processed</th>\n",
       "      <th>RPPS</th>\n",
       "      <th>Nb Skills</th>\n",
       "      <th>...</th>\n",
       "      <th>Nb caractères présentation</th>\n",
       "      <th>Autres formations b</th>\n",
       "      <th>Nb langues</th>\n",
       "      <th>Expériences b</th>\n",
       "      <th>Carac_card_1</th>\n",
       "      <th>Transport</th>\n",
       "      <th>Parking</th>\n",
       "      <th>Infos</th>\n",
       "      <th>Coordonnées</th>\n",
       "      <th>Sans RDV</th>\n",
       "    </tr>\n",
       "  </thead>\n",
       "  <tbody>\n",
       "    <tr>\n",
       "      <th>0</th>\n",
       "      <td>Dr Marian AGACHI</td>\n",
       "      <td>Neurochirurgien</td>\n",
       "      <td>[Centre Floréal, Lieu 2, Lieu 3, Centre médico...</td>\n",
       "      <td>[Horaires et coordonnées, Horaires d'ouverture...</td>\n",
       "      <td>NaN</td>\n",
       "      <td>48.878328</td>\n",
       "      <td>2.431034</td>\n",
       "      <td>[Expertises et actes, Neurochirurgie du rachis]</td>\n",
       "      <td>10001649291</td>\n",
       "      <td>1.0</td>\n",
       "      <td>...</td>\n",
       "      <td>748</td>\n",
       "      <td>0</td>\n",
       "      <td>3</td>\n",
       "      <td>0</td>\n",
       "      <td>154.0</td>\n",
       "      <td>1</td>\n",
       "      <td>0</td>\n",
       "      <td>1</td>\n",
       "      <td>1</td>\n",
       "      <td>0</td>\n",
       "    </tr>\n",
       "    <tr>\n",
       "      <th>1</th>\n",
       "      <td>Dr Anne Vaillant Moga</td>\n",
       "      <td>Médecin généraliste</td>\n",
       "      <td>[Lieu 1, Lieu 2, Dr Anne Moga (Paris), 76 aven...</td>\n",
       "      <td>[Horaires et coordonnées, Horaires d'ouverture...</td>\n",
       "      <td>[Tarifs, Consultation préalable de médecine es...</td>\n",
       "      <td>48.869218</td>\n",
       "      <td>2.285468</td>\n",
       "      <td>[Expertises et actes, Acné, Allergie, Apnée du...</td>\n",
       "      <td>10000378991</td>\n",
       "      <td>10.0</td>\n",
       "      <td>...</td>\n",
       "      <td>2538</td>\n",
       "      <td>1</td>\n",
       "      <td>2</td>\n",
       "      <td>1</td>\n",
       "      <td>180.0</td>\n",
       "      <td>1</td>\n",
       "      <td>0</td>\n",
       "      <td>1</td>\n",
       "      <td>0</td>\n",
       "      <td>0</td>\n",
       "    </tr>\n",
       "    <tr>\n",
       "      <th>2</th>\n",
       "      <td>Dr Gabriel Ohana</td>\n",
       "      <td>Chirurgien-dentiste</td>\n",
       "      <td>[Tarifs et remboursement, , Carte Vitale accep...</td>\n",
       "      <td>[Horaires et coordonnées, Horaires d'ouverture...</td>\n",
       "      <td>[Tarifs, Consultation dentaire, 23 €, Traiteme...</td>\n",
       "      <td>48.894148</td>\n",
       "      <td>2.250698</td>\n",
       "      <td>[Expertises et actes, Chirurgie buccale, Proth...</td>\n",
       "      <td>10003639373</td>\n",
       "      <td>3.0</td>\n",
       "      <td>...</td>\n",
       "      <td>481</td>\n",
       "      <td>1</td>\n",
       "      <td>1</td>\n",
       "      <td>0</td>\n",
       "      <td>240.0</td>\n",
       "      <td>1</td>\n",
       "      <td>0</td>\n",
       "      <td>1</td>\n",
       "      <td>1</td>\n",
       "      <td>0</td>\n",
       "    </tr>\n",
       "    <tr>\n",
       "      <th>3</th>\n",
       "      <td>Dr Thomas BAMBERGER</td>\n",
       "      <td>Dermatologue et vénérologue</td>\n",
       "      <td>[Tarifs et remboursement, , , Conventionné sec...</td>\n",
       "      <td>[Horaires et coordonnées, Horaires d'ouverture...</td>\n",
       "      <td>[Tarifs, Consultation, 31,50 € à 56,50 €, Cont...</td>\n",
       "      <td>48.815433</td>\n",
       "      <td>2.343017</td>\n",
       "      <td>NaN</td>\n",
       "      <td>10003719571</td>\n",
       "      <td>NaN</td>\n",
       "      <td>...</td>\n",
       "      <td>407</td>\n",
       "      <td>0</td>\n",
       "      <td>1</td>\n",
       "      <td>1</td>\n",
       "      <td>155.0</td>\n",
       "      <td>1</td>\n",
       "      <td>0</td>\n",
       "      <td>1</td>\n",
       "      <td>1</td>\n",
       "      <td>0</td>\n",
       "    </tr>\n",
       "    <tr>\n",
       "      <th>4</th>\n",
       "      <td>Dr Layla Chatila</td>\n",
       "      <td>Chirurgien-dentiste</td>\n",
       "      <td>[Tarifs et remboursement, , , , Conventionné, ...</td>\n",
       "      <td>[Horaires et coordonnées, Coordonnées, 01 45 2...</td>\n",
       "      <td>[Tarifs, Consultation dentaire, 23 €, Ces hono...</td>\n",
       "      <td>48.858804</td>\n",
       "      <td>2.274392</td>\n",
       "      <td>NaN</td>\n",
       "      <td>10005133003</td>\n",
       "      <td>NaN</td>\n",
       "      <td>...</td>\n",
       "      <td>246</td>\n",
       "      <td>0</td>\n",
       "      <td>1</td>\n",
       "      <td>0</td>\n",
       "      <td>202.0</td>\n",
       "      <td>1</td>\n",
       "      <td>1</td>\n",
       "      <td>1</td>\n",
       "      <td>1</td>\n",
       "      <td>0</td>\n",
       "    </tr>\n",
       "  </tbody>\n",
       "</table>\n",
       "<p>5 rows × 31 columns</p>\n",
       "</div>"
      ],
      "text/plain": [
       "             Doctor Name                    Specialty  \\\n",
       "0       Dr Marian AGACHI              Neurochirurgien   \n",
       "1  Dr Anne Vaillant Moga          Médecin généraliste   \n",
       "2       Dr Gabriel Ohana          Chirurgien-dentiste   \n",
       "3    Dr Thomas BAMBERGER  Dermatologue et vénérologue   \n",
       "4       Dr Layla Chatila          Chirurgien-dentiste   \n",
       "\n",
       "                                              card_0  \\\n",
       "0  [Centre Floréal, Lieu 2, Lieu 3, Centre médico...   \n",
       "1  [Lieu 1, Lieu 2, Dr Anne Moga (Paris), 76 aven...   \n",
       "2  [Tarifs et remboursement, , Carte Vitale accep...   \n",
       "3  [Tarifs et remboursement, , , Conventionné sec...   \n",
       "4  [Tarifs et remboursement, , , , Conventionné, ...   \n",
       "\n",
       "                                              card_3  \\\n",
       "0  [Horaires et coordonnées, Horaires d'ouverture...   \n",
       "1  [Horaires et coordonnées, Horaires d'ouverture...   \n",
       "2  [Horaires et coordonnées, Horaires d'ouverture...   \n",
       "3  [Horaires et coordonnées, Horaires d'ouverture...   \n",
       "4  [Horaires et coordonnées, Coordonnées, 01 45 2...   \n",
       "\n",
       "                                              card_4   Latitude  Longitude  \\\n",
       "0                                                NaN  48.878328   2.431034   \n",
       "1  [Tarifs, Consultation préalable de médecine es...  48.869218   2.285468   \n",
       "2  [Tarifs, Consultation dentaire, 23 €, Traiteme...  48.894148   2.250698   \n",
       "3  [Tarifs, Consultation, 31,50 € à 56,50 €, Cont...  48.815433   2.343017   \n",
       "4  [Tarifs, Consultation dentaire, 23 €, Ces hono...  48.858804   2.274392   \n",
       "\n",
       "                                    Skills Processed         RPPS  Nb Skills  \\\n",
       "0    [Expertises et actes, Neurochirurgie du rachis]  10001649291        1.0   \n",
       "1  [Expertises et actes, Acné, Allergie, Apnée du...  10000378991       10.0   \n",
       "2  [Expertises et actes, Chirurgie buccale, Proth...  10003639373        3.0   \n",
       "3                                                NaN  10003719571        NaN   \n",
       "4                                                NaN  10005133003        NaN   \n",
       "\n",
       "   ... Nb caractères présentation Autres formations b Nb langues  \\\n",
       "0  ...                        748                   0          3   \n",
       "1  ...                       2538                   1          2   \n",
       "2  ...                        481                   1          1   \n",
       "3  ...                        407                   0          1   \n",
       "4  ...                        246                   0          1   \n",
       "\n",
       "  Expériences b Carac_card_1 Transport Parking Infos  Coordonnées Sans RDV  \n",
       "0             0        154.0         1       0     1            1        0  \n",
       "1             1        180.0         1       0     1            0        0  \n",
       "2             0        240.0         1       0     1            1        0  \n",
       "3             1        155.0         1       0     1            1        0  \n",
       "4             0        202.0         1       1     1            1        0  \n",
       "\n",
       "[5 rows x 31 columns]"
      ]
     },
     "execution_count": 113,
     "metadata": {},
     "output_type": "execute_result"
    }
   ],
   "source": [
    "data_combined.drop(columns=['URL','card_1','card_2'],inplace=True)\n",
    "data_combined.head()"
   ]
  },
  {
   "cell_type": "markdown",
   "metadata": {},
   "source": [
    "Ouverture annuaire santé"
   ]
  },
  {
   "cell_type": "code",
   "execution_count": 114,
   "metadata": {
    "vscode": {
     "languageId": "shellscript"
    }
   },
   "outputs": [
    {
     "name": "stderr",
     "output_type": "stream",
     "text": [
      "/var/folders/rf/dqdwsk6s06ngm9b4j17fkb2r0000gn/T/ipykernel_73546/1480950782.py:1: DtypeWarning: Columns (13,20) have mixed types. Specify dtype option on import or set low_memory=False.\n",
      "  annuaire = pd.read_csv('data/PS_LibreAcces_Personne_activite_small.csv')\n"
     ]
    },
    {
     "data": {
      "text/plain": [
       "Index(['typedidentifiantpp', 'identifiantpp', 'codecivilitédexercice',\n",
       "       'nomdexercice', 'prénomdexercice', 'codeprofession',\n",
       "       'libelléprofession', 'codecatégorieprofessionnelle',\n",
       "       'libellécatégorieprofessionnelle', 'codemodeexercice',\n",
       "       'libellémodeexercice', 'complémentdestinatairecoordstruc',\n",
       "       'complémentpointgéographiquecoord', 'numérovoiecoordstructure',\n",
       "       'indicerépétitionvoiecoordstructu', 'codetypedevoiecoordstructure',\n",
       "       'libellétypedevoiecoordstructure', 'libellévoiecoordstructure',\n",
       "       'mentiondistributioncoordstructur', 'bureaucedexcoordstructure',\n",
       "       'codepostalcoordstructure', 'codecommunecoordstructure',\n",
       "       'libellécommunecoordstructure', 'codepayscoordstructure',\n",
       "       'libellépayscoordstructure', 'codedépartementstructure',\n",
       "       'libellédépartementstructure', 'codesecteurdactivité',\n",
       "       'libellésecteurdactivité', 'coderôle', 'libellérôle',\n",
       "       'codegenreactivité', 'libellégenreactivité'],\n",
       "      dtype='object')"
      ]
     },
     "execution_count": 114,
     "metadata": {},
     "output_type": "execute_result"
    }
   ],
   "source": [
    "annuaire = pd.read_csv('data/PS_LibreAcces_Personne_activite_small.csv')\n",
    "annuaire.columns"
   ]
  },
  {
   "cell_type": "code",
   "execution_count": 115,
   "metadata": {
    "vscode": {
     "languageId": "shellscript"
    }
   },
   "outputs": [],
   "source": [
    "liste_med = annuaire.merge(data_combined,how='outer',left_on='identifiantpp',right_on='RPPS')"
   ]
  },
  {
   "cell_type": "code",
   "execution_count": 116,
   "metadata": {
    "vscode": {
     "languageId": "shellscript"
    }
   },
   "outputs": [
    {
     "name": "stdout",
     "output_type": "stream",
     "text": [
      "636 1000 2056801\n"
     ]
    }
   ],
   "source": [
    "print(liste_med.shape[0]-annuaire.shape[0], data_combined.shape[0],annuaire.shape[0])"
   ]
  },
  {
   "cell_type": "code",
   "execution_count": 118,
   "metadata": {
    "vscode": {
     "languageId": "shellscript"
    }
   },
   "outputs": [
    {
     "data": {
      "text/plain": [
       "0      False\n",
       "1      False\n",
       "2      False\n",
       "3      False\n",
       "4      False\n",
       "       ...  \n",
       "995    False\n",
       "996    False\n",
       "997    False\n",
       "998     True\n",
       "999     True\n",
       "Name: RPPS, Length: 1000, dtype: bool"
      ]
     },
     "execution_count": 118,
     "metadata": {},
     "output_type": "execute_result"
    }
   ],
   "source": [
    "data_combined['RPPS'].isnull()"
   ]
  },
  {
   "cell_type": "markdown",
   "metadata": {},
   "source": [
    "Ouverture BAN"
   ]
  },
  {
   "cell_type": "code",
   "execution_count": 22,
   "metadata": {
    "vscode": {
     "languageId": "shellscript"
    }
   },
   "outputs": [
    {
     "name": "stderr",
     "output_type": "stream",
     "text": [
      "/var/folders/rf/dqdwsk6s06ngm9b4j17fkb2r0000gn/T/ipykernel_73546/259408599.py:1: DtypeWarning: Columns (5,8,9,15,16,21,23) have mixed types. Specify dtype option on import or set low_memory=False.\n",
      "  ban = pd.read_csv('data/adresses-france.csv')\n"
     ]
    },
    {
     "data": {
      "text/html": [
       "<div>\n",
       "<style scoped>\n",
       "    .dataframe tbody tr th:only-of-type {\n",
       "        vertical-align: middle;\n",
       "    }\n",
       "\n",
       "    .dataframe tbody tr th {\n",
       "        vertical-align: top;\n",
       "    }\n",
       "\n",
       "    .dataframe thead th {\n",
       "        text-align: right;\n",
       "    }\n",
       "</style>\n",
       "<table border=\"1\" class=\"dataframe\">\n",
       "  <thead>\n",
       "    <tr style=\"text-align: right;\">\n",
       "      <th></th>\n",
       "      <th>id</th>\n",
       "      <th>id_fantoir</th>\n",
       "      <th>numero</th>\n",
       "      <th>rep</th>\n",
       "      <th>nom_voie</th>\n",
       "      <th>code_postal</th>\n",
       "      <th>code_insee</th>\n",
       "      <th>nom_commune</th>\n",
       "      <th>code_insee_ancienne_commune</th>\n",
       "      <th>nom_ancienne_commune</th>\n",
       "      <th>...</th>\n",
       "      <th>type_position</th>\n",
       "      <th>alias</th>\n",
       "      <th>nom_ld</th>\n",
       "      <th>libelle_acheminement</th>\n",
       "      <th>nom_afnor</th>\n",
       "      <th>source_position</th>\n",
       "      <th>source_nom_voie</th>\n",
       "      <th>certification_commune</th>\n",
       "      <th>cad_parcelles</th>\n",
       "      <th>Unnamed: 23</th>\n",
       "    </tr>\n",
       "  </thead>\n",
       "  <tbody>\n",
       "    <tr>\n",
       "      <th>0</th>\n",
       "      <td>01001_4b50r5_00630</td>\n",
       "      <td>NaN</td>\n",
       "      <td>630</td>\n",
       "      <td>NaN</td>\n",
       "      <td>la Chèvre</td>\n",
       "      <td>1400</td>\n",
       "      <td>1001</td>\n",
       "      <td>L'Abergement-Clémenciat</td>\n",
       "      <td>NaN</td>\n",
       "      <td>NaN</td>\n",
       "      <td>...</td>\n",
       "      <td>segment</td>\n",
       "      <td>NaN</td>\n",
       "      <td>NaN</td>\n",
       "      <td>L'ABERGEMENT-CLEMENCIAT</td>\n",
       "      <td>LA CHEVRE</td>\n",
       "      <td>inconnue</td>\n",
       "      <td>inconnue</td>\n",
       "      <td>0</td>\n",
       "      <td>NaN</td>\n",
       "      <td>NaN</td>\n",
       "    </tr>\n",
       "    <tr>\n",
       "      <th>1</th>\n",
       "      <td>01001_g0ru02_00108</td>\n",
       "      <td>NaN</td>\n",
       "      <td>108</td>\n",
       "      <td>NaN</td>\n",
       "      <td>Clemencia</td>\n",
       "      <td>1400</td>\n",
       "      <td>1001</td>\n",
       "      <td>L'Abergement-Clémenciat</td>\n",
       "      <td>NaN</td>\n",
       "      <td>NaN</td>\n",
       "      <td>...</td>\n",
       "      <td>parcelle</td>\n",
       "      <td>NaN</td>\n",
       "      <td>NaN</td>\n",
       "      <td>L'ABERGEMENT-CLEMENCIAT</td>\n",
       "      <td>CLEMENCIA</td>\n",
       "      <td>cadastre</td>\n",
       "      <td>cadastre</td>\n",
       "      <td>0</td>\n",
       "      <td>01001000ZL0263</td>\n",
       "      <td>NaN</td>\n",
       "    </tr>\n",
       "    <tr>\n",
       "      <th>2</th>\n",
       "      <td>01001_ngzlqw_00009</td>\n",
       "      <td>NaN</td>\n",
       "      <td>9</td>\n",
       "      <td>NaN</td>\n",
       "      <td>Imp des Epis</td>\n",
       "      <td>1400</td>\n",
       "      <td>1001</td>\n",
       "      <td>L'Abergement-Clémenciat</td>\n",
       "      <td>NaN</td>\n",
       "      <td>NaN</td>\n",
       "      <td>...</td>\n",
       "      <td>NaN</td>\n",
       "      <td>NaN</td>\n",
       "      <td>NaN</td>\n",
       "      <td>L'ABERGEMENT-CLEMENCIAT</td>\n",
       "      <td>IMP DES EPIS</td>\n",
       "      <td>arcep</td>\n",
       "      <td>arcep</td>\n",
       "      <td>0</td>\n",
       "      <td>NaN</td>\n",
       "      <td>NaN</td>\n",
       "    </tr>\n",
       "    <tr>\n",
       "      <th>3</th>\n",
       "      <td>01001_ngzlqw_00023</td>\n",
       "      <td>NaN</td>\n",
       "      <td>23</td>\n",
       "      <td>NaN</td>\n",
       "      <td>Imp des Epis</td>\n",
       "      <td>1400</td>\n",
       "      <td>1001</td>\n",
       "      <td>L'Abergement-Clémenciat</td>\n",
       "      <td>NaN</td>\n",
       "      <td>NaN</td>\n",
       "      <td>...</td>\n",
       "      <td>NaN</td>\n",
       "      <td>NaN</td>\n",
       "      <td>NaN</td>\n",
       "      <td>L'ABERGEMENT-CLEMENCIAT</td>\n",
       "      <td>IMP DES EPIS</td>\n",
       "      <td>arcep</td>\n",
       "      <td>arcep</td>\n",
       "      <td>0</td>\n",
       "      <td>NaN</td>\n",
       "      <td>NaN</td>\n",
       "    </tr>\n",
       "    <tr>\n",
       "      <th>4</th>\n",
       "      <td>01001_ngzlqw_00026</td>\n",
       "      <td>NaN</td>\n",
       "      <td>26</td>\n",
       "      <td>NaN</td>\n",
       "      <td>Imp des Epis</td>\n",
       "      <td>1400</td>\n",
       "      <td>1001</td>\n",
       "      <td>L'Abergement-Clémenciat</td>\n",
       "      <td>NaN</td>\n",
       "      <td>NaN</td>\n",
       "      <td>...</td>\n",
       "      <td>NaN</td>\n",
       "      <td>NaN</td>\n",
       "      <td>NaN</td>\n",
       "      <td>L'ABERGEMENT-CLEMENCIAT</td>\n",
       "      <td>IMP DES EPIS</td>\n",
       "      <td>arcep</td>\n",
       "      <td>arcep</td>\n",
       "      <td>0</td>\n",
       "      <td>NaN</td>\n",
       "      <td>NaN</td>\n",
       "    </tr>\n",
       "  </tbody>\n",
       "</table>\n",
       "<p>5 rows × 24 columns</p>\n",
       "</div>"
      ],
      "text/plain": [
       "                   id id_fantoir  numero  rep      nom_voie code_postal  \\\n",
       "0  01001_4b50r5_00630        NaN     630  NaN     la Chèvre        1400   \n",
       "1  01001_g0ru02_00108        NaN     108  NaN     Clemencia        1400   \n",
       "2  01001_ngzlqw_00009        NaN       9  NaN  Imp des Epis        1400   \n",
       "3  01001_ngzlqw_00023        NaN      23  NaN  Imp des Epis        1400   \n",
       "4  01001_ngzlqw_00026        NaN      26  NaN  Imp des Epis        1400   \n",
       "\n",
       "   code_insee              nom_commune code_insee_ancienne_commune  \\\n",
       "0        1001  L'Abergement-Clémenciat                         NaN   \n",
       "1        1001  L'Abergement-Clémenciat                         NaN   \n",
       "2        1001  L'Abergement-Clémenciat                         NaN   \n",
       "3        1001  L'Abergement-Clémenciat                         NaN   \n",
       "4        1001  L'Abergement-Clémenciat                         NaN   \n",
       "\n",
       "  nom_ancienne_commune  ...  type_position  alias  nom_ld  \\\n",
       "0                  NaN  ...        segment    NaN     NaN   \n",
       "1                  NaN  ...       parcelle    NaN     NaN   \n",
       "2                  NaN  ...            NaN    NaN     NaN   \n",
       "3                  NaN  ...            NaN    NaN     NaN   \n",
       "4                  NaN  ...            NaN    NaN     NaN   \n",
       "\n",
       "      libelle_acheminement     nom_afnor source_position source_nom_voie  \\\n",
       "0  L'ABERGEMENT-CLEMENCIAT     LA CHEVRE        inconnue        inconnue   \n",
       "1  L'ABERGEMENT-CLEMENCIAT     CLEMENCIA        cadastre        cadastre   \n",
       "2  L'ABERGEMENT-CLEMENCIAT  IMP DES EPIS           arcep           arcep   \n",
       "3  L'ABERGEMENT-CLEMENCIAT  IMP DES EPIS           arcep           arcep   \n",
       "4  L'ABERGEMENT-CLEMENCIAT  IMP DES EPIS           arcep           arcep   \n",
       "\n",
       "  certification_commune   cad_parcelles Unnamed: 23  \n",
       "0                     0             NaN         NaN  \n",
       "1                     0  01001000ZL0263         NaN  \n",
       "2                     0             NaN         NaN  \n",
       "3                     0             NaN         NaN  \n",
       "4                     0             NaN         NaN  \n",
       "\n",
       "[5 rows x 24 columns]"
      ]
     },
     "execution_count": 22,
     "metadata": {},
     "output_type": "execute_result"
    }
   ],
   "source": [
    "ban = pd.read_csv('data/adresses-france.csv')\n",
    "ban.head()"
   ]
  }
 ],
 "metadata": {
  "kernelspec": {
   "display_name": "Python 3",
   "language": "python",
   "name": "python3"
  },
  "language_info": {
   "codemirror_mode": {
    "name": "ipython",
    "version": 3
   },
   "file_extension": ".py",
   "mimetype": "text/x-python",
   "name": "python",
   "nbconvert_exporter": "python",
   "pygments_lexer": "ipython3",
   "version": "3.11.4"
  }
 },
 "nbformat": 4,
 "nbformat_minor": 2
}
