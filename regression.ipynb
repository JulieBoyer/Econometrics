{
 "cells": [
  {
   "cell_type": "markdown",
   "metadata": {},
   "source": [
    "# Step 0 : We import the necessary modules and files"
   ]
  },
  {
   "cell_type": "code",
   "execution_count": 8,
   "metadata": {},
   "outputs": [],
   "source": [
    "import numpy as np\n",
    "from scipy.stats import entropy\n",
    "import pandas as pd\n",
    "import math\n",
    "import matplotlib.pyplot as plt\n",
    "import wooldridge as woo\n",
    "import statsmodels.formula.api as smf"
   ]
  },
  {
   "cell_type": "code",
   "execution_count": 9,
   "metadata": {},
   "outputs": [],
   "source": [
    "dataFF_red_norm01 = pd.read_csv('dataFF_red_norm01.csv')\n",
    "dataFF_red_norm_gauss = pd.read_csv('dataFF_red_norm_gauss.csv')"
   ]
  },
  {
   "cell_type": "markdown",
   "metadata": {},
   "source": [
    "# Step 1 : We run first regressions"
   ]
  },
  {
   "cell_type": "code",
   "execution_count": 10,
   "metadata": {},
   "outputs": [
    {
     "name": "stdout",
     "output_type": "stream",
     "text": [
      "b: \n",
      "Intercept     -0.330156\n",
      "Nb_doct_8km    4.493449\n",
      "dtype: float64\n",
      "\n"
     ]
    },
    {
     "data": {
      "text/plain": [
       "Text(0.5, 0, 'nbDoc8km')"
      ]
     },
     "execution_count": 10,
     "metadata": {},
     "output_type": "execute_result"
    },
    {
     "data": {
      "image/png": "[encoded data removed]",
      "text/plain": [
       "<Figure size 640x480 with 1 Axes>"
      ]
     },
     "metadata": {},
     "output_type": "display_data"
    }
   ],
   "source": [
    "reg = smf.ols(formula='sum~ Nb_doct_8km', data=dataFF_red_norm_gauss)\n",
    "results = reg.fit()\n",
    "b = results.params\n",
    "print(f'b: \\n{b}\\n')\n",
    "\n",
    "# scatter plot and fitted values:\n",
    "plt.plot('Nb_doct_8km', \"sum\", data=dataFF_red_norm_gauss, color='grey', marker='o', linestyle='')\n",
    "plt.plot(dataFF_red_norm_gauss['Nb_doct_8km'], results.fittedvalues, color='black', linestyle='-')\n",
    "plt.ylabel('sum')\n",
    "plt.xlabel('nbDoc8km')"
   ]
  },
  {
   "cell_type": "code",
   "execution_count": 11,
   "metadata": {},
   "outputs": [
    {
     "name": "stdout",
     "output_type": "stream",
     "text": [
      "results.summary(): \n",
      "                            OLS Regression Results                            \n",
      "==============================================================================\n",
      "Dep. Variable:                    sum   R-squared:                       0.005\n",
      "Model:                            OLS   Adj. R-squared:                  0.005\n",
      "Method:                 Least Squares   F-statistic:                     36.41\n",
      "Date:                Tue, 29 Oct 2024   Prob (F-statistic):           1.68e-09\n",
      "Time:                        14:02:41   Log-Likelihood:                -25145.\n",
      "No. Observations:                6873   AIC:                         5.029e+04\n",
      "Df Residuals:                    6871   BIC:                         5.031e+04\n",
      "Df Model:                           1                                         \n",
      "Covariance Type:            nonrobust                                         \n",
      "===============================================================================\n",
      "                  coef    std err          t      P>|t|      [0.025      0.975]\n",
      "-------------------------------------------------------------------------------\n",
      "Intercept      -0.3302      0.126     -2.625      0.009      -0.577      -0.084\n",
      "Nb_doct_8km     4.4934      0.745      6.034      0.000       3.034       5.953\n",
      "==============================================================================\n",
      "Omnibus:                      633.584   Durbin-Watson:                   0.963\n",
      "Prob(Omnibus):                  0.000   Jarque-Bera (JB):             2386.646\n",
      "Skew:                           0.414   Prob(JB):                         0.00\n",
      "Kurtosis:                       5.766   Cond. No.                         6.61\n",
      "==============================================================================\n",
      "\n",
      "Notes:\n",
      "[1] Standard Errors assume that the covariance matrix of the errors is correctly specified.\n",
      "\n",
      "table: \n",
      "                  b      se       t    pval\n",
      "Intercept   -0.3302  0.1258 -2.6245  0.0087\n",
      "Nb_doct_8km  4.4934  0.7447  6.0342  0.0000\n",
      "\n"
     ]
    }
   ],
   "source": [
    "# print results using summary:\n",
    "print(f'results.summary(): \\n{results.summary()}\\n')\n",
    "\n",
    "# print regression table:\n",
    "table = pd.DataFrame({'b': round(results.params, 4),\n",
    "                      'se': round(results.bse, 4),\n",
    "                      't': round(results.tvalues, 4),\n",
    "                      'pval': round(results.pvalues, 4)})\n",
    "print(f'table: \\n{table}\\n')"
   ]
  },
  {
   "cell_type": "code",
   "execution_count": 12,
   "metadata": {},
   "outputs": [
    {
     "name": "stdout",
     "output_type": "stream",
     "text": [
      "b: \n",
      "Intercept          -0.190482\n",
      "Nb_doct_2km      -284.340807\n",
      "Nb_doct_8km       -55.704942\n",
      "Nb_doct_30km       -0.752252\n",
      "Nb_doct_f_2km     518.731789\n",
      "Nb_doct_f_8km     128.579315\n",
      "Nb_doct_f_30km     -2.167043\n",
      "dtype: float64\n",
      "\n"
     ]
    }
   ],
   "source": [
    "reg = smf.ols(formula='sum~ Nb_doct_2km+Nb_doct_8km+Nb_doct_30km+Nb_doct_f_2km+Nb_doct_f_8km+Nb_doct_f_30km', data=dataFF_red_norm_gauss)\n",
    "results = reg.fit()\n",
    "b = results.params\n",
    "print(f'b: \\n{b}\\n')\n"
   ]
  },
  {
   "cell_type": "code",
   "execution_count": 13,
   "metadata": {},
   "outputs": [
    {
     "name": "stdout",
     "output_type": "stream",
     "text": [
      "results.summary(): \n",
      "                            OLS Regression Results                            \n",
      "==============================================================================\n",
      "Dep. Variable:                    sum   R-squared:                       0.012\n",
      "Model:                            OLS   Adj. R-squared:                  0.011\n",
      "Method:                 Least Squares   F-statistic:                     14.31\n",
      "Date:                Tue, 29 Oct 2024   Prob (F-statistic):           2.81e-16\n",
      "Time:                        14:02:41   Log-Likelihood:                -25121.\n",
      "No. Observations:                6873   AIC:                         5.026e+04\n",
      "Df Residuals:                    6866   BIC:                         5.030e+04\n",
      "Df Model:                           6                                         \n",
      "Covariance Type:            nonrobust                                         \n",
      "==================================================================================\n",
      "                     coef    std err          t      P>|t|      [0.025      0.975]\n",
      "----------------------------------------------------------------------------------\n",
      "Intercept         -0.1905      0.139     -1.373      0.170      -0.462       0.081\n",
      "Nb_doct_2km     -284.3408    105.317     -2.700      0.007    -490.796     -77.886\n",
      "Nb_doct_8km      -55.7049     28.889     -1.928      0.054    -112.336       0.926\n",
      "Nb_doct_30km      -0.7523      4.834     -0.156      0.876     -10.229       8.724\n",
      "Nb_doct_f_2km    518.7318    196.748      2.637      0.008     133.044     904.419\n",
      "Nb_doct_f_8km    128.5793     52.943      2.429      0.015      24.795     232.364\n",
      "Nb_doct_f_30km    -2.1670      9.025     -0.240      0.810     -19.858      15.524\n",
      "==============================================================================\n",
      "Omnibus:                      627.946   Durbin-Watson:                   0.972\n",
      "Prob(Omnibus):                  0.000   Jarque-Bera (JB):             2433.107\n",
      "Skew:                           0.399   Prob(JB):                         0.00\n",
      "Kurtosis:                       5.803   Cond. No.                     2.05e+03\n",
      "==============================================================================\n",
      "\n",
      "Notes:\n",
      "[1] Standard Errors assume that the covariance matrix of the errors is correctly specified.\n",
      "[2] The condition number is large, 2.05e+03. This might indicate that there are\n",
      "strong multicollinearity or other numerical problems.\n",
      "\n",
      "table: \n",
      "                       b        se       t    pval\n",
      "Intercept        -0.1905    0.1387 -1.3730  0.1698\n",
      "Nb_doct_2km    -284.3408  105.3174 -2.6998  0.0070\n",
      "Nb_doct_8km     -55.7049   28.8890 -1.9282  0.0539\n",
      "Nb_doct_30km     -0.7523    4.8343 -0.1556  0.8763\n",
      "Nb_doct_f_2km   518.7318  196.7482  2.6365  0.0084\n",
      "Nb_doct_f_8km   128.5793   52.9430  2.4286  0.0152\n",
      "Nb_doct_f_30km   -2.1670    9.0246 -0.2401  0.8102\n",
      "\n"
     ]
    }
   ],
   "source": [
    "# print results using summary:\n",
    "print(f'results.summary(): \\n{results.summary()}\\n')\n",
    "\n",
    "# print regression table:\n",
    "table = pd.DataFrame({'b': round(results.params, 4),\n",
    "                      'se': round(results.bse, 4),\n",
    "                      't': round(results.tvalues, 4),\n",
    "                      'pval': round(results.pvalues, 4)})\n",
    "print(f'table: \\n{table}\\n')\n",
    "#vote1.describe()"
   ]
  },
  {
   "cell_type": "code",
   "execution_count": 166,
   "metadata": {},
   "outputs": [
    {
     "name": "stdout",
     "output_type": "stream",
     "text": [
      "results.summary(): \n",
      "                            OLS Regression Results                            \n",
      "==============================================================================\n",
      "Dep. Variable:                    sum   R-squared:                       0.021\n",
      "Model:                            OLS   Adj. R-squared:                  0.020\n",
      "Method:                 Least Squares   F-statistic:                     33.84\n",
      "Date:                Fri, 25 Oct 2024   Prob (F-statistic):           5.57e-28\n",
      "Time:                        14:51:55   Log-Likelihood:                -23105.\n",
      "No. Observations:                6333   AIC:                         4.622e+04\n",
      "Df Residuals:                    6328   BIC:                         4.625e+04\n",
      "Df Model:                           4                                         \n",
      "Covariance Type:            nonrobust                                         \n",
      "==========================================================================================================================================\n",
      "                                                                             coef    std err          t      P>|t|      [0.025      0.975]\n",
      "------------------------------------------------------------------------------------------------------------------------------------------\n",
      "Intercept                                                                 -1.4140      0.501     -2.824      0.005      -2.395      -0.433\n",
      "share_F                                                                    0.1351      0.701      0.193      0.847      -1.239       1.509\n",
      "Population_standardisee_par_la_consommation_de_soins_par_tranche_d_age  1.672e-05   1.67e-06     10.040      0.000    1.35e-05       2e-05\n",
      "APL                                                                        0.0399      0.106      0.375      0.708      -0.168       0.248\n",
      "Nb_doct_D_8km                                                             92.6441     13.975      6.629      0.000      65.249     120.040\n",
      "==============================================================================\n",
      "Omnibus:                      546.789   Durbin-Watson:                   0.920\n",
      "Prob(Omnibus):                  0.000   Jarque-Bera (JB):             2234.281\n",
      "Skew:                           0.349   Prob(JB):                         0.00\n",
      "Kurtosis:                       5.825   Cond. No.                     1.04e+07\n",
      "==============================================================================\n",
      "\n",
      "Notes:\n",
      "[1] Standard Errors assume that the covariance matrix of the errors is correctly specified.\n",
      "[2] The condition number is large, 1.04e+07. This might indicate that there are\n",
      "strong multicollinearity or other numerical problems.\n",
      "\n",
      "table: \n",
      "                                                          b       se        t  \\\n",
      "Intercept                                           -1.4140   0.5007  -2.8242   \n",
      "share_F                                              0.1351   0.7010   0.1927   \n",
      "Population_standardisee_par_la_consommation_de_...   0.0000   0.0000  10.0403   \n",
      "APL                                                  0.0399   0.1063   0.3752   \n",
      "Nb_doct_D_8km                                       92.6441  13.9749   6.6293   \n",
      "\n",
      "                                                      pval  \n",
      "Intercept                                           0.0048  \n",
      "share_F                                             0.8472  \n",
      "Population_standardisee_par_la_consommation_de_...  0.0000  \n",
      "APL                                                 0.7075  \n",
      "Nb_doct_D_8km                                       0.0000  \n",
      "\n"
     ]
    }
   ],
   "source": [
    "reg = smf.ols(formula='sum~share_F+Population_standardisee_par_la_consommation_de_soins_par_tranche_d_age+APL+Nb_doct_D_8km', data=dataFF_red_norm_gauss)\n",
    "results = reg.fit()\n",
    "b = results.params\n",
    "#print(f'b: \\n{b}\\n')\n",
    "\n",
    "# print results using summary:\n",
    "print(f'results.summary(): \\n{results.summary()}\\n')\n",
    "\n",
    "# print regression table:\n",
    "table = pd.DataFrame({'b': round(results.params, 4),\n",
    "                      'se': round(results.bse, 4),\n",
    "                      't': round(results.tvalues, 4),\n",
    "                      'pval': round(results.pvalues, 4)})\n",
    "print(f'table: \\n{table}\\n')"
   ]
  },
  {
   "cell_type": "markdown",
   "metadata": {},
   "source": [
    "## Step 2 : We test the relevance of fibre-optic as an instrument "
   ]
  },
  {
   "cell_type": "code",
   "execution_count": 14,
   "metadata": {},
   "outputs": [
    {
     "data": {
      "text/plain": [
       "Index(['Unnamed: 0', 'Nb_Skills', 'Payment_method', 'Social_security_card',\n",
       "       'site', 'Nb_charac_presentation', 'Nb_languages', 'nb_charac_card_1',\n",
       "       'Transport', 'Parking', 'Contact', 'Without_appointment',\n",
       "       'nb_terms_card_0', 'nb_terms_card_3', 'nb_terms_card_4',\n",
       "       'nb_charac_card_0', 'nb_charac_card_3', 'nb_charac_card_4',\n",
       "       'National_&_university_degrees', 'Other_formations_b', 'Experiences_b',\n",
       "       'Formations_b', 'Work_&_publications_b', 'codecommunecoordstructure3',\n",
       "       'RPPS', 'Nb_price', 'Min_price', 'Max_price', 'Population',\n",
       "       'Superficie', 'Naissances', 'Deces', 'Logements', 'Ménages', 'MED14',\n",
       "       'Population_P_actif', 'Chomeurs', 'Actifs', 'share_F',\n",
       "       'Population standardisée par la consommation de soins par tranche d'âge',\n",
       "       'Sector', 'Nb_doct_2km', 'Nb_doct_8km', 'Nb_doct_30km', 'Nb_doct_f_2km',\n",
       "       'Nb_doct_f_8km', 'Nb_doct_f_30km', 'Nb_doct_D_2km', 'Nb_doct_D_8km',\n",
       "       'Nb_doct_D_30km', 'Nb_doct_f_D_2km', 'Nb_doct_f_D_8km',\n",
       "       'Nb_doct_f_D_30km', 'APL', 'Fibre', 'share_Doctolib'],\n",
       "      dtype='object')"
      ]
     },
     "execution_count": 14,
     "metadata": {},
     "output_type": "execute_result"
    }
   ],
   "source": [
    "dataFF_red_norm01.columns"
   ]
  },
  {
   "cell_type": "code",
   "execution_count": 15,
   "metadata": {},
   "outputs": [],
   "source": [
    "dataFF_red_norm01=dataFF_red_norm01.rename(columns={\"Population standardisée par la consommation de soins par tranche d'âge\": \"Population_standardisee_par_la_consommation_de_soins_par_tranche_d_age\"})\n",
    "dataFF_red_norm_gauss=dataFF_red_norm_gauss.rename(columns={\"Population standardisée par la consommation de soins par tranche d'âge\": \"Population_standardisee_par_la_consommation_de_soins_par_tranche_d_age\"})"
   ]
  },
  {
   "cell_type": "code",
   "execution_count": 16,
   "metadata": {},
   "outputs": [
    {
     "name": "stdout",
     "output_type": "stream",
     "text": [
      "b: \n",
      "Intercept                                                                 4.746567e-01\n",
      "Fibre                                                                    -2.834223e-01\n",
      "share_F                                                                  -1.480406e-02\n",
      "Population_standardisee_par_la_consommation_de_soins_par_tranche_d_age   -8.943065e-07\n",
      "dtype: float64\n",
      "\n"
     ]
    }
   ],
   "source": [
    "reg = smf.ols(formula='share_Doctolib~Fibre+share_F+Population_standardisee_par_la_consommation_de_soins_par_tranche_d_age', data=dataFF_red_norm01)\n",
    "results = reg.fit()\n",
    "b = results.params\n",
    "print(f'b: \\n{b}\\n')"
   ]
  },
  {
   "cell_type": "code",
   "execution_count": 17,
   "metadata": {},
   "outputs": [
    {
     "name": "stdout",
     "output_type": "stream",
     "text": [
      "results.summary(): \n",
      "                            OLS Regression Results                            \n",
      "==============================================================================\n",
      "Dep. Variable:         share_Doctolib   R-squared:                       0.157\n",
      "Model:                            OLS   Adj. R-squared:                  0.156\n",
      "Method:                 Least Squares   F-statistic:                     425.0\n",
      "Date:                Tue, 29 Oct 2024   Prob (F-statistic):          2.78e-253\n",
      "Time:                        14:02:42   Log-Likelihood:                 1617.3\n",
      "No. Observations:                6873   AIC:                            -3227.\n",
      "Df Residuals:                    6869   BIC:                            -3199.\n",
      "Df Model:                           3                                         \n",
      "Covariance Type:            nonrobust                                         \n",
      "==========================================================================================================================================\n",
      "                                                                             coef    std err          t      P>|t|      [0.025      0.975]\n",
      "------------------------------------------------------------------------------------------------------------------------------------------\n",
      "Intercept                                                                  0.4747      0.014     33.774      0.000       0.447       0.502\n",
      "Fibre                                                                     -0.2834      0.014    -20.454      0.000      -0.311      -0.256\n",
      "share_F                                                                   -0.0148      0.013     -1.097      0.273      -0.041       0.012\n",
      "Population_standardisee_par_la_consommation_de_soins_par_tranche_d_age -8.943e-07   3.27e-08    -27.339      0.000   -9.58e-07    -8.3e-07\n",
      "==============================================================================\n",
      "Omnibus:                     3257.343   Durbin-Watson:                   1.527\n",
      "Prob(Omnibus):                  0.000   Jarque-Bera (JB):            16981.267\n",
      "Skew:                           2.298   Prob(JB):                         0.00\n",
      "Kurtosis:                       9.179   Cond. No.                     7.10e+05\n",
      "==============================================================================\n",
      "\n",
      "Notes:\n",
      "[1] Standard Errors assume that the covariance matrix of the errors is correctly specified.\n",
      "[2] The condition number is large, 7.1e+05. This might indicate that there are\n",
      "strong multicollinearity or other numerical problems.\n",
      "\n",
      "table: \n",
      "                                                         b      se        t  \\\n",
      "Intercept                                           0.4747  0.0141  33.7737   \n",
      "Fibre                                              -0.2834  0.0139 -20.4545   \n",
      "share_F                                            -0.0148  0.0135  -1.0974   \n",
      "Population_standardisee_par_la_consommation_de_... -0.0000  0.0000 -27.3387   \n",
      "\n",
      "                                                      pval  \n",
      "Intercept                                           0.0000  \n",
      "Fibre                                               0.0000  \n",
      "share_F                                             0.2725  \n",
      "Population_standardisee_par_la_consommation_de_...  0.0000  \n",
      "\n",
      "\\begin{tabular}{lcccccc}\n",
      "\\toprule\n",
      " & b & se & t & pval \\\\\n",
      "\\midrule\n",
      "Intercept & 0.4747 & 0.0141 & 33.7737 & 0.0000 \\\\\n",
      "Fibre & -0.2834 & 0.0139 & -20.4545 & 0.0000 \\\\\n",
      "share_F & -0.0148 & 0.0135 & -1.0974 & 0.2725 \\\\\n",
      "Population_standardisee_par_la_consommation_de_soins_par_tranche_d_age & -0.0000 & 0.0000 & -27.3387 & 0.0000 \\\\\n",
      "\\bottomrule\n",
      "\\end{tabular}\n",
      "\n"
     ]
    }
   ],
   "source": [
    "# print results using summary:\n",
    "print(f'results.summary(): \\n{results.summary()}\\n')\n",
    "\n",
    "# print regression table:\n",
    "table = pd.DataFrame({'b': round(results.params, 4),\n",
    "                      'se': round(results.bse, 4),\n",
    "                      't': round(results.tvalues, 4),\n",
    "                      'pval': round(results.pvalues, 4)})\n",
    "print(f'table: \\n{table}\\n')\n",
    "\n",
    "latex_table = table.to_latex(index=True, header=True, column_format='lcccccc', float_format=\"%.4f\")\n",
    "\n",
    "print(latex_table)"
   ]
  },
  {
   "cell_type": "code",
   "execution_count": 18,
   "metadata": {},
   "outputs": [
    {
     "name": "stdout",
     "output_type": "stream",
     "text": [
      "\\begin{tabular}{lllll}\n",
      "\\toprule\n",
      " & 0 & 1 & 2 & 3 \\\\\n",
      "\\midrule\n",
      "0 & Model: & OLS & Adj. R-squared: & 0.156 \\\\\n",
      "1 & Dependent Variable: & share_Doctolib & AIC: & -3226.5281 \\\\\n",
      "2 & Date: & 2024-10-29 14:02 & BIC: & -3199.1866 \\\\\n",
      "3 & No. Observations: & 6873 & Log-Likelihood: & 1617.3 \\\\\n",
      "4 & Df Model: & 3 & F-statistic: & 425.0 \\\\\n",
      "5 & Df Residuals: & 6869 & Prob (F-statistic): & 2.78e-253 \\\\\n",
      "6 & R-squared: & 0.157 & Scale: & 0.036593 \\\\\n",
      "\\bottomrule\n",
      "\\end{tabular}\n",
      "\n"
     ]
    }
   ],
   "source": [
    "# Convertir en DataFrame\n",
    "summary_df = results.summary2().tables[0]  # La table des coefficients\n",
    "type(summary_df)\n",
    "# Générer le LaTeX à partir du DataFrame\n",
    "latex_table = summary_df.to_latex()\n",
    "\n",
    "# Afficher la table LaTeX\n",
    "print(latex_table)\n"
   ]
  },
  {
   "cell_type": "code",
   "execution_count": 19,
   "metadata": {},
   "outputs": [
    {
     "data": {
      "text/plain": [
       "Index(['Unnamed: 0', 'Nb_Skills', 'Payment_method', 'Social_security_card',\n",
       "       'site', 'Nb_charac_presentation', 'Nb_languages', 'nb_charac_card_1',\n",
       "       'Transport', 'Parking', 'Contact', 'Without_appointment',\n",
       "       'nb_terms_card_0', 'nb_terms_card_3', 'nb_terms_card_4',\n",
       "       'nb_charac_card_0', 'nb_charac_card_3', 'nb_charac_card_4',\n",
       "       'National_&_university_degrees', 'Other_formations_b', 'Experiences_b',\n",
       "       'Formations_b', 'Work_&_publications_b', 'codecommunecoordstructure3',\n",
       "       'RPPS', 'Nb_price', 'Min_price', 'Max_price', 'Population',\n",
       "       'Superficie', 'Naissances', 'Deces', 'Logements', 'Ménages', 'MED14',\n",
       "       'Population_P_actif', 'Chomeurs', 'Actifs', 'share_F',\n",
       "       'Population_standardisee_par_la_consommation_de_soins_par_tranche_d_age',\n",
       "       'Sector', 'Nb_doct_2km', 'Nb_doct_8km', 'Nb_doct_30km', 'Nb_doct_f_2km',\n",
       "       'Nb_doct_f_8km', 'Nb_doct_f_30km', 'Nb_doct_D_2km', 'Nb_doct_D_8km',\n",
       "       'Nb_doct_D_30km', 'Nb_doct_f_D_2km', 'Nb_doct_f_D_8km',\n",
       "       'Nb_doct_f_D_30km', 'APL', 'Fibre', 'share_Doctolib'],\n",
       "      dtype='object')"
      ]
     },
     "execution_count": 19,
     "metadata": {},
     "output_type": "execute_result"
    }
   ],
   "source": [
    "dataFF_red_norm01.columns"
   ]
  },
  {
   "cell_type": "markdown",
   "metadata": {},
   "source": [
    "# Step 3 :  We test the relevance of township’s parameters as an instrument "
   ]
  },
  {
   "cell_type": "code",
   "execution_count": 20,
   "metadata": {},
   "outputs": [
    {
     "name": "stdout",
     "output_type": "stream",
     "text": [
      "results.summary(): \n",
      "                             OLS Regression Results                             \n",
      "================================================================================\n",
      "Dep. Variable:     np.log(Nb_doct_30km)   R-squared:                       0.471\n",
      "Model:                              OLS   Adj. R-squared:                  0.470\n",
      "Method:                   Least Squares   F-statistic:                     470.1\n",
      "Date:                  Tue, 29 Oct 2024   Prob (F-statistic):               0.00\n",
      "Time:                          14:02:42   Log-Likelihood:                -10443.\n",
      "No. Observations:                  6873   AIC:                         2.091e+04\n",
      "Df Residuals:                      6859   BIC:                         2.101e+04\n",
      "Df Model:                            13                                         \n",
      "Covariance Type:              nonrobust                                         \n",
      "==========================================================================================================================================\n",
      "                                                                             coef    std err          t      P>|t|      [0.025      0.975]\n",
      "------------------------------------------------------------------------------------------------------------------------------------------\n",
      "Intercept                                                                -25.9889      0.978    -26.583      0.000     -27.905     -24.072\n",
      "Fibre                                                                     -0.4998      0.084     -5.958      0.000      -0.664      -0.335\n",
      "np.log(MED14)                                                              2.4076      0.098     24.481      0.000       2.215       2.600\n",
      "Superficie                                                                -0.0067      0.001    -10.367      0.000      -0.008      -0.005\n",
      "Ménages                                                                  9.17e-05   1.18e-05      7.782      0.000    6.86e-05       0.000\n",
      "Chomeurs                                                                   0.0001   2.01e-05      5.799      0.000     7.7e-05       0.000\n",
      "Actifs                                                                    -0.0001   9.42e-06    -11.862      0.000      -0.000   -9.32e-05\n",
      "Population_P_actif                                                     -1.581e-05   6.63e-06     -2.386      0.017   -2.88e-05   -2.82e-06\n",
      "Naissances                                                                 0.0015   9.96e-05     15.135      0.000       0.001       0.002\n",
      "Deces                                                                     -0.0035      0.000    -15.974      0.000      -0.004      -0.003\n",
      "Logements                                                               4.009e-05   5.12e-06      7.832      0.000    3.01e-05    5.01e-05\n",
      "share_F                                                                    0.2435      0.080      3.028      0.002       0.086       0.401\n",
      "Population_standardisee_par_la_consommation_de_soins_par_tranche_d_age -1.229e-05   3.22e-07    -38.206      0.000   -1.29e-05   -1.17e-05\n",
      "APL                                                                        0.0540      0.013      4.137      0.000       0.028       0.080\n",
      "==============================================================================\n",
      "Omnibus:                      190.201   Durbin-Watson:                   2.162\n",
      "Prob(Omnibus):                  0.000   Jarque-Bera (JB):              429.879\n",
      "Skew:                           0.127   Prob(JB):                     4.50e-94\n",
      "Kurtosis:                       4.199   Cond. No.                     6.28e+07\n",
      "==============================================================================\n",
      "\n",
      "Notes:\n",
      "[1] Standard Errors assume that the covariance matrix of the errors is correctly specified.\n",
      "[2] The condition number is large, 6.28e+07. This might indicate that there are\n",
      "strong multicollinearity or other numerical problems.\n",
      "\n",
      "table: \n",
      "                                                          b      se        t  \\\n",
      "Intercept                                          -25.9889  0.9776 -26.5833   \n",
      "Fibre                                               -0.4998  0.0839  -5.9584   \n",
      "np.log(MED14)                                        2.4076  0.0983  24.4805   \n",
      "Superficie                                          -0.0067  0.0006 -10.3667   \n",
      "Ménages                                              0.0001  0.0000   7.7815   \n",
      "Chomeurs                                             0.0001  0.0000   5.7986   \n",
      "Actifs                                              -0.0001  0.0000 -11.8621   \n",
      "Population_P_actif                                  -0.0000  0.0000  -2.3859   \n",
      "Naissances                                           0.0015  0.0001  15.1346   \n",
      "Deces                                               -0.0035  0.0002 -15.9741   \n",
      "Logements                                            0.0000  0.0000   7.8325   \n",
      "share_F                                              0.2435  0.0804   3.0278   \n",
      "Population_standardisee_par_la_consommation_de_...  -0.0000  0.0000 -38.2058   \n",
      "APL                                                  0.0540  0.0131   4.1372   \n",
      "\n",
      "                                                      pval  \n",
      "Intercept                                           0.0000  \n",
      "Fibre                                               0.0000  \n",
      "np.log(MED14)                                       0.0000  \n",
      "Superficie                                          0.0000  \n",
      "Ménages                                             0.0000  \n",
      "Chomeurs                                            0.0000  \n",
      "Actifs                                              0.0000  \n",
      "Population_P_actif                                  0.0171  \n",
      "Naissances                                          0.0000  \n",
      "Deces                                               0.0000  \n",
      "Logements                                           0.0000  \n",
      "share_F                                             0.0025  \n",
      "Population_standardisee_par_la_consommation_de_...  0.0000  \n",
      "APL                                                 0.0000  \n",
      "\n",
      "\\begin{tabular}{lcccccc}\n",
      "\\toprule\n",
      " & b & se & t & pval \\\\\n",
      "\\midrule\n",
      "Intercept & -25.9889 & 0.9776 & -26.5833 & 0.0000 \\\\\n",
      "Fibre & -0.4998 & 0.0839 & -5.9584 & 0.0000 \\\\\n",
      "np.log(MED14) & 2.4076 & 0.0983 & 24.4805 & 0.0000 \\\\\n",
      "Superficie & -0.0067 & 0.0006 & -10.3667 & 0.0000 \\\\\n",
      "Ménages & 0.0001 & 0.0000 & 7.7815 & 0.0000 \\\\\n",
      "Chomeurs & 0.0001 & 0.0000 & 5.7986 & 0.0000 \\\\\n",
      "Actifs & -0.0001 & 0.0000 & -11.8621 & 0.0000 \\\\\n",
      "Population_P_actif & -0.0000 & 0.0000 & -2.3859 & 0.0171 \\\\\n",
      "Naissances & 0.0015 & 0.0001 & 15.1346 & 0.0000 \\\\\n",
      "Deces & -0.0035 & 0.0002 & -15.9741 & 0.0000 \\\\\n",
      "Logements & 0.0000 & 0.0000 & 7.8325 & 0.0000 \\\\\n",
      "share_F & 0.2435 & 0.0804 & 3.0278 & 0.0025 \\\\\n",
      "Population_standardisee_par_la_consommation_de_soins_par_tranche_d_age & -0.0000 & 0.0000 & -38.2058 & 0.0000 \\\\\n",
      "APL & 0.0540 & 0.0131 & 4.1372 & 0.0000 \\\\\n",
      "\\bottomrule\n",
      "\\end{tabular}\n",
      "\n"
     ]
    }
   ],
   "source": [
    "reg = smf.ols(formula='np.log(Nb_doct_30km)~Fibre+np.log(MED14)+Superficie+Ménages+Chomeurs+Actifs+Population_P_actif+Naissances+Deces+Logements+share_F+Population_standardisee_par_la_consommation_de_soins_par_tranche_d_age+APL', data=dataFF_red_norm01)\n",
    "results = reg.fit()\n",
    "b = results.params\n",
    "#print(f'b: \\n{b}\\n')\n",
    "\n",
    "# print results using summary:\n",
    "print(f'results.summary(): \\n{results.summary()}\\n')\n",
    "\n",
    "# print regression table:\n",
    "table = pd.DataFrame({'b': round(results.params, 4),\n",
    "                      'se': round(results.bse, 4),\n",
    "                      't': round(results.tvalues, 4),\n",
    "                      'pval': round(results.pvalues, 4)})\n",
    "print(f'table: \\n{table}\\n')\n",
    "\n",
    "latex_table = table.to_latex(index=True, header=True, column_format='lcccccc', float_format=\"%.4f\")\n",
    "\n",
    "print(latex_table)\n"
   ]
  },
  {
   "cell_type": "code",
   "execution_count": 21,
   "metadata": {},
   "outputs": [
    {
     "name": "stdout",
     "output_type": "stream",
     "text": [
      "results.summary(): \n",
      "                            OLS Regression Results                            \n",
      "==============================================================================\n",
      "Dep. Variable:           Nb_doct_30km   R-squared:                       0.086\n",
      "Model:                            OLS   Adj. R-squared:                  0.086\n",
      "Method:                 Least Squares   F-statistic:                     162.0\n",
      "Date:                Tue, 29 Oct 2024   Prob (F-statistic):          9.78e-133\n",
      "Time:                        14:02:42   Log-Likelihood:                -745.94\n",
      "No. Observations:                6873   AIC:                             1502.\n",
      "Df Residuals:                    6868   BIC:                             1536.\n",
      "Df Model:                           4                                         \n",
      "Covariance Type:            nonrobust                                         \n",
      "==========================================================================================================================================\n",
      "                                                                             coef    std err          t      P>|t|      [0.025      0.975]\n",
      "------------------------------------------------------------------------------------------------------------------------------------------\n",
      "Intercept                                                                 -0.0059      0.022     -0.269      0.788      -0.049       0.037\n",
      "Fibre                                                                      0.0581      0.020      2.972      0.003       0.020       0.096\n",
      "share_F                                                                    0.1628      0.019      8.507      0.000       0.125       0.200\n",
      "Population_standardisee_par_la_consommation_de_soins_par_tranche_d_age -1.116e-06    4.7e-08    -23.734      0.000   -1.21e-06   -1.02e-06\n",
      "APL                                                                        0.0270      0.003      9.223      0.000       0.021       0.033\n",
      "==============================================================================\n",
      "Omnibus:                     7594.310   Durbin-Watson:                   1.822\n",
      "Prob(Omnibus):                  0.000   Jarque-Bera (JB):           992357.443\n",
      "Skew:                           5.500   Prob(JB):                         0.00\n",
      "Kurtosis:                      60.829   Cond. No.                     7.30e+05\n",
      "==============================================================================\n",
      "\n",
      "Notes:\n",
      "[1] Standard Errors assume that the covariance matrix of the errors is correctly specified.\n",
      "[2] The condition number is large, 7.3e+05. This might indicate that there are\n",
      "strong multicollinearity or other numerical problems.\n",
      "\n",
      "table: \n",
      "                                                         b      se        t  \\\n",
      "Intercept                                          -0.0059  0.0219  -0.2694   \n",
      "Fibre                                               0.0581  0.0195   2.9716   \n",
      "share_F                                             0.1628  0.0191   8.5071   \n",
      "Population_standardisee_par_la_consommation_de_... -0.0000  0.0000 -23.7338   \n",
      "APL                                                 0.0270  0.0029   9.2234   \n",
      "\n",
      "                                                      pval  \n",
      "Intercept                                           0.7876  \n",
      "Fibre                                               0.0030  \n",
      "share_F                                             0.0000  \n",
      "Population_standardisee_par_la_consommation_de_...  0.0000  \n",
      "APL                                                 0.0000  \n",
      "\n"
     ]
    }
   ],
   "source": [
    "reg = smf.ols(formula='Nb_doct_30km~Fibre+share_F+Population_standardisee_par_la_consommation_de_soins_par_tranche_d_age+APL', data=dataFF_red_norm01)\n",
    "results = reg.fit()\n",
    "b = results.params\n",
    "#print(f'b: \\n{b}\\n')\n",
    "\n",
    "# print results using summary:\n",
    "print(f'results.summary(): \\n{results.summary()}\\n')\n",
    "\n",
    "# print regression table:\n",
    "table = pd.DataFrame({'b': round(results.params, 4),\n",
    "                      'se': round(results.bse, 4),\n",
    "                      't': round(results.tvalues, 4),\n",
    "                      'pval': round(results.pvalues, 4)})\n",
    "print(f'table: \\n{table}\\n')"
   ]
  },
  {
   "cell_type": "code",
   "execution_count": 22,
   "metadata": {},
   "outputs": [],
   "source": [
    "#dataFF_red_norm_gauss['MED14']=dataFF_red_norm_gauss['MED14'].apply(lambda x : float(x.replace(',','.')))"
   ]
  },
  {
   "cell_type": "code",
   "execution_count": 23,
   "metadata": {},
   "outputs": [
    {
     "name": "stdout",
     "output_type": "stream",
     "text": [
      "results.summary(): \n",
      "                            OLS Regression Results                            \n",
      "==============================================================================\n",
      "Dep. Variable:         Nb_doct_D_30km   R-squared:                       0.145\n",
      "Model:                            OLS   Adj. R-squared:                  0.145\n",
      "Method:                 Least Squares   F-statistic:                     233.4\n",
      "Date:                Tue, 29 Oct 2024   Prob (F-statistic):          8.31e-231\n",
      "Time:                        14:02:42   Log-Likelihood:                 18918.\n",
      "No. Observations:                6873   AIC:                        -3.782e+04\n",
      "Df Residuals:                    6867   BIC:                        -3.778e+04\n",
      "Df Model:                           5                                         \n",
      "Covariance Type:            nonrobust                                         \n",
      "==========================================================================================================================================\n",
      "                                                                             coef    std err          t      P>|t|      [0.025      0.975]\n",
      "------------------------------------------------------------------------------------------------------------------------------------------\n",
      "Intercept                                                                 -0.0197      0.001    -13.174      0.000      -0.023      -0.017\n",
      "Fibre                                                                      0.0009      0.001      0.759      0.448      -0.001       0.003\n",
      "share_F                                                                    0.0058      0.001      5.193      0.000       0.004       0.008\n",
      "Population_standardisee_par_la_consommation_de_soins_par_tranche_d_age -4.827e-08   2.77e-09    -17.431      0.000   -5.37e-08   -4.28e-08\n",
      "APL                                                                        0.0012      0.000      7.084      0.000       0.001       0.002\n",
      "MED14                                                                   1.132e-06   4.94e-08     22.910      0.000    1.03e-06    1.23e-06\n",
      "==============================================================================\n",
      "Omnibus:                     8765.708   Durbin-Watson:                   1.858\n",
      "Prob(Omnibus):                  0.000   Jarque-Bera (JB):          2587698.629\n",
      "Skew:                           6.819   Prob(JB):                         0.00\n",
      "Kurtosis:                      97.075   Cond. No.                     7.75e+05\n",
      "==============================================================================\n",
      "\n",
      "Notes:\n",
      "[1] Standard Errors assume that the covariance matrix of the errors is correctly specified.\n",
      "[2] The condition number is large, 7.75e+05. This might indicate that there are\n",
      "strong multicollinearity or other numerical problems.\n",
      "\n",
      "table: \n",
      "                                                         b      se        t  \\\n",
      "Intercept                                          -0.0197  0.0015 -13.1738   \n",
      "Fibre                                               0.0009  0.0011   0.7587   \n",
      "share_F                                             0.0058  0.0011   5.1926   \n",
      "Population_standardisee_par_la_consommation_de_... -0.0000  0.0000 -17.4312   \n",
      "APL                                                 0.0012  0.0002   7.0837   \n",
      "MED14                                               0.0000  0.0000  22.9103   \n",
      "\n",
      "                                                      pval  \n",
      "Intercept                                           0.0000  \n",
      "Fibre                                               0.4481  \n",
      "share_F                                             0.0000  \n",
      "Population_standardisee_par_la_consommation_de_...  0.0000  \n",
      "APL                                                 0.0000  \n",
      "MED14                                               0.0000  \n",
      "\n",
      "\\begin{tabular}{lcccccc}\n",
      "\\toprule\n",
      " & b & se & t & pval \\\\\n",
      "\\midrule\n",
      "Intercept & -0.0197 & 0.0015 & -13.1738 & 0.0000 \\\\\n",
      "Fibre & 0.0009 & 0.0011 & 0.7587 & 0.4481 \\\\\n",
      "share_F & 0.0058 & 0.0011 & 5.1926 & 0.0000 \\\\\n",
      "Population_standardisee_par_la_consommation_de_soins_par_tranche_d_age & -0.0000 & 0.0000 & -17.4312 & 0.0000 \\\\\n",
      "APL & 0.0012 & 0.0002 & 7.0837 & 0.0000 \\\\\n",
      "MED14 & 0.0000 & 0.0000 & 22.9103 & 0.0000 \\\\\n",
      "\\bottomrule\n",
      "\\end{tabular}\n",
      "\n"
     ]
    }
   ],
   "source": [
    "reg = smf.ols(formula='Nb_doct_D_30km~Fibre+share_F+Population_standardisee_par_la_consommation_de_soins_par_tranche_d_age+APL+MED14', data=dataFF_red_norm01)\n",
    "results = reg.fit()\n",
    "b = results.params\n",
    "#print(f'b: \\n{b}\\n')\n",
    "\n",
    "# print results using summary:\n",
    "print(f'results.summary(): \\n{results.summary()}\\n')\n",
    "\n",
    "# print regression table:\n",
    "table = pd.DataFrame({'b': round(results.params, 4),\n",
    "                      'se': round(results.bse, 4),\n",
    "                      't': round(results.tvalues, 4),\n",
    "                      'pval': round(results.pvalues, 4)})\n",
    "print(f'table: \\n{table}\\n')\n",
    "\n",
    "latex_table = table.to_latex(index=True, header=True, column_format='lcccccc', float_format=\"%.4f\")\n",
    "\n",
    "print(latex_table)"
   ]
  },
  {
   "cell_type": "code",
   "execution_count": 24,
   "metadata": {},
   "outputs": [
    {
     "name": "stdout",
     "output_type": "stream",
     "text": [
      "\\begin{tabular}{lllll}\n",
      "\\toprule\n",
      " & 0 & 1 & 2 & 3 \\\\\n",
      "\\midrule\n",
      "0 & Model: & OLS & Adj. R-squared: & 0.145 \\\\\n",
      "1 & Dependent Variable: & Nb_doct_D_30km & AIC: & -37823.3537 \\\\\n",
      "2 & Date: & 2024-10-29 14:02 & BIC: & -37782.3416 \\\\\n",
      "3 & No. Observations: & 6873 & Log-Likelihood: & 18918. \\\\\n",
      "4 & Df Model: & 5 & F-statistic: & 233.4 \\\\\n",
      "5 & Df Residuals: & 6867 & Prob (F-statistic): & 8.31e-231 \\\\\n",
      "6 & R-squared: & 0.145 & Scale: & 0.00023831 \\\\\n",
      "\\bottomrule\n",
      "\\end{tabular}\n",
      "\n"
     ]
    }
   ],
   "source": [
    "# Convertir en DataFrame\n",
    "summary_df = results.summary2().tables[0]  # La table des coefficients\n",
    "type(summary_df)\n",
    "# Générer le LaTeX à partir du DataFrame\n",
    "latex_table = summary_df.to_latex()\n",
    "\n",
    "# Afficher la table LaTeX\n",
    "print(latex_table)"
   ]
  },
  {
   "cell_type": "code",
   "execution_count": 25,
   "metadata": {},
   "outputs": [
    {
     "name": "stdout",
     "output_type": "stream",
     "text": [
      "results.summary(): \n",
      "                            OLS Regression Results                            \n",
      "==============================================================================\n",
      "Dep. Variable:         Nb_doct_D_30km   R-squared:                       0.145\n",
      "Model:                            OLS   Adj. R-squared:                  0.145\n",
      "Method:                 Least Squares   F-statistic:                     291.6\n",
      "Date:                Tue, 29 Oct 2024   Prob (F-statistic):          6.09e-232\n",
      "Time:                        14:02:42   Log-Likelihood:                 18917.\n",
      "No. Observations:                6873   AIC:                        -3.782e+04\n",
      "Df Residuals:                    6868   BIC:                        -3.779e+04\n",
      "Df Model:                           4                                         \n",
      "Covariance Type:            nonrobust                                         \n",
      "==========================================================================================================================================\n",
      "                                                                             coef    std err          t      P>|t|      [0.025      0.975]\n",
      "------------------------------------------------------------------------------------------------------------------------------------------\n",
      "Intercept                                                                 -0.0191      0.001    -15.455      0.000      -0.022      -0.017\n",
      "share_F                                                                    0.0058      0.001      5.197      0.000       0.004       0.008\n",
      "Population_standardisee_par_la_consommation_de_soins_par_tranche_d_age -4.804e-08   2.75e-09    -17.452      0.000   -5.34e-08   -4.26e-08\n",
      "APL                                                                        0.0012      0.000      7.072      0.000       0.001       0.002\n",
      "MED14                                                                   1.137e-06   4.89e-08     23.261      0.000    1.04e-06    1.23e-06\n",
      "==============================================================================\n",
      "Omnibus:                     8765.820   Durbin-Watson:                   1.858\n",
      "Prob(Omnibus):                  0.000   Jarque-Bera (JB):          2588493.439\n",
      "Skew:                           6.819   Prob(JB):                         0.00\n",
      "Kurtosis:                      97.090   Cond. No.                     6.05e+05\n",
      "==============================================================================\n",
      "\n",
      "Notes:\n",
      "[1] Standard Errors assume that the covariance matrix of the errors is correctly specified.\n",
      "[2] The condition number is large, 6.05e+05. This might indicate that there are\n",
      "strong multicollinearity or other numerical problems.\n",
      "\n",
      "table: \n",
      "                                                         b      se        t  \\\n",
      "Intercept                                          -0.0191  0.0012 -15.4547   \n",
      "share_F                                             0.0058  0.0011   5.1972   \n",
      "Population_standardisee_par_la_consommation_de_... -0.0000  0.0000 -17.4522   \n",
      "APL                                                 0.0012  0.0002   7.0721   \n",
      "MED14                                               0.0000  0.0000  23.2613   \n",
      "\n",
      "                                                    pval  \n",
      "Intercept                                            0.0  \n",
      "share_F                                              0.0  \n",
      "Population_standardisee_par_la_consommation_de_...   0.0  \n",
      "APL                                                  0.0  \n",
      "MED14                                                0.0  \n",
      "\n"
     ]
    }
   ],
   "source": [
    "reg = smf.ols(formula='Nb_doct_D_30km~share_F+Population_standardisee_par_la_consommation_de_soins_par_tranche_d_age+APL+MED14', data=dataFF_red_norm01)\n",
    "results = reg.fit()\n",
    "b = results.params\n",
    "#print(f'b: \\n{b}\\n')\n",
    "\n",
    "# print results using summary:\n",
    "print(f'results.summary(): \\n{results.summary()}\\n')\n",
    "\n",
    "# print regression table:\n",
    "table = pd.DataFrame({'b': round(results.params, 4),\n",
    "                      'se': round(results.bse, 4),\n",
    "                      't': round(results.tvalues, 4),\n",
    "                      'pval': round(results.pvalues, 4)})\n",
    "print(f'table: \\n{table}\\n')"
   ]
  },
  {
   "cell_type": "code",
   "execution_count": 26,
   "metadata": {},
   "outputs": [
    {
     "data": {
      "text/plain": [
       "Index(['Unnamed: 0', 'Nb_Skills', 'Payment_method', 'Social_security_card',\n",
       "       'site', 'Nb_charac_presentation', 'Nb_languages', 'nb_charac_card_1',\n",
       "       'Transport', 'Parking', 'Contact', 'Without_appointment',\n",
       "       'nb_terms_card_0', 'nb_terms_card_3', 'nb_terms_card_4',\n",
       "       'nb_charac_card_0', 'nb_charac_card_3', 'nb_charac_card_4',\n",
       "       'National_&_university_degrees', 'Other_formations_b', 'Experiences_b',\n",
       "       'Formations_b', 'Work_&_publications_b', 'codecommunecoordstructure3',\n",
       "       'RPPS', 'Nb_price', 'Min_price', 'Max_price', 'share_F', 'Population',\n",
       "       'Superficie', 'Naissances', 'Deces', 'Logements', 'Ménages', 'MED14',\n",
       "       'Population_P_actif', 'Chomeurs', 'Actifs',\n",
       "       'Population_standardisee_par_la_consommation_de_soins_par_tranche_d_age',\n",
       "       'MED14.1', 'Sector', 'Nb_doct_2km', 'Nb_doct_8km', 'Nb_doct_30km',\n",
       "       'Nb_doct_f_2km', 'Nb_doct_f_8km', 'Nb_doct_f_30km', 'Nb_doct_D_2km',\n",
       "       'Nb_doct_D_8km', 'Nb_doct_D_30km', 'Nb_doct_f_D_2km', 'Nb_doct_f_D_8km',\n",
       "       'Nb_doct_f_D_30km', 'APL', 'Fibre', 'share_Doctolib', 'sum'],\n",
       "      dtype='object')"
      ]
     },
     "execution_count": 26,
     "metadata": {},
     "output_type": "execute_result"
    }
   ],
   "source": [
    "dataFF_red_norm_gauss.columns"
   ]
  },
  {
   "cell_type": "code",
   "execution_count": 27,
   "metadata": {},
   "outputs": [
    {
     "data": {
      "text/plain": [
       "Index(['Unnamed: 0', 'Nb_Skills', 'Payment_method', 'Social_security_card',\n",
       "       'site', 'Nb_charac_presentation', 'Nb_languages', 'nb_charac_card_1',\n",
       "       'Transport', 'Parking', 'Contact', 'Without_appointment',\n",
       "       'nb_terms_card_0', 'nb_terms_card_3', 'nb_terms_card_4',\n",
       "       'nb_charac_card_0', 'nb_charac_card_3', 'nb_charac_card_4',\n",
       "       'National_&_university_degrees', 'Other_formations_b', 'Experiences_b',\n",
       "       'Formations_b', 'Work_&_publications_b', 'codecommunecoordstructure3',\n",
       "       'RPPS', 'Nb_price', 'Min_price', 'Max_price', 'share_F', 'Population',\n",
       "       'Superficie', 'Naissances', 'Deces', 'Logements', 'Ménages', 'MED14',\n",
       "       'Population_P_actif', 'Chomeurs', 'Actifs',\n",
       "       'Population_standardisee_par_la_consommation_de_soins_par_tranche_d_age',\n",
       "       'MED14.1', 'Sector', 'Nb_doct_2km', 'Nb_doct_8km', 'Nb_doct_30km',\n",
       "       'Nb_doct_f_2km', 'Nb_doct_f_8km', 'Nb_doct_f_30km', 'Nb_doct_D_2km',\n",
       "       'Nb_doct_D_8km', 'Nb_doct_D_30km', 'Nb_doct_f_D_2km', 'Nb_doct_f_D_8km',\n",
       "       'Nb_doct_f_D_30km', 'APL', 'Fibre', 'share_Doctolib', 'sum'],\n",
       "      dtype='object')"
      ]
     },
     "execution_count": 27,
     "metadata": {},
     "output_type": "execute_result"
    }
   ],
   "source": [
    "dataFF_red_norm_gauss.columns\n"
   ]
  },
  {
   "cell_type": "markdown",
   "metadata": {},
   "source": [
    "# Step 4 : we run automatic IV regression"
   ]
  },
  {
   "cell_type": "code",
   "execution_count": 28,
   "metadata": {},
   "outputs": [
    {
     "name": "stdout",
     "output_type": "stream",
     "text": [
      "table_iv: \n",
      "                                                     b_auto  se_auto   t_auto\n",
      "Intercept                                          -16.9565   1.2519 -13.5445\n",
      "share_F                                             -1.6312   0.6694  -2.4368\n",
      "np.log(Population_standardisee_par_la_consommat...   1.6480   0.1273  12.9445\n",
      "APL                                                 -0.0164   0.1097  -0.1497\n",
      "Nb_doct_30km                                        10.3586   1.2864   8.0523\n",
      "\n",
      "\\begin{tabular}{lrrr}\n",
      "\\toprule\n",
      " & b_auto & se_auto & t_auto \\\\\n",
      "\\midrule\n",
      "Intercept & -16.9565 & 1.2519 & -13.5445 \\\\\n",
      "share_F & -1.6312 & 0.6694 & -2.4368 \\\\\n",
      "np.log(Population_standardisee_par_la_consommation_de_soins_par_tranche_d_age) & 1.6480 & 0.1273 & 12.9445 \\\\\n",
      "APL & -0.0164 & 0.1097 & -0.1497 \\\\\n",
      "Nb_doct_30km & 10.3586 & 1.2864 & 8.0523 \\\\\n",
      "\\bottomrule\n",
      "\\end{tabular}\n",
      "\n"
     ]
    }
   ],
   "source": [
    "import numpy as np\n",
    "import pandas as pd\n",
    "import linearmodels.iv as iv\n",
    "import statsmodels.formula.api as smf\n",
    "\n",
    "# IV automatically\n",
    "reg_iv = iv.IV2SLS.from_formula(formula=' sum ~ 1 + [Nb_doct_30km ~ MED14+Population+Superficie+Naissances+Deces+Logements+Chomeurs+Actifs] + share_F + np.log(Population_standardisee_par_la_consommation_de_soins_par_tranche_d_age) + APL', data=dataFF_red_norm_gauss)\n",
    "results_iv = reg_iv.fit()\n",
    "\n",
    "# print regression table:\n",
    "table_iv = pd.DataFrame({'b_auto': round(results_iv.params, 4),\n",
    "                         'se_auto': round(results_iv.std_errors, 4),\n",
    "                         't_auto': round(results_iv.tstats, 4)})\n",
    "print(f'table_iv: \\n{table_iv}\\n')\n",
    "latex_table = table_iv.to_latex(index=True, header=True, column_format='lrrr', float_format=\"%.4f\")\n",
    "\n",
    "print(latex_table)"
   ]
  },
  {
   "cell_type": "code",
   "execution_count": 39,
   "metadata": {},
   "outputs": [
    {
     "name": "stdout",
     "output_type": "stream",
     "text": [
      "table_iv: \n",
      "                                                      b_auto  se_auto  t_auto\n",
      "Intercept                                            -1.6827   0.4599 -3.6587\n",
      "share_F                                              -0.3126   0.5610 -0.5572\n",
      "Population_standardisee_par_la_consommation_de_...    0.0000   0.0000  9.9356\n",
      "APL                                                   0.1071   0.1015  1.0546\n",
      "Nb_doct_D_8km                                       145.6611  20.5043  7.1039\n",
      "\n",
      "\\begin{tabular}{lrrr}\n",
      "\\toprule\n",
      " & b_auto & se_auto & t_auto \\\\\n",
      "\\midrule\n",
      "Intercept & -1.6827 & 0.4599 & -3.6587 \\\\\n",
      "share_F & -0.3126 & 0.5610 & -0.5572 \\\\\n",
      "Population_standardisee_par_la_consommation_de_soins_par_tranche_d_age & 0.0000 & 0.0000 & 9.9356 \\\\\n",
      "APL & 0.1071 & 0.1015 & 1.0546 \\\\\n",
      "Nb_doct_D_8km & 145.6611 & 20.5043 & 7.1039 \\\\\n",
      "\\bottomrule\n",
      "\\end{tabular}\n",
      "\n"
     ]
    }
   ],
   "source": [
    "import numpy as np\n",
    "import pandas as pd\n",
    "import linearmodels.iv as iv\n",
    "import statsmodels.formula.api as smf\n",
    "\n",
    "# IV automatically\n",
    "reg_iv = iv.IV2SLS.from_formula(formula=' sum ~ 1 + [Nb_doct_D_8km ~ MED14+Population+Superficie+Naissances+Deces+Logements+Chomeurs+Actifs] + share_F + Population_standardisee_par_la_consommation_de_soins_par_tranche_d_age + APL', data=dataFF_red_norm_gauss)\n",
    "results_iv = reg_iv.fit()\n",
    "\n",
    "# print regression table:\n",
    "table_iv = pd.DataFrame({'b_auto': round(results_iv.params, 4),\n",
    "                         'se_auto': round(results_iv.std_errors, 4),\n",
    "                         't_auto': round(results_iv.tstats, 4)})\n",
    "print(f'table_iv: \\n{table_iv}\\n')\n",
    "latex_table = table_iv.to_latex(index=True, header=True, column_format='lrrr', float_format=\"%.4f\")\n",
    "\n",
    "print(latex_table)"
   ]
  },
  {
   "cell_type": "markdown",
   "metadata": {},
   "source": [
    "# Step 5 : We run clustered regressions"
   ]
  },
  {
   "cell_type": "code",
   "execution_count": 42,
   "metadata": {},
   "outputs": [
    {
     "name": "stdout",
     "output_type": "stream",
     "text": [
      "table_iv: \n",
      "                                                     b_auto  se_auto  t_auto\n",
      "Intercept                                           -2.1604   0.8340 -2.5903\n",
      "share_F                                             -1.6060   0.9920 -1.6189\n",
      "Population_standardisee_par_la_consommation_de_...   0.0000   0.0000  6.1765\n",
      "APL                                                 -0.0036   0.1797 -0.0202\n",
      "Nb_doct_30km                                        10.3169   1.7630  5.8518\n",
      "\n",
      "\\begin{center}\n",
      "\\begin{tabular}{lclc}\n",
      "\\toprule\n",
      "\\textbf{Dep. Variable:}                                                                   &        sum         & \\textbf{  R-squared:         } &     -0.0597      \\\\\n",
      "\\textbf{Estimator:}                                                                       &      IV-2SLS       & \\textbf{  Adj. R-squared:    } &     -0.0603      \\\\\n",
      "\\textbf{No. Observations:}                                                                &        6873        & \\textbf{  F-statistic:       } &      49.759      \\\\\n",
      "\\textbf{Date:}                                                                            &  Tue, Oct 29 2024  & \\textbf{  P-value (F-stat)   } &      0.0000      \\\\\n",
      "\\textbf{Time:}                                                                            &      14:17:04      & \\textbf{  Distribution:      } &     chi2(4)      \\\\\n",
      "\\textbf{Cov. Estimator:}                                                                  &     clustered      & \\textbf{                     } &                  \\\\\n",
      "\\textbf{}                                                                                 &                    & \\textbf{                     } &                  \\\\\n",
      "\\bottomrule\n",
      "\\end{tabular}\n",
      "\\begin{tabular}{lcccccc}\n",
      "                                                                                          & \\textbf{Parameter} & \\textbf{Std. Err.} & \\textbf{T-stat} & \\textbf{P-value} & \\textbf{Lower CI} & \\textbf{Upper CI}  \\\\\n",
      "\\midrule\n",
      "\\textbf{Intercept}                                                                        &      -2.1604       &       0.8340       &     -2.5903     &      0.0096      &      -3.7951      &      -0.5257       \\\\\n",
      "\\textbf{share\\_F}                                                                         &      -1.6060       &       0.9920       &     -1.6189     &      0.1055      &      -3.5503      &       0.3383       \\\\\n",
      "\\textbf{Population\\_standardisee\\_par\\_la\\_consommation\\_de\\_soins\\_par\\_tranche\\_d\\_age} &     2.622e-05      &     4.245e-06      &      6.1765     &      0.0000      &      1.79e-05     &     3.454e-05      \\\\\n",
      "\\textbf{APL}                                                                              &      -0.0036       &       0.1797       &     -0.0202     &      0.9839      &      -0.3559      &       0.3486       \\\\\n",
      "\\textbf{Nb\\_doct\\_30km}                                                                   &       10.317       &       1.7630       &      5.8518     &      0.0000      &       6.8614      &       13.772       \\\\\n",
      "\\bottomrule\n",
      "\\end{tabular}\n",
      "%\\caption{IV-2SLS Estimation Summary}\n",
      "\\end{center}\n",
      "\n",
      "Endogenous: Nb_doct_30km \\newline\n",
      " Instruments: MED14, Population, Superficie, Naissances, Deces, Logements, Chomeurs, Actifs \\newline\n",
      " Clustered Covariance (One-Way) \\newline\n",
      " Debiased: False \\newline\n",
      " Num Clusters: 2058\n"
     ]
    }
   ],
   "source": [
    "reg_iv = iv.IV2SLS.from_formula(formula=' sum ~ 1 + [Nb_doct_30km ~ MED14+Population+Superficie+Naissances+Deces+Logements+Chomeurs+Actifs] + share_F + Population_standardisee_par_la_consommation_de_soins_par_tranche_d_age + APL', data=dataFF_red_norm_gauss).fit(cov_type='clustered', clusters=dataFF_red_norm_gauss['codecommunecoordstructure3'])\n",
    "# print regression table:\n",
    "table_iv = pd.DataFrame({'b_auto': round(reg_iv.params, 4),\n",
    "                         'se_auto': round(reg_iv.std_errors, 4),\n",
    "                         't_auto': round(reg_iv.tstats, 4)})\n",
    "print(f'table_iv: \\n{table_iv}\\n')\n",
    "print(reg_iv.summary.as_latex())"
   ]
  }
 ],
 "metadata": {
  "kernelspec": {
   "display_name": "base",
   "language": "python",
   "name": "python3"
  },
  "language_info": {
   "codemirror_mode": {
    "name": "ipython",
    "version": 3
   },
   "file_extension": ".py",
   "mimetype": "text/x-python",
   "name": "python",
   "nbconvert_exporter": "python",
   "pygments_lexer": "ipython3",
   "version": "3.12.2"
  }
 },
 "nbformat": 4,
 "nbformat_minor": 2
}
