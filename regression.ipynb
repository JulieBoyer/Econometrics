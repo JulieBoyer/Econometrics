{
 "cells": [
  {
   "cell_type": "code",
   "execution_count": 162,
   "metadata": {},
   "outputs": [],
   "source": [
    "import numpy as np\n",
    "from scipy.stats import entropy\n",
    "import pandas as pd\n",
    "import math\n",
    "import matplotlib.pyplot as plt\n",
    "import wooldridge as woo\n",
    "import statsmodels.formula.api as smf"
   ]
  },
  {
   "cell_type": "markdown",
   "metadata": {},
   "source": [
    "# Step 0 : We import the necessary files"
   ]
  },
  {
   "cell_type": "code",
   "execution_count": 163,
   "metadata": {},
   "outputs": [],
   "source": [
    "dataFF_red_norm01 = pd.read_csv('dataFF_red_norm01.csv')\n",
    "dataFF_red_norm_gauss = pd.read_csv('dataFF_red_norm_gauss.csv')"
   ]
  },
  {
   "cell_type": "markdown",
   "metadata": {},
   "source": [
    "# Step 1 : We run first regressions"
   ]
  },
  {
   "cell_type": "code",
   "execution_count": 164,
   "metadata": {},
   "outputs": [
    {
     "name": "stdout",
     "output_type": "stream",
     "text": [
      "b: \n",
      "Intercept     -0.304769\n",
      "Nb_doct_8km    4.040997\n",
      "dtype: float64\n",
      "\n"
     ]
    },
    {
     "data": {
      "text/plain": [
       "\"# scatter plot and fitted values:\\nplt.plot('APL', 'Nb_carac_présentation', data=dataFF_red_norm, color='grey', marker='o', linestyle='')\\nplt.plot(dataFF_red_norm['APL'], results.fittedvalues, color='black', linestyle='-')\\nplt.ylabel('Nb_caracteres_presentation')\\nplt.xlabel('APL')\""
      ]
     },
     "execution_count": 164,
     "metadata": {},
     "output_type": "execute_result"
    }
   ],
   "source": [
    "reg = smf.ols(formula='sum~ Nb_doct_8km', data=dataFF_red_norm_gauss)\n",
    "results = reg.fit()\n",
    "b = results.params\n",
    "print(f'b: \\n{b}\\n')\n",
    "\n",
    "\"\"\"# scatter plot and fitted values:\n",
    "plt.plot('APL', 'Nb_carac_présentation', data=dataFF_red_norm, color='grey', marker='o', linestyle='')\n",
    "plt.plot(dataFF_red_norm['APL'], results.fittedvalues, color='black', linestyle='-')\n",
    "plt.ylabel('Nb_caracteres_presentation')\n",
    "plt.xlabel('APL')\"\"\""
   ]
  },
  {
   "cell_type": "code",
   "execution_count": 165,
   "metadata": {},
   "outputs": [
    {
     "name": "stdout",
     "output_type": "stream",
     "text": [
      "results.summary(): \n",
      "                            OLS Regression Results                            \n",
      "==============================================================================\n",
      "Dep. Variable:                    sum   R-squared:                       0.005\n",
      "Model:                            OLS   Adj. R-squared:                  0.004\n",
      "Method:                 Least Squares   F-statistic:                     28.86\n",
      "Date:                Wed, 23 Oct 2024   Prob (F-statistic):           8.05e-08\n",
      "Time:                        16:27:42   Log-Likelihood:                -23158.\n",
      "No. Observations:                6333   AIC:                         4.632e+04\n",
      "Df Residuals:                    6331   BIC:                         4.633e+04\n",
      "Df Model:                           1                                         \n",
      "Covariance Type:            nonrobust                                         \n",
      "===============================================================================\n",
      "                  coef    std err          t      P>|t|      [0.025      0.975]\n",
      "-------------------------------------------------------------------------------\n",
      "Intercept      -0.3048      0.131     -2.331      0.020      -0.561      -0.048\n",
      "Nb_doct_8km     4.0410      0.752      5.372      0.000       2.566       5.516\n",
      "==============================================================================\n",
      "Omnibus:                      565.712   Durbin-Watson:                   0.921\n",
      "Prob(Omnibus):                  0.000   Jarque-Bera (JB):             2214.943\n",
      "Skew:                           0.383   Prob(JB):                         0.00\n",
      "Kurtosis:                       5.794   Cond. No.                         6.42\n",
      "==============================================================================\n",
      "\n",
      "Notes:\n",
      "[1] Standard Errors assume that the covariance matrix of the errors is correctly specified.\n",
      "\n",
      "table: \n",
      "                  b      se       t    pval\n",
      "Intercept   -0.3048  0.1307 -2.3312  0.0198\n",
      "Nb_doct_8km  4.0410  0.7522  5.3722  0.0000\n",
      "\n"
     ]
    }
   ],
   "source": [
    "# print results using summary:\n",
    "print(f'results.summary(): \\n{results.summary()}\\n')\n",
    "\n",
    "# print regression table:\n",
    "table = pd.DataFrame({'b': round(results.params, 4),\n",
    "                      'se': round(results.bse, 4),\n",
    "                      't': round(results.tvalues, 4),\n",
    "                      'pval': round(results.pvalues, 4)})\n",
    "print(f'table: \\n{table}\\n')"
   ]
  },
  {
   "cell_type": "code",
   "execution_count": 166,
   "metadata": {},
   "outputs": [
    {
     "name": "stdout",
     "output_type": "stream",
     "text": [
      "b: \n",
      "Intercept          -0.216022\n",
      "Nb_doct_2km      -344.669726\n",
      "Nb_doct_8km       -71.683344\n",
      "Nb_doct_30km       -3.227782\n",
      "Nb_doct_f_2km     624.205120\n",
      "Nb_doct_f_8km     164.236922\n",
      "Nb_doct_f_30km      2.981369\n",
      "dtype: float64\n",
      "\n"
     ]
    }
   ],
   "source": [
    "reg = smf.ols(formula='sum~ Nb_doct_2km+Nb_doct_8km+Nb_doct_30km+Nb_doct_f_2km+Nb_doct_f_8km+Nb_doct_f_30km', data=dataFF_red_norm_gauss)\n",
    "results = reg.fit()\n",
    "b = results.params\n",
    "print(f'b: \\n{b}\\n')\n"
   ]
  },
  {
   "cell_type": "code",
   "execution_count": 167,
   "metadata": {},
   "outputs": [
    {
     "name": "stdout",
     "output_type": "stream",
     "text": [
      "results.summary(): \n",
      "                            OLS Regression Results                            \n",
      "==============================================================================\n",
      "Dep. Variable:                    sum   R-squared:                       0.013\n",
      "Model:                            OLS   Adj. R-squared:                  0.012\n",
      "Method:                 Least Squares   F-statistic:                     13.68\n",
      "Date:                Wed, 23 Oct 2024   Prob (F-statistic):           1.67e-15\n",
      "Time:                        16:27:42   Log-Likelihood:                -23131.\n",
      "No. Observations:                6333   AIC:                         4.628e+04\n",
      "Df Residuals:                    6326   BIC:                         4.632e+04\n",
      "Df Model:                           6                                         \n",
      "Covariance Type:            nonrobust                                         \n",
      "==================================================================================\n",
      "                     coef    std err          t      P>|t|      [0.025      0.975]\n",
      "----------------------------------------------------------------------------------\n",
      "Intercept         -0.2160      0.144     -1.503      0.133      -0.498       0.066\n",
      "Nb_doct_2km     -344.6697    123.372     -2.794      0.005    -586.521    -102.818\n",
      "Nb_doct_8km      -71.6833     33.396     -2.146      0.032    -137.151      -6.216\n",
      "Nb_doct_30km      -3.2278      5.814     -0.555      0.579     -14.625       8.169\n",
      "Nb_doct_f_2km    624.2051    230.491      2.708      0.007     172.364    1076.046\n",
      "Nb_doct_f_8km    164.2369     62.032      2.648      0.008      42.633     285.841\n",
      "Nb_doct_f_30km     2.9814     10.975      0.272      0.786     -18.534      24.497\n",
      "==============================================================================\n",
      "Omnibus:                      564.503   Durbin-Watson:                   0.930\n",
      "Prob(Omnibus):                  0.000   Jarque-Bera (JB):             2240.054\n",
      "Skew:                           0.377   Prob(JB):                         0.00\n",
      "Kurtosis:                       5.814   Cond. No.                     2.30e+03\n",
      "==============================================================================\n",
      "\n",
      "Notes:\n",
      "[1] Standard Errors assume that the covariance matrix of the errors is correctly specified.\n",
      "[2] The condition number is large, 2.3e+03. This might indicate that there are\n",
      "strong multicollinearity or other numerical problems.\n",
      "\n",
      "table: \n",
      "                       b        se       t    pval\n",
      "Intercept        -0.2160    0.1438 -1.5025  0.1330\n",
      "Nb_doct_2km    -344.6697  123.3722 -2.7937  0.0052\n",
      "Nb_doct_8km     -71.6833   33.3958 -2.1465  0.0319\n",
      "Nb_doct_30km     -3.2278    5.8139 -0.5552  0.5788\n",
      "Nb_doct_f_2km   624.2051  230.4914  2.7081  0.0068\n",
      "Nb_doct_f_8km   164.2369   62.0322  2.6476  0.0081\n",
      "Nb_doct_f_30km    2.9814   10.9752  0.2716  0.7859\n",
      "\n"
     ]
    }
   ],
   "source": [
    "# print results using summary:\n",
    "print(f'results.summary(): \\n{results.summary()}\\n')\n",
    "\n",
    "# print regression table:\n",
    "table = pd.DataFrame({'b': round(results.params, 4),\n",
    "                      'se': round(results.bse, 4),\n",
    "                      't': round(results.tvalues, 4),\n",
    "                      'pval': round(results.pvalues, 4)})\n",
    "print(f'table: \\n{table}\\n')\n",
    "#vote1.describe()"
   ]
  },
  {
   "cell_type": "markdown",
   "metadata": {},
   "source": [
    "## Regression sur l'instrument"
   ]
  },
  {
   "cell_type": "code",
   "execution_count": 168,
   "metadata": {},
   "outputs": [
    {
     "data": {
      "text/plain": [
       "Index(['Unnamed: 0', 'Nb_Skills', 'Payment_method', 'Social_security_card',\n",
       "       'site', 'Nb_charac_presentation', 'Nb_languages', 'nb_charac_card_1',\n",
       "       'Transport', 'Parking', 'Contact', 'Without_appointment',\n",
       "       'nb_terms_card_0', 'nb_terms_card_3', 'nb_terms_card_4',\n",
       "       'nb_charac_card_0', 'nb_charac_card_3', 'nb_charac_card_4',\n",
       "       'National_&_university_degrees', 'Other_formations_b', 'Experiences_b',\n",
       "       'Formations_b', 'Work_&_publications_b', 'RPPS', 'Nb_price',\n",
       "       'Min_price', 'Max_price', 'MED14', 'share_F',\n",
       "       'Population standardisée par la consommation de soins par tranche d'âge',\n",
       "       'Sector', 'Nb_doct_2km', 'Nb_doct_8km', 'Nb_doct_30km', 'Nb_doct_f_2km',\n",
       "       'Nb_doct_f_8km', 'Nb_doct_f_30km', 'Nb_doct_D_2km', 'Nb_doct_D_8km',\n",
       "       'Nb_doct_D_30km', 'Nb_doct_f_D_2km', 'Nb_doct_f_D_8km',\n",
       "       'Nb_doct_f_D_30km', 'APL', 'Fibre', 'share_Doctolib'],\n",
       "      dtype='object')"
      ]
     },
     "execution_count": 168,
     "metadata": {},
     "output_type": "execute_result"
    }
   ],
   "source": [
    "dataFF_red_norm01.columns"
   ]
  },
  {
   "cell_type": "code",
   "execution_count": 169,
   "metadata": {},
   "outputs": [],
   "source": [
    "dataFF_red_norm01=dataFF_red_norm01.rename(columns={\"Population standardisée par la consommation de soins par tranche d'âge\": \"Population_standardisee_par_la_consommation_de_soins_par_tranche_d_age\"})\n",
    "dataFF_red_norm_gauss=dataFF_red_norm_gauss.rename(columns={\"Population standardisée par la consommation de soins par tranche d'âge\": \"Population_standardisee_par_la_consommation_de_soins_par_tranche_d_age\"})"
   ]
  },
  {
   "cell_type": "code",
   "execution_count": 170,
   "metadata": {},
   "outputs": [
    {
     "name": "stdout",
     "output_type": "stream",
     "text": [
      "b: \n",
      "Intercept                                                                 4.517291e-01\n",
      "Fibre                                                                    -2.655086e-01\n",
      "share_F                                                                  -1.141919e-02\n",
      "Population_standardisee_par_la_consommation_de_soins_par_tranche_d_age   -8.325882e-07\n",
      "dtype: float64\n",
      "\n"
     ]
    }
   ],
   "source": [
    "reg = smf.ols(formula='share_Doctolib~Fibre+share_F+Population_standardisee_par_la_consommation_de_soins_par_tranche_d_age', data=dataFF_red_norm01)\n",
    "results = reg.fit()\n",
    "b = results.params\n",
    "print(f'b: \\n{b}\\n')"
   ]
  },
  {
   "cell_type": "code",
   "execution_count": 171,
   "metadata": {},
   "outputs": [
    {
     "name": "stdout",
     "output_type": "stream",
     "text": [
      "results.summary(): \n",
      "                            OLS Regression Results                            \n",
      "==============================================================================\n",
      "Dep. Variable:         share_Doctolib   R-squared:                       0.145\n",
      "Model:                            OLS   Adj. R-squared:                  0.145\n",
      "Method:                 Least Squares   F-statistic:                     357.9\n",
      "Date:                Wed, 23 Oct 2024   Prob (F-statistic):          1.06e-214\n",
      "Time:                        16:27:42   Log-Likelihood:                 1660.9\n",
      "No. Observations:                6333   AIC:                            -3314.\n",
      "Df Residuals:                    6329   BIC:                            -3287.\n",
      "Df Model:                           3                                         \n",
      "Covariance Type:            nonrobust                                         \n",
      "==========================================================================================================================================\n",
      "                                                                             coef    std err          t      P>|t|      [0.025      0.975]\n",
      "------------------------------------------------------------------------------------------------------------------------------------------\n",
      "Intercept                                                                  0.4517      0.015     29.758      0.000       0.422       0.481\n",
      "Fibre                                                                     -0.2655      0.015    -17.967      0.000      -0.294      -0.237\n",
      "share_F                                                                   -0.0114      0.014     -0.819      0.413      -0.039       0.016\n",
      "Population_standardisee_par_la_consommation_de_soins_par_tranche_d_age -8.326e-07   3.21e-08    -25.961      0.000   -8.95e-07    -7.7e-07\n",
      "==============================================================================\n",
      "Omnibus:                     3122.110   Durbin-Watson:                   1.502\n",
      "Prob(Omnibus):                  0.000   Jarque-Bera (JB):            17668.597\n",
      "Skew:                           2.372   Prob(JB):                         0.00\n",
      "Kurtosis:                       9.668   Cond. No.                     7.81e+05\n",
      "==============================================================================\n",
      "\n",
      "Notes:\n",
      "[1] Standard Errors assume that the covariance matrix of the errors is correctly specified.\n",
      "[2] The condition number is large, 7.81e+05. This might indicate that there are\n",
      "strong multicollinearity or other numerical problems.\n",
      "\n",
      "table: \n",
      "                                                         b      se        t  \\\n",
      "Intercept                                           0.4517  0.0152  29.7585   \n",
      "Fibre                                              -0.2655  0.0148 -17.9666   \n",
      "share_F                                            -0.0114  0.0140  -0.8185   \n",
      "Population_standardisee_par_la_consommation_de_... -0.0000  0.0000 -25.9610   \n",
      "\n",
      "                                                      pval  \n",
      "Intercept                                           0.0000  \n",
      "Fibre                                               0.0000  \n",
      "share_F                                             0.4131  \n",
      "Population_standardisee_par_la_consommation_de_...  0.0000  \n",
      "\n",
      "\\begin{tabular}{lcccccc}\n",
      "\\toprule\n",
      " & b & se & t & pval \\\\\n",
      "\\midrule\n",
      "Intercept & 0.4517 & 0.0152 & 29.7585 & 0.0000 \\\\\n",
      "Fibre & -0.2655 & 0.0148 & -17.9666 & 0.0000 \\\\\n",
      "share_F & -0.0114 & 0.0140 & -0.8185 & 0.4131 \\\\\n",
      "Population_standardisee_par_la_consommation_de_soins_par_tranche_d_age & -0.0000 & 0.0000 & -25.9610 & 0.0000 \\\\\n",
      "\\bottomrule\n",
      "\\end{tabular}\n",
      "\n"
     ]
    }
   ],
   "source": [
    "# print results using summary:\n",
    "print(f'results.summary(): \\n{results.summary()}\\n')\n",
    "\n",
    "# print regression table:\n",
    "table = pd.DataFrame({'b': round(results.params, 4),\n",
    "                      'se': round(results.bse, 4),\n",
    "                      't': round(results.tvalues, 4),\n",
    "                      'pval': round(results.pvalues, 4)})\n",
    "print(f'table: \\n{table}\\n')\n",
    "\n",
    "latex_table = table.to_latex(index=True, header=True, column_format='lcccccc', float_format=\"%.4f\")\n",
    "\n",
    "print(latex_table)"
   ]
  },
  {
   "cell_type": "code",
   "execution_count": 172,
   "metadata": {},
   "outputs": [
    {
     "name": "stdout",
     "output_type": "stream",
     "text": [
      "\\begin{tabular}{lllll}\n",
      "\\toprule\n",
      " & 0 & 1 & 2 & 3 \\\\\n",
      "\\midrule\n",
      "0 & Model: & OLS & Adj. R-squared: & 0.145 \\\\\n",
      "1 & Dependent Variable: & share_Doctolib & AIC: & -3313.8247 \\\\\n",
      "2 & Date: & 2024-10-23 16:27 & BIC: & -3286.8106 \\\\\n",
      "3 & No. Observations: & 6333 & Log-Likelihood: & 1660.9 \\\\\n",
      "4 & Df Model: & 3 & F-statistic: & 357.9 \\\\\n",
      "5 & Df Residuals: & 6329 & Prob (F-statistic): & 1.06e-214 \\\\\n",
      "6 & R-squared: & 0.145 & Scale: & 0.034674 \\\\\n",
      "\\bottomrule\n",
      "\\end{tabular}\n",
      "\n"
     ]
    }
   ],
   "source": [
    "# Convertir en DataFrame\n",
    "summary_df = results.summary2().tables[0]  # La table des coefficients\n",
    "type(summary_df)\n",
    "# Générer le LaTeX à partir du DataFrame\n",
    "latex_table = summary_df.to_latex()\n",
    "\n",
    "# Afficher la table LaTeX\n",
    "print(latex_table)\n"
   ]
  },
  {
   "cell_type": "markdown",
   "metadata": {},
   "source": [
    "the instrument is sufficiently strong/relevant to identify the endogenous variable if the first-stage f-statistic is larger than 10 and here F-statistic = 357.9, the instrument is then relevant"
   ]
  },
  {
   "cell_type": "code",
   "execution_count": 173,
   "metadata": {},
   "outputs": [
    {
     "name": "stdout",
     "output_type": "stream",
     "text": [
      "results.summary(): \n",
      "                            OLS Regression Results                            \n",
      "==============================================================================\n",
      "Dep. Variable:         Nb_doct_D_30km   R-squared:                       0.151\n",
      "Model:                            OLS   Adj. R-squared:                  0.150\n",
      "Method:                 Least Squares   F-statistic:                     224.9\n",
      "Date:                Wed, 23 Oct 2024   Prob (F-statistic):          1.47e-221\n",
      "Time:                        16:27:42   Log-Likelihood:                 17662.\n",
      "No. Observations:                6333   AIC:                        -3.531e+04\n",
      "Df Residuals:                    6327   BIC:                        -3.527e+04\n",
      "Df Model:                           5                                         \n",
      "Covariance Type:            nonrobust                                         \n",
      "==========================================================================================================================================\n",
      "                                                                             coef    std err          t      P>|t|      [0.025      0.975]\n",
      "------------------------------------------------------------------------------------------------------------------------------------------\n",
      "Intercept                                                                 -0.0202      0.002    -13.110      0.000      -0.023      -0.017\n",
      "Fibre                                                                      0.0016      0.001      1.298      0.194      -0.001       0.004\n",
      "MED14                                                                   1.114e-06   4.91e-08     22.683      0.000    1.02e-06    1.21e-06\n",
      "share_F                                                                    0.0042      0.001      3.666      0.000       0.002       0.006\n",
      "Population_standardisee_par_la_consommation_de_soins_par_tranche_d_age -4.618e-08   2.69e-09    -17.183      0.000   -5.14e-08   -4.09e-08\n",
      "APL                                                                        0.0014      0.000      8.101      0.000       0.001       0.002\n",
      "==============================================================================\n",
      "Omnibus:                     8022.604   Durbin-Watson:                   1.846\n",
      "Prob(Omnibus):                  0.000   Jarque-Bera (JB):          2359383.246\n",
      "Skew:                           6.723   Prob(JB):                         0.00\n",
      "Kurtosis:                      96.598   Cond. No.                     8.36e+05\n",
      "==============================================================================\n",
      "\n",
      "Notes:\n",
      "[1] Standard Errors assume that the covariance matrix of the errors is correctly specified.\n",
      "[2] The condition number is large, 8.36e+05. This might indicate that there are\n",
      "strong multicollinearity or other numerical problems.\n",
      "\n",
      "table: \n",
      "                                                         b      se        t  \\\n",
      "Intercept                                          -0.0202  0.0015 -13.1101   \n",
      "Fibre                                               0.0016  0.0012   1.2984   \n",
      "MED14                                               0.0000  0.0000  22.6825   \n",
      "share_F                                             0.0042  0.0011   3.6656   \n",
      "Population_standardisee_par_la_consommation_de_... -0.0000  0.0000 -17.1829   \n",
      "APL                                                 0.0014  0.0002   8.1009   \n",
      "\n",
      "                                                      pval  \n",
      "Intercept                                           0.0000  \n",
      "Fibre                                               0.1942  \n",
      "MED14                                               0.0000  \n",
      "share_F                                             0.0002  \n",
      "Population_standardisee_par_la_consommation_de_...  0.0000  \n",
      "APL                                                 0.0000  \n",
      "\n"
     ]
    }
   ],
   "source": [
    "reg = smf.ols(formula='Nb_doct_D_30km~Fibre+MED14+share_F+Population_standardisee_par_la_consommation_de_soins_par_tranche_d_age+APL', data=dataFF_red_norm01)\n",
    "results = reg.fit()\n",
    "b = results.params\n",
    "#print(f'b: \\n{b}\\n')\n",
    "\n",
    "# print results using summary:\n",
    "print(f'results.summary(): \\n{results.summary()}\\n')\n",
    "\n",
    "# print regression table:\n",
    "table = pd.DataFrame({'b': round(results.params, 4),\n",
    "                      'se': round(results.bse, 4),\n",
    "                      't': round(results.tvalues, 4),\n",
    "                      'pval': round(results.pvalues, 4)})\n",
    "print(f'table: \\n{table}\\n')\n"
   ]
  },
  {
   "cell_type": "code",
   "execution_count": 174,
   "metadata": {},
   "outputs": [
    {
     "name": "stdout",
     "output_type": "stream",
     "text": [
      "results.summary(): \n",
      "                            OLS Regression Results                            \n",
      "==============================================================================\n",
      "Dep. Variable:           Nb_doct_30km   R-squared:                       0.089\n",
      "Model:                            OLS   Adj. R-squared:                  0.089\n",
      "Method:                 Least Squares   F-statistic:                     154.9\n",
      "Date:                Wed, 23 Oct 2024   Prob (F-statistic):          1.22e-126\n",
      "Time:                        16:27:42   Log-Likelihood:                -158.44\n",
      "No. Observations:                6333   AIC:                             326.9\n",
      "Df Residuals:                    6328   BIC:                             360.6\n",
      "Df Model:                           4                                         \n",
      "Covariance Type:            nonrobust                                         \n",
      "==========================================================================================================================================\n",
      "                                                                             coef    std err          t      P>|t|      [0.025      0.975]\n",
      "------------------------------------------------------------------------------------------------------------------------------------------\n",
      "Intercept                                                                 -0.0452      0.022     -2.038      0.042      -0.089      -0.002\n",
      "Fibre                                                                      0.0934      0.020      4.739      0.000       0.055       0.132\n",
      "share_F                                                                    0.1359      0.019      7.273      0.000       0.099       0.173\n",
      "Population_standardisee_par_la_consommation_de_soins_par_tranche_d_age -1.009e-06   4.36e-08    -23.138      0.000   -1.09e-06   -9.24e-07\n",
      "APL                                                                        0.0282      0.003     10.074      0.000       0.023       0.034\n",
      "==============================================================================\n",
      "Omnibus:                     6711.929   Durbin-Watson:                   1.819\n",
      "Prob(Omnibus):                  0.000   Jarque-Bera (JB):           782469.263\n",
      "Skew:                           5.138   Prob(JB):                         0.00\n",
      "Kurtosis:                      56.476   Cond. No.                     8.02e+05\n",
      "==============================================================================\n",
      "\n",
      "Notes:\n",
      "[1] Standard Errors assume that the covariance matrix of the errors is correctly specified.\n",
      "[2] The condition number is large, 8.02e+05. This might indicate that there are\n",
      "strong multicollinearity or other numerical problems.\n",
      "\n",
      "table: \n",
      "                                                         b      se        t  \\\n",
      "Intercept                                          -0.0452  0.0222  -2.0381   \n",
      "Fibre                                               0.0934  0.0197   4.7390   \n",
      "share_F                                             0.1359  0.0187   7.2731   \n",
      "Population_standardisee_par_la_consommation_de_... -0.0000  0.0000 -23.1376   \n",
      "APL                                                 0.0282  0.0028  10.0738   \n",
      "\n",
      "                                                      pval  \n",
      "Intercept                                           0.0416  \n",
      "Fibre                                               0.0000  \n",
      "share_F                                             0.0000  \n",
      "Population_standardisee_par_la_consommation_de_...  0.0000  \n",
      "APL                                                 0.0000  \n",
      "\n"
     ]
    }
   ],
   "source": [
    "reg = smf.ols(formula='Nb_doct_30km~Fibre+share_F+Population_standardisee_par_la_consommation_de_soins_par_tranche_d_age+APL', data=dataFF_red_norm01)\n",
    "results = reg.fit()\n",
    "b = results.params\n",
    "#print(f'b: \\n{b}\\n')\n",
    "\n",
    "# print results using summary:\n",
    "print(f'results.summary(): \\n{results.summary()}\\n')\n",
    "\n",
    "# print regression table:\n",
    "table = pd.DataFrame({'b': round(results.params, 4),\n",
    "                      'se': round(results.bse, 4),\n",
    "                      't': round(results.tvalues, 4),\n",
    "                      'pval': round(results.pvalues, 4)})\n",
    "print(f'table: \\n{table}\\n')"
   ]
  },
  {
   "cell_type": "code",
   "execution_count": 175,
   "metadata": {},
   "outputs": [],
   "source": [
    "#dataFF_red_norm_gauss['MED14']=dataFF_red_norm_gauss['MED14'].apply(lambda x : float(x.replace(',','.')))"
   ]
  },
  {
   "cell_type": "code",
   "execution_count": 176,
   "metadata": {},
   "outputs": [
    {
     "name": "stdout",
     "output_type": "stream",
     "text": [
      "results.summary(): \n",
      "                            OLS Regression Results                            \n",
      "==============================================================================\n",
      "Dep. Variable:         Nb_doct_D_30km   R-squared:                       0.151\n",
      "Model:                            OLS   Adj. R-squared:                  0.150\n",
      "Method:                 Least Squares   F-statistic:                     224.9\n",
      "Date:                Wed, 23 Oct 2024   Prob (F-statistic):          1.47e-221\n",
      "Time:                        16:27:43   Log-Likelihood:                 17662.\n",
      "No. Observations:                6333   AIC:                        -3.531e+04\n",
      "Df Residuals:                    6327   BIC:                        -3.527e+04\n",
      "Df Model:                           5                                         \n",
      "Covariance Type:            nonrobust                                         \n",
      "==========================================================================================================================================\n",
      "                                                                             coef    std err          t      P>|t|      [0.025      0.975]\n",
      "------------------------------------------------------------------------------------------------------------------------------------------\n",
      "Intercept                                                                 -0.0202      0.002    -13.110      0.000      -0.023      -0.017\n",
      "Fibre                                                                      0.0016      0.001      1.298      0.194      -0.001       0.004\n",
      "share_F                                                                    0.0042      0.001      3.666      0.000       0.002       0.006\n",
      "Population_standardisee_par_la_consommation_de_soins_par_tranche_d_age -4.618e-08   2.69e-09    -17.183      0.000   -5.14e-08   -4.09e-08\n",
      "APL                                                                        0.0014      0.000      8.101      0.000       0.001       0.002\n",
      "MED14                                                                   1.114e-06   4.91e-08     22.683      0.000    1.02e-06    1.21e-06\n",
      "==============================================================================\n",
      "Omnibus:                     8022.604   Durbin-Watson:                   1.846\n",
      "Prob(Omnibus):                  0.000   Jarque-Bera (JB):          2359383.246\n",
      "Skew:                           6.723   Prob(JB):                         0.00\n",
      "Kurtosis:                      96.598   Cond. No.                     8.36e+05\n",
      "==============================================================================\n",
      "\n",
      "Notes:\n",
      "[1] Standard Errors assume that the covariance matrix of the errors is correctly specified.\n",
      "[2] The condition number is large, 8.36e+05. This might indicate that there are\n",
      "strong multicollinearity or other numerical problems.\n",
      "\n",
      "table: \n",
      "                                                         b      se        t  \\\n",
      "Intercept                                          -0.0202  0.0015 -13.1101   \n",
      "Fibre                                               0.0016  0.0012   1.2984   \n",
      "share_F                                             0.0042  0.0011   3.6656   \n",
      "Population_standardisee_par_la_consommation_de_... -0.0000  0.0000 -17.1829   \n",
      "APL                                                 0.0014  0.0002   8.1009   \n",
      "MED14                                               0.0000  0.0000  22.6825   \n",
      "\n",
      "                                                      pval  \n",
      "Intercept                                           0.0000  \n",
      "Fibre                                               0.1942  \n",
      "share_F                                             0.0002  \n",
      "Population_standardisee_par_la_consommation_de_...  0.0000  \n",
      "APL                                                 0.0000  \n",
      "MED14                                               0.0000  \n",
      "\n",
      "\\begin{tabular}{lcccccc}\n",
      "\\toprule\n",
      " & b & se & t & pval \\\\\n",
      "\\midrule\n",
      "Intercept & -0.0202 & 0.0015 & -13.1101 & 0.0000 \\\\\n",
      "Fibre & 0.0016 & 0.0012 & 1.2984 & 0.1942 \\\\\n",
      "share_F & 0.0042 & 0.0011 & 3.6656 & 0.0002 \\\\\n",
      "Population_standardisee_par_la_consommation_de_soins_par_tranche_d_age & -0.0000 & 0.0000 & -17.1829 & 0.0000 \\\\\n",
      "APL & 0.0014 & 0.0002 & 8.1009 & 0.0000 \\\\\n",
      "MED14 & 0.0000 & 0.0000 & 22.6825 & 0.0000 \\\\\n",
      "\\bottomrule\n",
      "\\end{tabular}\n",
      "\n"
     ]
    }
   ],
   "source": [
    "reg = smf.ols(formula='Nb_doct_D_30km~Fibre+share_F+Population_standardisee_par_la_consommation_de_soins_par_tranche_d_age+APL+MED14', data=dataFF_red_norm01)\n",
    "results = reg.fit()\n",
    "b = results.params\n",
    "#print(f'b: \\n{b}\\n')\n",
    "\n",
    "# print results using summary:\n",
    "print(f'results.summary(): \\n{results.summary()}\\n')\n",
    "\n",
    "# print regression table:\n",
    "table = pd.DataFrame({'b': round(results.params, 4),\n",
    "                      'se': round(results.bse, 4),\n",
    "                      't': round(results.tvalues, 4),\n",
    "                      'pval': round(results.pvalues, 4)})\n",
    "print(f'table: \\n{table}\\n')\n",
    "\n",
    "latex_table = table.to_latex(index=True, header=True, column_format='lcccccc', float_format=\"%.4f\")\n",
    "\n",
    "print(latex_table)"
   ]
  },
  {
   "cell_type": "code",
   "execution_count": 177,
   "metadata": {},
   "outputs": [
    {
     "name": "stdout",
     "output_type": "stream",
     "text": [
      "\\begin{tabular}{lllll}\n",
      "\\toprule\n",
      " & 0 & 1 & 2 & 3 \\\\\n",
      "\\midrule\n",
      "0 & Model: & OLS & Adj. R-squared: & 0.150 \\\\\n",
      "1 & Dependent Variable: & Nb_doct_D_30km & AIC: & -35312.4084 \\\\\n",
      "2 & Date: & 2024-10-23 16:27 & BIC: & -35271.8872 \\\\\n",
      "3 & No. Observations: & 6333 & Log-Likelihood: & 17662. \\\\\n",
      "4 & Df Model: & 5 & F-statistic: & 224.9 \\\\\n",
      "5 & Df Residuals: & 6327 & Prob (F-statistic): & 1.47e-221 \\\\\n",
      "6 & R-squared: & 0.151 & Scale: & 0.00022157 \\\\\n",
      "\\bottomrule\n",
      "\\end{tabular}\n",
      "\n"
     ]
    }
   ],
   "source": [
    "# Convertir en DataFrame\n",
    "summary_df = results.summary2().tables[0]  # La table des coefficients\n",
    "type(summary_df)\n",
    "# Générer le LaTeX à partir du DataFrame\n",
    "latex_table = summary_df.to_latex()\n",
    "\n",
    "# Afficher la table LaTeX\n",
    "print(latex_table)"
   ]
  },
  {
   "cell_type": "code",
   "execution_count": 178,
   "metadata": {},
   "outputs": [
    {
     "name": "stdout",
     "output_type": "stream",
     "text": [
      "results.summary(): \n",
      "                            OLS Regression Results                            \n",
      "==============================================================================\n",
      "Dep. Variable:         Nb_doct_D_30km   R-squared:                       0.151\n",
      "Model:                            OLS   Adj. R-squared:                  0.150\n",
      "Method:                 Least Squares   F-statistic:                     280.6\n",
      "Date:                Wed, 23 Oct 2024   Prob (F-statistic):          1.91e-222\n",
      "Time:                        16:27:43   Log-Likelihood:                 17661.\n",
      "No. Observations:                6333   AIC:                        -3.531e+04\n",
      "Df Residuals:                    6328   BIC:                        -3.528e+04\n",
      "Df Model:                           4                                         \n",
      "Covariance Type:            nonrobust                                         \n",
      "==========================================================================================================================================\n",
      "                                                                             coef    std err          t      P>|t|      [0.025      0.975]\n",
      "------------------------------------------------------------------------------------------------------------------------------------------\n",
      "Intercept                                                                 -0.0190      0.001    -15.360      0.000      -0.021      -0.017\n",
      "share_F                                                                    0.0041      0.001      3.622      0.000       0.002       0.006\n",
      "Population_standardisee_par_la_consommation_de_soins_par_tranche_d_age -4.581e-08   2.67e-09    -17.140      0.000   -5.11e-08   -4.06e-08\n",
      "APL                                                                        0.0014      0.000      8.076      0.000       0.001       0.002\n",
      "MED14                                                                   1.124e-06   4.84e-08     23.206      0.000    1.03e-06    1.22e-06\n",
      "==============================================================================\n",
      "Omnibus:                     8022.284   Durbin-Watson:                   1.847\n",
      "Prob(Omnibus):                  0.000   Jarque-Bera (JB):          2360653.104\n",
      "Skew:                           6.722   Prob(JB):                         0.00\n",
      "Kurtosis:                      96.624   Cond. No.                     6.31e+05\n",
      "==============================================================================\n",
      "\n",
      "Notes:\n",
      "[1] Standard Errors assume that the covariance matrix of the errors is correctly specified.\n",
      "[2] The condition number is large, 6.31e+05. This might indicate that there are\n",
      "strong multicollinearity or other numerical problems.\n",
      "\n",
      "table: \n",
      "                                                         b      se        t  \\\n",
      "Intercept                                          -0.0190  0.0012 -15.3597   \n",
      "share_F                                             0.0041  0.0011   3.6225   \n",
      "Population_standardisee_par_la_consommation_de_... -0.0000  0.0000 -17.1403   \n",
      "APL                                                 0.0014  0.0002   8.0762   \n",
      "MED14                                               0.0000  0.0000  23.2062   \n",
      "\n",
      "                                                      pval  \n",
      "Intercept                                           0.0000  \n",
      "share_F                                             0.0003  \n",
      "Population_standardisee_par_la_consommation_de_...  0.0000  \n",
      "APL                                                 0.0000  \n",
      "MED14                                               0.0000  \n",
      "\n"
     ]
    }
   ],
   "source": [
    "reg = smf.ols(formula='Nb_doct_D_30km~share_F+Population_standardisee_par_la_consommation_de_soins_par_tranche_d_age+APL+MED14', data=dataFF_red_norm01)\n",
    "results = reg.fit()\n",
    "b = results.params\n",
    "#print(f'b: \\n{b}\\n')\n",
    "\n",
    "# print results using summary:\n",
    "print(f'results.summary(): \\n{results.summary()}\\n')\n",
    "\n",
    "# print regression table:\n",
    "table = pd.DataFrame({'b': round(results.params, 4),\n",
    "                      'se': round(results.bse, 4),\n",
    "                      't': round(results.tvalues, 4),\n",
    "                      'pval': round(results.pvalues, 4)})\n",
    "print(f'table: \\n{table}\\n')"
   ]
  },
  {
   "cell_type": "code",
   "execution_count": 179,
   "metadata": {},
   "outputs": [
    {
     "data": {
      "text/plain": [
       "Index(['Unnamed: 0', 'Nb_Skills', 'Payment_method', 'Social_security_card',\n",
       "       'site', 'Nb_charac_presentation', 'Nb_languages', 'nb_charac_card_1',\n",
       "       'Transport', 'Parking', 'Contact', 'Without_appointment',\n",
       "       'nb_terms_card_0', 'nb_terms_card_3', 'nb_terms_card_4',\n",
       "       'nb_charac_card_0', 'nb_charac_card_3', 'nb_charac_card_4',\n",
       "       'National_&_university_degrees', 'Other_formations_b', 'Experiences_b',\n",
       "       'Formations_b', 'Work_&_publications_b', 'RPPS', 'Nb_price',\n",
       "       'Min_price', 'Max_price', 'share_F',\n",
       "       'Population_standardisee_par_la_consommation_de_soins_par_tranche_d_age',\n",
       "       'MED14', 'Sector', 'Nb_doct_2km', 'Nb_doct_8km', 'Nb_doct_30km',\n",
       "       'Nb_doct_f_2km', 'Nb_doct_f_8km', 'Nb_doct_f_30km', 'Nb_doct_D_2km',\n",
       "       'Nb_doct_D_8km', 'Nb_doct_D_30km', 'Nb_doct_f_D_2km', 'Nb_doct_f_D_8km',\n",
       "       'Nb_doct_f_D_30km', 'APL', 'Fibre', 'share_Doctolib', 'sum'],\n",
       "      dtype='object')"
      ]
     },
     "execution_count": 179,
     "metadata": {},
     "output_type": "execute_result"
    }
   ],
   "source": [
    "dataFF_red_norm_gauss.columns"
   ]
  },
  {
   "cell_type": "code",
   "execution_count": 181,
   "metadata": {},
   "outputs": [
    {
     "data": {
      "text/plain": [
       "Index(['Unnamed: 0', 'Nb_Skills', 'Payment_method', 'Social_security_card',\n",
       "       'site', 'Nb_charac_presentation', 'Nb_languages', 'nb_charac_card_1',\n",
       "       'Transport', 'Parking', 'Contact', 'Without_appointment',\n",
       "       'nb_terms_card_0', 'nb_terms_card_3', 'nb_terms_card_4',\n",
       "       'nb_charac_card_0', 'nb_charac_card_3', 'nb_charac_card_4',\n",
       "       'National_&_university_degrees', 'Other_formations_b', 'Experiences_b',\n",
       "       'Formations_b', 'Work_&_publications_b', 'RPPS', 'Nb_price',\n",
       "       'Min_price', 'Max_price', 'share_F',\n",
       "       'Population_standardisee_par_la_consommation_de_soins_par_tranche_d_age',\n",
       "       'MED14', 'Sector', 'Nb_doct_2km', 'Nb_doct_8km', 'Nb_doct_30km',\n",
       "       'Nb_doct_f_2km', 'Nb_doct_f_8km', 'Nb_doct_f_30km', 'Nb_doct_D_2km',\n",
       "       'Nb_doct_D_8km', 'Nb_doct_D_30km', 'Nb_doct_f_D_2km', 'Nb_doct_f_D_8km',\n",
       "       'Nb_doct_f_D_30km', 'APL', 'Fibre', 'share_Doctolib', 'sum'],\n",
       "      dtype='object')"
      ]
     },
     "execution_count": 181,
     "metadata": {},
     "output_type": "execute_result"
    }
   ],
   "source": [
    "dataFF_red_norm_gauss.columns"
   ]
  },
  {
   "cell_type": "code",
   "execution_count": 183,
   "metadata": {},
   "outputs": [
    {
     "name": "stdout",
     "output_type": "stream",
     "text": [
      "table_iv: \n",
      "                                                     b_auto  se_auto   t_auto\n",
      "Intercept                                          -22.2249   1.6184 -13.7324\n",
      "share_F                                             -2.1799   0.8434  -2.5847\n",
      "np.log(Population_standardisee_par_la_consommat...   2.2089   0.1681  13.1414\n",
      "APL                                                 -0.3892   0.1295  -3.0048\n",
      "Nb_doct_30km                                        19.3474   1.9791   9.7757\n",
      "\n",
      "\\begin{tabular}{lrrr}\n",
      "\\toprule\n",
      " & b_auto & se_auto & t_auto \\\\\n",
      "\\midrule\n",
      "Intercept & -22.2249 & 1.6184 & -13.7324 \\\\\n",
      "share_F & -2.1799 & 0.8434 & -2.5847 \\\\\n",
      "np.log(Population_standardisee_par_la_consommation_de_soins_par_tranche_d_age) & 2.2089 & 0.1681 & 13.1414 \\\\\n",
      "APL & -0.3892 & 0.1295 & -3.0048 \\\\\n",
      "Nb_doct_30km & 19.3474 & 1.9791 & 9.7757 \\\\\n",
      "\\bottomrule\n",
      "\\end{tabular}\n",
      "\n"
     ]
    }
   ],
   "source": [
    "import numpy as np\n",
    "import pandas as pd\n",
    "import linearmodels.iv as iv\n",
    "import statsmodels.formula.api as smf\n",
    "\n",
    "# IV automatically\n",
    "reg_iv = iv.IV2SLS.from_formula(formula=' sum ~ 1 + [Nb_doct_30km ~ MED14] + share_F + np.log(Population_standardisee_par_la_consommation_de_soins_par_tranche_d_age) + APL', data=dataFF_red_norm_gauss)\n",
    "results_iv = reg_iv.fit()\n",
    "\n",
    "# print regression table:\n",
    "table_iv = pd.DataFrame({'b_auto': round(results_iv.params, 4),\n",
    "                         'se_auto': round(results_iv.std_errors, 4),\n",
    "                         't_auto': round(results_iv.tstats, 4)})\n",
    "print(f'table_iv: \\n{table_iv}\\n')\n",
    "latex_table = table_iv.to_latex(index=True, header=True, column_format='lrrr', float_format=\"%.4f\")\n",
    "\n",
    "print(latex_table)"
   ]
  },
  {
   "cell_type": "code",
   "execution_count": 188,
   "metadata": {},
   "outputs": [
    {
     "name": "stdout",
     "output_type": "stream",
     "text": [
      "table_iv: \n",
      "                                                      b_auto  se_auto   t_auto\n",
      "Intercept                                            -1.3774   0.4890  -2.8169\n",
      "share_F                                              -0.7122   0.6139  -1.1602\n",
      "Population_standardisee_par_la_consommation_de_...    0.0000   0.0000  11.9528\n",
      "APL                                                  -0.3234   0.1149  -2.8145\n",
      "Nb_doct_D_8km                                       394.4332  38.8901  10.1423\n",
      "\n",
      "\\begin{tabular}{lrrr}\n",
      "\\toprule\n",
      " & b_auto & se_auto & t_auto \\\\\n",
      "\\midrule\n",
      "Intercept & -1.3774 & 0.4890 & -2.8169 \\\\\n",
      "share_F & -0.7122 & 0.6139 & -1.1602 \\\\\n",
      "Population_standardisee_par_la_consommation_de_soins_par_tranche_d_age & 0.0000 & 0.0000 & 11.9528 \\\\\n",
      "APL & -0.3234 & 0.1149 & -2.8145 \\\\\n",
      "Nb_doct_D_8km & 394.4332 & 38.8901 & 10.1423 \\\\\n",
      "\\bottomrule\n",
      "\\end{tabular}\n",
      "\n"
     ]
    }
   ],
   "source": [
    "import numpy as np\n",
    "import pandas as pd\n",
    "import linearmodels.iv as iv\n",
    "import statsmodels.formula.api as smf\n",
    "\n",
    "# IV automatically\n",
    "reg_iv = iv.IV2SLS.from_formula(formula=' sum ~ 1 + [Nb_doct_D_8km ~ MED14] + share_F + Population_standardisee_par_la_consommation_de_soins_par_tranche_d_age + APL', data=dataFF_red_norm_gauss)\n",
    "results_iv = reg_iv.fit()\n",
    "\n",
    "# print regression table:\n",
    "table_iv = pd.DataFrame({'b_auto': round(results_iv.params, 4),\n",
    "                         'se_auto': round(results_iv.std_errors, 4),\n",
    "                         't_auto': round(results_iv.tstats, 4)})\n",
    "print(f'table_iv: \\n{table_iv}\\n')\n",
    "latex_table = table_iv.to_latex(index=True, header=True, column_format='lrrr', float_format=\"%.4f\")\n",
    "\n",
    "print(latex_table)"
   ]
  },
  {
   "cell_type": "code",
   "execution_count": 189,
   "metadata": {},
   "outputs": [
    {
     "name": "stdout",
     "output_type": "stream",
     "text": [
      "results.summary(): \n",
      "                            OLS Regression Results                            \n",
      "==============================================================================\n",
      "Dep. Variable:                    sum   R-squared:                       0.021\n",
      "Model:                            OLS   Adj. R-squared:                  0.020\n",
      "Method:                 Least Squares   F-statistic:                     33.84\n",
      "Date:                Wed, 23 Oct 2024   Prob (F-statistic):           5.57e-28\n",
      "Time:                        16:36:34   Log-Likelihood:                -23105.\n",
      "No. Observations:                6333   AIC:                         4.622e+04\n",
      "Df Residuals:                    6328   BIC:                         4.625e+04\n",
      "Df Model:                           4                                         \n",
      "Covariance Type:            nonrobust                                         \n",
      "==========================================================================================================================================\n",
      "                                                                             coef    std err          t      P>|t|      [0.025      0.975]\n",
      "------------------------------------------------------------------------------------------------------------------------------------------\n",
      "Intercept                                                                 -1.4140      0.501     -2.824      0.005      -2.395      -0.433\n",
      "share_F                                                                    0.1351      0.701      0.193      0.847      -1.239       1.509\n",
      "Population_standardisee_par_la_consommation_de_soins_par_tranche_d_age  1.672e-05   1.67e-06     10.040      0.000    1.35e-05       2e-05\n",
      "APL                                                                        0.0399      0.106      0.375      0.708      -0.168       0.248\n",
      "Nb_doct_D_8km                                                             92.6441     13.975      6.629      0.000      65.249     120.040\n",
      "==============================================================================\n",
      "Omnibus:                      546.789   Durbin-Watson:                   0.920\n",
      "Prob(Omnibus):                  0.000   Jarque-Bera (JB):             2234.281\n",
      "Skew:                           0.349   Prob(JB):                         0.00\n",
      "Kurtosis:                       5.825   Cond. No.                     1.04e+07\n",
      "==============================================================================\n",
      "\n",
      "Notes:\n",
      "[1] Standard Errors assume that the covariance matrix of the errors is correctly specified.\n",
      "[2] The condition number is large, 1.04e+07. This might indicate that there are\n",
      "strong multicollinearity or other numerical problems.\n",
      "\n",
      "table: \n",
      "                                                          b       se        t  \\\n",
      "Intercept                                           -1.4140   0.5007  -2.8242   \n",
      "share_F                                              0.1351   0.7010   0.1927   \n",
      "Population_standardisee_par_la_consommation_de_...   0.0000   0.0000  10.0403   \n",
      "APL                                                  0.0399   0.1063   0.3752   \n",
      "Nb_doct_D_8km                                       92.6441  13.9749   6.6293   \n",
      "\n",
      "                                                      pval  \n",
      "Intercept                                           0.0048  \n",
      "share_F                                             0.8472  \n",
      "Population_standardisee_par_la_consommation_de_...  0.0000  \n",
      "APL                                                 0.7075  \n",
      "Nb_doct_D_8km                                       0.0000  \n",
      "\n"
     ]
    }
   ],
   "source": [
    "reg = smf.ols(formula='sum~share_F+Population_standardisee_par_la_consommation_de_soins_par_tranche_d_age+APL+Nb_doct_D_8km', data=dataFF_red_norm_gauss)\n",
    "results = reg.fit()\n",
    "b = results.params\n",
    "#print(f'b: \\n{b}\\n')\n",
    "\n",
    "# print results using summary:\n",
    "print(f'results.summary(): \\n{results.summary()}\\n')\n",
    "\n",
    "# print regression table:\n",
    "table = pd.DataFrame({'b': round(results.params, 4),\n",
    "                      'se': round(results.bse, 4),\n",
    "                      't': round(results.tvalues, 4),\n",
    "                      'pval': round(results.pvalues, 4)})\n",
    "print(f'table: \\n{table}\\n')"
   ]
  },
  {
   "cell_type": "code",
   "execution_count": 92,
   "metadata": {},
   "outputs": [
    {
     "name": "stdout",
     "output_type": "stream",
     "text": [
      "Rang de la matrice des instruments : 4\n"
     ]
    }
   ],
   "source": [
    "from numpy.linalg import matrix_rank\n",
    "\n",
    "# Tester la colinéarité globale sur les instruments\n",
    "instruments = dataFF_red_norm_gauss[['MED14', 'share_F', 'APL', 'Population_standardisee_par_la_consommation_de_soins_par_tranche_d_age']]\n",
    "rank = matrix_rank(instruments.values)\n",
    "print(\"Rang de la matrice des instruments :\", rank)"
   ]
  },
  {
   "cell_type": "code",
   "execution_count": 94,
   "metadata": {},
   "outputs": [
    {
     "data": {
      "image/png": "[encoded data removed]",
      "text/plain": [
       "<Figure size 640x480 with 2 Axes>"
      ]
     },
     "metadata": {},
     "output_type": "display_data"
    }
   ],
   "source": [
    "import seaborn as sns\n",
    "import matplotlib.pyplot as plt\n",
    "\n",
    "corr_matrix = dataFF_red_norm_gauss[['MED14', 'share_F', 'APL', 'Population_standardisee_par_la_consommation_de_soins_par_tranche_d_age']].corr()\n",
    "sns.heatmap(corr_matrix, annot=True, cmap='coolwarm')\n",
    "plt.show()"
   ]
  }
 ],
 "metadata": {
  "kernelspec": {
   "display_name": "base",
   "language": "python",
   "name": "python3"
  },
  "language_info": {
   "codemirror_mode": {
    "name": "ipython",
    "version": 3
   },
   "file_extension": ".py",
   "mimetype": "text/x-python",
   "name": "python",
   "nbconvert_exporter": "python",
   "pygments_lexer": "ipython3",
   "version": "3.12.2"
  }
 },
 "nbformat": 4,
 "nbformat_minor": 2
}
