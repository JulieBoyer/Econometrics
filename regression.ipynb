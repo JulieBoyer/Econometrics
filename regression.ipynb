{
 "cells": [
  {
   "cell_type": "code",
   "execution_count": 2,
   "metadata": {},
   "outputs": [],
   "source": [
    "import numpy as np\n",
    "from scipy.stats import entropy\n",
    "import pandas as pd\n",
    "import math\n",
    "import matplotlib.pyplot as plt\n",
    "import wooldridge as woo\n",
    "import statsmodels.formula.api as smf"
   ]
  },
  {
   "cell_type": "code",
   "execution_count": 3,
   "metadata": {},
   "outputs": [],
   "source": [
    "dataFF_red_norm = pd.read_csv('dataFF_red_norm.csv')"
   ]
  },
  {
   "cell_type": "code",
   "execution_count": 7,
   "metadata": {},
   "outputs": [],
   "source": [
    "medecin_gen=pd.read_csv('medecin_gen.csv')"
   ]
  },
  {
   "cell_type": "code",
   "execution_count": 27,
   "metadata": {},
   "outputs": [
    {
     "name": "stdout",
     "output_type": "stream",
     "text": [
      "b: \n",
      "Intercept    1018.661696\n",
      "APL           -69.457970\n",
      "dtype: float64\n",
      "\n"
     ]
    },
    {
     "data": {
      "text/plain": [
       "Text(0.5, 0, 'APL')"
      ]
     },
     "execution_count": 27,
     "metadata": {},
     "output_type": "execute_result"
    },
    {
     "data": {
      "image/png": "[encoded data removed]",
      "text/plain": [
       "<Figure size 640x480 with 1 Axes>"
      ]
     },
     "metadata": {},
     "output_type": "display_data"
    }
   ],
   "source": [
    "reg = smf.ols(formula='Nb_caracteres_presentation ~ APL', data=medecin_gen)\n",
    "results = reg.fit()\n",
    "b = results.params\n",
    "print(f'b: \\n{b}\\n')\n",
    "\n",
    "# scatter plot and fitted values:\n",
    "plt.plot('APL', 'Nb_caracteres_presentation', data=medecin_gen, color='grey', marker='o', linestyle='')\n",
    "plt.plot(medecin_gen['APL'], results.fittedvalues, color='black', linestyle='-')\n",
    "plt.ylabel('Nb_caracteres_presentation')\n",
    "plt.xlabel('APL')"
   ]
  },
  {
   "cell_type": "code",
   "execution_count": 26,
   "metadata": {},
   "outputs": [
    {
     "name": "stdout",
     "output_type": "stream",
     "text": [
      "results.summary(): \n",
      "                                    OLS Regression Results                                    \n",
      "==============================================================================================\n",
      "Dep. Variable:     np.log(Nb_caracteres_presentation)   R-squared:                       0.035\n",
      "Model:                                            OLS   Adj. R-squared:                  0.013\n",
      "Method:                                 Least Squares   F-statistic:                     1.591\n",
      "Date:                                Wed, 09 Oct 2024   Prob (F-statistic):              0.214\n",
      "Time:                                        14:57:39   Log-Likelihood:                -47.893\n",
      "No. Observations:                                  46   AIC:                             99.79\n",
      "Df Residuals:                                      44   BIC:                             103.4\n",
      "Df Model:                                           1                                         \n",
      "Covariance Type:                            nonrobust                                         \n",
      "==============================================================================\n",
      "                 coef    std err          t      P>|t|      [0.025      0.975]\n",
      "------------------------------------------------------------------------------\n",
      "Intercept      6.9045      0.437     15.789      0.000       6.023       7.786\n",
      "APL           -0.1495      0.119     -1.261      0.214      -0.389       0.089\n",
      "==============================================================================\n",
      "Omnibus:                        6.335   Durbin-Watson:                   1.796\n",
      "Prob(Omnibus):                  0.042   Jarque-Bera (JB):                6.159\n",
      "Skew:                           0.894   Prob(JB):                       0.0460\n",
      "Kurtosis:                       2.876   Cond. No.                         16.7\n",
      "==============================================================================\n",
      "\n",
      "Notes:\n",
      "[1] Standard Errors assume that the covariance matrix of the errors is correctly specified.\n",
      "\n",
      "table: \n",
      "                b      se        t    pval\n",
      "Intercept  6.9045  0.4373  15.7890  0.0000\n",
      "APL       -0.1495  0.1186  -1.2613  0.2138\n",
      "\n"
     ]
    }
   ],
   "source": [
    "# print results using summary:\n",
    "print(f'results.summary(): \\n{results.summary()}\\n')\n",
    "\n",
    "# print regression table:\n",
    "table = pd.DataFrame({'b': round(results.params, 4),\n",
    "                      'se': round(results.bse, 4),\n",
    "                      't': round(results.tvalues, 4),\n",
    "                      'pval': round(results.pvalues, 4)})\n",
    "print(f'table: \\n{table}\\n')\n",
    "#vote1.describe()"
   ]
  }
 ],
 "metadata": {
  "kernelspec": {
   "display_name": "base",
   "language": "python",
   "name": "python3"
  },
  "language_info": {
   "codemirror_mode": {
    "name": "ipython",
    "version": 3
   },
   "file_extension": ".py",
   "mimetype": "text/x-python",
   "name": "python",
   "nbconvert_exporter": "python",
   "pygments_lexer": "ipython3",
   "version": "3.11.4"
  }
 },
 "nbformat": 4,
 "nbformat_minor": 2
}
