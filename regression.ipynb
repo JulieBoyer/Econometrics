{
 "cells": [
  {
   "cell_type": "code",
   "execution_count": 1,
   "metadata": {},
   "outputs": [],
   "source": [
    "import numpy as np\n",
    "from scipy.stats import entropy\n",
    "import pandas as pd\n",
    "import math\n",
    "import matplotlib.pyplot as plt\n",
    "import wooldridge as woo\n",
    "import statsmodels.formula.api as smf"
   ]
  },
  {
   "cell_type": "markdown",
   "metadata": {},
   "source": [
    "# Step 0 : We import the necessary files"
   ]
  },
  {
   "cell_type": "code",
   "execution_count": 2,
   "metadata": {},
   "outputs": [],
   "source": [
    "dataFF_red_norm01 = pd.read_csv('dataFF_red_norm01.csv')\n",
    "dataFF_red_norm_gauss = pd.read_csv('dataFF_red_norm_gauss.csv')"
   ]
  },
  {
   "cell_type": "markdown",
   "metadata": {},
   "source": [
    "# Step 2 : We do regressions"
   ]
  },
  {
   "cell_type": "code",
   "execution_count": 3,
   "metadata": {},
   "outputs": [
    {
     "name": "stdout",
     "output_type": "stream",
     "text": [
      "b: \n",
      "Intercept       0.053322\n",
      "Nb_doct_2km    -0.044071\n",
      "Nb_doct_8km     0.083637\n",
      "Nb_doct_30km   -0.002200\n",
      "dtype: float64\n",
      "\n"
     ]
    },
    {
     "data": {
      "text/plain": [
       "\"# scatter plot and fitted values:\\nplt.plot('APL', 'Nb_carac_présentation', data=dataFF_red_norm, color='grey', marker='o', linestyle='')\\nplt.plot(dataFF_red_norm['APL'], results.fittedvalues, color='black', linestyle='-')\\nplt.ylabel('Nb_caracteres_presentation')\\nplt.xlabel('APL')\""
      ]
     },
     "execution_count": 3,
     "metadata": {},
     "output_type": "execute_result"
    }
   ],
   "source": [
    "reg = smf.ols(formula='Nb_carac_présentation~ Nb_doct_2km+Nb_doct_8km+Nb_doct_30km', data=dataFF_red_norm01)\n",
    "results = reg.fit()\n",
    "b = results.params\n",
    "print(f'b: \\n{b}\\n')\n",
    "\n",
    "\"\"\"# scatter plot and fitted values:\n",
    "plt.plot('APL', 'Nb_carac_présentation', data=dataFF_red_norm, color='grey', marker='o', linestyle='')\n",
    "plt.plot(dataFF_red_norm['APL'], results.fittedvalues, color='black', linestyle='-')\n",
    "plt.ylabel('Nb_caracteres_presentation')\n",
    "plt.xlabel('APL')\"\"\""
   ]
  },
  {
   "cell_type": "code",
   "execution_count": 13,
   "metadata": {},
   "outputs": [
    {
     "name": "stdout",
     "output_type": "stream",
     "text": [
      "results.summary(): \n",
      "                            OLS Regression Results                            \n",
      "==============================================================================\n",
      "Dep. Variable:          Nb_doct_D_8km   R-squared:                       0.070\n",
      "Model:                            OLS   Adj. R-squared:                  0.069\n",
      "Method:                 Least Squares   F-statistic:                     155.0\n",
      "Date:                Mon, 21 Oct 2024   Prob (F-statistic):           6.89e-97\n",
      "Time:                        16:34:39   Log-Likelihood:                 20887.\n",
      "No. Observations:                6204   AIC:                        -4.177e+04\n",
      "Df Residuals:                    6200   BIC:                        -4.174e+04\n",
      "Df Model:                           3                                         \n",
      "Covariance Type:            nonrobust                                         \n",
      "==========================================================================================================================================\n",
      "                                                                             coef    std err          t      P>|t|      [0.025      0.975]\n",
      "------------------------------------------------------------------------------------------------------------------------------------------\n",
      "Intercept                                                                 -0.0054      0.001     -7.930      0.000      -0.007      -0.004\n",
      "Fibre                                                                      0.0101      0.001     15.054      0.000       0.009       0.011\n",
      "share_F                                                                    0.0039      0.001      6.264      0.000       0.003       0.005\n",
      "Population_standardisee_par_la_consommation_de_soins_par_tranche_d_age -2.258e-08   1.45e-09    -15.556      0.000   -2.54e-08   -1.97e-08\n",
      "==============================================================================\n",
      "Omnibus:                     2322.344   Durbin-Watson:                   1.441\n",
      "Prob(Omnibus):                  0.000   Jarque-Bera (JB):             6526.398\n",
      "Skew:                           2.061   Prob(JB):                         0.00\n",
      "Kurtosis:                       5.873   Cond. No.                     7.81e+05\n",
      "==============================================================================\n",
      "\n",
      "Notes:\n",
      "[1] Standard Errors assume that the covariance matrix of the errors is correctly specified.\n",
      "[2] The condition number is large, 7.81e+05. This might indicate that there are\n",
      "strong multicollinearity or other numerical problems.\n",
      "\n",
      "table: \n",
      "                                                         b      se        t  \\\n",
      "Intercept                                          -0.0054  0.0007  -7.9299   \n",
      "Fibre                                               0.0101  0.0007  15.0543   \n",
      "share_F                                             0.0039  0.0006   6.2639   \n",
      "Population_standardisee_par_la_consommation_de_... -0.0000  0.0000 -15.5559   \n",
      "\n",
      "                                                    pval  \n",
      "Intercept                                            0.0  \n",
      "Fibre                                                0.0  \n",
      "share_F                                              0.0  \n",
      "Population_standardisee_par_la_consommation_de_...   0.0  \n",
      "\n"
     ]
    }
   ],
   "source": [
    "# print results using summary:\n",
    "print(f'results.summary(): \\n{results.summary()}\\n')\n",
    "\n",
    "# print regression table:\n",
    "table = pd.DataFrame({'b': round(results.params, 4),\n",
    "                      'se': round(results.bse, 4),\n",
    "                      't': round(results.tvalues, 4),\n",
    "                      'pval': round(results.pvalues, 4)})\n",
    "print(f'table: \\n{table}\\n')"
   ]
  },
  {
   "cell_type": "code",
   "execution_count": 16,
   "metadata": {},
   "outputs": [
    {
     "name": "stdout",
     "output_type": "stream",
     "text": [
      "b: \n",
      "Intercept          -0.275568\n",
      "Nb_doct_2km      -382.532551\n",
      "Nb_doct_8km       -69.634074\n",
      "Nb_doct_30km       -1.580851\n",
      "Nb_doct_f_2km     693.034708\n",
      "Nb_doct_f_8km     161.105423\n",
      "Nb_doct_f_30km      0.886223\n",
      "dtype: float64\n",
      "\n",
      "\n",
      "\\begin{table}[htbp]\n",
      "    \\centering\n",
      "    \\begin{tabular}{lcccc}\n",
      "        \\hline\n",
      "        \\textbf{Variable} & \\textbf{Coefficient} & \\textbf{Erreur standard} & \\textbf{t-stat} & \\textbf{p-valeur} \\\\\n",
      "        \\hline\n",
      "        Constante & -0.2756 & 0.1477 & -1.8663 & 0.0620 \\\\\n",
      "        X1 & -382.5326 & 126.7427 & -3.0182 & 0.0026 \\\\\n",
      "        X2 & -69.6341 & 34.2959 & -2.0304 & 0.0424 \\\\\n",
      "        \\hline\n",
      "    \\end{tabular}\n",
      "    \\caption{Résultats de la régression linéaire}\n",
      "    \\label{tab:regression_results}\n",
      "\\end{table}\n",
      "\n"
     ]
    }
   ],
   "source": [
    "reg = smf.ols(formula='sum~ Nb_doct_2km+Nb_doct_8km+Nb_doct_30km+Nb_doct_f_2km+Nb_doct_f_8km+Nb_doct_f_30km', data=dataFF_red_norm_gauss)\n",
    "results = reg.fit()\n",
    "b = results.params\n",
    "print(f'b: \\n{b}\\n')\n",
    "\n",
    "# Extraire les résultats pour les mettre en LaTeX\n",
    "params = results.params\n",
    "bse = results.bse\n",
    "tvalues = results.tvalues\n",
    "pvalues = results.pvalues\n",
    "\n",
    "# Générer un tableau LaTeX\n",
    "latex_table = f\"\"\"\n",
    "\\\\begin{{table}}[htbp]\n",
    "    \\\\centering\n",
    "    \\\\begin{{tabular}}{{lcccc}}\n",
    "        \\\\hline\n",
    "        \\\\textbf{{Variable}} & \\\\textbf{{Coefficient}} & \\\\textbf{{Erreur standard}} & \\\\textbf{{t-stat}} & \\\\textbf{{p-valeur}} \\\\\\\\\n",
    "        \\\\hline\n",
    "        Constante & {params.iloc[0]:.4f} & {bse.iloc[0]:.4f} & {tvalues.iloc[0]:.4f} & {pvalues.iloc[0]:.4f} \\\\\\\\\n",
    "        X1 & {params.iloc[1]:.4f} & {bse.iloc[1]:.4f} & {tvalues.iloc[1]:.4f} & {pvalues.iloc[1]:.4f} \\\\\\\\\n",
    "        X2 & {params.iloc[2]:.4f} & {bse.iloc[2]:.4f} & {tvalues.iloc[2]:.4f} & {pvalues.iloc[2]:.4f} \\\\\\\\\n",
    "        \\\\hline\n",
    "    \\\\end{{tabular}}\n",
    "    \\\\caption{{Résultats de la régression linéaire}}\n",
    "    \\\\label{{tab:regression_results}}\n",
    "\\\\end{{table}}\n",
    "\"\"\"\n",
    "\n",
    "# Afficher le tableau LaTeX\n",
    "print(latex_table)\n"
   ]
  },
  {
   "cell_type": "code",
   "execution_count": 6,
   "metadata": {},
   "outputs": [
    {
     "name": "stdout",
     "output_type": "stream",
     "text": [
      "results.summary(): \n",
      "                            OLS Regression Results                            \n",
      "==============================================================================\n",
      "Dep. Variable:                    sum   R-squared:                       0.012\n",
      "Model:                            OLS   Adj. R-squared:                  0.011\n",
      "Method:                 Least Squares   F-statistic:                     12.28\n",
      "Date:                Mon, 21 Oct 2024   Prob (F-statistic):           8.70e-14\n",
      "Time:                        16:32:42   Log-Likelihood:                -22753.\n",
      "No. Observations:                6204   AIC:                         4.552e+04\n",
      "Df Residuals:                    6197   BIC:                         4.557e+04\n",
      "Df Model:                           6                                         \n",
      "Covariance Type:            nonrobust                                         \n",
      "==================================================================================\n",
      "                     coef    std err          t      P>|t|      [0.025      0.975]\n",
      "----------------------------------------------------------------------------------\n",
      "Intercept         -0.2756      0.148     -1.866      0.062      -0.565       0.014\n",
      "Nb_doct_2km     -382.5326    126.743     -3.018      0.003    -630.992    -134.073\n",
      "Nb_doct_8km      -69.6341     34.296     -2.030      0.042    -136.866      -2.402\n",
      "Nb_doct_30km      -1.5809      5.953     -0.266      0.791     -13.251      10.089\n",
      "Nb_doct_f_2km    693.0347    236.821      2.926      0.003     228.783    1157.287\n",
      "Nb_doct_f_8km    161.1054     63.700      2.529      0.011      36.231     285.980\n",
      "Nb_doct_f_30km     0.8862     11.240      0.079      0.937     -21.149      22.921\n",
      "==============================================================================\n",
      "Omnibus:                      552.810   Durbin-Watson:                   0.914\n",
      "Prob(Omnibus):                  0.000   Jarque-Bera (JB):             1825.424\n",
      "Skew:                           0.439   Prob(JB):                         0.00\n",
      "Kurtosis:                       5.508   Cond. No.                     2.31e+03\n",
      "==============================================================================\n",
      "\n",
      "Notes:\n",
      "[1] Standard Errors assume that the covariance matrix of the errors is correctly specified.\n",
      "[2] The condition number is large, 2.31e+03. This might indicate that there are\n",
      "strong multicollinearity or other numerical problems.\n",
      "\n",
      "table: \n",
      "                       b        se       t    pval\n",
      "Intercept        -0.2756    0.1477 -1.8663  0.0620\n",
      "Nb_doct_2km    -382.5326  126.7427 -3.0182  0.0026\n",
      "Nb_doct_8km     -69.6341   34.2959 -2.0304  0.0424\n",
      "Nb_doct_30km     -1.5809    5.9529 -0.2656  0.7906\n",
      "Nb_doct_f_2km   693.0347  236.8213  2.9264  0.0034\n",
      "Nb_doct_f_8km   161.1054   63.7001  2.5291  0.0115\n",
      "Nb_doct_f_30km    0.8862   11.2405  0.0788  0.9372\n",
      "\n"
     ]
    }
   ],
   "source": [
    "# print results using summary:\n",
    "print(f'results.summary(): \\n{results.summary()}\\n')\n",
    "\n",
    "# print regression table:\n",
    "table = pd.DataFrame({'b': round(results.params, 4),\n",
    "                      'se': round(results.bse, 4),\n",
    "                      't': round(results.tvalues, 4),\n",
    "                      'pval': round(results.pvalues, 4)})\n",
    "print(f'table: \\n{table}\\n')\n",
    "#vote1.describe()"
   ]
  },
  {
   "cell_type": "markdown",
   "metadata": {},
   "source": [
    "## Regression sur l'instrument"
   ]
  },
  {
   "cell_type": "code",
   "execution_count": 7,
   "metadata": {},
   "outputs": [
    {
     "data": {
      "text/plain": [
       "Index(['Unnamed: 0', 'Nb_Skills', 'moyens_paiement', 'carte_vitale', 'site',\n",
       "       'Nb_carac_présentation', 'Nb_langues', 'Carac_card_1', 'Transport',\n",
       "       'Parking', 'Coordonnées', 'Sans_RDV', 'nb_terms_card_0',\n",
       "       'nb_terms_card_3', 'nb_terms_card_4', 'nb_carac_card_0',\n",
       "       'nb_carac_card_3', 'nb_carac_card_4',\n",
       "       'Diplômes_nationaux_et_universitaires_b', 'Autres_formations_b',\n",
       "       'Expériences_b', 'Formations_b', 'Travaux_et_publications_b', 'RPPS',\n",
       "       'share_F',\n",
       "       'Population standardisée par la consommation de soins par tranche d'âge',\n",
       "       'secteur', 'Nb_doct_2km', 'Nb_doct_8km', 'Nb_doct_30km',\n",
       "       'Nb_doct_f_2km', 'Nb_doct_f_8km', 'Nb_doct_f_30km', 'Nb_doct_D_2km',\n",
       "       'Nb_doct_D_8km', 'Nb_doct_D_30km', 'Nb_doct_f_D_2km', 'Nb_doct_f_D_8km',\n",
       "       'Nb_doct_f_D_30km', 'APL', 'Fibre', 'share_Doctolib'],\n",
       "      dtype='object')"
      ]
     },
     "execution_count": 7,
     "metadata": {},
     "output_type": "execute_result"
    }
   ],
   "source": [
    "dataFF_red_norm01.columns"
   ]
  },
  {
   "cell_type": "code",
   "execution_count": 8,
   "metadata": {},
   "outputs": [],
   "source": [
    "dataFF_red_norm01=dataFF_red_norm01.rename(columns={\"Population standardisée par la consommation de soins par tranche d'âge\": \"Population_standardisee_par_la_consommation_de_soins_par_tranche_d_age\"})"
   ]
  },
  {
   "cell_type": "code",
   "execution_count": 9,
   "metadata": {},
   "outputs": [
    {
     "name": "stdout",
     "output_type": "stream",
     "text": [
      "b: \n",
      "Intercept                                                                 4.843796e-01\n",
      "Fibre                                                                    -2.923922e-01\n",
      "share_F                                                                  -7.325937e-03\n",
      "Population_standardisee_par_la_consommation_de_soins_par_tranche_d_age   -8.683935e-07\n",
      "dtype: float64\n",
      "\n"
     ]
    }
   ],
   "source": [
    "reg = smf.ols(formula='share_Doctolib~Fibre+share_F+Population_standardisee_par_la_consommation_de_soins_par_tranche_d_age', data=dataFF_red_norm01)\n",
    "results = reg.fit()\n",
    "b = results.params\n",
    "print(f'b: \\n{b}\\n')"
   ]
  },
  {
   "cell_type": "code",
   "execution_count": 10,
   "metadata": {},
   "outputs": [
    {
     "name": "stdout",
     "output_type": "stream",
     "text": [
      "results.summary(): \n",
      "                            OLS Regression Results                            \n",
      "==============================================================================\n",
      "Dep. Variable:         share_Doctolib   R-squared:                       0.153\n",
      "Model:                            OLS   Adj. R-squared:                  0.153\n",
      "Method:                 Least Squares   F-statistic:                     373.5\n",
      "Date:                Mon, 21 Oct 2024   Prob (F-statistic):          5.67e-223\n",
      "Time:                        16:32:42   Log-Likelihood:                 1460.7\n",
      "No. Observations:                6204   AIC:                            -2913.\n",
      "Df Residuals:                    6200   BIC:                            -2886.\n",
      "Df Model:                           3                                         \n",
      "Covariance Type:            nonrobust                                         \n",
      "==========================================================================================================================================\n",
      "                                                                             coef    std err          t      P>|t|      [0.025      0.975]\n",
      "------------------------------------------------------------------------------------------------------------------------------------------\n",
      "Intercept                                                                  0.4844      0.016     30.835      0.000       0.454       0.515\n",
      "Fibre                                                                     -0.2924      0.015    -18.957      0.000      -0.323      -0.262\n",
      "share_F                                                                   -0.0073      0.014     -0.518      0.604      -0.035       0.020\n",
      "Population_standardisee_par_la_consommation_de_soins_par_tranche_d_age -8.684e-07   3.32e-08    -26.121      0.000   -9.34e-07   -8.03e-07\n",
      "==============================================================================\n",
      "Omnibus:                     2904.635   Durbin-Watson:                   1.491\n",
      "Prob(Omnibus):                  0.000   Jarque-Bera (JB):            14814.617\n",
      "Skew:                           2.272   Prob(JB):                         0.00\n",
      "Kurtosis:                       9.055   Cond. No.                     7.81e+05\n",
      "==============================================================================\n",
      "\n",
      "Notes:\n",
      "[1] Standard Errors assume that the covariance matrix of the errors is correctly specified.\n",
      "[2] The condition number is large, 7.81e+05. This might indicate that there are\n",
      "strong multicollinearity or other numerical problems.\n",
      "\n",
      "table: \n",
      "                                                         b      se        t  \\\n",
      "Intercept                                           0.4844  0.0157  30.8353   \n",
      "Fibre                                              -0.2924  0.0154 -18.9574   \n",
      "share_F                                            -0.0073  0.0141  -0.5181   \n",
      "Population_standardisee_par_la_consommation_de_... -0.0000  0.0000 -26.1215   \n",
      "\n",
      "                                                      pval  \n",
      "Intercept                                           0.0000  \n",
      "Fibre                                               0.0000  \n",
      "share_F                                             0.6044  \n",
      "Population_standardisee_par_la_consommation_de_...  0.0000  \n",
      "\n"
     ]
    }
   ],
   "source": [
    "# print results using summary:\n",
    "print(f'results.summary(): \\n{results.summary()}\\n')\n",
    "\n",
    "# print regression table:\n",
    "table = pd.DataFrame({'b': round(results.params, 4),\n",
    "                      'se': round(results.bse, 4),\n",
    "                      't': round(results.tvalues, 4),\n",
    "                      'pval': round(results.pvalues, 4)})\n",
    "print(f'table: \\n{table}\\n')\n",
    "#vote1.describe()"
   ]
  },
  {
   "cell_type": "markdown",
   "metadata": {},
   "source": [
    "the instrument is sufficiently strong/relevant to identify the endogenous variable if the first-stage f-statistic is larger than 10 and here F-statistic = 0.153, the instrumebt is then relevant"
   ]
  },
  {
   "cell_type": "code",
   "execution_count": 11,
   "metadata": {},
   "outputs": [
    {
     "name": "stdout",
     "output_type": "stream",
     "text": [
      "results.summary(): \n",
      "                            OLS Regression Results                            \n",
      "==============================================================================\n",
      "Dep. Variable:          Nb_doct_D_2km   R-squared:                       0.052\n",
      "Model:                            OLS   Adj. R-squared:                  0.051\n",
      "Method:                 Least Squares   F-statistic:                     113.2\n",
      "Date:                Mon, 21 Oct 2024   Prob (F-statistic):           2.31e-71\n",
      "Time:                        16:32:42   Log-Likelihood:                 20836.\n",
      "No. Observations:                6204   AIC:                        -4.166e+04\n",
      "Df Residuals:                    6200   BIC:                        -4.164e+04\n",
      "Df Model:                           3                                         \n",
      "Covariance Type:            nonrobust                                         \n",
      "==========================================================================================================================================\n",
      "                                                                             coef    std err          t      P>|t|      [0.025      0.975]\n",
      "------------------------------------------------------------------------------------------------------------------------------------------\n",
      "Intercept                                                                 -0.0056      0.001     -8.145      0.000      -0.007      -0.004\n",
      "Fibre                                                                      0.0096      0.001     14.131      0.000       0.008       0.011\n",
      "share_F                                                                    0.0028      0.001      4.425      0.000       0.002       0.004\n",
      "Population_standardisee_par_la_consommation_de_soins_par_tranche_d_age -1.788e-08   1.46e-09    -12.218      0.000   -2.07e-08    -1.5e-08\n",
      "==============================================================================\n",
      "Omnibus:                     2569.623   Durbin-Watson:                   1.404\n",
      "Prob(Omnibus):                  0.000   Jarque-Bera (JB):             8114.442\n",
      "Skew:                           2.235   Prob(JB):                         0.00\n",
      "Kurtosis:                       6.379   Cond. No.                     7.81e+05\n",
      "==============================================================================\n",
      "\n",
      "Notes:\n",
      "[1] Standard Errors assume that the covariance matrix of the errors is correctly specified.\n",
      "[2] The condition number is large, 7.81e+05. This might indicate that there are\n",
      "strong multicollinearity or other numerical problems.\n",
      "\n",
      "table: \n",
      "                                                         b      se        t  \\\n",
      "Intercept                                          -0.0056  0.0007  -8.1452   \n",
      "Fibre                                               0.0096  0.0007  14.1311   \n",
      "share_F                                             0.0028  0.0006   4.4248   \n",
      "Population_standardisee_par_la_consommation_de_... -0.0000  0.0000 -12.2180   \n",
      "\n",
      "                                                    pval  \n",
      "Intercept                                            0.0  \n",
      "Fibre                                                0.0  \n",
      "share_F                                              0.0  \n",
      "Population_standardisee_par_la_consommation_de_...   0.0  \n",
      "\n"
     ]
    }
   ],
   "source": [
    "reg = smf.ols(formula='Nb_doct_D_2km~Fibre+share_F+Population_standardisee_par_la_consommation_de_soins_par_tranche_d_age', data=dataFF_red_norm01)\n",
    "results = reg.fit()\n",
    "b = results.params\n",
    "#print(f'b: \\n{b}\\n')\n",
    "\n",
    "# print results using summary:\n",
    "print(f'results.summary(): \\n{results.summary()}\\n')\n",
    "\n",
    "# print regression table:\n",
    "table = pd.DataFrame({'b': round(results.params, 4),\n",
    "                      'se': round(results.bse, 4),\n",
    "                      't': round(results.tvalues, 4),\n",
    "                      'pval': round(results.pvalues, 4)})\n",
    "print(f'table: \\n{table}\\n')\n",
    "#vote1.describe()"
   ]
  },
  {
   "cell_type": "code",
   "execution_count": 12,
   "metadata": {},
   "outputs": [
    {
     "name": "stdout",
     "output_type": "stream",
     "text": [
      "results.summary(): \n",
      "                            OLS Regression Results                            \n",
      "==============================================================================\n",
      "Dep. Variable:          Nb_doct_D_8km   R-squared:                       0.070\n",
      "Model:                            OLS   Adj. R-squared:                  0.069\n",
      "Method:                 Least Squares   F-statistic:                     155.0\n",
      "Date:                Mon, 21 Oct 2024   Prob (F-statistic):           6.89e-97\n",
      "Time:                        16:32:42   Log-Likelihood:                 20887.\n",
      "No. Observations:                6204   AIC:                        -4.177e+04\n",
      "Df Residuals:                    6200   BIC:                        -4.174e+04\n",
      "Df Model:                           3                                         \n",
      "Covariance Type:            nonrobust                                         \n",
      "==========================================================================================================================================\n",
      "                                                                             coef    std err          t      P>|t|      [0.025      0.975]\n",
      "------------------------------------------------------------------------------------------------------------------------------------------\n",
      "Intercept                                                                 -0.0054      0.001     -7.930      0.000      -0.007      -0.004\n",
      "Fibre                                                                      0.0101      0.001     15.054      0.000       0.009       0.011\n",
      "share_F                                                                    0.0039      0.001      6.264      0.000       0.003       0.005\n",
      "Population_standardisee_par_la_consommation_de_soins_par_tranche_d_age -2.258e-08   1.45e-09    -15.556      0.000   -2.54e-08   -1.97e-08\n",
      "==============================================================================\n",
      "Omnibus:                     2322.344   Durbin-Watson:                   1.441\n",
      "Prob(Omnibus):                  0.000   Jarque-Bera (JB):             6526.398\n",
      "Skew:                           2.061   Prob(JB):                         0.00\n",
      "Kurtosis:                       5.873   Cond. No.                     7.81e+05\n",
      "==============================================================================\n",
      "\n",
      "Notes:\n",
      "[1] Standard Errors assume that the covariance matrix of the errors is correctly specified.\n",
      "[2] The condition number is large, 7.81e+05. This might indicate that there are\n",
      "strong multicollinearity or other numerical problems.\n",
      "\n",
      "table: \n",
      "                                                         b      se        t  \\\n",
      "Intercept                                          -0.0054  0.0007  -7.9299   \n",
      "Fibre                                               0.0101  0.0007  15.0543   \n",
      "share_F                                             0.0039  0.0006   6.2639   \n",
      "Population_standardisee_par_la_consommation_de_... -0.0000  0.0000 -15.5559   \n",
      "\n",
      "                                                    pval  \n",
      "Intercept                                            0.0  \n",
      "Fibre                                                0.0  \n",
      "share_F                                              0.0  \n",
      "Population_standardisee_par_la_consommation_de_...   0.0  \n",
      "\n"
     ]
    }
   ],
   "source": [
    "reg = smf.ols(formula='Nb_doct_D_8km~Fibre+share_F+Population_standardisee_par_la_consommation_de_soins_par_tranche_d_age', data=dataFF_red_norm01)\n",
    "results = reg.fit()\n",
    "b = results.params\n",
    "#print(f'b: \\n{b}\\n')\n",
    "\n",
    "# print results using summary:\n",
    "print(f'results.summary(): \\n{results.summary()}\\n')\n",
    "\n",
    "# print regression table:\n",
    "table = pd.DataFrame({'b': round(results.params, 4),\n",
    "                      'se': round(results.bse, 4),\n",
    "                      't': round(results.tvalues, 4),\n",
    "                      'pval': round(results.pvalues, 4)})\n",
    "print(f'table: \\n{table}\\n')\n",
    "#vote1.describe()"
   ]
  }
 ],
 "metadata": {
  "kernelspec": {
   "display_name": "base",
   "language": "python",
   "name": "python3"
  },
  "language_info": {
   "codemirror_mode": {
    "name": "ipython",
    "version": 3
   },
   "file_extension": ".py",
   "mimetype": "text/x-python",
   "name": "python",
   "nbconvert_exporter": "python",
   "pygments_lexer": "ipython3",
   "version": "3.11.4"
  }
 },
 "nbformat": 4,
 "nbformat_minor": 2
}
