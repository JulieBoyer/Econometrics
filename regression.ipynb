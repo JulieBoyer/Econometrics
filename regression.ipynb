{
 "cells": [
  {
   "cell_type": "code",
   "execution_count": 1,
   "metadata": {},
   "outputs": [],
   "source": [
    "import numpy as np\n",
    "from scipy.stats import entropy\n",
    "import pandas as pd\n",
    "import math\n",
    "import matplotlib.pyplot as plt\n",
    "import wooldridge as woo\n",
    "import statsmodels.formula.api as smf"
   ]
  },
  {
   "cell_type": "markdown",
   "metadata": {},
   "source": [
    "# Step 0 : We import the necessary files"
   ]
  },
  {
   "cell_type": "code",
   "execution_count": 5,
   "metadata": {},
   "outputs": [],
   "source": [
    "dataFF_red_norm01 = pd.read_csv('dataFF_red_norm01.csv')\n",
    "dataFF_red_norm_gauss = pd.read_csv('dataFF_red_norm_gauss.csv')"
   ]
  },
  {
   "cell_type": "markdown",
   "metadata": {},
   "source": [
    "# Step 1 : We create a new column to sum all the indicator in only one variable"
   ]
  },
  {
   "cell_type": "code",
   "execution_count": 25,
   "metadata": {},
   "outputs": [],
   "source": [
    "dataFF_red_norm_gauss['sum']=dataFF_red_norm_gauss['Nb_Skills']+dataFF_red_norm_gauss['moyens_paiement']+dataFF_red_norm_gauss['carte_vitale']+dataFF_red_norm_gauss['site']+dataFF_red_norm_gauss['Nb_carac_présentation']+dataFF_red_norm_gauss['Nb_langues']+dataFF_red_norm_gauss['Carac_card_1']+dataFF_red_norm_gauss['Transport']+dataFF_red_norm_gauss['Parking']+dataFF_red_norm_gauss['nb_terms_card_0']+dataFF_red_norm_gauss['nb_terms_card_3']+dataFF_red_norm_gauss['nb_terms_card_4']+dataFF_red_norm_gauss['nb_carac_card_0']+dataFF_red_norm_gauss['nb_carac_card_3']+dataFF_red_norm_gauss['nb_carac_card_4']+dataFF_red_norm_gauss['Diplômes_nationaux_et_universitaires_b']+dataFF_red_norm_gauss['Autres_formations_b']+dataFF_red_norm_gauss['Expériences_b']+dataFF_red_norm_gauss['Formations_b']+dataFF_red_norm_gauss['Travaux_et_publications_b']"
   ]
  },
  {
   "cell_type": "markdown",
   "metadata": {},
   "source": [
    "# Step 2 : We do regressions"
   ]
  },
  {
   "cell_type": "code",
   "execution_count": 9,
   "metadata": {},
   "outputs": [
    {
     "name": "stdout",
     "output_type": "stream",
     "text": [
      "b: \n",
      "Intercept       0.194068\n",
      "Nb_doct_2km    -7.022395\n",
      "Nb_doct_8km     7.233395\n",
      "Nb_doct_30km   -0.402543\n",
      "dtype: float64\n",
      "\n"
     ]
    },
    {
     "data": {
      "text/plain": [
       "\"# scatter plot and fitted values:\\nplt.plot('APL', 'Nb_carac_présentation', data=dataFF_red_norm, color='grey', marker='o', linestyle='')\\nplt.plot(dataFF_red_norm['APL'], results.fittedvalues, color='black', linestyle='-')\\nplt.ylabel('Nb_caracteres_presentation')\\nplt.xlabel('APL')\""
      ]
     },
     "execution_count": 9,
     "metadata": {},
     "output_type": "execute_result"
    }
   ],
   "source": [
    "reg = smf.ols(formula='Nb_carac_présentation~ Nb_doct_2km+Nb_doct_8km+Nb_doct_30km', data=dataFF_red_norm01)\n",
    "results = reg.fit()\n",
    "b = results.params\n",
    "print(f'b: \\n{b}\\n')\n",
    "\n",
    "\"\"\"# scatter plot and fitted values:\n",
    "plt.plot('APL', 'Nb_carac_présentation', data=dataFF_red_norm, color='grey', marker='o', linestyle='')\n",
    "plt.plot(dataFF_red_norm['APL'], results.fittedvalues, color='black', linestyle='-')\n",
    "plt.ylabel('Nb_caracteres_presentation')\n",
    "plt.xlabel('APL')\"\"\""
   ]
  },
  {
   "cell_type": "code",
   "execution_count": 10,
   "metadata": {},
   "outputs": [
    {
     "name": "stdout",
     "output_type": "stream",
     "text": [
      "results.summary(): \n",
      "                              OLS Regression Results                             \n",
      "=================================================================================\n",
      "Dep. Variable:     Nb_carac_présentation   R-squared:                       0.074\n",
      "Model:                               OLS   Adj. R-squared:                  0.008\n",
      "Method:                    Least Squares   F-statistic:                     1.116\n",
      "Date:                   Thu, 17 Oct 2024   Prob (F-statistic):              0.353\n",
      "Time:                           08:52:24   Log-Likelihood:                 4.3515\n",
      "No. Observations:                     46   AIC:                           -0.7029\n",
      "Df Residuals:                         42   BIC:                             6.612\n",
      "Df Model:                              3                                         \n",
      "Covariance Type:               nonrobust                                         \n",
      "================================================================================\n",
      "                   coef    std err          t      P>|t|      [0.025      0.975]\n",
      "--------------------------------------------------------------------------------\n",
      "Intercept        0.1941      0.092      2.109      0.041       0.008       0.380\n",
      "Nb_doct_2km     -7.0224      8.694     -0.808      0.424     -24.568      10.524\n",
      "Nb_doct_8km      7.2334      9.638      0.751      0.457     -12.216      26.683\n",
      "Nb_doct_30km    -0.4025      1.840     -0.219      0.828      -4.116       3.311\n",
      "==============================================================================\n",
      "Omnibus:                       34.368   Durbin-Watson:                   1.660\n",
      "Prob(Omnibus):                  0.000   Jarque-Bera (JB):               76.183\n",
      "Skew:                           2.160   Prob(JB):                     2.86e-17\n",
      "Kurtosis:                       7.592   Cond. No.                         404.\n",
      "==============================================================================\n",
      "\n",
      "Notes:\n",
      "[1] Standard Errors assume that the covariance matrix of the errors is correctly specified.\n",
      "\n",
      "table: \n",
      "                   b      se       t    pval\n",
      "Intercept     0.1941  0.0920  2.1088  0.0410\n",
      "Nb_doct_2km  -7.0224  8.6944 -0.8077  0.4238\n",
      "Nb_doct_8km   7.2334  9.6378  0.7505  0.4571\n",
      "Nb_doct_30km -0.4025  1.8401 -0.2188  0.8279\n",
      "\n"
     ]
    }
   ],
   "source": [
    "# print results using summary:\n",
    "print(f'results.summary(): \\n{results.summary()}\\n')\n",
    "\n",
    "# print regression table:\n",
    "table = pd.DataFrame({'b': round(results.params, 4),\n",
    "                      'se': round(results.bse, 4),\n",
    "                      't': round(results.tvalues, 4),\n",
    "                      'pval': round(results.pvalues, 4)})\n",
    "print(f'table: \\n{table}\\n')\n",
    "#vote1.describe()"
   ]
  },
  {
   "cell_type": "code",
   "execution_count": 31,
   "metadata": {},
   "outputs": [
    {
     "name": "stdout",
     "output_type": "stream",
     "text": [
      "b: \n",
      "Intercept             0.783423\n",
      "Nb_doct_2km       -9163.665904\n",
      "Nb_doct_8km        1675.284199\n",
      "Nb_doct_30km       -275.397479\n",
      "Nb_doct_f_2km     17957.047574\n",
      "Nb_doct_f_8km     -2969.312341\n",
      "Nb_doct_f_30km      438.037788\n",
      "dtype: float64\n",
      "\n"
     ]
    }
   ],
   "source": [
    "reg = smf.ols(formula='sum~ Nb_doct_2km+Nb_doct_8km+Nb_doct_30km+Nb_doct_f_2km+Nb_doct_f_8km+Nb_doct_f_30km', data=dataFF_red_norm_gauss)\n",
    "results = reg.fit()\n",
    "b = results.params\n",
    "print(f'b: \\n{b}\\n')"
   ]
  },
  {
   "cell_type": "code",
   "execution_count": 32,
   "metadata": {},
   "outputs": [
    {
     "name": "stdout",
     "output_type": "stream",
     "text": [
      "results.summary(): \n",
      "                            OLS Regression Results                            \n",
      "==============================================================================\n",
      "Dep. Variable:                    sum   R-squared:                       0.038\n",
      "Model:                            OLS   Adj. R-squared:                 -0.110\n",
      "Method:                 Least Squares   F-statistic:                    0.2573\n",
      "Date:                Thu, 17 Oct 2024   Prob (F-statistic):              0.953\n",
      "Time:                        08:58:37   Log-Likelihood:                -160.82\n",
      "No. Observations:                  46   AIC:                             335.6\n",
      "Df Residuals:                      39   BIC:                             348.4\n",
      "Df Model:                           6                                         \n",
      "Covariance Type:            nonrobust                                         \n",
      "==================================================================================\n",
      "                     coef    std err          t      P>|t|      [0.025      0.975]\n",
      "----------------------------------------------------------------------------------\n",
      "Intercept          0.7834      3.763      0.208      0.836      -6.829       8.395\n",
      "Nb_doct_2km    -9163.6659   1.27e+04     -0.722      0.475   -3.49e+04    1.65e+04\n",
      "Nb_doct_8km     1675.2842   3083.586      0.543      0.590   -4561.856    7912.425\n",
      "Nb_doct_30km    -275.3975    673.228     -0.409      0.685   -1637.130    1086.335\n",
      "Nb_doct_f_2km   1.796e+04   2.53e+04      0.710      0.482   -3.32e+04    6.91e+04\n",
      "Nb_doct_f_8km  -2969.3123   5913.194     -0.502      0.618   -1.49e+04    8991.252\n",
      "Nb_doct_f_30km   438.0378   1221.912      0.358      0.722   -2033.513    2909.588\n",
      "==============================================================================\n",
      "Omnibus:                       12.630   Durbin-Watson:                   1.638\n",
      "Prob(Omnibus):                  0.002   Jarque-Bera (JB):               18.167\n",
      "Skew:                           0.811   Prob(JB):                     0.000114\n",
      "Kurtosis:                       5.617   Cond. No.                     2.39e+04\n",
      "==============================================================================\n",
      "\n",
      "Notes:\n",
      "[1] Standard Errors assume that the covariance matrix of the errors is correctly specified.\n",
      "[2] The condition number is large, 2.39e+04. This might indicate that there are\n",
      "strong multicollinearity or other numerical problems.\n",
      "\n",
      "table: \n",
      "                         b          se       t    pval\n",
      "Intercept           0.7834      3.7633  0.2082  0.8362\n",
      "Nb_doct_2km     -9163.6659  12700.2544 -0.7215  0.4749\n",
      "Nb_doct_8km      1675.2842   3083.5855  0.5433  0.5900\n",
      "Nb_doct_30km     -275.3975    673.2282 -0.4091  0.6847\n",
      "Nb_doct_f_2km   17957.0476  25289.3407  0.7101  0.4819\n",
      "Nb_doct_f_8km   -2969.3123   5913.1943 -0.5022  0.6184\n",
      "Nb_doct_f_30km    438.0378   1221.9121  0.3585  0.7219\n",
      "\n"
     ]
    }
   ],
   "source": [
    "# print results using summary:\n",
    "print(f'results.summary(): \\n{results.summary()}\\n')\n",
    "\n",
    "# print regression table:\n",
    "table = pd.DataFrame({'b': round(results.params, 4),\n",
    "                      'se': round(results.bse, 4),\n",
    "                      't': round(results.tvalues, 4),\n",
    "                      'pval': round(results.pvalues, 4)})\n",
    "print(f'table: \\n{table}\\n')\n",
    "#vote1.describe()"
   ]
  }
 ],
 "metadata": {
  "kernelspec": {
   "display_name": "base",
   "language": "python",
   "name": "python3"
  },
  "language_info": {
   "codemirror_mode": {
    "name": "ipython",
    "version": 3
   },
   "file_extension": ".py",
   "mimetype": "text/x-python",
   "name": "python",
   "nbconvert_exporter": "python",
   "pygments_lexer": "ipython3",
   "version": "3.11.4"
  }
 },
 "nbformat": 4,
 "nbformat_minor": 2
}
