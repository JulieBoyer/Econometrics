{
 "cells": [
  {
   "cell_type": "code",
   "execution_count": 37,
   "metadata": {},
   "outputs": [],
   "source": [
    "import numpy as np\n",
    "from scipy.stats import entropy\n",
    "import pandas as pd\n",
    "import math\n",
    "import matplotlib.pyplot as plt\n",
    "import wooldridge as woo\n",
    "import statsmodels.formula.api as smf"
   ]
  },
  {
   "cell_type": "markdown",
   "metadata": {},
   "source": [
    "# Step 0 : We import the necessary files"
   ]
  },
  {
   "cell_type": "code",
   "execution_count": 38,
   "metadata": {},
   "outputs": [],
   "source": [
    "dataFF_red_norm01 = pd.read_csv('dataFF_red_norm01.csv')\n",
    "dataFF_red_norm_gauss = pd.read_csv('dataFF_red_norm_gauss.csv')"
   ]
  },
  {
   "cell_type": "markdown",
   "metadata": {},
   "source": [
    "# Step 2 : We do regressions"
   ]
  },
  {
   "cell_type": "code",
   "execution_count": 39,
   "metadata": {},
   "outputs": [
    {
     "name": "stdout",
     "output_type": "stream",
     "text": [
      "b: \n",
      "Intercept     -0.271677\n",
      "Nb_doct_8km    3.602223\n",
      "dtype: float64\n",
      "\n"
     ]
    },
    {
     "data": {
      "text/plain": [
       "\"# scatter plot and fitted values:\\nplt.plot('APL', 'Nb_carac_présentation', data=dataFF_red_norm, color='grey', marker='o', linestyle='')\\nplt.plot(dataFF_red_norm['APL'], results.fittedvalues, color='black', linestyle='-')\\nplt.ylabel('Nb_caracteres_presentation')\\nplt.xlabel('APL')\""
      ]
     },
     "execution_count": 39,
     "metadata": {},
     "output_type": "execute_result"
    }
   ],
   "source": [
    "reg = smf.ols(formula='sum~ Nb_doct_8km', data=dataFF_red_norm_gauss)\n",
    "results = reg.fit()\n",
    "b = results.params\n",
    "print(f'b: \\n{b}\\n')\n",
    "\n",
    "\"\"\"# scatter plot and fitted values:\n",
    "plt.plot('APL', 'Nb_carac_présentation', data=dataFF_red_norm, color='grey', marker='o', linestyle='')\n",
    "plt.plot(dataFF_red_norm['APL'], results.fittedvalues, color='black', linestyle='-')\n",
    "plt.ylabel('Nb_caracteres_presentation')\n",
    "plt.xlabel('APL')\"\"\""
   ]
  },
  {
   "cell_type": "code",
   "execution_count": 40,
   "metadata": {},
   "outputs": [
    {
     "name": "stdout",
     "output_type": "stream",
     "text": [
      "results.summary(): \n",
      "                            OLS Regression Results                            \n",
      "==============================================================================\n",
      "Dep. Variable:                    sum   R-squared:                       0.003\n",
      "Model:                            OLS   Adj. R-squared:                  0.003\n",
      "Method:                 Least Squares   F-statistic:                     22.15\n",
      "Date:                Tue, 22 Oct 2024   Prob (F-statistic):           2.58e-06\n",
      "Time:                        11:31:01   Log-Likelihood:                -23268.\n",
      "No. Observations:                6333   AIC:                         4.654e+04\n",
      "Df Residuals:                    6331   BIC:                         4.655e+04\n",
      "Df Model:                           1                                         \n",
      "Covariance Type:            nonrobust                                         \n",
      "===============================================================================\n",
      "                  coef    std err          t      P>|t|      [0.025      0.975]\n",
      "-------------------------------------------------------------------------------\n",
      "Intercept      -0.2717      0.133     -2.042      0.041      -0.532      -0.011\n",
      "Nb_doct_8km     3.6022      0.765      4.706      0.000       2.102       5.103\n",
      "==============================================================================\n",
      "Omnibus:                      567.416   Durbin-Watson:                   0.878\n",
      "Prob(Omnibus):                  0.000   Jarque-Bera (JB):             1850.831\n",
      "Skew:                           0.446   Prob(JB):                         0.00\n",
      "Kurtosis:                       5.494   Cond. No.                         6.42\n",
      "==============================================================================\n",
      "\n",
      "Notes:\n",
      "[1] Standard Errors assume that the covariance matrix of the errors is correctly specified.\n",
      "\n",
      "table: \n",
      "                  b      se       t    pval\n",
      "Intercept   -0.2717  0.1330 -2.0421  0.0412\n",
      "Nb_doct_8km  3.6022  0.7655  4.7060  0.0000\n",
      "\n"
     ]
    }
   ],
   "source": [
    "# print results using summary:\n",
    "print(f'results.summary(): \\n{results.summary()}\\n')\n",
    "\n",
    "# print regression table:\n",
    "table = pd.DataFrame({'b': round(results.params, 4),\n",
    "                      'se': round(results.bse, 4),\n",
    "                      't': round(results.tvalues, 4),\n",
    "                      'pval': round(results.pvalues, 4)})\n",
    "print(f'table: \\n{table}\\n')"
   ]
  },
  {
   "cell_type": "code",
   "execution_count": 41,
   "metadata": {},
   "outputs": [
    {
     "name": "stdout",
     "output_type": "stream",
     "text": [
      "b: \n",
      "Intercept          -0.249493\n",
      "Nb_doct_2km      -395.848214\n",
      "Nb_doct_8km       -70.515595\n",
      "Nb_doct_30km       -1.209214\n",
      "Nb_doct_f_2km     717.938750\n",
      "Nb_doct_f_8km     162.278537\n",
      "Nb_doct_f_30km      0.176455\n",
      "dtype: float64\n",
      "\n"
     ]
    }
   ],
   "source": [
    "reg = smf.ols(formula='sum~ Nb_doct_2km+Nb_doct_8km+Nb_doct_30km+Nb_doct_f_2km+Nb_doct_f_8km+Nb_doct_f_30km', data=dataFF_red_norm_gauss)\n",
    "results = reg.fit()\n",
    "b = results.params\n",
    "print(f'b: \\n{b}\\n')\n"
   ]
  },
  {
   "cell_type": "code",
   "execution_count": 42,
   "metadata": {},
   "outputs": [
    {
     "name": "stdout",
     "output_type": "stream",
     "text": [
      "results.summary(): \n",
      "                            OLS Regression Results                            \n",
      "==============================================================================\n",
      "Dep. Variable:                    sum   R-squared:                       0.011\n",
      "Model:                            OLS   Adj. R-squared:                  0.010\n",
      "Method:                 Least Squares   F-statistic:                     12.14\n",
      "Date:                Tue, 22 Oct 2024   Prob (F-statistic):           1.30e-13\n",
      "Time:                        11:31:05   Log-Likelihood:                -23243.\n",
      "No. Observations:                6333   AIC:                         4.650e+04\n",
      "Df Residuals:                    6326   BIC:                         4.655e+04\n",
      "Df Model:                           6                                         \n",
      "Covariance Type:            nonrobust                                         \n",
      "==================================================================================\n",
      "                     coef    std err          t      P>|t|      [0.025      0.975]\n",
      "----------------------------------------------------------------------------------\n",
      "Intercept         -0.2495      0.146     -1.705      0.088      -0.536       0.037\n",
      "Nb_doct_2km     -395.8482    125.570     -3.152      0.002    -642.009    -149.687\n",
      "Nb_doct_8km      -70.5156     33.991     -2.075      0.038    -137.149      -3.882\n",
      "Nb_doct_30km      -1.2092      5.918     -0.204      0.838     -12.810      10.391\n",
      "Nb_doct_f_2km    717.9387    234.598      3.060      0.002     258.046    1177.831\n",
      "Nb_doct_f_8km    162.2785     63.137      2.570      0.010      38.508     286.049\n",
      "Nb_doct_f_30km     0.1765     11.171      0.016      0.987     -21.722      22.075\n",
      "==============================================================================\n",
      "Omnibus:                      570.106   Durbin-Watson:                   0.887\n",
      "Prob(Omnibus):                  0.000   Jarque-Bera (JB):             1859.391\n",
      "Skew:                           0.448   Prob(JB):                         0.00\n",
      "Kurtosis:                       5.499   Cond. No.                     2.30e+03\n",
      "==============================================================================\n",
      "\n",
      "Notes:\n",
      "[1] Standard Errors assume that the covariance matrix of the errors is correctly specified.\n",
      "[2] The condition number is large, 2.3e+03. This might indicate that there are\n",
      "strong multicollinearity or other numerical problems.\n",
      "\n",
      "table: \n",
      "                       b        se       t    pval\n",
      "Intercept        -0.2495    0.1463 -1.7049  0.0883\n",
      "Nb_doct_2km    -395.8482  125.5705 -3.1524  0.0016\n",
      "Nb_doct_8km     -70.5156   33.9909 -2.0745  0.0381\n",
      "Nb_doct_30km     -1.2092    5.9175 -0.2043  0.8381\n",
      "Nb_doct_f_2km   717.9387  234.5983  3.0603  0.0022\n",
      "Nb_doct_f_8km   162.2785   63.1375  2.5702  0.0102\n",
      "Nb_doct_f_30km    0.1765   11.1708  0.0158  0.9874\n",
      "\n"
     ]
    }
   ],
   "source": [
    "# print results using summary:\n",
    "print(f'results.summary(): \\n{results.summary()}\\n')\n",
    "\n",
    "# print regression table:\n",
    "table = pd.DataFrame({'b': round(results.params, 4),\n",
    "                      'se': round(results.bse, 4),\n",
    "                      't': round(results.tvalues, 4),\n",
    "                      'pval': round(results.pvalues, 4)})\n",
    "print(f'table: \\n{table}\\n')\n",
    "#vote1.describe()"
   ]
  },
  {
   "cell_type": "markdown",
   "metadata": {},
   "source": [
    "## Regression sur l'instrument"
   ]
  },
  {
   "cell_type": "code",
   "execution_count": 43,
   "metadata": {},
   "outputs": [
    {
     "data": {
      "text/plain": [
       "Index(['Unnamed: 0', 'Nb_Skills', 'Payment_method', 'Social_security_card',\n",
       "       'site', 'Nb_charac_presentation', 'Nb_languages', 'nb_charac_card_1',\n",
       "       'Transport', 'Parking', 'Contact', 'Without_appointment',\n",
       "       'nb_terms_card_0', 'nb_terms_card_3', 'nb_terms_card_4',\n",
       "       'nb_charac_card_0', 'nb_charac_card_3', 'nb_charac_card_4',\n",
       "       'National_&_university_degrees', 'Other_formations_b', 'Experiences_b',\n",
       "       'Formations_b', 'Work_&_publications_b', 'RPPS', 'share_F',\n",
       "       'Population standardisée par la consommation de soins par tranche d'âge',\n",
       "       'Sector', 'Nb_doct_2km', 'Nb_doct_8km', 'Nb_doct_30km', 'Nb_doct_f_2km',\n",
       "       'Nb_doct_f_8km', 'Nb_doct_f_30km', 'Nb_doct_D_2km', 'Nb_doct_D_8km',\n",
       "       'Nb_doct_D_30km', 'Nb_doct_f_D_2km', 'Nb_doct_f_D_8km',\n",
       "       'Nb_doct_f_D_30km', 'APL', 'Fibre', 'share_Doctolib'],\n",
       "      dtype='object')"
      ]
     },
     "execution_count": 43,
     "metadata": {},
     "output_type": "execute_result"
    }
   ],
   "source": [
    "dataFF_red_norm01.columns"
   ]
  },
  {
   "cell_type": "code",
   "execution_count": 44,
   "metadata": {},
   "outputs": [],
   "source": [
    "dataFF_red_norm01=dataFF_red_norm01.rename(columns={\"Population standardisée par la consommation de soins par tranche d'âge\": \"Population_standardisee_par_la_consommation_de_soins_par_tranche_d_age\"})"
   ]
  },
  {
   "cell_type": "code",
   "execution_count": 45,
   "metadata": {},
   "outputs": [
    {
     "name": "stdout",
     "output_type": "stream",
     "text": [
      "b: \n",
      "Intercept                                                                 4.517291e-01\n",
      "Fibre                                                                    -2.655086e-01\n",
      "share_F                                                                  -1.141919e-02\n",
      "Population_standardisee_par_la_consommation_de_soins_par_tranche_d_age   -8.325882e-07\n",
      "dtype: float64\n",
      "\n"
     ]
    }
   ],
   "source": [
    "reg = smf.ols(formula='share_Doctolib~Fibre+share_F+Population_standardisee_par_la_consommation_de_soins_par_tranche_d_age', data=dataFF_red_norm01)\n",
    "results = reg.fit()\n",
    "b = results.params\n",
    "print(f'b: \\n{b}\\n')"
   ]
  },
  {
   "cell_type": "code",
   "execution_count": 46,
   "metadata": {},
   "outputs": [
    {
     "name": "stdout",
     "output_type": "stream",
     "text": [
      "results.summary(): \n",
      "                            OLS Regression Results                            \n",
      "==============================================================================\n",
      "Dep. Variable:         share_Doctolib   R-squared:                       0.145\n",
      "Model:                            OLS   Adj. R-squared:                  0.145\n",
      "Method:                 Least Squares   F-statistic:                     357.9\n",
      "Date:                Tue, 22 Oct 2024   Prob (F-statistic):          1.06e-214\n",
      "Time:                        11:31:05   Log-Likelihood:                 1660.9\n",
      "No. Observations:                6333   AIC:                            -3314.\n",
      "Df Residuals:                    6329   BIC:                            -3287.\n",
      "Df Model:                           3                                         \n",
      "Covariance Type:            nonrobust                                         \n",
      "==========================================================================================================================================\n",
      "                                                                             coef    std err          t      P>|t|      [0.025      0.975]\n",
      "------------------------------------------------------------------------------------------------------------------------------------------\n",
      "Intercept                                                                  0.4517      0.015     29.758      0.000       0.422       0.481\n",
      "Fibre                                                                     -0.2655      0.015    -17.967      0.000      -0.294      -0.237\n",
      "share_F                                                                   -0.0114      0.014     -0.819      0.413      -0.039       0.016\n",
      "Population_standardisee_par_la_consommation_de_soins_par_tranche_d_age -8.326e-07   3.21e-08    -25.961      0.000   -8.95e-07    -7.7e-07\n",
      "==============================================================================\n",
      "Omnibus:                     3122.110   Durbin-Watson:                   1.502\n",
      "Prob(Omnibus):                  0.000   Jarque-Bera (JB):            17668.597\n",
      "Skew:                           2.372   Prob(JB):                         0.00\n",
      "Kurtosis:                       9.668   Cond. No.                     7.81e+05\n",
      "==============================================================================\n",
      "\n",
      "Notes:\n",
      "[1] Standard Errors assume that the covariance matrix of the errors is correctly specified.\n",
      "[2] The condition number is large, 7.81e+05. This might indicate that there are\n",
      "strong multicollinearity or other numerical problems.\n",
      "\n",
      "table: \n",
      "                                                         b      se        t  \\\n",
      "Intercept                                           0.4517  0.0152  29.7585   \n",
      "Fibre                                              -0.2655  0.0148 -17.9666   \n",
      "share_F                                            -0.0114  0.0140  -0.8185   \n",
      "Population_standardisee_par_la_consommation_de_... -0.0000  0.0000 -25.9610   \n",
      "\n",
      "                                                      pval  \n",
      "Intercept                                           0.0000  \n",
      "Fibre                                               0.0000  \n",
      "share_F                                             0.4131  \n",
      "Population_standardisee_par_la_consommation_de_...  0.0000  \n",
      "\n",
      "\\begin{tabular}{lrrrr}\n",
      "\\toprule\n",
      " & b & se & t & pval \\\\\n",
      "\\midrule\n",
      "Intercept & 0.45 & 0.02 & 29.76 & 0.00 \\\\\n",
      "Fibre & -0.27 & 0.01 & -17.97 & 0.00 \\\\\n",
      "share_F & -0.01 & 0.01 & -0.82 & 0.41 \\\\\n",
      "Population_standardisee_par_la_consommation_de_soins_par_tranche_d_age & -0.00 & 0.00 & -25.96 & 0.00 \\\\\n",
      "\\bottomrule\n",
      "\\end{tabular}\n",
      "\n"
     ]
    }
   ],
   "source": [
    "# print results using summary:\n",
    "print(f'results.summary(): \\n{results.summary()}\\n')\n",
    "\n",
    "# print regression table:\n",
    "table = pd.DataFrame({'b': round(results.params, 4),\n",
    "                      'se': round(results.bse, 4),\n",
    "                      't': round(results.tvalues, 4),\n",
    "                      'pval': round(results.pvalues, 4)})\n",
    "print(f'table: \\n{table}\\n')\n",
    "\n",
    "latex_table = table.to_latex(index=True, float_format=\"%.2f\")\n",
    "print(latex_table)"
   ]
  },
  {
   "cell_type": "markdown",
   "metadata": {},
   "source": [
    "the instrument is sufficiently strong/relevant to identify the endogenous variable if the first-stage f-statistic is larger than 10 and here F-statistic = 0.153, the instrumebt is then relevant"
   ]
  },
  {
   "cell_type": "code",
   "execution_count": 47,
   "metadata": {},
   "outputs": [
    {
     "name": "stdout",
     "output_type": "stream",
     "text": [
      "results.summary(): \n",
      "                            OLS Regression Results                            \n",
      "==============================================================================\n",
      "Dep. Variable:         Nb_doct_D_30km   R-squared:                       0.082\n",
      "Model:                            OLS   Adj. R-squared:                  0.081\n",
      "Method:                 Least Squares   F-statistic:                     141.0\n",
      "Date:                Tue, 22 Oct 2024   Prob (F-statistic):          1.20e-115\n",
      "Time:                        11:31:05   Log-Likelihood:                 17415.\n",
      "No. Observations:                6333   AIC:                        -3.482e+04\n",
      "Df Residuals:                    6328   BIC:                        -3.479e+04\n",
      "Df Model:                           4                                         \n",
      "Covariance Type:            nonrobust                                         \n",
      "==========================================================================================================================================\n",
      "                                                                             coef    std err          t      P>|t|      [0.025      0.975]\n",
      "------------------------------------------------------------------------------------------------------------------------------------------\n",
      "Intercept                                                                 -0.0025      0.001     -1.810      0.070      -0.005       0.000\n",
      "Fibre                                                                      0.0060      0.001      4.883      0.000       0.004       0.008\n",
      "share_F                                                                    0.0091      0.001      7.801      0.000       0.007       0.011\n",
      "Population_standardisee_par_la_consommation_de_soins_par_tranche_d_age -6.019e-08   2.72e-09    -22.133      0.000   -6.55e-08   -5.49e-08\n",
      "APL                                                                        0.0014      0.000      8.129      0.000       0.001       0.002\n",
      "==============================================================================\n",
      "Omnibus:                     7691.737   Durbin-Watson:                   1.801\n",
      "Prob(Omnibus):                  0.000   Jarque-Bera (JB):          1809219.014\n",
      "Skew:                           6.287   Prob(JB):                         0.00\n",
      "Kurtosis:                      84.843   Cond. No.                     8.02e+05\n",
      "==============================================================================\n",
      "\n",
      "Notes:\n",
      "[1] Standard Errors assume that the covariance matrix of the errors is correctly specified.\n",
      "[2] The condition number is large, 8.02e+05. This might indicate that there are\n",
      "strong multicollinearity or other numerical problems.\n",
      "\n",
      "table: \n",
      "                                                         b      se        t  \\\n",
      "Intercept                                          -0.0025  0.0014  -1.8098   \n",
      "Fibre                                               0.0060  0.0012   4.8825   \n",
      "share_F                                             0.0091  0.0012   7.8007   \n",
      "Population_standardisee_par_la_consommation_de_... -0.0000  0.0000 -22.1331   \n",
      "APL                                                 0.0014  0.0002   8.1286   \n",
      "\n",
      "                                                      pval  \n",
      "Intercept                                           0.0704  \n",
      "Fibre                                               0.0000  \n",
      "share_F                                             0.0000  \n",
      "Population_standardisee_par_la_consommation_de_...  0.0000  \n",
      "APL                                                 0.0000  \n",
      "\n"
     ]
    }
   ],
   "source": [
    "reg = smf.ols(formula='Nb_doct_D_30km~Fibre+share_F+Population_standardisee_par_la_consommation_de_soins_par_tranche_d_age+APL', data=dataFF_red_norm01)\n",
    "results = reg.fit()\n",
    "b = results.params\n",
    "#print(f'b: \\n{b}\\n')\n",
    "\n",
    "# print results using summary:\n",
    "print(f'results.summary(): \\n{results.summary()}\\n')\n",
    "\n",
    "# print regression table:\n",
    "table = pd.DataFrame({'b': round(results.params, 4),\n",
    "                      'se': round(results.bse, 4),\n",
    "                      't': round(results.tvalues, 4),\n",
    "                      'pval': round(results.pvalues, 4)})\n",
    "print(f'table: \\n{table}\\n')\n",
    "#vote1.describe()"
   ]
  },
  {
   "cell_type": "code",
   "execution_count": 48,
   "metadata": {},
   "outputs": [
    {
     "name": "stdout",
     "output_type": "stream",
     "text": [
      "results.summary(): \n",
      "                            OLS Regression Results                            \n",
      "==============================================================================\n",
      "Dep. Variable:           Nb_doct_30km   R-squared:                       0.089\n",
      "Model:                            OLS   Adj. R-squared:                  0.089\n",
      "Method:                 Least Squares   F-statistic:                     154.9\n",
      "Date:                Tue, 22 Oct 2024   Prob (F-statistic):          1.22e-126\n",
      "Time:                        11:31:05   Log-Likelihood:                -158.44\n",
      "No. Observations:                6333   AIC:                             326.9\n",
      "Df Residuals:                    6328   BIC:                             360.6\n",
      "Df Model:                           4                                         \n",
      "Covariance Type:            nonrobust                                         \n",
      "==========================================================================================================================================\n",
      "                                                                             coef    std err          t      P>|t|      [0.025      0.975]\n",
      "------------------------------------------------------------------------------------------------------------------------------------------\n",
      "Intercept                                                                 -0.0452      0.022     -2.038      0.042      -0.089      -0.002\n",
      "Fibre                                                                      0.0934      0.020      4.739      0.000       0.055       0.132\n",
      "share_F                                                                    0.1359      0.019      7.273      0.000       0.099       0.173\n",
      "Population_standardisee_par_la_consommation_de_soins_par_tranche_d_age -1.009e-06   4.36e-08    -23.138      0.000   -1.09e-06   -9.24e-07\n",
      "APL                                                                        0.0282      0.003     10.074      0.000       0.023       0.034\n",
      "==============================================================================\n",
      "Omnibus:                     6711.929   Durbin-Watson:                   1.819\n",
      "Prob(Omnibus):                  0.000   Jarque-Bera (JB):           782469.263\n",
      "Skew:                           5.138   Prob(JB):                         0.00\n",
      "Kurtosis:                      56.476   Cond. No.                     8.02e+05\n",
      "==============================================================================\n",
      "\n",
      "Notes:\n",
      "[1] Standard Errors assume that the covariance matrix of the errors is correctly specified.\n",
      "[2] The condition number is large, 8.02e+05. This might indicate that there are\n",
      "strong multicollinearity or other numerical problems.\n",
      "\n",
      "table: \n",
      "                                                         b      se        t  \\\n",
      "Intercept                                          -0.0452  0.0222  -2.0381   \n",
      "Fibre                                               0.0934  0.0197   4.7390   \n",
      "share_F                                             0.1359  0.0187   7.2731   \n",
      "Population_standardisee_par_la_consommation_de_... -0.0000  0.0000 -23.1376   \n",
      "APL                                                 0.0282  0.0028  10.0738   \n",
      "\n",
      "                                                      pval  \n",
      "Intercept                                           0.0416  \n",
      "Fibre                                               0.0000  \n",
      "share_F                                             0.0000  \n",
      "Population_standardisee_par_la_consommation_de_...  0.0000  \n",
      "APL                                                 0.0000  \n",
      "\n"
     ]
    }
   ],
   "source": [
    "reg = smf.ols(formula='Nb_doct_30km~Fibre+share_F+Population_standardisee_par_la_consommation_de_soins_par_tranche_d_age+APL', data=dataFF_red_norm01)\n",
    "results = reg.fit()\n",
    "b = results.params\n",
    "#print(f'b: \\n{b}\\n')\n",
    "\n",
    "# print results using summary:\n",
    "print(f'results.summary(): \\n{results.summary()}\\n')\n",
    "\n",
    "# print regression table:\n",
    "table = pd.DataFrame({'b': round(results.params, 4),\n",
    "                      'se': round(results.bse, 4),\n",
    "                      't': round(results.tvalues, 4),\n",
    "                      'pval': round(results.pvalues, 4)})\n",
    "print(f'table: \\n{table}\\n')\n",
    "#vote1.describe()"
   ]
  }
 ],
 "metadata": {
  "kernelspec": {
   "display_name": "base",
   "language": "python",
   "name": "python3"
  },
  "language_info": {
   "codemirror_mode": {
    "name": "ipython",
    "version": 3
   },
   "file_extension": ".py",
   "mimetype": "text/x-python",
   "name": "python",
   "nbconvert_exporter": "python",
   "pygments_lexer": "ipython3",
   "version": "3.12.2"
  }
 },
 "nbformat": 4,
 "nbformat_minor": 2
}
