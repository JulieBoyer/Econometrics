{
 "cells": [
  {
   "cell_type": "code",
   "execution_count": 7,
   "metadata": {},
   "outputs": [],
   "source": [
    "import pandas as pd\n",
    "import numpy as np\n",
    "import statsmodels.formula.api as smf"
   ]
  },
  {
   "cell_type": "code",
   "execution_count": 5,
   "metadata": {},
   "outputs": [],
   "source": [
    "medecin_gen = pd.read_csv('medecin_gen.csv')"
   ]
  },
  {
   "cell_type": "code",
   "execution_count": 6,
   "metadata": {},
   "outputs": [
    {
     "data": {
      "text/html": [
       "<div>\n",
       "<style scoped>\n",
       "    .dataframe tbody tr th:only-of-type {\n",
       "        vertical-align: middle;\n",
       "    }\n",
       "\n",
       "    .dataframe tbody tr th {\n",
       "        vertical-align: top;\n",
       "    }\n",
       "\n",
       "    .dataframe thead th {\n",
       "        text-align: right;\n",
       "    }\n",
       "</style>\n",
       "<table border=\"1\" class=\"dataframe\">\n",
       "  <thead>\n",
       "    <tr style=\"text-align: right;\">\n",
       "      <th></th>\n",
       "      <th>Unnamed: 0</th>\n",
       "      <th>Doctor Name</th>\n",
       "      <th>Specialty</th>\n",
       "      <th>card_0</th>\n",
       "      <th>card_3</th>\n",
       "      <th>card_4</th>\n",
       "      <th>Latitude</th>\n",
       "      <th>Longitude</th>\n",
       "      <th>Skills Processed</th>\n",
       "      <th>RPPS</th>\n",
       "      <th>...</th>\n",
       "      <th>Coordonnées</th>\n",
       "      <th>Sans RDV</th>\n",
       "      <th>nb terms card_0</th>\n",
       "      <th>nb terms card_3</th>\n",
       "      <th>nb terms card_4</th>\n",
       "      <th>nb carac card_0</th>\n",
       "      <th>nb carac card_3</th>\n",
       "      <th>nb carac card_4</th>\n",
       "      <th>APL</th>\n",
       "      <th>Fibre</th>\n",
       "    </tr>\n",
       "  </thead>\n",
       "  <tbody>\n",
       "    <tr>\n",
       "      <th>0</th>\n",
       "      <td>0</td>\n",
       "      <td>Dr Anne Vaillant Moga</td>\n",
       "      <td>Médecin généraliste</td>\n",
       "      <td>['Lieu 1', 'Lieu 2', 'Dr Anne Moga (Paris)', '...</td>\n",
       "      <td>['Horaires et coordonnées', \"Horaires d'ouvert...</td>\n",
       "      <td>['Tarifs', 'Consultation préalable de médecine...</td>\n",
       "      <td>48.869218</td>\n",
       "      <td>2.285468</td>\n",
       "      <td>['Expertises et actes', 'Acné', 'Allergie', 'A...</td>\n",
       "      <td>10000378991</td>\n",
       "      <td>...</td>\n",
       "      <td>0</td>\n",
       "      <td>0</td>\n",
       "      <td>25</td>\n",
       "      <td>6</td>\n",
       "      <td>32</td>\n",
       "      <td>625</td>\n",
       "      <td>36</td>\n",
       "      <td>1024</td>\n",
       "      <td>4.1504</td>\n",
       "      <td>0.978945</td>\n",
       "    </tr>\n",
       "    <tr>\n",
       "      <th>1</th>\n",
       "      <td>1</td>\n",
       "      <td>Dr Joel Sanz</td>\n",
       "      <td>Médecin généraliste</td>\n",
       "      <td>['Tarifs et remboursement', '', '', 'Conventio...</td>\n",
       "      <td>['Horaires et coordonnées', \"Contact d'urgence...</td>\n",
       "      <td>['Tarifs', \"Consultation sur rendez-vous norma...</td>\n",
       "      <td>48.826720</td>\n",
       "      <td>2.243099</td>\n",
       "      <td>['Expertises et actes', 'Médecine du sport']</td>\n",
       "      <td>10001025484</td>\n",
       "      <td>...</td>\n",
       "      <td>1</td>\n",
       "      <td>0</td>\n",
       "      <td>10</td>\n",
       "      <td>5</td>\n",
       "      <td>8</td>\n",
       "      <td>100</td>\n",
       "      <td>25</td>\n",
       "      <td>64</td>\n",
       "      <td>2.2930</td>\n",
       "      <td>0.987582</td>\n",
       "    </tr>\n",
       "    <tr>\n",
       "      <th>2</th>\n",
       "      <td>2</td>\n",
       "      <td>Dr Bruno PICHAT</td>\n",
       "      <td>Médecin généraliste</td>\n",
       "      <td>['Tarifs et remboursement', '', '', 'Conventio...</td>\n",
       "      <td>['Horaires et coordonnées', \"Horaires d'ouvert...</td>\n",
       "      <td>['Tarifs', 'Consultation', '25 €', 'Consultati...</td>\n",
       "      <td>45.322978</td>\n",
       "      <td>5.562744</td>\n",
       "      <td>['Expertises et actes', 'Gériatrie', 'Médecine...</td>\n",
       "      <td>10002991841</td>\n",
       "      <td>...</td>\n",
       "      <td>1</td>\n",
       "      <td>0</td>\n",
       "      <td>11</td>\n",
       "      <td>11</td>\n",
       "      <td>6</td>\n",
       "      <td>121</td>\n",
       "      <td>121</td>\n",
       "      <td>36</td>\n",
       "      <td>4.1210</td>\n",
       "      <td>0.717700</td>\n",
       "    </tr>\n",
       "    <tr>\n",
       "      <th>3</th>\n",
       "      <td>3</td>\n",
       "      <td>Dr Franck PERRUCHE</td>\n",
       "      <td>Médecin généraliste</td>\n",
       "      <td>['Tarifs et remboursement', '', '', 'Conventio...</td>\n",
       "      <td>['Horaires et coordonnées', \"Contact d'urgence...</td>\n",
       "      <td>['Tarifs', 'Consultation', '25 €', 'Enfant (de...</td>\n",
       "      <td>48.830736</td>\n",
       "      <td>2.331437</td>\n",
       "      <td>NaN</td>\n",
       "      <td>10001627800</td>\n",
       "      <td>...</td>\n",
       "      <td>1</td>\n",
       "      <td>0</td>\n",
       "      <td>8</td>\n",
       "      <td>5</td>\n",
       "      <td>10</td>\n",
       "      <td>64</td>\n",
       "      <td>25</td>\n",
       "      <td>100</td>\n",
       "      <td>4.1504</td>\n",
       "      <td>0.978945</td>\n",
       "    </tr>\n",
       "    <tr>\n",
       "      <th>4</th>\n",
       "      <td>4</td>\n",
       "      <td>Dr Raphaël GILBERT</td>\n",
       "      <td>Médecin généraliste</td>\n",
       "      <td>['Tarifs et remboursement', '', '', 'Conventio...</td>\n",
       "      <td>['Horaires et coordonnées', \"Contact d'urgence...</td>\n",
       "      <td>['Tarifs', 'Consultation', '26,50 €', 'Consult...</td>\n",
       "      <td>48.830736</td>\n",
       "      <td>2.331437</td>\n",
       "      <td>NaN</td>\n",
       "      <td>10100469658</td>\n",
       "      <td>...</td>\n",
       "      <td>1</td>\n",
       "      <td>0</td>\n",
       "      <td>8</td>\n",
       "      <td>5</td>\n",
       "      <td>18</td>\n",
       "      <td>64</td>\n",
       "      <td>25</td>\n",
       "      <td>324</td>\n",
       "      <td>4.1504</td>\n",
       "      <td>0.978945</td>\n",
       "    </tr>\n",
       "  </tbody>\n",
       "</table>\n",
       "<p>5 rows × 45 columns</p>\n",
       "</div>"
      ],
      "text/plain": [
       "   Unnamed: 0            Doctor Name            Specialty  \\\n",
       "0           0  Dr Anne Vaillant Moga  Médecin généraliste   \n",
       "1           1           Dr Joel Sanz  Médecin généraliste   \n",
       "2           2        Dr Bruno PICHAT  Médecin généraliste   \n",
       "3           3     Dr Franck PERRUCHE  Médecin généraliste   \n",
       "4           4     Dr Raphaël GILBERT  Médecin généraliste   \n",
       "\n",
       "                                              card_0  \\\n",
       "0  ['Lieu 1', 'Lieu 2', 'Dr Anne Moga (Paris)', '...   \n",
       "1  ['Tarifs et remboursement', '', '', 'Conventio...   \n",
       "2  ['Tarifs et remboursement', '', '', 'Conventio...   \n",
       "3  ['Tarifs et remboursement', '', '', 'Conventio...   \n",
       "4  ['Tarifs et remboursement', '', '', 'Conventio...   \n",
       "\n",
       "                                              card_3  \\\n",
       "0  ['Horaires et coordonnées', \"Horaires d'ouvert...   \n",
       "1  ['Horaires et coordonnées', \"Contact d'urgence...   \n",
       "2  ['Horaires et coordonnées', \"Horaires d'ouvert...   \n",
       "3  ['Horaires et coordonnées', \"Contact d'urgence...   \n",
       "4  ['Horaires et coordonnées', \"Contact d'urgence...   \n",
       "\n",
       "                                              card_4   Latitude  Longitude  \\\n",
       "0  ['Tarifs', 'Consultation préalable de médecine...  48.869218   2.285468   \n",
       "1  ['Tarifs', \"Consultation sur rendez-vous norma...  48.826720   2.243099   \n",
       "2  ['Tarifs', 'Consultation', '25 €', 'Consultati...  45.322978   5.562744   \n",
       "3  ['Tarifs', 'Consultation', '25 €', 'Enfant (de...  48.830736   2.331437   \n",
       "4  ['Tarifs', 'Consultation', '26,50 €', 'Consult...  48.830736   2.331437   \n",
       "\n",
       "                                    Skills Processed         RPPS  ...  \\\n",
       "0  ['Expertises et actes', 'Acné', 'Allergie', 'A...  10000378991  ...   \n",
       "1       ['Expertises et actes', 'Médecine du sport']  10001025484  ...   \n",
       "2  ['Expertises et actes', 'Gériatrie', 'Médecine...  10002991841  ...   \n",
       "3                                                NaN  10001627800  ...   \n",
       "4                                                NaN  10100469658  ...   \n",
       "\n",
       "   Coordonnées  Sans RDV  nb terms card_0  nb terms card_3 nb terms card_4  \\\n",
       "0            0         0               25                6              32   \n",
       "1            1         0               10                5               8   \n",
       "2            1         0               11               11               6   \n",
       "3            1         0                8                5              10   \n",
       "4            1         0                8                5              18   \n",
       "\n",
       "  nb carac card_0 nb carac card_3 nb carac card_4     APL     Fibre  \n",
       "0             625              36            1024  4.1504  0.978945  \n",
       "1             100              25              64  2.2930  0.987582  \n",
       "2             121             121              36  4.1210  0.717700  \n",
       "3              64              25             100  4.1504  0.978945  \n",
       "4              64              25             324  4.1504  0.978945  \n",
       "\n",
       "[5 rows x 45 columns]"
      ]
     },
     "execution_count": 6,
     "metadata": {},
     "output_type": "execute_result"
    }
   ],
   "source": [
    "medecin_gen.head()"
   ]
  },
  {
   "cell_type": "code",
   "execution_count": 8,
   "metadata": {},
   "outputs": [
    {
     "data": {
      "text/plain": [
       "Index(['Unnamed: 0', 'Doctor Name', 'Specialty', 'card_0', 'card_3', 'card_4',\n",
       "       'Latitude', 'Longitude', 'Skills Processed', 'RPPS', 'Nb Skills',\n",
       "       'moyens_paiement', 'carte_vitale', 'secteur', 'Présentation',\n",
       "       'Langues parlées', 'Diplômes nationaux et universitaires',\n",
       "       'Autres formations', 'Expériences', 'Travaux et publications',\n",
       "       'Prix et distinctions', 'site', 'Site web', 'Formations',\n",
       "       'Diplômes nationaux et universitaires b', 'Nb caractères présentation',\n",
       "       'Autres formations b', 'Travaux et publications b', 'Nb langues',\n",
       "       'Expériences b', 'Formations b', 'Carac_card_1', 'Transport', 'Parking',\n",
       "       'Infos', 'Coordonnées', 'Sans RDV', 'nb terms card_0',\n",
       "       'nb terms card_3', 'nb terms card_4', 'nb carac card_0',\n",
       "       'nb carac card_3', 'nb carac card_4', 'APL', 'Fibre'],\n",
       "      dtype='object')"
      ]
     },
     "execution_count": 8,
     "metadata": {},
     "output_type": "execute_result"
    }
   ],
   "source": [
    "medecin_gen.columns"
   ]
  },
  {
   "cell_type": "markdown",
   "metadata": {},
   "source": [
    "# Vérification de la pertinence de notre instrument : la fibre"
   ]
  },
  {
   "cell_type": "markdown",
   "metadata": {},
   "source": [
    "Weak instrument ?"
   ]
  },
  {
   "cell_type": "code",
   "execution_count": 10,
   "metadata": {},
   "outputs": [],
   "source": [
    "import wooldridge as woo\n",
    "import numpy as np\n",
    "import pandas as pd\n",
    "import linearmodels.iv as iv\n",
    "import statsmodels.formula.api as smf\n",
    "\n",
    "\n",
    "dataFF_red_norm = pd.read_csv('dataFF_red_norm.csv')"
   ]
  },
  {
   "cell_type": "code",
   "execution_count": 11,
   "metadata": {},
   "outputs": [
    {
     "data": {
      "text/plain": [
       "Index(['Unnamed: 0', 'Nb Skills', 'moyens_paiement', 'carte_vitale', 'secteur',\n",
       "       'site', 'Nb caractères présentation', 'Nb langues', 'Carac_card_1',\n",
       "       'Transport', 'Parking', 'Infos', 'Coordonnées', 'Sans RDV',\n",
       "       'nb terms card_0', 'nb terms card_3', 'nb terms card_4',\n",
       "       'nb carac card_0', 'nb carac card_3', 'nb carac card_4', 'RPPS',\n",
       "       'Diplômes nationaux et universitaires b', 'Autres formations b',\n",
       "       'Expériences b', 'Formations b', 'Travaux et publications b',\n",
       "       'Nb_doct_2km', 'Nb_doct_8km', 'Nb_doct_30km', 'Nb_doct_f_2km',\n",
       "       'Nb_doct_f_8km', 'Nb_doct_f_30km', 'Nb_doct_D_2km', 'Nb_doct_D_8km',\n",
       "       'Nb_doct_D_30km', 'Nb_doct_f_D_2km', 'Nb_doct_f_D_8km',\n",
       "       'Nb_doct_f_D_30km', 'APL', 'Fibre', 'share_Doctolib'],\n",
       "      dtype='object')"
      ]
     },
     "execution_count": 11,
     "metadata": {},
     "output_type": "execute_result"
    }
   ],
   "source": [
    "dataFF_red_norm.columns"
   ]
  },
  {
   "cell_type": "code",
   "execution_count": null,
   "metadata": {},
   "outputs": [],
   "source": [
    "dataFF_red_norm.rename(columns={'Nb Skills':'Nb_Skills','Diplômes nationaux et universitaires b':'Diplômes_nationaux_et_universitaires_b','Nb caractères présentation':'Nb_carac_présentation','Autres formations b':'Autres formations b','Travaux et publications b':'Travaux_et_publications_b','Nb langues':'Nb_langues','Expériences b':'Expériences_b','Sans RDV':'Sans_RDV','Formations b':'Formations_b','nb terms card_0':'nb_terms_card_0','nb terms card_3':'nb_terms_card_3','nb terms card_4':'nb_terms_card_4','nb carac card_0':'nb_carac_card_0','nb carac card_3':'nb_carac_card_3','nb carac card_4':'nb_carac_card_4','Autres formations b':'Autres_formations_b'},inplace=True)"
   ]
  },
  {
   "cell_type": "code",
   "execution_count": 13,
   "metadata": {},
   "outputs": [
    {
     "data": {
      "text/plain": [
       "Index(['Unnamed: 0', 'Nb_Skills', 'moyens_paiement', 'carte_vitale', 'secteur',\n",
       "       'site', 'Nb_carac_présentation', 'Nb_langues', 'Carac_card_1',\n",
       "       'Transport', 'Parking', 'Infos', 'Coordonnées', 'Sans_RDV',\n",
       "       'nb_terms_card_0', 'nb_terms_card_3', 'nb_terms_card_4',\n",
       "       'nb_carac_card_0', 'nb_carac_card_3', 'nb_carac_card_4', 'RPPS',\n",
       "       'Diplômes_nationaux_et_universitaires_b', 'Autres_formations_b',\n",
       "       'Expériences_b', 'Formations_b', 'Travaux_et_publications_b',\n",
       "       'Nb_doct_2km', 'Nb_doct_8km', 'Nb_doct_30km', 'Nb_doct_f_2km',\n",
       "       'Nb_doct_f_8km', 'Nb_doct_f_30km', 'Nb_doct_D_2km', 'Nb_doct_D_8km',\n",
       "       'Nb_doct_D_30km', 'Nb_doct_f_D_2km', 'Nb_doct_f_D_8km',\n",
       "       'Nb_doct_f_D_30km', 'APL', 'Fibre', 'share_Doctolib'],\n",
       "      dtype='object')"
      ]
     },
     "execution_count": 13,
     "metadata": {},
     "output_type": "execute_result"
    }
   ],
   "source": [
    "dataFF_red_norm.columns"
   ]
  },
  {
   "cell_type": "code",
   "execution_count": 14,
   "metadata": {},
   "outputs": [
    {
     "name": "stdout",
     "output_type": "stream",
     "text": [
      "      First Stage Estimation Results     \n",
      "=========================================\n",
      "                           share_Doctolib\n",
      "-----------------------------------------\n",
      "R-squared                          0.2588\n",
      "Partial R-squared                  0.2588\n",
      "Shea's R-squared                   0.2588\n",
      "Partial F-statistic                4.0550\n",
      "P-value (Partial F-stat)           0.0440\n",
      "Partial F-stat Distn              chi2(1)\n",
      "==========================    ===========\n",
      "Intercept                          0.5178\n",
      "                                 (2.0508)\n",
      "Fibre                             -0.5161\n",
      "                                (-2.0137)\n",
      "-----------------------------------------\n",
      "\n",
      "T-stats reported in parentheses\n",
      "T-stats use same covariance type as original model\n"
     ]
    }
   ],
   "source": [
    "reg_iv_01   = iv.IV2SLS.from_formula (formula='Nb_carac_présentation ~ 1 + [share_Doctolib ~ Fibre]',  data=dataFF_red_norm).fit()\n",
    "print(reg_iv_01.first_stage)"
   ]
  },
  {
   "cell_type": "code",
   "execution_count": null,
   "metadata": {},
   "outputs": [],
   "source": [
    "reg_iv_01   = iv.IV2SLS.from_formula (formula='Nb_carac_présentation ~ 1 + [share_Doctolib ~ Fibre]',  data=dataFF_red_norm).fit()\n",
    "print(reg_iv_01.first_stage)"
   ]
  }
 ],
 "metadata": {
  "kernelspec": {
   "display_name": "base",
   "language": "python",
   "name": "python3"
  },
  "language_info": {
   "codemirror_mode": {
    "name": "ipython",
    "version": 3
   },
   "file_extension": ".py",
   "mimetype": "text/x-python",
   "name": "python",
   "nbconvert_exporter": "python",
   "pygments_lexer": "ipython3",
   "version": "3.12.2"
  }
 },
 "nbformat": 4,
 "nbformat_minor": 2
}
