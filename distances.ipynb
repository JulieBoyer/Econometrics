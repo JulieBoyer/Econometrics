{
 "cells": [
  {
   "cell_type": "code",
   "execution_count": 268,
   "metadata": {},
   "outputs": [
    {
     "name": "stderr",
     "output_type": "stream",
     "text": [
      "/var/folders/rf/dqdwsk6s06ngm9b4j17fkb2r0000gn/T/ipykernel_10862/1399691685.py:7: DtypeWarning: Columns (28,29,30,31,32,35,41,42,43,44,45,46,50) have mixed types. Specify dtype option on import or set low_memory=False.\n",
      "  liste_med_ban = pd.read_csv('liste_med_ban.csv')\n"
     ]
    }
   ],
   "source": [
    "import pandas as pd\n",
    "import numpy as np\n",
    "import math\n",
    "import requests\n",
    "import geopandas as gpd\n",
    "\n",
    "liste_med_ban = pd.read_csv('liste_med_ban.csv')"
   ]
  },
  {
   "cell_type": "markdown",
   "metadata": {},
   "source": [
    "# Accéder à la distance par requête API"
   ]
  },
  {
   "cell_type": "code",
   "execution_count": 269,
   "metadata": {},
   "outputs": [],
   "source": [
    "def cp_et_nom(cp,nom):\n",
    "    if isinstance(cp,int) and isinstance(nom,str):\n",
    "        return (str(cp)+' '+nom)\n",
    "    else:\n",
    "        return np.nan"
   ]
  },
  {
   "cell_type": "code",
   "execution_count": 270,
   "metadata": {},
   "outputs": [],
   "source": [
    "liste_med_ban['cp_ville'] = liste_med_ban.apply(lambda x: cp_et_nom(x['codepostalcoordstructure'],x['libellécommunecoordstructure']),axis=1)"
   ]
  },
  {
   "cell_type": "code",
   "execution_count": 271,
   "metadata": {},
   "outputs": [],
   "source": [
    "def transfo_adresse(CodePostal,NumeroVoie,NomVoie):\n",
    "    num = (int(NumeroVoie))\n",
    "    return (str(num)+', '+str(NomVoie)+', '+str(CodePostal))\n",
    "\n",
    "liste_med_ban['adresse'] = liste_med_ban.apply(lambda x: transfo_adresse(x['cp_ville'],x['numérovoiecoordstructure'],x['Voie']),axis=1)"
   ]
  },
  {
   "cell_type": "code",
   "execution_count": 272,
   "metadata": {},
   "outputs": [],
   "source": [
    "API_URL = \"https://api-adresse.data.gouv.fr/{}/\"\n",
    "\n",
    "def req_to(endpoint: str, params: dict | None = None, files: dict | None = None) -> dict:\n",
    "    url = API_URL.format(endpoint)\n",
    "\n",
    "    if not files:\n",
    "        response = requests.get(url, params=params)\n",
    "\n",
    "    else:\n",
    "        response = requests.post(url, files=files, data=params)\n",
    "\n",
    "    if response.status_code == 200:\n",
    "        data = response.json()\n",
    "        return data\n",
    "    else:\n",
    "        raise Exception(f\"Request failed with code : {response.status_code}\")\n",
    "\n",
    "\n",
    "def get_geocode(**kwargs) -> dict:\n",
    "    if not 'q' in kwargs:\n",
    "        raise ValueError('Il manque un argument obligatoire : q')\n",
    "    \n",
    "    return req_to(\"search\", kwargs)\n",
    "\n"
   ]
  },
  {
   "cell_type": "code",
   "execution_count": 273,
   "metadata": {},
   "outputs": [
    {
     "name": "stdout",
     "output_type": "stream",
     "text": [
      "52, rue jean jaures, 97110 Pointe-à-Pitre\n",
      "{'type': 'FeatureCollection', 'version': 'draft', 'features': [{'type': 'Feature', 'geometry': {'type': 'Point', 'coordinates': [-61.536772, 16.23989]}, 'properties': {'label': '52 Rue Jean Jaures 97110 Pointe-à-Pitre', 'score': 0.9688018181818181, 'housenumber': '52', 'id': '97120_0496_00052', 'banId': '3565ae2f-5cbf-4aab-8543-7a3fda9b9059', 'name': '52 Rue Jean Jaures', 'postcode': '97110', 'citycode': '97120', 'x': 656379.35, 'y': 1796029.48, 'city': 'Pointe-à-Pitre', 'context': '971, Guadeloupe', 'type': 'housenumber', 'importance': 0.65682, 'street': 'Rue Jean Jaures'}}], 'attribution': 'BAN', 'licence': 'ETALAB-2.0', 'query': '52, rue jean jaures, 97110 Pointe-à-Pitre', 'limit': 5}\n"
     ]
    }
   ],
   "source": [
    "numero=str(int(liste_med_ban['numérovoiecoordstructure'].iloc[0]))\n",
    "voie = liste_med_ban['Voie'].iloc[0]\n",
    "cp_ville=liste_med_ban['cp_ville'].iloc[0]\n",
    "adresse = numero+', '+voie+', '+cp_ville\n",
    "print(adresse)\n",
    "\n",
    "# Requête simple directe:\n",
    "res = get_geocode(q = adresse)\n",
    "print(res)"
   ]
  },
  {
   "cell_type": "code",
   "execution_count": 274,
   "metadata": {},
   "outputs": [
    {
     "name": "stdout",
     "output_type": "stream",
     "text": [
      "La distance entre Paris et Los Angeles est d'environ 9085.51 km.\n"
     ]
    }
   ],
   "source": [
    "def distance_long_lat(lat1, lon1, lat2, lon2):\n",
    "    # Rayon de la Terre en km\n",
    "    R = 6371.0\n",
    "    \n",
    "    # Conversion des degrés en radians\n",
    "    lat1_rad = math.radians(lat1)\n",
    "    lon1_rad = math.radians(lon1)\n",
    "    lat2_rad = math.radians(lat2)\n",
    "    lon2_rad = math.radians(lon2)\n",
    "    \n",
    "    # Calcul des différences\n",
    "    delta_lat = lat2_rad - lat1_rad\n",
    "    delta_lon = lon2_rad - lon1_rad\n",
    "    \n",
    "    # Formule de Haversine\n",
    "    a = math.sin(delta_lat / 2)**2 + math.cos(lat1_rad) * math.cos(lat2_rad) * math.sin(delta_lon / 2)**2\n",
    "    c = 2 * math.asin(math.sqrt(a))\n",
    "    \n",
    "    # Distance\n",
    "    distance = R * c\n",
    "    \n",
    "    return distance\n",
    "\n",
    "# Exemple d'utilisation\n",
    "lat1, lon1 = 48.8566, 2.3522  # Paris\n",
    "lat2, lon2 = 34.0522, -118.2437  # Los Angeles\n",
    "\n",
    "distance = distance_long_lat(lat1, lon1, lat2, lon2)\n",
    "print(f\"La distance entre Paris et Los Angeles est d'environ {distance:.2f} km.\")"
   ]
  },
  {
   "cell_type": "code",
   "execution_count": 275,
   "metadata": {},
   "outputs": [],
   "source": [
    "def recup_long(adr):\n",
    "    if isinstance(adr,str):\n",
    "        try:\n",
    "            return(get_geocode(q=adr)['features'][0]['geometry']['coordinates'][0])\n",
    "        except (IndexError, KeyError, TypeError):\n",
    "            print(adr)\n",
    "            return None\n",
    "    else :\n",
    "        return (np.nan)\n",
    "    \n",
    "def recup_lat(adr):\n",
    "    if isinstance(adr,str):\n",
    "        try:\n",
    "            return(get_geocode(q=adr)['features'][0]['geometry']['coordinates'][1])\n",
    "        except (IndexError, KeyError, TypeError):\n",
    "            print(adr)\n",
    "            return None\n",
    "    else :\n",
    "        return (np.nan)\n",
    "#liste_med_ban['longitude API'] = liste_med_ban['adresse'].apply(recup_long)\n",
    "\n",
    "#liste_med_ban['latitude API'] = get_geocode(q = liste_med_ban['adresse'])['features'][0]['geometry']['coordinates'][1]\n",
    "\n",
    "#liste_med_ban['adresse','longitude API','latitude API']"
   ]
  },
  {
   "cell_type": "markdown",
   "metadata": {},
   "source": [
    "# Utilisation base de données centroides"
   ]
  },
  {
   "cell_type": "code",
   "execution_count": 276,
   "metadata": {},
   "outputs": [
    {
     "data": {
      "text/html": [
       "<div>\n",
       "<style scoped>\n",
       "    .dataframe tbody tr th:only-of-type {\n",
       "        vertical-align: middle;\n",
       "    }\n",
       "\n",
       "    .dataframe tbody tr th {\n",
       "        vertical-align: top;\n",
       "    }\n",
       "\n",
       "    .dataframe thead th {\n",
       "        text-align: right;\n",
       "    }\n",
       "</style>\n",
       "<table border=\"1\" class=\"dataframe\">\n",
       "  <thead>\n",
       "    <tr style=\"text-align: right;\">\n",
       "      <th></th>\n",
       "      <th>id</th>\n",
       "      <th>codgeo</th>\n",
       "      <th>dep</th>\n",
       "      <th>reg</th>\n",
       "      <th>xcl2154</th>\n",
       "      <th>ycl2154</th>\n",
       "      <th>libgeo</th>\n",
       "      <th>geometry</th>\n",
       "    </tr>\n",
       "  </thead>\n",
       "  <tbody>\n",
       "    <tr>\n",
       "      <th>0</th>\n",
       "      <td>None</td>\n",
       "      <td>01001</td>\n",
       "      <td>01</td>\n",
       "      <td>84</td>\n",
       "      <td>848241</td>\n",
       "      <td>6563021</td>\n",
       "      <td>L'Abergement-Clémenciat</td>\n",
       "      <td>POLYGON ((846981.436 6564107.360, 847017.457 6...</td>\n",
       "    </tr>\n",
       "    <tr>\n",
       "      <th>1</th>\n",
       "      <td>None</td>\n",
       "      <td>01002</td>\n",
       "      <td>01</td>\n",
       "      <td>84</td>\n",
       "      <td>887495</td>\n",
       "      <td>6548152</td>\n",
       "      <td>L'Abergement-de-Varey</td>\n",
       "      <td>POLYGON ((886027.651 6548170.900, 886157.325 6...</td>\n",
       "    </tr>\n",
       "    <tr>\n",
       "      <th>2</th>\n",
       "      <td>None</td>\n",
       "      <td>01004</td>\n",
       "      <td>01</td>\n",
       "      <td>84</td>\n",
       "      <td>882724</td>\n",
       "      <td>6542583</td>\n",
       "      <td>Ambérieu-en-Bugey</td>\n",
       "      <td>POLYGON ((884889.404 6539629.931, 884795.750 6...</td>\n",
       "    </tr>\n",
       "    <tr>\n",
       "      <th>3</th>\n",
       "      <td>None</td>\n",
       "      <td>01005</td>\n",
       "      <td>01</td>\n",
       "      <td>84</td>\n",
       "      <td>847277</td>\n",
       "      <td>6545791</td>\n",
       "      <td>Ambérieux-en-Dombes</td>\n",
       "      <td>POLYGON ((845951.250 6547999.078, 846073.720 6...</td>\n",
       "    </tr>\n",
       "    <tr>\n",
       "      <th>4</th>\n",
       "      <td>None</td>\n",
       "      <td>01006</td>\n",
       "      <td>01</td>\n",
       "      <td>84</td>\n",
       "      <td>902191</td>\n",
       "      <td>6519791</td>\n",
       "      <td>Ambléon</td>\n",
       "      <td>POLYGON ((901336.361 6521123.305, 902460.201 6...</td>\n",
       "    </tr>\n",
       "  </tbody>\n",
       "</table>\n",
       "</div>"
      ],
      "text/plain": [
       "     id codgeo dep reg  xcl2154  ycl2154                   libgeo  \\\n",
       "0  None  01001  01  84   848241  6563021  L'Abergement-Clémenciat   \n",
       "1  None  01002  01  84   887495  6548152    L'Abergement-de-Varey   \n",
       "2  None  01004  01  84   882724  6542583        Ambérieu-en-Bugey   \n",
       "3  None  01005  01  84   847277  6545791      Ambérieux-en-Dombes   \n",
       "4  None  01006  01  84   902191  6519791                  Ambléon   \n",
       "\n",
       "                                            geometry  \n",
       "0  POLYGON ((846981.436 6564107.360, 847017.457 6...  \n",
       "1  POLYGON ((886027.651 6548170.900, 886157.325 6...  \n",
       "2  POLYGON ((884889.404 6539629.931, 884795.750 6...  \n",
       "3  POLYGON ((845951.250 6547999.078, 846073.720 6...  \n",
       "4  POLYGON ((901336.361 6521123.305, 902460.201 6...  "
      ]
     },
     "execution_count": 276,
     "metadata": {},
     "output_type": "execute_result"
    }
   ],
   "source": [
    "gdf = gpd.read_file('data/a-com2022-topo-2154.json')\n",
    "gdf.head()"
   ]
  },
  {
   "cell_type": "code",
   "execution_count": 277,
   "metadata": {},
   "outputs": [],
   "source": [
    "def codecom2(codecom1):\n",
    "    if str(codecom1).startswith('75'):\n",
    "        return('75056')\n",
    "    elif str(codecom1).startswith('693'):\n",
    "        return('69123')\n",
    "    elif str(codecom1).startswith('132'):\n",
    "        return('13055')\n",
    "    elif str(codecom1).startswith('91182'):\n",
    "        return('91228')\n",
    "    elif str(codecom1).startswith('85257'):\n",
    "        return('85090')\n",
    "    elif str(codecom1).startswith('85217'):\n",
    "        return('85146')\n",
    "    elif str(codecom1).startswith('85166'):\n",
    "        return('85194')\n",
    "    elif str(codecom1).startswith('74011'):\n",
    "        return('74010')\n",
    "    elif str(codecom1).startswith('74181'):\n",
    "        return('74112')\n",
    "    elif str(codecom1).startswith('74268') or str(codecom1).startswith('74093') or str(codecom1).startswith('74217'):\n",
    "        return('74010')\n",
    "    elif str(codecom1).startswith('50203'):\n",
    "        return('50129')\n",
    "    elif str(codecom1).startswith('59540'):\n",
    "        return('59139')\n",
    "    elif str(codecom1).startswith('49199'):\n",
    "        return('71291')\n",
    "    elif str(codecom1).startswith('29052'):\n",
    "        return('29003')\n",
    "    elif str(codecom1).startswith('85060'):\n",
    "        return('85194')\n",
    "    elif str(codecom1).startswith('50602'):\n",
    "        return('50129')\n",
    "    elif str(codecom1).startswith('49285'):\n",
    "        return('49301')\n",
    "    elif str(codecom1).startswith('85107'):\n",
    "        return('85146')\n",
    "    elif str(codecom1).startswith('50173'):\n",
    "        return('50129')\n",
    "    elif str(codecom1).startswith('49065'):\n",
    "        return('49080')   \n",
    "    elif str(codecom1).startswith('49375'):\n",
    "        return('49023')\n",
    "    elif str(codecom1).startswith('85069'):\n",
    "        return('85008')  \n",
    "    elif str(codecom1).startswith('85069'):\n",
    "        return('85008')   \n",
    "    elif str(codecom1).startswith('49276'):\n",
    "        return('49244') \n",
    "    elif str(codecom1).startswith('49273'):\n",
    "        return('49301')    \n",
    "    elif codecom1//10000==0:\n",
    "        return('0'+str(codecom1))\n",
    "    else :\n",
    "        return(str(codecom1))"
   ]
  },
  {
   "cell_type": "code",
   "execution_count": 278,
   "metadata": {},
   "outputs": [],
   "source": [
    "liste_med_ban['codecommunecoordstructure2']=liste_med_ban['codecommunecoordstructure'].apply(codecom2)"
   ]
  },
  {
   "cell_type": "code",
   "execution_count": 279,
   "metadata": {},
   "outputs": [],
   "source": [
    "liste_med_ban['Code Département'] = liste_med_ban['Code Département'].astype(str)"
   ]
  },
  {
   "cell_type": "code",
   "execution_count": 280,
   "metadata": {},
   "outputs": [],
   "source": [
    "liste_med_ban_metr = liste_med_ban[~liste_med_ban['Code Département'].str.startswith('971')]"
   ]
  },
  {
   "cell_type": "code",
   "execution_count": 281,
   "metadata": {},
   "outputs": [],
   "source": [
    "def nombre_de_med(codeCom):\n",
    "    data_f = liste_med_ban_metr[(liste_med_ban_metr['codecommunecoordstructure']==codeCom)]\n",
    "    return(data_f.shape[0])\n",
    "\n",
    "#liste_med_ban_metr['nb medecin commune']=liste_med_ban_metr['codecommunecoordstructure'].apply(nombre_de_med)"
   ]
  },
  {
   "cell_type": "code",
   "execution_count": 282,
   "metadata": {},
   "outputs": [],
   "source": [
    "df_merged_gdf = liste_med_ban_metr.merge(gdf, how='inner', left_on='codecommunecoordstructure2', right_on='codgeo')"
   ]
  },
  {
   "cell_type": "code",
   "execution_count": 248,
   "metadata": {},
   "outputs": [],
   "source": [
    "merged_df = liste_med_ban_metr.merge(gdf, how='outer', left_on='codecommunecoordstructure2', right_on='codgeo', indicator = True)\n",
    "\n",
    "# Filtrer les lignes qui n'ont pas de correspondance\n",
    "missing_from_df2 = merged_df[merged_df['_merge'] == 'left_only']\n",
    "missing_from_df1 = merged_df[merged_df['_merge'] == 'right_only']"
   ]
  },
  {
   "cell_type": "code",
   "execution_count": 249,
   "metadata": {},
   "outputs": [
    {
     "data": {
      "text/plain": [
       "169      01091\n",
       "246      01154\n",
       "2172     03153\n",
       "11217    14157\n",
       "11218    14157\n",
       "         ...  \n",
       "84166    80209\n",
       "84167    80209\n",
       "84168    80209\n",
       "87896    85048\n",
       "87970    85091\n",
       "Name: codecommunecoordstructure2, Length: 161, dtype: object"
      ]
     },
     "execution_count": 249,
     "metadata": {},
     "output_type": "execute_result"
    }
   ],
   "source": [
    "missing_from_df2['codecommunecoordstructure2']"
   ]
  },
  {
   "cell_type": "code",
   "execution_count": 253,
   "metadata": {},
   "outputs": [
    {
     "name": "stdout",
     "output_type": "stream",
     "text": [
      "(73091, 85) (73252, 77)\n"
     ]
    }
   ],
   "source": [
    "print(df_merged_gdf.shape,liste_med_ban_metr.shape)"
   ]
  },
  {
   "cell_type": "code",
   "execution_count": 283,
   "metadata": {},
   "outputs": [],
   "source": [
    "df_merged_gdf = df_merged_gdf[['identifiantpp', 'codecivilité',\n",
    "       'nomdexercice', 'prénomdexercice', 'codecatégorieprofessionnelle',\n",
    "       'codesavoirfaire', 'libellésavoirfaire', 'codemodeexercice',\n",
    "       'numérosiretsite',\n",
    "       'identifianttechniquedelastructur', 'raisonsocialesite',\n",
    "       'numérovoiecoordstructure', 'indicerépétitionvoiecoordstructu',\n",
    "       'codetypedevoiecoordstructure', 'libellétypedevoiecoordstructure',\n",
    "       'libellévoiecoordstructure', 'bureaucedexcoordstructure',\n",
    "       'codepostalcoordstructure', 'codecommunecoordstructure',\n",
    "       'libellécommunecoordstructure', 'libellépayscoordstructure',\n",
    "       'codesecteurdactivité', 'libellésecteurdactivité', 'coderôle',\n",
    "       'libellérôle', 'Doctor Name', 'Specialty', 'card_0', 'card_3', 'card_4',\n",
    "       'Latitude', 'Longitude', 'Skills Processed', 'RPPS', 'Nb Skills',\n",
    "       'moyens_paiement', 'carte_vitale', 'secteur', 'Présentation',\n",
    "       'Langues parlées', 'Diplômes nationaux et universitaires',\n",
    "       'Autres formations', 'Expériences', 'Travaux et publications',\n",
    "       'Prix et distinctions', 'site', 'Site web', 'Formations',\n",
    "       'Diplômes nationaux et universitaires b', 'Nb caractères présentation',\n",
    "       'Autres formations b', 'Travaux et publications b', 'Nb langues',\n",
    "       'Expériences b', 'Formations b', 'Carac_card_1', 'Transport', 'Parking',\n",
    "       'Infos', 'Coordonnées', 'Sans RDV', 'nb terms card_0',\n",
    "       'nb terms card_3', 'nb terms card_4', 'nb carac card_0',\n",
    "       'nb carac card_3', 'nb carac card_4', 'code dépar', 'Code Département',\n",
    "       'généralistes', 'Voie', 'codgeo', 'xcl2154',\n",
    "       'ycl2154']]"
   ]
  },
  {
   "cell_type": "code",
   "execution_count": 284,
   "metadata": {},
   "outputs": [],
   "source": [
    "df_merged_gdf_reduit = df_merged_gdf[['identifiantpp', 'codecivilité',\n",
    "       'nomdexercice', 'prénomdexercice', 'codecatégorieprofessionnelle', 'libellésavoirfaire', 'codemodeexercice', 'libellésecteurdactivité','codecommunecoordstructure',\n",
    "       'libellérôle', 'Specialty', 'card_0', 'card_3', 'card_4',\n",
    "       'Latitude', 'Longitude', 'Skills Processed', 'RPPS', 'Nb Skills',\n",
    "       'moyens_paiement', 'carte_vitale', 'secteur', 'Présentation',\n",
    "       'Langues parlées', 'Diplômes nationaux et universitaires',\n",
    "       'Autres formations', 'Expériences', 'Travaux et publications',\n",
    "       'Prix et distinctions', 'site', 'Site web', 'Formations',\n",
    "       'Diplômes nationaux et universitaires b', 'Nb caractères présentation',\n",
    "       'Autres formations b', 'Travaux et publications b', 'Nb langues',\n",
    "       'Expériences b', 'Formations b', 'Carac_card_1', 'Transport', 'Parking',\n",
    "       'Infos', 'Coordonnées', 'Sans RDV', 'nb terms card_0',\n",
    "       'nb terms card_3', 'nb terms card_4', 'nb carac card_0',\n",
    "       'nb carac card_3', 'nb carac card_4', 'Code Département',\n",
    "       'généralistes', 'codgeo', 'xcl2154',\n",
    "       'ycl2154']]"
   ]
  },
  {
   "cell_type": "code",
   "execution_count": 285,
   "metadata": {},
   "outputs": [],
   "source": [
    "df_merged_gdf_reduit_2 = df_merged_gdf[['identifiantpp', 'codecivilité',\n",
    "       'nomdexercice', 'prénomdexercice', 'RPPS', 'Code Département', 'codgeo', 'xcl2154',\n",
    "       'ycl2154','codecommunecoordstructure']]"
   ]
  },
  {
   "cell_type": "code",
   "execution_count": 286,
   "metadata": {},
   "outputs": [],
   "source": [
    "def distance_bis(x1,y1,x2,y2):\n",
    "    return((np.sqrt((x1-x2)**2+(y1-y2)**2))/1000)"
   ]
  },
  {
   "cell_type": "code",
   "execution_count": 290,
   "metadata": {},
   "outputs": [],
   "source": [
    "def nbDocDist(listeDist,data):\n",
    "    longueur = data.shape[0]\n",
    "    nbListeDoctolib = [0 for i in range(len(listeDist))]\n",
    "    nbListeTot = [0 for i in range(len(listeDist))]\n",
    "    nbListeFemmeTot = [0 for i in range(len(listeDist))]\n",
    "    nbListeFemmeDoc = [0 for i in range(len(listeDist))]\n",
    "    for (j,distanceMax) in enumerate(listeDist) : \n",
    "        for i in range(longueur):\n",
    "            if data['distance'].iloc[i]<distanceMax :\n",
    "                nbListeTot[j]=nbListeTot[j]+1\n",
    "                if data['RPPS_y'].iloc[i]>0 :\n",
    "                    nbListeDoctolib[j]=nbListeDoctolib[j]+1\n",
    "                    if data['codecivilité_y'].iloc[i]!='M':\n",
    "                        nbListeFemmeDoc[j]=nbListeFemmeDoc[j]+1\n",
    "                if data['codecivilité_y'].iloc[i]!='M':\n",
    "                    nbListeFemmeTot[j]=nbListeFemmeTot[j]+1\n",
    "\n",
    "        data['Nb docteurs à '+str(distanceMax)+' km']=nbListeTot[j]\n",
    "        data['Nb docteurs femme à '+str(distanceMax)+' km']=nbListeFemmeTot[j]\n",
    "        data['Nb docteurs sur Doctolib à '+str(distanceMax)+' km']=nbListeDoctolib[j]\n",
    "        data['Nb docteurs femme sur Doctolib à '+str(distanceMax)+' km']=nbListeFemmeDoc[j]\n",
    "\n",
    "    return data[['identifiantpp_x','codecivilité_x','nomdexercice_x','prénomdexercice_x','codecatégorieprofessionnelle_x','libellésavoirfaire_x','codemodeexercice_x','libellésecteurdactivité_x','libellérôle_x','Specialty_x', 'card_0_x', 'card_3_x', 'card_4_x',\n",
    "       'Latitude_x', 'Longitude_x', 'Skills Processed_x', 'RPPS_x','Nb Skills_x','moyens_paiement_x', 'carte_vitale_x', 'secteur_x', 'Présentation_x',\n",
    "       'Langues parlées_x', 'Diplômes nationaux et universitaires_x',\n",
    "       'Autres formations_x', 'Expériences_x', 'Travaux et publications_x',\n",
    "       'Prix et distinctions_x','site_x', 'Site web_x', 'Formations_x',\n",
    "       'Diplômes nationaux et universitaires b_x',\n",
    "       'Nb caractères présentation_x', 'Autres formations b_x',\n",
    "       'Travaux et publications b_x', 'Nb langues_x', 'Expériences b_x',\n",
    "       'Formations b_x','Carac_card_1_x', 'Transport_x', 'Parking_x', 'Infos_x',\n",
    "       'Coordonnées_x', 'Sans RDV_x', 'nb terms card_0_x', 'nb terms card_3_x',\n",
    "       'nb terms card_4_x', 'nb carac card_0_x', 'nb carac card_3_x',\n",
    "       'nb carac card_4_x', 'codgeo_x', 'xcl2154_x', 'ycl2154_x','Nb docteurs à 2 km','Nb docteurs à 8 km','Nb docteurs à 30 km','Nb docteurs femme à 2 km','Nb docteurs femme à 8 km','Nb docteurs femme à 30 km','Nb docteurs sur Doctolib à 2 km','Nb docteurs sur Doctolib à 8 km','Nb docteurs sur Doctolib à 30 km','Nb docteurs femme sur Doctolib à 2 km','Nb docteurs à 8 km','Nb docteurs à 30 km']].iloc[0]    \n",
    "\n",
    "\n",
    "def nbDocDist2(listeDist,data):\n",
    "    longueur = data.shape[0]\n",
    "    nbListeDoctolib = [0 for i in range(len(listeDist))]\n",
    "    nbListeTot = [0 for i in range(len(listeDist))]\n",
    "    nbListeFemmeTot = [0 for i in range(len(listeDist))]\n",
    "    nbListeFemmeDoc = [0 for i in range(len(listeDist))]\n",
    "    for (j,distanceMax) in enumerate(listeDist) : \n",
    "        for i in range(longueur):\n",
    "            if data['distance'].iloc[i]<distanceMax :\n",
    "                nbListeTot[j]=nbListeTot[j]+1\n",
    "                if data['RPPS_y'].iloc[i]>0 :\n",
    "                    nbListeDoctolib[j]=nbListeDoctolib[j]+1\n",
    "                    if data['codecivilité_y'].iloc[i]!='M':\n",
    "                        nbListeFemmeDoc[j]=nbListeFemmeDoc[j]+1\n",
    "                if data['codecivilité_y'].iloc[i]!='M':\n",
    "                    nbListeFemmeTot[j]=nbListeFemmeTot[j]+1\n",
    "\n",
    "        data['Nb docteurs à '+str(distanceMax)+' km']=nbListeTot[j]\n",
    "        data['Nb docteurs femme à '+str(distanceMax)+' km']=nbListeFemmeTot[j]\n",
    "        data['Nb docteurs sur Doctolib à '+str(distanceMax)+' km']=nbListeDoctolib[j]\n",
    "        data['Nb docteurs femme sur Doctolib à '+str(distanceMax)+' km']=nbListeFemmeDoc[j]\n",
    "\n",
    "    return data[['identifiantpp_x','codecivilité_x','nomdexercice_x','prénomdexercice_x', 'RPPS_x',\n",
    "        'codgeo_x', 'xcl2154_x', 'ycl2154_x','Nb docteurs à 2 km','Nb docteurs à 8 km','Nb docteurs à 30 km','Nb docteurs femme à 2 km','Nb docteurs femme à 8 km','Nb docteurs femme à 30 km','Nb docteurs sur Doctolib à 2 km','Nb docteurs sur Doctolib à 8 km','Nb docteurs sur Doctolib à 30 km','Nb docteurs femme sur Doctolib à 2 km','Nb docteurs à 8 km','Nb docteurs à 30 km']].iloc[0]           "
   ]
  },
  {
   "cell_type": "code",
   "execution_count": 288,
   "metadata": {},
   "outputs": [
    {
     "data": {
      "text/html": [
       "<div>\n",
       "<style scoped>\n",
       "    .dataframe tbody tr th:only-of-type {\n",
       "        vertical-align: middle;\n",
       "    }\n",
       "\n",
       "    .dataframe tbody tr th {\n",
       "        vertical-align: top;\n",
       "    }\n",
       "\n",
       "    .dataframe thead th {\n",
       "        text-align: right;\n",
       "    }\n",
       "</style>\n",
       "<table border=\"1\" class=\"dataframe\">\n",
       "  <thead>\n",
       "    <tr style=\"text-align: right;\">\n",
       "      <th></th>\n",
       "      <th>identifiantpp_x</th>\n",
       "      <th>codecivilité_x</th>\n",
       "      <th>nomdexercice_x</th>\n",
       "      <th>prénomdexercice_x</th>\n",
       "      <th>codecatégorieprofessionnelle_x</th>\n",
       "      <th>libellésavoirfaire_x</th>\n",
       "      <th>codemodeexercice_x</th>\n",
       "      <th>libellésecteurdactivité_x</th>\n",
       "      <th>codecommunecoordstructure_x</th>\n",
       "      <th>libellérôle_x</th>\n",
       "      <th>...</th>\n",
       "      <th>nb terms card_3_y</th>\n",
       "      <th>nb terms card_4_y</th>\n",
       "      <th>nb carac card_0_y</th>\n",
       "      <th>nb carac card_3_y</th>\n",
       "      <th>nb carac card_4_y</th>\n",
       "      <th>Code Département_y</th>\n",
       "      <th>généralistes_y</th>\n",
       "      <th>codgeo_y</th>\n",
       "      <th>xcl2154_y</th>\n",
       "      <th>ycl2154_y</th>\n",
       "    </tr>\n",
       "  </thead>\n",
       "  <tbody>\n",
       "    <tr>\n",
       "      <th>0</th>\n",
       "      <td>10000011808</td>\n",
       "      <td>MME</td>\n",
       "      <td>HAMOT</td>\n",
       "      <td>ENNA</td>\n",
       "      <td>C</td>\n",
       "      <td>Qualifié en Médecine Générale</td>\n",
       "      <td>S</td>\n",
       "      <td>Centres de santé</td>\n",
       "      <td>75110</td>\n",
       "      <td>Médecin du travail</td>\n",
       "      <td>...</td>\n",
       "      <td>NaN</td>\n",
       "      <td>NaN</td>\n",
       "      <td>NaN</td>\n",
       "      <td>NaN</td>\n",
       "      <td>NaN</td>\n",
       "      <td>95</td>\n",
       "      <td>95</td>\n",
       "      <td>95637</td>\n",
       "      <td>628442</td>\n",
       "      <td>6881566</td>\n",
       "    </tr>\n",
       "    <tr>\n",
       "      <th>1</th>\n",
       "      <td>10000011808</td>\n",
       "      <td>MME</td>\n",
       "      <td>HAMOT</td>\n",
       "      <td>ENNA</td>\n",
       "      <td>C</td>\n",
       "      <td>Qualifié en Médecine Générale</td>\n",
       "      <td>S</td>\n",
       "      <td>Centres de santé</td>\n",
       "      <td>75110</td>\n",
       "      <td>Médecin du travail</td>\n",
       "      <td>...</td>\n",
       "      <td>NaN</td>\n",
       "      <td>NaN</td>\n",
       "      <td>NaN</td>\n",
       "      <td>NaN</td>\n",
       "      <td>NaN</td>\n",
       "      <td>75</td>\n",
       "      <td>234</td>\n",
       "      <td>75056</td>\n",
       "      <td>652492</td>\n",
       "      <td>6862009</td>\n",
       "    </tr>\n",
       "    <tr>\n",
       "      <th>2</th>\n",
       "      <td>10000011808</td>\n",
       "      <td>MME</td>\n",
       "      <td>HAMOT</td>\n",
       "      <td>ENNA</td>\n",
       "      <td>C</td>\n",
       "      <td>Qualifié en Médecine Générale</td>\n",
       "      <td>S</td>\n",
       "      <td>Centres de santé</td>\n",
       "      <td>75110</td>\n",
       "      <td>Médecin du travail</td>\n",
       "      <td>...</td>\n",
       "      <td>NaN</td>\n",
       "      <td>NaN</td>\n",
       "      <td>NaN</td>\n",
       "      <td>NaN</td>\n",
       "      <td>NaN</td>\n",
       "      <td>11</td>\n",
       "      <td>143</td>\n",
       "      <td>11304</td>\n",
       "      <td>633310</td>\n",
       "      <td>6197645</td>\n",
       "    </tr>\n",
       "    <tr>\n",
       "      <th>3</th>\n",
       "      <td>10000011808</td>\n",
       "      <td>MME</td>\n",
       "      <td>HAMOT</td>\n",
       "      <td>ENNA</td>\n",
       "      <td>C</td>\n",
       "      <td>Qualifié en Médecine Générale</td>\n",
       "      <td>S</td>\n",
       "      <td>Centres de santé</td>\n",
       "      <td>75110</td>\n",
       "      <td>Médecin du travail</td>\n",
       "      <td>...</td>\n",
       "      <td>NaN</td>\n",
       "      <td>NaN</td>\n",
       "      <td>NaN</td>\n",
       "      <td>NaN</td>\n",
       "      <td>NaN</td>\n",
       "      <td>56</td>\n",
       "      <td>178</td>\n",
       "      <td>56034</td>\n",
       "      <td>243618</td>\n",
       "      <td>6738059</td>\n",
       "    </tr>\n",
       "    <tr>\n",
       "      <th>4</th>\n",
       "      <td>10000011808</td>\n",
       "      <td>MME</td>\n",
       "      <td>HAMOT</td>\n",
       "      <td>ENNA</td>\n",
       "      <td>C</td>\n",
       "      <td>Qualifié en Médecine Générale</td>\n",
       "      <td>S</td>\n",
       "      <td>Centres de santé</td>\n",
       "      <td>75110</td>\n",
       "      <td>Médecin du travail</td>\n",
       "      <td>...</td>\n",
       "      <td>NaN</td>\n",
       "      <td>NaN</td>\n",
       "      <td>NaN</td>\n",
       "      <td>NaN</td>\n",
       "      <td>NaN</td>\n",
       "      <td>93</td>\n",
       "      <td>99</td>\n",
       "      <td>93048</td>\n",
       "      <td>658989</td>\n",
       "      <td>6862633</td>\n",
       "    </tr>\n",
       "  </tbody>\n",
       "</table>\n",
       "<p>5 rows × 112 columns</p>\n",
       "</div>"
      ],
      "text/plain": [
       "   identifiantpp_x codecivilité_x nomdexercice_x prénomdexercice_x  \\\n",
       "0      10000011808            MME          HAMOT              ENNA   \n",
       "1      10000011808            MME          HAMOT              ENNA   \n",
       "2      10000011808            MME          HAMOT              ENNA   \n",
       "3      10000011808            MME          HAMOT              ENNA   \n",
       "4      10000011808            MME          HAMOT              ENNA   \n",
       "\n",
       "  codecatégorieprofessionnelle_x           libellésavoirfaire_x  \\\n",
       "0                              C  Qualifié en Médecine Générale   \n",
       "1                              C  Qualifié en Médecine Générale   \n",
       "2                              C  Qualifié en Médecine Générale   \n",
       "3                              C  Qualifié en Médecine Générale   \n",
       "4                              C  Qualifié en Médecine Générale   \n",
       "\n",
       "  codemodeexercice_x libellésecteurdactivité_x  codecommunecoordstructure_x  \\\n",
       "0                  S          Centres de santé                        75110   \n",
       "1                  S          Centres de santé                        75110   \n",
       "2                  S          Centres de santé                        75110   \n",
       "3                  S          Centres de santé                        75110   \n",
       "4                  S          Centres de santé                        75110   \n",
       "\n",
       "        libellérôle_x  ... nb terms card_3_y nb terms card_4_y  \\\n",
       "0  Médecin du travail  ...               NaN               NaN   \n",
       "1  Médecin du travail  ...               NaN               NaN   \n",
       "2  Médecin du travail  ...               NaN               NaN   \n",
       "3  Médecin du travail  ...               NaN               NaN   \n",
       "4  Médecin du travail  ...               NaN               NaN   \n",
       "\n",
       "  nb carac card_0_y nb carac card_3_y  nb carac card_4_y  Code Département_y  \\\n",
       "0               NaN               NaN                NaN                  95   \n",
       "1               NaN               NaN                NaN                  75   \n",
       "2               NaN               NaN                NaN                  11   \n",
       "3               NaN               NaN                NaN                  56   \n",
       "4               NaN               NaN                NaN                  93   \n",
       "\n",
       "  généralistes_y  codgeo_y  xcl2154_y  ycl2154_y  \n",
       "0             95     95637     628442    6881566  \n",
       "1            234     75056     652492    6862009  \n",
       "2            143     11304     633310    6197645  \n",
       "3            178     56034     243618    6738059  \n",
       "4             99     93048     658989    6862633  \n",
       "\n",
       "[5 rows x 112 columns]"
      ]
     },
     "execution_count": 288,
     "metadata": {},
     "output_type": "execute_result"
    }
   ],
   "source": [
    "# Jointure croisée avec 'how=cross'\n",
    "df_cross_0 = pd.merge(df_merged_gdf_reduit[df_merged_gdf_reduit['identifiantpp']==df_merged_gdf_reduit['identifiantpp'].iloc[1]], df_merged_gdf_reduit, how='cross')\n",
    "df_cross_0.head()"
   ]
  },
  {
   "cell_type": "code",
   "execution_count": 257,
   "metadata": {},
   "outputs": [],
   "source": [
    "dico_cross = []\n",
    "dico_d={}\n",
    "for i in range(5000):\n",
    "    df_cross = pd.merge(df_merged_gdf_reduit[(df_merged_gdf_reduit['identifiantpp']==df_merged_gdf_reduit['identifiantpp'].iloc[i])&(df_merged_gdf_reduit['codecommunecoordstructure']==df_merged_gdf_reduit['codecommunecoordstructure'].iloc[i])], df_merged_gdf_reduit[df_merged_gdf_reduit['Code Département']==df_merged_gdf_reduit['Code Département'].iloc[i]], how='cross')\n",
    "    df_cross['distance']=0.\n",
    "    codegeo1 = df_cross['codgeo_x'].iloc[0]\n",
    "    Latitude1= df_cross['xcl2154_x'].iloc[0]\n",
    "    Longitude1=  df_cross['ycl2154_x'].iloc[0]\n",
    "    for i in range(df_cross.shape[0]):\n",
    "        codegeo2 = df_cross['codgeo_y'].iloc[i]\n",
    "        if codegeo1==codegeo2:\n",
    "            None\n",
    "        elif (codegeo2,codegeo1) in dico_d :\n",
    "            df_cross.loc[i,'distance']=dico_d[(codegeo2,codegeo1)]\n",
    "        elif (codegeo1,codegeo2) in dico_d :\n",
    "            df_cross.loc[i,'distance']=dico_d[(codegeo1,codegeo2)]\n",
    "        else :\n",
    "            distance12 = distance_bis(Latitude1,Longitude1,df_cross_0['xcl2154_y'].iloc[i], df_cross_0['ycl2154_y'].iloc[i])\n",
    "            dico_d[(codegeo1,codegeo2)]=distance12\n",
    "            df_cross.loc[i,'distance']=distance12\n",
    "    ligne = nbDocDist([2,8,30],df_cross)\n",
    "    dico_cross.append(ligne)\n",
    "    #print(i)"
   ]
  },
  {
   "cell_type": "code",
   "execution_count": 261,
   "metadata": {},
   "outputs": [
    {
     "data": {
      "text/plain": [
       "identifiantpp_x                                      10000189661\n",
       "codecivilité_x                                                 M\n",
       "nomdexercice_x                                         CHAUCHARD\n",
       "prénomdexercice_x                                         CLAUDE\n",
       "codecatégorieprofessionnelle_x                                 C\n",
       "libellésavoirfaire_x                           Médecine Générale\n",
       "codemodeexercice_x                                             L\n",
       "libellésecteurdactivité_x                     Cabinet individuel\n",
       "libellérôle_x                               Titulaire de cabinet\n",
       "Specialty_x                                                  NaN\n",
       "card_0_x                                                     NaN\n",
       "card_3_x                                                     NaN\n",
       "card_4_x                                                     NaN\n",
       "Latitude_x                                                   NaN\n",
       "Longitude_x                                                  NaN\n",
       "Skills Processed_x                                           NaN\n",
       "RPPS_x                                                       NaN\n",
       "Nb Skills_x                                                  NaN\n",
       "moyens_paiement_x                                            NaN\n",
       "carte_vitale_x                                               NaN\n",
       "secteur_x                                                    NaN\n",
       "Présentation_x                                               NaN\n",
       "Langues parlées_x                                            NaN\n",
       "Diplômes nationaux et universitaires_x                       NaN\n",
       "Autres formations_x                                          NaN\n",
       "Expériences_x                                                NaN\n",
       "Travaux et publications_x                                    NaN\n",
       "Prix et distinctions_x                                       NaN\n",
       "site_x                                                       NaN\n",
       "Site web_x                                                   NaN\n",
       "Formations_x                                                 NaN\n",
       "Diplômes nationaux et universitaires b_x                     NaN\n",
       "Nb caractères présentation_x                                 NaN\n",
       "Autres formations b_x                                        NaN\n",
       "Travaux et publications b_x                                  NaN\n",
       "Nb langues_x                                                 NaN\n",
       "Expériences b_x                                              NaN\n",
       "Formations b_x                                               NaN\n",
       "Carac_card_1_x                                               NaN\n",
       "Transport_x                                                  NaN\n",
       "Parking_x                                                    NaN\n",
       "Infos_x                                                      NaN\n",
       "Coordonnées_x                                                NaN\n",
       "Sans RDV_x                                                   NaN\n",
       "nb terms card_0_x                                            NaN\n",
       "nb terms card_3_x                                            NaN\n",
       "nb terms card_4_x                                            NaN\n",
       "nb carac card_0_x                                            NaN\n",
       "nb carac card_3_x                                            NaN\n",
       "nb carac card_4_x                                            NaN\n",
       "codgeo_x                                                   75056\n",
       "xcl2154_x                                                 652492\n",
       "ycl2154_x                                                6862009\n",
       "Nb docteur à 2 km                                             28\n",
       "Nb docteur à 8 km                                             28\n",
       "Nb docteur à 30 km                                            28\n",
       "Name: 0, dtype: object"
      ]
     },
     "execution_count": 261,
     "metadata": {},
     "output_type": "execute_result"
    }
   ],
   "source": [
    "dico_cross[199]"
   ]
  },
  {
   "cell_type": "code",
   "execution_count": 293,
   "metadata": {},
   "outputs": [],
   "source": [
    "dico_cross2 = []\n",
    "for i in range(5000):\n",
    "    df_cross = pd.merge(df_merged_gdf_reduit_2[(df_merged_gdf_reduit_2['identifiantpp']==df_merged_gdf_reduit_2['identifiantpp'].iloc[i])&(df_merged_gdf_reduit_2['codecommunecoordstructure']==df_merged_gdf_reduit_2['codecommunecoordstructure'].iloc[i])], df_merged_gdf_reduit_2[df_merged_gdf_reduit_2['Code Département']==df_merged_gdf_reduit_2['Code Département'].iloc[i]], how='cross')\n",
    "    dico_d={}\n",
    "    df_cross['distance']=0.\n",
    "    codegeo1 = df_cross['codgeo_x'].iloc[0]\n",
    "    Latitude1= df_cross['xcl2154_x'].iloc[0]\n",
    "    Longitude1=  df_cross['ycl2154_x'].iloc[0]\n",
    "    for i in range(df_cross.shape[0]):\n",
    "        codegeo2 = df_cross['codgeo_y'].iloc[i]\n",
    "        if codegeo1==codegeo2:\n",
    "            None\n",
    "        elif (codegeo2,codegeo1) in dico_d :\n",
    "            df_cross.loc[i,'distance']=dico_d[(codegeo2,codegeo1)]\n",
    "        elif (codegeo1,codegeo2) in dico_d :\n",
    "            df_cross.loc[i,'distance']=dico_d[(codegeo1,codegeo2)]\n",
    "        else :\n",
    "            distance12 = distance_bis(Latitude1,Longitude1,df_cross_0['xcl2154_y'].iloc[i], df_cross_0['ycl2154_y'].iloc[i])\n",
    "            dico_d[(codegeo1,codegeo2)]=distance12\n",
    "            df_cross.loc[i,'distance']=distance12\n",
    "    ligne = nbDocDist2([2,8,30],df_cross)\n",
    "    dico_cross2.append(ligne)\n",
    "    #print(i)"
   ]
  },
  {
   "cell_type": "code",
   "execution_count": 296,
   "metadata": {},
   "outputs": [
    {
     "name": "stdout",
     "output_type": "stream",
     "text": [
      "Unexpected exception formatting exception. Falling back to standard exception\n"
     ]
    },
    {
     "name": "stderr",
     "output_type": "stream",
     "text": [
      "Traceback (most recent call last):\n",
      "  File \"/Users/julie/miniconda3/lib/python3.11/site-packages/IPython/core/interactiveshell.py\", line 3526, in run_code\n",
      "    exec(code_obj, self.user_global_ns, self.user_ns)\n",
      "  File \"/var/folders/rf/dqdwsk6s06ngm9b4j17fkb2r0000gn/T/ipykernel_10862/3971064186.py\", line 9, in <module>\n",
      "    codegeo2 = df_cross['codgeo_y'].iloc[i]\n",
      "               ~~~~~~~~^^^^^^^^^^^^\n",
      "  File \"/Users/julie/miniconda3/lib/python3.11/site-packages/pandas/core/frame.py\", line 4078, in __getitem__\n",
      "    return self._get_item_cache(key)\n",
      "           ^^^^^^^^^^^^^^^^^^^^^^^^^\n",
      "  File \"/Users/julie/miniconda3/lib/python3.11/site-packages/pandas/core/frame.py\", line 4639, in _get_item_cache\n",
      "    res = self._ixs(loc, axis=1)\n",
      "          ^^^^^^^^^^^^^^^^^^^^^^\n",
      "  File \"/Users/julie/miniconda3/lib/python3.11/site-packages/pandas/core/frame.py\", line 4014, in _ixs\n",
      "    result._set_as_cached(label, self)\n",
      "  File \"/Users/julie/miniconda3/lib/python3.11/site-packages/pandas/core/series.py\", line 1471, in _set_as_cached\n",
      "    def _set_as_cached(self, item, cacher) -> None:\n",
      "    \n",
      "KeyboardInterrupt\n",
      "\n",
      "During handling of the above exception, another exception occurred:\n",
      "\n",
      "Traceback (most recent call last):\n",
      "  File \"/Users/julie/miniconda3/lib/python3.11/site-packages/IPython/core/interactiveshell.py\", line 2120, in showtraceback\n",
      "    stb = self.InteractiveTB.structured_traceback(\n",
      "          ^^^^^^^^^^^^^^^^^^^^^^^^^^^^^^^^^^^^^^^^\n",
      "  File \"/Users/julie/miniconda3/lib/python3.11/site-packages/IPython/core/ultratb.py\", line 1435, in structured_traceback\n",
      "    return FormattedTB.structured_traceback(\n",
      "           ^^^^^^^^^^^^^^^^^^^^^^^^^^^^^^^^^\n",
      "  File \"/Users/julie/miniconda3/lib/python3.11/site-packages/IPython/core/ultratb.py\", line 1326, in structured_traceback\n",
      "    return VerboseTB.structured_traceback(\n",
      "           ^^^^^^^^^^^^^^^^^^^^^^^^^^^^^^^\n",
      "  File \"/Users/julie/miniconda3/lib/python3.11/site-packages/IPython/core/ultratb.py\", line 1173, in structured_traceback\n",
      "    formatted_exception = self.format_exception_as_a_whole(etype, evalue, etb, number_of_lines_of_context,\n",
      "                          ^^^^^^^^^^^^^^^^^^^^^^^^^^^^^^^^^^^^^^^^^^^^^^^^^^^^^^^^^^^^^^^^^^^^^^^^^^^^^^^^\n",
      "  File \"/Users/julie/miniconda3/lib/python3.11/site-packages/IPython/core/ultratb.py\", line 1063, in format_exception_as_a_whole\n",
      "    self.get_records(etb, number_of_lines_of_context, tb_offset) if etb else []\n",
      "    ^^^^^^^^^^^^^^^^^^^^^^^^^^^^^^^^^^^^^^^^^^^^^^^^^^^^^^^^^^^^\n",
      "  File \"/Users/julie/miniconda3/lib/python3.11/site-packages/IPython/core/ultratb.py\", line 1115, in get_records\n",
      "    style = stack_data.style_with_executing_node(style, self._tb_highlight)\n",
      "            ^^^^^^^^^^^^^^^^^^^^^^^^^^^^^^^^^^^^^^^^^^^^^^^^^^^^^^^^^^^^^^^\n",
      "  File \"/Users/julie/miniconda3/lib/python3.11/site-packages/stack_data/core.py\", line 455, in style_with_executing_node\n",
      "    class NewStyle(style):\n",
      "  File \"/Users/julie/miniconda3/lib/python3.11/site-packages/pygments/style.py\", line 91, in __new__\n",
      "    ndef[4] = colorformat(styledef[3:])\n",
      "              ^^^^^^^^^^^^^^^^^^^^^^^^^\n",
      "  File \"/Users/julie/miniconda3/lib/python3.11/site-packages/pygments/style.py\", line 58, in colorformat\n",
      "    assert False, \"wrong color format %r\" % text\n",
      "AssertionError: wrong color format 'ansiyellow'\n"
     ]
    }
   ],
   "source": [
    "dico_d={}\n",
    "for i in range(5000,10000):\n",
    "    df_cross = pd.merge(df_merged_gdf_reduit_2[(df_merged_gdf_reduit_2['identifiantpp']==df_merged_gdf_reduit_2['identifiantpp'].iloc[i])&(df_merged_gdf_reduit_2['codecommunecoordstructure']==df_merged_gdf_reduit_2['codecommunecoordstructure'].iloc[i])], df_merged_gdf_reduit_2[df_merged_gdf_reduit_2['Code Département']==df_merged_gdf_reduit_2['Code Département'].iloc[i]], how='cross')\n",
    "    df_cross['distance']=0.\n",
    "    codegeo1 = df_cross['codgeo_x'].iloc[0]\n",
    "    Latitude1= df_cross['xcl2154_x'].iloc[0]\n",
    "    Longitude1=  df_cross['ycl2154_x'].iloc[0]\n",
    "    for i in range(df_cross.shape[0]):\n",
    "        codegeo2 = df_cross['codgeo_y'].iloc[i]\n",
    "        if codegeo1==codegeo2:\n",
    "            None\n",
    "        elif (codegeo2,codegeo1) in dico_d :\n",
    "            df_cross.loc[i,'distance']=dico_d[(codegeo2,codegeo1)]\n",
    "        elif (codegeo1,codegeo2) in dico_d :\n",
    "            df_cross.loc[i,'distance']=dico_d[(codegeo1,codegeo2)]\n",
    "        else :\n",
    "            distance12 = distance_bis(Latitude1,Longitude1,df_cross_0['xcl2154_y'].iloc[i], df_cross_0['ycl2154_y'].iloc[i])\n",
    "            dico_d[(codegeo1,codegeo2)]=distance12\n",
    "            df_cross.loc[i,'distance']=distance12\n",
    "    ligne = nbDocDist2([2,8,30],df_cross)\n",
    "    dico_cross2.append(ligne)"
   ]
  },
  {
   "cell_type": "code",
   "execution_count": null,
   "metadata": {},
   "outputs": [],
   "source": [
    "for i in range(10000,20000):\n",
    "    df_cross = pd.merge(df_merged_gdf[(df_merged_gdf['identifiantpp']==df_merged_gdf['identifiantpp'].iloc[i])&(df_merged_gdf['codecommunecoordstructure']==df_merged_gdf['codecommunecoordstructure'].iloc[i])], df_merged_gdf[df_merged_gdf['Code Département']==df_merged_gdf['Code Département'].iloc[i]], how='cross')\n",
    "    dico_cross.append(df_cross)\n",
    "    #print(i)"
   ]
  },
  {
   "cell_type": "code",
   "execution_count": null,
   "metadata": {},
   "outputs": [],
   "source": [
    "for i in range(20000,30000):\n",
    "    df_cross = pd.merge(df_merged_gdf[(df_merged_gdf['identifiantpp']==df_merged_gdf['identifiantpp'].iloc[i])&(df_merged_gdf['codecommunecoordstructure']==df_merged_gdf['codecommunecoordstructure'].iloc[i])], df_merged_gdf[df_merged_gdf['Code Département']==df_merged_gdf['Code Département'].iloc[i]], how='cross')\n",
    "    dico_cross.append(df_cross)\n",
    "    print(i)"
   ]
  },
  {
   "cell_type": "code",
   "execution_count": null,
   "metadata": {},
   "outputs": [],
   "source": [
    "for i in range(35000,40000):\n",
    "    df_cross = pd.merge(df_merged_gdf[(df_merged_gdf['identifiantpp']==df_merged_gdf['identifiantpp'].iloc[i])&(df_merged_gdf['codecommunecoordstructure']==df_merged_gdf['codecommunecoordstructure'].iloc[i])], df_merged_gdf[df_merged_gdf['Code Département']==df_merged_gdf['Code Département'].iloc[i]], how='cross')\n",
    "    dico_cross.append(df_cross)\n",
    "    print(i)"
   ]
  },
  {
   "cell_type": "code",
   "execution_count": null,
   "metadata": {},
   "outputs": [],
   "source": [
    "for i in range(40000,45000):\n",
    "    df_cross = pd.merge(df_merged_gdf[(df_merged_gdf['identifiantpp']==df_merged_gdf['identifiantpp'].iloc[i])&(df_merged_gdf['codecommunecoordstructure']==df_merged_gdf['codecommunecoordstructure'].iloc[i])], df_merged_gdf[df_merged_gdf['Code Département']==df_merged_gdf['Code Département'].iloc[i]], how='cross')\n",
    "    dico_cross.append(df_cross)\n",
    "    print(i)"
   ]
  },
  {
   "cell_type": "code",
   "execution_count": null,
   "metadata": {},
   "outputs": [],
   "source": [
    "for i in range(45000,50000):\n",
    "    df_cross = pd.merge(df_merged_gdf[(df_merged_gdf['identifiantpp']==df_merged_gdf['identifiantpp'].iloc[i])&(df_merged_gdf['codecommunecoordstructure']==df_merged_gdf['codecommunecoordstructure'].iloc[i])], df_merged_gdf[df_merged_gdf['Code Département']==df_merged_gdf['Code Département'].iloc[i]], how='cross')\n",
    "    dico_cross.append(df_cross)\n",
    "    print(i)"
   ]
  },
  {
   "cell_type": "code",
   "execution_count": null,
   "metadata": {},
   "outputs": [],
   "source": [
    "for i in range(50000,55000):\n",
    "    df_cross = pd.merge(df_merged_gdf[(df_merged_gdf['identifiantpp']==df_merged_gdf['identifiantpp'].iloc[i])&(df_merged_gdf['codecommunecoordstructure']==df_merged_gdf['codecommunecoordstructure'].iloc[i])], df_merged_gdf[df_merged_gdf['Code Département']==df_merged_gdf['Code Département'].iloc[i]], how='cross')\n",
    "    dico_cross.append(df_cross)\n",
    "    print(i)"
   ]
  },
  {
   "cell_type": "code",
   "execution_count": null,
   "metadata": {},
   "outputs": [],
   "source": [
    "for i in range(55000,60000):\n",
    "    df_cross = pd.merge(df_merged_gdf[(df_merged_gdf['identifiantpp']==df_merged_gdf['identifiantpp'].iloc[i])&(df_merged_gdf['codecommunecoordstructure']==df_merged_gdf['codecommunecoordstructure'].iloc[i])], df_merged_gdf[df_merged_gdf['Code Département']==df_merged_gdf['Code Département'].iloc[i]], how='cross')\n",
    "    dico_cross.append(df_cross)\n",
    "    print(i)"
   ]
  },
  {
   "cell_type": "code",
   "execution_count": null,
   "metadata": {},
   "outputs": [],
   "source": [
    "for i in range(60000,65000):\n",
    "    df_cross = pd.merge(df_merged_gdf[(df_merged_gdf['identifiantpp']==df_merged_gdf['identifiantpp'].iloc[i])&(df_merged_gdf['codecommunecoordstructure']==df_merged_gdf['codecommunecoordstructure'].iloc[i])], df_merged_gdf[df_merged_gdf['Code Département']==df_merged_gdf['Code Département'].iloc[i]], how='cross')\n",
    "    dico_cross.append(df_cross)\n",
    "    print(i)"
   ]
  },
  {
   "cell_type": "markdown",
   "metadata": {},
   "source": [
    "# Merge avec les données de Doctolib"
   ]
  },
  {
   "cell_type": "code",
   "execution_count": null,
   "metadata": {},
   "outputs": [],
   "source": [
    "medecin_gen = pd.read_csv('medecin_gen.csv')"
   ]
  },
  {
   "cell_type": "markdown",
   "metadata": {},
   "source": [
    "Transformer la liste en une dataframe pour pouvoir la joindre à la base doctolib"
   ]
  },
  {
   "cell_type": "code",
   "execution_count": null,
   "metadata": {},
   "outputs": [],
   "source": [
    "df_form_cross = pd.DataFrame(dico_cross)\n",
    "print(df_form_cross)"
   ]
  },
  {
   "cell_type": "markdown",
   "metadata": {},
   "source": [
    "### API OpenRouteService"
   ]
  },
  {
   "cell_type": "code",
   "execution_count": null,
   "metadata": {},
   "outputs": [],
   "source": [
    "import openrouteservice\n",
    "\n",
    "# Clé API OpenRouteService\n",
    "client = openrouteservice.Client(key='5b3ce3597851110001cf6248fa09b3e419ef40e182777370274818e9')\n",
    "\n",
    "# Coordonnées (longitude, latitude) pour le départ et l'arrivée\n",
    "coordinates = [[2.3522, 48.8566], [4.8357, 45.764]]\n",
    "\n",
    "# Calcul de l'itinéraire\n",
    "route = client.directions(coordinates, profile='driving-car')\n",
    "\n",
    "# Temps de trajet en secondes\n",
    "duration = route['routes'][0]['summary']['duration']\n",
    "print(f\"Temps de trajet : {duration / 60} minutes\")"
   ]
  }
 ],
 "metadata": {
  "kernelspec": {
   "display_name": "base",
   "language": "python",
   "name": "python3"
  },
  "language_info": {
   "codemirror_mode": {
    "name": "ipython",
    "version": 3
   },
   "file_extension": ".py",
   "mimetype": "text/x-python",
   "name": "python",
   "nbconvert_exporter": "python",
   "pygments_lexer": "ipython3",
   "version": "3.11.4"
  }
 },
 "nbformat": 4,
 "nbformat_minor": 2
}
