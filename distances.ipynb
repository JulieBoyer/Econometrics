{
 "cells": [
  {
   "cell_type": "code",
   "execution_count": 2,
   "metadata": {},
   "outputs": [
    {
     "name": "stderr",
     "output_type": "stream",
     "text": [
      "/var/folders/rf/dqdwsk6s06ngm9b4j17fkb2r0000gn/T/ipykernel_7804/1399691685.py:7: DtypeWarning: Columns (28,29,30,31,32,35,41,42,43,44,45,46,50) have mixed types. Specify dtype option on import or set low_memory=False.\n",
      "  liste_med_ban = pd.read_csv('liste_med_ban.csv')\n"
     ]
    }
   ],
   "source": [
    "import pandas as pd\n",
    "import numpy as np\n",
    "import math\n",
    "import requests\n",
    "import geopandas as gpd\n",
    "\n",
    "liste_med_ban = pd.read_csv('liste_med_ban.csv')"
   ]
  },
  {
   "cell_type": "code",
   "execution_count": 2,
   "metadata": {},
   "outputs": [],
   "source": [
    "def cp_et_nom(cp,nom):\n",
    "    if isinstance(cp,int) and isinstance(nom,str):\n",
    "        return (str(cp)+' '+nom)\n",
    "    else:\n",
    "        return np.nan"
   ]
  },
  {
   "cell_type": "code",
   "execution_count": 3,
   "metadata": {},
   "outputs": [
    {
     "data": {
      "text/plain": [
       "'94456 Limeil-Brévannes'"
      ]
     },
     "execution_count": 3,
     "metadata": {},
     "output_type": "execute_result"
    }
   ],
   "source": [
    "liste_med_ban['cp_ville'] = liste_med_ban.apply(lambda x: cp_et_nom(x['codepostalcoordstructure'],x['libellécommunecoordstructure']),axis=1)\n",
    "liste_med_ban['cp_ville'].iloc[73370]"
   ]
  },
  {
   "cell_type": "code",
   "execution_count": 4,
   "metadata": {},
   "outputs": [],
   "source": [
    "def transfo_adresse(CodePostal,NumeroVoie,NomVoie):\n",
    "    num = (int(NumeroVoie))\n",
    "    return (str(num)+', '+str(NomVoie)+', '+str(CodePostal))\n",
    "\n",
    "liste_med_ban['adresse'] = liste_med_ban.apply(lambda x: transfo_adresse(x['cp_ville'],x['numérovoiecoordstructure'],x['Voie']),axis=1)"
   ]
  },
  {
   "cell_type": "code",
   "execution_count": 5,
   "metadata": {},
   "outputs": [],
   "source": [
    "API_URL = \"https://api-adresse.data.gouv.fr/{}/\"\n",
    "\n",
    "def req_to(endpoint: str, params: dict | None = None, files: dict | None = None) -> dict:\n",
    "    url = API_URL.format(endpoint)\n",
    "\n",
    "    if not files:\n",
    "        response = requests.get(url, params=params)\n",
    "\n",
    "    else:\n",
    "        response = requests.post(url, files=files, data=params)\n",
    "\n",
    "    if response.status_code == 200:\n",
    "        data = response.json()\n",
    "        return data\n",
    "    else:\n",
    "        raise Exception(f\"Request failed with code : {response.status_code}\")\n",
    "\n",
    "\n",
    "def get_geocode(**kwargs) -> dict:\n",
    "    if not 'q' in kwargs:\n",
    "        raise ValueError('Il manque un argument obligatoire : q')\n",
    "    \n",
    "    return req_to(\"search\", kwargs)\n",
    "\n"
   ]
  },
  {
   "cell_type": "code",
   "execution_count": 6,
   "metadata": {},
   "outputs": [
    {
     "name": "stdout",
     "output_type": "stream",
     "text": [
      "52, rue jean jaures, 97110 Pointe-à-Pitre\n",
      "{'type': 'FeatureCollection', 'version': 'draft', 'features': [{'type': 'Feature', 'geometry': {'type': 'Point', 'coordinates': [-61.536772, 16.23989]}, 'properties': {'label': '52 Rue Jean Jaures 97110 Pointe-à-Pitre', 'score': 0.9688018181818181, 'housenumber': '52', 'id': '97120_0496_00052', 'banId': '3565ae2f-5cbf-4aab-8543-7a3fda9b9059', 'name': '52 Rue Jean Jaures', 'postcode': '97110', 'citycode': '97120', 'x': 656379.35, 'y': 1796029.48, 'city': 'Pointe-à-Pitre', 'context': '971, Guadeloupe', 'type': 'housenumber', 'importance': 0.65682, 'street': 'Rue Jean Jaures'}}], 'attribution': 'BAN', 'licence': 'ETALAB-2.0', 'query': '52, rue jean jaures, 97110 Pointe-à-Pitre', 'limit': 5}\n"
     ]
    }
   ],
   "source": [
    "numero=str(int(liste_med_ban['numérovoiecoordstructure'].iloc[0]))\n",
    "voie = liste_med_ban['Voie'].iloc[0]\n",
    "cp_ville=liste_med_ban['cp_ville'].iloc[0]\n",
    "adresse = numero+', '+voie+', '+cp_ville\n",
    "print(adresse)\n",
    "\n",
    "# Requête simple directe:\n",
    "res = get_geocode(q = adresse)\n",
    "print(res)\n",
    "#print(type(res['properties']),res['properties'][0]['x'])"
   ]
  },
  {
   "cell_type": "code",
   "execution_count": null,
   "metadata": {},
   "outputs": [],
   "source": [
    "def distance_long_lat(lat1, lon1, lat2, lon2):\n",
    "    # Rayon de la Terre en km\n",
    "    R = 6371.0\n",
    "    \n",
    "    # Conversion des degrés en radians\n",
    "    lat1_rad = math.radians(lat1)\n",
    "    lon1_rad = math.radians(lon1)\n",
    "    lat2_rad = math.radians(lat2)\n",
    "    lon2_rad = math.radians(lon2)\n",
    "    \n",
    "    # Calcul des différences\n",
    "    delta_lat = lat2_rad - lat1_rad\n",
    "    delta_lon = lon2_rad - lon1_rad\n",
    "    \n",
    "    # Formule de Haversine\n",
    "    a = math.sin(delta_lat / 2)**2 + math.cos(lat1_rad) * math.cos(lat2_rad) * math.sin(delta_lon / 2)**2\n",
    "    c = 2 * math.asin(math.sqrt(a))\n",
    "    \n",
    "    # Distance\n",
    "    distance = R * c\n",
    "    \n",
    "    return distance\n",
    "\n",
    "# Exemple d'utilisation\n",
    "lat1, lon1 = 48.8566, 2.3522  # Paris\n",
    "lat2, lon2 = 34.0522, -118.2437  # Los Angeles\n",
    "\n",
    "distance = distance_long_lat(lat1, lon1, lat2, lon2)\n",
    "print(f\"La distance entre Paris et Los Angeles est d'environ {distance:.2f} km.\")"
   ]
  },
  {
   "cell_type": "code",
   "execution_count": 7,
   "metadata": {},
   "outputs": [
    {
     "data": {
      "text/plain": [
       "\"def recup_long(adr):\\n    if isinstance(adr,str):\\n        try:\\n            return(get_geocode(q=adr)['features'][0]['geometry']['coordinates'][0])\\n        except (IndexError, KeyError, TypeError):\\n            print(adr)\\n            return None\\n    else :\\n        return (np.nan)\\n\\nliste_med_ban['longitude API'] = liste_med_ban['adresse'].apply(recup_long)\""
      ]
     },
     "execution_count": 7,
     "metadata": {},
     "output_type": "execute_result"
    }
   ],
   "source": [
    "def recup_long(adr):\n",
    "    if isinstance(adr,str):\n",
    "        try:\n",
    "            return(get_geocode(q=adr)['features'][0]['geometry']['coordinates'][0])\n",
    "        except (IndexError, KeyError, TypeError):\n",
    "            print(adr)\n",
    "            return None\n",
    "    else :\n",
    "        return (np.nan)\n",
    "    \n",
    "def recup_lat(adr):\n",
    "    if isinstance(adr,str):\n",
    "        try:\n",
    "            return(get_geocode(q=adr)['features'][0]['geometry']['coordinates'][1])\n",
    "        except (IndexError, KeyError, TypeError):\n",
    "            print(adr)\n",
    "            return None\n",
    "    else :\n",
    "        return (np.nan)\n",
    "liste_med_ban['longitude API'] = liste_med_ban['adresse'].apply(recup_long)\n",
    "\n",
    "#liste_med_ban['latitude API'] = get_geocode(q = liste_med_ban['adresse'])['features'][0]['geometry']['coordinates'][1]\n",
    "\n",
    "#liste_med_ban['adresse','longitude API','latitude API']"
   ]
  },
  {
   "cell_type": "markdown",
   "metadata": {},
   "source": [
    "# Ouverture base de données centroides"
   ]
  },
  {
   "cell_type": "code",
   "execution_count": 3,
   "metadata": {},
   "outputs": [
    {
     "data": {
      "text/html": [
       "<div>\n",
       "<style scoped>\n",
       "    .dataframe tbody tr th:only-of-type {\n",
       "        vertical-align: middle;\n",
       "    }\n",
       "\n",
       "    .dataframe tbody tr th {\n",
       "        vertical-align: top;\n",
       "    }\n",
       "\n",
       "    .dataframe thead th {\n",
       "        text-align: right;\n",
       "    }\n",
       "</style>\n",
       "<table border=\"1\" class=\"dataframe\">\n",
       "  <thead>\n",
       "    <tr style=\"text-align: right;\">\n",
       "      <th></th>\n",
       "      <th>id</th>\n",
       "      <th>codgeo</th>\n",
       "      <th>dep</th>\n",
       "      <th>reg</th>\n",
       "      <th>xcl2154</th>\n",
       "      <th>ycl2154</th>\n",
       "      <th>libgeo</th>\n",
       "      <th>geometry</th>\n",
       "    </tr>\n",
       "  </thead>\n",
       "  <tbody>\n",
       "    <tr>\n",
       "      <th>0</th>\n",
       "      <td>None</td>\n",
       "      <td>01001</td>\n",
       "      <td>01</td>\n",
       "      <td>84</td>\n",
       "      <td>848241</td>\n",
       "      <td>6563021</td>\n",
       "      <td>L'Abergement-Clémenciat</td>\n",
       "      <td>POLYGON ((846981.436 6564107.360, 847017.457 6...</td>\n",
       "    </tr>\n",
       "    <tr>\n",
       "      <th>1</th>\n",
       "      <td>None</td>\n",
       "      <td>01002</td>\n",
       "      <td>01</td>\n",
       "      <td>84</td>\n",
       "      <td>887495</td>\n",
       "      <td>6548152</td>\n",
       "      <td>L'Abergement-de-Varey</td>\n",
       "      <td>POLYGON ((886027.651 6548170.900, 886157.325 6...</td>\n",
       "    </tr>\n",
       "    <tr>\n",
       "      <th>2</th>\n",
       "      <td>None</td>\n",
       "      <td>01004</td>\n",
       "      <td>01</td>\n",
       "      <td>84</td>\n",
       "      <td>882724</td>\n",
       "      <td>6542583</td>\n",
       "      <td>Ambérieu-en-Bugey</td>\n",
       "      <td>POLYGON ((884889.404 6539629.931, 884795.750 6...</td>\n",
       "    </tr>\n",
       "    <tr>\n",
       "      <th>3</th>\n",
       "      <td>None</td>\n",
       "      <td>01005</td>\n",
       "      <td>01</td>\n",
       "      <td>84</td>\n",
       "      <td>847277</td>\n",
       "      <td>6545791</td>\n",
       "      <td>Ambérieux-en-Dombes</td>\n",
       "      <td>POLYGON ((845951.250 6547999.078, 846073.720 6...</td>\n",
       "    </tr>\n",
       "    <tr>\n",
       "      <th>4</th>\n",
       "      <td>None</td>\n",
       "      <td>01006</td>\n",
       "      <td>01</td>\n",
       "      <td>84</td>\n",
       "      <td>902191</td>\n",
       "      <td>6519791</td>\n",
       "      <td>Ambléon</td>\n",
       "      <td>POLYGON ((901336.361 6521123.305, 902460.201 6...</td>\n",
       "    </tr>\n",
       "  </tbody>\n",
       "</table>\n",
       "</div>"
      ],
      "text/plain": [
       "     id codgeo dep reg  xcl2154  ycl2154                   libgeo  \\\n",
       "0  None  01001  01  84   848241  6563021  L'Abergement-Clémenciat   \n",
       "1  None  01002  01  84   887495  6548152    L'Abergement-de-Varey   \n",
       "2  None  01004  01  84   882724  6542583        Ambérieu-en-Bugey   \n",
       "3  None  01005  01  84   847277  6545791      Ambérieux-en-Dombes   \n",
       "4  None  01006  01  84   902191  6519791                  Ambléon   \n",
       "\n",
       "                                            geometry  \n",
       "0  POLYGON ((846981.436 6564107.360, 847017.457 6...  \n",
       "1  POLYGON ((886027.651 6548170.900, 886157.325 6...  \n",
       "2  POLYGON ((884889.404 6539629.931, 884795.750 6...  \n",
       "3  POLYGON ((845951.250 6547999.078, 846073.720 6...  \n",
       "4  POLYGON ((901336.361 6521123.305, 902460.201 6...  "
      ]
     },
     "execution_count": 3,
     "metadata": {},
     "output_type": "execute_result"
    }
   ],
   "source": [
    "gdf = gpd.read_file('data/a-com2022-topo-2154.json')\n",
    "gdf.head()"
   ]
  },
  {
   "cell_type": "code",
   "execution_count": 6,
   "metadata": {},
   "outputs": [],
   "source": [
    "def codecom2(codecom1):\n",
    "    if str(codecom1).startswith('75'):\n",
    "        return('75056')\n",
    "    elif str(codecom1).startswith('693'):\n",
    "        return('69123')\n",
    "    else :\n",
    "        return(codecom1)"
   ]
  },
  {
   "cell_type": "code",
   "execution_count": 7,
   "metadata": {},
   "outputs": [],
   "source": [
    "liste_med_ban['codecommunecoordstructure2']=liste_med_ban['codecommunecoordstructure'].apply(codecom2)"
   ]
  },
  {
   "cell_type": "code",
   "execution_count": 8,
   "metadata": {},
   "outputs": [],
   "source": [
    "liste_med_ban_metr = liste_med_ban[liste_med_ban['Code Département']!='971']"
   ]
  },
  {
   "cell_type": "code",
   "execution_count": 9,
   "metadata": {},
   "outputs": [],
   "source": [
    "df_merged_gdf = liste_med_ban_metr.merge(gdf, how='inner', left_on='codecommunecoordstructure2', right_on='codgeo')"
   ]
  },
  {
   "cell_type": "code",
   "execution_count": 10,
   "metadata": {},
   "outputs": [],
   "source": [
    "def nombre_de_med(codeCom):\n",
    "    data_f = liste_med_ban_metr[(liste_med_ban_metr['codecommunecoordstructure']==codeCom)]\n",
    "    return(data_f.shape[0])\n",
    "\n",
    "liste_med_ban_metr['nb medecin commune']=liste_med_ban_metr['codecommunecoordstructure'].apply(nombre_de_med)"
   ]
  },
  {
   "cell_type": "code",
   "execution_count": null,
   "metadata": {},
   "outputs": [],
   "source": [
    "df_merged_gdf = df_merged_gdf[['identifiantpp', 'codecivilité',\n",
    "       'nomdexercice', 'prénomdexercice', 'codecatégorieprofessionnelle',\n",
    "       'codesavoirfaire', 'libellésavoirfaire', 'codemodeexercice',\n",
    "       'numérosiretsite',\n",
    "       'identifianttechniquedelastructur', 'raisonsocialesite',\n",
    "       'numérovoiecoordstructure', 'indicerépétitionvoiecoordstructu',\n",
    "       'codetypedevoiecoordstructure', 'libellétypedevoiecoordstructure',\n",
    "       'libellévoiecoordstructure', 'bureaucedexcoordstructure',\n",
    "       'codepostalcoordstructure', 'codecommunecoordstructure',\n",
    "       'libellécommunecoordstructure', 'libellépayscoordstructure',\n",
    "       'codesecteurdactivité', 'libellésecteurdactivité', 'coderôle',\n",
    "       'libellérôle', 'Doctor Name', 'Specialty', 'card_0', 'card_3', 'card_4',\n",
    "       'Latitude', 'Longitude', 'Skills Processed', 'RPPS', 'Nb Skills',\n",
    "       'moyens_paiement', 'carte_vitale', 'secteur', 'Présentation',\n",
    "       'Langues parlées', 'Diplômes nationaux et universitaires',\n",
    "       'Autres formations', 'Expériences', 'Travaux et publications',\n",
    "       'Prix et distinctions', 'site', 'Site web', 'Formations',\n",
    "       'Diplômes nationaux et universitaires b', 'Nb caractères présentation',\n",
    "       'Autres formations b', 'Travaux et publications b', 'Nb langues',\n",
    "       'Expériences b', 'Formations b', 'Carac_card_1', 'Transport', 'Parking',\n",
    "       'Infos', 'Coordonnées', 'Sans RDV', 'nb terms card_0',\n",
    "       'nb terms card_3', 'nb terms card_4', 'nb carac card_0',\n",
    "       'nb carac card_3', 'nb carac card_4', 'code dépar', 'Code Département',\n",
    "       'généralistes', 'Voie', 'codgeo', 'xcl2154',\n",
    "       'ycl2154']]"
   ]
  },
  {
   "cell_type": "code",
   "execution_count": null,
   "metadata": {},
   "outputs": [],
   "source": [
    "# Jointure croisée avec 'how=cross'\n",
    "df_cross_0 = pd.merge(df_merged_gdf[df_merged_gdf['identifiantpp']==df_merged_gdf['identifiantpp'].iloc[1]], df_merged_gdf, how='cross')\n",
    "df_cross_0.head()"
   ]
  },
  {
   "cell_type": "code",
   "execution_count": null,
   "metadata": {},
   "outputs": [],
   "source": [
    "df_cross_0.to_csv('df_cross_0.csv')"
   ]
  },
  {
   "cell_type": "code",
   "execution_count": null,
   "metadata": {},
   "outputs": [],
   "source": [
    "dico_cross = []\n",
    "for i in range(5000):\n",
    "    df_cross = pd.merge(df_merged_gdf[(df_merged_gdf['identifiantpp']==df_merged_gdf['identifiantpp'].iloc[i])&(df_merged_gdf['codecommunecoordstructure']==df_merged_gdf['codecommunecoordstructure'].iloc[i])], df_merged_gdf[df_merged_gdf['Code Département']==df_merged_gdf['Code Département'].iloc[i]], how='cross')\n",
    "    dico_cross.append(df_cross)\n",
    "    print(i)"
   ]
  },
  {
   "cell_type": "code",
   "execution_count": null,
   "metadata": {},
   "outputs": [],
   "source": [
    "for i in range(5000,10000):\n",
    "    df_cross = pd.merge(df_merged_gdf[(df_merged_gdf['identifiantpp']==df_merged_gdf['identifiantpp'].iloc[i])&(df_merged_gdf['codecommunecoordstructure']==df_merged_gdf['codecommunecoordstructure'].iloc[i])], df_merged_gdf[df_merged_gdf['Code Département']==df_merged_gdf['Code Département'].iloc[i]], how='cross')\n",
    "    dico_cross.append(df_cross)\n",
    "    print(i)"
   ]
  },
  {
   "cell_type": "code",
   "execution_count": null,
   "metadata": {},
   "outputs": [],
   "source": [
    "for i in range(10000,20000):\n",
    "    df_cross = pd.merge(df_merged_gdf[(df_merged_gdf['identifiantpp']==df_merged_gdf['identifiantpp'].iloc[i])&(df_merged_gdf['codecommunecoordstructure']==df_merged_gdf['codecommunecoordstructure'].iloc[i])], df_merged_gdf[df_merged_gdf['Code Département']==df_merged_gdf['Code Département'].iloc[i]], how='cross')\n",
    "    dico_cross.append(df_cross)\n",
    "    print(i)"
   ]
  },
  {
   "cell_type": "code",
   "execution_count": null,
   "metadata": {},
   "outputs": [],
   "source": [
    "for i in range(20000,30000):\n",
    "    df_cross = pd.merge(df_merged_gdf[(df_merged_gdf['identifiantpp']==df_merged_gdf['identifiantpp'].iloc[i])&(df_merged_gdf['codecommunecoordstructure']==df_merged_gdf['codecommunecoordstructure'].iloc[i])], df_merged_gdf[df_merged_gdf['Code Département']==df_merged_gdf['Code Département'].iloc[i]], how='cross')\n",
    "    dico_cross.append(df_cross)\n",
    "    print(i)"
   ]
  },
  {
   "cell_type": "code",
   "execution_count": null,
   "metadata": {},
   "outputs": [],
   "source": [
    "for i in range(35000,40000):\n",
    "    df_cross = pd.merge(df_merged_gdf[(df_merged_gdf['identifiantpp']==df_merged_gdf['identifiantpp'].iloc[i])&(df_merged_gdf['codecommunecoordstructure']==df_merged_gdf['codecommunecoordstructure'].iloc[i])], df_merged_gdf[df_merged_gdf['Code Département']==df_merged_gdf['Code Département'].iloc[i]], how='cross')\n",
    "    dico_cross.append(df_cross)\n",
    "    print(i)"
   ]
  },
  {
   "cell_type": "code",
   "execution_count": null,
   "metadata": {},
   "outputs": [],
   "source": [
    "for i in range(40000,45000):\n",
    "    df_cross = pd.merge(df_merged_gdf[(df_merged_gdf['identifiantpp']==df_merged_gdf['identifiantpp'].iloc[i])&(df_merged_gdf['codecommunecoordstructure']==df_merged_gdf['codecommunecoordstructure'].iloc[i])], df_merged_gdf[df_merged_gdf['Code Département']==df_merged_gdf['Code Département'].iloc[i]], how='cross')\n",
    "    dico_cross.append(df_cross)\n",
    "    print(i)"
   ]
  },
  {
   "cell_type": "code",
   "execution_count": null,
   "metadata": {},
   "outputs": [],
   "source": [
    "for i in range(45000,50000):\n",
    "    df_cross = pd.merge(df_merged_gdf[(df_merged_gdf['identifiantpp']==df_merged_gdf['identifiantpp'].iloc[i])&(df_merged_gdf['codecommunecoordstructure']==df_merged_gdf['codecommunecoordstructure'].iloc[i])], df_merged_gdf[df_merged_gdf['Code Département']==df_merged_gdf['Code Département'].iloc[i]], how='cross')\n",
    "    dico_cross.append(df_cross)\n",
    "    print(i)"
   ]
  },
  {
   "cell_type": "code",
   "execution_count": null,
   "metadata": {},
   "outputs": [],
   "source": [
    "for i in range(50000,55000):\n",
    "    df_cross = pd.merge(df_merged_gdf[(df_merged_gdf['identifiantpp']==df_merged_gdf['identifiantpp'].iloc[i])&(df_merged_gdf['codecommunecoordstructure']==df_merged_gdf['codecommunecoordstructure'].iloc[i])], df_merged_gdf[df_merged_gdf['Code Département']==df_merged_gdf['Code Département'].iloc[i]], how='cross')\n",
    "    dico_cross.append(df_cross)\n",
    "    print(i)"
   ]
  },
  {
   "cell_type": "code",
   "execution_count": null,
   "metadata": {},
   "outputs": [],
   "source": [
    "for i in range(55000,60000):\n",
    "    df_cross = pd.merge(df_merged_gdf[(df_merged_gdf['identifiantpp']==df_merged_gdf['identifiantpp'].iloc[i])&(df_merged_gdf['codecommunecoordstructure']==df_merged_gdf['codecommunecoordstructure'].iloc[i])], df_merged_gdf[df_merged_gdf['Code Département']==df_merged_gdf['Code Département'].iloc[i]], how='cross')\n",
    "    dico_cross.append(df_cross)\n",
    "    print(i)"
   ]
  },
  {
   "cell_type": "code",
   "execution_count": null,
   "metadata": {},
   "outputs": [],
   "source": [
    "for i in range(60000,65000):\n",
    "    df_cross = pd.merge(df_merged_gdf[(df_merged_gdf['identifiantpp']==df_merged_gdf['identifiantpp'].iloc[i])&(df_merged_gdf['codecommunecoordstructure']==df_merged_gdf['codecommunecoordstructure'].iloc[i])], df_merged_gdf[df_merged_gdf['Code Département']==df_merged_gdf['Code Département'].iloc[i]], how='cross')\n",
    "    dico_cross.append(df_cross)\n",
    "    print(i)"
   ]
  },
  {
   "cell_type": "code",
   "execution_count": 9,
   "metadata": {},
   "outputs": [
    {
     "name": "stderr",
     "output_type": "stream",
     "text": [
      "/var/folders/rf/dqdwsk6s06ngm9b4j17fkb2r0000gn/T/ipykernel_7080/1526306788.py:1: DtypeWarning: Columns (100,101,102,103,104,107,113,114,115,116,117,118,122) have mixed types. Specify dtype option on import or set low_memory=False.\n",
      "  df_cross_0 = pd.read_csv('df_cross_0.csv')\n"
     ]
    }
   ],
   "source": [
    "df_cross_0 = pd.read_csv('df_cross_0.csv')"
   ]
  },
  {
   "cell_type": "code",
   "execution_count": 10,
   "metadata": {},
   "outputs": [],
   "source": [
    "def distance_bis(x1,y1,x2,y2):\n",
    "    return((np.sqrt((x1-x2)**2+(y1-y2)**2))/1000)"
   ]
  },
  {
   "cell_type": "code",
   "execution_count": 11,
   "metadata": {},
   "outputs": [
    {
     "name": "stderr",
     "output_type": "stream",
     "text": [
      "/var/folders/rf/dqdwsk6s06ngm9b4j17fkb2r0000gn/T/ipykernel_7080/536957727.py:17: FutureWarning: Setting an item of incompatible dtype is deprecated and will raise an error in a future version of pandas. Value '30.99804427701851' has dtype incompatible with int64, please explicitly cast to a compatible dtype first.\n",
      "  df_cross_0.loc[i,'distance']=distance12\n"
     ]
    },
    {
     "data": {
      "text/plain": [
       "count    72481.000000\n",
       "mean       320.539617\n",
       "std        220.789479\n",
       "min          0.000000\n",
       "25%        130.600829\n",
       "50%        334.599937\n",
       "75%        483.182548\n",
       "max        880.446435\n",
       "Name: distance, dtype: float64"
      ]
     },
     "execution_count": 11,
     "metadata": {},
     "output_type": "execute_result"
    }
   ],
   "source": [
    "dico_d={}\n",
    "df_cross_0['distance']=0\n",
    "codegeo1 = df_cross_0['codgeo_x'].iloc[0]\n",
    "Latitude1= df_cross_0['xcl2154_x'].iloc[0]\n",
    "Longitude1=  df_cross_0['ycl2154_x'].iloc[0]\n",
    "for i in range(df_cross_0.shape[0]):\n",
    "    codegeo2 = df_cross_0['codgeo_y'].iloc[i]\n",
    "    if codegeo1==codegeo2:\n",
    "        None\n",
    "    elif (codegeo2,codegeo1) in dico_d :\n",
    "        df_cross_0.loc[i,'distance']=dico_d[(codegeo2,codegeo1)]\n",
    "    elif (codegeo1,codegeo2) in dico_d :\n",
    "        df_cross_0.loc[i,'distance']=dico_d[(codegeo1,codegeo2)]\n",
    "    else :\n",
    "        distance12 = distance_bis(Latitude1,Longitude1,df_cross_0['xcl2154_y'].iloc[i], df_cross_0['ycl2154_y'].iloc[i])\n",
    "        dico_d[(codegeo1,codegeo2)]=distance12\n",
    "        df_cross_0.loc[i,'distance']=distance12\n",
    "\n",
    "df_cross_0['distance'].describe()"
   ]
  },
  {
   "cell_type": "code",
   "execution_count": 13,
   "metadata": {},
   "outputs": [
    {
     "data": {
      "text/html": [
       "<div>\n",
       "<style scoped>\n",
       "    .dataframe tbody tr th:only-of-type {\n",
       "        vertical-align: middle;\n",
       "    }\n",
       "\n",
       "    .dataframe tbody tr th {\n",
       "        vertical-align: top;\n",
       "    }\n",
       "\n",
       "    .dataframe thead th {\n",
       "        text-align: right;\n",
       "    }\n",
       "</style>\n",
       "<table border=\"1\" class=\"dataframe\">\n",
       "  <thead>\n",
       "    <tr style=\"text-align: right;\">\n",
       "      <th></th>\n",
       "      <th>codepostalcoordstructure_x</th>\n",
       "      <th>codepostalcoordstructure_y</th>\n",
       "      <th>distance</th>\n",
       "    </tr>\n",
       "  </thead>\n",
       "  <tbody>\n",
       "    <tr>\n",
       "      <th>0</th>\n",
       "      <td>75010</td>\n",
       "      <td>95490</td>\n",
       "      <td>30.998044</td>\n",
       "    </tr>\n",
       "    <tr>\n",
       "      <th>1</th>\n",
       "      <td>75010</td>\n",
       "      <td>75010</td>\n",
       "      <td>0.000000</td>\n",
       "    </tr>\n",
       "    <tr>\n",
       "      <th>2</th>\n",
       "      <td>75010</td>\n",
       "      <td>11500</td>\n",
       "      <td>664.640861</td>\n",
       "    </tr>\n",
       "    <tr>\n",
       "      <th>3</th>\n",
       "      <td>75010</td>\n",
       "      <td>56340</td>\n",
       "      <td>427.248816</td>\n",
       "    </tr>\n",
       "    <tr>\n",
       "      <th>4</th>\n",
       "      <td>75010</td>\n",
       "      <td>93100</td>\n",
       "      <td>6.526897</td>\n",
       "    </tr>\n",
       "    <tr>\n",
       "      <th>...</th>\n",
       "      <td>...</td>\n",
       "      <td>...</td>\n",
       "      <td>...</td>\n",
       "    </tr>\n",
       "    <tr>\n",
       "      <th>72476</th>\n",
       "      <td>75010</td>\n",
       "      <td>94275</td>\n",
       "      <td>4.909933</td>\n",
       "    </tr>\n",
       "    <tr>\n",
       "      <th>72477</th>\n",
       "      <td>75010</td>\n",
       "      <td>94456</td>\n",
       "      <td>15.177672</td>\n",
       "    </tr>\n",
       "    <tr>\n",
       "      <th>72478</th>\n",
       "      <td>75010</td>\n",
       "      <td>93370</td>\n",
       "      <td>16.796641</td>\n",
       "    </tr>\n",
       "    <tr>\n",
       "      <th>72479</th>\n",
       "      <td>75010</td>\n",
       "      <td>94275</td>\n",
       "      <td>4.909933</td>\n",
       "    </tr>\n",
       "    <tr>\n",
       "      <th>72480</th>\n",
       "      <td>75010</td>\n",
       "      <td>94195</td>\n",
       "      <td>15.622453</td>\n",
       "    </tr>\n",
       "  </tbody>\n",
       "</table>\n",
       "<p>72481 rows × 3 columns</p>\n",
       "</div>"
      ],
      "text/plain": [
       "       codepostalcoordstructure_x  codepostalcoordstructure_y    distance\n",
       "0                           75010                       95490   30.998044\n",
       "1                           75010                       75010    0.000000\n",
       "2                           75010                       11500  664.640861\n",
       "3                           75010                       56340  427.248816\n",
       "4                           75010                       93100    6.526897\n",
       "...                           ...                         ...         ...\n",
       "72476                       75010                       94275    4.909933\n",
       "72477                       75010                       94456   15.177672\n",
       "72478                       75010                       93370   16.796641\n",
       "72479                       75010                       94275    4.909933\n",
       "72480                       75010                       94195   15.622453\n",
       "\n",
       "[72481 rows x 3 columns]"
      ]
     },
     "execution_count": 13,
     "metadata": {},
     "output_type": "execute_result"
    }
   ],
   "source": [
    "df_cross_0[['codepostalcoordstructure_x','codepostalcoordstructure_y','distance']]"
   ]
  },
  {
   "cell_type": "code",
   "execution_count": 14,
   "metadata": {},
   "outputs": [
    {
     "name": "stdout",
     "output_type": "stream",
     "text": [
      "identifiantpp_x                   10000011808\n",
      "codecivilité_x                            MME\n",
      "nomdexercice_x                          HAMOT\n",
      "prénomdexercice_x                        ENNA\n",
      "codecatégorieprofessionnelle_x              C\n",
      "                                     ...     \n",
      "xcl2154_x                              652492\n",
      "ycl2154_x                             6862009\n",
      "Nb docteur à 2 km                          28\n",
      "Nb docteur à 8 km                          30\n",
      "Nb docteur à 30 km                         42\n",
      "Name: 0, Length: 62, dtype: object\n"
     ]
    }
   ],
   "source": [
    "def nbDocDist(listeDist,data):\n",
    "    longueur = data.shape[0]\n",
    "    nbListe = [0 for i in range(len(listeDist))]\n",
    "    for (j,distanceMax) in enumerate(listeDist) : \n",
    "        for i in range(longueur):\n",
    "            if data['distance'].iloc[i]<distanceMax :\n",
    "                if data['RPPS_y'].iloc[i]>0 :\n",
    "                    nbListe[j]=nbListe[j]+1\n",
    "        data['Nb docteur à '+str(distanceMax)+' km']=nbListe[j]\n",
    "    return df_cross_0[['identifiantpp_x','codecivilité_x','nomdexercice_x','prénomdexercice_x','codecatégorieprofessionnelle_x','codesavoirfaire_x','libellésavoirfaire_x','codemodeexercice_x','numérosiretsite_x',\n",
    "       'identifianttechniquedelastructur_x', 'raisonsocialesite_x','libellésecteurdactivité_x','libellérôle_x','Specialty_x', 'card_0_x', 'card_3_x', 'card_4_x',\n",
    "       'Latitude_x', 'Longitude_x', 'Skills Processed_x', 'RPPS_x','Nb Skills_x','moyens_paiement_x', 'carte_vitale_x', 'secteur_x', 'Présentation_x',\n",
    "       'Langues parlées_x', 'Diplômes nationaux et universitaires_x',\n",
    "       'Autres formations_x', 'Expériences_x', 'Travaux et publications_x',\n",
    "       'Prix et distinctions_x','site_x', 'Site web_x', 'Formations_x',\n",
    "       'Diplômes nationaux et universitaires b_x',\n",
    "       'Nb caractères présentation_x', 'Autres formations b_x',\n",
    "       'Travaux et publications b_x', 'Nb langues_x', 'Expériences b_x',\n",
    "       'Formations b_x','Carac_card_1_x', 'Transport_x', 'Parking_x', 'Infos_x',\n",
    "       'Coordonnées_x', 'Sans RDV_x', 'nb terms card_0_x', 'nb terms card_3_x',\n",
    "       'nb terms card_4_x', 'nb carac card_0_x', 'nb carac card_3_x',\n",
    "       'nb carac card_4_x', 'code dépar_x','Voie_x', 'codgeo_x', 'xcl2154_x', 'ycl2154_x','Nb docteur à 2 km','Nb docteur à 8 km','Nb docteur à 30 km']].iloc[0]           \n",
    "        \n",
    "liste_0 =nbDocDist([2,8,30],df_cross_0)\n",
    "print(liste_0)"
   ]
  },
  {
   "cell_type": "code",
   "execution_count": null,
   "metadata": {},
   "outputs": [],
   "source": [
    "df_cross_0.head()"
   ]
  },
  {
   "cell_type": "code",
   "execution_count": null,
   "metadata": {},
   "outputs": [],
   "source": [
    "print(df_cross_0[df_cross_0['RPPS_y']>0][['RPPS_y','distance']],df_cross_0[df_cross_0['RPPS_y']>0].shape)"
   ]
  },
  {
   "cell_type": "markdown",
   "metadata": {},
   "source": [
    "### API OpenRouteService"
   ]
  },
  {
   "cell_type": "code",
   "execution_count": null,
   "metadata": {},
   "outputs": [],
   "source": [
    "import openrouteservice\n",
    "\n",
    "# Clé API OpenRouteService\n",
    "client = openrouteservice.Client(key='5b3ce3597851110001cf6248fa09b3e419ef40e182777370274818e9')\n",
    "\n",
    "# Coordonnées (longitude, latitude) pour le départ et l'arrivée\n",
    "coordinates = [[2.3522, 48.8566], [4.8357, 45.764]]\n",
    "\n",
    "# Calcul de l'itinéraire\n",
    "route = client.directions(coordinates, profile='driving-car')\n",
    "\n",
    "# Temps de trajet en secondes\n",
    "duration = route['routes'][0]['summary']['duration']\n",
    "print(f\"Temps de trajet : {duration / 60} minutes\")"
   ]
  }
 ],
 "metadata": {
  "kernelspec": {
   "display_name": "base",
   "language": "python",
   "name": "python3"
  },
  "language_info": {
   "codemirror_mode": {
    "name": "ipython",
    "version": 3
   },
   "file_extension": ".py",
   "mimetype": "text/x-python",
   "name": "python",
   "nbconvert_exporter": "python",
   "pygments_lexer": "ipython3",
   "version": "3.11.4"
  }
 },
 "nbformat": 4,
 "nbformat_minor": 2
}
