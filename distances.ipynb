{
 "cells": [
  {
   "cell_type": "code",
   "execution_count": null,
   "metadata": {},
   "outputs": [],
   "source": [
    "import pandas as pd\n",
    "import numpy as np\n",
    "import math\n",
    "import requests\n",
    "import geopandas as gpd\n",
    "\n",
    "liste_med_ban = pd.read_csv('liste_med_ban.csv')"
   ]
  },
  {
   "cell_type": "markdown",
   "metadata": {},
   "source": [
    "# Accéder à la distance par requête API"
   ]
  },
  {
   "cell_type": "code",
   "execution_count": 31,
   "metadata": {},
   "outputs": [],
   "source": [
    "def cp_et_nom(cp,nom):\n",
    "    if isinstance(cp,int) and isinstance(nom,str):\n",
    "        return (str(cp)+' '+nom)\n",
    "    else:\n",
    "        return np.nan"
   ]
  },
  {
   "cell_type": "code",
   "execution_count": 33,
   "metadata": {},
   "outputs": [],
   "source": [
    "liste_med_ban['cp_ville'] = liste_med_ban.apply(lambda x: cp_et_nom(x['codepostalcoordstructure'],x['libellécommunecoordstructure']),axis=1)"
   ]
  },
  {
   "cell_type": "code",
   "execution_count": 34,
   "metadata": {},
   "outputs": [],
   "source": [
    "def transfo_adresse(CodePostal,NumeroVoie,NomVoie):\n",
    "    num = (int(NumeroVoie))\n",
    "    return (str(num)+', '+str(NomVoie)+', '+str(CodePostal))\n",
    "\n",
    "liste_med_ban['adresse'] = liste_med_ban.apply(lambda x: transfo_adresse(x['cp_ville'],x['numérovoiecoordstructure'],x['Voie']),axis=1)"
   ]
  },
  {
   "cell_type": "code",
   "execution_count": 35,
   "metadata": {},
   "outputs": [],
   "source": [
    "API_URL = \"https://api-adresse.data.gouv.fr/{}/\"\n",
    "\n",
    "def req_to(endpoint: str, params: dict | None = None, files: dict | None = None) -> dict:\n",
    "    url = API_URL.format(endpoint)\n",
    "\n",
    "    if not files:\n",
    "        response = requests.get(url, params=params)\n",
    "\n",
    "    else:\n",
    "        response = requests.post(url, files=files, data=params)\n",
    "\n",
    "    if response.status_code == 200:\n",
    "        data = response.json()\n",
    "        return data\n",
    "    else:\n",
    "        raise Exception(f\"Request failed with code : {response.status_code}\")\n",
    "\n",
    "\n",
    "def get_geocode(**kwargs) -> dict:\n",
    "    if not 'q' in kwargs:\n",
    "        raise ValueError('Il manque un argument obligatoire : q')\n",
    "    \n",
    "    return req_to(\"search\", kwargs)\n",
    "\n"
   ]
  },
  {
   "cell_type": "code",
   "execution_count": null,
   "metadata": {},
   "outputs": [],
   "source": [
    "numero=str(int(liste_med_ban['numérovoiecoordstructure'].iloc[0]))\n",
    "voie = liste_med_ban['Voie'].iloc[0]\n",
    "cp_ville=liste_med_ban['cp_ville'].iloc[0]\n",
    "adresse = numero+', '+voie+', '+cp_ville\n",
    "print(adresse)\n",
    "\n",
    "# Requête simple directe:\n",
    "res = get_geocode(q = adresse)\n",
    "print(res)"
   ]
  },
  {
   "cell_type": "code",
   "execution_count": null,
   "metadata": {},
   "outputs": [],
   "source": [
    "def distance_long_lat(lat1, lon1, lat2, lon2):\n",
    "    # Rayon de la Terre en km\n",
    "    R = 6371.0\n",
    "    \n",
    "    # Conversion des degrés en radians\n",
    "    lat1_rad = math.radians(lat1)\n",
    "    lon1_rad = math.radians(lon1)\n",
    "    lat2_rad = math.radians(lat2)\n",
    "    lon2_rad = math.radians(lon2)\n",
    "    \n",
    "    # Calcul des différences\n",
    "    delta_lat = lat2_rad - lat1_rad\n",
    "    delta_lon = lon2_rad - lon1_rad\n",
    "    \n",
    "    # Formule de Haversine\n",
    "    a = math.sin(delta_lat / 2)**2 + math.cos(lat1_rad) * math.cos(lat2_rad) * math.sin(delta_lon / 2)**2\n",
    "    c = 2 * math.asin(math.sqrt(a))\n",
    "    \n",
    "    # Distance\n",
    "    distance = R * c\n",
    "    \n",
    "    return distance\n",
    "\n",
    "# Exemple d'utilisation\n",
    "lat1, lon1 = 48.8566, 2.3522  # Paris\n",
    "lat2, lon2 = 34.0522, -118.2437  # Los Angeles\n",
    "\n",
    "distance = distance_long_lat(lat1, lon1, lat2, lon2)\n",
    "print(f\"La distance entre Paris et Los Angeles est d'environ {distance:.2f} km.\")"
   ]
  },
  {
   "cell_type": "code",
   "execution_count": null,
   "metadata": {},
   "outputs": [],
   "source": [
    "def recup_long(adr):\n",
    "    if isinstance(adr,str):\n",
    "        try:\n",
    "            return(get_geocode(q=adr)['features'][0]['geometry']['coordinates'][0])\n",
    "        except (IndexError, KeyError, TypeError):\n",
    "            print(adr)\n",
    "            return None\n",
    "    else :\n",
    "        return (np.nan)\n",
    "    \n",
    "def recup_lat(adr):\n",
    "    if isinstance(adr,str):\n",
    "        try:\n",
    "            return(get_geocode(q=adr)['features'][0]['geometry']['coordinates'][1])\n",
    "        except (IndexError, KeyError, TypeError):\n",
    "            print(adr)\n",
    "            return None\n",
    "    else :\n",
    "        return (np.nan)\n",
    "liste_med_ban['longitude API'] = liste_med_ban['adresse'].apply(recup_long)\n",
    "\n",
    "#liste_med_ban['latitude API'] = get_geocode(q = liste_med_ban['adresse'])['features'][0]['geometry']['coordinates'][1]\n",
    "\n",
    "#liste_med_ban['adresse','longitude API','latitude API']"
   ]
  },
  {
   "cell_type": "markdown",
   "metadata": {},
   "source": [
    "# Utilisation base de données centroides"
   ]
  },
  {
   "cell_type": "code",
   "execution_count": null,
   "metadata": {},
   "outputs": [],
   "source": [
    "gdf = gpd.read_file('data/a-com2022-topo-2154.json')\n",
    "gdf.head()"
   ]
  },
  {
   "cell_type": "code",
   "execution_count": null,
   "metadata": {},
   "outputs": [],
   "source": [
    "type(liste_med_ban['codecommunecoordstructure2'].iloc[1])"
   ]
  },
  {
   "cell_type": "code",
   "execution_count": 45,
   "metadata": {},
   "outputs": [],
   "source": [
    "def codecom2(codecom1):\n",
    "    if str(codecom1).startswith('75'):\n",
    "        return('75056')\n",
    "    elif str(codecom1).startswith('693'):\n",
    "        return('69123')\n",
    "    else :\n",
    "        return(str(codecom1))"
   ]
  },
  {
   "cell_type": "code",
   "execution_count": 46,
   "metadata": {},
   "outputs": [],
   "source": [
    "liste_med_ban['codecommunecoordstructure2']=liste_med_ban['codecommunecoordstructure'].apply(codecom2)"
   ]
  },
  {
   "cell_type": "code",
   "execution_count": 50,
   "metadata": {},
   "outputs": [],
   "source": [
    "liste_med_ban_metr = liste_med_ban[liste_med_ban['Code Département']!='971']"
   ]
  },
  {
   "cell_type": "code",
   "execution_count": 48,
   "metadata": {},
   "outputs": [],
   "source": [
    "df_merged_gdf = liste_med_ban.merge(gdf, how='inner', left_on='codecommunecoordstructure2', right_on='codgeo')"
   ]
  },
  {
   "cell_type": "code",
   "execution_count": 51,
   "metadata": {},
   "outputs": [],
   "source": [
    "def nombre_de_med(codeCom):\n",
    "    data_f = liste_med_ban_metr[(liste_med_ban_metr['codecommunecoordstructure']==codeCom)]\n",
    "    return(data_f.shape[0])\n",
    "\n",
    "liste_med_ban_metr['nb medecin commune']=liste_med_ban_metr['codecommunecoordstructure'].apply(nombre_de_med)"
   ]
  },
  {
   "cell_type": "code",
   "execution_count": null,
   "metadata": {},
   "outputs": [],
   "source": [
    "df_merged_gdf.shape"
   ]
  },
  {
   "cell_type": "code",
   "execution_count": 52,
   "metadata": {},
   "outputs": [],
   "source": [
    "df_merged_gdf = df_merged_gdf[['identifiantpp', 'codecivilité',\n",
    "       'nomdexercice', 'prénomdexercice', 'codecatégorieprofessionnelle',\n",
    "       'codesavoirfaire', 'libellésavoirfaire', 'codemodeexercice',\n",
    "       'numérosiretsite',\n",
    "       'identifianttechniquedelastructur', 'raisonsocialesite',\n",
    "       'numérovoiecoordstructure', 'indicerépétitionvoiecoordstructu',\n",
    "       'codetypedevoiecoordstructure', 'libellétypedevoiecoordstructure',\n",
    "       'libellévoiecoordstructure', 'bureaucedexcoordstructure',\n",
    "       'codepostalcoordstructure', 'codecommunecoordstructure',\n",
    "       'libellécommunecoordstructure', 'libellépayscoordstructure',\n",
    "       'codesecteurdactivité', 'libellésecteurdactivité', 'coderôle',\n",
    "       'libellérôle', 'Doctor Name', 'Specialty', 'card_0', 'card_3', 'card_4',\n",
    "       'Latitude', 'Longitude', 'Skills Processed', 'RPPS', 'Nb Skills',\n",
    "       'moyens_paiement', 'carte_vitale', 'secteur', 'Présentation',\n",
    "       'Langues parlées', 'Diplômes nationaux et universitaires',\n",
    "       'Autres formations', 'Expériences', 'Travaux et publications',\n",
    "       'Prix et distinctions', 'site', 'Site web', 'Formations',\n",
    "       'Diplômes nationaux et universitaires b', 'Nb caractères présentation',\n",
    "       'Autres formations b', 'Travaux et publications b', 'Nb langues',\n",
    "       'Expériences b', 'Formations b', 'Carac_card_1', 'Transport', 'Parking',\n",
    "       'Infos', 'Coordonnées', 'Sans RDV', 'nb terms card_0',\n",
    "       'nb terms card_3', 'nb terms card_4', 'nb carac card_0',\n",
    "       'nb carac card_3', 'nb carac card_4', 'code dépar', 'Code Département',\n",
    "       'généralistes', 'Voie', 'codgeo', 'xcl2154',\n",
    "       'ycl2154']]"
   ]
  },
  {
   "cell_type": "code",
   "execution_count": 53,
   "metadata": {},
   "outputs": [],
   "source": [
    "df_merged_gdf_reduit = df_merged_gdf[['identifiantpp', 'codecivilité',\n",
    "       'nomdexercice', 'prénomdexercice', 'codecatégorieprofessionnelle', 'libellésavoirfaire', 'codemodeexercice', 'libellésecteurdactivité','codecommunecoordstructure',\n",
    "       'libellérôle', 'Specialty', 'card_0', 'card_3', 'card_4',\n",
    "       'Latitude', 'Longitude', 'Skills Processed', 'RPPS', 'Nb Skills',\n",
    "       'moyens_paiement', 'carte_vitale', 'secteur', 'Présentation',\n",
    "       'Langues parlées', 'Diplômes nationaux et universitaires',\n",
    "       'Autres formations', 'Expériences', 'Travaux et publications',\n",
    "       'Prix et distinctions', 'site', 'Site web', 'Formations',\n",
    "       'Diplômes nationaux et universitaires b', 'Nb caractères présentation',\n",
    "       'Autres formations b', 'Travaux et publications b', 'Nb langues',\n",
    "       'Expériences b', 'Formations b', 'Carac_card_1', 'Transport', 'Parking',\n",
    "       'Infos', 'Coordonnées', 'Sans RDV', 'nb terms card_0',\n",
    "       'nb terms card_3', 'nb terms card_4', 'nb carac card_0',\n",
    "       'nb carac card_3', 'nb carac card_4', 'Code Département',\n",
    "       'généralistes', 'codgeo', 'xcl2154',\n",
    "       'ycl2154']]"
   ]
  },
  {
   "cell_type": "code",
   "execution_count": null,
   "metadata": {},
   "outputs": [],
   "source": [
    "# Jointure croisée avec 'how=cross'\n",
    "df_cross_0 = pd.merge(df_merged_gdf_reduit[df_merged_gdf_reduit['identifiantpp']==df_merged_gdf_reduit['identifiantpp'].iloc[1]], df_merged_gdf_reduit, how='cross')\n",
    "df_cross_0.head()"
   ]
  },
  {
   "cell_type": "code",
   "execution_count": null,
   "metadata": {},
   "outputs": [],
   "source": [
    "dico_cross = []\n",
    "for i in range(5000):\n",
    "    df_cross = pd.merge(df_merged_gdf_reduit[(df_merged_gdf_reduit['identifiantpp']==df_merged_gdf_reduit['identifiantpp'].iloc[i])&(df_merged_gdf_reduit['codecommunecoordstructure']==df_merged_gdf_reduit['codecommunecoordstructure'].iloc[i])], df_merged_gdf_reduit[df_merged_gdf_reduit['Code Département']==df_merged_gdf_reduit['Code Département'].iloc[i]], how='cross')\n",
    "    dico_cross.append(df_cross)\n",
    "    if i%100==0:\n",
    "        print(i)"
   ]
  },
  {
   "cell_type": "code",
   "execution_count": null,
   "metadata": {},
   "outputs": [],
   "source": [
    "for i in range(5000,10000):\n",
    "    df_cross = pd.merge(df_merged_gdf[(df_merged_gdf['identifiantpp']==df_merged_gdf['identifiantpp'].iloc[i])&(df_merged_gdf['codecommunecoordstructure']==df_merged_gdf['codecommunecoordstructure'].iloc[i])], df_merged_gdf[df_merged_gdf['Code Département']==df_merged_gdf['Code Département'].iloc[i]], how='cross')\n",
    "    dico_cross.append(df_cross)\n",
    "    if i%100==0:\n",
    "        print(i)"
   ]
  },
  {
   "cell_type": "code",
   "execution_count": null,
   "metadata": {},
   "outputs": [],
   "source": [
    "for i in range(10000,20000):\n",
    "    df_cross = pd.merge(df_merged_gdf[(df_merged_gdf['identifiantpp']==df_merged_gdf['identifiantpp'].iloc[i])&(df_merged_gdf['codecommunecoordstructure']==df_merged_gdf['codecommunecoordstructure'].iloc[i])], df_merged_gdf[df_merged_gdf['Code Département']==df_merged_gdf['Code Département'].iloc[i]], how='cross')\n",
    "    dico_cross.append(df_cross)\n",
    "    #print(i)"
   ]
  },
  {
   "cell_type": "code",
   "execution_count": null,
   "metadata": {},
   "outputs": [],
   "source": [
    "for i in range(20000,30000):\n",
    "    df_cross = pd.merge(df_merged_gdf[(df_merged_gdf['identifiantpp']==df_merged_gdf['identifiantpp'].iloc[i])&(df_merged_gdf['codecommunecoordstructure']==df_merged_gdf['codecommunecoordstructure'].iloc[i])], df_merged_gdf[df_merged_gdf['Code Département']==df_merged_gdf['Code Département'].iloc[i]], how='cross')\n",
    "    dico_cross.append(df_cross)\n",
    "    print(i)"
   ]
  },
  {
   "cell_type": "code",
   "execution_count": null,
   "metadata": {},
   "outputs": [],
   "source": [
    "for i in range(35000,40000):\n",
    "    df_cross = pd.merge(df_merged_gdf[(df_merged_gdf['identifiantpp']==df_merged_gdf['identifiantpp'].iloc[i])&(df_merged_gdf['codecommunecoordstructure']==df_merged_gdf['codecommunecoordstructure'].iloc[i])], df_merged_gdf[df_merged_gdf['Code Département']==df_merged_gdf['Code Département'].iloc[i]], how='cross')\n",
    "    dico_cross.append(df_cross)\n",
    "    print(i)"
   ]
  },
  {
   "cell_type": "code",
   "execution_count": null,
   "metadata": {},
   "outputs": [],
   "source": [
    "for i in range(40000,45000):\n",
    "    df_cross = pd.merge(df_merged_gdf[(df_merged_gdf['identifiantpp']==df_merged_gdf['identifiantpp'].iloc[i])&(df_merged_gdf['codecommunecoordstructure']==df_merged_gdf['codecommunecoordstructure'].iloc[i])], df_merged_gdf[df_merged_gdf['Code Département']==df_merged_gdf['Code Département'].iloc[i]], how='cross')\n",
    "    dico_cross.append(df_cross)\n",
    "    print(i)"
   ]
  },
  {
   "cell_type": "code",
   "execution_count": null,
   "metadata": {},
   "outputs": [],
   "source": [
    "for i in range(45000,50000):\n",
    "    df_cross = pd.merge(df_merged_gdf[(df_merged_gdf['identifiantpp']==df_merged_gdf['identifiantpp'].iloc[i])&(df_merged_gdf['codecommunecoordstructure']==df_merged_gdf['codecommunecoordstructure'].iloc[i])], df_merged_gdf[df_merged_gdf['Code Département']==df_merged_gdf['Code Département'].iloc[i]], how='cross')\n",
    "    dico_cross.append(df_cross)\n",
    "    print(i)"
   ]
  },
  {
   "cell_type": "code",
   "execution_count": null,
   "metadata": {},
   "outputs": [],
   "source": [
    "for i in range(50000,55000):\n",
    "    df_cross = pd.merge(df_merged_gdf[(df_merged_gdf['identifiantpp']==df_merged_gdf['identifiantpp'].iloc[i])&(df_merged_gdf['codecommunecoordstructure']==df_merged_gdf['codecommunecoordstructure'].iloc[i])], df_merged_gdf[df_merged_gdf['Code Département']==df_merged_gdf['Code Département'].iloc[i]], how='cross')\n",
    "    dico_cross.append(df_cross)\n",
    "    print(i)"
   ]
  },
  {
   "cell_type": "code",
   "execution_count": null,
   "metadata": {},
   "outputs": [],
   "source": [
    "for i in range(55000,60000):\n",
    "    df_cross = pd.merge(df_merged_gdf[(df_merged_gdf['identifiantpp']==df_merged_gdf['identifiantpp'].iloc[i])&(df_merged_gdf['codecommunecoordstructure']==df_merged_gdf['codecommunecoordstructure'].iloc[i])], df_merged_gdf[df_merged_gdf['Code Département']==df_merged_gdf['Code Département'].iloc[i]], how='cross')\n",
    "    dico_cross.append(df_cross)\n",
    "    print(i)"
   ]
  },
  {
   "cell_type": "code",
   "execution_count": null,
   "metadata": {},
   "outputs": [],
   "source": [
    "for i in range(60000,65000):\n",
    "    df_cross = pd.merge(df_merged_gdf[(df_merged_gdf['identifiantpp']==df_merged_gdf['identifiantpp'].iloc[i])&(df_merged_gdf['codecommunecoordstructure']==df_merged_gdf['codecommunecoordstructure'].iloc[i])], df_merged_gdf[df_merged_gdf['Code Département']==df_merged_gdf['Code Département'].iloc[i]], how='cross')\n",
    "    dico_cross.append(df_cross)\n",
    "    print(i)"
   ]
  },
  {
   "cell_type": "code",
   "execution_count": null,
   "metadata": {},
   "outputs": [],
   "source": [
    "df_cross_0 = pd.read_csv('df_cross_0.csv')"
   ]
  },
  {
   "cell_type": "code",
   "execution_count": 10,
   "metadata": {},
   "outputs": [],
   "source": [
    "def distance_bis(x1,y1,x2,y2):\n",
    "    return((np.sqrt((x1-x2)**2+(y1-y2)**2))/1000)"
   ]
  },
  {
   "cell_type": "code",
   "execution_count": null,
   "metadata": {},
   "outputs": [],
   "source": [
    "dico_d={}\n",
    "df_cross_0['distance']=0\n",
    "codegeo1 = df_cross_0['codgeo_x'].iloc[0]\n",
    "Latitude1= df_cross_0['xcl2154_x'].iloc[0]\n",
    "Longitude1=  df_cross_0['ycl2154_x'].iloc[0]\n",
    "for i in range(df_cross_0.shape[0]):\n",
    "    codegeo2 = df_cross_0['codgeo_y'].iloc[i]\n",
    "    if codegeo1==codegeo2:\n",
    "        None\n",
    "    elif (codegeo2,codegeo1) in dico_d :\n",
    "        df_cross_0.loc[i,'distance']=dico_d[(codegeo2,codegeo1)]\n",
    "    elif (codegeo1,codegeo2) in dico_d :\n",
    "        df_cross_0.loc[i,'distance']=dico_d[(codegeo1,codegeo2)]\n",
    "    else :\n",
    "        distance12 = distance_bis(Latitude1,Longitude1,df_cross_0['xcl2154_y'].iloc[i], df_cross_0['ycl2154_y'].iloc[i])\n",
    "        dico_d[(codegeo1,codegeo2)]=distance12\n",
    "        df_cross_0.loc[i,'distance']=distance12\n",
    "\n",
    "df_cross_0['distance'].describe()"
   ]
  },
  {
   "cell_type": "code",
   "execution_count": null,
   "metadata": {},
   "outputs": [],
   "source": [
    "df_cross_0[['codepostalcoordstructure_x','codepostalcoordstructure_y','distance']]"
   ]
  },
  {
   "cell_type": "code",
   "execution_count": null,
   "metadata": {},
   "outputs": [],
   "source": [
    "def nbDocDist(listeDist,data):\n",
    "    longueur = data.shape[0]\n",
    "    nbListe = [0 for i in range(len(listeDist))]\n",
    "    for (j,distanceMax) in enumerate(listeDist) : \n",
    "        for i in range(longueur):\n",
    "            if data['distance'].iloc[i]<distanceMax :\n",
    "                if data['RPPS_y'].iloc[i]>0 :\n",
    "                    nbListe[j]=nbListe[j]+1\n",
    "        data['Nb docteur à '+str(distanceMax)+' km']=nbListe[j]\n",
    "    return df_cross_0[['identifiantpp_x','codecivilité_x','nomdexercice_x','prénomdexercice_x','codecatégorieprofessionnelle_x','codesavoirfaire_x','libellésavoirfaire_x','codemodeexercice_x','numérosiretsite_x',\n",
    "       'identifianttechniquedelastructur_x', 'raisonsocialesite_x','libellésecteurdactivité_x','libellérôle_x','Specialty_x', 'card_0_x', 'card_3_x', 'card_4_x',\n",
    "       'Latitude_x', 'Longitude_x', 'Skills Processed_x', 'RPPS_x','Nb Skills_x','moyens_paiement_x', 'carte_vitale_x', 'secteur_x', 'Présentation_x',\n",
    "       'Langues parlées_x', 'Diplômes nationaux et universitaires_x',\n",
    "       'Autres formations_x', 'Expériences_x', 'Travaux et publications_x',\n",
    "       'Prix et distinctions_x','site_x', 'Site web_x', 'Formations_x',\n",
    "       'Diplômes nationaux et universitaires b_x',\n",
    "       'Nb caractères présentation_x', 'Autres formations b_x',\n",
    "       'Travaux et publications b_x', 'Nb langues_x', 'Expériences b_x',\n",
    "       'Formations b_x','Carac_card_1_x', 'Transport_x', 'Parking_x', 'Infos_x',\n",
    "       'Coordonnées_x', 'Sans RDV_x', 'nb terms card_0_x', 'nb terms card_3_x',\n",
    "       'nb terms card_4_x', 'nb carac card_0_x', 'nb carac card_3_x',\n",
    "       'nb carac card_4_x', 'code dépar_x','Voie_x', 'codgeo_x', 'xcl2154_x', 'ycl2154_x','Nb docteur à 2 km','Nb docteur à 8 km','Nb docteur à 30 km']].iloc[0]           \n",
    "        \n",
    "liste_0 =nbDocDist([2,8,30],df_cross_0)\n",
    "print(liste_0)"
   ]
  },
  {
   "cell_type": "code",
   "execution_count": null,
   "metadata": {},
   "outputs": [],
   "source": [
    "df_cross_0.head()"
   ]
  },
  {
   "cell_type": "code",
   "execution_count": null,
   "metadata": {},
   "outputs": [],
   "source": [
    "print(df_cross_0[df_cross_0['RPPS_y']>0][['RPPS_y','distance']],df_cross_0[df_cross_0['RPPS_y']>0].shape)"
   ]
  },
  {
   "cell_type": "markdown",
   "metadata": {},
   "source": [
    "### API OpenRouteService"
   ]
  },
  {
   "cell_type": "code",
   "execution_count": null,
   "metadata": {},
   "outputs": [],
   "source": [
    "import openrouteservice\n",
    "\n",
    "# Clé API OpenRouteService\n",
    "client = openrouteservice.Client(key='5b3ce3597851110001cf6248fa09b3e419ef40e182777370274818e9')\n",
    "\n",
    "# Coordonnées (longitude, latitude) pour le départ et l'arrivée\n",
    "coordinates = [[2.3522, 48.8566], [4.8357, 45.764]]\n",
    "\n",
    "# Calcul de l'itinéraire\n",
    "route = client.directions(coordinates, profile='driving-car')\n",
    "\n",
    "# Temps de trajet en secondes\n",
    "duration = route['routes'][0]['summary']['duration']\n",
    "print(f\"Temps de trajet : {duration / 60} minutes\")"
   ]
  }
 ],
 "metadata": {
  "kernelspec": {
   "display_name": "base",
   "language": "python",
   "name": "python3"
  },
  "language_info": {
   "codemirror_mode": {
    "name": "ipython",
    "version": 3
   },
   "file_extension": ".py",
   "mimetype": "text/x-python",
   "name": "python",
   "nbconvert_exporter": "python",
   "pygments_lexer": "ipython3",
   "version": "3.11.4"
  }
 },
 "nbformat": 4,
 "nbformat_minor": 2
}
