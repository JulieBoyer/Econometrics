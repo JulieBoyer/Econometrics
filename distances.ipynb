{
 "cells": [
  {
   "cell_type": "code",
   "execution_count": 2,
   "metadata": {},
   "outputs": [
    {
     "name": "stderr",
     "output_type": "stream",
     "text": [
      "/var/folders/rf/dqdwsk6s06ngm9b4j17fkb2r0000gn/T/ipykernel_2840/3163695580.py:6: DtypeWarning: Columns (28,29,30,31,32,35,41,42,43,44,45,46,50) have mixed types. Specify dtype option on import or set low_memory=False.\n",
      "  liste_med_ban = pd.read_csv('liste_med_ban.csv')\n"
     ]
    }
   ],
   "source": [
    "import pandas as pd\n",
    "import numpy as np\n",
    "import math\n",
    "import requests\n",
    "\n",
    "liste_med_ban = pd.read_csv('liste_med_ban.csv')"
   ]
  },
  {
   "cell_type": "code",
   "execution_count": 25,
   "metadata": {},
   "outputs": [],
   "source": [
    "def cp_et_nom(cp,nom):\n",
    "    if isinstance(cp,int) and isinstance(nom,str):\n",
    "        return (str(cp)+' '+nom)\n",
    "    else:\n",
    "        return np.nan"
   ]
  },
  {
   "cell_type": "code",
   "execution_count": 26,
   "metadata": {},
   "outputs": [
    {
     "data": {
      "text/plain": [
       "'94456 Limeil-Brévannes'"
      ]
     },
     "execution_count": 26,
     "metadata": {},
     "output_type": "execute_result"
    }
   ],
   "source": [
    "liste_med_ban['cp_ville'] = liste_med_ban.apply(lambda x: cp_et_nom(x['codepostalcoordstructure'],x['libellécommunecoordstructure']),axis=1)\n",
    "liste_med_ban['cp_ville'].iloc[73370]"
   ]
  },
  {
   "cell_type": "code",
   "execution_count": null,
   "metadata": {},
   "outputs": [],
   "source": [
    "def transfo_adresse(CodePostal,NumeroVoie,NomVoie):\n",
    "    num = (int(NumeroVoie))\n",
    "    return (str(num)+', '+str(NomVoie)+', '+str(CodePostal))\n",
    "\n",
    "liste_med_ban['adresse'] = liste_med_ban.apply(lambda x: transfo_adresse(x['cp_ville'],x['numérovoiecoordstructure'],x['Voie']),axis=1)"
   ]
  },
  {
   "cell_type": "code",
   "execution_count": 27,
   "metadata": {},
   "outputs": [],
   "source": [
    "API_URL = \"https://api-adresse.data.gouv.fr/{}/\"\n",
    "\n",
    "def req_to(endpoint: str, params: dict | None = None, files: dict | None = None) -> dict:\n",
    "    url = API_URL.format(endpoint)\n",
    "\n",
    "    if not files:\n",
    "        response = requests.get(url, params=params)\n",
    "\n",
    "    else:\n",
    "        response = requests.post(url, files=files, data=params)\n",
    "\n",
    "    if response.status_code == 200:\n",
    "        data = response.json()\n",
    "        return data\n",
    "    else:\n",
    "        raise Exception(f\"Request failed with code : {response.status_code}\")\n",
    "\n",
    "\n",
    "def get_geocode(**kwargs) -> dict:\n",
    "    if not 'q' in kwargs:\n",
    "        raise ValueError('Il manque un argument obligatoire : q')\n",
    "    \n",
    "    return req_to(\"search\", kwargs)\n",
    "\n",
    "\n",
    "def get_reverse(**kwargs) -> dict:\n",
    "    if not('lat' in kwargs and 'lon' in kwargs):\n",
    "        raise ValueError('Il manque des arguments obligatoires : lat et lon')\n",
    "    \n",
    "    return req_to(\"reverse\", kwargs)\n",
    "\n",
    "\n",
    "def get_geocode_csv(file_path: str, **kwargs) -> dict:\n",
    "    with open(file_path, 'rb') as file:\n",
    "        files = {'data': file}\n",
    "        response = req_to(\"search/csv\", kwargs, files) \n",
    "    \n",
    "    return response\n",
    "\n",
    "\n",
    "def get_reverse_csv(file_path: str) -> dict:\n",
    "    with open(file_path, 'rb') as file:\n",
    "        files = {'data': file}\n",
    "        response = req_to(\"reverse/csv\", files=files) \n",
    "\n",
    "    return response"
   ]
  },
  {
   "cell_type": "code",
   "execution_count": 28,
   "metadata": {},
   "outputs": [
    {
     "name": "stdout",
     "output_type": "stream",
     "text": [
      "52, rue jean jaures, 97110 Pointe-à-Pitre\n",
      "{'type': 'FeatureCollection', 'version': 'draft', 'features': [{'type': 'Feature', 'geometry': {'type': 'Point', 'coordinates': [-61.536772, 16.23989]}, 'properties': {'label': '52 Rue Jean Jaures 97110 Pointe-à-Pitre', 'score': 0.9688018181818181, 'housenumber': '52', 'id': '97120_0496_00052', 'banId': '3565ae2f-5cbf-4aab-8543-7a3fda9b9059', 'name': '52 Rue Jean Jaures', 'postcode': '97110', 'citycode': '97120', 'x': 656379.35, 'y': 1796029.48, 'city': 'Pointe-à-Pitre', 'context': '971, Guadeloupe', 'type': 'housenumber', 'importance': 0.65682, 'street': 'Rue Jean Jaures'}}], 'attribution': 'BAN', 'licence': 'ETALAB-2.0', 'query': '52, rue jean jaures, 97110 Pointe-à-Pitre', 'limit': 5}\n"
     ]
    }
   ],
   "source": [
    "numero=str(int(liste_med_ban['numérovoiecoordstructure'].iloc[0]))\n",
    "voie = liste_med_ban['Voie'].iloc[0]\n",
    "cp_ville=liste_med_ban['cp_ville'].iloc[0]\n",
    "adresse = numero+', '+voie+', '+cp_ville\n",
    "print(adresse)\n",
    "\n",
    "# Requête simple directe:\n",
    "res = get_geocode(q = adresse)\n",
    "print(res)\n",
    "#print(type(res['properties']),res['properties'][0]['x'])"
   ]
  },
  {
   "cell_type": "code",
   "execution_count": 29,
   "metadata": {},
   "outputs": [
    {
     "name": "stdout",
     "output_type": "stream",
     "text": [
      "Unexpected exception formatting exception. Falling back to standard exception\n"
     ]
    },
    {
     "name": "stderr",
     "output_type": "stream",
     "text": [
      "Traceback (most recent call last):\n",
      "  File \"/Users/julie/miniconda3/lib/python3.11/site-packages/IPython/core/interactiveshell.py\", line 3526, in run_code\n",
      "    exec(code_obj, self.user_global_ns, self.user_ns)\n",
      "  File \"/var/folders/rf/dqdwsk6s06ngm9b4j17fkb2r0000gn/T/ipykernel_98066/3440838157.py\", line 17, in <module>\n",
      "    liste_med_ban['longitude API'] = liste_med_ban['adresse'].apply(recup_long)\n",
      "                                     ^^^^^^^^^^^^^^^^^^^^^^^^^^^^^^^^^^^^^^^^^^\n",
      "  File \"/Users/julie/miniconda3/lib/python3.11/site-packages/pandas/core/series.py\", line 4924, in apply\n",
      "    ).apply()\n",
      "      ^^^^^^^\n",
      "  File \"/Users/julie/miniconda3/lib/python3.11/site-packages/pandas/core/apply.py\", line 1427, in apply\n",
      "    return self.apply_standard()\n",
      "           ^^^^^^^^^^^^^^^^^^^^^\n",
      "  File \"/Users/julie/miniconda3/lib/python3.11/site-packages/pandas/core/apply.py\", line 1507, in apply_standard\n",
      "    mapped = obj._map_values(\n",
      "             ^^^^^^^^^^^^^^^^\n",
      "  File \"/Users/julie/miniconda3/lib/python3.11/site-packages/pandas/core/base.py\", line 921, in _map_values\n",
      "    return algorithms.map_array(arr, mapper, na_action=na_action, convert=convert)\n",
      "           ^^^^^^^^^^^^^^^^^^^^^^^^^^^^^^^^^^^^^^^^^^^^^^^^^^^^^^^^^^^^^^^^^^^^^^^\n",
      "  File \"/Users/julie/miniconda3/lib/python3.11/site-packages/pandas/core/algorithms.py\", line 1743, in map_array\n",
      "    return lib.map_infer(values, mapper, convert=convert)\n",
      "           ^^^^^^^^^^^^^^^^^^^^^^^^^^^^^^^^^^^^^^^^^^^^^^\n",
      "  File \"lib.pyx\", line 2972, in pandas._libs.lib.map_infer\n",
      "  File \"/var/folders/rf/dqdwsk6s06ngm9b4j17fkb2r0000gn/T/ipykernel_98066/3440838157.py\", line 10, in recup_long\n",
      "    return(get_geocode(q=adr)['features'][0]['geometry']['coordinates'][0])\n",
      "           ^^^^^^^^^^^^^^^^^^\n",
      "  File \"/var/folders/rf/dqdwsk6s06ngm9b4j17fkb2r0000gn/T/ipykernel_98066/4204138459.py\", line 23, in get_geocode\n",
      "    return req_to(\"search\", kwargs)\n",
      "           ^^^^^^^^^^^^^^^^^^^^^^^^\n",
      "  File \"/var/folders/rf/dqdwsk6s06ngm9b4j17fkb2r0000gn/T/ipykernel_98066/4204138459.py\", line 7, in req_to\n",
      "    response = requests.get(url, params=params)\n",
      "               ^^^^^^^^^^^^^^^^^^^^^^^^^^^^^^^^\n",
      "  File \"/Users/julie/miniconda3/lib/python3.11/site-packages/requests/api.py\", line 73, in get\n",
      "    return request(\"get\", url, params=params, **kwargs)\n",
      "           ^^^^^^^^^^^^^^^^^^^^^^^^^^^^^^^^^^^^^^^^^^^^\n",
      "  File \"/Users/julie/miniconda3/lib/python3.11/site-packages/requests/api.py\", line 59, in request\n",
      "    return session.request(method=method, url=url, **kwargs)\n",
      "           ^^^^^^^^^^^^^^^^^^^^^^^^^^^^^^^^^^^^^^^^^^^^^^^^^\n",
      "  File \"/Users/julie/miniconda3/lib/python3.11/site-packages/requests/sessions.py\", line 579, in request\n",
      "    settings = self.merge_environment_settings(\n",
      "               ^^^^^^^^^^^^^^^^^^^^^^^^^^^^^^^^\n",
      "  File \"/Users/julie/miniconda3/lib/python3.11/site-packages/requests/sessions.py\", line 760, in merge_environment_settings\n",
      "    env_proxies = get_environ_proxies(url, no_proxy=no_proxy)\n",
      "                  ^^^^^^^^^^^^^^^^^^^^^^^^^^^^^^^^^^^^^^^^^^^\n",
      "  File \"/Users/julie/miniconda3/lib/python3.11/site-packages/requests/utils.py\", line 835, in get_environ_proxies\n",
      "    return getproxies()\n",
      "           ^^^^^^^^^^^^\n",
      "  File \"/Users/julie/miniconda3/lib/python3.11/urllib/request.py\", line 2663, in getproxies\n",
      "    return getproxies_environment() or getproxies_macosx_sysconf()\n",
      "           ^^^^^^^^^^^^^^^^^^^^^^^^\n",
      "  File \"/Users/julie/miniconda3/lib/python3.11/urllib/request.py\", line 2511, in getproxies_environment\n",
      "    for name, value in os.environ.items():\n",
      "  File \"<frozen _collections_abc>\", line 861, in __iter__\n",
      "  File \"<frozen os>\", line 674, in __getitem__\n",
      "KeyboardInterrupt\n",
      "\n",
      "During handling of the above exception, another exception occurred:\n",
      "\n",
      "Traceback (most recent call last):\n",
      "  File \"/Users/julie/miniconda3/lib/python3.11/site-packages/IPython/core/interactiveshell.py\", line 2120, in showtraceback\n",
      "    stb = self.InteractiveTB.structured_traceback(\n",
      "          ^^^^^^^^^^^^^^^^^^^^^^^^^^^^^^^^^^^^^^^^\n",
      "  File \"/Users/julie/miniconda3/lib/python3.11/site-packages/IPython/core/ultratb.py\", line 1435, in structured_traceback\n",
      "    return FormattedTB.structured_traceback(\n",
      "           ^^^^^^^^^^^^^^^^^^^^^^^^^^^^^^^^^\n",
      "  File \"/Users/julie/miniconda3/lib/python3.11/site-packages/IPython/core/ultratb.py\", line 1326, in structured_traceback\n",
      "    return VerboseTB.structured_traceback(\n",
      "           ^^^^^^^^^^^^^^^^^^^^^^^^^^^^^^^\n",
      "  File \"/Users/julie/miniconda3/lib/python3.11/site-packages/IPython/core/ultratb.py\", line 1173, in structured_traceback\n",
      "    formatted_exception = self.format_exception_as_a_whole(etype, evalue, etb, number_of_lines_of_context,\n",
      "                          ^^^^^^^^^^^^^^^^^^^^^^^^^^^^^^^^^^^^^^^^^^^^^^^^^^^^^^^^^^^^^^^^^^^^^^^^^^^^^^^^\n",
      "  File \"/Users/julie/miniconda3/lib/python3.11/site-packages/IPython/core/ultratb.py\", line 1063, in format_exception_as_a_whole\n",
      "    self.get_records(etb, number_of_lines_of_context, tb_offset) if etb else []\n",
      "    ^^^^^^^^^^^^^^^^^^^^^^^^^^^^^^^^^^^^^^^^^^^^^^^^^^^^^^^^^^^^\n",
      "  File \"/Users/julie/miniconda3/lib/python3.11/site-packages/IPython/core/ultratb.py\", line 1115, in get_records\n",
      "    style = stack_data.style_with_executing_node(style, self._tb_highlight)\n",
      "            ^^^^^^^^^^^^^^^^^^^^^^^^^^^^^^^^^^^^^^^^^^^^^^^^^^^^^^^^^^^^^^^\n",
      "  File \"/Users/julie/miniconda3/lib/python3.11/site-packages/stack_data/core.py\", line 455, in style_with_executing_node\n",
      "    class NewStyle(style):\n",
      "  File \"/Users/julie/miniconda3/lib/python3.11/site-packages/pygments/style.py\", line 91, in __new__\n",
      "    ndef[4] = colorformat(styledef[3:])\n",
      "              ^^^^^^^^^^^^^^^^^^^^^^^^^\n",
      "  File \"/Users/julie/miniconda3/lib/python3.11/site-packages/pygments/style.py\", line 58, in colorformat\n",
      "    assert False, \"wrong color format %r\" % text\n",
      "AssertionError: wrong color format 'ansiyellow'\n"
     ]
    }
   ],
   "source": [
    "def recup_long(adr):\n",
    "    if isinstance(adr,str):\n",
    "        try:\n",
    "            return(get_geocode(q=adr)['features'][0]['geometry']['coordinates'][0])\n",
    "        except (IndexError, KeyError, TypeError):\n",
    "            print(adr)\n",
    "            return None\n",
    "    else :\n",
    "        return (np.nan)\n",
    "\n",
    "liste_med_ban['longitude API'] = liste_med_ban['adresse'].apply(recup_long)\n",
    "#liste_med_ban['latitude API'] = get_geocode(q = liste_med_ban['adresse'])['features'][0]['geometry']['coordinates'][1]\n",
    "\n",
    "#liste_med_ban['adresse','longitude API','latitude API']"
   ]
  },
  {
   "cell_type": "code",
   "execution_count": 3,
   "metadata": {},
   "outputs": [
    {
     "name": "stdout",
     "output_type": "stream",
     "text": [
      "La distance entre Paris et Los Angeles est d'environ 9085.51 km.\n"
     ]
    }
   ],
   "source": [
    "def distance_long_lat(lat1, lon1, lat2, lon2):\n",
    "    # Rayon de la Terre en km\n",
    "    R = 6371.0\n",
    "    \n",
    "    # Conversion des degrés en radians\n",
    "    lat1_rad = math.radians(lat1)\n",
    "    lon1_rad = math.radians(lon1)\n",
    "    lat2_rad = math.radians(lat2)\n",
    "    lon2_rad = math.radians(lon2)\n",
    "    \n",
    "    # Calcul des différences\n",
    "    delta_lat = lat2_rad - lat1_rad\n",
    "    delta_lon = lon2_rad - lon1_rad\n",
    "    \n",
    "    # Formule de Haversine\n",
    "    a = math.sin(delta_lat / 2)**2 + math.cos(lat1_rad) * math.cos(lat2_rad) * math.sin(delta_lon / 2)**2\n",
    "    c = 2 * math.asin(math.sqrt(a))\n",
    "    \n",
    "    # Distance\n",
    "    distance = R * c\n",
    "    \n",
    "    return distance\n",
    "\n",
    "# Exemple d'utilisation\n",
    "lat1, lon1 = 48.8566, 2.3522  # Paris\n",
    "lat2, lon2 = 34.0522, -118.2437  # Los Angeles\n",
    "\n",
    "distance = distance_long_lat(lat1, lon1, lat2, lon2)\n",
    "print(f\"La distance entre Paris et Los Angeles est d'environ {distance:.2f} km.\")\n"
   ]
  },
  {
   "cell_type": "code",
   "execution_count": 31,
   "metadata": {},
   "outputs": [
    {
     "data": {
      "text/plain": [
       "0        971\n",
       "1        971\n",
       "2        971\n",
       "3        971\n",
       "4        971\n",
       "        ... \n",
       "73369     94\n",
       "73370     94\n",
       "73371     93\n",
       "73372     94\n",
       "73373     94\n",
       "Name: code dépar, Length: 73374, dtype: int64"
      ]
     },
     "execution_count": 31,
     "metadata": {},
     "output_type": "execute_result"
    }
   ],
   "source": [
    "liste_med_ban['code dépar']"
   ]
  },
  {
   "cell_type": "code",
   "execution_count": 32,
   "metadata": {},
   "outputs": [
    {
     "data": {
      "text/plain": [
       "(289, 76)"
      ]
     },
     "execution_count": 32,
     "metadata": {},
     "output_type": "execute_result"
    }
   ],
   "source": [
    "departement_choisi = 39\n",
    "\n",
    "liste_med_ban_dep=liste_med_ban[liste_med_ban['code dépar']==departement_choisi]\n",
    "liste_med_ban_dep.shape"
   ]
  },
  {
   "cell_type": "code",
   "execution_count": 35,
   "metadata": {},
   "outputs": [
    {
     "name": "stderr",
     "output_type": "stream",
     "text": [
      "/var/folders/rf/dqdwsk6s06ngm9b4j17fkb2r0000gn/T/ipykernel_2840/1526306788.py:1: DtypeWarning: Columns (100,101,102,103,104,107,113,114,115,116,117,118,122) have mixed types. Specify dtype option on import or set low_memory=False.\n",
      "  df_cross_0 = pd.read_csv('df_cross_0.csv')\n"
     ]
    }
   ],
   "source": [
    "df_cross_0 = pd.read_csv('df_cross_0.csv')"
   ]
  },
  {
   "cell_type": "code",
   "execution_count": 41,
   "metadata": {},
   "outputs": [],
   "source": [
    "def distance_bis(x1,y1,x2,y2):\n",
    "    return((np.sqrt((x1-x2)**2+(y1-y2)**2))/1000)"
   ]
  },
  {
   "cell_type": "code",
   "execution_count": 47,
   "metadata": {},
   "outputs": [
    {
     "name": "stderr",
     "output_type": "stream",
     "text": [
      "/var/folders/rf/dqdwsk6s06ngm9b4j17fkb2r0000gn/T/ipykernel_2840/3280399174.py:17: FutureWarning: ChainedAssignmentError: behaviour will change in pandas 3.0!\n",
      "You are setting values through chained assignment. Currently this works in certain cases, but when using Copy-on-Write (which will become the default behaviour in pandas 3.0) this will never work to update the original DataFrame or Series, because the intermediate object on which we are setting values will behave as a copy.\n",
      "A typical example is when you are setting values in a column of a DataFrame, like:\n",
      "\n",
      "df[\"col\"][row_indexer] = value\n",
      "\n",
      "Use `df.loc[row_indexer, \"col\"] = values` instead, to perform the assignment in a single step and ensure this keeps updating the original `df`.\n",
      "\n",
      "See the caveats in the documentation: https://pandas.pydata.org/pandas-docs/stable/user_guide/indexing.html#returning-a-view-versus-a-copy\n",
      "\n",
      "  df_cross_0['distance'].iloc[i]=distance12\n",
      "/var/folders/rf/dqdwsk6s06ngm9b4j17fkb2r0000gn/T/ipykernel_2840/3280399174.py:17: SettingWithCopyWarning: \n",
      "A value is trying to be set on a copy of a slice from a DataFrame\n",
      "\n",
      "See the caveats in the documentation: https://pandas.pydata.org/pandas-docs/stable/user_guide/indexing.html#returning-a-view-versus-a-copy\n",
      "  df_cross_0['distance'].iloc[i]=distance12\n",
      "/var/folders/rf/dqdwsk6s06ngm9b4j17fkb2r0000gn/T/ipykernel_2840/3280399174.py:17: FutureWarning: Setting an item of incompatible dtype is deprecated and will raise an error in a future version of pandas. Value '30.99804427701851' has dtype incompatible with int64, please explicitly cast to a compatible dtype first.\n",
      "  df_cross_0['distance'].iloc[i]=distance12\n",
      "/var/folders/rf/dqdwsk6s06ngm9b4j17fkb2r0000gn/T/ipykernel_2840/3280399174.py:17: FutureWarning: ChainedAssignmentError: behaviour will change in pandas 3.0!\n",
      "You are setting values through chained assignment. Currently this works in certain cases, but when using Copy-on-Write (which will become the default behaviour in pandas 3.0) this will never work to update the original DataFrame or Series, because the intermediate object on which we are setting values will behave as a copy.\n",
      "A typical example is when you are setting values in a column of a DataFrame, like:\n",
      "\n",
      "df[\"col\"][row_indexer] = value\n",
      "\n",
      "Use `df.loc[row_indexer, \"col\"] = values` instead, to perform the assignment in a single step and ensure this keeps updating the original `df`.\n",
      "\n",
      "See the caveats in the documentation: https://pandas.pydata.org/pandas-docs/stable/user_guide/indexing.html#returning-a-view-versus-a-copy\n",
      "\n",
      "  df_cross_0['distance'].iloc[i]=distance12\n",
      "/var/folders/rf/dqdwsk6s06ngm9b4j17fkb2r0000gn/T/ipykernel_2840/3280399174.py:13: FutureWarning: ChainedAssignmentError: behaviour will change in pandas 3.0!\n",
      "You are setting values through chained assignment. Currently this works in certain cases, but when using Copy-on-Write (which will become the default behaviour in pandas 3.0) this will never work to update the original DataFrame or Series, because the intermediate object on which we are setting values will behave as a copy.\n",
      "A typical example is when you are setting values in a column of a DataFrame, like:\n",
      "\n",
      "df[\"col\"][row_indexer] = value\n",
      "\n",
      "Use `df.loc[row_indexer, \"col\"] = values` instead, to perform the assignment in a single step and ensure this keeps updating the original `df`.\n",
      "\n",
      "See the caveats in the documentation: https://pandas.pydata.org/pandas-docs/stable/user_guide/indexing.html#returning-a-view-versus-a-copy\n",
      "\n",
      "  df_cross_0['distance'].iloc[i]=dico_d[(codegeo1,codegeo2)]\n"
     ]
    },
    {
     "data": {
      "text/plain": [
       "count    72481.000000\n",
       "mean       320.539617\n",
       "std        220.789479\n",
       "min          0.000000\n",
       "25%        130.600829\n",
       "50%        334.599937\n",
       "75%        483.182548\n",
       "max        880.446435\n",
       "Name: distance, dtype: float64"
      ]
     },
     "execution_count": 47,
     "metadata": {},
     "output_type": "execute_result"
    }
   ],
   "source": [
    "dico_d={}\n",
    "df_cross_0['distance']=0\n",
    "codegeo1 = df_cross_0['codgeo_x'].iloc[0]\n",
    "Latitude1= df_cross_0['xcl2154_x'].iloc[0]\n",
    "Longitude1=  df_cross_0['ycl2154_x'].iloc[0]\n",
    "for i in range(df_cross_0.shape[0]):\n",
    "    codegeo2 = df_cross_0['codgeo_y'].iloc[i]\n",
    "    if codegeo1==codegeo2:\n",
    "        None\n",
    "    elif (codegeo2,codegeo1) in dico_d :\n",
    "        df_cross_0['distance'].iloc[i]=dico_d[(codegeo2,codegeo1)]\n",
    "    elif (codegeo1,codegeo2) in dico_d :\n",
    "        df_cross_0['distance'].iloc[i]=dico_d[(codegeo1,codegeo2)]\n",
    "    else :\n",
    "        distance12 = distance_bis(Latitude1,Longitude1,df_cross_0['xcl2154_y'].iloc[i], df_cross_0['ycl2154_y'].iloc[i])\n",
    "        dico_d[(codegeo1,codegeo2)]=distance12\n",
    "        df_cross_0['distance'].iloc[i]=distance12\n",
    "\n",
    "df_cross_0['distance'].describe()"
   ]
  },
  {
   "cell_type": "code",
   "execution_count": 48,
   "metadata": {},
   "outputs": [
    {
     "name": "stdout",
     "output_type": "stream",
     "text": [
      "664.640860630762\n",
      "652492 6862009 633310 6197645\n"
     ]
    }
   ],
   "source": [
    "print(distance_bis(df_cross_0['xcl2154_x'].iloc[0], df_cross_0['ycl2154_x'].iloc[0],df_cross_0['xcl2154_y'].iloc[2], df_cross_0['ycl2154_y'].iloc[2]))\n",
    "print(df_cross_0['xcl2154_x'].iloc[0], df_cross_0['ycl2154_x'].iloc[0],df_cross_0['xcl2154_y'].iloc[2], df_cross_0['ycl2154_y'].iloc[2])"
   ]
  },
  {
   "cell_type": "code",
   "execution_count": 49,
   "metadata": {},
   "outputs": [
    {
     "data": {
      "text/html": [
       "<div>\n",
       "<style scoped>\n",
       "    .dataframe tbody tr th:only-of-type {\n",
       "        vertical-align: middle;\n",
       "    }\n",
       "\n",
       "    .dataframe tbody tr th {\n",
       "        vertical-align: top;\n",
       "    }\n",
       "\n",
       "    .dataframe thead th {\n",
       "        text-align: right;\n",
       "    }\n",
       "</style>\n",
       "<table border=\"1\" class=\"dataframe\">\n",
       "  <thead>\n",
       "    <tr style=\"text-align: right;\">\n",
       "      <th></th>\n",
       "      <th>codepostalcoordstructure_x</th>\n",
       "      <th>codepostalcoordstructure_y</th>\n",
       "      <th>distance</th>\n",
       "    </tr>\n",
       "  </thead>\n",
       "  <tbody>\n",
       "    <tr>\n",
       "      <th>0</th>\n",
       "      <td>75010</td>\n",
       "      <td>95490</td>\n",
       "      <td>30.998044</td>\n",
       "    </tr>\n",
       "    <tr>\n",
       "      <th>1</th>\n",
       "      <td>75010</td>\n",
       "      <td>75010</td>\n",
       "      <td>0.000000</td>\n",
       "    </tr>\n",
       "    <tr>\n",
       "      <th>2</th>\n",
       "      <td>75010</td>\n",
       "      <td>11500</td>\n",
       "      <td>664.640861</td>\n",
       "    </tr>\n",
       "    <tr>\n",
       "      <th>3</th>\n",
       "      <td>75010</td>\n",
       "      <td>56340</td>\n",
       "      <td>427.248816</td>\n",
       "    </tr>\n",
       "    <tr>\n",
       "      <th>4</th>\n",
       "      <td>75010</td>\n",
       "      <td>93100</td>\n",
       "      <td>6.526897</td>\n",
       "    </tr>\n",
       "    <tr>\n",
       "      <th>...</th>\n",
       "      <td>...</td>\n",
       "      <td>...</td>\n",
       "      <td>...</td>\n",
       "    </tr>\n",
       "    <tr>\n",
       "      <th>72476</th>\n",
       "      <td>75010</td>\n",
       "      <td>94275</td>\n",
       "      <td>4.909933</td>\n",
       "    </tr>\n",
       "    <tr>\n",
       "      <th>72477</th>\n",
       "      <td>75010</td>\n",
       "      <td>94456</td>\n",
       "      <td>15.177672</td>\n",
       "    </tr>\n",
       "    <tr>\n",
       "      <th>72478</th>\n",
       "      <td>75010</td>\n",
       "      <td>93370</td>\n",
       "      <td>16.796641</td>\n",
       "    </tr>\n",
       "    <tr>\n",
       "      <th>72479</th>\n",
       "      <td>75010</td>\n",
       "      <td>94275</td>\n",
       "      <td>4.909933</td>\n",
       "    </tr>\n",
       "    <tr>\n",
       "      <th>72480</th>\n",
       "      <td>75010</td>\n",
       "      <td>94195</td>\n",
       "      <td>15.622453</td>\n",
       "    </tr>\n",
       "  </tbody>\n",
       "</table>\n",
       "<p>72481 rows × 3 columns</p>\n",
       "</div>"
      ],
      "text/plain": [
       "       codepostalcoordstructure_x  codepostalcoordstructure_y    distance\n",
       "0                           75010                       95490   30.998044\n",
       "1                           75010                       75010    0.000000\n",
       "2                           75010                       11500  664.640861\n",
       "3                           75010                       56340  427.248816\n",
       "4                           75010                       93100    6.526897\n",
       "...                           ...                         ...         ...\n",
       "72476                       75010                       94275    4.909933\n",
       "72477                       75010                       94456   15.177672\n",
       "72478                       75010                       93370   16.796641\n",
       "72479                       75010                       94275    4.909933\n",
       "72480                       75010                       94195   15.622453\n",
       "\n",
       "[72481 rows x 3 columns]"
      ]
     },
     "execution_count": 49,
     "metadata": {},
     "output_type": "execute_result"
    }
   ],
   "source": [
    "df_cross_0[['codepostalcoordstructure_x','codepostalcoordstructure_y','distance']]"
   ]
  },
  {
   "cell_type": "markdown",
   "metadata": {},
   "source": [
    "### API OpenRouteService"
   ]
  },
  {
   "cell_type": "code",
   "execution_count": 2,
   "metadata": {},
   "outputs": [
    {
     "name": "stdout",
     "output_type": "stream",
     "text": [
      "Temps de trajet : 276.305 minutes\n"
     ]
    }
   ],
   "source": [
    "import openrouteservice\n",
    "\n",
    "# Clé API OpenRouteService\n",
    "client = openrouteservice.Client(key='5b3ce3597851110001cf6248fa09b3e419ef40e182777370274818e9')\n",
    "\n",
    "# Coordonnées (longitude, latitude) pour le départ et l'arrivée\n",
    "coordinates = [[2.3522, 48.8566], [4.8357, 45.764]]\n",
    "\n",
    "# Calcul de l'itinéraire\n",
    "route = client.directions(coordinates, profile='driving-car')\n",
    "\n",
    "# Temps de trajet en secondes\n",
    "duration = route['routes'][0]['summary']['duration']\n",
    "print(f\"Temps de trajet : {duration / 60} minutes\")"
   ]
  }
 ],
 "metadata": {
  "kernelspec": {
   "display_name": "base",
   "language": "python",
   "name": "python3"
  },
  "language_info": {
   "codemirror_mode": {
    "name": "ipython",
    "version": 3
   },
   "file_extension": ".py",
   "mimetype": "text/x-python",
   "name": "python",
   "nbconvert_exporter": "python",
   "pygments_lexer": "ipython3",
   "version": "3.11.4"
  }
 },
 "nbformat": 4,
 "nbformat_minor": 2
}
