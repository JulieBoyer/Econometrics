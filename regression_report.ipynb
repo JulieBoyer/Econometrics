{
 "cells": [
  {
   "cell_type": "markdown",
   "metadata": {},
   "source": [
    "# Step 0 : We import the necessary modules and files "
   ]
  },
  {
   "cell_type": "code",
   "execution_count": 2,
   "metadata": {},
   "outputs": [],
   "source": [
    "import numpy as np\n",
    "from scipy.stats import entropy\n",
    "import pandas as pd\n",
    "import math\n",
    "import matplotlib.pyplot as plt\n",
    "import wooldridge as woo\n",
    "import statsmodels.formula.api as smf\n",
    "import linearmodels.iv as iv\n",
    "from statsmodels.iolib.summary2 import summary_col\n",
    "from pystout import pystout"
   ]
  },
  {
   "cell_type": "code",
   "execution_count": 3,
   "metadata": {},
   "outputs": [],
   "source": [
    "dataFF_red_norm01 = pd.read_csv('dataFF_red_norm01.csv')\n",
    "dataFF_red_norm_gauss = pd.read_csv('dataFF_red_norm_gauss.csv')"
   ]
  },
  {
   "cell_type": "markdown",
   "metadata": {},
   "source": [
    "# Step 1 : We run naive regressions"
   ]
  },
  {
   "cell_type": "code",
   "execution_count": 4,
   "metadata": {},
   "outputs": [
    {
     "name": "stdout",
     "output_type": "stream",
     "text": [
      "results.summary(): \n",
      "                            OLS Regression Results                            \n",
      "==============================================================================\n",
      "Dep. Variable:                    sum   R-squared:                       0.055\n",
      "Model:                            OLS   Adj. R-squared:                  0.053\n",
      "Method:                 Least Squares   F-statistic:                     23.62\n",
      "Date:                Fri, 15 Nov 2024   Prob (F-statistic):           4.43e-56\n",
      "Time:                        10:00:12   Log-Likelihood:                -19096.\n",
      "No. Observations:                5294   AIC:                         3.822e+04\n",
      "Df Residuals:                    5280   BIC:                         3.831e+04\n",
      "Df Model:                          13                                         \n",
      "Covariance Type:            nonrobust                                         \n",
      "===================================================================================================\n",
      "                                      coef    std err          t      P>|t|      [0.025      0.975]\n",
      "---------------------------------------------------------------------------------------------------\n",
      "Intercept                         -64.4242     12.502     -5.153      0.000     -88.934     -39.914\n",
      "np.log(Nb_doct_30km)                1.0546      0.214      4.929      0.000       0.635       1.474\n",
      "share_F                            -0.3810      0.780     -0.488      0.625      -1.911       1.149\n",
      "APL                                 0.3286      0.118      2.776      0.006       0.097       0.561\n",
      "np.log(Standardized_population)     1.9570      0.290      6.744      0.000       1.388       2.526\n",
      "gender                             -1.0414      0.266     -3.921      0.000      -1.562      -0.521\n",
      "np.log(MED14)                       3.6279      1.446      2.508      0.012       0.792       6.464\n",
      "np.log(Superficie)                 -0.2557      0.172     -1.490      0.136      -0.592       0.081\n",
      "np.log(Ménages)                    -4.4479      1.277     -3.483      0.001      -6.952      -1.944\n",
      "np.log(Chomeurs)                    0.0735      0.748      0.098      0.922      -1.393       1.540\n",
      "np.log(Actifs)                      2.9923      2.716      1.102      0.271      -2.333       8.317\n",
      "np.log(Population_P_actif)         -0.8917      2.881     -0.310      0.757      -6.539       4.756\n",
      "np.log(Naissances + 1)             -0.2884      0.598     -0.482      0.630      -1.461       0.884\n",
      "np.log(Logements)                   2.4547      0.709      3.462      0.001       1.065       3.845\n",
      "==============================================================================\n",
      "Omnibus:                      406.277   Durbin-Watson:                   1.437\n",
      "Prob(Omnibus):                  0.000   Jarque-Bera (JB):             1813.927\n",
      "Skew:                           0.240   Prob(JB):                         0.00\n",
      "Kurtosis:                       5.827   Cond. No.                     2.89e+03\n",
      "==============================================================================\n",
      "\n",
      "Notes:\n",
      "[1] Standard Errors assume that the covariance matrix of the errors is correctly specified.\n",
      "[2] The condition number is large, 2.89e+03. This might indicate that there are\n",
      "strong multicollinearity or other numerical problems.\n",
      "\n"
     ]
    }
   ],
   "source": [
    "reg = smf.ols(formula='sum~np.log(Nb_doct_30km)+share_F+APL+np.log(Standardized_population)+gender+np.log(MED14)+np.log(Superficie)+np.log(Ménages)+np.log(Chomeurs)+np.log(Actifs)+np.log(Population_P_actif)+np.log(Naissances+1)+np.log(Logements)', data=dataFF_red_norm_gauss)\n",
    "results = reg.fit()\n",
    "b = results.params\n",
    "#print(f'b: \\n{b}\\n')\n",
    "\n",
    "# print results using summary:\n",
    "print(f'results.summary(): \\n{results.summary()}\\n')"
   ]
  },
  {
   "cell_type": "code",
   "execution_count": 5,
   "metadata": {},
   "outputs": [
    {
     "name": "stderr",
     "output_type": "stream",
     "text": [
      "<>:7: SyntaxWarning: invalid escape sequence '\\s'\n",
      "<>:7: SyntaxWarning: invalid escape sequence '\\s'\n",
      "C:\\Users\\agath\\AppData\\Local\\Temp\\ipykernel_25324\\3976378069.py:7: SyntaxWarning: invalid escape sequence '\\s'\n",
      "  modstat={'nobs':'Obs','rsquared_adj':'Adj. R\\sym{2}','fvalue':'F-stat'}\n"
     ]
    }
   ],
   "source": [
    "pystout(models=[results],\n",
    "        file='naive.tex',\n",
    "        addnotes=['Note above','Note below'],\n",
    "        digits=2,\n",
    "        varlabels={'const':'Constant',\n",
    "                   'displacement':'Disp','mpg':'MPG'},\n",
    "        modstat={'nobs':'Obs','rsquared_adj':'Adj. R\\sym{2}','fvalue':'F-stat'}\n",
    "        )"
   ]
  },
  {
   "cell_type": "code",
   "execution_count": 6,
   "metadata": {},
   "outputs": [
    {
     "name": "stdout",
     "output_type": "stream",
     "text": [
      "results.summary(): \n",
      "                            OLS Regression Results                            \n",
      "==============================================================================\n",
      "Dep. Variable:                    sum   R-squared:                       0.054\n",
      "Model:                            OLS   Adj. R-squared:                  0.051\n",
      "Method:                 Least Squares   F-statistic:                     23.09\n",
      "Date:                Fri, 15 Nov 2024   Prob (F-statistic):           9.94e-55\n",
      "Time:                        10:00:12   Log-Likelihood:                -19100.\n",
      "No. Observations:                5294   AIC:                         3.823e+04\n",
      "Df Residuals:                    5280   BIC:                         3.832e+04\n",
      "Df Model:                          13                                         \n",
      "Covariance Type:            nonrobust                                         \n",
      "===================================================================================================\n",
      "                                      coef    std err          t      P>|t|      [0.025      0.975]\n",
      "---------------------------------------------------------------------------------------------------\n",
      "Intercept                         -59.0338     12.450     -4.742      0.000     -83.441     -34.627\n",
      "np.log(Nb_doct_D_30km)              0.7916      0.188      4.221      0.000       0.424       1.159\n",
      "share_F                            -0.3756      0.781     -0.481      0.631      -1.906       1.155\n",
      "APL                                 0.3627      0.118      3.079      0.002       0.132       0.594\n",
      "np.log(Standardized_population)     1.6208      0.258      6.272      0.000       1.114       2.127\n",
      "gender                             -1.0186      0.266     -3.833      0.000      -1.540      -0.498\n",
      "np.log(MED14)                       3.6873      1.451      2.541      0.011       0.843       6.532\n",
      "np.log(Superficie)                 -0.2522      0.175     -1.440      0.150      -0.596       0.091\n",
      "np.log(Ménages)                    -4.3681      1.282     -3.407      0.001      -6.881      -1.855\n",
      "np.log(Chomeurs)                   -0.0961      0.746     -0.129      0.898      -1.559       1.367\n",
      "np.log(Actifs)                      2.5927      2.718      0.954      0.340      -2.736       7.922\n",
      "np.log(Population_P_actif)         -0.1691      2.871     -0.059      0.953      -5.798       5.460\n",
      "np.log(Naissances + 1)             -0.2998      0.600     -0.500      0.617      -1.476       0.876\n",
      "np.log(Logements)                   2.3527      0.708      3.321      0.001       0.964       3.742\n",
      "==============================================================================\n",
      "Omnibus:                      406.235   Durbin-Watson:                   1.435\n",
      "Prob(Omnibus):                  0.000   Jarque-Bera (JB):             1814.864\n",
      "Skew:                           0.240   Prob(JB):                         0.00\n",
      "Kurtosis:                       5.828   Cond. No.                     2.80e+03\n",
      "==============================================================================\n",
      "\n",
      "Notes:\n",
      "[1] Standard Errors assume that the covariance matrix of the errors is correctly specified.\n",
      "[2] The condition number is large, 2.8e+03. This might indicate that there are\n",
      "strong multicollinearity or other numerical problems.\n",
      "\n"
     ]
    }
   ],
   "source": [
    "reg = smf.ols(formula='sum~np.log(Nb_doct_D_30km)+share_F+APL+np.log(Standardized_population)+gender+np.log(MED14)+np.log(Superficie)+np.log(Ménages)+np.log(Chomeurs)+np.log(Actifs)+np.log(Population_P_actif)+np.log(Naissances+1)+np.log(Logements)', data=dataFF_red_norm_gauss)\n",
    "resultsD = reg.fit()\n",
    "b = resultsD.params\n",
    "#print(f'b: \\n{b}\\n')\n",
    "\n",
    "# print results using summary:\n",
    "print(f'results.summary(): \\n{resultsD.summary()}\\n')"
   ]
  },
  {
   "cell_type": "code",
   "execution_count": 7,
   "metadata": {},
   "outputs": [
    {
     "name": "stderr",
     "output_type": "stream",
     "text": [
      "<>:6: SyntaxWarning: invalid escape sequence '\\s'\n",
      "<>:6: SyntaxWarning: invalid escape sequence '\\s'\n",
      "C:\\Users\\agath\\AppData\\Local\\Temp\\ipykernel_25324\\31173882.py:6: SyntaxWarning: invalid escape sequence '\\s'\n",
      "  modstat={'nobs':'Obs','rsquared_adj':'Adj. R\\sym{2}','fvalue':'F-stat'}\n"
     ]
    }
   ],
   "source": [
    "pystout(models=[resultsD],\n",
    "        file='naiveD.tex',\n",
    "        digits=2,\n",
    "        varlabels={'const':'Constant',\n",
    "                   'displacement':'Disp','mpg':'MPG'},\n",
    "        modstat={'nobs':'Obs','rsquared_adj':'Adj. R\\sym{2}','fvalue':'F-stat'}\n",
    "        )"
   ]
  },
  {
   "cell_type": "markdown",
   "metadata": {},
   "source": [
    "# Step 2 : We run regressions to find an instrument"
   ]
  },
  {
   "cell_type": "code",
   "execution_count": 8,
   "metadata": {},
   "outputs": [
    {
     "name": "stdout",
     "output_type": "stream",
     "text": [
      "results.summary(): \n",
      "                             OLS Regression Results                             \n",
      "================================================================================\n",
      "Dep. Variable:     np.log(Nb_doct_30km)   R-squared:                       0.861\n",
      "Model:                              OLS   Adj. R-squared:                  0.861\n",
      "Method:                   Least Squares   F-statistic:                     550.0\n",
      "Date:                  Fri, 15 Nov 2024   Prob (F-statistic):               0.00\n",
      "Time:                          10:00:12   Log-Likelihood:                -4568.8\n",
      "No. Observations:                  5294   AIC:                             9166.\n",
      "Df Residuals:                      5280   BIC:                             9258.\n",
      "Df Model:                            13                                         \n",
      "Covariance Type:                cluster                                         \n",
      "===================================================================================================\n",
      "                                      coef    std err          z      P>|z|      [0.025      0.975]\n",
      "---------------------------------------------------------------------------------------------------\n",
      "Intercept                           5.8691      1.528      3.842      0.000       2.875       8.863\n",
      "share_F                             0.0778      0.074      1.056      0.291      -0.067       0.222\n",
      "APL                                 0.0820      0.017      4.848      0.000       0.049       0.115\n",
      "np.log(Standardized_population)    -1.1832      0.020    -57.991      0.000      -1.223      -1.143\n",
      "gender                              0.0079      0.017      0.476      0.634      -0.025       0.040\n",
      "Fibre                               0.0917      0.088      1.037      0.300      -0.082       0.265\n",
      "np.log(MED14)                       0.9971      0.180      5.543      0.000       0.645       1.350\n",
      "np.log(Superficie)                 -0.2527      0.031     -8.123      0.000      -0.314      -0.192\n",
      "np.log(Ménages)                    -0.5525      0.226     -2.450      0.014      -0.994      -0.110\n",
      "np.log(Chomeurs)                   -0.4010      0.113     -3.557      0.000      -0.622      -0.180\n",
      "np.log(Actifs)                     -0.1281      0.461     -0.278      0.781      -1.032       0.775\n",
      "np.log(Population_P_actif)          1.5162      0.489      3.103      0.002       0.559       2.474\n",
      "np.log(Naissances + 1)              0.2785      0.083      3.336      0.001       0.115       0.442\n",
      "np.log(Logements)                  -0.2340      0.107     -2.183      0.029      -0.444      -0.024\n",
      "==============================================================================\n",
      "Omnibus:                      111.941   Durbin-Watson:                   1.627\n",
      "Prob(Omnibus):                  0.000   Jarque-Bera (JB):              166.081\n",
      "Skew:                          -0.228   Prob(JB):                     8.63e-37\n",
      "Kurtosis:                       3.738   Cond. No.                     2.74e+03\n",
      "==============================================================================\n",
      "\n",
      "Notes:\n",
      "[1] Standard Errors are robust to cluster correlation (cluster)\n",
      "[2] The condition number is large, 2.74e+03. This might indicate that there are\n",
      "strong multicollinearity or other numerical problems.\n",
      "\n"
     ]
    }
   ],
   "source": [
    "reg = smf.ols(formula='np.log(Nb_doct_30km)~share_F+APL+np.log(Standardized_population)+gender+Fibre+np.log(MED14)+np.log(Superficie)+np.log(Ménages)+np.log(Chomeurs)+np.log(Actifs)+np.log(Population_P_actif)+np.log(Naissances+1)+np.log(Logements)', data=dataFF_red_norm_gauss)\n",
    "results1 = reg.fit(cov_type='cluster', cov_kwds={'groups': dataFF_red_norm_gauss['codecommunecoordstructure3']})\n",
    "b = results1.params\n",
    "#print(f'b: \\n{b}\\n')\n",
    "\n",
    "# print results using summary:\n",
    "print(f'results.summary(): \\n{results1.summary()}\\n')"
   ]
  },
  {
   "cell_type": "code",
   "execution_count": 9,
   "metadata": {},
   "outputs": [
    {
     "name": "stdout",
     "output_type": "stream",
     "text": [
      "results.summary(): \n",
      "                             OLS Regression Results                             \n",
      "================================================================================\n",
      "Dep. Variable:     np.log(Nb_doct_30km)   R-squared:                       0.862\n",
      "Model:                              OLS   Adj. R-squared:                  0.862\n",
      "Method:                   Least Squares   F-statistic:                     529.7\n",
      "Date:                  Fri, 15 Nov 2024   Prob (F-statistic):               0.00\n",
      "Time:                          10:00:12   Log-Likelihood:                -4550.2\n",
      "No. Observations:                  5294   AIC:                             9130.\n",
      "Df Residuals:                      5279   BIC:                             9229.\n",
      "Df Model:                            14                                         \n",
      "Covariance Type:                cluster                                         \n",
      "===================================================================================================\n",
      "                                      coef    std err          z      P>|z|      [0.025      0.975]\n",
      "---------------------------------------------------------------------------------------------------\n",
      "Intercept                           5.7946      1.503      3.856      0.000       2.850       8.740\n",
      "share_F                             0.0632      0.073      0.860      0.390      -0.081       0.207\n",
      "APL                                 0.0783      0.017      4.663      0.000       0.045       0.111\n",
      "np.log(Standardized_population)    -1.1861      0.020    -58.666      0.000      -1.226      -1.146\n",
      "gender                              0.0059      0.016      0.357      0.721      -0.026       0.038\n",
      "Fibre                               0.0954      0.088      1.089      0.276      -0.076       0.267\n",
      "np.log(Deces + 1)                  -0.1661      0.048     -3.476      0.001      -0.260      -0.072\n",
      "np.log(MED14)                       0.9551      0.176      5.413      0.000       0.609       1.301\n",
      "np.log(Superficie)                 -0.2389      0.031     -7.766      0.000      -0.299      -0.179\n",
      "np.log(Ménages)                    -0.3107      0.217     -1.433      0.152      -0.736       0.114\n",
      "np.log(Chomeurs)                   -0.3886      0.113     -3.430      0.001      -0.611      -0.167\n",
      "np.log(Actifs)                     -0.3079      0.462     -0.666      0.505      -1.214       0.598\n",
      "np.log(Population_P_actif)          1.5735      0.491      3.202      0.001       0.610       2.537\n",
      "np.log(Naissances + 1)              0.2773      0.080      3.453      0.001       0.120       0.435\n",
      "np.log(Logements)                  -0.2136      0.102     -2.098      0.036      -0.413      -0.014\n",
      "==============================================================================\n",
      "Omnibus:                      112.384   Durbin-Watson:                   1.635\n",
      "Prob(Omnibus):                  0.000   Jarque-Bera (JB):              165.043\n",
      "Skew:                          -0.232   Prob(JB):                     1.45e-36\n",
      "Kurtosis:                       3.730   Cond. No.                     2.81e+03\n",
      "==============================================================================\n",
      "\n",
      "Notes:\n",
      "[1] Standard Errors are robust to cluster correlation (cluster)\n",
      "[2] The condition number is large, 2.81e+03. This might indicate that there are\n",
      "strong multicollinearity or other numerical problems.\n",
      "\n"
     ]
    }
   ],
   "source": [
    "reg = smf.ols(formula='np.log(Nb_doct_30km)~share_F+APL+np.log(Standardized_population)+gender+Fibre+np.log(Deces+1)+np.log(MED14)+np.log(Superficie)+np.log(Ménages)+np.log(Chomeurs)+np.log(Actifs)+np.log(Population_P_actif)+np.log(Naissances+1)+np.log(Logements)', data=dataFF_red_norm_gauss)\n",
    "results2 = reg.fit(cov_type='cluster', cov_kwds={'groups': dataFF_red_norm_gauss['codecommunecoordstructure3']})\n",
    "b = results2.params\n",
    "#print(f'b: \\n{b}\\n')\n",
    "\n",
    "# print results using summary:\n",
    "print(f'results.summary(): \\n{results2.summary()}\\n')"
   ]
  },
  {
   "cell_type": "code",
   "execution_count": 10,
   "metadata": {},
   "outputs": [
    {
     "name": "stdout",
     "output_type": "stream",
     "text": [
      "results.summary(): \n",
      "                             OLS Regression Results                             \n",
      "================================================================================\n",
      "Dep. Variable:     np.log(Nb_doct_30km)   R-squared:                       0.862\n",
      "Model:                              OLS   Adj. R-squared:                  0.862\n",
      "Method:                   Least Squares   F-statistic:                     572.9\n",
      "Date:                  Fri, 15 Nov 2024   Prob (F-statistic):               0.00\n",
      "Time:                          10:00:12   Log-Likelihood:                -4551.9\n",
      "No. Observations:                  5294   AIC:                             9132.\n",
      "Df Residuals:                      5280   BIC:                             9224.\n",
      "Df Model:                            13                                         \n",
      "Covariance Type:                cluster                                         \n",
      "===================================================================================================\n",
      "                                      coef    std err          z      P>|z|      [0.025      0.975]\n",
      "---------------------------------------------------------------------------------------------------\n",
      "Intercept                           5.6931      1.511      3.769      0.000       2.732       8.654\n",
      "share_F                             0.0620      0.074      0.843      0.399      -0.082       0.206\n",
      "APL                                 0.0782      0.017      4.675      0.000       0.045       0.111\n",
      "np.log(Standardized_population)    -1.1863      0.020    -58.623      0.000      -1.226      -1.147\n",
      "gender                              0.0059      0.016      0.360      0.719      -0.026       0.038\n",
      "np.log(Deces + 1)                  -0.1655      0.048     -3.473      0.001      -0.259      -0.072\n",
      "np.log(MED14)                       0.9724      0.178      5.474      0.000       0.624       1.321\n",
      "np.log(Superficie)                 -0.2424      0.031     -7.793      0.000      -0.303      -0.181\n",
      "np.log(Ménages)                    -0.3065      0.215     -1.427      0.154      -0.728       0.115\n",
      "np.log(Chomeurs)                   -0.3804      0.114     -3.335      0.001      -0.604      -0.157\n",
      "np.log(Actifs)                     -0.3248      0.457     -0.711      0.477      -1.220       0.570\n",
      "np.log(Population_P_actif)          1.5947      0.485      3.287      0.001       0.644       2.546\n",
      "np.log(Naissances + 1)              0.2735      0.080      3.398      0.001       0.116       0.431\n",
      "np.log(Logements)                  -0.2243      0.099     -2.259      0.024      -0.419      -0.030\n",
      "==============================================================================\n",
      "Omnibus:                      110.574   Durbin-Watson:                   1.636\n",
      "Prob(Omnibus):                  0.000   Jarque-Bera (JB):              164.032\n",
      "Skew:                          -0.226   Prob(JB):                     2.40e-36\n",
      "Kurtosis:                       3.735   Cond. No.                     2.80e+03\n",
      "==============================================================================\n",
      "\n",
      "Notes:\n",
      "[1] Standard Errors are robust to cluster correlation (cluster)\n",
      "[2] The condition number is large, 2.8e+03. This might indicate that there are\n",
      "strong multicollinearity or other numerical problems.\n",
      "\n"
     ]
    }
   ],
   "source": [
    "reg = smf.ols(formula='np.log(Nb_doct_30km)~share_F+APL+np.log(Standardized_population)+gender+np.log(Deces+1)+np.log(MED14)+np.log(Superficie)+np.log(Ménages)+np.log(Chomeurs)+np.log(Actifs)+np.log(Population_P_actif)+np.log(Naissances+1)+np.log(Logements)', data=dataFF_red_norm_gauss)\n",
    "results3 = reg.fit(cov_type='cluster', cov_kwds={'groups': dataFF_red_norm_gauss['codecommunecoordstructure3']})\n",
    "b = results3.params\n",
    "#print(f'b: \\n{b}\\n')\n",
    "\n",
    "# print results using summary:\n",
    "print(f'results.summary(): \\n{results3.summary()}\\n')"
   ]
  },
  {
   "cell_type": "code",
   "execution_count": 11,
   "metadata": {},
   "outputs": [
    {
     "name": "stderr",
     "output_type": "stream",
     "text": [
      "<>:7: SyntaxWarning: invalid escape sequence '\\s'\n",
      "<>:7: SyntaxWarning: invalid escape sequence '\\s'\n",
      "C:\\Users\\agath\\AppData\\Local\\Temp\\ipykernel_25324\\1605643667.py:7: SyntaxWarning: invalid escape sequence '\\s'\n",
      "  modstat={'nobs':'Obs','rsquared_adj':'Adj. R\\sym{2}','fvalue':'F-stat'}\n"
     ]
    }
   ],
   "source": [
    "#comparison of the three models\n",
    "pystout(models=[results1,results2,results3],\n",
    "        file='instrument.tex',\n",
    "        digits=2,\n",
    "        varlabels={'const':'Constant',\n",
    "                   'displacement':'Disp','mpg':'MPG'},\n",
    "        modstat={'nobs':'Obs','rsquared_adj':'Adj. R\\sym{2}','fvalue':'F-stat'}\n",
    "        )"
   ]
  },
  {
   "cell_type": "code",
   "execution_count": 12,
   "metadata": {},
   "outputs": [
    {
     "name": "stdout",
     "output_type": "stream",
     "text": [
      "results.summary(): \n",
      "                            OLS Regression Results                            \n",
      "==============================================================================\n",
      "Dep. Variable:                    sum   R-squared:                       0.055\n",
      "Model:                            OLS   Adj. R-squared:                  0.053\n",
      "Method:                 Least Squares   F-statistic:                     23.62\n",
      "Date:                Fri, 15 Nov 2024   Prob (F-statistic):           4.43e-56\n",
      "Time:                        10:00:12   Log-Likelihood:                -19096.\n",
      "No. Observations:                5294   AIC:                         3.822e+04\n",
      "Df Residuals:                    5280   BIC:                         3.831e+04\n",
      "Df Model:                          13                                         \n",
      "Covariance Type:            nonrobust                                         \n",
      "===================================================================================================\n",
      "                                      coef    std err          t      P>|t|      [0.025      0.975]\n",
      "---------------------------------------------------------------------------------------------------\n",
      "Intercept                         -64.4242     12.502     -5.153      0.000     -88.934     -39.914\n",
      "np.log(Nb_doct_30km)                1.0546      0.214      4.929      0.000       0.635       1.474\n",
      "share_F                            -0.3810      0.780     -0.488      0.625      -1.911       1.149\n",
      "APL                                 0.3286      0.118      2.776      0.006       0.097       0.561\n",
      "np.log(Standardized_population)     1.9570      0.290      6.744      0.000       1.388       2.526\n",
      "gender                             -1.0414      0.266     -3.921      0.000      -1.562      -0.521\n",
      "np.log(MED14)                       3.6279      1.446      2.508      0.012       0.792       6.464\n",
      "np.log(Superficie)                 -0.2557      0.172     -1.490      0.136      -0.592       0.081\n",
      "np.log(Ménages)                    -4.4479      1.277     -3.483      0.001      -6.952      -1.944\n",
      "np.log(Chomeurs)                    0.0735      0.748      0.098      0.922      -1.393       1.540\n",
      "np.log(Actifs)                      2.9923      2.716      1.102      0.271      -2.333       8.317\n",
      "np.log(Population_P_actif)         -0.8917      2.881     -0.310      0.757      -6.539       4.756\n",
      "np.log(Naissances + 1)             -0.2884      0.598     -0.482      0.630      -1.461       0.884\n",
      "np.log(Logements)                   2.4547      0.709      3.462      0.001       1.065       3.845\n",
      "==============================================================================\n",
      "Omnibus:                      406.277   Durbin-Watson:                   1.437\n",
      "Prob(Omnibus):                  0.000   Jarque-Bera (JB):             1813.927\n",
      "Skew:                           0.240   Prob(JB):                         0.00\n",
      "Kurtosis:                       5.827   Cond. No.                     2.89e+03\n",
      "==============================================================================\n",
      "\n",
      "Notes:\n",
      "[1] Standard Errors assume that the covariance matrix of the errors is correctly specified.\n",
      "[2] The condition number is large, 2.89e+03. This might indicate that there are\n",
      "strong multicollinearity or other numerical problems.\n",
      "\n"
     ]
    }
   ],
   "source": [
    "reg = smf.ols(formula='np.log(Nb_doct_D_30km)~share_F+APL+np.log(Standardized_population)+gender+Fibre+np.log(MED14)+np.log(Superficie)+np.log(Ménages)+np.log(Chomeurs)+np.log(Actifs)+np.log(Population_P_actif)+np.log(Naissances+1)+np.log(Logements)', data=dataFF_red_norm_gauss)\n",
    "resultsD1 = reg.fit(cov_type='cluster', cov_kwds={'groups': dataFF_red_norm_gauss['codecommunecoordstructure3']})\n",
    "b = resultsD1.params\n",
    "#print(f'b: \\n{b}\\n')\n",
    "\n",
    "# print results using summary:\n",
    "print(f'results.summary(): \\n{results.summary()}\\n')"
   ]
  },
  {
   "cell_type": "code",
   "execution_count": 13,
   "metadata": {},
   "outputs": [
    {
     "name": "stdout",
     "output_type": "stream",
     "text": [
      "results.summary(): \n",
      "                            OLS Regression Results                            \n",
      "==============================================================================\n",
      "Dep. Variable:                    sum   R-squared:                       0.055\n",
      "Model:                            OLS   Adj. R-squared:                  0.053\n",
      "Method:                 Least Squares   F-statistic:                     23.62\n",
      "Date:                Fri, 15 Nov 2024   Prob (F-statistic):           4.43e-56\n",
      "Time:                        10:00:12   Log-Likelihood:                -19096.\n",
      "No. Observations:                5294   AIC:                         3.822e+04\n",
      "Df Residuals:                    5280   BIC:                         3.831e+04\n",
      "Df Model:                          13                                         \n",
      "Covariance Type:            nonrobust                                         \n",
      "===================================================================================================\n",
      "                                      coef    std err          t      P>|t|      [0.025      0.975]\n",
      "---------------------------------------------------------------------------------------------------\n",
      "Intercept                         -64.4242     12.502     -5.153      0.000     -88.934     -39.914\n",
      "np.log(Nb_doct_30km)                1.0546      0.214      4.929      0.000       0.635       1.474\n",
      "share_F                            -0.3810      0.780     -0.488      0.625      -1.911       1.149\n",
      "APL                                 0.3286      0.118      2.776      0.006       0.097       0.561\n",
      "np.log(Standardized_population)     1.9570      0.290      6.744      0.000       1.388       2.526\n",
      "gender                             -1.0414      0.266     -3.921      0.000      -1.562      -0.521\n",
      "np.log(MED14)                       3.6279      1.446      2.508      0.012       0.792       6.464\n",
      "np.log(Superficie)                 -0.2557      0.172     -1.490      0.136      -0.592       0.081\n",
      "np.log(Ménages)                    -4.4479      1.277     -3.483      0.001      -6.952      -1.944\n",
      "np.log(Chomeurs)                    0.0735      0.748      0.098      0.922      -1.393       1.540\n",
      "np.log(Actifs)                      2.9923      2.716      1.102      0.271      -2.333       8.317\n",
      "np.log(Population_P_actif)         -0.8917      2.881     -0.310      0.757      -6.539       4.756\n",
      "np.log(Naissances + 1)             -0.2884      0.598     -0.482      0.630      -1.461       0.884\n",
      "np.log(Logements)                   2.4547      0.709      3.462      0.001       1.065       3.845\n",
      "==============================================================================\n",
      "Omnibus:                      406.277   Durbin-Watson:                   1.437\n",
      "Prob(Omnibus):                  0.000   Jarque-Bera (JB):             1813.927\n",
      "Skew:                           0.240   Prob(JB):                         0.00\n",
      "Kurtosis:                       5.827   Cond. No.                     2.89e+03\n",
      "==============================================================================\n",
      "\n",
      "Notes:\n",
      "[1] Standard Errors assume that the covariance matrix of the errors is correctly specified.\n",
      "[2] The condition number is large, 2.89e+03. This might indicate that there are\n",
      "strong multicollinearity or other numerical problems.\n",
      "\n"
     ]
    }
   ],
   "source": [
    "reg = smf.ols(formula='np.log(Nb_doct_D_30km)~share_F+APL+np.log(Standardized_population)+gender+Fibre+np.log(Deces+1)+np.log(MED14)+np.log(Superficie)+np.log(Ménages)+np.log(Chomeurs)+np.log(Actifs)+np.log(Population_P_actif)+np.log(Naissances+1)+np.log(Logements)', data=dataFF_red_norm_gauss)\n",
    "resultsD2 = reg.fit(cov_type='cluster', cov_kwds={'groups': dataFF_red_norm_gauss['codecommunecoordstructure3']})\n",
    "b = resultsD2.params\n",
    "#print(f'b: \\n{b}\\n')\n",
    "\n",
    "# print results using summary:\n",
    "print(f'results.summary(): \\n{results.summary()}\\n')"
   ]
  },
  {
   "cell_type": "code",
   "execution_count": 14,
   "metadata": {},
   "outputs": [
    {
     "name": "stdout",
     "output_type": "stream",
     "text": [
      "results.summary(): \n",
      "                            OLS Regression Results                            \n",
      "==============================================================================\n",
      "Dep. Variable:                    sum   R-squared:                       0.055\n",
      "Model:                            OLS   Adj. R-squared:                  0.053\n",
      "Method:                 Least Squares   F-statistic:                     23.62\n",
      "Date:                Fri, 15 Nov 2024   Prob (F-statistic):           4.43e-56\n",
      "Time:                        10:00:12   Log-Likelihood:                -19096.\n",
      "No. Observations:                5294   AIC:                         3.822e+04\n",
      "Df Residuals:                    5280   BIC:                         3.831e+04\n",
      "Df Model:                          13                                         \n",
      "Covariance Type:            nonrobust                                         \n",
      "===================================================================================================\n",
      "                                      coef    std err          t      P>|t|      [0.025      0.975]\n",
      "---------------------------------------------------------------------------------------------------\n",
      "Intercept                         -64.4242     12.502     -5.153      0.000     -88.934     -39.914\n",
      "np.log(Nb_doct_30km)                1.0546      0.214      4.929      0.000       0.635       1.474\n",
      "share_F                            -0.3810      0.780     -0.488      0.625      -1.911       1.149\n",
      "APL                                 0.3286      0.118      2.776      0.006       0.097       0.561\n",
      "np.log(Standardized_population)     1.9570      0.290      6.744      0.000       1.388       2.526\n",
      "gender                             -1.0414      0.266     -3.921      0.000      -1.562      -0.521\n",
      "np.log(MED14)                       3.6279      1.446      2.508      0.012       0.792       6.464\n",
      "np.log(Superficie)                 -0.2557      0.172     -1.490      0.136      -0.592       0.081\n",
      "np.log(Ménages)                    -4.4479      1.277     -3.483      0.001      -6.952      -1.944\n",
      "np.log(Chomeurs)                    0.0735      0.748      0.098      0.922      -1.393       1.540\n",
      "np.log(Actifs)                      2.9923      2.716      1.102      0.271      -2.333       8.317\n",
      "np.log(Population_P_actif)         -0.8917      2.881     -0.310      0.757      -6.539       4.756\n",
      "np.log(Naissances + 1)             -0.2884      0.598     -0.482      0.630      -1.461       0.884\n",
      "np.log(Logements)                   2.4547      0.709      3.462      0.001       1.065       3.845\n",
      "==============================================================================\n",
      "Omnibus:                      406.277   Durbin-Watson:                   1.437\n",
      "Prob(Omnibus):                  0.000   Jarque-Bera (JB):             1813.927\n",
      "Skew:                           0.240   Prob(JB):                         0.00\n",
      "Kurtosis:                       5.827   Cond. No.                     2.89e+03\n",
      "==============================================================================\n",
      "\n",
      "Notes:\n",
      "[1] Standard Errors assume that the covariance matrix of the errors is correctly specified.\n",
      "[2] The condition number is large, 2.89e+03. This might indicate that there are\n",
      "strong multicollinearity or other numerical problems.\n",
      "\n"
     ]
    }
   ],
   "source": [
    "reg = smf.ols(formula='np.log(Nb_doct_D_30km)~share_F+APL+np.log(Standardized_population)+gender+np.log(Deces+1)+np.log(MED14)+np.log(Superficie)+np.log(Ménages)+np.log(Chomeurs)+np.log(Actifs)+np.log(Population_P_actif)+np.log(Naissances+1)+np.log(Logements)', data=dataFF_red_norm_gauss)\n",
    "resultsD3 = reg.fit(cov_type='cluster', cov_kwds={'groups': dataFF_red_norm_gauss['codecommunecoordstructure3']})\n",
    "b = resultsD3.params\n",
    "#print(f'b: \\n{b}\\n')\n",
    "\n",
    "# print results using summary:\n",
    "print(f'results.summary(): \\n{results.summary()}\\n')"
   ]
  },
  {
   "cell_type": "code",
   "execution_count": 15,
   "metadata": {},
   "outputs": [
    {
     "name": "stderr",
     "output_type": "stream",
     "text": [
      "<>:7: SyntaxWarning: invalid escape sequence '\\s'\n",
      "<>:7: SyntaxWarning: invalid escape sequence '\\s'\n",
      "C:\\Users\\agath\\AppData\\Local\\Temp\\ipykernel_25324\\873018083.py:7: SyntaxWarning: invalid escape sequence '\\s'\n",
      "  modstat={'nobs':'Obs','rsquared_adj':'Adj. R\\sym{2}','fvalue':'F-stat'}\n"
     ]
    }
   ],
   "source": [
    "#comparison of the three models\n",
    "pystout(models=[resultsD1,resultsD2,resultsD3],\n",
    "        file='instrumentD.tex',\n",
    "        digits=2,\n",
    "        varlabels={'const':'Constant',\n",
    "                   'displacement':'Disp','mpg':'MPG'},\n",
    "        modstat={'nobs':'Obs','rsquared_adj':'Adj. R\\sym{2}','fvalue':'F-stat'}\n",
    "        )"
   ]
  },
  {
   "cell_type": "markdown",
   "metadata": {},
   "source": [
    "# Step 3 : We run final regressions"
   ]
  },
  {
   "cell_type": "code",
   "execution_count": 16,
   "metadata": {},
   "outputs": [
    {
     "name": "stdout",
     "output_type": "stream",
     "text": [
      "results.summary(): \n",
      "                            OLS Regression Results                            \n",
      "==============================================================================\n",
      "Dep. Variable:                    sum   R-squared:                       0.055\n",
      "Model:                            OLS   Adj. R-squared:                  0.053\n",
      "Method:                 Least Squares   F-statistic:                     23.81\n",
      "Date:                Fri, 15 Nov 2024   Prob (F-statistic):           4.57e-54\n",
      "Time:                        10:00:12   Log-Likelihood:                -19096.\n",
      "No. Observations:                5294   AIC:                         3.822e+04\n",
      "Df Residuals:                    5280   BIC:                         3.831e+04\n",
      "Df Model:                          13                                         \n",
      "Covariance Type:              cluster                                         \n",
      "===================================================================================================\n",
      "                                      coef    std err          z      P>|z|      [0.025      0.975]\n",
      "---------------------------------------------------------------------------------------------------\n",
      "Intercept                         -64.4242     14.555     -4.426      0.000     -92.952     -35.896\n",
      "np.log(Nb_doct_30km)                1.0546      0.223      4.735      0.000       0.618       1.491\n",
      "share_F                            -0.3810      0.768     -0.496      0.620      -1.887       1.125\n",
      "APL                                 0.3286      0.125      2.619      0.009       0.083       0.575\n",
      "np.log(Standardized_population)     1.9570      0.337      5.808      0.000       1.297       2.617\n",
      "gender                             -1.0414      0.399     -2.612      0.009      -1.823      -0.260\n",
      "np.log(MED14)                       3.6279      1.690      2.147      0.032       0.316       6.940\n",
      "np.log(Superficie)                 -0.2557      0.193     -1.322      0.186      -0.635       0.123\n",
      "np.log(Ménages)                    -4.4479      1.287     -3.456      0.001      -6.970      -1.925\n",
      "np.log(Chomeurs)                    0.0735      0.758      0.097      0.923      -1.412       1.559\n",
      "np.log(Actifs)                      2.9923      2.756      1.086      0.278      -2.409       8.393\n",
      "np.log(Population_P_actif)         -0.8917      3.012     -0.296      0.767      -6.795       5.012\n",
      "np.log(Naissances + 1)             -0.2884      0.600     -0.481      0.631      -1.465       0.888\n",
      "np.log(Logements)                   2.4547      0.727      3.378      0.001       1.031       3.879\n",
      "==============================================================================\n",
      "Omnibus:                      406.277   Durbin-Watson:                   1.437\n",
      "Prob(Omnibus):                  0.000   Jarque-Bera (JB):             1813.927\n",
      "Skew:                           0.240   Prob(JB):                         0.00\n",
      "Kurtosis:                       5.827   Cond. No.                     2.89e+03\n",
      "==============================================================================\n",
      "\n",
      "Notes:\n",
      "[1] Standard Errors are robust to cluster correlation (cluster)\n",
      "[2] The condition number is large, 2.89e+03. This might indicate that there are\n",
      "strong multicollinearity or other numerical problems.\n",
      "\n"
     ]
    }
   ],
   "source": [
    "reg = smf.ols(formula='sum~np.log(Nb_doct_30km)+share_F+APL+np.log(Standardized_population)+gender+np.log(MED14)+np.log(Superficie)+np.log(Ménages)+np.log(Chomeurs)+np.log(Actifs)+np.log(Population_P_actif)+np.log(Naissances+1)+np.log(Logements)', data=dataFF_red_norm_gauss)\n",
    "OLS_model = reg.fit(cov_type='cluster', cov_kwds={'groups': dataFF_red_norm_gauss['codecommunecoordstructure3']})\n",
    "b = OLS_model.params\n",
    "#print(f'b: \\n{b}\\n')\n",
    "\n",
    "# print results using summary:\n",
    "print(f'results.summary(): \\n{OLS_model.summary()}\\n')"
   ]
  },
  {
   "cell_type": "code",
   "execution_count": 17,
   "metadata": {},
   "outputs": [
    {
     "name": "stdout",
     "output_type": "stream",
     "text": [
      "                          IV-2SLS Estimation Summary                          \n",
      "==============================================================================\n",
      "Dep. Variable:                    sum   R-squared:                     -0.0243\n",
      "Estimator:                    IV-2SLS   Adj. R-squared:                -0.0269\n",
      "No. Observations:                5294   F-statistic:                    191.10\n",
      "Date:                Fri, Nov 15 2024   P-value (F-stat)                0.0000\n",
      "Time:                        10:00:13   Distribution:                 chi2(13)\n",
      "Cov. Estimator:             clustered                                         \n",
      "                                                                              \n",
      "                                        Parameter Estimates                                        \n",
      "===================================================================================================\n",
      "                                 Parameter  Std. Err.     T-stat    P-value    Lower CI    Upper CI\n",
      "---------------------------------------------------------------------------------------------------\n",
      "Intercept                          -90.415     23.372    -3.8685     0.0001     -136.22     -44.606\n",
      "share_F                            -0.7261     0.8879    -0.8178     0.4135     -2.4663      1.0141\n",
      "APL                                -0.0400     0.2668    -0.1500     0.8808     -0.5630      0.4829\n",
      "np.log(Standardized_population)     7.2865     3.3546     2.1721     0.0299      0.7115      13.861\n",
      "gender                             -1.0770     0.3930    -2.7404     0.0061     -1.8473     -0.3067\n",
      "np.log(MED14)                      -0.9366     3.3720    -0.2778     0.7812     -7.5457      5.6724\n",
      "np.log(Superficie)                  0.8973     0.7441     1.2060     0.2278     -0.5610      2.3557\n",
      "np.log(Ménages)                    -1.9819     2.2352    -0.8867     0.3752     -6.3628      2.3989\n",
      "np.log(Chomeurs)                    1.8436     1.4797     1.2459     0.2128     -1.0566      4.7438\n",
      "np.log(Actifs)                      3.6452     3.6649     0.9946     0.3199     -3.5380      10.828\n",
      "np.log(Population_P_actif)         -7.8122     6.0168    -1.2984     0.1942     -19.605      3.9805\n",
      "np.log(Naissances + 1)             -1.5261     1.0825    -1.4098     0.1586     -3.6478      0.5955\n",
      "np.log(Logements)                   3.5542     1.1660     3.0481     0.0023      1.2688      5.8395\n",
      "np.log(Nb_doct_30km)                5.5579     2.8281     1.9653     0.0494      0.0150      11.101\n",
      "===================================================================================================\n",
      "\n",
      "Endogenous: np.log(Nb_doct_30km)\n",
      "Instruments: np.log(Deces + 1)\n",
      "Clustered Covariance (One-Way)\n",
      "Debiased: False\n",
      "Num Clusters: 2058\n"
     ]
    }
   ],
   "source": [
    "iv_model = iv.IV2SLS.from_formula(formula=' sum ~ 1 + [np.log(Nb_doct_30km) ~ np.log(Deces+1)] +share_F+APL+np.log(Standardized_population)+gender+np.log(MED14)+np.log(Superficie)+np.log(Ménages)+np.log(Chomeurs)+np.log(Actifs)+np.log(Population_P_actif)+np.log(Naissances+1)+np.log(Logements)', data=dataFF_red_norm_gauss).fit(cov_type='clustered', clusters=dataFF_red_norm_gauss['codecommunecoordstructure3'])\n",
    "# print regression table:\n",
    "print(iv_model)"
   ]
  },
  {
   "cell_type": "code",
   "execution_count": 18,
   "metadata": {},
   "outputs": [
    {
     "name": "stderr",
     "output_type": "stream",
     "text": [
      "<>:8: SyntaxWarning: invalid escape sequence '\\s'\n",
      "<>:8: SyntaxWarning: invalid escape sequence '\\s'\n",
      "C:\\Users\\agath\\AppData\\Local\\Temp\\ipykernel_25324\\2263582541.py:8: SyntaxWarning: invalid escape sequence '\\s'\n",
      "  modstat={'nobs':'Obs','rsquared_adj':'Adj. R\\sym{2}','fvalue':'F-stat'}\n"
     ]
    }
   ],
   "source": [
    "pystout(models=[OLS_model, iv_model],\n",
    "        file='test_final.tex',\n",
    "        addnotes=['Note above','Note below'],\n",
    "        digits=2,\n",
    "        endog_names=['OLS', '2SLS'],\n",
    "        varlabels={'const':'Constant',\n",
    "                   'displacement':'Disp','mpg':'MPG'},\n",
    "        modstat={'nobs':'Obs','rsquared_adj':'Adj. R\\sym{2}','fvalue':'F-stat'}\n",
    "        )"
   ]
  },
  {
   "cell_type": "code",
   "execution_count": 19,
   "metadata": {},
   "outputs": [
    {
     "name": "stdout",
     "output_type": "stream",
     "text": [
      "results.summary(): \n",
      "                            OLS Regression Results                            \n",
      "==============================================================================\n",
      "Dep. Variable:                    sum   R-squared:                       0.055\n",
      "Model:                            OLS   Adj. R-squared:                  0.053\n",
      "Method:                 Least Squares   F-statistic:                     23.62\n",
      "Date:                Fri, 15 Nov 2024   Prob (F-statistic):           4.43e-56\n",
      "Time:                        10:00:13   Log-Likelihood:                -19096.\n",
      "No. Observations:                5294   AIC:                         3.822e+04\n",
      "Df Residuals:                    5280   BIC:                         3.831e+04\n",
      "Df Model:                          13                                         \n",
      "Covariance Type:            nonrobust                                         \n",
      "===================================================================================================\n",
      "                                      coef    std err          t      P>|t|      [0.025      0.975]\n",
      "---------------------------------------------------------------------------------------------------\n",
      "Intercept                         -64.4242     12.502     -5.153      0.000     -88.934     -39.914\n",
      "np.log(Nb_doct_30km)                1.0546      0.214      4.929      0.000       0.635       1.474\n",
      "share_F                            -0.3810      0.780     -0.488      0.625      -1.911       1.149\n",
      "APL                                 0.3286      0.118      2.776      0.006       0.097       0.561\n",
      "np.log(Standardized_population)     1.9570      0.290      6.744      0.000       1.388       2.526\n",
      "gender                             -1.0414      0.266     -3.921      0.000      -1.562      -0.521\n",
      "np.log(MED14)                       3.6279      1.446      2.508      0.012       0.792       6.464\n",
      "np.log(Superficie)                 -0.2557      0.172     -1.490      0.136      -0.592       0.081\n",
      "np.log(Ménages)                    -4.4479      1.277     -3.483      0.001      -6.952      -1.944\n",
      "np.log(Chomeurs)                    0.0735      0.748      0.098      0.922      -1.393       1.540\n",
      "np.log(Actifs)                      2.9923      2.716      1.102      0.271      -2.333       8.317\n",
      "np.log(Population_P_actif)         -0.8917      2.881     -0.310      0.757      -6.539       4.756\n",
      "np.log(Naissances + 1)             -0.2884      0.598     -0.482      0.630      -1.461       0.884\n",
      "np.log(Logements)                   2.4547      0.709      3.462      0.001       1.065       3.845\n",
      "==============================================================================\n",
      "Omnibus:                      406.277   Durbin-Watson:                   1.437\n",
      "Prob(Omnibus):                  0.000   Jarque-Bera (JB):             1813.927\n",
      "Skew:                           0.240   Prob(JB):                         0.00\n",
      "Kurtosis:                       5.827   Cond. No.                     2.89e+03\n",
      "==============================================================================\n",
      "\n",
      "Notes:\n",
      "[1] Standard Errors assume that the covariance matrix of the errors is correctly specified.\n",
      "[2] The condition number is large, 2.89e+03. This might indicate that there are\n",
      "strong multicollinearity or other numerical problems.\n",
      "\n"
     ]
    }
   ],
   "source": [
    "reg = smf.ols(formula='sum~np.log(Nb_doct_D_30km)+share_F+APL+np.log(Standardized_population)+gender+np.log(MED14)+np.log(Superficie)+np.log(Ménages)+np.log(Chomeurs)+np.log(Actifs)+np.log(Population_P_actif)+np.log(Naissances+1)+np.log(Logements)', data=dataFF_red_norm_gauss)\n",
    "OLS_modelD = reg.fit(cov_type='cluster', cov_kwds={'groups': dataFF_red_norm_gauss['codecommunecoordstructure3']})\n",
    "b = OLS_modelD.params\n",
    "#print(f'b: \\n{b}\\n')\n",
    "\n",
    "# print results using summary:\n",
    "print(f'results.summary(): \\n{results.summary()}\\n')"
   ]
  },
  {
   "cell_type": "code",
   "execution_count": 20,
   "metadata": {},
   "outputs": [
    {
     "name": "stdout",
     "output_type": "stream",
     "text": [
      "                          IV-2SLS Estimation Summary                          \n",
      "==============================================================================\n",
      "Dep. Variable:                    sum   R-squared:                     -0.0294\n",
      "Estimator:                    IV-2SLS   Adj. R-squared:                -0.0320\n",
      "No. Observations:                5294   F-statistic:                    197.33\n",
      "Date:                Fri, Nov 15 2024   P-value (F-stat)                0.0000\n",
      "Time:                        10:00:13   Distribution:                 chi2(13)\n",
      "Cov. Estimator:             clustered                                         \n",
      "                                                                              \n",
      "                                        Parameter Estimates                                        \n",
      "===================================================================================================\n",
      "                                 Parameter  Std. Err.     T-stat    P-value    Lower CI    Upper CI\n",
      "---------------------------------------------------------------------------------------------------\n",
      "Intercept                          -62.587     16.270    -3.8467     0.0001     -94.476     -30.698\n",
      "share_F                            -0.7602     0.9034    -0.8415     0.4000     -2.5308      1.0104\n",
      "APL                                 0.0962     0.2207     0.4358     0.6630     -0.3363      0.5287\n",
      "np.log(Standardized_population)     6.2763     3.0654     2.0475     0.0406      0.2683      12.284\n",
      "gender                             -0.9450     0.4065    -2.3246     0.0201     -1.7417     -0.1482\n",
      "np.log(MED14)                      -1.4676     3.8783    -0.3784     0.7051     -9.0689      6.1338\n",
      "np.log(Superficie)                  1.1441     0.9199     1.2437     0.2136     -0.6589      2.9472\n",
      "np.log(Ménages)                    -1.0121     3.1792    -0.3184     0.7502     -7.2431      5.2190\n",
      "np.log(Chomeurs)                    1.1548     1.1692     0.9877     0.3233     -1.1368      3.4465\n",
      "np.log(Actifs)                      1.3328     3.3471     0.3982     0.6905     -5.2275      7.8931\n",
      "np.log(Population_P_actif)         -4.7548     4.7007    -1.0115     0.3118     -13.968      4.4583\n",
      "np.log(Naissances + 1)             -1.8382     1.2489    -1.4719     0.1410     -4.2860      0.6095\n",
      "np.log(Logements)                   3.1466     1.0180     3.0909     0.0020      1.1513      5.1418\n",
      "np.log(Nb_doct_D_30km)              4.8335     2.6601     1.8170     0.0692     -0.3803      10.047\n",
      "===================================================================================================\n",
      "\n",
      "Endogenous: np.log(Nb_doct_D_30km)\n",
      "Instruments: np.log(Deces + 1)\n",
      "Clustered Covariance (One-Way)\n",
      "Debiased: False\n",
      "Num Clusters: 2058\n"
     ]
    }
   ],
   "source": [
    "iv_modelD = iv.IV2SLS.from_formula(formula=' sum ~ 1 + [np.log(Nb_doct_D_30km) ~ np.log(Deces+1)] +share_F+APL+np.log(Standardized_population)+gender+np.log(MED14)+np.log(Superficie)+np.log(Ménages)+np.log(Chomeurs)+np.log(Actifs)+np.log(Population_P_actif)+np.log(Naissances+1)+np.log(Logements)', data=dataFF_red_norm_gauss).fit(cov_type='clustered', clusters=dataFF_red_norm_gauss['codecommunecoordstructure3'])\n",
    "# print regression table:\n",
    "print(iv_modelD)"
   ]
  },
  {
   "cell_type": "code",
   "execution_count": 21,
   "metadata": {},
   "outputs": [
    {
     "name": "stderr",
     "output_type": "stream",
     "text": [
      "<>:8: SyntaxWarning: invalid escape sequence '\\s'\n",
      "<>:8: SyntaxWarning: invalid escape sequence '\\s'\n",
      "C:\\Users\\agath\\AppData\\Local\\Temp\\ipykernel_25324\\1847644190.py:8: SyntaxWarning: invalid escape sequence '\\s'\n",
      "  modstat={'nobs':'Obs','rsquared_adj':'Adj. R\\sym{2}','fvalue':'F-stat'}\n"
     ]
    }
   ],
   "source": [
    "pystout(models=[OLS_modelD, iv_modelD],\n",
    "        file='test_finalD.tex',\n",
    "        addnotes=['Note above','Note below'],\n",
    "        digits=2,\n",
    "        endog_names=['OLS', '2SLS'],\n",
    "        varlabels={'const':'Constant',\n",
    "                   'displacement':'Disp','mpg':'MPG'},\n",
    "        modstat={'nobs':'Obs','rsquared_adj':'Adj. R\\sym{2}','fvalue':'F-stat'}\n",
    "        )"
   ]
  },
  {
   "cell_type": "code",
   "execution_count": 22,
   "metadata": {},
   "outputs": [
    {
     "name": "stdout",
     "output_type": "stream",
     "text": [
      "results.summary(): \n",
      "                            OLS Regression Results                            \n",
      "==============================================================================\n",
      "Dep. Variable:                    sum   R-squared:                       0.055\n",
      "Model:                            OLS   Adj. R-squared:                  0.053\n",
      "Method:                 Least Squares   F-statistic:                     23.61\n",
      "Date:                Fri, 15 Nov 2024   Prob (F-statistic):           1.38e-53\n",
      "Time:                        10:00:13   Log-Likelihood:                -19097.\n",
      "No. Observations:                5294   AIC:                         3.822e+04\n",
      "Df Residuals:                    5280   BIC:                         3.831e+04\n",
      "Df Model:                          13                                         \n",
      "Covariance Type:              cluster                                         \n",
      "===================================================================================================\n",
      "                                      coef    std err          z      P>|z|      [0.025      0.975]\n",
      "---------------------------------------------------------------------------------------------------\n",
      "Intercept                         -63.3075     14.519     -4.360      0.000     -91.765     -34.850\n",
      "np.log(same_gender_30km)            1.0234      0.215      4.764      0.000       0.602       1.444\n",
      "gender                             -1.1150      0.404     -2.759      0.006      -1.907      -0.323\n",
      "share_F                            -0.3038      0.774     -0.393      0.695      -1.820       1.213\n",
      "APL                                 0.3283      0.126      2.607      0.009       0.081       0.575\n",
      "np.log(Standardized_population)     1.9172      0.324      5.916      0.000       1.282       2.552\n",
      "np.log(MED14)                       3.6365      1.691      2.150      0.032       0.321       6.952\n",
      "np.log(Superficie)                 -0.2626      0.192     -1.369      0.171      -0.639       0.113\n",
      "np.log(Ménages)                    -4.4684      1.287     -3.473      0.001      -6.990      -1.946\n",
      "np.log(Chomeurs)                    0.0453      0.757      0.060      0.952      -1.438       1.529\n",
      "np.log(Actifs)                      2.9468      2.750      1.071      0.284      -2.444       8.338\n",
      "np.log(Population_P_actif)         -0.7998      3.005     -0.266      0.790      -6.689       5.089\n",
      "np.log(Naissances + 1)             -0.2721      0.599     -0.454      0.650      -1.446       0.902\n",
      "np.log(Logements)                   2.4567      0.725      3.390      0.001       1.036       3.877\n",
      "==============================================================================\n",
      "Omnibus:                      405.038   Durbin-Watson:                   1.436\n",
      "Prob(Omnibus):                  0.000   Jarque-Bera (JB):             1808.734\n",
      "Skew:                           0.238   Prob(JB):                         0.00\n",
      "Kurtosis:                       5.824   Cond. No.                     2.86e+03\n",
      "==============================================================================\n",
      "\n",
      "Notes:\n",
      "[1] Standard Errors are robust to cluster correlation (cluster)\n",
      "[2] The condition number is large, 2.86e+03. This might indicate that there are\n",
      "strong multicollinearity or other numerical problems.\n",
      "\n"
     ]
    }
   ],
   "source": [
    "reg = smf.ols(formula='sum~np.log(same_gender_30km)+gender+share_F+APL+np.log(Standardized_population)+gender+np.log(MED14)+np.log(Superficie)+np.log(Ménages)+np.log(Chomeurs)+np.log(Actifs)+np.log(Population_P_actif)+np.log(Naissances+1)+np.log(Logements)', data=dataFF_red_norm_gauss)\n",
    "OLS_modelSX = reg.fit(cov_type='cluster', cov_kwds={'groups': dataFF_red_norm_gauss['codecommunecoordstructure3']})\n",
    "b = OLS_modelSX.params\n",
    "#print(f'b: \\n{b}\\n')\n",
    "\n",
    "# print results using summary:\n",
    "print(f'results.summary(): \\n{OLS_modelSX.summary()}\\n')"
   ]
  },
  {
   "cell_type": "code",
   "execution_count": 23,
   "metadata": {},
   "outputs": [
    {
     "name": "stdout",
     "output_type": "stream",
     "text": [
      "                          IV-2SLS Estimation Summary                          \n",
      "==============================================================================\n",
      "Dep. Variable:                    sum   R-squared:                     -0.0381\n",
      "Estimator:                    IV-2SLS   Adj. R-squared:                -0.0407\n",
      "No. Observations:                5294   F-statistic:                    179.31\n",
      "Date:                Fri, Nov 15 2024   P-value (F-stat)                0.0000\n",
      "Time:                        10:00:14   Distribution:                 chi2(13)\n",
      "Cov. Estimator:             clustered                                         \n",
      "                                                                              \n",
      "                                        Parameter Estimates                                        \n",
      "===================================================================================================\n",
      "                                 Parameter  Std. Err.     T-stat    P-value    Lower CI    Upper CI\n",
      "---------------------------------------------------------------------------------------------------\n",
      "Intercept                          -86.568     22.240    -3.8925     0.0001     -130.16     -42.979\n",
      "gender                             -1.4988     0.4900    -3.0584     0.0022     -2.4592     -0.5383\n",
      "share_F                            -0.3206     0.8962    -0.3578     0.7205     -2.0772      1.4359\n",
      "APL                                -0.0773     0.2865    -0.2697     0.7874     -0.6388      0.4843\n",
      "np.log(Standardized_population)     7.5721     3.5324     2.1436     0.0321      0.6488      14.495\n",
      "np.log(MED14)                      -1.3265     3.5705    -0.3715     0.7102     -8.3246      5.6715\n",
      "np.log(Superficie)                  0.9686     0.7852     1.2335     0.2174     -0.5704      2.5077\n",
      "np.log(Ménages)                    -1.8613     2.3235    -0.8011     0.4231     -6.4153      2.6927\n",
      "np.log(Chomeurs)                    1.8537     1.4980     1.2374     0.2159     -1.0824      4.7898\n",
      "np.log(Actifs)                      3.4492     3.7172     0.9279     0.3535     -3.8363      10.735\n",
      "np.log(Population_P_actif)         -7.9552     6.1480    -1.2940     0.1957     -20.005      4.0946\n",
      "np.log(Naissances + 1)             -1.5526     1.1062    -1.4036     0.1605     -3.7207      0.6155\n",
      "np.log(Logements)                   3.6713     1.2134     3.0257     0.0025      1.2931      6.0495\n",
      "np.log(same_gender_30km)            5.8133     2.9859     1.9469     0.0515     -0.0389      11.666\n",
      "===================================================================================================\n",
      "\n",
      "Endogenous: np.log(same_gender_30km)\n",
      "Instruments: np.log(Deces + 1)\n",
      "Clustered Covariance (One-Way)\n",
      "Debiased: False\n",
      "Num Clusters: 2058\n"
     ]
    }
   ],
   "source": [
    "iv_modelSX = iv.IV2SLS.from_formula(formula=' sum ~ 1 + [np.log(same_gender_30km) ~ np.log(Deces+1)] +gender+share_F+APL+np.log(Standardized_population)+gender+np.log(MED14)+np.log(Superficie)+np.log(Ménages)+np.log(Chomeurs)+np.log(Actifs)+np.log(Population_P_actif)+np.log(Naissances+1)+np.log(Logements)', data=dataFF_red_norm_gauss).fit(cov_type='clustered', clusters=dataFF_red_norm_gauss['codecommunecoordstructure3'])\n",
    "# print regression table:\n",
    "print(iv_modelSX)"
   ]
  },
  {
   "cell_type": "code",
   "execution_count": 60,
   "metadata": {},
   "outputs": [
    {
     "name": "stderr",
     "output_type": "stream",
     "text": [
      "<>:8: SyntaxWarning: invalid escape sequence '\\s'\n",
      "<>:8: SyntaxWarning: invalid escape sequence '\\s'\n",
      "C:\\Users\\agath\\AppData\\Local\\Temp\\ipykernel_37524\\2678750560.py:8: SyntaxWarning: invalid escape sequence '\\s'\n",
      "  modstat={'nobs':'Obs','rsquared_adj':'Adj. R\\sym{2}','fvalue':'F-stat'}\n"
     ]
    }
   ],
   "source": [
    "pystout(models=[OLS_modelSX, iv_modelSX],\n",
    "        file='test_finalSX.tex',\n",
    "        addnotes=['',''],\n",
    "        digits=2,\n",
    "        endog_names=['OLS', '2SLS'],\n",
    "        varlabels={'const':'Constant',\n",
    "                   'displacement':'Disp','mpg':'MPG'},\n",
    "        modstat={'nobs':'Obs','rsquared_adj':'Adj. R\\sym{2}','fvalue':'F-stat'}\n",
    "        )"
   ]
  }
 ],
 "metadata": {
  "kernelspec": {
   "display_name": "base",
   "language": "python",
   "name": "python3"
  },
  "language_info": {
   "codemirror_mode": {
    "name": "ipython",
    "version": 3
   },
   "file_extension": ".py",
   "mimetype": "text/x-python",
   "name": "python",
   "nbconvert_exporter": "python",
   "pygments_lexer": "ipython3",
   "version": "3.12.2"
  }
 },
 "nbformat": 4,
 "nbformat_minor": 2
}
