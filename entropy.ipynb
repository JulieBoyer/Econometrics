{
 "cells": [
  {
   "cell_type": "code",
   "execution_count": 39,
   "metadata": {},
   "outputs": [],
   "source": [
    "import numpy as np\n",
    "from scipy.stats import entropy\n",
    "from math import log, e\n",
    "import pandas as pd\n",
    "import math"
   ]
  },
  {
   "cell_type": "code",
   "execution_count": 74,
   "metadata": {},
   "outputs": [],
   "source": [
    "medecin_gen = pd.read_csv('medecin_gen.csv')"
   ]
  },
  {
   "cell_type": "code",
   "execution_count": 41,
   "metadata": {},
   "outputs": [],
   "source": [
    "def calc_entropy(column):\n",
    "    counts = np.bincount(column)\n",
    "    probability = counts / len(column)\n",
    "    entropy = 0\n",
    "    for prob in probability:\n",
    "        if prob > 0:\n",
    "            entropy += prob * math.log(prob, 2)\n",
    "    return -entropy"
   ]
  },
  {
   "cell_type": "code",
   "execution_count": 24,
   "metadata": {},
   "outputs": [],
   "source": [
    "medecin_gen.drop(columns= ['Unnamed: 0'],inplace=True)"
   ]
  },
  {
   "cell_type": "code",
   "execution_count": 54,
   "metadata": {},
   "outputs": [
    {
     "data": {
      "text/plain": [
       "Index(['Doctor Name', 'Specialty', 'card_0', 'card_3', 'card_4', 'Latitude',\n",
       "       'Longitude', 'Skills Processed', 'RPPS', 'Nb Skills', 'moyens_paiement',\n",
       "       'carte_vitale', 'secteur', 'Présentation', 'Langues parlées',\n",
       "       'Diplômes nationaux et universitaires', 'Autres formations',\n",
       "       'Expériences', 'Travaux et publications', 'Prix et distinctions',\n",
       "       'site', 'Site web', 'Formations',\n",
       "       'Diplômes nationaux et universitaires b', 'Nb caractères présentation',\n",
       "       'Autres formations b', 'Nb langues', 'Expériences b', 'Carac_card_1',\n",
       "       'Transport', 'Parking', 'Infos', 'Coordonnées', 'Sans RDV',\n",
       "       'nb terms card_0', 'nb terms card_3', 'nb terms card_4',\n",
       "       'nb carac card_0', 'nb carac card_3', 'nb carac card_4'],\n",
       "      dtype='object')"
      ]
     },
     "execution_count": 54,
     "metadata": {},
     "output_type": "execute_result"
    }
   ],
   "source": [
    "medecin_gen.columns"
   ]
  },
  {
   "cell_type": "code",
   "execution_count": 76,
   "metadata": {},
   "outputs": [
    {
     "name": "stdout",
     "output_type": "stream",
     "text": [
      "{'Nb Skills': 1.9416470146081055, 'moyens_paiement': 0.17203694935311378, 'carte_vitale': 0.17203694935311378, 'secteur': 1.1401156785146092, 'site': 0.7793498372920852, 'Diplômes nationaux et universitaires b': 0.9881108365218301, 'Nb caractères présentation': 5.234120167580196, 'Autres formations b': 0.8904916402194913, 'Travaux et publications b': 0.39124356362925566, 'Nb langues': 1.9516536723433617, 'Expériences b': 0.6193821946787638, 'Carac_card_1': 5.080274013734042, 'Transport': 0.17203694935311378, 'Parking': 0.9881108365218301, 'Infos': -0.0, 'Coordonnées': 0.9881108365218301, 'Sans RDV': -0.0, 'Formations b': 0.9182958340544896, 'nb terms card_0': 2.955232570939141, 'nb terms card_3': 2.40262695595726, 'nb terms card_4': 3.420554630318644, 'nb carac card_0': 2.955232570939141, 'nb carac card_3': 2.40262695595726, 'nb carac card_4': 3.420554630318644}\n"
     ]
    }
   ],
   "source": [
    "liste_var = ['Nb Skills', 'moyens_paiement',\n",
    "       'carte_vitale', 'secteur',\n",
    "       'site',\n",
    "       'Diplômes nationaux et universitaires b', 'Nb caractères présentation',\n",
    "       'Autres formations b','Travaux et publications b','Nb langues', 'Expériences b', 'Carac_card_1',\n",
    "       'Transport', 'Parking', 'Infos', 'Coordonnées', 'Sans RDV', 'Formations b',\n",
    "       'nb terms card_0', 'nb terms card_3', 'nb terms card_4',\n",
    "       'nb carac card_0', 'nb carac card_3', 'nb carac card_4']\n",
    "entropy={}\n",
    "for nom_colonne in liste_var : \n",
    "    entropy[nom_colonne]=calc_entropy(medecin_gen[nom_colonne])\n",
    "print(entropy)"
   ]
  }
 ],
 "metadata": {
  "kernelspec": {
   "display_name": "base",
   "language": "python",
   "name": "python3"
  },
  "language_info": {
   "codemirror_mode": {
    "name": "ipython",
    "version": 3
   },
   "file_extension": ".py",
   "mimetype": "text/x-python",
   "name": "python",
   "nbconvert_exporter": "python",
   "pygments_lexer": "ipython3",
   "version": "3.11.4"
  }
 },
 "nbformat": 4,
 "nbformat_minor": 2
}
