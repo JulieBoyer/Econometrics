{
 "cells": [
  {
   "cell_type": "code",
   "execution_count": 1,
   "metadata": {},
   "outputs": [],
   "source": [
    "import numpy as np\n",
    "from scipy.stats import entropy\n",
    "from math import log, e\n",
    "import pandas as pd\n",
    "import math"
   ]
  },
  {
   "cell_type": "code",
   "execution_count": 2,
   "metadata": {},
   "outputs": [],
   "source": [
    "medecin_gen = pd.read_csv('medecin_gen.csv')"
   ]
  },
  {
   "cell_type": "code",
   "execution_count": 11,
   "metadata": {},
   "outputs": [],
   "source": [
    "def calc_entropy(column):\n",
    "    counts = np.bincount(column)\n",
    "    probability = counts / len(column)\n",
    "    entropy = 0\n",
    "    for prob in probability:\n",
    "        if prob > 0:\n",
    "            entropy += prob * math.log(prob, 2)\n",
    "\n",
    "    n = len(counts)\n",
    "    max_entropy = math.log2(n)  # Entropie maximale\n",
    "\n",
    "    # Normalise l'entropie\n",
    "    normalized_entropy = -entropy / max_entropy if max_entropy > 0 else 0\n",
    "\n",
    "    return normalized_entropy"
   ]
  },
  {
   "cell_type": "code",
   "execution_count": 4,
   "metadata": {},
   "outputs": [],
   "source": [
    "medecin_gen.drop(columns= ['Unnamed: 0'],inplace=True)"
   ]
  },
  {
   "cell_type": "code",
   "execution_count": 12,
   "metadata": {},
   "outputs": [
    {
     "name": "stdout",
     "output_type": "stream",
     "text": [
      "{'Nb Skills': 0.5612618570483375, 'moyens_paiement': 0.17203694935311378, 'carte_vitale': 0.17203694935311378, 'secteur': 0.7193329040881774, 'site': 0.7793498372920852, 'Diplômes nationaux et universitaires b': 0.9881108365218301, 'Nb caractères présentation': 0.44967468197843274, 'Autres formations b': 0.8904916402194913, 'Travaux et publications b': 0.39124356362925566, 'Nb langues': 0.8405314861561367, 'Expériences b': 0.6193821946787638, 'Carac_card_1': 0.6056585055695921, 'Transport': 0.17203694935311378, 'Parking': 0.9881108365218301, 'Infos': -0.0, 'Coordonnées': 0.9881108365218301, 'Sans RDV': 0, 'Formations b': 0.9182958340544896, 'nb terms card_0': 0.6287140667996616, 'nb terms card_3': 0.6701958403955256, 'nb terms card_4': 0.6566052885484794, 'nb carac card_0': 0.31810835043837404, 'nb carac card_3': 0.3466625322728095, 'nb carac card_4': 0.3307771924431801}\n"
     ]
    }
   ],
   "source": [
    "liste_var = ['Nb Skills', 'moyens_paiement',\n",
    "       'carte_vitale', 'secteur',\n",
    "       'site',\n",
    "       'Diplômes nationaux et universitaires b', 'Nb caractères présentation',\n",
    "       'Autres formations b','Travaux et publications b','Nb langues', 'Expériences b', 'Carac_card_1',\n",
    "       'Transport', 'Parking', 'Infos', 'Coordonnées', 'Sans RDV', 'Formations b',\n",
    "       'nb terms card_0', 'nb terms card_3', 'nb terms card_4',\n",
    "       'nb carac card_0', 'nb carac card_3', 'nb carac card_4']\n",
    "entropy={}\n",
    "for nom_colonne in liste_var : \n",
    "    entropy[nom_colonne]=calc_entropy(medecin_gen[nom_colonne])\n",
    "print(entropy)"
   ]
  }
 ],
 "metadata": {
  "kernelspec": {
   "display_name": "base",
   "language": "python",
   "name": "python3"
  },
  "language_info": {
   "codemirror_mode": {
    "name": "ipython",
    "version": 3
   },
   "file_extension": ".py",
   "mimetype": "text/x-python",
   "name": "python",
   "nbconvert_exporter": "python",
   "pygments_lexer": "ipython3",
   "version": "3.11.4"
  }
 },
 "nbformat": 4,
 "nbformat_minor": 2
}
