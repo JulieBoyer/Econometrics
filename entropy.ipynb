{
 "cells": [
  {
   "cell_type": "code",
   "execution_count": 2,
   "metadata": {},
   "outputs": [],
   "source": [
    "import numpy as np\n",
    "from scipy.stats import entropy\n",
    "from math import log, e\n",
    "import pandas as pd\n",
    "import math\n",
    "import matplotlib.pyplot as plt"
   ]
  },
  {
   "cell_type": "code",
   "execution_count": 3,
   "metadata": {},
   "outputs": [],
   "source": [
    "dataFF = pd.read_csv('dataFF.csv')"
   ]
  },
  {
   "cell_type": "code",
   "execution_count": 5,
   "metadata": {},
   "outputs": [],
   "source": [
    "def calc_entropy(column):\n",
    "    counts = np.bincount(column)\n",
    "    probability = counts / len(column)\n",
    "    entropy = 0\n",
    "    for prob in probability:\n",
    "        if prob > 0:\n",
    "            entropy += prob * math.log(prob, 2)\n",
    "\n",
    "    n = len(counts)\n",
    "    max_entropy = math.log2(n)  # Entropie maximale\n",
    "\n",
    "    # Normalise l'entropie\n",
    "    normalized_entropy = -entropy / max_entropy if max_entropy > 0 else 0\n",
    "\n",
    "    return normalized_entropy"
   ]
  },
  {
   "cell_type": "code",
   "execution_count": 6,
   "metadata": {},
   "outputs": [
    {
     "data": {
      "text/plain": [
       "Index(['Unnamed: 0', 'Doctor Name', 'Specialty', 'card_0', 'card_3', 'card_4',\n",
       "       'Latitude', 'Longitude', 'Skills Processed', 'RPPS', 'Nb Skills',\n",
       "       'moyens_paiement', 'carte_vitale', 'secteur', 'Présentation',\n",
       "       'Langues parlées', 'Diplômes nationaux et universitaires',\n",
       "       'Autres formations', 'Expériences', 'Travaux et publications',\n",
       "       'Prix et distinctions', 'site', 'Site web', 'Formations',\n",
       "       'Diplômes nationaux et universitaires b', 'Nb caractères présentation',\n",
       "       'Autres formations b', 'Travaux et publications b', 'Nb langues',\n",
       "       'Expériences b', 'Formations b', 'Carac_card_1', 'Transport', 'Parking',\n",
       "       'Infos', 'Coordonnées', 'Sans RDV', 'nb terms card_0',\n",
       "       'nb terms card_3', 'nb terms card_4', 'nb carac card_0',\n",
       "       'nb carac card_3', 'nb carac card_4', 'APL', 'Fibre', 'identifiantpp',\n",
       "       'code_civilité', 'Nom', 'Prénom', 'RPPS_doc', 'code_geo', 'xcl', 'ycl',\n",
       "       'Nb_doct_2km', 'Nb_doct_8km', 'Nb_doct_30km', 'Nb_doct_f_2km',\n",
       "       'Nb_doct_f_8km', 'Nb_doct_f_30km', 'Nb_doct_D_2km', 'Nb_doct_D_8km',\n",
       "       'Nb_doct_D_30km', 'Nb_doct_f_D_2km', 'Nb_doct_f_D_8km',\n",
       "       'Nb_doct_f_D_30km'],\n",
       "      dtype='object')"
      ]
     },
     "execution_count": 6,
     "metadata": {},
     "output_type": "execute_result"
    }
   ],
   "source": [
    "dataFF.columns"
   ]
  },
  {
   "cell_type": "code",
   "execution_count": 7,
   "metadata": {},
   "outputs": [],
   "source": [
    "dataFF.drop(columns= ['Unnamed: 0'],inplace=True)"
   ]
  },
  {
   "cell_type": "code",
   "execution_count": 8,
   "metadata": {},
   "outputs": [
    {
     "name": "stdout",
     "output_type": "stream",
     "text": [
      "{'Nb Skills': 0.6183050479262006, 'moyens_paiement': 0.15109697051711368, 'carte_vitale': 0.15109697051711368, 'secteur': 0.7232282868003711, 'site': 0.8865408928220899, 'Diplômes nationaux et universitaires b': 0.9876925088958034, 'Nb caractères présentation': 0.44465875952903783, 'Autres formations b': 0.9108783787500366, 'Travaux et publications b': 0.4262286569981449, 'Nb langues': 0.8705256941582558, 'Expériences b': 0.6152538910563409, 'Carac_card_1': 0.6014891141565165, 'Transport': 0.2580186686648155, 'Parking': 0.9945386816500111, 'Infos': -0.0, 'Coordonnées': 0.9986359641585718, 'Formations b': 0.8865408928220899, 'nb terms card_0': 0.6477276757936034, 'nb terms card_3': 0.6682706108136939, 'nb terms card_4': 0.6536016565310085, 'nb carac card_0': 0.3277286024930658, 'nb carac card_3': 0.3456666965456728, 'nb carac card_4': 0.329264056647293, 'APL': 0.5401725999265179}\n"
     ]
    }
   ],
   "source": [
    "liste_var = ['Nb Skills', 'moyens_paiement',\n",
    "       'carte_vitale', 'secteur',\n",
    "       'site',\n",
    "       'Diplômes nationaux et universitaires b', 'Nb caractères présentation',\n",
    "       'Autres formations b','Travaux et publications b','Nb langues', 'Expériences b', 'Carac_card_1',\n",
    "       'Transport', 'Parking', 'Infos', 'Coordonnées', 'Formations b',\n",
    "       'nb terms card_0', 'nb terms card_3', 'nb terms card_4',\n",
    "       'nb carac card_0', 'nb carac card_3', 'nb carac card_4','APL']\n",
    "entropy={}\n",
    "for nom_colonne in liste_var : \n",
    "    entropy[nom_colonne]=calc_entropy(dataFF[nom_colonne])\n",
    "print(entropy)"
   ]
  },
  {
   "cell_type": "code",
   "execution_count": 9,
   "metadata": {},
   "outputs": [],
   "source": [
    "liste_var_descri=['Nb Skills', 'moyens_paiement',\n",
    "       'carte_vitale', 'secteur',\n",
    "       'site',\n",
    "       'Diplômes nationaux et universitaires b', 'Nb caractères présentation',\n",
    "       'Autres formations b','Travaux et publications b','Nb langues', 'Expériences b', 'Carac_card_1',\n",
    "       'Transport', 'Parking', 'Infos', 'Coordonnées', 'Sans RDV', 'Formations b',\n",
    "       'nb terms card_0', 'nb terms card_3', 'nb terms card_4',\n",
    "       'nb carac card_0', 'nb carac card_3', 'nb carac card_4','Nb_doct_2km','Nb_doct_8km','Nb_doct_30km','Nb_doct_f_2km','Nb_doct_f_8km','Nb_doct_f_30km','Nb_doct_D_2km','Nb_doct_D_8km','Nb_doct_D_30km','Nb_doct_f_D_2km','Nb_doct_f_D_8km','Nb_doct_f_D_30km','APL','Fibre']"
   ]
  },
  {
   "cell_type": "code",
   "execution_count": 10,
   "metadata": {},
   "outputs": [
    {
     "name": "stdout",
     "output_type": "stream",
     "text": [
      "       Nb Skills  moyens_paiement  carte_vitale    secteur       site  \\\n",
      "count  46.000000        46.000000     46.000000  46.000000  46.000000   \n",
      "mean    1.565217         0.978261      0.978261   1.195652   0.304348   \n",
      "std     2.544294         0.147442      0.147442   0.542405   0.465215   \n",
      "min     0.000000         0.000000      0.000000   0.000000   0.000000   \n",
      "25%     0.000000         1.000000      1.000000   1.000000   0.000000   \n",
      "50%     0.000000         1.000000      1.000000   1.000000   0.000000   \n",
      "75%     2.000000         1.000000      1.000000   1.750000   1.000000   \n",
      "max    10.000000         1.000000      1.000000   2.000000   1.000000   \n",
      "\n",
      "       Diplômes nationaux et universitaires b  Nb caractères présentation  \\\n",
      "count                               46.000000                   46.000000   \n",
      "mean                                 0.565217                  769.739130   \n",
      "std                                  0.501206                  682.459846   \n",
      "min                                  0.000000                  239.000000   \n",
      "25%                                  0.000000                  314.000000   \n",
      "50%                                  1.000000                  501.000000   \n",
      "75%                                  1.000000                  755.250000   \n",
      "max                                  1.000000                 3190.000000   \n",
      "\n",
      "       Autres formations b  Travaux et publications b  Nb langues  ...  \\\n",
      "count            46.000000                  46.000000   46.000000  ...   \n",
      "mean              0.326087                   0.086957    1.326087  ...   \n",
      "std               0.473960                   0.284885    1.055238  ...   \n",
      "min               0.000000                   0.000000    0.000000  ...   \n",
      "25%               0.000000                   0.000000    1.000000  ...   \n",
      "50%               0.000000                   0.000000    1.000000  ...   \n",
      "75%               1.000000                   0.000000    2.000000  ...   \n",
      "max               1.000000                   1.000000    4.000000  ...   \n",
      "\n",
      "       Nb_doct_f_8km  Nb_doct_f_30km  Nb_doct_D_2km  Nb_doct_D_8km  \\\n",
      "count      46.000000       46.000000      46.000000      46.000000   \n",
      "mean        0.097090        0.101600       0.001160       0.001167   \n",
      "std         0.079653        0.075169       0.000966       0.000958   \n",
      "min         0.000926        0.001910       0.000003       0.000003   \n",
      "25%         0.006364        0.017192       0.000041       0.000077   \n",
      "50%         0.145352        0.145352       0.001747       0.001747   \n",
      "75%         0.145352        0.145352       0.001747       0.001747   \n",
      "max         0.290705        0.290705       0.003493       0.003493   \n",
      "\n",
      "       Nb_doct_D_30km  Nb_doct_f_D_2km  Nb_doct_f_D_8km  Nb_doct_f_D_30km  \\\n",
      "count       46.000000        46.000000        46.000000         46.000000   \n",
      "mean         0.001172         0.000375         0.192865          0.201580   \n",
      "std          0.000952         0.000308         0.158440          0.149641   \n",
      "min          0.000003         0.000000         0.002023          0.003950   \n",
      "25%          0.000100         0.000017         0.012548          0.034766   \n",
      "50%          0.001747         0.000561         0.288896          0.288896   \n",
      "75%          0.001747         0.000561         0.288896          0.288896   \n",
      "max          0.003493         0.001123         0.577792          0.577792   \n",
      "\n",
      "             APL      Fibre  \n",
      "count  46.000000  46.000000  \n",
      "mean    3.645404   0.966571  \n",
      "std     0.828542   0.042944  \n",
      "min     1.975000   0.717700  \n",
      "25%     2.977000   0.978945  \n",
      "50%     4.150400   0.978945  \n",
      "75%     4.150400   0.978945  \n",
      "max     4.561000   0.987582  \n",
      "\n",
      "[8 rows x 38 columns]\n"
     ]
    }
   ],
   "source": [
    "print(dataFF[liste_var_descri].describe())"
   ]
  },
  {
   "cell_type": "code",
   "execution_count": 11,
   "metadata": {},
   "outputs": [
    {
     "data": {
      "text/plain": [
       "<matplotlib.collections.PathCollection at 0x120be6bd0>"
      ]
     },
     "execution_count": 11,
     "metadata": {},
     "output_type": "execute_result"
    },
    {
     "data": {
      "image/png": "[encoded data removed]",
      "text/plain": [
       "<Figure size 640x480 with 1 Axes>"
      ]
     },
     "metadata": {},
     "output_type": "display_data"
    }
   ],
   "source": [
    "plt.scatter(dataFF['Nb Skills'],dataFF['Nb caractères présentation'])"
   ]
  },
  {
   "cell_type": "markdown",
   "metadata": {},
   "source": [
    "# Version normalisée :"
   ]
  },
  {
   "cell_type": "code",
   "execution_count": 13,
   "metadata": {},
   "outputs": [],
   "source": [
    "def normalize_dataframe(df):\n",
    "    normalized_df = (df - df.min()) / (df.max() - df.min())\n",
    "    return normalized_df\n",
    "\n",
    "dataFF_red = dataFF[liste_var_descri]\n",
    "dataFF_red_norm = normalize_dataframe(dataFF_red)"
   ]
  },
  {
   "cell_type": "code",
   "execution_count": 14,
   "metadata": {},
   "outputs": [
    {
     "name": "stdout",
     "output_type": "stream",
     "text": [
      "       Nb Skills  moyens_paiement  carte_vitale    secteur       site  \\\n",
      "count  46.000000        46.000000     46.000000  46.000000  46.000000   \n",
      "mean    0.156522         0.978261      0.978261   0.597826   0.304348   \n",
      "std     0.254429         0.147442      0.147442   0.271202   0.465215   \n",
      "min     0.000000         0.000000      0.000000   0.000000   0.000000   \n",
      "25%     0.000000         1.000000      1.000000   0.500000   0.000000   \n",
      "50%     0.000000         1.000000      1.000000   0.500000   0.000000   \n",
      "75%     0.200000         1.000000      1.000000   0.875000   1.000000   \n",
      "max     1.000000         1.000000      1.000000   1.000000   1.000000   \n",
      "\n",
      "       Diplômes nationaux et universitaires b  Nb caractères présentation  \\\n",
      "count                               46.000000                   46.000000   \n",
      "mean                                 0.565217                    0.179851   \n",
      "std                                  0.501206                    0.231264   \n",
      "min                                  0.000000                    0.000000   \n",
      "25%                                  0.000000                    0.025415   \n",
      "50%                                  1.000000                    0.088783   \n",
      "75%                                  1.000000                    0.174941   \n",
      "max                                  1.000000                    1.000000   \n",
      "\n",
      "       Autres formations b  Travaux et publications b  Nb langues  ...  \\\n",
      "count            46.000000                  46.000000   46.000000  ...   \n",
      "mean              0.326087                   0.086957    0.331522  ...   \n",
      "std               0.473960                   0.284885    0.263809  ...   \n",
      "min               0.000000                   0.000000    0.000000  ...   \n",
      "25%               0.000000                   0.000000    0.250000  ...   \n",
      "50%               0.000000                   0.000000    0.250000  ...   \n",
      "75%               1.000000                   0.000000    0.500000  ...   \n",
      "max               1.000000                   1.000000    1.000000  ...   \n",
      "\n",
      "       Nb_doct_f_8km  Nb_doct_f_30km  Nb_doct_D_2km  Nb_doct_D_8km  \\\n",
      "count      46.000000       46.000000      46.000000      46.000000   \n",
      "mean        0.331854        0.345194       0.331382       0.333418   \n",
      "std         0.274875        0.260285       0.276830       0.274452   \n",
      "min         0.000000        0.000000       0.000000       0.000000   \n",
      "25%         0.018766        0.052918       0.010888       0.021275   \n",
      "50%         0.498401        0.496691       0.499713       0.499713   \n",
      "75%         0.498401        0.496691       0.499713       0.499713   \n",
      "max         1.000000        1.000000       1.000000       1.000000   \n",
      "\n",
      "       Nb_doct_D_30km  Nb_doct_f_D_2km  Nb_doct_f_D_8km  Nb_doct_f_D_30km  \\\n",
      "count       46.000000        46.000000        46.000000         46.000000   \n",
      "mean         0.335007         0.333501         0.331456          0.344398   \n",
      "std          0.272763         0.274432         0.275179          0.260770   \n",
      "min          0.000000         0.000000         0.000000          0.000000   \n",
      "25%          0.027865         0.015138         0.018280          0.053701   \n",
      "50%          0.499713         0.499555         0.498243          0.496558   \n",
      "75%          0.499713         0.499555         0.498243          0.496558   \n",
      "max          1.000000         1.000000         1.000000          1.000000   \n",
      "\n",
      "             APL      Fibre  \n",
      "count  46.000000  46.000000  \n",
      "mean    0.645941   0.922150  \n",
      "std     0.320395   0.159123  \n",
      "min     0.000000   0.000000  \n",
      "25%     0.387471   0.967998  \n",
      "50%     0.841222   0.967998  \n",
      "75%     0.841222   0.967998  \n",
      "max     1.000000   1.000000  \n",
      "\n",
      "[8 rows x 38 columns]\n"
     ]
    }
   ],
   "source": [
    "print(dataFF_red_norm.describe())"
   ]
  }
 ],
 "metadata": {
  "kernelspec": {
   "display_name": "base",
   "language": "python",
   "name": "python3"
  },
  "language_info": {
   "codemirror_mode": {
    "name": "ipython",
    "version": 3
   },
   "file_extension": ".py",
   "mimetype": "text/x-python",
   "name": "python",
   "nbconvert_exporter": "python",
   "pygments_lexer": "ipython3",
   "version": "3.11.4"
  }
 },
 "nbformat": 4,
 "nbformat_minor": 2
}
