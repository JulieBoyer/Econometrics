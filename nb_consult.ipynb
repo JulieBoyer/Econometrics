{
 "cells": [
  {
   "cell_type": "code",
   "execution_count": null,
   "metadata": {},
   "outputs": [],
   "source": [
    "import pandas as pd\n",
    "import matplotlib.pyplot as plt"
   ]
  },
  {
   "cell_type": "code",
   "execution_count": null,
   "metadata": {},
   "outputs": [],
   "source": [
    "municipality = pd.read_csv('data/municipality_generalist.csv', sep=';')\n",
    "medecin_gen = pd.read_csv('medecin_gen.csv')"
   ]
  },
  {
   "cell_type": "code",
   "execution_count": null,
   "metadata": {},
   "outputs": [],
   "source": [
    "municipality=municipality.iloc[99:]\n",
    "municipality.reset_index(inplace=True)\n",
    "municipality.head()"
   ]
  },
  {
   "cell_type": "code",
   "execution_count": null,
   "metadata": {},
   "outputs": [],
   "source": [
    "plt.scatter([2008,2009,2010,2011,2012,2013,2014,2015,2016,2017,2018,2019,2020,2021,2022,2023],municipality[['gene_nbr2008','gene_nbr2009','gene_nbr2010','gene_nbr2011','gene_nbr2012','gene_nbr2013','gene_nbr2014','gene_nbr2015','gene_nbr2016','gene_nbr2017','gene_nbr2018','gene_nbr2019','gene_nbr2020','gene_nbr2021','gene_nbr2022','gene_nbr2023']].iloc[1])"
   ]
  },
  {
   "cell_type": "code",
   "execution_count": null,
   "metadata": {},
   "outputs": [],
   "source": [
    "plt.scatter([2008,2009,2010,2011,2012,2013,2014,2015,2016,2017,2018,2019,2020,2021,2022,2023],municipality[['gene_nbr2008','gene_nbr2009','gene_nbr2010','gene_nbr2011','gene_nbr2012','gene_nbr2013','gene_nbr2014','gene_nbr2015','gene_nbr2016','gene_nbr2017','gene_nbr2018','gene_nbr2019','gene_nbr2020','gene_nbr2021','gene_nbr2022','gene_nbr2023']].iloc[0])"
   ]
  },
  {
   "cell_type": "code",
   "execution_count": null,
   "metadata": {},
   "outputs": [],
   "source": [
    "municipality['gene_nbr2023'].isnull().sum()"
   ]
  },
  {
   "cell_type": "code",
   "execution_count": null,
   "metadata": {},
   "outputs": [],
   "source": [
    "nbligne = municipality.shape[0]\n",
    "Consul2023=municipality['gene_nbr2023'].isnull()\n",
    "municipality.loc[:,'nbConsult']=0\n",
    "for i in range (nbligne):\n",
    "   annee = 2023\n",
    "   while municipality['gene_nbr'+str(annee)].isnull().iloc[i] and annee>2008:\n",
    "       annee = annee-1\n",
    "   municipality.loc[i,'nbConsult']=municipality['gene_nbr'+str(annee)].iloc[i]\n",
    "   #print(municipality['gene_nbr'+str(annee)].iloc[i])\n",
    "municipality['nbConsult'].head()"
   ]
  },
  {
   "cell_type": "code",
   "execution_count": null,
   "metadata": {},
   "outputs": [],
   "source": [
    "print(municipality['nbConsult'].isnull().sum(), municipality.shape)"
   ]
  },
  {
   "cell_type": "code",
   "execution_count": null,
   "metadata": {},
   "outputs": [],
   "source": [
    "def remove_spaces_from_column(df, column_name):\n",
    "   # Vérifier si la colonne existe et est de type 'object' (chaine de caractères)\n",
    "   if column_name in df.columns and df[column_name].dtype == 'object':\n",
    "       return df[column_name].str.replace(' ', '', regex=False)\n",
    "   else:\n",
    "       raise ValueError(f\"La colonne {column_name} n'existe pas ou n'est pas de type chaîne.\")"
   ]
  },
  {
   "cell_type": "code",
   "execution_count": null,
   "metadata": {},
   "outputs": [],
   "source": [
    "municipality['CodeCommune'] = remove_spaces_from_column(municipality, 'Commune_cod')"
   ]
  },
  {
   "cell_type": "code",
   "execution_count": null,
   "metadata": {},
   "outputs": [],
   "source": [
    "small_municipality = municipality[['CodeCommune','Dep','nbConsult']]"
   ]
  },
  {
   "cell_type": "code",
   "execution_count": null,
   "metadata": {},
   "outputs": [],
   "source": [
    "#type(small_municipality['Commune_cod'].iloc[0])\n",
    "medecin_gen['codecommunecoordstructure3']=medecin_gen['codecommunecoordstructure3'].astype('str')"
   ]
  },
  {
   "cell_type": "code",
   "execution_count": null,
   "metadata": {},
   "outputs": [],
   "source": [
    "data_m = medecin_gen.merge(small_municipality, left_on='codecommunecoordstructure3',right_on='CodeCommune',how='inner')"
   ]
  },
  {
   "cell_type": "code",
   "execution_count": null,
   "metadata": {},
   "outputs": [],
   "source": [
    "df_outer = pd.merge(medecin_gen, small_municipality, left_on='codecommunecoordstructure3',right_on='CodeCommune', how='outer', indicator=True)\n",
    "print(\"\\nRésultat de la jointure OUTER avec l'indicateur d'origine:\")\n",
    "print(df_outer)"
   ]
  },
  {
   "cell_type": "code",
   "execution_count": null,
   "metadata": {},
   "outputs": [],
   "source": [
    "# Filtrer les lignes où la clé ne match pas (présent uniquement dans df1 ou df2)\n",
    "non_matched_in_df1 = df_outer[df_outer['_merge'] == 'left_only']\n",
    "non_matched_in_df2 = df_outer[df_outer['_merge'] == 'right_only']"
   ]
  },
  {
   "cell_type": "code",
   "execution_count": null,
   "metadata": {},
   "outputs": [],
   "source": [
    "print(\"\\nValeurs présentes uniquement dans df1:\")\n",
    "print(non_matched_in_df1)"
   ]
  },
  {
   "cell_type": "code",
   "execution_count": null,
   "metadata": {},
   "outputs": [],
   "source": [
    "print(\"\\nValeurs présentes uniquement dans df2:\")\n",
    "print(non_matched_in_df2)"
   ]
  },
  {
   "cell_type": "code",
   "execution_count": null,
   "metadata": {},
   "outputs": [],
   "source": [
    "municipality[municipality['Commune_cod'].str.startswith('3823')]"
   ]
  }
 ],
 "metadata": {
  "kernelspec": {
   "display_name": "base",
   "language": "python",
   "name": "python3"
  },
  "language_info": {
   "name": "python",
   "version": "3.12.2"
  }
 },
 "nbformat": 4,
 "nbformat_minor": 2
}
